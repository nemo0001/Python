{
  "nbformat": 4,
  "nbformat_minor": 0,
  "metadata": {
    "colab": {
      "name": "Untitled6.ipynb",
      "provenance": [],
      "include_colab_link": true
    },
    "kernelspec": {
      "name": "python3",
      "display_name": "Python 3"
    }
  },
  "cells": [
    {
      "cell_type": "markdown",
      "metadata": {
        "id": "view-in-github",
        "colab_type": "text"
      },
      "source": [
        "<a href=\"https://colab.research.google.com/github/nemo0001/Python/blob/master/cardio_NN_FE.ipynb\" target=\"_parent\"><img src=\"https://colab.research.google.com/assets/colab-badge.svg\" alt=\"Open In Colab\"/></a>"
      ]
    },
    {
      "cell_type": "code",
      "metadata": {
        "colab": {
          "resources": {
            "http://localhost:8080/nbextensions/google.colab/files.js": {
              "data": "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",
              "ok": true,
              "headers": [
                [
                  "content-type",
                  "application/javascript"
                ]
              ],
              "status": 200,
              "status_text": ""
            }
          },
          "base_uri": "https://localhost:8080/",
          "height": 91
        },
        "id": "eILh0uwLw6SH",
        "outputId": "15fac3f2-d15d-4d2f-87d6-ec8ef551a7fc"
      },
      "source": [
        "#getting the data from PC\n",
        "\n",
        "from google.colab import files\n",
        "\n",
        "uploaded = files.upload()\n",
        "\n",
        "for fn in uploaded.keys():\n",
        "  print('User uploaded file \"{name}\" with length {length} bytes'.format(\n",
        "      name=fn, length=len(uploaded[fn])))"
      ],
      "execution_count": 1,
      "outputs": [
        {
          "output_type": "display_data",
          "data": {
            "text/html": [
              "\n",
              "     <input type=\"file\" id=\"files-15627b25-474e-489c-ae7c-70dd180d550d\" name=\"files[]\" multiple disabled\n",
              "        style=\"border:none\" />\n",
              "     <output id=\"result-15627b25-474e-489c-ae7c-70dd180d550d\">\n",
              "      Upload widget is only available when the cell has been executed in the\n",
              "      current browser session. Please rerun this cell to enable.\n",
              "      </output>\n",
              "      <script src=\"/nbextensions/google.colab/files.js\"></script> "
            ],
            "text/plain": [
              "<IPython.core.display.HTML object>"
            ]
          },
          "metadata": {
            "tags": []
          }
        },
        {
          "output_type": "stream",
          "text": [
            "Saving cardio_train.csv to cardio_train.csv\n",
            "User uploaded file \"cardio_train.csv\" with length 2941524 bytes\n"
          ],
          "name": "stdout"
        }
      ]
    },
    {
      "cell_type": "markdown",
      "metadata": {
        "id": "IMLKHvPh85Ah"
      },
      "source": [
        "###Importing Libraries"
      ]
    },
    {
      "cell_type": "code",
      "metadata": {
        "id": "SUMwJuiy1W8o"
      },
      "source": [
        "import numpy as np \n",
        "import pandas as pd \n",
        "from keras.wrappers.scikit_learn import KerasClassifier\n",
        "from sklearn.model_selection import train_test_split, cross_val_score, RepeatedKFold\n",
        "from sklearn.preprocessing import StandardScaler\n",
        "from keras.optimizers import *\n",
        "from keras.initializers import *\n",
        "from keras.models import *\n",
        "from keras.layers import *\n",
        "from keras.callbacks import EarlyStopping\n",
        "from sklearn.metrics import confusion_matrix, roc_curve, roc_auc_score\n",
        "\n",
        "# from keras.models import Sequential   # Type of neural network that will be used\n",
        "# from keras.layers import Dense   # Dense layers for the neural network\n",
        "# from keras.layers import Dropout   # Dropout in case we want to prevent overfitting, use after seeing results without\n",
        "# from keras import optimizers   # Adam optimizer will be used"
      ],
      "execution_count": 2,
      "outputs": []
    },
    {
      "cell_type": "markdown",
      "metadata": {
        "id": "-mHJv8sc9A6U"
      },
      "source": [
        "###Data Processing & Cleaning"
      ]
    },
    {
      "cell_type": "code",
      "metadata": {
        "colab": {
          "base_uri": "https://localhost:8080/",
          "height": 197
        },
        "id": "2IYFB_wcxfOg",
        "outputId": "c92bd220-9d01-4c4b-8045-833e997bf957"
      },
      "source": [
        "data_raw=pd.read_csv(\"cardio_train.csv\",sep=\";\")\n",
        "data_raw.drop('id',axis=1,inplace=True)\n",
        "data_raw.head()"
      ],
      "execution_count": 3,
      "outputs": [
        {
          "output_type": "execute_result",
          "data": {
            "text/html": [
              "<div>\n",
              "<style scoped>\n",
              "    .dataframe tbody tr th:only-of-type {\n",
              "        vertical-align: middle;\n",
              "    }\n",
              "\n",
              "    .dataframe tbody tr th {\n",
              "        vertical-align: top;\n",
              "    }\n",
              "\n",
              "    .dataframe thead th {\n",
              "        text-align: right;\n",
              "    }\n",
              "</style>\n",
              "<table border=\"1\" class=\"dataframe\">\n",
              "  <thead>\n",
              "    <tr style=\"text-align: right;\">\n",
              "      <th></th>\n",
              "      <th>age</th>\n",
              "      <th>gender</th>\n",
              "      <th>height</th>\n",
              "      <th>weight</th>\n",
              "      <th>ap_hi</th>\n",
              "      <th>ap_lo</th>\n",
              "      <th>cholesterol</th>\n",
              "      <th>gluc</th>\n",
              "      <th>smoke</th>\n",
              "      <th>alco</th>\n",
              "      <th>active</th>\n",
              "      <th>cardio</th>\n",
              "    </tr>\n",
              "  </thead>\n",
              "  <tbody>\n",
              "    <tr>\n",
              "      <th>0</th>\n",
              "      <td>18393</td>\n",
              "      <td>2</td>\n",
              "      <td>168</td>\n",
              "      <td>62.0</td>\n",
              "      <td>110</td>\n",
              "      <td>80</td>\n",
              "      <td>1</td>\n",
              "      <td>1</td>\n",
              "      <td>0</td>\n",
              "      <td>0</td>\n",
              "      <td>1</td>\n",
              "      <td>0</td>\n",
              "    </tr>\n",
              "    <tr>\n",
              "      <th>1</th>\n",
              "      <td>20228</td>\n",
              "      <td>1</td>\n",
              "      <td>156</td>\n",
              "      <td>85.0</td>\n",
              "      <td>140</td>\n",
              "      <td>90</td>\n",
              "      <td>3</td>\n",
              "      <td>1</td>\n",
              "      <td>0</td>\n",
              "      <td>0</td>\n",
              "      <td>1</td>\n",
              "      <td>1</td>\n",
              "    </tr>\n",
              "    <tr>\n",
              "      <th>2</th>\n",
              "      <td>18857</td>\n",
              "      <td>1</td>\n",
              "      <td>165</td>\n",
              "      <td>64.0</td>\n",
              "      <td>130</td>\n",
              "      <td>70</td>\n",
              "      <td>3</td>\n",
              "      <td>1</td>\n",
              "      <td>0</td>\n",
              "      <td>0</td>\n",
              "      <td>0</td>\n",
              "      <td>1</td>\n",
              "    </tr>\n",
              "    <tr>\n",
              "      <th>3</th>\n",
              "      <td>17623</td>\n",
              "      <td>2</td>\n",
              "      <td>169</td>\n",
              "      <td>82.0</td>\n",
              "      <td>150</td>\n",
              "      <td>100</td>\n",
              "      <td>1</td>\n",
              "      <td>1</td>\n",
              "      <td>0</td>\n",
              "      <td>0</td>\n",
              "      <td>1</td>\n",
              "      <td>1</td>\n",
              "    </tr>\n",
              "    <tr>\n",
              "      <th>4</th>\n",
              "      <td>17474</td>\n",
              "      <td>1</td>\n",
              "      <td>156</td>\n",
              "      <td>56.0</td>\n",
              "      <td>100</td>\n",
              "      <td>60</td>\n",
              "      <td>1</td>\n",
              "      <td>1</td>\n",
              "      <td>0</td>\n",
              "      <td>0</td>\n",
              "      <td>0</td>\n",
              "      <td>0</td>\n",
              "    </tr>\n",
              "  </tbody>\n",
              "</table>\n",
              "</div>"
            ],
            "text/plain": [
              "     age  gender  height  weight  ap_hi  ...  gluc  smoke  alco  active  cardio\n",
              "0  18393       2     168    62.0    110  ...     1      0     0       1       0\n",
              "1  20228       1     156    85.0    140  ...     1      0     0       1       1\n",
              "2  18857       1     165    64.0    130  ...     1      0     0       0       1\n",
              "3  17623       2     169    82.0    150  ...     1      0     0       1       1\n",
              "4  17474       1     156    56.0    100  ...     1      0     0       0       0\n",
              "\n",
              "[5 rows x 12 columns]"
            ]
          },
          "metadata": {
            "tags": []
          },
          "execution_count": 3
        }
      ]
    },
    {
      "cell_type": "code",
      "metadata": {
        "id": "M3LrGTKqxjnP"
      },
      "source": [
        "\n",
        "data_raw.drop_duplicates(inplace=True)"
      ],
      "execution_count": 4,
      "outputs": []
    },
    {
      "cell_type": "code",
      "metadata": {
        "colab": {
          "base_uri": "https://localhost:8080/",
          "height": 197
        },
        "id": "Ksyw4XHAzS7p",
        "outputId": "3d78ea4f-f8e2-4864-dd4e-2cfc3fc3e726"
      },
      "source": [
        "x = data_raw.copy(deep=True)\n",
        "\n",
        "#removing outliers\n",
        "out_filter = ((x[\"ap_hi\"]>250) | (x[\"ap_lo\"]>200) )\n",
        "x = x[~out_filter]\n",
        "#Higher diastolic than systolic blood pressure is impossible, too. So let's remove these.\n",
        "x.drop(x[x[\"ap_lo\"] > x[\"ap_hi\"]].index, inplace=True)\n",
        "x.drop(x[x[\"ap_lo\"] <= 30].index, inplace=True)\n",
        "x.drop(x[x[\"ap_hi\"] <= 40].index, inplace=True)\n",
        "x.drop(x[x[\"ap_lo\"] >= 200].index, inplace=True)\n",
        "x.drop(x[x[\"ap_hi\"] >= 250].index, inplace=True)\n",
        "\n",
        "#Calculating BMI\n",
        "def bmi_calc(w, h):\n",
        "    return w/(h**2)\n",
        "x[\"bmi\"] = x[\"weight\"]/ (x[\"height\"]/100)**2\n",
        "\n",
        "#Calculating Diff between systolic and diastolic :pulse pressure\n",
        "x[\"BP_diff\"]=x[\"ap_hi\"]-x[\"ap_lo\"]\n",
        "\n",
        "x[\"gender\"] = x[\"gender\"] % 2\n",
        "\n",
        "x.head()"
      ],
      "execution_count": 5,
      "outputs": [
        {
          "output_type": "execute_result",
          "data": {
            "text/html": [
              "<div>\n",
              "<style scoped>\n",
              "    .dataframe tbody tr th:only-of-type {\n",
              "        vertical-align: middle;\n",
              "    }\n",
              "\n",
              "    .dataframe tbody tr th {\n",
              "        vertical-align: top;\n",
              "    }\n",
              "\n",
              "    .dataframe thead th {\n",
              "        text-align: right;\n",
              "    }\n",
              "</style>\n",
              "<table border=\"1\" class=\"dataframe\">\n",
              "  <thead>\n",
              "    <tr style=\"text-align: right;\">\n",
              "      <th></th>\n",
              "      <th>age</th>\n",
              "      <th>gender</th>\n",
              "      <th>height</th>\n",
              "      <th>weight</th>\n",
              "      <th>ap_hi</th>\n",
              "      <th>ap_lo</th>\n",
              "      <th>cholesterol</th>\n",
              "      <th>gluc</th>\n",
              "      <th>smoke</th>\n",
              "      <th>alco</th>\n",
              "      <th>active</th>\n",
              "      <th>cardio</th>\n",
              "      <th>bmi</th>\n",
              "      <th>BP_diff</th>\n",
              "    </tr>\n",
              "  </thead>\n",
              "  <tbody>\n",
              "    <tr>\n",
              "      <th>0</th>\n",
              "      <td>18393</td>\n",
              "      <td>0</td>\n",
              "      <td>168</td>\n",
              "      <td>62.0</td>\n",
              "      <td>110</td>\n",
              "      <td>80</td>\n",
              "      <td>1</td>\n",
              "      <td>1</td>\n",
              "      <td>0</td>\n",
              "      <td>0</td>\n",
              "      <td>1</td>\n",
              "      <td>0</td>\n",
              "      <td>21.967120</td>\n",
              "      <td>30</td>\n",
              "    </tr>\n",
              "    <tr>\n",
              "      <th>1</th>\n",
              "      <td>20228</td>\n",
              "      <td>1</td>\n",
              "      <td>156</td>\n",
              "      <td>85.0</td>\n",
              "      <td>140</td>\n",
              "      <td>90</td>\n",
              "      <td>3</td>\n",
              "      <td>1</td>\n",
              "      <td>0</td>\n",
              "      <td>0</td>\n",
              "      <td>1</td>\n",
              "      <td>1</td>\n",
              "      <td>34.927679</td>\n",
              "      <td>50</td>\n",
              "    </tr>\n",
              "    <tr>\n",
              "      <th>2</th>\n",
              "      <td>18857</td>\n",
              "      <td>1</td>\n",
              "      <td>165</td>\n",
              "      <td>64.0</td>\n",
              "      <td>130</td>\n",
              "      <td>70</td>\n",
              "      <td>3</td>\n",
              "      <td>1</td>\n",
              "      <td>0</td>\n",
              "      <td>0</td>\n",
              "      <td>0</td>\n",
              "      <td>1</td>\n",
              "      <td>23.507805</td>\n",
              "      <td>60</td>\n",
              "    </tr>\n",
              "    <tr>\n",
              "      <th>3</th>\n",
              "      <td>17623</td>\n",
              "      <td>0</td>\n",
              "      <td>169</td>\n",
              "      <td>82.0</td>\n",
              "      <td>150</td>\n",
              "      <td>100</td>\n",
              "      <td>1</td>\n",
              "      <td>1</td>\n",
              "      <td>0</td>\n",
              "      <td>0</td>\n",
              "      <td>1</td>\n",
              "      <td>1</td>\n",
              "      <td>28.710479</td>\n",
              "      <td>50</td>\n",
              "    </tr>\n",
              "    <tr>\n",
              "      <th>4</th>\n",
              "      <td>17474</td>\n",
              "      <td>1</td>\n",
              "      <td>156</td>\n",
              "      <td>56.0</td>\n",
              "      <td>100</td>\n",
              "      <td>60</td>\n",
              "      <td>1</td>\n",
              "      <td>1</td>\n",
              "      <td>0</td>\n",
              "      <td>0</td>\n",
              "      <td>0</td>\n",
              "      <td>0</td>\n",
              "      <td>23.011177</td>\n",
              "      <td>40</td>\n",
              "    </tr>\n",
              "  </tbody>\n",
              "</table>\n",
              "</div>"
            ],
            "text/plain": [
              "     age  gender  height  weight  ...  active  cardio        bmi  BP_diff\n",
              "0  18393       0     168    62.0  ...       1       0  21.967120       30\n",
              "1  20228       1     156    85.0  ...       1       1  34.927679       50\n",
              "2  18857       1     165    64.0  ...       0       1  23.507805       60\n",
              "3  17623       0     169    82.0  ...       1       1  28.710479       50\n",
              "4  17474       1     156    56.0  ...       0       0  23.011177       40\n",
              "\n",
              "[5 rows x 14 columns]"
            ]
          },
          "metadata": {
            "tags": []
          },
          "execution_count": 5
        }
      ]
    },
    {
      "cell_type": "code",
      "metadata": {
        "id": "qz-8nvAj1Hst"
      },
      "source": [
        "Y = x['cardio']\n",
        "X = x.drop('cardio',axis=1)\n",
        "\n",
        "#Dropping Irrelavant features\n",
        "X.drop([\"smoke\"], axis=1,inplace=True)\n",
        "X.drop([\"alco\"], axis=1,inplace=True)\n",
        "X.drop([\"height\"], axis=1,inplace=True)"
      ],
      "execution_count": 6,
      "outputs": []
    },
    {
      "cell_type": "code",
      "metadata": {
        "id": "TYq9xiqPxksa"
      },
      "source": [
        "\n",
        "x_train, x_test, y_train, y_test = train_test_split(X, Y, test_size=0.2, shuffle=True)\n",
        "# s = StandardScaler()\n",
        "# x_train = s.fit_transform(x_train)\n",
        "# x_test = s.transform(x_test)\n",
        "\n",
        "# Split train set in train and validation set:\n",
        "x_train, x_valid, y_train, y_valid = train_test_split(x_train, y_train, test_size=0.2, shuffle=True)"
      ],
      "execution_count": 7,
      "outputs": []
    },
    {
      "cell_type": "code",
      "metadata": {
        "colab": {
          "base_uri": "https://localhost:8080/"
        },
        "id": "k2iXfp3Y6Xjo",
        "outputId": "8d224fc6-8217-4177-e498-e596f9395774"
      },
      "source": [
        "model = Sequential()\n",
        "\n",
        "model.add(Dense(32, input_dim=x_train.shape[1], activation='relu'))\n",
        "model.add(Dense(1, activation='sigmoid'))\n",
        "\n",
        "model.summary()"
      ],
      "execution_count": 8,
      "outputs": [
        {
          "output_type": "stream",
          "text": [
            "Model: \"sequential\"\n",
            "_________________________________________________________________\n",
            "Layer (type)                 Output Shape              Param #   \n",
            "=================================================================\n",
            "dense (Dense)                (None, 32)                352       \n",
            "_________________________________________________________________\n",
            "dense_1 (Dense)              (None, 1)                 33        \n",
            "=================================================================\n",
            "Total params: 385\n",
            "Trainable params: 385\n",
            "Non-trainable params: 0\n",
            "_________________________________________________________________\n"
          ],
          "name": "stdout"
        }
      ]
    },
    {
      "cell_type": "code",
      "metadata": {
        "colab": {
          "base_uri": "https://localhost:8080/"
        },
        "id": "rgNAjgE-6na5",
        "outputId": "4a994769-143f-4ee7-bf04-edb19fc46bc5"
      },
      "source": [
        "from sklearn import metrics   # Allows us to view accuracy and other such values\n",
        "from keras import optimizers   # Adam optimizer will be used\n",
        "\n",
        "opt = optimizers.Adam(lr=0.001)\n",
        "model.compile(loss='binary_crossentropy', optimizer=opt, metrics=['accuracy'])\n",
        "nn = model.fit(x_train, y_train, epochs=100, validation_data=(x_valid, y_valid), batch_size=10)"
      ],
      "execution_count": 9,
      "outputs": [
        {
          "output_type": "stream",
          "text": [
            "Epoch 1/100\n",
            "4394/4394 [==============================] - 5s 1ms/step - loss: 8.2916 - accuracy: 0.5151 - val_loss: 1.4594 - val_accuracy: 0.6097\n",
            "Epoch 2/100\n",
            "4394/4394 [==============================] - 6s 1ms/step - loss: 5.3635 - accuracy: 0.5308 - val_loss: 7.9014 - val_accuracy: 0.4913\n",
            "Epoch 3/100\n",
            "4394/4394 [==============================] - 6s 1ms/step - loss: 5.0369 - accuracy: 0.5350 - val_loss: 1.8270 - val_accuracy: 0.5180\n",
            "Epoch 4/100\n",
            "4394/4394 [==============================] - 5s 1ms/step - loss: 5.0624 - accuracy: 0.5358 - val_loss: 1.7038 - val_accuracy: 0.6147\n",
            "Epoch 5/100\n",
            "4394/4394 [==============================] - 5s 1ms/step - loss: 4.7015 - accuracy: 0.5392 - val_loss: 1.0299 - val_accuracy: 0.6423\n",
            "Epoch 6/100\n",
            "4394/4394 [==============================] - 5s 1ms/step - loss: 4.6282 - accuracy: 0.5430 - val_loss: 1.9031 - val_accuracy: 0.5204\n",
            "Epoch 7/100\n",
            "4394/4394 [==============================] - 5s 1ms/step - loss: 4.7415 - accuracy: 0.5452 - val_loss: 4.6247 - val_accuracy: 0.4916\n",
            "Epoch 8/100\n",
            "4394/4394 [==============================] - 5s 1ms/step - loss: 4.5513 - accuracy: 0.5432 - val_loss: 3.8940 - val_accuracy: 0.5320\n",
            "Epoch 9/100\n",
            "4394/4394 [==============================] - 5s 1ms/step - loss: 4.5389 - accuracy: 0.5447 - val_loss: 2.8802 - val_accuracy: 0.5610\n",
            "Epoch 10/100\n",
            "4394/4394 [==============================] - 5s 1ms/step - loss: 3.7760 - accuracy: 0.5484 - val_loss: 1.8372 - val_accuracy: 0.5191\n",
            "Epoch 11/100\n",
            "4394/4394 [==============================] - 5s 1ms/step - loss: 4.2339 - accuracy: 0.5443 - val_loss: 2.5617 - val_accuracy: 0.5615\n",
            "Epoch 12/100\n",
            "4394/4394 [==============================] - 5s 1ms/step - loss: 4.0148 - accuracy: 0.5502 - val_loss: 1.6199 - val_accuracy: 0.6207\n",
            "Epoch 13/100\n",
            "4394/4394 [==============================] - 5s 1ms/step - loss: 3.6668 - accuracy: 0.5508 - val_loss: 1.0725 - val_accuracy: 0.6358\n",
            "Epoch 14/100\n",
            "4394/4394 [==============================] - 5s 1ms/step - loss: 3.7873 - accuracy: 0.5536 - val_loss: 1.6496 - val_accuracy: 0.6151\n",
            "Epoch 15/100\n",
            "4394/4394 [==============================] - 5s 1ms/step - loss: 3.5012 - accuracy: 0.5558 - val_loss: 1.2271 - val_accuracy: 0.6392\n",
            "Epoch 16/100\n",
            "4394/4394 [==============================] - 5s 1ms/step - loss: 3.3620 - accuracy: 0.5561 - val_loss: 2.6906 - val_accuracy: 0.5423\n",
            "Epoch 17/100\n",
            "4394/4394 [==============================] - 5s 1ms/step - loss: 3.6144 - accuracy: 0.5524 - val_loss: 1.5961 - val_accuracy: 0.6051\n",
            "Epoch 18/100\n",
            "4394/4394 [==============================] - 6s 1ms/step - loss: 3.2190 - accuracy: 0.5564 - val_loss: 5.2766 - val_accuracy: 0.5130\n",
            "Epoch 19/100\n",
            "4394/4394 [==============================] - 5s 1ms/step - loss: 3.2329 - accuracy: 0.5564 - val_loss: 1.0204 - val_accuracy: 0.6606\n",
            "Epoch 20/100\n",
            "4394/4394 [==============================] - 5s 1ms/step - loss: 2.8055 - accuracy: 0.5616 - val_loss: 0.8293 - val_accuracy: 0.6752\n",
            "Epoch 21/100\n",
            "4394/4394 [==============================] - 5s 1ms/step - loss: 2.9475 - accuracy: 0.5584 - val_loss: 3.6280 - val_accuracy: 0.4917\n",
            "Epoch 22/100\n",
            "4394/4394 [==============================] - 5s 1ms/step - loss: 2.9623 - accuracy: 0.5614 - val_loss: 1.7975 - val_accuracy: 0.5879\n",
            "Epoch 23/100\n",
            "4394/4394 [==============================] - 5s 1ms/step - loss: 2.8397 - accuracy: 0.5667 - val_loss: 2.5100 - val_accuracy: 0.4966\n",
            "Epoch 24/100\n",
            "4394/4394 [==============================] - 5s 1ms/step - loss: 2.7288 - accuracy: 0.5613 - val_loss: 12.3455 - val_accuracy: 0.4913\n",
            "Epoch 25/100\n",
            "4394/4394 [==============================] - 5s 1ms/step - loss: 2.8155 - accuracy: 0.5623 - val_loss: 3.7312 - val_accuracy: 0.5188\n",
            "Epoch 26/100\n",
            "4394/4394 [==============================] - 5s 1ms/step - loss: 2.6810 - accuracy: 0.5683 - val_loss: 0.8550 - val_accuracy: 0.6773\n",
            "Epoch 27/100\n",
            "4394/4394 [==============================] - 5s 1ms/step - loss: 2.6741 - accuracy: 0.5655 - val_loss: 1.2121 - val_accuracy: 0.5447\n",
            "Epoch 28/100\n",
            "4394/4394 [==============================] - 5s 1ms/step - loss: 2.4228 - accuracy: 0.5678 - val_loss: 4.2730 - val_accuracy: 0.5128\n",
            "Epoch 29/100\n",
            "4394/4394 [==============================] - 5s 1ms/step - loss: 2.2296 - accuracy: 0.5709 - val_loss: 3.2768 - val_accuracy: 0.5186\n",
            "Epoch 30/100\n",
            "4394/4394 [==============================] - 5s 1ms/step - loss: 2.5386 - accuracy: 0.5678 - val_loss: 0.7277 - val_accuracy: 0.6914\n",
            "Epoch 31/100\n",
            "4394/4394 [==============================] - 5s 1ms/step - loss: 2.3126 - accuracy: 0.5689 - val_loss: 1.0287 - val_accuracy: 0.5680\n",
            "Epoch 32/100\n",
            "4394/4394 [==============================] - 5s 1ms/step - loss: 2.2620 - accuracy: 0.5726 - val_loss: 0.8260 - val_accuracy: 0.6726\n",
            "Epoch 33/100\n",
            "4394/4394 [==============================] - 5s 1ms/step - loss: 2.1276 - accuracy: 0.5702 - val_loss: 3.0772 - val_accuracy: 0.4916\n",
            "Epoch 34/100\n",
            "4394/4394 [==============================] - 5s 1ms/step - loss: 2.1226 - accuracy: 0.5730 - val_loss: 1.9857 - val_accuracy: 0.4999\n",
            "Epoch 35/100\n",
            "4394/4394 [==============================] - 5s 1ms/step - loss: 1.9330 - accuracy: 0.5794 - val_loss: 0.7577 - val_accuracy: 0.6784\n",
            "Epoch 36/100\n",
            "4394/4394 [==============================] - 5s 1ms/step - loss: 1.8500 - accuracy: 0.5792 - val_loss: 4.5137 - val_accuracy: 0.4913\n",
            "Epoch 37/100\n",
            "4394/4394 [==============================] - 5s 1ms/step - loss: 1.7965 - accuracy: 0.5795 - val_loss: 4.7000 - val_accuracy: 0.5090\n",
            "Epoch 38/100\n",
            "4394/4394 [==============================] - 5s 1ms/step - loss: 1.7102 - accuracy: 0.5812 - val_loss: 1.8996 - val_accuracy: 0.5361\n",
            "Epoch 39/100\n",
            "4394/4394 [==============================] - 5s 1ms/step - loss: 1.7459 - accuracy: 0.5773 - val_loss: 1.0305 - val_accuracy: 0.6112\n",
            "Epoch 40/100\n",
            "4394/4394 [==============================] - 5s 1ms/step - loss: 1.6024 - accuracy: 0.5811 - val_loss: 1.5534 - val_accuracy: 0.5508\n",
            "Epoch 41/100\n",
            "4394/4394 [==============================] - 5s 1ms/step - loss: 1.6850 - accuracy: 0.5780 - val_loss: 2.7051 - val_accuracy: 0.4917\n",
            "Epoch 42/100\n",
            "4394/4394 [==============================] - 5s 1ms/step - loss: 1.5568 - accuracy: 0.5872 - val_loss: 0.6152 - val_accuracy: 0.7129\n",
            "Epoch 43/100\n",
            "4394/4394 [==============================] - 5s 1ms/step - loss: 1.5535 - accuracy: 0.5876 - val_loss: 1.6248 - val_accuracy: 0.5411\n",
            "Epoch 44/100\n",
            "4394/4394 [==============================] - 5s 1ms/step - loss: 1.6100 - accuracy: 0.5791 - val_loss: 2.7468 - val_accuracy: 0.4914\n",
            "Epoch 45/100\n",
            "4394/4394 [==============================] - 5s 1ms/step - loss: 1.6057 - accuracy: 0.5783 - val_loss: 2.2746 - val_accuracy: 0.4920\n",
            "Epoch 46/100\n",
            "4394/4394 [==============================] - 5s 1ms/step - loss: 1.5171 - accuracy: 0.5863 - val_loss: 0.6203 - val_accuracy: 0.7134\n",
            "Epoch 47/100\n",
            "4394/4394 [==============================] - 5s 1ms/step - loss: 1.4407 - accuracy: 0.5911 - val_loss: 1.3872 - val_accuracy: 0.5513\n",
            "Epoch 48/100\n",
            "4394/4394 [==============================] - 5s 1ms/step - loss: 1.3491 - accuracy: 0.5958 - val_loss: 0.8974 - val_accuracy: 0.5662\n",
            "Epoch 49/100\n",
            "4394/4394 [==============================] - 5s 1ms/step - loss: 1.3843 - accuracy: 0.5889 - val_loss: 0.6551 - val_accuracy: 0.6919\n",
            "Epoch 50/100\n",
            "4394/4394 [==============================] - 5s 1ms/step - loss: 1.4591 - accuracy: 0.5884 - val_loss: 0.8261 - val_accuracy: 0.6427\n",
            "Epoch 51/100\n",
            "4394/4394 [==============================] - 5s 1ms/step - loss: 1.3796 - accuracy: 0.5903 - val_loss: 2.5794 - val_accuracy: 0.5147\n",
            "Epoch 52/100\n",
            "4394/4394 [==============================] - 5s 1ms/step - loss: 1.3081 - accuracy: 0.5935 - val_loss: 2.8690 - val_accuracy: 0.5112\n",
            "Epoch 53/100\n",
            "4394/4394 [==============================] - 5s 1ms/step - loss: 1.2433 - accuracy: 0.5964 - val_loss: 2.9752 - val_accuracy: 0.4913\n",
            "Epoch 54/100\n",
            "4394/4394 [==============================] - 5s 1ms/step - loss: 1.3161 - accuracy: 0.5925 - val_loss: 0.9005 - val_accuracy: 0.6182\n",
            "Epoch 55/100\n",
            "4394/4394 [==============================] - 5s 1ms/step - loss: 1.3597 - accuracy: 0.5915 - val_loss: 1.8086 - val_accuracy: 0.4955\n",
            "Epoch 56/100\n",
            "4394/4394 [==============================] - 5s 1ms/step - loss: 1.1632 - accuracy: 0.5995 - val_loss: 1.5321 - val_accuracy: 0.5025\n",
            "Epoch 57/100\n",
            "4394/4394 [==============================] - 5s 1ms/step - loss: 1.1981 - accuracy: 0.5986 - val_loss: 1.8699 - val_accuracy: 0.5236\n",
            "Epoch 58/100\n",
            "4394/4394 [==============================] - 5s 1ms/step - loss: 1.1454 - accuracy: 0.6047 - val_loss: 0.6561 - val_accuracy: 0.6779\n",
            "Epoch 59/100\n",
            "4394/4394 [==============================] - 5s 1ms/step - loss: 1.2193 - accuracy: 0.6016 - val_loss: 0.7397 - val_accuracy: 0.6525\n",
            "Epoch 60/100\n",
            "4394/4394 [==============================] - 5s 1ms/step - loss: 1.1045 - accuracy: 0.6072 - val_loss: 1.1019 - val_accuracy: 0.5737\n",
            "Epoch 61/100\n",
            "4394/4394 [==============================] - 5s 1ms/step - loss: 1.1365 - accuracy: 0.5979 - val_loss: 1.5468 - val_accuracy: 0.4999\n",
            "Epoch 62/100\n",
            "4394/4394 [==============================] - 5s 1ms/step - loss: 1.1199 - accuracy: 0.6051 - val_loss: 0.6333 - val_accuracy: 0.6916\n",
            "Epoch 63/100\n",
            "4394/4394 [==============================] - 5s 1ms/step - loss: 1.1041 - accuracy: 0.6032 - val_loss: 0.8178 - val_accuracy: 0.5805\n",
            "Epoch 64/100\n",
            "4394/4394 [==============================] - 5s 1ms/step - loss: 1.0644 - accuracy: 0.6034 - val_loss: 0.6572 - val_accuracy: 0.6815\n",
            "Epoch 65/100\n",
            "4394/4394 [==============================] - 6s 1ms/step - loss: 1.0310 - accuracy: 0.6094 - val_loss: 0.8674 - val_accuracy: 0.5661\n",
            "Epoch 66/100\n",
            "4394/4394 [==============================] - 6s 1ms/step - loss: 1.0274 - accuracy: 0.6067 - val_loss: 0.6947 - val_accuracy: 0.6616\n",
            "Epoch 67/100\n",
            "4394/4394 [==============================] - 6s 1ms/step - loss: 1.0975 - accuracy: 0.6052 - val_loss: 0.6443 - val_accuracy: 0.6885\n",
            "Epoch 68/100\n",
            "4394/4394 [==============================] - 5s 1ms/step - loss: 0.9895 - accuracy: 0.6178 - val_loss: 0.7842 - val_accuracy: 0.6316\n",
            "Epoch 69/100\n",
            "4394/4394 [==============================] - 5s 1ms/step - loss: 1.0050 - accuracy: 0.6146 - val_loss: 2.2247 - val_accuracy: 0.4920\n",
            "Epoch 70/100\n",
            "4394/4394 [==============================] - 5s 1ms/step - loss: 1.0232 - accuracy: 0.6133 - val_loss: 0.5781 - val_accuracy: 0.7253\n",
            "Epoch 71/100\n",
            "4394/4394 [==============================] - 5s 1ms/step - loss: 1.0472 - accuracy: 0.6145 - val_loss: 1.6983 - val_accuracy: 0.4963\n",
            "Epoch 72/100\n",
            "4394/4394 [==============================] - 5s 1ms/step - loss: 0.9843 - accuracy: 0.6161 - val_loss: 0.8980 - val_accuracy: 0.5577\n",
            "Epoch 73/100\n",
            "4394/4394 [==============================] - 5s 1ms/step - loss: 0.9651 - accuracy: 0.6208 - val_loss: 0.5744 - val_accuracy: 0.7286\n",
            "Epoch 74/100\n",
            "4394/4394 [==============================] - 5s 1ms/step - loss: 1.0579 - accuracy: 0.6061 - val_loss: 0.6064 - val_accuracy: 0.7108\n",
            "Epoch 75/100\n",
            "4394/4394 [==============================] - 5s 1ms/step - loss: 0.9704 - accuracy: 0.6208 - val_loss: 0.6388 - val_accuracy: 0.6758\n",
            "Epoch 76/100\n",
            "4394/4394 [==============================] - 5s 1ms/step - loss: 0.9516 - accuracy: 0.6196 - val_loss: 0.6848 - val_accuracy: 0.6359\n",
            "Epoch 77/100\n",
            "4394/4394 [==============================] - 5s 1ms/step - loss: 0.9566 - accuracy: 0.6181 - val_loss: 0.6758 - val_accuracy: 0.6643\n",
            "Epoch 78/100\n",
            "4394/4394 [==============================] - 5s 1ms/step - loss: 0.9149 - accuracy: 0.6262 - val_loss: 0.6013 - val_accuracy: 0.7067\n",
            "Epoch 79/100\n",
            "4394/4394 [==============================] - 6s 1ms/step - loss: 0.9146 - accuracy: 0.6202 - val_loss: 2.1210 - val_accuracy: 0.4924\n",
            "Epoch 80/100\n",
            "4394/4394 [==============================] - 5s 1ms/step - loss: 0.9567 - accuracy: 0.6209 - val_loss: 0.8766 - val_accuracy: 0.5960\n",
            "Epoch 81/100\n",
            "4394/4394 [==============================] - 5s 1ms/step - loss: 0.9009 - accuracy: 0.6207 - val_loss: 1.2007 - val_accuracy: 0.5155\n",
            "Epoch 82/100\n",
            "4394/4394 [==============================] - 5s 1ms/step - loss: 0.9011 - accuracy: 0.6240 - val_loss: 0.5986 - val_accuracy: 0.7107\n",
            "Epoch 83/100\n",
            "4394/4394 [==============================] - 5s 1ms/step - loss: 0.8637 - accuracy: 0.6235 - val_loss: 1.3702 - val_accuracy: 0.5029\n",
            "Epoch 84/100\n",
            "4394/4394 [==============================] - 5s 1ms/step - loss: 0.8446 - accuracy: 0.6281 - val_loss: 0.9345 - val_accuracy: 0.5765\n",
            "Epoch 85/100\n",
            "4394/4394 [==============================] - 5s 1ms/step - loss: 0.8642 - accuracy: 0.6204 - val_loss: 0.5732 - val_accuracy: 0.7268\n",
            "Epoch 86/100\n",
            "4394/4394 [==============================] - 5s 1ms/step - loss: 0.7998 - accuracy: 0.6377 - val_loss: 0.8540 - val_accuracy: 0.5893\n",
            "Epoch 87/100\n",
            "4394/4394 [==============================] - 5s 1ms/step - loss: 0.8119 - accuracy: 0.6304 - val_loss: 0.8211 - val_accuracy: 0.5956\n",
            "Epoch 88/100\n",
            "4394/4394 [==============================] - 5s 1ms/step - loss: 0.7904 - accuracy: 0.6355 - val_loss: 0.6089 - val_accuracy: 0.6936\n",
            "Epoch 89/100\n",
            "4394/4394 [==============================] - 5s 1ms/step - loss: 0.7704 - accuracy: 0.6376 - val_loss: 0.5922 - val_accuracy: 0.7024\n",
            "Epoch 90/100\n",
            "4394/4394 [==============================] - 5s 1ms/step - loss: 0.7227 - accuracy: 0.6461 - val_loss: 0.5682 - val_accuracy: 0.7261\n",
            "Epoch 91/100\n",
            "4394/4394 [==============================] - 5s 1ms/step - loss: 0.7309 - accuracy: 0.6424 - val_loss: 1.0995 - val_accuracy: 0.5153\n",
            "Epoch 92/100\n",
            "4394/4394 [==============================] - 5s 1ms/step - loss: 0.6976 - accuracy: 0.6471 - val_loss: 0.6203 - val_accuracy: 0.6733\n",
            "Epoch 93/100\n",
            "4394/4394 [==============================] - 5s 1ms/step - loss: 0.6678 - accuracy: 0.6608 - val_loss: 0.6112 - val_accuracy: 0.6682\n",
            "Epoch 94/100\n",
            "4394/4394 [==============================] - 5s 1ms/step - loss: 0.6573 - accuracy: 0.6577 - val_loss: 0.6051 - val_accuracy: 0.6768\n",
            "Epoch 95/100\n",
            "4394/4394 [==============================] - 7s 2ms/step - loss: 0.6215 - accuracy: 0.6707 - val_loss: 0.5826 - val_accuracy: 0.6989\n",
            "Epoch 96/100\n",
            "4394/4394 [==============================] - 8s 2ms/step - loss: 0.6099 - accuracy: 0.6755 - val_loss: 0.5737 - val_accuracy: 0.7138\n",
            "Epoch 97/100\n",
            "4394/4394 [==============================] - 5s 1ms/step - loss: 0.6078 - accuracy: 0.6806 - val_loss: 0.5791 - val_accuracy: 0.7074\n",
            "Epoch 98/100\n",
            "4394/4394 [==============================] - 5s 1ms/step - loss: 0.6062 - accuracy: 0.6783 - val_loss: 0.6105 - val_accuracy: 0.6639\n",
            "Epoch 99/100\n",
            "4394/4394 [==============================] - 5s 1ms/step - loss: 0.6026 - accuracy: 0.6823 - val_loss: 0.6030 - val_accuracy: 0.6717\n",
            "Epoch 100/100\n",
            "4394/4394 [==============================] - 5s 1ms/step - loss: 0.5967 - accuracy: 0.6868 - val_loss: 0.5902 - val_accuracy: 0.6925\n"
          ],
          "name": "stdout"
        }
      ]
    },
    {
      "cell_type": "code",
      "metadata": {
        "colab": {
          "base_uri": "https://localhost:8080/",
          "height": 372
        },
        "id": "ew26V9GB7tvi",
        "outputId": "2685e1e2-518d-49ca-cd61-55b27b1bb211"
      },
      "source": [
        "# Testing\n",
        "test_score = model.evaluate(x_test, y_test)\n",
        "print(\"Testing Acc:\", test_score[1])\n",
        "\n",
        "y_pred = model.predict(x_test)\n",
        "cm = confusion_matrix(y_test, y_pred.round())\n",
        "print(\"Confusion Matrix:\", \"\\n\", cm)\n",
        "\n",
        "tpr, fpr, threshold = roc_curve(y_test, y_pred)\n",
        "auc_score = roc_auc_score(y_test, y_pred)\n",
        "print(\"AUC-score:\", auc_score)\n",
        "\n",
        "%matplotlib inline\n",
        "import matplotlib.pyplot as plt\n",
        "\n",
        "plt.plot(tpr, fpr)\n",
        "plt.show()"
      ],
      "execution_count": 10,
      "outputs": [
        {
          "output_type": "stream",
          "text": [
            "430/430 [==============================] - 0s 903us/step - loss: 0.5843 - accuracy: 0.6993\n",
            "Testing Acc: 0.6992716789245605\n",
            "Confusion Matrix: \n",
            " [[3972 2986]\n",
            " [1143 5629]]\n",
            "AUC-score: 0.7885341858763754\n"
          ],
          "name": "stdout"
        },
        {
          "output_type": "display_data",
          "data": {
            "image/png": "[encoded data removed]",
            "text/plain": [
              "<Figure size 432x288 with 1 Axes>"
            ]
          },
          "metadata": {
            "tags": [],
            "needs_background": "light"
          }
        }
      ]
    }
  ]
}