{
  "nbformat": 4,
  "nbformat_minor": 0,
  "metadata": {
    "colab": {
      "name": "cardio.ipynb",
      "provenance": [],
      "collapsed_sections": [],
      "include_colab_link": true
    },
    "kernelspec": {
      "name": "python3",
      "display_name": "Python 3"
    }
  },
  "cells": [
    {
      "cell_type": "markdown",
      "metadata": {
        "id": "view-in-github",
        "colab_type": "text"
      },
      "source": [
        "<a href=\"https://colab.research.google.com/github/nemo0001/Python/blob/master/cardio.ipynb\" target=\"_parent\"><img src=\"https://colab.research.google.com/assets/colab-badge.svg\" alt=\"Open In Colab\"/></a>"
      ]
    },
    {
      "cell_type": "code",
      "metadata": {
        "id": "Kihic6cAq5Pp",
        "colab": {
          "resources": {
            "http://localhost:8080/nbextensions/google.colab/files.js": {
              "data": "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",
              "ok": true,
              "headers": [
                [
                  "content-type",
                  "application/javascript"
                ]
              ],
              "status": 200,
              "status_text": ""
            }
          },
          "base_uri": "https://localhost:8080/",
          "height": 91
        },
        "outputId": "64e3a72f-0b9c-4420-9f27-8645a30d9b63"
      },
      "source": [
        "#getting the data from PC\n",
        "\n",
        "from google.colab import files\n",
        "\n",
        "uploaded = files.upload()\n",
        "\n",
        "for fn in uploaded.keys():\n",
        "  print('User uploaded file \"{name}\" with length {length} bytes'.format(\n",
        "      name=fn, length=len(uploaded[fn])))"
      ],
      "execution_count": 1,
      "outputs": [
        {
          "output_type": "display_data",
          "data": {
            "text/html": [
              "\n",
              "     <input type=\"file\" id=\"files-5cf92bbc-3d91-413e-b471-0ddc8b7003f5\" name=\"files[]\" multiple disabled\n",
              "        style=\"border:none\" />\n",
              "     <output id=\"result-5cf92bbc-3d91-413e-b471-0ddc8b7003f5\">\n",
              "      Upload widget is only available when the cell has been executed in the\n",
              "      current browser session. Please rerun this cell to enable.\n",
              "      </output>\n",
              "      <script src=\"/nbextensions/google.colab/files.js\"></script> "
            ],
            "text/plain": [
              "<IPython.core.display.HTML object>"
            ]
          },
          "metadata": {
            "tags": []
          }
        },
        {
          "output_type": "stream",
          "text": [
            "Saving cardio_train.csv to cardio_train (2).csv\n",
            "User uploaded file \"cardio_train.csv\" with length 2941524 bytes\n"
          ],
          "name": "stdout"
        }
      ]
    },
    {
      "cell_type": "code",
      "metadata": {
        "id": "eOi95F4Hq9ZL"
      },
      "source": [
        "import numpy as np # linear algebra\n",
        "import pandas as pd # data processing, CSV file I/O (e.g. pd.read_csv)\n",
        "from matplotlib import pyplot as plt\n",
        "import tensorflow as tf\n",
        "from tensorflow.keras.optimizers import RMSprop,Nadam,Adadelta,Adam\n",
        "from tensorflow.keras.layers import BatchNormalization,LeakyReLU\n",
        "from tensorflow.keras.callbacks import ReduceLROnPlateau, EarlyStopping\n",
        "import seaborn as sns\n",
        "import scipy.stats as stats\n",
        "import sklearn\n",
        "import os\n",
        "\n",
        "from sklearn.metrics import roc_curve, roc_auc_score,precision_recall_curve, auc, make_scorer, recall_score, accuracy_score, precision_score, confusion_matrix\n",
        "%matplotlib inline\n",
        "import matplotlib.pyplot as plt\n"
      ],
      "execution_count": 2,
      "outputs": []
    },
    {
      "cell_type": "code",
      "metadata": {
        "id": "H3f0RqPlxm-a",
        "colab": {
          "base_uri": "https://localhost:8080/",
          "height": 197
        },
        "outputId": "d5331026-5f04-46ef-84da-11f0ab340c41"
      },
      "source": [
        "data_raw=pd.read_csv(\"cardio_train.csv\",sep=\";\")\n",
        "data_raw.head()"
      ],
      "execution_count": 3,
      "outputs": [
        {
          "output_type": "execute_result",
          "data": {
            "text/html": [
              "<div>\n",
              "<style scoped>\n",
              "    .dataframe tbody tr th:only-of-type {\n",
              "        vertical-align: middle;\n",
              "    }\n",
              "\n",
              "    .dataframe tbody tr th {\n",
              "        vertical-align: top;\n",
              "    }\n",
              "\n",
              "    .dataframe thead th {\n",
              "        text-align: right;\n",
              "    }\n",
              "</style>\n",
              "<table border=\"1\" class=\"dataframe\">\n",
              "  <thead>\n",
              "    <tr style=\"text-align: right;\">\n",
              "      <th></th>\n",
              "      <th>id</th>\n",
              "      <th>age</th>\n",
              "      <th>gender</th>\n",
              "      <th>height</th>\n",
              "      <th>weight</th>\n",
              "      <th>ap_hi</th>\n",
              "      <th>ap_lo</th>\n",
              "      <th>cholesterol</th>\n",
              "      <th>gluc</th>\n",
              "      <th>smoke</th>\n",
              "      <th>alco</th>\n",
              "      <th>active</th>\n",
              "      <th>cardio</th>\n",
              "    </tr>\n",
              "  </thead>\n",
              "  <tbody>\n",
              "    <tr>\n",
              "      <th>0</th>\n",
              "      <td>0</td>\n",
              "      <td>18393</td>\n",
              "      <td>2</td>\n",
              "      <td>168</td>\n",
              "      <td>62.0</td>\n",
              "      <td>110</td>\n",
              "      <td>80</td>\n",
              "      <td>1</td>\n",
              "      <td>1</td>\n",
              "      <td>0</td>\n",
              "      <td>0</td>\n",
              "      <td>1</td>\n",
              "      <td>0</td>\n",
              "    </tr>\n",
              "    <tr>\n",
              "      <th>1</th>\n",
              "      <td>1</td>\n",
              "      <td>20228</td>\n",
              "      <td>1</td>\n",
              "      <td>156</td>\n",
              "      <td>85.0</td>\n",
              "      <td>140</td>\n",
              "      <td>90</td>\n",
              "      <td>3</td>\n",
              "      <td>1</td>\n",
              "      <td>0</td>\n",
              "      <td>0</td>\n",
              "      <td>1</td>\n",
              "      <td>1</td>\n",
              "    </tr>\n",
              "    <tr>\n",
              "      <th>2</th>\n",
              "      <td>2</td>\n",
              "      <td>18857</td>\n",
              "      <td>1</td>\n",
              "      <td>165</td>\n",
              "      <td>64.0</td>\n",
              "      <td>130</td>\n",
              "      <td>70</td>\n",
              "      <td>3</td>\n",
              "      <td>1</td>\n",
              "      <td>0</td>\n",
              "      <td>0</td>\n",
              "      <td>0</td>\n",
              "      <td>1</td>\n",
              "    </tr>\n",
              "    <tr>\n",
              "      <th>3</th>\n",
              "      <td>3</td>\n",
              "      <td>17623</td>\n",
              "      <td>2</td>\n",
              "      <td>169</td>\n",
              "      <td>82.0</td>\n",
              "      <td>150</td>\n",
              "      <td>100</td>\n",
              "      <td>1</td>\n",
              "      <td>1</td>\n",
              "      <td>0</td>\n",
              "      <td>0</td>\n",
              "      <td>1</td>\n",
              "      <td>1</td>\n",
              "    </tr>\n",
              "    <tr>\n",
              "      <th>4</th>\n",
              "      <td>4</td>\n",
              "      <td>17474</td>\n",
              "      <td>1</td>\n",
              "      <td>156</td>\n",
              "      <td>56.0</td>\n",
              "      <td>100</td>\n",
              "      <td>60</td>\n",
              "      <td>1</td>\n",
              "      <td>1</td>\n",
              "      <td>0</td>\n",
              "      <td>0</td>\n",
              "      <td>0</td>\n",
              "      <td>0</td>\n",
              "    </tr>\n",
              "  </tbody>\n",
              "</table>\n",
              "</div>"
            ],
            "text/plain": [
              "   id    age  gender  height  weight  ...  gluc  smoke  alco  active  cardio\n",
              "0   0  18393       2     168    62.0  ...     1      0     0       1       0\n",
              "1   1  20228       1     156    85.0  ...     1      0     0       1       1\n",
              "2   2  18857       1     165    64.0  ...     1      0     0       0       1\n",
              "3   3  17623       2     169    82.0  ...     1      0     0       1       1\n",
              "4   4  17474       1     156    56.0  ...     1      0     0       0       0\n",
              "\n",
              "[5 rows x 13 columns]"
            ]
          },
          "metadata": {
            "tags": []
          },
          "execution_count": 3
        }
      ]
    },
    {
      "cell_type": "code",
      "metadata": {
        "id": "PuTcgdcNyKVN",
        "colab": {
          "base_uri": "https://localhost:8080/"
        },
        "outputId": "7ea67524-e656-4bc7-bc99-3ae3007a96bb"
      },
      "source": [
        "data_raw.info()"
      ],
      "execution_count": 4,
      "outputs": [
        {
          "output_type": "stream",
          "text": [
            "<class 'pandas.core.frame.DataFrame'>\n",
            "RangeIndex: 70000 entries, 0 to 69999\n",
            "Data columns (total 13 columns):\n",
            " #   Column       Non-Null Count  Dtype  \n",
            "---  ------       --------------  -----  \n",
            " 0   id           70000 non-null  int64  \n",
            " 1   age          70000 non-null  int64  \n",
            " 2   gender       70000 non-null  int64  \n",
            " 3   height       70000 non-null  int64  \n",
            " 4   weight       70000 non-null  float64\n",
            " 5   ap_hi        70000 non-null  int64  \n",
            " 6   ap_lo        70000 non-null  int64  \n",
            " 7   cholesterol  70000 non-null  int64  \n",
            " 8   gluc         70000 non-null  int64  \n",
            " 9   smoke        70000 non-null  int64  \n",
            " 10  alco         70000 non-null  int64  \n",
            " 11  active       70000 non-null  int64  \n",
            " 12  cardio       70000 non-null  int64  \n",
            "dtypes: float64(1), int64(12)\n",
            "memory usage: 6.9 MB\n"
          ],
          "name": "stdout"
        }
      ]
    },
    {
      "cell_type": "code",
      "metadata": {
        "id": "BKIN9A1Byn82"
      },
      "source": [
        "data_raw.drop(\"id\",axis=1,inplace=True)"
      ],
      "execution_count": 5,
      "outputs": []
    },
    {
      "cell_type": "code",
      "metadata": {
        "id": "iwG-4_sBQkIS",
        "colab": {
          "base_uri": "https://localhost:8080/"
        },
        "outputId": "51a8c148-7b8f-46ca-9bb7-420458a1dc96"
      },
      "source": [
        "#handling duplicate values\n",
        "print(\"There is {} duplicated values in data frame\".format(data_raw.duplicated().sum()))"
      ],
      "execution_count": 6,
      "outputs": [
        {
          "output_type": "stream",
          "text": [
            "There is 24 duplicated values in data frame\n"
          ],
          "name": "stdout"
        }
      ]
    },
    {
      "cell_type": "code",
      "metadata": {
        "id": "AY4zrOP7RI_i",
        "colab": {
          "base_uri": "https://localhost:8080/",
          "height": 107
        },
        "outputId": "d084915d-5fd2-40af-8c59-63c005929df2"
      },
      "source": [
        "#We can drop the duplicates because they have no effect on training of model.\n",
        "#Firstly let us see the duplicated rows with eyes.\n",
        "duplicated = data_raw[data_raw.duplicated(keep=False)]\n",
        "duplicated = duplicated.sort_values(by=['age', \"gender\", \"height\"], ascending= False) \n",
        "# I sorted the values to see duplication clearly\n",
        "\n",
        "duplicated.head(2) # Show us just 1 duplication of 24\n",
        "\n",
        "#duplicated() method helps in analyzing duplicate values only. \n",
        "#It returns a boolean series which is True only for Unique elements."
      ],
      "execution_count": 7,
      "outputs": [
        {
          "output_type": "execute_result",
          "data": {
            "text/html": [
              "<div>\n",
              "<style scoped>\n",
              "    .dataframe tbody tr th:only-of-type {\n",
              "        vertical-align: middle;\n",
              "    }\n",
              "\n",
              "    .dataframe tbody tr th {\n",
              "        vertical-align: top;\n",
              "    }\n",
              "\n",
              "    .dataframe thead th {\n",
              "        text-align: right;\n",
              "    }\n",
              "</style>\n",
              "<table border=\"1\" class=\"dataframe\">\n",
              "  <thead>\n",
              "    <tr style=\"text-align: right;\">\n",
              "      <th></th>\n",
              "      <th>age</th>\n",
              "      <th>gender</th>\n",
              "      <th>height</th>\n",
              "      <th>weight</th>\n",
              "      <th>ap_hi</th>\n",
              "      <th>ap_lo</th>\n",
              "      <th>cholesterol</th>\n",
              "      <th>gluc</th>\n",
              "      <th>smoke</th>\n",
              "      <th>alco</th>\n",
              "      <th>active</th>\n",
              "      <th>cardio</th>\n",
              "    </tr>\n",
              "  </thead>\n",
              "  <tbody>\n",
              "    <tr>\n",
              "      <th>2677</th>\n",
              "      <td>22077</td>\n",
              "      <td>1</td>\n",
              "      <td>175</td>\n",
              "      <td>69.0</td>\n",
              "      <td>120</td>\n",
              "      <td>80</td>\n",
              "      <td>1</td>\n",
              "      <td>1</td>\n",
              "      <td>0</td>\n",
              "      <td>0</td>\n",
              "      <td>1</td>\n",
              "      <td>1</td>\n",
              "    </tr>\n",
              "    <tr>\n",
              "      <th>45748</th>\n",
              "      <td>22077</td>\n",
              "      <td>1</td>\n",
              "      <td>175</td>\n",
              "      <td>69.0</td>\n",
              "      <td>120</td>\n",
              "      <td>80</td>\n",
              "      <td>1</td>\n",
              "      <td>1</td>\n",
              "      <td>0</td>\n",
              "      <td>0</td>\n",
              "      <td>1</td>\n",
              "      <td>1</td>\n",
              "    </tr>\n",
              "  </tbody>\n",
              "</table>\n",
              "</div>"
            ],
            "text/plain": [
              "         age  gender  height  weight  ap_hi  ...  gluc  smoke  alco  active  cardio\n",
              "2677   22077       1     175    69.0    120  ...     1      0     0       1       1\n",
              "45748  22077       1     175    69.0    120  ...     1      0     0       1       1\n",
              "\n",
              "[2 rows x 12 columns]"
            ]
          },
          "metadata": {
            "tags": []
          },
          "execution_count": 7
        }
      ]
    },
    {
      "cell_type": "code",
      "metadata": {
        "id": "yidbVkrYa3DW",
        "colab": {
          "base_uri": "https://localhost:8080/"
        },
        "outputId": "890310bb-8314-4f47-e749-4ce405204732"
      },
      "source": [
        "data_raw.drop_duplicates(inplace=True)\n",
        "#Return DataFrame with duplicate rows removed, optionally only considering certain columns.\n",
        "#keep : {‘first’, ‘last’, False}, default ‘first’\n",
        "\n",
        "print(\"There is {} duplicated values in data frame\".format(data_raw.duplicated().sum()))"
      ],
      "execution_count": 8,
      "outputs": [
        {
          "output_type": "stream",
          "text": [
            "There is 0 duplicated values in data frame\n"
          ],
          "name": "stdout"
        }
      ]
    },
    {
      "cell_type": "code",
      "metadata": {
        "id": "kZAlFzfye3ec",
        "colab": {
          "base_uri": "https://localhost:8080/"
        },
        "outputId": "037a0d58-a7b9-4d1d-e6f7-6907cf7bc17d"
      },
      "source": [
        "print(\"There is {} missing values in data frame\".format(data_raw.isnull().sum().sum()))"
      ],
      "execution_count": 9,
      "outputs": [
        {
          "output_type": "stream",
          "text": [
            "There is 0 missing values in data frame\n"
          ],
          "name": "stdout"
        }
      ]
    },
    {
      "cell_type": "code",
      "metadata": {
        "id": "y18JTuKpe7_I",
        "colab": {
          "base_uri": "https://localhost:8080/",
          "height": 307
        },
        "outputId": "9dc492b7-a50e-4401-a64c-ba996e545318"
      },
      "source": [
        "#VISUALIZATION\n",
        "#Detecting Outliers \n",
        "#Detecting outlier and handling them can increase our accuracy score.\n",
        "x = data_raw.copy(deep=True)\n",
        "x.describe()"
      ],
      "execution_count": 10,
      "outputs": [
        {
          "output_type": "execute_result",
          "data": {
            "text/html": [
              "<div>\n",
              "<style scoped>\n",
              "    .dataframe tbody tr th:only-of-type {\n",
              "        vertical-align: middle;\n",
              "    }\n",
              "\n",
              "    .dataframe tbody tr th {\n",
              "        vertical-align: top;\n",
              "    }\n",
              "\n",
              "    .dataframe thead th {\n",
              "        text-align: right;\n",
              "    }\n",
              "</style>\n",
              "<table border=\"1\" class=\"dataframe\">\n",
              "  <thead>\n",
              "    <tr style=\"text-align: right;\">\n",
              "      <th></th>\n",
              "      <th>age</th>\n",
              "      <th>gender</th>\n",
              "      <th>height</th>\n",
              "      <th>weight</th>\n",
              "      <th>ap_hi</th>\n",
              "      <th>ap_lo</th>\n",
              "      <th>cholesterol</th>\n",
              "      <th>gluc</th>\n",
              "      <th>smoke</th>\n",
              "      <th>alco</th>\n",
              "      <th>active</th>\n",
              "      <th>cardio</th>\n",
              "    </tr>\n",
              "  </thead>\n",
              "  <tbody>\n",
              "    <tr>\n",
              "      <th>count</th>\n",
              "      <td>69976.000000</td>\n",
              "      <td>69976.000000</td>\n",
              "      <td>69976.000000</td>\n",
              "      <td>69976.000000</td>\n",
              "      <td>69976.000000</td>\n",
              "      <td>69976.000000</td>\n",
              "      <td>69976.000000</td>\n",
              "      <td>69976.000000</td>\n",
              "      <td>69976.000000</td>\n",
              "      <td>69976.000000</td>\n",
              "      <td>69976.000000</td>\n",
              "      <td>69976.000000</td>\n",
              "    </tr>\n",
              "    <tr>\n",
              "      <th>mean</th>\n",
              "      <td>19468.950126</td>\n",
              "      <td>1.349648</td>\n",
              "      <td>164.359152</td>\n",
              "      <td>74.208519</td>\n",
              "      <td>128.820453</td>\n",
              "      <td>96.636261</td>\n",
              "      <td>1.366997</td>\n",
              "      <td>1.226535</td>\n",
              "      <td>0.088159</td>\n",
              "      <td>0.053790</td>\n",
              "      <td>0.803718</td>\n",
              "      <td>0.499771</td>\n",
              "    </tr>\n",
              "    <tr>\n",
              "      <th>std</th>\n",
              "      <td>2467.374620</td>\n",
              "      <td>0.476862</td>\n",
              "      <td>8.211218</td>\n",
              "      <td>14.397211</td>\n",
              "      <td>154.037729</td>\n",
              "      <td>188.504581</td>\n",
              "      <td>0.680333</td>\n",
              "      <td>0.572353</td>\n",
              "      <td>0.283528</td>\n",
              "      <td>0.225604</td>\n",
              "      <td>0.397187</td>\n",
              "      <td>0.500004</td>\n",
              "    </tr>\n",
              "    <tr>\n",
              "      <th>min</th>\n",
              "      <td>10798.000000</td>\n",
              "      <td>1.000000</td>\n",
              "      <td>55.000000</td>\n",
              "      <td>10.000000</td>\n",
              "      <td>-150.000000</td>\n",
              "      <td>-70.000000</td>\n",
              "      <td>1.000000</td>\n",
              "      <td>1.000000</td>\n",
              "      <td>0.000000</td>\n",
              "      <td>0.000000</td>\n",
              "      <td>0.000000</td>\n",
              "      <td>0.000000</td>\n",
              "    </tr>\n",
              "    <tr>\n",
              "      <th>25%</th>\n",
              "      <td>17664.000000</td>\n",
              "      <td>1.000000</td>\n",
              "      <td>159.000000</td>\n",
              "      <td>65.000000</td>\n",
              "      <td>120.000000</td>\n",
              "      <td>80.000000</td>\n",
              "      <td>1.000000</td>\n",
              "      <td>1.000000</td>\n",
              "      <td>0.000000</td>\n",
              "      <td>0.000000</td>\n",
              "      <td>1.000000</td>\n",
              "      <td>0.000000</td>\n",
              "    </tr>\n",
              "    <tr>\n",
              "      <th>50%</th>\n",
              "      <td>19703.000000</td>\n",
              "      <td>1.000000</td>\n",
              "      <td>165.000000</td>\n",
              "      <td>72.000000</td>\n",
              "      <td>120.000000</td>\n",
              "      <td>80.000000</td>\n",
              "      <td>1.000000</td>\n",
              "      <td>1.000000</td>\n",
              "      <td>0.000000</td>\n",
              "      <td>0.000000</td>\n",
              "      <td>1.000000</td>\n",
              "      <td>0.000000</td>\n",
              "    </tr>\n",
              "    <tr>\n",
              "      <th>75%</th>\n",
              "      <td>21327.000000</td>\n",
              "      <td>2.000000</td>\n",
              "      <td>170.000000</td>\n",
              "      <td>82.000000</td>\n",
              "      <td>140.000000</td>\n",
              "      <td>90.000000</td>\n",
              "      <td>2.000000</td>\n",
              "      <td>1.000000</td>\n",
              "      <td>0.000000</td>\n",
              "      <td>0.000000</td>\n",
              "      <td>1.000000</td>\n",
              "      <td>1.000000</td>\n",
              "    </tr>\n",
              "    <tr>\n",
              "      <th>max</th>\n",
              "      <td>23713.000000</td>\n",
              "      <td>2.000000</td>\n",
              "      <td>250.000000</td>\n",
              "      <td>200.000000</td>\n",
              "      <td>16020.000000</td>\n",
              "      <td>11000.000000</td>\n",
              "      <td>3.000000</td>\n",
              "      <td>3.000000</td>\n",
              "      <td>1.000000</td>\n",
              "      <td>1.000000</td>\n",
              "      <td>1.000000</td>\n",
              "      <td>1.000000</td>\n",
              "    </tr>\n",
              "  </tbody>\n",
              "</table>\n",
              "</div>"
            ],
            "text/plain": [
              "                age        gender  ...        active        cardio\n",
              "count  69976.000000  69976.000000  ...  69976.000000  69976.000000\n",
              "mean   19468.950126      1.349648  ...      0.803718      0.499771\n",
              "std     2467.374620      0.476862  ...      0.397187      0.500004\n",
              "min    10798.000000      1.000000  ...      0.000000      0.000000\n",
              "25%    17664.000000      1.000000  ...      1.000000      0.000000\n",
              "50%    19703.000000      1.000000  ...      1.000000      0.000000\n",
              "75%    21327.000000      2.000000  ...      1.000000      1.000000\n",
              "max    23713.000000      2.000000  ...      1.000000      1.000000\n",
              "\n",
              "[8 rows x 12 columns]"
            ]
          },
          "metadata": {
            "tags": []
          },
          "execution_count": 10
        }
      ]
    },
    {
      "cell_type": "code",
      "metadata": {
        "id": "jrIJ7xHsfjs_",
        "colab": {
          "base_uri": "https://localhost:8080/",
          "height": 197
        },
        "outputId": "807835cf-09a7-4eff-cf10-894e785607ac"
      },
      "source": [
        "#Columns of \"age\", \"height\", \"weight\", \"ap_hi\", \"ap_lo\" may have outlier.\n",
        "#In order to compare them on same scale we need to standardize firstly.\n",
        "#My Standard Scalar Function\n",
        "s_list = [\"age\", \"height\", \"weight\", \"ap_hi\", \"ap_lo\"]\n",
        "def standartization(x):\n",
        "    x_std = x.copy(deep=True)\n",
        "    for column in s_list:\n",
        "        x_std[column] = (x_std[column]-x_std[column].mean())/x_std[column].std()\n",
        "    return x_std \n",
        "x_std=standartization(x)\n",
        "x_std.head()"
      ],
      "execution_count": 11,
      "outputs": [
        {
          "output_type": "execute_result",
          "data": {
            "text/html": [
              "<div>\n",
              "<style scoped>\n",
              "    .dataframe tbody tr th:only-of-type {\n",
              "        vertical-align: middle;\n",
              "    }\n",
              "\n",
              "    .dataframe tbody tr th {\n",
              "        vertical-align: top;\n",
              "    }\n",
              "\n",
              "    .dataframe thead th {\n",
              "        text-align: right;\n",
              "    }\n",
              "</style>\n",
              "<table border=\"1\" class=\"dataframe\">\n",
              "  <thead>\n",
              "    <tr style=\"text-align: right;\">\n",
              "      <th></th>\n",
              "      <th>age</th>\n",
              "      <th>gender</th>\n",
              "      <th>height</th>\n",
              "      <th>weight</th>\n",
              "      <th>ap_hi</th>\n",
              "      <th>ap_lo</th>\n",
              "      <th>cholesterol</th>\n",
              "      <th>gluc</th>\n",
              "      <th>smoke</th>\n",
              "      <th>alco</th>\n",
              "      <th>active</th>\n",
              "      <th>cardio</th>\n",
              "    </tr>\n",
              "  </thead>\n",
              "  <tbody>\n",
              "    <tr>\n",
              "      <th>0</th>\n",
              "      <td>-0.436071</td>\n",
              "      <td>2</td>\n",
              "      <td>0.443399</td>\n",
              "      <td>-0.847978</td>\n",
              "      <td>-0.122181</td>\n",
              "      <td>-0.088254</td>\n",
              "      <td>1</td>\n",
              "      <td>1</td>\n",
              "      <td>0</td>\n",
              "      <td>0</td>\n",
              "      <td>1</td>\n",
              "      <td>0</td>\n",
              "    </tr>\n",
              "    <tr>\n",
              "      <th>1</th>\n",
              "      <td>0.307635</td>\n",
              "      <td>1</td>\n",
              "      <td>-1.018016</td>\n",
              "      <td>0.749554</td>\n",
              "      <td>0.072577</td>\n",
              "      <td>-0.035205</td>\n",
              "      <td>3</td>\n",
              "      <td>1</td>\n",
              "      <td>0</td>\n",
              "      <td>0</td>\n",
              "      <td>1</td>\n",
              "      <td>1</td>\n",
              "    </tr>\n",
              "    <tr>\n",
              "      <th>2</th>\n",
              "      <td>-0.248017</td>\n",
              "      <td>1</td>\n",
              "      <td>0.078045</td>\n",
              "      <td>-0.709062</td>\n",
              "      <td>0.007658</td>\n",
              "      <td>-0.141303</td>\n",
              "      <td>3</td>\n",
              "      <td>1</td>\n",
              "      <td>0</td>\n",
              "      <td>0</td>\n",
              "      <td>0</td>\n",
              "      <td>1</td>\n",
              "    </tr>\n",
              "    <tr>\n",
              "      <th>3</th>\n",
              "      <td>-0.748143</td>\n",
              "      <td>2</td>\n",
              "      <td>0.565184</td>\n",
              "      <td>0.541180</td>\n",
              "      <td>0.137496</td>\n",
              "      <td>0.017844</td>\n",
              "      <td>1</td>\n",
              "      <td>1</td>\n",
              "      <td>0</td>\n",
              "      <td>0</td>\n",
              "      <td>1</td>\n",
              "      <td>1</td>\n",
              "    </tr>\n",
              "    <tr>\n",
              "      <th>4</th>\n",
              "      <td>-0.808532</td>\n",
              "      <td>1</td>\n",
              "      <td>-1.018016</td>\n",
              "      <td>-1.264725</td>\n",
              "      <td>-0.187100</td>\n",
              "      <td>-0.194352</td>\n",
              "      <td>1</td>\n",
              "      <td>1</td>\n",
              "      <td>0</td>\n",
              "      <td>0</td>\n",
              "      <td>0</td>\n",
              "      <td>0</td>\n",
              "    </tr>\n",
              "  </tbody>\n",
              "</table>\n",
              "</div>"
            ],
            "text/plain": [
              "        age  gender    height    weight  ...  smoke  alco  active  cardio\n",
              "0 -0.436071       2  0.443399 -0.847978  ...      0     0       1       0\n",
              "1  0.307635       1 -1.018016  0.749554  ...      0     0       1       1\n",
              "2 -0.248017       1  0.078045 -0.709062  ...      0     0       0       1\n",
              "3 -0.748143       2  0.565184  0.541180  ...      0     0       1       1\n",
              "4 -0.808532       1 -1.018016 -1.264725  ...      0     0       0       0\n",
              "\n",
              "[5 rows x 12 columns]"
            ]
          },
          "metadata": {
            "tags": []
          },
          "execution_count": 11
        }
      ]
    },
    {
      "cell_type": "code",
      "metadata": {
        "id": "7OOvxD2wi3nM",
        "colab": {
          "base_uri": "https://localhost:8080/",
          "height": 406
        },
        "outputId": "1ea362be-3d7a-45d0-8309-dc569655f6ec"
      },
      "source": [
        "#Visualization\n",
        "#In order to use the multi box graph plot we need to melt out data.\n",
        "x_melted = pd.melt(frame=x_std, id_vars=\"cardio\", value_vars=s_list, var_name=\"features\", value_name=\"value\", col_level=None)\n",
        "x_melted\n",
        "\n",
        "#melt() function is useful to massage a DataFrame into a format where one or more columns are identifier variables, while all other columns, \n",
        "#considered measured variables, are unpivoted to the row axis, leaving just two non-identifier columns, variable and value."
      ],
      "execution_count": 12,
      "outputs": [
        {
          "output_type": "execute_result",
          "data": {
            "text/html": [
              "<div>\n",
              "<style scoped>\n",
              "    .dataframe tbody tr th:only-of-type {\n",
              "        vertical-align: middle;\n",
              "    }\n",
              "\n",
              "    .dataframe tbody tr th {\n",
              "        vertical-align: top;\n",
              "    }\n",
              "\n",
              "    .dataframe thead th {\n",
              "        text-align: right;\n",
              "    }\n",
              "</style>\n",
              "<table border=\"1\" class=\"dataframe\">\n",
              "  <thead>\n",
              "    <tr style=\"text-align: right;\">\n",
              "      <th></th>\n",
              "      <th>cardio</th>\n",
              "      <th>features</th>\n",
              "      <th>value</th>\n",
              "    </tr>\n",
              "  </thead>\n",
              "  <tbody>\n",
              "    <tr>\n",
              "      <th>0</th>\n",
              "      <td>0</td>\n",
              "      <td>age</td>\n",
              "      <td>-0.436071</td>\n",
              "    </tr>\n",
              "    <tr>\n",
              "      <th>1</th>\n",
              "      <td>1</td>\n",
              "      <td>age</td>\n",
              "      <td>0.307635</td>\n",
              "    </tr>\n",
              "    <tr>\n",
              "      <th>2</th>\n",
              "      <td>1</td>\n",
              "      <td>age</td>\n",
              "      <td>-0.248017</td>\n",
              "    </tr>\n",
              "    <tr>\n",
              "      <th>3</th>\n",
              "      <td>1</td>\n",
              "      <td>age</td>\n",
              "      <td>-0.748143</td>\n",
              "    </tr>\n",
              "    <tr>\n",
              "      <th>4</th>\n",
              "      <td>0</td>\n",
              "      <td>age</td>\n",
              "      <td>-0.808532</td>\n",
              "    </tr>\n",
              "    <tr>\n",
              "      <th>...</th>\n",
              "      <td>...</td>\n",
              "      <td>...</td>\n",
              "      <td>...</td>\n",
              "    </tr>\n",
              "    <tr>\n",
              "      <th>349875</th>\n",
              "      <td>0</td>\n",
              "      <td>ap_lo</td>\n",
              "      <td>-0.088254</td>\n",
              "    </tr>\n",
              "    <tr>\n",
              "      <th>349876</th>\n",
              "      <td>1</td>\n",
              "      <td>ap_lo</td>\n",
              "      <td>-0.035205</td>\n",
              "    </tr>\n",
              "    <tr>\n",
              "      <th>349877</th>\n",
              "      <td>1</td>\n",
              "      <td>ap_lo</td>\n",
              "      <td>-0.035205</td>\n",
              "    </tr>\n",
              "    <tr>\n",
              "      <th>349878</th>\n",
              "      <td>1</td>\n",
              "      <td>ap_lo</td>\n",
              "      <td>-0.088254</td>\n",
              "    </tr>\n",
              "    <tr>\n",
              "      <th>349879</th>\n",
              "      <td>0</td>\n",
              "      <td>ap_lo</td>\n",
              "      <td>-0.088254</td>\n",
              "    </tr>\n",
              "  </tbody>\n",
              "</table>\n",
              "<p>349880 rows × 3 columns</p>\n",
              "</div>"
            ],
            "text/plain": [
              "        cardio features     value\n",
              "0            0      age -0.436071\n",
              "1            1      age  0.307635\n",
              "2            1      age -0.248017\n",
              "3            1      age -0.748143\n",
              "4            0      age -0.808532\n",
              "...        ...      ...       ...\n",
              "349875       0    ap_lo -0.088254\n",
              "349876       1    ap_lo -0.035205\n",
              "349877       1    ap_lo -0.035205\n",
              "349878       1    ap_lo -0.088254\n",
              "349879       0    ap_lo -0.088254\n",
              "\n",
              "[349880 rows x 3 columns]"
            ]
          },
          "metadata": {
            "tags": []
          },
          "execution_count": 12
        }
      ]
    },
    {
      "cell_type": "code",
      "metadata": {
        "id": "FSiiKJZqlLgx",
        "colab": {
          "base_uri": "https://localhost:8080/",
          "height": 647
        },
        "outputId": "31927f55-d5c3-4b12-d6f2-b03e3710be6a"
      },
      "source": [
        "plt.figure(figsize=(10,10))\n",
        "sns.boxplot(x=\"features\", y=\"value\", hue=\"cardio\", data=x_melted)\n",
        "plt.xticks(rotation=90)"
      ],
      "execution_count": 13,
      "outputs": [
        {
          "output_type": "execute_result",
          "data": {
            "text/plain": [
              "(array([0, 1, 2, 3, 4]), <a list of 5 Text major ticklabel objects>)"
            ]
          },
          "metadata": {
            "tags": []
          },
          "execution_count": 13
        },
        {
          "output_type": "display_data",
          "data": {
            "image/png": "[encoded data removed]",
            "text/plain": [
              "<Figure size 720x720 with 1 Axes>"
            ]
          },
          "metadata": {
            "tags": [],
            "needs_background": "light"
          }
        }
      ]
    },
    {
      "cell_type": "code",
      "metadata": {
        "id": "RrGqHmJAltS0",
        "colab": {
          "base_uri": "https://localhost:8080/",
          "height": 107
        },
        "outputId": "a00daa9f-c9b5-41f7-fa2d-bd9514b105bc"
      },
      "source": [
        "#There are some outliers in the dataset, but as seen above there is an unusual outlier in ap_hi and ap_lo features.\n",
        "#Let us calculate the low bound and hi bound of ap_lo and ap_hi features\n",
        "ap_list = [\"ap_hi\", \"ap_lo\",\"height\",\"weight\"]\n",
        "boundary = pd.DataFrame(index=[\"lower_bound\",\"upper_bound\"]) # We created an empty dataframe\n",
        "for each in ap_list:\n",
        "    Q1 = x[each].quantile(0.25)\n",
        "    Q3 = x[each].quantile(0.75)\n",
        "    IQR = Q3 - Q1\n",
        "\n",
        "    lower_bound = Q1- 1.5*IQR\n",
        "    upper_bound = Q3 + 1.5*IQR\n",
        "    boundary[each] = [lower_bound, upper_bound ]\n",
        "boundary"
      ],
      "execution_count": 14,
      "outputs": [
        {
          "output_type": "execute_result",
          "data": {
            "text/html": [
              "<div>\n",
              "<style scoped>\n",
              "    .dataframe tbody tr th:only-of-type {\n",
              "        vertical-align: middle;\n",
              "    }\n",
              "\n",
              "    .dataframe tbody tr th {\n",
              "        vertical-align: top;\n",
              "    }\n",
              "\n",
              "    .dataframe thead th {\n",
              "        text-align: right;\n",
              "    }\n",
              "</style>\n",
              "<table border=\"1\" class=\"dataframe\">\n",
              "  <thead>\n",
              "    <tr style=\"text-align: right;\">\n",
              "      <th></th>\n",
              "      <th>ap_hi</th>\n",
              "      <th>ap_lo</th>\n",
              "      <th>height</th>\n",
              "      <th>weight</th>\n",
              "    </tr>\n",
              "  </thead>\n",
              "  <tbody>\n",
              "    <tr>\n",
              "      <th>lower_bound</th>\n",
              "      <td>90.0</td>\n",
              "      <td>65.0</td>\n",
              "      <td>142.5</td>\n",
              "      <td>39.5</td>\n",
              "    </tr>\n",
              "    <tr>\n",
              "      <th>upper_bound</th>\n",
              "      <td>170.0</td>\n",
              "      <td>105.0</td>\n",
              "      <td>186.5</td>\n",
              "      <td>107.5</td>\n",
              "    </tr>\n",
              "  </tbody>\n",
              "</table>\n",
              "</div>"
            ],
            "text/plain": [
              "             ap_hi  ap_lo  height  weight\n",
              "lower_bound   90.0   65.0   142.5    39.5\n",
              "upper_bound  170.0  105.0   186.5   107.5"
            ]
          },
          "metadata": {
            "tags": []
          },
          "execution_count": 14
        }
      ]
    },
    {
      "cell_type": "code",
      "metadata": {
        "id": "wM1cq4o_6P4k",
        "colab": {
          "base_uri": "https://localhost:8080/"
        },
        "outputId": "9d3dfcfd-7a28-463c-98cc-10095e6fc4ae"
      },
      "source": [
        "#We can select the index of outlier data by using boundaries we calculated.\n",
        "#Normally we should analyze both upper outliers and below outliers but in this case, I consider to handle \n",
        "#just uppers because of their extremely higher values.\n",
        "ap_hi_filter = (x[\"ap_hi\"] > boundary[\"ap_hi\"][1])\n",
        "ap_lo_filter = (x[\"ap_lo\"] > boundary[\"ap_lo\"][1])                                                           \n",
        "outlier_filter = (ap_hi_filter | ap_lo_filter)\n",
        "x_outliers = x[outlier_filter]\n",
        "x_outliers[\"cardio\"].value_counts()"
      ],
      "execution_count": 15,
      "outputs": [
        {
          "output_type": "execute_result",
          "data": {
            "text/plain": [
              "1    2025\n",
              "0     388\n",
              "Name: cardio, dtype: int64"
            ]
          },
          "metadata": {
            "tags": []
          },
          "execution_count": 15
        }
      ]
    },
    {
      "cell_type": "code",
      "metadata": {
        "id": "Qyq2C27O_xPW",
        "colab": {
          "base_uri": "https://localhost:8080/",
          "height": 297
        },
        "outputId": "e1094d45-e495-4dea-8ac7-29b347e29662"
      },
      "source": [
        "#Cardiovascular disease is present in 83 percent of the ap_hi and ap_lo outlier data,\n",
        "#Because of ap_hi and ap_lo symbolizes high blood pressure, the high rate of disease is consistent with real life.\n",
        "#For this reason, I decided to drop just medically impossible data from the dataset.\n",
        "#And I have dropped some of data because we have sufficent data (70000) otherwise I would try to handle them by assigning new values.\n",
        "sns.countplot(x='cardio',data=x_outliers,linewidth=2,edgecolor=sns.color_palette(\"dark\", 1))"
      ],
      "execution_count": 16,
      "outputs": [
        {
          "output_type": "execute_result",
          "data": {
            "text/plain": [
              "<matplotlib.axes._subplots.AxesSubplot at 0x7f6638c73c88>"
            ]
          },
          "metadata": {
            "tags": []
          },
          "execution_count": 16
        },
        {
          "output_type": "display_data",
          "data": {
            "image/png": "[encoded data removed]",
            "text/plain": [
              "<Figure size 432x288 with 1 Axes>"
            ]
          },
          "metadata": {
            "tags": [],
            "needs_background": "light"
          }
        }
      ]
    },
    {
      "cell_type": "code",
      "metadata": {
        "id": "4-dzBu6YB-Ko",
        "colab": {
          "base_uri": "https://localhost:8080/"
        },
        "outputId": "65454a8f-cfec-4a2f-abf7-f7cc442490fd"
      },
      "source": [
        "#A study published by doctors in NCBI NLM recorded a maximum blood pressure of 370/360 mm Hg. This study was performed by recording blood pressure in 10 male athletes through radial artery catheterization.\n",
        "#Thus we can drop the ap_hi outlier values over 250 and ap_lo outlier values over 200, without fear of missing data.\n",
        "out_filter_bp = ((x[\"ap_hi\"]>250) | (x[\"ap_lo\"]>200) )\n",
        "print(\"There is {} outlier\".format(x[out_filter_bp][\"cardio\"].count()))\n",
        "\n",
        "#We remove lower and higher outliers for height and weight\n",
        "ht_filter = (x[\"height\"] > boundary[\"height\"][1])\n",
        "ht_filter_l = (x[\"height\"] < boundary[\"height\"][0])\n",
        "wt_filter = (x[\"weight\"] > boundary[\"weight\"][1])\n",
        "wt_filter_l = (x[\"weight\"] < boundary[\"weight\"][0])                                                           \n",
        "outlier_filter_hw = (ht_filter | wt_filter|ht_filter_l|wt_filter_l)\n",
        "x_outliers_hw = x[outlier_filter_hw]\n",
        "x_outliers_hw[\"cardio\"].value_counts()\n",
        "\n",
        "out_filter_h = ((x[\"height\"] > boundary[\"height\"][1]) | (x[\"height\"] < boundary[\"height\"][0]))\n",
        "out_filter_w = ((x[\"weight\"] > boundary[\"weight\"][1]) | (x[\"weight\"] < boundary[\"weight\"][0]))\n",
        "print(\"There is {} outlier\".format(x[out_filter_h][\"cardio\"].count()))\n",
        "print(\"There is {} outlier\".format(x[out_filter_w][\"cardio\"].count()))\n"
      ],
      "execution_count": 17,
      "outputs": [
        {
          "output_type": "stream",
          "text": [
            "There is 993 outlier\n",
            "There is 519 outlier\n",
            "There is 1819 outlier\n"
          ],
          "name": "stdout"
        }
      ]
    },
    {
      "cell_type": "code",
      "metadata": {
        "id": "esdTZRM8yoxh",
        "outputId": "56336f3b-7e27-4455-97ab-07492e77ae3a",
        "colab": {
          "base_uri": "https://localhost:8080/"
        }
      },
      "source": [
        "x = x[~out_filter_bp]\n",
        "x=x[~out_filter_h]\n",
        "x=x[~out_filter_w]\n",
        "\n",
        "#Higher diastolic than systolic blood pressure is impossible, too. So let's remove these.\n",
        "x.drop(x[x[\"ap_lo\"] > x[\"ap_hi\"]].index, inplace=True)\n",
        "x.drop(x[x[\"ap_lo\"] <= 30].index, inplace=True)\n",
        "x.drop(x[x[\"ap_hi\"] <= 40].index, inplace=True)\n",
        "x.drop(x[x[\"ap_lo\"] >= 200].index, inplace=True)\n",
        "x.drop(x[x[\"ap_hi\"] >= 250].index, inplace=True)\n",
        "\n",
        "x.shape"
      ],
      "execution_count": 18,
      "outputs": [
        {
          "output_type": "stream",
          "text": [
            "/usr/local/lib/python3.6/dist-packages/ipykernel_launcher.py:2: UserWarning: Boolean Series key will be reindexed to match DataFrame index.\n",
            "  \n",
            "/usr/local/lib/python3.6/dist-packages/ipykernel_launcher.py:3: UserWarning: Boolean Series key will be reindexed to match DataFrame index.\n",
            "  This is separate from the ipykernel package so we can avoid doing imports until\n"
          ],
          "name": "stderr"
        },
        {
          "output_type": "execute_result",
          "data": {
            "text/plain": [
              "(66459, 12)"
            ]
          },
          "metadata": {
            "tags": []
          },
          "execution_count": 18
        }
      ]
    },
    {
      "cell_type": "code",
      "metadata": {
        "id": "DlMLCKboCCeY",
        "colab": {
          "base_uri": "https://localhost:8080/",
          "height": 1000
        },
        "outputId": "c0136231-864e-47be-8255-d73ab36ef17a"
      },
      "source": [
        "\n",
        "corr = x.corr()\n",
        "f, ax = plt.subplots(figsize = (15,15))\n",
        "sns.heatmap(corr, annot=True, fmt=\".3f\", linewidths=0.5, ax=ax)\n",
        "corr\n",
        "\n",
        "#We can see from correlation map easily; cholesterol, blood pressure (ap_hi and ap_low both) and age have a powerful relationship with cardiovascular diseases.\n",
        "#Glucogen and cholesterol have a strong relationship among them either."
      ],
      "execution_count": 19,
      "outputs": [
        {
          "output_type": "execute_result",
          "data": {
            "text/html": [
              "<div>\n",
              "<style scoped>\n",
              "    .dataframe tbody tr th:only-of-type {\n",
              "        vertical-align: middle;\n",
              "    }\n",
              "\n",
              "    .dataframe tbody tr th {\n",
              "        vertical-align: top;\n",
              "    }\n",
              "\n",
              "    .dataframe thead th {\n",
              "        text-align: right;\n",
              "    }\n",
              "</style>\n",
              "<table border=\"1\" class=\"dataframe\">\n",
              "  <thead>\n",
              "    <tr style=\"text-align: right;\">\n",
              "      <th></th>\n",
              "      <th>age</th>\n",
              "      <th>gender</th>\n",
              "      <th>height</th>\n",
              "      <th>weight</th>\n",
              "      <th>ap_hi</th>\n",
              "      <th>ap_lo</th>\n",
              "      <th>cholesterol</th>\n",
              "      <th>gluc</th>\n",
              "      <th>smoke</th>\n",
              "      <th>alco</th>\n",
              "      <th>active</th>\n",
              "      <th>cardio</th>\n",
              "    </tr>\n",
              "  </thead>\n",
              "  <tbody>\n",
              "    <tr>\n",
              "      <th>age</th>\n",
              "      <td>1.000000</td>\n",
              "      <td>-0.021335</td>\n",
              "      <td>-0.085890</td>\n",
              "      <td>0.068481</td>\n",
              "      <td>0.213281</td>\n",
              "      <td>0.160724</td>\n",
              "      <td>0.157028</td>\n",
              "      <td>0.098836</td>\n",
              "      <td>-0.044958</td>\n",
              "      <td>-0.027551</td>\n",
              "      <td>-0.011062</td>\n",
              "      <td>0.243087</td>\n",
              "    </tr>\n",
              "    <tr>\n",
              "      <th>gender</th>\n",
              "      <td>-0.021335</td>\n",
              "      <td>1.000000</td>\n",
              "      <td>0.519479</td>\n",
              "      <td>0.162291</td>\n",
              "      <td>0.061069</td>\n",
              "      <td>0.065718</td>\n",
              "      <td>-0.038693</td>\n",
              "      <td>-0.022920</td>\n",
              "      <td>0.339302</td>\n",
              "      <td>0.170253</td>\n",
              "      <td>0.007178</td>\n",
              "      <td>0.004527</td>\n",
              "    </tr>\n",
              "    <tr>\n",
              "      <th>height</th>\n",
              "      <td>-0.085890</td>\n",
              "      <td>0.519479</td>\n",
              "      <td>1.000000</td>\n",
              "      <td>0.310426</td>\n",
              "      <td>0.009114</td>\n",
              "      <td>0.027818</td>\n",
              "      <td>-0.064388</td>\n",
              "      <td>-0.026080</td>\n",
              "      <td>0.193968</td>\n",
              "      <td>0.094535</td>\n",
              "      <td>-0.007460</td>\n",
              "      <td>-0.019020</td>\n",
              "    </tr>\n",
              "    <tr>\n",
              "      <th>weight</th>\n",
              "      <td>0.068481</td>\n",
              "      <td>0.162291</td>\n",
              "      <td>0.310426</td>\n",
              "      <td>1.000000</td>\n",
              "      <td>0.255413</td>\n",
              "      <td>0.242734</td>\n",
              "      <td>0.130159</td>\n",
              "      <td>0.091228</td>\n",
              "      <td>0.063305</td>\n",
              "      <td>0.064226</td>\n",
              "      <td>-0.015015</td>\n",
              "      <td>0.175799</td>\n",
              "    </tr>\n",
              "    <tr>\n",
              "      <th>ap_hi</th>\n",
              "      <td>0.213281</td>\n",
              "      <td>0.061069</td>\n",
              "      <td>0.009114</td>\n",
              "      <td>0.255413</td>\n",
              "      <td>1.000000</td>\n",
              "      <td>0.733157</td>\n",
              "      <td>0.193048</td>\n",
              "      <td>0.087781</td>\n",
              "      <td>0.025061</td>\n",
              "      <td>0.032222</td>\n",
              "      <td>0.000865</td>\n",
              "      <td>0.428567</td>\n",
              "    </tr>\n",
              "    <tr>\n",
              "      <th>ap_lo</th>\n",
              "      <td>0.160724</td>\n",
              "      <td>0.065718</td>\n",
              "      <td>0.027818</td>\n",
              "      <td>0.242734</td>\n",
              "      <td>0.733157</td>\n",
              "      <td>1.000000</td>\n",
              "      <td>0.158147</td>\n",
              "      <td>0.069367</td>\n",
              "      <td>0.023605</td>\n",
              "      <td>0.034183</td>\n",
              "      <td>0.000738</td>\n",
              "      <td>0.338930</td>\n",
              "    </tr>\n",
              "    <tr>\n",
              "      <th>cholesterol</th>\n",
              "      <td>0.157028</td>\n",
              "      <td>-0.038693</td>\n",
              "      <td>-0.064388</td>\n",
              "      <td>0.130159</td>\n",
              "      <td>0.193048</td>\n",
              "      <td>0.158147</td>\n",
              "      <td>1.000000</td>\n",
              "      <td>0.449185</td>\n",
              "      <td>0.006794</td>\n",
              "      <td>0.033367</td>\n",
              "      <td>0.009425</td>\n",
              "      <td>0.220301</td>\n",
              "    </tr>\n",
              "    <tr>\n",
              "      <th>gluc</th>\n",
              "      <td>0.098836</td>\n",
              "      <td>-0.022920</td>\n",
              "      <td>-0.026080</td>\n",
              "      <td>0.091228</td>\n",
              "      <td>0.087781</td>\n",
              "      <td>0.069367</td>\n",
              "      <td>0.449185</td>\n",
              "      <td>1.000000</td>\n",
              "      <td>-0.009974</td>\n",
              "      <td>0.006446</td>\n",
              "      <td>-0.007052</td>\n",
              "      <td>0.088919</td>\n",
              "    </tr>\n",
              "    <tr>\n",
              "      <th>smoke</th>\n",
              "      <td>-0.044958</td>\n",
              "      <td>0.339302</td>\n",
              "      <td>0.193968</td>\n",
              "      <td>0.063305</td>\n",
              "      <td>0.025061</td>\n",
              "      <td>0.023605</td>\n",
              "      <td>0.006794</td>\n",
              "      <td>-0.009974</td>\n",
              "      <td>1.000000</td>\n",
              "      <td>0.341654</td>\n",
              "      <td>0.028331</td>\n",
              "      <td>-0.019440</td>\n",
              "    </tr>\n",
              "    <tr>\n",
              "      <th>alco</th>\n",
              "      <td>-0.027551</td>\n",
              "      <td>0.170253</td>\n",
              "      <td>0.094535</td>\n",
              "      <td>0.064226</td>\n",
              "      <td>0.032222</td>\n",
              "      <td>0.034183</td>\n",
              "      <td>0.033367</td>\n",
              "      <td>0.006446</td>\n",
              "      <td>0.341654</td>\n",
              "      <td>1.000000</td>\n",
              "      <td>0.026696</td>\n",
              "      <td>-0.010534</td>\n",
              "    </tr>\n",
              "    <tr>\n",
              "      <th>active</th>\n",
              "      <td>-0.011062</td>\n",
              "      <td>0.007178</td>\n",
              "      <td>-0.007460</td>\n",
              "      <td>-0.015015</td>\n",
              "      <td>0.000865</td>\n",
              "      <td>0.000738</td>\n",
              "      <td>0.009425</td>\n",
              "      <td>-0.007052</td>\n",
              "      <td>0.028331</td>\n",
              "      <td>0.026696</td>\n",
              "      <td>1.000000</td>\n",
              "      <td>-0.037560</td>\n",
              "    </tr>\n",
              "    <tr>\n",
              "      <th>cardio</th>\n",
              "      <td>0.243087</td>\n",
              "      <td>0.004527</td>\n",
              "      <td>-0.019020</td>\n",
              "      <td>0.175799</td>\n",
              "      <td>0.428567</td>\n",
              "      <td>0.338930</td>\n",
              "      <td>0.220301</td>\n",
              "      <td>0.088919</td>\n",
              "      <td>-0.019440</td>\n",
              "      <td>-0.010534</td>\n",
              "      <td>-0.037560</td>\n",
              "      <td>1.000000</td>\n",
              "    </tr>\n",
              "  </tbody>\n",
              "</table>\n",
              "</div>"
            ],
            "text/plain": [
              "                  age    gender    height  ...      alco    active    cardio\n",
              "age          1.000000 -0.021335 -0.085890  ... -0.027551 -0.011062  0.243087\n",
              "gender      -0.021335  1.000000  0.519479  ...  0.170253  0.007178  0.004527\n",
              "height      -0.085890  0.519479  1.000000  ...  0.094535 -0.007460 -0.019020\n",
              "weight       0.068481  0.162291  0.310426  ...  0.064226 -0.015015  0.175799\n",
              "ap_hi        0.213281  0.061069  0.009114  ...  0.032222  0.000865  0.428567\n",
              "ap_lo        0.160724  0.065718  0.027818  ...  0.034183  0.000738  0.338930\n",
              "cholesterol  0.157028 -0.038693 -0.064388  ...  0.033367  0.009425  0.220301\n",
              "gluc         0.098836 -0.022920 -0.026080  ...  0.006446 -0.007052  0.088919\n",
              "smoke       -0.044958  0.339302  0.193968  ...  0.341654  0.028331 -0.019440\n",
              "alco        -0.027551  0.170253  0.094535  ...  1.000000  0.026696 -0.010534\n",
              "active      -0.011062  0.007178 -0.007460  ...  0.026696  1.000000 -0.037560\n",
              "cardio       0.243087  0.004527 -0.019020  ... -0.010534 -0.037560  1.000000\n",
              "\n",
              "[12 rows x 12 columns]"
            ]
          },
          "metadata": {
            "tags": []
          },
          "execution_count": 19
        },
        {
          "output_type": "display_data",
          "data": {
            "image/png": "[encoded data removed]",
            "text/plain": [
              "<Figure size 1080x1080 with 2 Axes>"
            ]
          },
          "metadata": {
            "tags": [],
            "needs_background": "light"
          }
        }
      ]
    },
    {
      "cell_type": "code",
      "metadata": {
        "id": "109IJAlmpivu",
        "colab": {
          "base_uri": "https://localhost:8080/",
          "height": 197
        },
        "outputId": "de838e19-22ce-41ea-beb1-db7b7808e056"
      },
      "source": [
        "#Calculating BMI\n",
        "def bmi_calc(w, h):\n",
        "    return w/(h**2)\n",
        "x[\"bmi\"] = x[\"weight\"]/ (x[\"height\"]/100)**2\n",
        "\n",
        "x.head()"
      ],
      "execution_count": 20,
      "outputs": [
        {
          "output_type": "execute_result",
          "data": {
            "text/html": [
              "<div>\n",
              "<style scoped>\n",
              "    .dataframe tbody tr th:only-of-type {\n",
              "        vertical-align: middle;\n",
              "    }\n",
              "\n",
              "    .dataframe tbody tr th {\n",
              "        vertical-align: top;\n",
              "    }\n",
              "\n",
              "    .dataframe thead th {\n",
              "        text-align: right;\n",
              "    }\n",
              "</style>\n",
              "<table border=\"1\" class=\"dataframe\">\n",
              "  <thead>\n",
              "    <tr style=\"text-align: right;\">\n",
              "      <th></th>\n",
              "      <th>age</th>\n",
              "      <th>gender</th>\n",
              "      <th>height</th>\n",
              "      <th>weight</th>\n",
              "      <th>ap_hi</th>\n",
              "      <th>ap_lo</th>\n",
              "      <th>cholesterol</th>\n",
              "      <th>gluc</th>\n",
              "      <th>smoke</th>\n",
              "      <th>alco</th>\n",
              "      <th>active</th>\n",
              "      <th>cardio</th>\n",
              "      <th>bmi</th>\n",
              "    </tr>\n",
              "  </thead>\n",
              "  <tbody>\n",
              "    <tr>\n",
              "      <th>0</th>\n",
              "      <td>18393</td>\n",
              "      <td>2</td>\n",
              "      <td>168</td>\n",
              "      <td>62.0</td>\n",
              "      <td>110</td>\n",
              "      <td>80</td>\n",
              "      <td>1</td>\n",
              "      <td>1</td>\n",
              "      <td>0</td>\n",
              "      <td>0</td>\n",
              "      <td>1</td>\n",
              "      <td>0</td>\n",
              "      <td>21.967120</td>\n",
              "    </tr>\n",
              "    <tr>\n",
              "      <th>1</th>\n",
              "      <td>20228</td>\n",
              "      <td>1</td>\n",
              "      <td>156</td>\n",
              "      <td>85.0</td>\n",
              "      <td>140</td>\n",
              "      <td>90</td>\n",
              "      <td>3</td>\n",
              "      <td>1</td>\n",
              "      <td>0</td>\n",
              "      <td>0</td>\n",
              "      <td>1</td>\n",
              "      <td>1</td>\n",
              "      <td>34.927679</td>\n",
              "    </tr>\n",
              "    <tr>\n",
              "      <th>2</th>\n",
              "      <td>18857</td>\n",
              "      <td>1</td>\n",
              "      <td>165</td>\n",
              "      <td>64.0</td>\n",
              "      <td>130</td>\n",
              "      <td>70</td>\n",
              "      <td>3</td>\n",
              "      <td>1</td>\n",
              "      <td>0</td>\n",
              "      <td>0</td>\n",
              "      <td>0</td>\n",
              "      <td>1</td>\n",
              "      <td>23.507805</td>\n",
              "    </tr>\n",
              "    <tr>\n",
              "      <th>3</th>\n",
              "      <td>17623</td>\n",
              "      <td>2</td>\n",
              "      <td>169</td>\n",
              "      <td>82.0</td>\n",
              "      <td>150</td>\n",
              "      <td>100</td>\n",
              "      <td>1</td>\n",
              "      <td>1</td>\n",
              "      <td>0</td>\n",
              "      <td>0</td>\n",
              "      <td>1</td>\n",
              "      <td>1</td>\n",
              "      <td>28.710479</td>\n",
              "    </tr>\n",
              "    <tr>\n",
              "      <th>4</th>\n",
              "      <td>17474</td>\n",
              "      <td>1</td>\n",
              "      <td>156</td>\n",
              "      <td>56.0</td>\n",
              "      <td>100</td>\n",
              "      <td>60</td>\n",
              "      <td>1</td>\n",
              "      <td>1</td>\n",
              "      <td>0</td>\n",
              "      <td>0</td>\n",
              "      <td>0</td>\n",
              "      <td>0</td>\n",
              "      <td>23.011177</td>\n",
              "    </tr>\n",
              "  </tbody>\n",
              "</table>\n",
              "</div>"
            ],
            "text/plain": [
              "     age  gender  height  weight  ap_hi  ...  smoke  alco  active  cardio        bmi\n",
              "0  18393       2     168    62.0    110  ...      0     0       1       0  21.967120\n",
              "1  20228       1     156    85.0    140  ...      0     0       1       1  34.927679\n",
              "2  18857       1     165    64.0    130  ...      0     0       0       1  23.507805\n",
              "3  17623       2     169    82.0    150  ...      0     0       1       1  28.710479\n",
              "4  17474       1     156    56.0    100  ...      0     0       0       0  23.011177\n",
              "\n",
              "[5 rows x 13 columns]"
            ]
          },
          "metadata": {
            "tags": []
          },
          "execution_count": 20
        }
      ]
    },
    {
      "cell_type": "code",
      "metadata": {
        "id": "fjGMTgZbzKn8",
        "colab": {
          "base_uri": "https://localhost:8080/"
        },
        "outputId": "934e894a-b1c2-4394-a75a-97835cab2187"
      },
      "source": [
        "#gender detection\n",
        "a = x[x[\"gender\"]==1][\"height\"].mean()\n",
        "b = x[x[\"gender\"]==2][\"height\"].mean()\n",
        "if a > b:\n",
        "    gender = \"male\"\n",
        "    gender2 = \"female\"\n",
        "else:\n",
        "    gender = \"female\"\n",
        "    gender2 = \"male\"\n",
        "print(\"Gender:1 is \"+ gender +\" & Gender:2 is \" + gender2)\n",
        "\n",
        "#We did not change other categorical code to one hot encoding because they express really hierarchical size\n",
        "#An example from describtion of dataset : Cholesterol | 1: normal, 2: above normal, 3: well above normal"
      ],
      "execution_count": 21,
      "outputs": [
        {
          "output_type": "stream",
          "text": [
            "Gender:1 is female & Gender:2 is male\n"
          ],
          "name": "stdout"
        }
      ]
    },
    {
      "cell_type": "code",
      "metadata": {
        "id": "ID3x9-kgr4ce"
      },
      "source": [
        "x[\"gender\"] = x[\"gender\"] % 2"
      ],
      "execution_count": 22,
      "outputs": []
    },
    {
      "cell_type": "code",
      "metadata": {
        "id": "n7ild2tCs5U8",
        "colab": {
          "base_uri": "https://localhost:8080/",
          "height": 620
        },
        "outputId": "7413d58a-0a6c-4a27-d791-b19d0ddeac2b"
      },
      "source": [
        "from sklearn.preprocessing import StandardScaler\n",
        "x_std = standartization(x)\n",
        "\n",
        "data = pd.melt(x_std,id_vars=\"cardio\",\n",
        "                    var_name=\"features\",\n",
        "                    value_name='value')\n",
        "plt.figure(figsize=(10,10))\n",
        "sns.violinplot(x=\"gender\", y=\"bmi\", hue=\"cardio\", data=x,split=True, inner=\"quart\")\n",
        "plt.xticks(rotation=90)\n",
        "#If we interpret the violin plot, the median and quartiles of bmi distribution of patients is slightly higher than non-patients."
      ],
      "execution_count": 23,
      "outputs": [
        {
          "output_type": "execute_result",
          "data": {
            "text/plain": [
              "(array([0, 1]), <a list of 2 Text major ticklabel objects>)"
            ]
          },
          "metadata": {
            "tags": []
          },
          "execution_count": 23
        },
        {
          "output_type": "display_data",
          "data": {
            "image/png": "[encoded data removed]",
            "text/plain": [
              "<Figure size 720x720 with 1 Axes>"
            ]
          },
          "metadata": {
            "tags": [],
            "needs_background": "light"
          }
        }
      ]
    },
    {
      "cell_type": "code",
      "metadata": {
        "id": "RG0U-LBmt8bm",
        "colab": {
          "base_uri": "https://localhost:8080/",
          "height": 1000
        },
        "outputId": "5fbc1df2-08e1-4e41-f928-0ee7c6b8279f"
      },
      "source": [
        "y = x[\"cardio\"]\n",
        "y.shape\n",
        "x.drop(\"cardio\", axis=1,inplace=True)\n",
        "x.head()\n",
        "\n",
        "#train-test split\n",
        "from sklearn.model_selection import train_test_split\n",
        "x_train,x_test, y_train, y_test = train_test_split(x,y,test_size=0.2,random_state=42)\n",
        "\n",
        "#Normalization\n",
        "from sklearn.preprocessing import normalize\n",
        "x_train = normalize(x_train)\n",
        "x_test = normalize(x_test)\n",
        "x = normalize(x)\n",
        "\n",
        "from sklearn.tree import DecisionTreeClassifier\n",
        "from sklearn.ensemble import RandomForestClassifier\n",
        "from sklearn.neighbors import KNeighborsClassifier\n",
        "from sklearn.svm import SVC\n",
        "from sklearn.naive_bayes import GaussianNB\n",
        "\n",
        "dec = DecisionTreeClassifier()\n",
        "ran = RandomForestClassifier(n_estimators=100)\n",
        "knn = KNeighborsClassifier(n_neighbors=100)\n",
        "svm = SVC(random_state=1)\n",
        "naive = GaussianNB()\n",
        "\n",
        "#models to be fitted\n",
        "#later part added AUC scores and plots for better evaluation\n",
        "models = {\"Decision tree\" : dec,\n",
        "          \"Random forest\" : ran,\n",
        "          \"KNN\" : knn,\n",
        "          \"SVM\" : svm,\n",
        "          \"Naive bayes\" : naive}\n",
        "scores= { }\n",
        "auc={ }\n",
        "\n",
        "for key, value in models.items():    \n",
        "    model = value\n",
        "    model.fit(x_train, y_train)\n",
        "    scores[key] = model.score(x_test, y_test)\n",
        "    print(key)\n",
        "    print(\"Accuracy Score\", scores[key])\n",
        "\n",
        "    y_pred = model.predict(x_test)\n",
        "    cm = confusion_matrix(y_test, y_pred.round())\n",
        "    print(\"Confusion Matrix:\", \"\\n\", cm)\n",
        "\n",
        "    tpr, fpr, threshold = roc_curve(y_test, y_pred)\n",
        "    auc[key] = roc_auc_score(y_test, y_pred)\n",
        "    print(\"AUC Score\", auc[key])\n",
        "\n",
        "    plt.plot(tpr, fpr)\n",
        "    plt.show()"
      ],
      "execution_count": 24,
      "outputs": [
        {
          "output_type": "stream",
          "text": [
            "Decision tree\n",
            "Accuracy Score 0.6294763767679807\n",
            "Confusion Matrix: \n",
            " [[4355 2444]\n",
            " [2481 4012]]\n",
            "AUC Score 0.6292157843761144\n"
          ],
          "name": "stdout"
        },
        {
          "output_type": "display_data",
          "data": {
            "image/png": "[encoded data removed]",
            "text/plain": [
              "<Figure size 432x288 with 1 Axes>"
            ]
          },
          "metadata": {
            "tags": [],
            "needs_background": "light"
          }
        },
        {
          "output_type": "stream",
          "text": [
            "Random forest\n",
            "Accuracy Score 0.714715618417093\n",
            "Confusion Matrix: \n",
            " [[5027 1772]\n",
            " [2020 4473]]\n",
            "AUC Score 0.7141345855687142\n"
          ],
          "name": "stdout"
        },
        {
          "output_type": "display_data",
          "data": {
            "image/png": "[encoded data removed]",
            "text/plain": [
              "<Figure size 432x288 with 1 Axes>"
            ]
          },
          "metadata": {
            "tags": [],
            "needs_background": "light"
          }
        },
        {
          "output_type": "stream",
          "text": [
            "KNN\n",
            "Accuracy Score 0.7156184170929882\n",
            "Confusion Matrix: \n",
            " [[5355 1444]\n",
            " [2336 4157]]\n",
            "AUC Score 0.7139218818179451\n"
          ],
          "name": "stdout"
        },
        {
          "output_type": "display_data",
          "data": {
            "image/png": "[encoded data removed]",
            "text/plain": [
              "<Figure size 432x288 with 1 Axes>"
            ]
          },
          "metadata": {
            "tags": [],
            "needs_background": "light"
          }
        },
        {
          "output_type": "stream",
          "text": [
            "SVM\n",
            "Accuracy Score 0.5115106831176648\n",
            "Confusion Matrix: \n",
            " [[6799    0]\n",
            " [6493    0]]\n",
            "AUC Score 0.5\n"
          ],
          "name": "stdout"
        },
        {
          "output_type": "display_data",
          "data": {
            "image/png": "[encoded data removed]",
            "text/plain": [
              "<Figure size 432x288 with 1 Axes>"
            ]
          },
          "metadata": {
            "tags": [],
            "needs_background": "light"
          }
        },
        {
          "output_type": "stream",
          "text": [
            "Naive bayes\n",
            "Accuracy Score 0.6539271742401445\n",
            "Confusion Matrix: \n",
            " [[5065 1734]\n",
            " [2866 3627]]\n",
            "AUC Score 0.6517820327035075\n"
          ],
          "name": "stdout"
        },
        {
          "output_type": "display_data",
          "data": {
            "image/png": "[encoded data removed]",
            "text/plain": [
              "<Figure size 432x288 with 1 Axes>"
            ]
          },
          "metadata": {
            "tags": [],
            "needs_background": "light"
          }
        }
      ]
    },
    {
      "cell_type": "code",
      "metadata": {
        "id": "dZsxjViVLf-w",
        "colab": {
          "base_uri": "https://localhost:8080/"
        },
        "outputId": "d7502347-7ac9-4d3e-d459-99b94166d837"
      },
      "source": [
        "scores"
      ],
      "execution_count": 25,
      "outputs": [
        {
          "output_type": "execute_result",
          "data": {
            "text/plain": [
              "{'Decision tree': 0.6294763767679807,\n",
              " 'KNN': 0.7156184170929882,\n",
              " 'Naive bayes': 0.6539271742401445,\n",
              " 'Random forest': 0.714715618417093,\n",
              " 'SVM': 0.5115106831176648}"
            ]
          },
          "metadata": {
            "tags": []
          },
          "execution_count": 25
        }
      ]
    },
    {
      "cell_type": "code",
      "metadata": {
        "colab": {
          "base_uri": "https://localhost:8080/"
        },
        "id": "3dO4NP6SbrWC",
        "outputId": "68be637b-7760-4c57-ade6-79515bd261a5"
      },
      "source": [
        "auc"
      ],
      "execution_count": 26,
      "outputs": [
        {
          "output_type": "execute_result",
          "data": {
            "text/plain": [
              "{'Decision tree': 0.6292157843761144,\n",
              " 'KNN': 0.7139218818179451,\n",
              " 'Naive bayes': 0.6517820327035075,\n",
              " 'Random forest': 0.7141345855687142,\n",
              " 'SVM': 0.5}"
            ]
          },
          "metadata": {
            "tags": []
          },
          "execution_count": 26
        }
      ]
    },
    {
      "cell_type": "code",
      "metadata": {
        "id": "uLpidlZMaUXq",
        "colab": {
          "base_uri": "https://localhost:8080/",
          "height": 197
        },
        "outputId": "ad388e8f-f3c3-458a-f8ff-b939647dfbdf"
      },
      "source": [
        "scores_frame = pd.DataFrame(scores, index=[\"Accuracy Score\"]).T\n",
        "scores_frame.sort_values(by=[\"Accuracy Score\"], axis=0 ,ascending=False, inplace=True)\n",
        "scores_frame"
      ],
      "execution_count": 27,
      "outputs": [
        {
          "output_type": "execute_result",
          "data": {
            "text/html": [
              "<div>\n",
              "<style scoped>\n",
              "    .dataframe tbody tr th:only-of-type {\n",
              "        vertical-align: middle;\n",
              "    }\n",
              "\n",
              "    .dataframe tbody tr th {\n",
              "        vertical-align: top;\n",
              "    }\n",
              "\n",
              "    .dataframe thead th {\n",
              "        text-align: right;\n",
              "    }\n",
              "</style>\n",
              "<table border=\"1\" class=\"dataframe\">\n",
              "  <thead>\n",
              "    <tr style=\"text-align: right;\">\n",
              "      <th></th>\n",
              "      <th>Accuracy Score</th>\n",
              "    </tr>\n",
              "  </thead>\n",
              "  <tbody>\n",
              "    <tr>\n",
              "      <th>KNN</th>\n",
              "      <td>0.715618</td>\n",
              "    </tr>\n",
              "    <tr>\n",
              "      <th>Random forest</th>\n",
              "      <td>0.714716</td>\n",
              "    </tr>\n",
              "    <tr>\n",
              "      <th>Naive bayes</th>\n",
              "      <td>0.653927</td>\n",
              "    </tr>\n",
              "    <tr>\n",
              "      <th>Decision tree</th>\n",
              "      <td>0.629476</td>\n",
              "    </tr>\n",
              "    <tr>\n",
              "      <th>SVM</th>\n",
              "      <td>0.511511</td>\n",
              "    </tr>\n",
              "  </tbody>\n",
              "</table>\n",
              "</div>"
            ],
            "text/plain": [
              "               Accuracy Score\n",
              "KNN                  0.715618\n",
              "Random forest        0.714716\n",
              "Naive bayes          0.653927\n",
              "Decision tree        0.629476\n",
              "SVM                  0.511511"
            ]
          },
          "metadata": {
            "tags": []
          },
          "execution_count": 27
        }
      ]
    },
    {
      "cell_type": "code",
      "metadata": {
        "id": "XFhEM8aNy7mD",
        "colab": {
          "base_uri": "https://localhost:8080/",
          "height": 386
        },
        "outputId": "cd452427-49f4-4b82-aa75-cf9c5fd6b378"
      },
      "source": [
        "plt.figure(figsize=(5,5))\n",
        "sns.barplot(x=scores_frame.index,y=scores_frame[\"Accuracy Score\"])\n",
        "plt.xticks(rotation=45) \n",
        "# Rotation of model names..."
      ],
      "execution_count": 28,
      "outputs": [
        {
          "output_type": "execute_result",
          "data": {
            "text/plain": [
              "(array([0, 1, 2, 3, 4]), <a list of 5 Text major ticklabel objects>)"
            ]
          },
          "metadata": {
            "tags": []
          },
          "execution_count": 28
        },
        {
          "output_type": "display_data",
          "data": {
            "image/png": "[encoded data removed]",
            "text/plain": [
              "<Figure size 360x360 with 1 Axes>"
            ]
          },
          "metadata": {
            "tags": [],
            "needs_background": "light"
          }
        }
      ]
    },
    {
      "cell_type": "code",
      "metadata": {
        "id": "-uF_VWyG0B-y"
      },
      "source": [
        "#K Fold Cross Validation\n",
        "#With K-Fold cross-validation, we obtain \"K\" pieces of results from different mini-training sets from our main training set.\n",
        "#Then we choose the average of these results as the actual result.\n",
        "#After all, by taking the standard deviation of K result, we can examine whether the data is consistent.\n",
        "from sklearn.model_selection import cross_val_score\n",
        "accuracies_random_forest = cross_val_score(estimator=ran, X=x_train, y=y_train, cv=10)\n",
        "accuracies_knn = cross_val_score(estimator=knn, X=x_train, y=y_train, cv=10)"
      ],
      "execution_count": 29,
      "outputs": []
    },
    {
      "cell_type": "code",
      "metadata": {
        "id": "kLQ1J0xCFZds",
        "colab": {
          "base_uri": "https://localhost:8080/"
        },
        "outputId": "be7f12d8-2f77-4cf8-c211-9e6b740dfee1"
      },
      "source": [
        "print(\"Random Forest Average accuracy: \", accuracies_random_forest.mean())\n",
        "print(\"Random Forest Standart Deviation: \", accuracies_random_forest.std())\n",
        "print(\"KNN Average accuracy: \", accuracies_knn.mean())\n",
        "print(\"KNN Standart Deviation: \", accuracies_knn.std())"
      ],
      "execution_count": 30,
      "outputs": [
        {
          "output_type": "stream",
          "text": [
            "Random Forest Average accuracy:  0.7160080681624722\n",
            "Random Forest Standart Deviation:  0.007126590303383413\n",
            "KNN Average accuracy:  0.71493599968187\n",
            "KNN Standart Deviation:  0.005567796940120195\n"
          ],
          "name": "stdout"
        }
      ]
    },
    {
      "cell_type": "code",
      "metadata": {
        "id": "u8NqxA0SGn7K",
        "colab": {
          "base_uri": "https://localhost:8080/"
        },
        "outputId": "5ea636a2-083e-49c7-9f22-2aedc98ec079"
      },
      "source": [
        "#Let us use grid search algorithm, in order to find the best \n",
        "#Random Forest Algorithm's \"n_estimators\" hyperparameter value for our model, l\n",
        "# grid search cross validation with 1 hyperparameter\n",
        "from sklearn.model_selection import GridSearchCV \n",
        "\n",
        "grid = {\"n_estimators\" : np.arange(10,150,10)}\n",
        "\n",
        "ran_cv = GridSearchCV(ran, grid, cv=3) # GridSearchCV\n",
        "ran_cv.fit(x_train,y_train)# Fit\n",
        "\n",
        "# Print hyperparameter\n",
        "print(\"Tuned hyperparameter n_estimators: {}\".format(ran_cv.best_params_)) \n",
        "print(\"Best score: {}\".format(ran_cv.best_score_))\n"
      ],
      "execution_count": 31,
      "outputs": [
        {
          "output_type": "stream",
          "text": [
            "Tuned hyperparameter n_estimators: {'n_estimators': 80}\n",
            "Best score: 0.7151993249496819\n"
          ],
          "name": "stdout"
        }
      ]
    },
    {
      "cell_type": "code",
      "metadata": {
        "colab": {
          "base_uri": "https://localhost:8080/",
          "height": 300
        },
        "id": "qn0lD6ksgLO5",
        "outputId": "53cad22e-8125-4d22-b1a4-27d30f3ea2a7"
      },
      "source": [
        "#Test Set Accuracy Score for Random forest¶\n",
        "#Now we have selected our model with better hyper parameters than default ones.\n",
        "#It is time to evaluate model with our test set\n",
        "ran_best = RandomForestClassifier(n_estimators=140)\n",
        "ran_best.fit(x_train, y_train)\n",
        "print(\"Test accuracy: \",ran_best.score(x_test, y_test))\n",
        "\n",
        "y_pred = ran_best.predict(x_test)\n",
        "tpr, fpr, threshold = roc_curve(y_test, y_pred)\n",
        "auc = roc_auc_score(y_test, y_pred)\n",
        "print(\"AUC Score\", auc)\n",
        "\n",
        "plt.plot(tpr, fpr)\n",
        "plt.show()"
      ],
      "execution_count": 32,
      "outputs": [
        {
          "output_type": "stream",
          "text": [
            "Test accuracy:  0.7160698164309359\n",
            "AUC Score 0.7155310910250412\n"
          ],
          "name": "stdout"
        },
        {
          "output_type": "display_data",
          "data": {
            "image/png": "[encoded data removed]",
            "text/plain": [
              "<Figure size 432x288 with 1 Axes>"
            ]
          },
          "metadata": {
            "tags": [],
            "needs_background": "light"
          }
        }
      ]
    },
    {
      "cell_type": "code",
      "metadata": {
        "colab": {
          "base_uri": "https://localhost:8080/"
        },
        "id": "hMLrP100O0yn",
        "outputId": "8a3feb44-e48c-439e-d54c-1380cfaa1f34"
      },
      "source": [
        "from sklearn.linear_model import LogisticRegression\n",
        "log_reg = LogisticRegression(solver=\"liblinear\", max_iter=200)\n",
        "grid = {\"penalty\" : [\"l1\", \"l2\"],\n",
        "         \"C\" : np.arange(60,80,2)} # (60,62,64 ... 78)\n",
        "log_reg_cv = GridSearchCV(log_reg, grid, cv=3)\n",
        "log_reg_cv.fit(x_train, y_train)\n",
        "\n",
        "# Print hyperparameter\n",
        "print(\"Tuned hyperparameter n_estimators: {}\".format(log_reg_cv.best_params_)) \n",
        "print(\"Best score: {}\".format(log_reg_cv.best_score_))"
      ],
      "execution_count": 33,
      "outputs": [
        {
          "output_type": "stream",
          "text": [
            "Tuned hyperparameter n_estimators: {'C': 78, 'penalty': 'l1'}\n",
            "Best score: 0.7252055066975084\n"
          ],
          "name": "stdout"
        }
      ]
    },
    {
      "cell_type": "code",
      "metadata": {
        "colab": {
          "base_uri": "https://localhost:8080/",
          "height": 300
        },
        "id": "8xxQ-R5ePDwl",
        "outputId": "6b489421-f04f-4654-a4f3-277ceb599eab"
      },
      "source": [
        "#Test Set Accuracy Score ¶\n",
        "#Now we have selected our model with better hyper parameters than default ones.\n",
        "#It is time to evaluate model with our test set\n",
        "logreg_best = LogisticRegression(C=74, penalty=\"l1\", solver=\"liblinear\")\n",
        "logreg_best.fit(x_train, y_train)\n",
        "print(\"Test accuracy: \",logreg_best.score(x_test, y_test))\n",
        "\n",
        "y_pred = logreg_best.predict(x_test)\n",
        "tpr, fpr, threshold = roc_curve(y_test, y_pred)\n",
        "auc = roc_auc_score(y_test, y_pred)\n",
        "print(\"AUC Score\", auc)\n",
        "\n",
        "plt.plot(tpr, fpr)\n",
        "plt.show()"
      ],
      "execution_count": 34,
      "outputs": [
        {
          "output_type": "stream",
          "text": [
            "Test accuracy:  0.7296870297923563\n",
            "AUC Score 0.7283289365874848\n"
          ],
          "name": "stdout"
        },
        {
          "output_type": "display_data",
          "data": {
            "image/png": "[encoded data removed]",
            "text/plain": [
              "<Figure size 432x288 with 1 Axes>"
            ]
          },
          "metadata": {
            "tags": [],
            "needs_background": "light"
          }
        }
      ]
    },
    {
      "cell_type": "code",
      "metadata": {
        "colab": {
          "base_uri": "https://localhost:8080/",
          "height": 334
        },
        "id": "qcdYCKgYPjzB",
        "outputId": "fca40d1e-e636-4c8f-b8c6-a2725c312287"
      },
      "source": [
        "y_true = y_test\n",
        "#y_pred = logreg_best.predict(x_test)\n",
        "from sklearn.metrics import confusion_matrix\n",
        "cm = confusion_matrix(y_true, y_pred)\n",
        "f, ax = plt.subplots(figsize=(5,5))\n",
        "sns.heatmap(cm,fmt=\".0f\", annot=True,linewidths=0.2, linecolor=\"purple\", ax=ax)\n",
        "plt.xlabel(\"Predicted\")\n",
        "plt.ylabel(\"Grand Truth\")\n",
        "plt.show()"
      ],
      "execution_count": 35,
      "outputs": [
        {
          "output_type": "display_data",
          "data": {
            "image/png": "[encoded data removed]",
            "text/plain": [
              "<Figure size 360x360 with 2 Axes>"
            ]
          },
          "metadata": {
            "tags": [],
            "needs_background": "light"
          }
        }
      ]
    },
    {
      "cell_type": "code",
      "metadata": {
        "colab": {
          "base_uri": "https://localhost:8080/",
          "height": 78
        },
        "id": "C9jaJ3HsPyO3",
        "outputId": "46c1ed81-db4c-4ae5-9e87-5aceffb27853"
      },
      "source": [
        "TN = cm[0,0]\n",
        "TP = cm[1,1]\n",
        "FN = cm[1,0]\n",
        "FP = cm[0,1]\n",
        "Precision = TP/(TP+FP)\n",
        "Recall = TP/(TP+FN)\n",
        "F1_Score = 2*(Recall * Precision) / (Recall + Precision)\n",
        "pd.DataFrame([[Precision, Recall, F1_Score]],columns=[\"Precision\", \"Recall\", \"F1 Score\"], index=[\"Results\"])\n",
        "#High precision relates to the low false positive rate\n",
        "#High recall relates to the low false negative rate\n"
      ],
      "execution_count": 36,
      "outputs": [
        {
          "output_type": "execute_result",
          "data": {
            "text/html": [
              "<div>\n",
              "<style scoped>\n",
              "    .dataframe tbody tr th:only-of-type {\n",
              "        vertical-align: middle;\n",
              "    }\n",
              "\n",
              "    .dataframe tbody tr th {\n",
              "        vertical-align: top;\n",
              "    }\n",
              "\n",
              "    .dataframe thead th {\n",
              "        text-align: right;\n",
              "    }\n",
              "</style>\n",
              "<table border=\"1\" class=\"dataframe\">\n",
              "  <thead>\n",
              "    <tr style=\"text-align: right;\">\n",
              "      <th></th>\n",
              "      <th>Precision</th>\n",
              "      <th>Recall</th>\n",
              "      <th>F1 Score</th>\n",
              "    </tr>\n",
              "  </thead>\n",
              "  <tbody>\n",
              "    <tr>\n",
              "      <th>Results</th>\n",
              "      <td>0.750345</td>\n",
              "      <td>0.669336</td>\n",
              "      <td>0.70753</td>\n",
              "    </tr>\n",
              "  </tbody>\n",
              "</table>\n",
              "</div>"
            ],
            "text/plain": [
              "         Precision    Recall  F1 Score\n",
              "Results   0.750345  0.669336   0.70753"
            ]
          },
          "metadata": {
            "tags": []
          },
          "execution_count": 36
        }
      ]
    },
    {
      "cell_type": "code",
      "metadata": {
        "id": "ze59Cz_BrfH4"
      },
      "source": [
        "# #Optimising upon lowering false negatives i.e. improving recall.\n",
        "# from sklearn.model_selection import StratifiedKFold\n",
        "\n",
        "# #The scorers dictionary can be used as the scoring argument in GridSearchCV. \n",
        "# #When multiple scores are passed, GridSearchCV.cv_results_ will return scoring metrics for each of the score types provided.\n",
        "# scorers = {\n",
        "#     'precision_score': make_scorer(precision_score),\n",
        "#     'recall_score': make_scorer(recall_score),\n",
        "#     'accuracy_score': make_scorer(accuracy_score)\n",
        "# }\n",
        "\n",
        "# #random forests have many tunable parameters, which make it suitable for GridSearchCV\n",
        "# param_grid = {\n",
        "#     'min_samples_split': [3, 5, 10], \n",
        "#     'n_estimators' : [100, 300],\n",
        "#     'max_depth': [3, 5, 15, 25],\n",
        "#     'max_features': [3, 5, 10, 20]\n",
        "# }\n",
        "\n",
        "# #The function below uses GridSearchCV to fit several classifiers according to the combinations of parameters in the param_grid. \n",
        "# #The scores from scorers are recorded and the best model (as scored by the refit argument) will be selected and \"refit\" to the full training data for downstream use. \n",
        "# #This also makes predictions on the held out X_test and prints the confusion matrix to show performance.\n",
        "# def grid_search_wrapper(refit_score='recall_score'):\n",
        "#     \"\"\"\n",
        "#     fits a GridSearchCV classifier using refit_score for optimization\n",
        "#     prints classifier performance metrics\n",
        "#     \"\"\"\n",
        "#     skf = StratifiedKFold(n_splits=10)\n",
        "#     grid_search = GridSearchCV(ran, param_grid, scoring=scorers, refit=refit_score,\n",
        "#                            cv=skf, return_train_score=True, n_jobs=-1)\n",
        "#     grid_search.fit(x_train, y_train)\n",
        "\n",
        "#     # make the predictions\n",
        "#     y_pred = grid_search.predict(x_test.values)\n",
        "\n",
        "#     print('Best params for {}'.format(refit_score))\n",
        "#     print(grid_search.best_params_)\n",
        "\n",
        "#     # confusion matrix on the test data.\n",
        "#     print('\\nConfusion matrix of Random Forest optimized for {} on the test data:'.format(refit_score))\n",
        "#     print(pd.DataFrame(confusion_matrix(y_test, y_pred),\n",
        "#                  columns=['pred_neg', 'pred_pos'], index=['neg', 'pos']))\n",
        "#     return grid_search\n",
        "\n",
        "# grid_search_clf = grid_search_wrapper(refit_score='recall_score')\n"
      ],
      "execution_count": 37,
      "outputs": []
    },
    {
      "cell_type": "code",
      "metadata": {
        "colab": {
          "base_uri": "https://localhost:8080/"
        },
        "id": "vCe1HO8APlXY",
        "outputId": "f13120b3-31f3-4a50-d0b2-817f1f7a510a"
      },
      "source": [
        "##ANN\n",
        "model = tf.keras.models.Sequential()\n",
        "model.add(tf.keras.layers.Dense(6, input_dim=12, activation='relu'))\n",
        "model.add(tf.keras.layers.Dense(1, activation='sigmoid'))\n",
        "optimizer = RMSprop(learning_rate=0.002)\n",
        "model.compile(loss='binary_crossentropy', metrics=['accuracy'], optimizer=optimizer)\n",
        "learning_rate_reduction = tf.keras.callbacks.ReduceLROnPlateau( \n",
        "    monitor='val_loss',    # Quantity to be monitored.\n",
        "    factor=0.1,       # Factor by which the learning rate will be reduced. new_lr = lr * factor\n",
        "    patience=50,        # The number of epochs with no improvement after which learning rate will be reduced.\n",
        "    verbose=1,         # 0: quiet - 1: update messages.\n",
        "    mode=\"auto\",       # {auto, min, max}. In min mode, lr will be reduced when the quantity monitored has stopped decreasing; \n",
        "                       # in the max mode it will be reduced when the quantity monitored has stopped increasing; \n",
        "                       # in auto mode, the direction is automatically inferred from the name of the monitored quantity.\n",
        "    min_delta=0.0001,  # threshold for measuring the new optimum, to only focus on significant changes.\n",
        "    cooldown=0,        # number of epochs to wait before resuming normal operation after learning rate (lr) has been reduced.\n",
        "    min_lr=0.00001     # lower bound on the learning rate.\n",
        "    )\n",
        "\n",
        "es = EarlyStopping(monitor='val_loss', mode='min', verbose=1, patience=400, restore_best_weights=True)\n",
        "history = model.fit(x=x_train, y=y_train.values,\n",
        "                    batch_size=1024, epochs=1500,\n",
        "                    verbose=0,validation_data=(x_test,y_test.values),\n",
        "                    callbacks=[learning_rate_reduction, es],\n",
        "                    shuffle=True)\n",
        "\n",
        "model.evaluate(x_test, y_test.values, verbose=2)"
      ],
      "execution_count": 38,
      "outputs": [
        {
          "output_type": "stream",
          "text": [
            "416/416 - 0s - loss: 0.5585 - accuracy: 0.7260\n"
          ],
          "name": "stdout"
        },
        {
          "output_type": "execute_result",
          "data": {
            "text/plain": [
              "[0.5585439205169678, 0.7260006070137024]"
            ]
          },
          "metadata": {
            "tags": []
          },
          "execution_count": 38
        }
      ]
    },
    {
      "cell_type": "code",
      "metadata": {
        "colab": {
          "base_uri": "https://localhost:8080/",
          "height": 573
        },
        "id": "NOfnEdNnRR-X",
        "outputId": "dde47b16-f2b5-4bae-a8b0-cf0a2e7eca3f"
      },
      "source": [
        "plt.plot(history.history['accuracy'])\n",
        "plt.plot(history.history['val_accuracy'])\n",
        "plt.title('Model accuracy')\n",
        "plt.ylabel('Accuracy')\n",
        "plt.xlabel('Epoch')\n",
        "plt.legend(['Train', 'Validation'], loc='upper left')\n",
        "plt.show()\n",
        "\n",
        "# Plot training & validation loss values\n",
        "plt.plot(history.history['loss'])\n",
        "plt.plot(history.history['val_loss'])\n",
        "plt.title('Model loss')\n",
        "plt.ylabel('Loss')\n",
        "plt.xlabel('Epoch')\n",
        "plt.legend(['Train', 'Validation'], loc='upper left')\n",
        "plt.show()"
      ],
      "execution_count": 39,
      "outputs": [
        {
          "output_type": "display_data",
          "data": {
            "image/png": "[encoded data removed]",
            "text/plain": [
              "<Figure size 432x288 with 1 Axes>"
            ]
          },
          "metadata": {
            "tags": [],
            "needs_background": "light"
          }
        },
        {
          "output_type": "display_data",
          "data": {
            "image/png": "[encoded data removed]",
            "text/plain": [
              "<Figure size 432x288 with 1 Axes>"
            ]
          },
          "metadata": {
            "tags": [],
            "needs_background": "light"
          }
        }
      ]
    },
    {
      "cell_type": "markdown",
      "metadata": {
        "id": "1Zg04QdeCVfa"
      },
      "source": [
        "_______________________________________________________________________"
      ]
    },
    {
      "cell_type": "code",
      "metadata": {
        "id": "KanvzOXuKwbY"
      },
      "source": [
        "from sklearn.metrics import accuracy_score, confusion_matrix, classification_report\n",
        "\n",
        "def print_score(clf, X_train, y_train, X_test, y_test, train=True):\n",
        "    if train:\n",
        "        pred = clf.predict(X_train)\n",
        "        clf_report = pd.DataFrame(classification_report(y_train, pred, output_dict=True))\n",
        "        print(\"Train Result:\\n================================================\")\n",
        "        print(f\"Accuracy Score: {accuracy_score(y_train, pred) * 100:.2f}%\")\n",
        "        print(\"_______________________________________________\")\n",
        "        print(f\"CLASSIFICATION REPORT:\\n{clf_report}\")\n",
        "        print(\"_______________________________________________\")\n",
        "        print(f\"Confusion Matrix: \\n {confusion_matrix(y_train, pred)}\\n\")\n",
        "        \n",
        "    elif train==False:\n",
        "        pred = clf.predict(X_test)\n",
        "        clf_report = pd.DataFrame(classification_report(y_test, pred, output_dict=True))\n",
        "        print(\"Test Result:\\n================================================\")        \n",
        "        print(f\"Accuracy Score: {accuracy_score(y_test, pred) * 100:.2f}%\")\n",
        "        print(\"_______________________________________________\")\n",
        "        print(f\"CLASSIFICATION REPORT:\\n{clf_report}\")\n",
        "        print(\"_______________________________________________\")\n",
        "        print(f\"Confusion Matrix: \\n {confusion_matrix(y_test, pred)}\\n\")\n"
      ],
      "execution_count": 40,
      "outputs": []
    },
    {
      "cell_type": "code",
      "metadata": {
        "colab": {
          "base_uri": "https://localhost:8080/",
          "height": 818
        },
        "id": "AyX3X0XoCYmI",
        "outputId": "7974c6bd-9e80-468b-e96b-4f1fec4cea11"
      },
      "source": [
        "from xgboost import XGBClassifier\n",
        "\n",
        "xgb_clf = XGBClassifier()\n",
        "xgb_clf.fit(x_train, y_train)\n",
        "\n",
        "print_score(xgb_clf, x_train, y_train, x_test, y_test, train=True)\n",
        "print_score(xgb_clf, x_train, y_train, x_test, y_test, train=False)\n",
        "\n",
        "y_pred = xgb_clf.predict(x_test)\n",
        "\n",
        "tpr, fpr, threshold = roc_curve(y_test, y_pred)\n",
        "auc_score = roc_auc_score(y_test, y_pred)\n",
        "print(\"AUC-score:\", auc_score)\n",
        "\n",
        "%matplotlib inline\n",
        "import matplotlib.pyplot as plt\n",
        "\n",
        "plt.plot(tpr, fpr)\n",
        "plt.show()"
      ],
      "execution_count": 41,
      "outputs": [
        {
          "output_type": "stream",
          "text": [
            "Train Result:\n",
            "================================================\n",
            "Accuracy Score: 73.65%\n",
            "_______________________________________________\n",
            "CLASSIFICATION REPORT:\n",
            "                      0             1  accuracy     macro avg  weighted avg\n",
            "precision      0.722252      0.754103  0.736453      0.738177      0.737863\n",
            "recall         0.784971      0.685982  0.736453      0.735477      0.736453\n",
            "f1-score       0.752307      0.718431  0.736453      0.735369      0.735703\n",
            "support    27108.000000  26059.000000  0.736453  53167.000000  53167.000000\n",
            "_______________________________________________\n",
            "Confusion Matrix: \n",
            " [[21279  5829]\n",
            " [ 8183 17876]]\n",
            "\n",
            "Test Result:\n",
            "================================================\n",
            "Accuracy Score: 73.34%\n",
            "_______________________________________________\n",
            "CLASSIFICATION REPORT:\n",
            "                     0            1  accuracy     macro avg  weighted avg\n",
            "precision     0.720776     0.749240  0.733449      0.735008      0.734680\n",
            "recall        0.781733     0.682889  0.733449      0.732311      0.733449\n",
            "f1-score      0.750018     0.714527  0.733449      0.732273      0.732681\n",
            "support    6799.000000  6493.000000  0.733449  13292.000000  13292.000000\n",
            "_______________________________________________\n",
            "Confusion Matrix: \n",
            " [[5315 1484]\n",
            " [2059 4434]]\n",
            "\n",
            "AUC-score: 0.7323109365495651\n"
          ],
          "name": "stdout"
        },
        {
          "output_type": "display_data",
          "data": {
            "image/png": "[encoded data removed]",
            "text/plain": [
              "<Figure size 432x288 with 1 Axes>"
            ]
          },
          "metadata": {
            "tags": [],
            "needs_background": "light"
          }
        }
      ]
    }
  ]
}