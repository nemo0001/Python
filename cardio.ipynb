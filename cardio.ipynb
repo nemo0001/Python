{
  "nbformat": 4,
  "nbformat_minor": 0,
  "metadata": {
    "colab": {
      "name": "cardio.ipynb",
      "provenance": [],
      "collapsed_sections": [],
      "include_colab_link": true
    },
    "kernelspec": {
      "name": "python3",
      "display_name": "Python 3"
    }
  },
  "cells": [
    {
      "cell_type": "markdown",
      "metadata": {
        "id": "view-in-github",
        "colab_type": "text"
      },
      "source": [
        "<a href=\"https://colab.research.google.com/github/nemo0001/Python/blob/master/cardio.ipynb\" target=\"_parent\"><img src=\"https://colab.research.google.com/assets/colab-badge.svg\" alt=\"Open In Colab\"/></a>"
      ]
    },
    {
      "cell_type": "code",
      "metadata": {
        "id": "Kihic6cAq5Pp",
        "colab": {
          "resources": {
            "http://localhost:8080/nbextensions/google.colab/files.js": {
              "data": "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",
              "ok": true,
              "headers": [
                [
                  "content-type",
                  "application/javascript"
                ]
              ],
              "status": 200,
              "status_text": ""
            }
          },
          "base_uri": "https://localhost:8080/",
          "height": 91
        },
        "outputId": "14d8d4f2-6281-46e9-ae93-5ce84d530872"
      },
      "source": [
        "#getting the data from PC\n",
        "\n",
        "from google.colab import files\n",
        "\n",
        "uploaded = files.upload()\n",
        "\n",
        "for fn in uploaded.keys():\n",
        "  print('User uploaded file \"{name}\" with length {length} bytes'.format(\n",
        "      name=fn, length=len(uploaded[fn])))"
      ],
      "execution_count": 333,
      "outputs": [
        {
          "output_type": "display_data",
          "data": {
            "text/html": [
              "\n",
              "     <input type=\"file\" id=\"files-861ebcd9-a6e6-4d9e-aaf0-6980602d9bd6\" name=\"files[]\" multiple disabled\n",
              "        style=\"border:none\" />\n",
              "     <output id=\"result-861ebcd9-a6e6-4d9e-aaf0-6980602d9bd6\">\n",
              "      Upload widget is only available when the cell has been executed in the\n",
              "      current browser session. Please rerun this cell to enable.\n",
              "      </output>\n",
              "      <script src=\"/nbextensions/google.colab/files.js\"></script> "
            ],
            "text/plain": [
              "<IPython.core.display.HTML object>"
            ]
          },
          "metadata": {
            "tags": []
          }
        },
        {
          "output_type": "stream",
          "text": [
            "Saving cardio_train.csv to cardio_train (8).csv\n",
            "User uploaded file \"cardio_train.csv\" with length 2941524 bytes\n"
          ],
          "name": "stdout"
        }
      ]
    },
    {
      "cell_type": "code",
      "metadata": {
        "id": "eOi95F4Hq9ZL"
      },
      "source": [
        "import numpy as np # linear algebra\n",
        "import pandas as pd # data processing, CSV file I/O (e.g. pd.read_csv)\n",
        "from matplotlib import pyplot as plt\n",
        "import tensorflow as tf\n",
        "from tensorflow.keras.optimizers import RMSprop,Nadam,Adadelta,Adam\n",
        "from tensorflow.keras.layers import BatchNormalization,LeakyReLU\n",
        "from tensorflow.keras.callbacks import ReduceLROnPlateau, EarlyStopping\n",
        "import seaborn as sns\n",
        "import scipy.stats as stats\n",
        "import sklearn\n",
        "import os\n",
        "\n",
        "from sklearn.metrics import roc_curve, roc_auc_score,precision_recall_curve, auc, make_scorer, recall_score, accuracy_score, precision_score, confusion_matrix\n",
        "%matplotlib inline\n",
        "import matplotlib.pyplot as plt\n"
      ],
      "execution_count": 334,
      "outputs": []
    },
    {
      "cell_type": "code",
      "metadata": {
        "id": "H3f0RqPlxm-a",
        "colab": {
          "base_uri": "https://localhost:8080/",
          "height": 197
        },
        "outputId": "c715d13b-f2ed-4264-fc29-7c97f7916859"
      },
      "source": [
        "data_raw=pd.read_csv(\"cardio_train.csv\",sep=\";\")\n",
        "data_raw.head()"
      ],
      "execution_count": 335,
      "outputs": [
        {
          "output_type": "execute_result",
          "data": {
            "text/html": [
              "<div>\n",
              "<style scoped>\n",
              "    .dataframe tbody tr th:only-of-type {\n",
              "        vertical-align: middle;\n",
              "    }\n",
              "\n",
              "    .dataframe tbody tr th {\n",
              "        vertical-align: top;\n",
              "    }\n",
              "\n",
              "    .dataframe thead th {\n",
              "        text-align: right;\n",
              "    }\n",
              "</style>\n",
              "<table border=\"1\" class=\"dataframe\">\n",
              "  <thead>\n",
              "    <tr style=\"text-align: right;\">\n",
              "      <th></th>\n",
              "      <th>id</th>\n",
              "      <th>age</th>\n",
              "      <th>gender</th>\n",
              "      <th>height</th>\n",
              "      <th>weight</th>\n",
              "      <th>ap_hi</th>\n",
              "      <th>ap_lo</th>\n",
              "      <th>cholesterol</th>\n",
              "      <th>gluc</th>\n",
              "      <th>smoke</th>\n",
              "      <th>alco</th>\n",
              "      <th>active</th>\n",
              "      <th>cardio</th>\n",
              "    </tr>\n",
              "  </thead>\n",
              "  <tbody>\n",
              "    <tr>\n",
              "      <th>0</th>\n",
              "      <td>0</td>\n",
              "      <td>18393</td>\n",
              "      <td>2</td>\n",
              "      <td>168</td>\n",
              "      <td>62.0</td>\n",
              "      <td>110</td>\n",
              "      <td>80</td>\n",
              "      <td>1</td>\n",
              "      <td>1</td>\n",
              "      <td>0</td>\n",
              "      <td>0</td>\n",
              "      <td>1</td>\n",
              "      <td>0</td>\n",
              "    </tr>\n",
              "    <tr>\n",
              "      <th>1</th>\n",
              "      <td>1</td>\n",
              "      <td>20228</td>\n",
              "      <td>1</td>\n",
              "      <td>156</td>\n",
              "      <td>85.0</td>\n",
              "      <td>140</td>\n",
              "      <td>90</td>\n",
              "      <td>3</td>\n",
              "      <td>1</td>\n",
              "      <td>0</td>\n",
              "      <td>0</td>\n",
              "      <td>1</td>\n",
              "      <td>1</td>\n",
              "    </tr>\n",
              "    <tr>\n",
              "      <th>2</th>\n",
              "      <td>2</td>\n",
              "      <td>18857</td>\n",
              "      <td>1</td>\n",
              "      <td>165</td>\n",
              "      <td>64.0</td>\n",
              "      <td>130</td>\n",
              "      <td>70</td>\n",
              "      <td>3</td>\n",
              "      <td>1</td>\n",
              "      <td>0</td>\n",
              "      <td>0</td>\n",
              "      <td>0</td>\n",
              "      <td>1</td>\n",
              "    </tr>\n",
              "    <tr>\n",
              "      <th>3</th>\n",
              "      <td>3</td>\n",
              "      <td>17623</td>\n",
              "      <td>2</td>\n",
              "      <td>169</td>\n",
              "      <td>82.0</td>\n",
              "      <td>150</td>\n",
              "      <td>100</td>\n",
              "      <td>1</td>\n",
              "      <td>1</td>\n",
              "      <td>0</td>\n",
              "      <td>0</td>\n",
              "      <td>1</td>\n",
              "      <td>1</td>\n",
              "    </tr>\n",
              "    <tr>\n",
              "      <th>4</th>\n",
              "      <td>4</td>\n",
              "      <td>17474</td>\n",
              "      <td>1</td>\n",
              "      <td>156</td>\n",
              "      <td>56.0</td>\n",
              "      <td>100</td>\n",
              "      <td>60</td>\n",
              "      <td>1</td>\n",
              "      <td>1</td>\n",
              "      <td>0</td>\n",
              "      <td>0</td>\n",
              "      <td>0</td>\n",
              "      <td>0</td>\n",
              "    </tr>\n",
              "  </tbody>\n",
              "</table>\n",
              "</div>"
            ],
            "text/plain": [
              "   id    age  gender  height  weight  ...  gluc  smoke  alco  active  cardio\n",
              "0   0  18393       2     168    62.0  ...     1      0     0       1       0\n",
              "1   1  20228       1     156    85.0  ...     1      0     0       1       1\n",
              "2   2  18857       1     165    64.0  ...     1      0     0       0       1\n",
              "3   3  17623       2     169    82.0  ...     1      0     0       1       1\n",
              "4   4  17474       1     156    56.0  ...     1      0     0       0       0\n",
              "\n",
              "[5 rows x 13 columns]"
            ]
          },
          "metadata": {
            "tags": []
          },
          "execution_count": 335
        }
      ]
    },
    {
      "cell_type": "code",
      "metadata": {
        "id": "PuTcgdcNyKVN",
        "colab": {
          "base_uri": "https://localhost:8080/"
        },
        "outputId": "9d405cce-290f-4ae8-afa6-ad40574d3a08"
      },
      "source": [
        "data_raw.info()"
      ],
      "execution_count": 336,
      "outputs": [
        {
          "output_type": "stream",
          "text": [
            "<class 'pandas.core.frame.DataFrame'>\n",
            "RangeIndex: 70000 entries, 0 to 69999\n",
            "Data columns (total 13 columns):\n",
            " #   Column       Non-Null Count  Dtype  \n",
            "---  ------       --------------  -----  \n",
            " 0   id           70000 non-null  int64  \n",
            " 1   age          70000 non-null  int64  \n",
            " 2   gender       70000 non-null  int64  \n",
            " 3   height       70000 non-null  int64  \n",
            " 4   weight       70000 non-null  float64\n",
            " 5   ap_hi        70000 non-null  int64  \n",
            " 6   ap_lo        70000 non-null  int64  \n",
            " 7   cholesterol  70000 non-null  int64  \n",
            " 8   gluc         70000 non-null  int64  \n",
            " 9   smoke        70000 non-null  int64  \n",
            " 10  alco         70000 non-null  int64  \n",
            " 11  active       70000 non-null  int64  \n",
            " 12  cardio       70000 non-null  int64  \n",
            "dtypes: float64(1), int64(12)\n",
            "memory usage: 6.9 MB\n"
          ],
          "name": "stdout"
        }
      ]
    },
    {
      "cell_type": "code",
      "metadata": {
        "id": "BKIN9A1Byn82"
      },
      "source": [
        "data_raw.drop(\"id\",axis=1,inplace=True)"
      ],
      "execution_count": 337,
      "outputs": []
    },
    {
      "cell_type": "code",
      "metadata": {
        "id": "iwG-4_sBQkIS",
        "colab": {
          "base_uri": "https://localhost:8080/"
        },
        "outputId": "dac409c8-52cb-4461-fea7-4ecf3db8216c"
      },
      "source": [
        "#handling duplicate values\n",
        "print(\"There are {} duplicate values in data frame\".format(data_raw.duplicated().sum()))"
      ],
      "execution_count": 338,
      "outputs": [
        {
          "output_type": "stream",
          "text": [
            "There are 24 duplicate values in data frame\n"
          ],
          "name": "stdout"
        }
      ]
    },
    {
      "cell_type": "code",
      "metadata": {
        "id": "AY4zrOP7RI_i",
        "colab": {
          "base_uri": "https://localhost:8080/",
          "height": 107
        },
        "outputId": "c370303e-06d4-4c9f-8797-08ddc1d33340"
      },
      "source": [
        "#We can drop the duplicates because they have no effect on training of model.\n",
        "#Firstly let us see the duplicated rows with eyes.\n",
        "duplicated = data_raw[data_raw.duplicated(keep=False)]\n",
        "duplicated = duplicated.sort_values(by=['age', \"gender\", \"height\"], ascending= False) \n",
        "# I sorted the values to see duplication clearly\n",
        "\n",
        "duplicated.head(2) # Show us just 1 duplication of 24\n",
        "\n",
        "#duplicated() method helps in analyzing duplicate values only. \n",
        "#It returns a boolean series which is True only for Unique elements."
      ],
      "execution_count": 339,
      "outputs": [
        {
          "output_type": "execute_result",
          "data": {
            "text/html": [
              "<div>\n",
              "<style scoped>\n",
              "    .dataframe tbody tr th:only-of-type {\n",
              "        vertical-align: middle;\n",
              "    }\n",
              "\n",
              "    .dataframe tbody tr th {\n",
              "        vertical-align: top;\n",
              "    }\n",
              "\n",
              "    .dataframe thead th {\n",
              "        text-align: right;\n",
              "    }\n",
              "</style>\n",
              "<table border=\"1\" class=\"dataframe\">\n",
              "  <thead>\n",
              "    <tr style=\"text-align: right;\">\n",
              "      <th></th>\n",
              "      <th>age</th>\n",
              "      <th>gender</th>\n",
              "      <th>height</th>\n",
              "      <th>weight</th>\n",
              "      <th>ap_hi</th>\n",
              "      <th>ap_lo</th>\n",
              "      <th>cholesterol</th>\n",
              "      <th>gluc</th>\n",
              "      <th>smoke</th>\n",
              "      <th>alco</th>\n",
              "      <th>active</th>\n",
              "      <th>cardio</th>\n",
              "    </tr>\n",
              "  </thead>\n",
              "  <tbody>\n",
              "    <tr>\n",
              "      <th>2677</th>\n",
              "      <td>22077</td>\n",
              "      <td>1</td>\n",
              "      <td>175</td>\n",
              "      <td>69.0</td>\n",
              "      <td>120</td>\n",
              "      <td>80</td>\n",
              "      <td>1</td>\n",
              "      <td>1</td>\n",
              "      <td>0</td>\n",
              "      <td>0</td>\n",
              "      <td>1</td>\n",
              "      <td>1</td>\n",
              "    </tr>\n",
              "    <tr>\n",
              "      <th>45748</th>\n",
              "      <td>22077</td>\n",
              "      <td>1</td>\n",
              "      <td>175</td>\n",
              "      <td>69.0</td>\n",
              "      <td>120</td>\n",
              "      <td>80</td>\n",
              "      <td>1</td>\n",
              "      <td>1</td>\n",
              "      <td>0</td>\n",
              "      <td>0</td>\n",
              "      <td>1</td>\n",
              "      <td>1</td>\n",
              "    </tr>\n",
              "  </tbody>\n",
              "</table>\n",
              "</div>"
            ],
            "text/plain": [
              "         age  gender  height  weight  ap_hi  ...  gluc  smoke  alco  active  cardio\n",
              "2677   22077       1     175    69.0    120  ...     1      0     0       1       1\n",
              "45748  22077       1     175    69.0    120  ...     1      0     0       1       1\n",
              "\n",
              "[2 rows x 12 columns]"
            ]
          },
          "metadata": {
            "tags": []
          },
          "execution_count": 339
        }
      ]
    },
    {
      "cell_type": "code",
      "metadata": {
        "id": "yidbVkrYa3DW",
        "colab": {
          "base_uri": "https://localhost:8080/"
        },
        "outputId": "4cfc6c40-7d7b-4508-ab0c-638493c389fd"
      },
      "source": [
        "data_raw.drop_duplicates(inplace=True)\n",
        "#Return DataFrame with duplicate rows removed, optionally only considering certain columns.\n",
        "#keep : {‘first’, ‘last’, False}, default ‘first’\n",
        "\n",
        "print(\"There is {} duplicated values in data frame\".format(data_raw.duplicated().sum()))"
      ],
      "execution_count": 340,
      "outputs": [
        {
          "output_type": "stream",
          "text": [
            "There is 0 duplicated values in data frame\n"
          ],
          "name": "stdout"
        }
      ]
    },
    {
      "cell_type": "code",
      "metadata": {
        "id": "kZAlFzfye3ec",
        "colab": {
          "base_uri": "https://localhost:8080/"
        },
        "outputId": "787294a9-91e4-46ac-d307-e44578d5fa47"
      },
      "source": [
        "print(\"There is {} missing values in data frame\".format(data_raw.isnull().sum().sum()))"
      ],
      "execution_count": 341,
      "outputs": [
        {
          "output_type": "stream",
          "text": [
            "There is 0 missing values in data frame\n"
          ],
          "name": "stdout"
        }
      ]
    },
    {
      "cell_type": "code",
      "metadata": {
        "id": "y18JTuKpe7_I",
        "colab": {
          "base_uri": "https://localhost:8080/",
          "height": 307
        },
        "outputId": "3bff238a-3183-4fc4-a06a-97c5ff58afca"
      },
      "source": [
        "#VISUALIZATION\n",
        "#Detecting Outliers \n",
        "#Detecting outlier and handling them can increase our accuracy score.\n",
        "x = data_raw.copy(deep=True)\n",
        "x.describe()"
      ],
      "execution_count": 342,
      "outputs": [
        {
          "output_type": "execute_result",
          "data": {
            "text/html": [
              "<div>\n",
              "<style scoped>\n",
              "    .dataframe tbody tr th:only-of-type {\n",
              "        vertical-align: middle;\n",
              "    }\n",
              "\n",
              "    .dataframe tbody tr th {\n",
              "        vertical-align: top;\n",
              "    }\n",
              "\n",
              "    .dataframe thead th {\n",
              "        text-align: right;\n",
              "    }\n",
              "</style>\n",
              "<table border=\"1\" class=\"dataframe\">\n",
              "  <thead>\n",
              "    <tr style=\"text-align: right;\">\n",
              "      <th></th>\n",
              "      <th>age</th>\n",
              "      <th>gender</th>\n",
              "      <th>height</th>\n",
              "      <th>weight</th>\n",
              "      <th>ap_hi</th>\n",
              "      <th>ap_lo</th>\n",
              "      <th>cholesterol</th>\n",
              "      <th>gluc</th>\n",
              "      <th>smoke</th>\n",
              "      <th>alco</th>\n",
              "      <th>active</th>\n",
              "      <th>cardio</th>\n",
              "    </tr>\n",
              "  </thead>\n",
              "  <tbody>\n",
              "    <tr>\n",
              "      <th>count</th>\n",
              "      <td>69976.000000</td>\n",
              "      <td>69976.000000</td>\n",
              "      <td>69976.000000</td>\n",
              "      <td>69976.000000</td>\n",
              "      <td>69976.000000</td>\n",
              "      <td>69976.000000</td>\n",
              "      <td>69976.000000</td>\n",
              "      <td>69976.000000</td>\n",
              "      <td>69976.000000</td>\n",
              "      <td>69976.000000</td>\n",
              "      <td>69976.000000</td>\n",
              "      <td>69976.000000</td>\n",
              "    </tr>\n",
              "    <tr>\n",
              "      <th>mean</th>\n",
              "      <td>19468.950126</td>\n",
              "      <td>1.349648</td>\n",
              "      <td>164.359152</td>\n",
              "      <td>74.208519</td>\n",
              "      <td>128.820453</td>\n",
              "      <td>96.636261</td>\n",
              "      <td>1.366997</td>\n",
              "      <td>1.226535</td>\n",
              "      <td>0.088159</td>\n",
              "      <td>0.053790</td>\n",
              "      <td>0.803718</td>\n",
              "      <td>0.499771</td>\n",
              "    </tr>\n",
              "    <tr>\n",
              "      <th>std</th>\n",
              "      <td>2467.374620</td>\n",
              "      <td>0.476862</td>\n",
              "      <td>8.211218</td>\n",
              "      <td>14.397211</td>\n",
              "      <td>154.037729</td>\n",
              "      <td>188.504581</td>\n",
              "      <td>0.680333</td>\n",
              "      <td>0.572353</td>\n",
              "      <td>0.283528</td>\n",
              "      <td>0.225604</td>\n",
              "      <td>0.397187</td>\n",
              "      <td>0.500004</td>\n",
              "    </tr>\n",
              "    <tr>\n",
              "      <th>min</th>\n",
              "      <td>10798.000000</td>\n",
              "      <td>1.000000</td>\n",
              "      <td>55.000000</td>\n",
              "      <td>10.000000</td>\n",
              "      <td>-150.000000</td>\n",
              "      <td>-70.000000</td>\n",
              "      <td>1.000000</td>\n",
              "      <td>1.000000</td>\n",
              "      <td>0.000000</td>\n",
              "      <td>0.000000</td>\n",
              "      <td>0.000000</td>\n",
              "      <td>0.000000</td>\n",
              "    </tr>\n",
              "    <tr>\n",
              "      <th>25%</th>\n",
              "      <td>17664.000000</td>\n",
              "      <td>1.000000</td>\n",
              "      <td>159.000000</td>\n",
              "      <td>65.000000</td>\n",
              "      <td>120.000000</td>\n",
              "      <td>80.000000</td>\n",
              "      <td>1.000000</td>\n",
              "      <td>1.000000</td>\n",
              "      <td>0.000000</td>\n",
              "      <td>0.000000</td>\n",
              "      <td>1.000000</td>\n",
              "      <td>0.000000</td>\n",
              "    </tr>\n",
              "    <tr>\n",
              "      <th>50%</th>\n",
              "      <td>19703.000000</td>\n",
              "      <td>1.000000</td>\n",
              "      <td>165.000000</td>\n",
              "      <td>72.000000</td>\n",
              "      <td>120.000000</td>\n",
              "      <td>80.000000</td>\n",
              "      <td>1.000000</td>\n",
              "      <td>1.000000</td>\n",
              "      <td>0.000000</td>\n",
              "      <td>0.000000</td>\n",
              "      <td>1.000000</td>\n",
              "      <td>0.000000</td>\n",
              "    </tr>\n",
              "    <tr>\n",
              "      <th>75%</th>\n",
              "      <td>21327.000000</td>\n",
              "      <td>2.000000</td>\n",
              "      <td>170.000000</td>\n",
              "      <td>82.000000</td>\n",
              "      <td>140.000000</td>\n",
              "      <td>90.000000</td>\n",
              "      <td>2.000000</td>\n",
              "      <td>1.000000</td>\n",
              "      <td>0.000000</td>\n",
              "      <td>0.000000</td>\n",
              "      <td>1.000000</td>\n",
              "      <td>1.000000</td>\n",
              "    </tr>\n",
              "    <tr>\n",
              "      <th>max</th>\n",
              "      <td>23713.000000</td>\n",
              "      <td>2.000000</td>\n",
              "      <td>250.000000</td>\n",
              "      <td>200.000000</td>\n",
              "      <td>16020.000000</td>\n",
              "      <td>11000.000000</td>\n",
              "      <td>3.000000</td>\n",
              "      <td>3.000000</td>\n",
              "      <td>1.000000</td>\n",
              "      <td>1.000000</td>\n",
              "      <td>1.000000</td>\n",
              "      <td>1.000000</td>\n",
              "    </tr>\n",
              "  </tbody>\n",
              "</table>\n",
              "</div>"
            ],
            "text/plain": [
              "                age        gender  ...        active        cardio\n",
              "count  69976.000000  69976.000000  ...  69976.000000  69976.000000\n",
              "mean   19468.950126      1.349648  ...      0.803718      0.499771\n",
              "std     2467.374620      0.476862  ...      0.397187      0.500004\n",
              "min    10798.000000      1.000000  ...      0.000000      0.000000\n",
              "25%    17664.000000      1.000000  ...      1.000000      0.000000\n",
              "50%    19703.000000      1.000000  ...      1.000000      0.000000\n",
              "75%    21327.000000      2.000000  ...      1.000000      1.000000\n",
              "max    23713.000000      2.000000  ...      1.000000      1.000000\n",
              "\n",
              "[8 rows x 12 columns]"
            ]
          },
          "metadata": {
            "tags": []
          },
          "execution_count": 342
        }
      ]
    },
    {
      "cell_type": "code",
      "metadata": {
        "id": "jrIJ7xHsfjs_",
        "colab": {
          "base_uri": "https://localhost:8080/",
          "height": 197
        },
        "outputId": "fe305f54-eacc-4512-d1b1-41a5db04bb28"
      },
      "source": [
        "#Columns of \"age\", \"height\", \"weight\", \"ap_hi\", \"ap_lo\" may have outlier.\n",
        "#In order to compare them on same scale we need to standardize firstly.\n",
        "#My Standard Scalar Function\n",
        "s_list = [\"age\", \"height\", \"weight\", \"ap_hi\", \"ap_lo\"]\n",
        "def standartization(x):\n",
        "    x_std = x.copy(deep=True)\n",
        "    for column in s_list:\n",
        "        x_std[column] = (x_std[column]-x_std[column].mean())/x_std[column].std()\n",
        "    return x_std \n",
        "x_std=standartization(x)\n",
        "x_std.head()"
      ],
      "execution_count": 343,
      "outputs": [
        {
          "output_type": "execute_result",
          "data": {
            "text/html": [
              "<div>\n",
              "<style scoped>\n",
              "    .dataframe tbody tr th:only-of-type {\n",
              "        vertical-align: middle;\n",
              "    }\n",
              "\n",
              "    .dataframe tbody tr th {\n",
              "        vertical-align: top;\n",
              "    }\n",
              "\n",
              "    .dataframe thead th {\n",
              "        text-align: right;\n",
              "    }\n",
              "</style>\n",
              "<table border=\"1\" class=\"dataframe\">\n",
              "  <thead>\n",
              "    <tr style=\"text-align: right;\">\n",
              "      <th></th>\n",
              "      <th>age</th>\n",
              "      <th>gender</th>\n",
              "      <th>height</th>\n",
              "      <th>weight</th>\n",
              "      <th>ap_hi</th>\n",
              "      <th>ap_lo</th>\n",
              "      <th>cholesterol</th>\n",
              "      <th>gluc</th>\n",
              "      <th>smoke</th>\n",
              "      <th>alco</th>\n",
              "      <th>active</th>\n",
              "      <th>cardio</th>\n",
              "    </tr>\n",
              "  </thead>\n",
              "  <tbody>\n",
              "    <tr>\n",
              "      <th>0</th>\n",
              "      <td>-0.436071</td>\n",
              "      <td>2</td>\n",
              "      <td>0.443399</td>\n",
              "      <td>-0.847978</td>\n",
              "      <td>-0.122181</td>\n",
              "      <td>-0.088254</td>\n",
              "      <td>1</td>\n",
              "      <td>1</td>\n",
              "      <td>0</td>\n",
              "      <td>0</td>\n",
              "      <td>1</td>\n",
              "      <td>0</td>\n",
              "    </tr>\n",
              "    <tr>\n",
              "      <th>1</th>\n",
              "      <td>0.307635</td>\n",
              "      <td>1</td>\n",
              "      <td>-1.018016</td>\n",
              "      <td>0.749554</td>\n",
              "      <td>0.072577</td>\n",
              "      <td>-0.035205</td>\n",
              "      <td>3</td>\n",
              "      <td>1</td>\n",
              "      <td>0</td>\n",
              "      <td>0</td>\n",
              "      <td>1</td>\n",
              "      <td>1</td>\n",
              "    </tr>\n",
              "    <tr>\n",
              "      <th>2</th>\n",
              "      <td>-0.248017</td>\n",
              "      <td>1</td>\n",
              "      <td>0.078045</td>\n",
              "      <td>-0.709062</td>\n",
              "      <td>0.007658</td>\n",
              "      <td>-0.141303</td>\n",
              "      <td>3</td>\n",
              "      <td>1</td>\n",
              "      <td>0</td>\n",
              "      <td>0</td>\n",
              "      <td>0</td>\n",
              "      <td>1</td>\n",
              "    </tr>\n",
              "    <tr>\n",
              "      <th>3</th>\n",
              "      <td>-0.748143</td>\n",
              "      <td>2</td>\n",
              "      <td>0.565184</td>\n",
              "      <td>0.541180</td>\n",
              "      <td>0.137496</td>\n",
              "      <td>0.017844</td>\n",
              "      <td>1</td>\n",
              "      <td>1</td>\n",
              "      <td>0</td>\n",
              "      <td>0</td>\n",
              "      <td>1</td>\n",
              "      <td>1</td>\n",
              "    </tr>\n",
              "    <tr>\n",
              "      <th>4</th>\n",
              "      <td>-0.808532</td>\n",
              "      <td>1</td>\n",
              "      <td>-1.018016</td>\n",
              "      <td>-1.264725</td>\n",
              "      <td>-0.187100</td>\n",
              "      <td>-0.194352</td>\n",
              "      <td>1</td>\n",
              "      <td>1</td>\n",
              "      <td>0</td>\n",
              "      <td>0</td>\n",
              "      <td>0</td>\n",
              "      <td>0</td>\n",
              "    </tr>\n",
              "  </tbody>\n",
              "</table>\n",
              "</div>"
            ],
            "text/plain": [
              "        age  gender    height    weight  ...  smoke  alco  active  cardio\n",
              "0 -0.436071       2  0.443399 -0.847978  ...      0     0       1       0\n",
              "1  0.307635       1 -1.018016  0.749554  ...      0     0       1       1\n",
              "2 -0.248017       1  0.078045 -0.709062  ...      0     0       0       1\n",
              "3 -0.748143       2  0.565184  0.541180  ...      0     0       1       1\n",
              "4 -0.808532       1 -1.018016 -1.264725  ...      0     0       0       0\n",
              "\n",
              "[5 rows x 12 columns]"
            ]
          },
          "metadata": {
            "tags": []
          },
          "execution_count": 343
        }
      ]
    },
    {
      "cell_type": "code",
      "metadata": {
        "id": "7OOvxD2wi3nM",
        "colab": {
          "base_uri": "https://localhost:8080/",
          "height": 406
        },
        "outputId": "a265cbf5-f2ca-4e4f-9cf5-9046ba5ae342"
      },
      "source": [
        "#Visualization\n",
        "#In order to use the multi box graph plot we need to melt out data.\n",
        "x_melted = pd.melt(frame=x_std, id_vars=\"cardio\", value_vars=s_list, var_name=\"features\", value_name=\"value\", col_level=None)\n",
        "x_melted\n",
        "\n",
        "#melt() function is useful to massage a DataFrame into a format where one or more columns are identifier variables, while all other columns, \n",
        "#considered measured variables, are unpivoted to the row axis, leaving just two non-identifier columns, variable and value."
      ],
      "execution_count": 344,
      "outputs": [
        {
          "output_type": "execute_result",
          "data": {
            "text/html": [
              "<div>\n",
              "<style scoped>\n",
              "    .dataframe tbody tr th:only-of-type {\n",
              "        vertical-align: middle;\n",
              "    }\n",
              "\n",
              "    .dataframe tbody tr th {\n",
              "        vertical-align: top;\n",
              "    }\n",
              "\n",
              "    .dataframe thead th {\n",
              "        text-align: right;\n",
              "    }\n",
              "</style>\n",
              "<table border=\"1\" class=\"dataframe\">\n",
              "  <thead>\n",
              "    <tr style=\"text-align: right;\">\n",
              "      <th></th>\n",
              "      <th>cardio</th>\n",
              "      <th>features</th>\n",
              "      <th>value</th>\n",
              "    </tr>\n",
              "  </thead>\n",
              "  <tbody>\n",
              "    <tr>\n",
              "      <th>0</th>\n",
              "      <td>0</td>\n",
              "      <td>age</td>\n",
              "      <td>-0.436071</td>\n",
              "    </tr>\n",
              "    <tr>\n",
              "      <th>1</th>\n",
              "      <td>1</td>\n",
              "      <td>age</td>\n",
              "      <td>0.307635</td>\n",
              "    </tr>\n",
              "    <tr>\n",
              "      <th>2</th>\n",
              "      <td>1</td>\n",
              "      <td>age</td>\n",
              "      <td>-0.248017</td>\n",
              "    </tr>\n",
              "    <tr>\n",
              "      <th>3</th>\n",
              "      <td>1</td>\n",
              "      <td>age</td>\n",
              "      <td>-0.748143</td>\n",
              "    </tr>\n",
              "    <tr>\n",
              "      <th>4</th>\n",
              "      <td>0</td>\n",
              "      <td>age</td>\n",
              "      <td>-0.808532</td>\n",
              "    </tr>\n",
              "    <tr>\n",
              "      <th>...</th>\n",
              "      <td>...</td>\n",
              "      <td>...</td>\n",
              "      <td>...</td>\n",
              "    </tr>\n",
              "    <tr>\n",
              "      <th>349875</th>\n",
              "      <td>0</td>\n",
              "      <td>ap_lo</td>\n",
              "      <td>-0.088254</td>\n",
              "    </tr>\n",
              "    <tr>\n",
              "      <th>349876</th>\n",
              "      <td>1</td>\n",
              "      <td>ap_lo</td>\n",
              "      <td>-0.035205</td>\n",
              "    </tr>\n",
              "    <tr>\n",
              "      <th>349877</th>\n",
              "      <td>1</td>\n",
              "      <td>ap_lo</td>\n",
              "      <td>-0.035205</td>\n",
              "    </tr>\n",
              "    <tr>\n",
              "      <th>349878</th>\n",
              "      <td>1</td>\n",
              "      <td>ap_lo</td>\n",
              "      <td>-0.088254</td>\n",
              "    </tr>\n",
              "    <tr>\n",
              "      <th>349879</th>\n",
              "      <td>0</td>\n",
              "      <td>ap_lo</td>\n",
              "      <td>-0.088254</td>\n",
              "    </tr>\n",
              "  </tbody>\n",
              "</table>\n",
              "<p>349880 rows × 3 columns</p>\n",
              "</div>"
            ],
            "text/plain": [
              "        cardio features     value\n",
              "0            0      age -0.436071\n",
              "1            1      age  0.307635\n",
              "2            1      age -0.248017\n",
              "3            1      age -0.748143\n",
              "4            0      age -0.808532\n",
              "...        ...      ...       ...\n",
              "349875       0    ap_lo -0.088254\n",
              "349876       1    ap_lo -0.035205\n",
              "349877       1    ap_lo -0.035205\n",
              "349878       1    ap_lo -0.088254\n",
              "349879       0    ap_lo -0.088254\n",
              "\n",
              "[349880 rows x 3 columns]"
            ]
          },
          "metadata": {
            "tags": []
          },
          "execution_count": 344
        }
      ]
    },
    {
      "cell_type": "code",
      "metadata": {
        "id": "FSiiKJZqlLgx",
        "colab": {
          "base_uri": "https://localhost:8080/",
          "height": 647
        },
        "outputId": "3b46c36f-34ff-4b02-891d-774d51bded11"
      },
      "source": [
        "plt.figure(figsize=(10,10))\n",
        "sns.boxplot(x=\"features\", y=\"value\", hue=\"cardio\", data=x_melted)\n",
        "plt.xticks(rotation=90)"
      ],
      "execution_count": 345,
      "outputs": [
        {
          "output_type": "execute_result",
          "data": {
            "text/plain": [
              "(array([0, 1, 2, 3, 4]), <a list of 5 Text major ticklabel objects>)"
            ]
          },
          "metadata": {
            "tags": []
          },
          "execution_count": 345
        },
        {
          "output_type": "display_data",
          "data": {
            "image/png": "[encoded data removed]",
            "text/plain": [
              "<Figure size 720x720 with 1 Axes>"
            ]
          },
          "metadata": {
            "tags": [],
            "needs_background": "light"
          }
        }
      ]
    },
    {
      "cell_type": "code",
      "metadata": {
        "id": "RrGqHmJAltS0",
        "colab": {
          "base_uri": "https://localhost:8080/",
          "height": 107
        },
        "outputId": "da93eae6-de2a-455b-8d44-b6035fdcc47f"
      },
      "source": [
        "#There are some outliers in the dataset, but as seen above there is an unusual outlier in ap_hi and ap_lo features.\n",
        "#Let us calculate the low bound and hi bound of ap_lo and ap_hi features\n",
        "ap_list = [\"ap_hi\", \"ap_lo\",\"height\",\"weight\"]\n",
        "boundary = pd.DataFrame(index=[\"lower_bound\",\"upper_bound\"]) # We created an empty dataframe\n",
        "for each in ap_list:\n",
        "    Q1 = x[each].quantile(0.25)\n",
        "    Q3 = x[each].quantile(0.75)\n",
        "    IQR = Q3 - Q1\n",
        "\n",
        "    lower_bound = Q1- 1.5*IQR\n",
        "    upper_bound = Q3 + 1.5*IQR\n",
        "    boundary[each] = [lower_bound, upper_bound ]\n",
        "boundary"
      ],
      "execution_count": 346,
      "outputs": [
        {
          "output_type": "execute_result",
          "data": {
            "text/html": [
              "<div>\n",
              "<style scoped>\n",
              "    .dataframe tbody tr th:only-of-type {\n",
              "        vertical-align: middle;\n",
              "    }\n",
              "\n",
              "    .dataframe tbody tr th {\n",
              "        vertical-align: top;\n",
              "    }\n",
              "\n",
              "    .dataframe thead th {\n",
              "        text-align: right;\n",
              "    }\n",
              "</style>\n",
              "<table border=\"1\" class=\"dataframe\">\n",
              "  <thead>\n",
              "    <tr style=\"text-align: right;\">\n",
              "      <th></th>\n",
              "      <th>ap_hi</th>\n",
              "      <th>ap_lo</th>\n",
              "      <th>height</th>\n",
              "      <th>weight</th>\n",
              "    </tr>\n",
              "  </thead>\n",
              "  <tbody>\n",
              "    <tr>\n",
              "      <th>lower_bound</th>\n",
              "      <td>90.0</td>\n",
              "      <td>65.0</td>\n",
              "      <td>142.5</td>\n",
              "      <td>39.5</td>\n",
              "    </tr>\n",
              "    <tr>\n",
              "      <th>upper_bound</th>\n",
              "      <td>170.0</td>\n",
              "      <td>105.0</td>\n",
              "      <td>186.5</td>\n",
              "      <td>107.5</td>\n",
              "    </tr>\n",
              "  </tbody>\n",
              "</table>\n",
              "</div>"
            ],
            "text/plain": [
              "             ap_hi  ap_lo  height  weight\n",
              "lower_bound   90.0   65.0   142.5    39.5\n",
              "upper_bound  170.0  105.0   186.5   107.5"
            ]
          },
          "metadata": {
            "tags": []
          },
          "execution_count": 346
        }
      ]
    },
    {
      "cell_type": "code",
      "metadata": {
        "id": "wM1cq4o_6P4k",
        "colab": {
          "base_uri": "https://localhost:8080/"
        },
        "outputId": "5b751d86-b8ea-4751-9931-4ea3f9b19a4f"
      },
      "source": [
        "#We can select the index of outlier data by using boundaries we calculated.\n",
        "ap_hi_filter = (x[\"ap_hi\"] > boundary[\"ap_hi\"][1])\n",
        "ap_lo_filter = (x[\"ap_lo\"] > boundary[\"ap_lo\"][1])                                                           \n",
        "outlier_filter = (ap_hi_filter | ap_lo_filter)\n",
        "x_outliers = x[outlier_filter]\n",
        "x_outliers[\"cardio\"].value_counts()"
      ],
      "execution_count": 347,
      "outputs": [
        {
          "output_type": "execute_result",
          "data": {
            "text/plain": [
              "1    2025\n",
              "0     388\n",
              "Name: cardio, dtype: int64"
            ]
          },
          "metadata": {
            "tags": []
          },
          "execution_count": 347
        }
      ]
    },
    {
      "cell_type": "code",
      "metadata": {
        "id": "Qyq2C27O_xPW",
        "colab": {
          "base_uri": "https://localhost:8080/",
          "height": 297
        },
        "outputId": "d960f29f-1cd0-4ade-b494-c345ddd5c05b"
      },
      "source": [
        "#And I have dropped some of data because we have sufficent data (70000) otherwise I would try to handle them by assigning new values.\n",
        "sns.countplot(x='cardio',data=x_outliers,linewidth=2,edgecolor=sns.color_palette(\"dark\", 1))"
      ],
      "execution_count": 348,
      "outputs": [
        {
          "output_type": "execute_result",
          "data": {
            "text/plain": [
              "<matplotlib.axes._subplots.AxesSubplot at 0x7f1f11a23748>"
            ]
          },
          "metadata": {
            "tags": []
          },
          "execution_count": 348
        },
        {
          "output_type": "display_data",
          "data": {
            "image/png": "[encoded data removed]",
            "text/plain": [
              "<Figure size 432x288 with 1 Axes>"
            ]
          },
          "metadata": {
            "tags": [],
            "needs_background": "light"
          }
        }
      ]
    },
    {
      "cell_type": "code",
      "metadata": {
        "id": "4-dzBu6YB-Ko",
        "colab": {
          "base_uri": "https://localhost:8080/"
        },
        "outputId": "52c09557-a5c9-4540-995d-de4a08665c9f"
      },
      "source": [
        "#A study published by doctors in NCBI NLM recorded a maximum blood pressure of 370/360 mm Hg. This study was performed by recording blood pressure in 10 male athletes through radial artery catheterization.\n",
        "#Thus we can drop the ap_hi outlier values over 250 and ap_lo outlier values over 200, without fear of missing data.\n",
        "out_filter_bp = ((x[\"ap_hi\"]>250) | (x[\"ap_lo\"]>200) )\n",
        "print(\"There are {} outliers\".format(x[out_filter_bp][\"cardio\"].count()))\n",
        "\n",
        "#We remove lower and higher outliers for height and weight\n",
        "ht_filter = (x[\"height\"] > boundary[\"height\"][1])\n",
        "ht_filter_l = (x[\"height\"] < boundary[\"height\"][0])\n",
        "wt_filter = (x[\"weight\"] > boundary[\"weight\"][1])\n",
        "wt_filter_l = (x[\"weight\"] < boundary[\"weight\"][0])                                                           \n",
        "outlier_filter_hw = (ht_filter | wt_filter|ht_filter_l|wt_filter_l)\n",
        "x_outliers_hw = x[outlier_filter_hw]\n",
        "x_outliers_hw[\"cardio\"].value_counts()\n",
        "\n",
        "out_filter_h = ((x[\"height\"] > boundary[\"height\"][1]) | (x[\"height\"] < boundary[\"height\"][0]))\n",
        "out_filter_w = ((x[\"weight\"] > boundary[\"weight\"][1]) | (x[\"weight\"] < boundary[\"weight\"][0]))\n",
        "print(\"There are {} outliers\".format(x[out_filter_h][\"cardio\"].count()))\n",
        "print(\"There are {} outliers\".format(x[out_filter_w][\"cardio\"].count()))\n"
      ],
      "execution_count": 349,
      "outputs": [
        {
          "output_type": "stream",
          "text": [
            "There are 993 outliers\n",
            "There are 519 outliers\n",
            "There are 1819 outliers\n"
          ],
          "name": "stdout"
        }
      ]
    },
    {
      "cell_type": "code",
      "metadata": {
        "id": "esdTZRM8yoxh",
        "colab": {
          "base_uri": "https://localhost:8080/"
        },
        "outputId": "6e9e8e54-7af4-4633-b70e-9b535242f054"
      },
      "source": [
        "x = x[~out_filter_bp]\n",
        "x=x[~out_filter_h]\n",
        "x=x[~out_filter_w]\n",
        "\n",
        "#Higher diastolic than systolic blood pressure is impossible, too. So let's remove these.\n",
        "x.drop(x[x[\"ap_lo\"] > x[\"ap_hi\"]].index, inplace=True)\n",
        "x.drop(x[x[\"ap_lo\"] <= 30].index, inplace=True)\n",
        "x.drop(x[x[\"ap_hi\"] <= 40].index, inplace=True)\n",
        "x.drop(x[x[\"ap_lo\"] >= 200].index, inplace=True)\n",
        "x.drop(x[x[\"ap_hi\"] >= 250].index, inplace=True)\n",
        "\n",
        "x.shape"
      ],
      "execution_count": 350,
      "outputs": [
        {
          "output_type": "stream",
          "text": [
            "/usr/local/lib/python3.6/dist-packages/ipykernel_launcher.py:2: UserWarning: Boolean Series key will be reindexed to match DataFrame index.\n",
            "  \n",
            "/usr/local/lib/python3.6/dist-packages/ipykernel_launcher.py:3: UserWarning: Boolean Series key will be reindexed to match DataFrame index.\n",
            "  This is separate from the ipykernel package so we can avoid doing imports until\n"
          ],
          "name": "stderr"
        },
        {
          "output_type": "execute_result",
          "data": {
            "text/plain": [
              "(66459, 12)"
            ]
          },
          "metadata": {
            "tags": []
          },
          "execution_count": 350
        }
      ]
    },
    {
      "cell_type": "code",
      "metadata": {
        "id": "DlMLCKboCCeY",
        "colab": {
          "base_uri": "https://localhost:8080/",
          "height": 1000
        },
        "outputId": "946af080-9b08-4c24-8b51-1d2fc8a24ec8"
      },
      "source": [
        "\n",
        "corr = x.corr()\n",
        "f, ax = plt.subplots(figsize = (15,15))\n",
        "sns.heatmap(corr, annot=True, fmt=\".3f\", linewidths=0.5, ax=ax)\n",
        "corr\n",
        "\n",
        "#We can see from correlation map easily; cholesterol, blood pressure (ap_hi and ap_low both) and age have a powerful relationship with cardiovascular diseases.\n",
        "#Glucogen and cholesterol have a strong relationship among them either."
      ],
      "execution_count": 351,
      "outputs": [
        {
          "output_type": "execute_result",
          "data": {
            "text/html": [
              "<div>\n",
              "<style scoped>\n",
              "    .dataframe tbody tr th:only-of-type {\n",
              "        vertical-align: middle;\n",
              "    }\n",
              "\n",
              "    .dataframe tbody tr th {\n",
              "        vertical-align: top;\n",
              "    }\n",
              "\n",
              "    .dataframe thead th {\n",
              "        text-align: right;\n",
              "    }\n",
              "</style>\n",
              "<table border=\"1\" class=\"dataframe\">\n",
              "  <thead>\n",
              "    <tr style=\"text-align: right;\">\n",
              "      <th></th>\n",
              "      <th>age</th>\n",
              "      <th>gender</th>\n",
              "      <th>height</th>\n",
              "      <th>weight</th>\n",
              "      <th>ap_hi</th>\n",
              "      <th>ap_lo</th>\n",
              "      <th>cholesterol</th>\n",
              "      <th>gluc</th>\n",
              "      <th>smoke</th>\n",
              "      <th>alco</th>\n",
              "      <th>active</th>\n",
              "      <th>cardio</th>\n",
              "    </tr>\n",
              "  </thead>\n",
              "  <tbody>\n",
              "    <tr>\n",
              "      <th>age</th>\n",
              "      <td>1.000000</td>\n",
              "      <td>-0.021335</td>\n",
              "      <td>-0.085890</td>\n",
              "      <td>0.068481</td>\n",
              "      <td>0.213281</td>\n",
              "      <td>0.160724</td>\n",
              "      <td>0.157028</td>\n",
              "      <td>0.098836</td>\n",
              "      <td>-0.044958</td>\n",
              "      <td>-0.027551</td>\n",
              "      <td>-0.011062</td>\n",
              "      <td>0.243087</td>\n",
              "    </tr>\n",
              "    <tr>\n",
              "      <th>gender</th>\n",
              "      <td>-0.021335</td>\n",
              "      <td>1.000000</td>\n",
              "      <td>0.519479</td>\n",
              "      <td>0.162291</td>\n",
              "      <td>0.061069</td>\n",
              "      <td>0.065718</td>\n",
              "      <td>-0.038693</td>\n",
              "      <td>-0.022920</td>\n",
              "      <td>0.339302</td>\n",
              "      <td>0.170253</td>\n",
              "      <td>0.007178</td>\n",
              "      <td>0.004527</td>\n",
              "    </tr>\n",
              "    <tr>\n",
              "      <th>height</th>\n",
              "      <td>-0.085890</td>\n",
              "      <td>0.519479</td>\n",
              "      <td>1.000000</td>\n",
              "      <td>0.310426</td>\n",
              "      <td>0.009114</td>\n",
              "      <td>0.027818</td>\n",
              "      <td>-0.064388</td>\n",
              "      <td>-0.026080</td>\n",
              "      <td>0.193968</td>\n",
              "      <td>0.094535</td>\n",
              "      <td>-0.007460</td>\n",
              "      <td>-0.019020</td>\n",
              "    </tr>\n",
              "    <tr>\n",
              "      <th>weight</th>\n",
              "      <td>0.068481</td>\n",
              "      <td>0.162291</td>\n",
              "      <td>0.310426</td>\n",
              "      <td>1.000000</td>\n",
              "      <td>0.255413</td>\n",
              "      <td>0.242734</td>\n",
              "      <td>0.130159</td>\n",
              "      <td>0.091228</td>\n",
              "      <td>0.063305</td>\n",
              "      <td>0.064226</td>\n",
              "      <td>-0.015015</td>\n",
              "      <td>0.175799</td>\n",
              "    </tr>\n",
              "    <tr>\n",
              "      <th>ap_hi</th>\n",
              "      <td>0.213281</td>\n",
              "      <td>0.061069</td>\n",
              "      <td>0.009114</td>\n",
              "      <td>0.255413</td>\n",
              "      <td>1.000000</td>\n",
              "      <td>0.733157</td>\n",
              "      <td>0.193048</td>\n",
              "      <td>0.087781</td>\n",
              "      <td>0.025061</td>\n",
              "      <td>0.032222</td>\n",
              "      <td>0.000865</td>\n",
              "      <td>0.428567</td>\n",
              "    </tr>\n",
              "    <tr>\n",
              "      <th>ap_lo</th>\n",
              "      <td>0.160724</td>\n",
              "      <td>0.065718</td>\n",
              "      <td>0.027818</td>\n",
              "      <td>0.242734</td>\n",
              "      <td>0.733157</td>\n",
              "      <td>1.000000</td>\n",
              "      <td>0.158147</td>\n",
              "      <td>0.069367</td>\n",
              "      <td>0.023605</td>\n",
              "      <td>0.034183</td>\n",
              "      <td>0.000738</td>\n",
              "      <td>0.338930</td>\n",
              "    </tr>\n",
              "    <tr>\n",
              "      <th>cholesterol</th>\n",
              "      <td>0.157028</td>\n",
              "      <td>-0.038693</td>\n",
              "      <td>-0.064388</td>\n",
              "      <td>0.130159</td>\n",
              "      <td>0.193048</td>\n",
              "      <td>0.158147</td>\n",
              "      <td>1.000000</td>\n",
              "      <td>0.449185</td>\n",
              "      <td>0.006794</td>\n",
              "      <td>0.033367</td>\n",
              "      <td>0.009425</td>\n",
              "      <td>0.220301</td>\n",
              "    </tr>\n",
              "    <tr>\n",
              "      <th>gluc</th>\n",
              "      <td>0.098836</td>\n",
              "      <td>-0.022920</td>\n",
              "      <td>-0.026080</td>\n",
              "      <td>0.091228</td>\n",
              "      <td>0.087781</td>\n",
              "      <td>0.069367</td>\n",
              "      <td>0.449185</td>\n",
              "      <td>1.000000</td>\n",
              "      <td>-0.009974</td>\n",
              "      <td>0.006446</td>\n",
              "      <td>-0.007052</td>\n",
              "      <td>0.088919</td>\n",
              "    </tr>\n",
              "    <tr>\n",
              "      <th>smoke</th>\n",
              "      <td>-0.044958</td>\n",
              "      <td>0.339302</td>\n",
              "      <td>0.193968</td>\n",
              "      <td>0.063305</td>\n",
              "      <td>0.025061</td>\n",
              "      <td>0.023605</td>\n",
              "      <td>0.006794</td>\n",
              "      <td>-0.009974</td>\n",
              "      <td>1.000000</td>\n",
              "      <td>0.341654</td>\n",
              "      <td>0.028331</td>\n",
              "      <td>-0.019440</td>\n",
              "    </tr>\n",
              "    <tr>\n",
              "      <th>alco</th>\n",
              "      <td>-0.027551</td>\n",
              "      <td>0.170253</td>\n",
              "      <td>0.094535</td>\n",
              "      <td>0.064226</td>\n",
              "      <td>0.032222</td>\n",
              "      <td>0.034183</td>\n",
              "      <td>0.033367</td>\n",
              "      <td>0.006446</td>\n",
              "      <td>0.341654</td>\n",
              "      <td>1.000000</td>\n",
              "      <td>0.026696</td>\n",
              "      <td>-0.010534</td>\n",
              "    </tr>\n",
              "    <tr>\n",
              "      <th>active</th>\n",
              "      <td>-0.011062</td>\n",
              "      <td>0.007178</td>\n",
              "      <td>-0.007460</td>\n",
              "      <td>-0.015015</td>\n",
              "      <td>0.000865</td>\n",
              "      <td>0.000738</td>\n",
              "      <td>0.009425</td>\n",
              "      <td>-0.007052</td>\n",
              "      <td>0.028331</td>\n",
              "      <td>0.026696</td>\n",
              "      <td>1.000000</td>\n",
              "      <td>-0.037560</td>\n",
              "    </tr>\n",
              "    <tr>\n",
              "      <th>cardio</th>\n",
              "      <td>0.243087</td>\n",
              "      <td>0.004527</td>\n",
              "      <td>-0.019020</td>\n",
              "      <td>0.175799</td>\n",
              "      <td>0.428567</td>\n",
              "      <td>0.338930</td>\n",
              "      <td>0.220301</td>\n",
              "      <td>0.088919</td>\n",
              "      <td>-0.019440</td>\n",
              "      <td>-0.010534</td>\n",
              "      <td>-0.037560</td>\n",
              "      <td>1.000000</td>\n",
              "    </tr>\n",
              "  </tbody>\n",
              "</table>\n",
              "</div>"
            ],
            "text/plain": [
              "                  age    gender    height  ...      alco    active    cardio\n",
              "age          1.000000 -0.021335 -0.085890  ... -0.027551 -0.011062  0.243087\n",
              "gender      -0.021335  1.000000  0.519479  ...  0.170253  0.007178  0.004527\n",
              "height      -0.085890  0.519479  1.000000  ...  0.094535 -0.007460 -0.019020\n",
              "weight       0.068481  0.162291  0.310426  ...  0.064226 -0.015015  0.175799\n",
              "ap_hi        0.213281  0.061069  0.009114  ...  0.032222  0.000865  0.428567\n",
              "ap_lo        0.160724  0.065718  0.027818  ...  0.034183  0.000738  0.338930\n",
              "cholesterol  0.157028 -0.038693 -0.064388  ...  0.033367  0.009425  0.220301\n",
              "gluc         0.098836 -0.022920 -0.026080  ...  0.006446 -0.007052  0.088919\n",
              "smoke       -0.044958  0.339302  0.193968  ...  0.341654  0.028331 -0.019440\n",
              "alco        -0.027551  0.170253  0.094535  ...  1.000000  0.026696 -0.010534\n",
              "active      -0.011062  0.007178 -0.007460  ...  0.026696  1.000000 -0.037560\n",
              "cardio       0.243087  0.004527 -0.019020  ... -0.010534 -0.037560  1.000000\n",
              "\n",
              "[12 rows x 12 columns]"
            ]
          },
          "metadata": {
            "tags": []
          },
          "execution_count": 351
        },
        {
          "output_type": "display_data",
          "data": {
            "image/png": "[encoded data removed]",
            "text/plain": [
              "<Figure size 1080x1080 with 2 Axes>"
            ]
          },
          "metadata": {
            "tags": [],
            "needs_background": "light"
          }
        }
      ]
    },
    {
      "cell_type": "code",
      "metadata": {
        "id": "109IJAlmpivu",
        "colab": {
          "base_uri": "https://localhost:8080/",
          "height": 197
        },
        "outputId": "8f45f187-af80-416c-b028-8389ae7cf9ec"
      },
      "source": [
        "#Calculating BMI\n",
        "def bmi_calc(w, h):\n",
        "    return w/(h**2)\n",
        "x[\"bmi\"] = x[\"weight\"]/ (x[\"height\"]/100)**2\n",
        "\n",
        "#Calculating Diff between systolic and diastolic :pulse pressure\n",
        "x[\"BP_diff\"]=x[\"ap_hi\"]-x[\"ap_lo\"]\n",
        "x.head()"
      ],
      "execution_count": 352,
      "outputs": [
        {
          "output_type": "execute_result",
          "data": {
            "text/html": [
              "<div>\n",
              "<style scoped>\n",
              "    .dataframe tbody tr th:only-of-type {\n",
              "        vertical-align: middle;\n",
              "    }\n",
              "\n",
              "    .dataframe tbody tr th {\n",
              "        vertical-align: top;\n",
              "    }\n",
              "\n",
              "    .dataframe thead th {\n",
              "        text-align: right;\n",
              "    }\n",
              "</style>\n",
              "<table border=\"1\" class=\"dataframe\">\n",
              "  <thead>\n",
              "    <tr style=\"text-align: right;\">\n",
              "      <th></th>\n",
              "      <th>age</th>\n",
              "      <th>gender</th>\n",
              "      <th>height</th>\n",
              "      <th>weight</th>\n",
              "      <th>ap_hi</th>\n",
              "      <th>ap_lo</th>\n",
              "      <th>cholesterol</th>\n",
              "      <th>gluc</th>\n",
              "      <th>smoke</th>\n",
              "      <th>alco</th>\n",
              "      <th>active</th>\n",
              "      <th>cardio</th>\n",
              "      <th>bmi</th>\n",
              "      <th>BP_diff</th>\n",
              "    </tr>\n",
              "  </thead>\n",
              "  <tbody>\n",
              "    <tr>\n",
              "      <th>0</th>\n",
              "      <td>18393</td>\n",
              "      <td>2</td>\n",
              "      <td>168</td>\n",
              "      <td>62.0</td>\n",
              "      <td>110</td>\n",
              "      <td>80</td>\n",
              "      <td>1</td>\n",
              "      <td>1</td>\n",
              "      <td>0</td>\n",
              "      <td>0</td>\n",
              "      <td>1</td>\n",
              "      <td>0</td>\n",
              "      <td>21.967120</td>\n",
              "      <td>30</td>\n",
              "    </tr>\n",
              "    <tr>\n",
              "      <th>1</th>\n",
              "      <td>20228</td>\n",
              "      <td>1</td>\n",
              "      <td>156</td>\n",
              "      <td>85.0</td>\n",
              "      <td>140</td>\n",
              "      <td>90</td>\n",
              "      <td>3</td>\n",
              "      <td>1</td>\n",
              "      <td>0</td>\n",
              "      <td>0</td>\n",
              "      <td>1</td>\n",
              "      <td>1</td>\n",
              "      <td>34.927679</td>\n",
              "      <td>50</td>\n",
              "    </tr>\n",
              "    <tr>\n",
              "      <th>2</th>\n",
              "      <td>18857</td>\n",
              "      <td>1</td>\n",
              "      <td>165</td>\n",
              "      <td>64.0</td>\n",
              "      <td>130</td>\n",
              "      <td>70</td>\n",
              "      <td>3</td>\n",
              "      <td>1</td>\n",
              "      <td>0</td>\n",
              "      <td>0</td>\n",
              "      <td>0</td>\n",
              "      <td>1</td>\n",
              "      <td>23.507805</td>\n",
              "      <td>60</td>\n",
              "    </tr>\n",
              "    <tr>\n",
              "      <th>3</th>\n",
              "      <td>17623</td>\n",
              "      <td>2</td>\n",
              "      <td>169</td>\n",
              "      <td>82.0</td>\n",
              "      <td>150</td>\n",
              "      <td>100</td>\n",
              "      <td>1</td>\n",
              "      <td>1</td>\n",
              "      <td>0</td>\n",
              "      <td>0</td>\n",
              "      <td>1</td>\n",
              "      <td>1</td>\n",
              "      <td>28.710479</td>\n",
              "      <td>50</td>\n",
              "    </tr>\n",
              "    <tr>\n",
              "      <th>4</th>\n",
              "      <td>17474</td>\n",
              "      <td>1</td>\n",
              "      <td>156</td>\n",
              "      <td>56.0</td>\n",
              "      <td>100</td>\n",
              "      <td>60</td>\n",
              "      <td>1</td>\n",
              "      <td>1</td>\n",
              "      <td>0</td>\n",
              "      <td>0</td>\n",
              "      <td>0</td>\n",
              "      <td>0</td>\n",
              "      <td>23.011177</td>\n",
              "      <td>40</td>\n",
              "    </tr>\n",
              "  </tbody>\n",
              "</table>\n",
              "</div>"
            ],
            "text/plain": [
              "     age  gender  height  weight  ...  active  cardio        bmi  BP_diff\n",
              "0  18393       2     168    62.0  ...       1       0  21.967120       30\n",
              "1  20228       1     156    85.0  ...       1       1  34.927679       50\n",
              "2  18857       1     165    64.0  ...       0       1  23.507805       60\n",
              "3  17623       2     169    82.0  ...       1       1  28.710479       50\n",
              "4  17474       1     156    56.0  ...       0       0  23.011177       40\n",
              "\n",
              "[5 rows x 14 columns]"
            ]
          },
          "metadata": {
            "tags": []
          },
          "execution_count": 352
        }
      ]
    },
    {
      "cell_type": "code",
      "metadata": {
        "id": "ID3x9-kgr4ce"
      },
      "source": [
        "x[\"gender\"] = x[\"gender\"] % 2"
      ],
      "execution_count": 353,
      "outputs": []
    },
    {
      "cell_type": "code",
      "metadata": {
        "id": "n7ild2tCs5U8",
        "colab": {
          "base_uri": "https://localhost:8080/",
          "height": 620
        },
        "outputId": "983f160c-e9c2-4c98-b8d9-4310247c5465"
      },
      "source": [
        "from sklearn.preprocessing import StandardScaler\n",
        "x_std = standartization(x)\n",
        "\n",
        "data = pd.melt(x_std,id_vars=\"cardio\",\n",
        "                    var_name=\"features\",\n",
        "                    value_name='value')\n",
        "plt.figure(figsize=(10,10))\n",
        "sns.violinplot(x=\"gender\", y=\"bmi\", hue=\"cardio\", data=x,split=True, inner=\"quart\")\n",
        "plt.xticks(rotation=90)\n",
        "#If we interpret the violin plot, the median and quartiles of bmi distribution of patients is slightly higher than non-patients."
      ],
      "execution_count": 354,
      "outputs": [
        {
          "output_type": "execute_result",
          "data": {
            "text/plain": [
              "(array([0, 1]), <a list of 2 Text major ticklabel objects>)"
            ]
          },
          "metadata": {
            "tags": []
          },
          "execution_count": 354
        },
        {
          "output_type": "display_data",
          "data": {
            "image/png": "[encoded data removed]",
            "text/plain": [
              "<Figure size 720x720 with 1 Axes>"
            ]
          },
          "metadata": {
            "tags": [],
            "needs_background": "light"
          }
        }
      ]
    },
    {
      "cell_type": "code",
      "metadata": {
        "colab": {
          "base_uri": "https://localhost:8080/"
        },
        "id": "BDAyknKuB-K5",
        "outputId": "81518fe3-c4d8-474b-83ab-7db6a4c90363"
      },
      "source": [
        "y = x[\"cardio\"]\n",
        "y.shape\n",
        "x.drop([\"cardio\"], axis=1,inplace=True)\n",
        "x.drop([\"smoke\"], axis=1,inplace=True)\n",
        "x.drop([\"alco\"], axis=1,inplace=True)\n",
        "x.drop([\"height\"], axis=1,inplace=True)\n",
        "x.drop([\"gender\"], axis=1,inplace=True)\n",
        "\n",
        "#To check if we have the same percentage of people with CVD in our data.\n",
        "#Since it's uniform we won't use stratify option in train_test split\n",
        "sum(y)/len(y)"
      ],
      "execution_count": 355,
      "outputs": [
        {
          "output_type": "execute_result",
          "data": {
            "text/plain": [
              "0.489805744895349"
            ]
          },
          "metadata": {
            "tags": []
          },
          "execution_count": 355
        }
      ]
    },
    {
      "cell_type": "code",
      "metadata": {
        "id": "CF7LU04QebND"
      },
      "source": [
        "x.head()\n",
        "feature_list=x.columns.values.tolist()"
      ],
      "execution_count": null,
      "outputs": []
    },
    {
      "cell_type": "code",
      "metadata": {
        "id": "oy7EFifYC0zQ"
      },
      "source": [
        "#train-test split\n",
        "from sklearn.model_selection import train_test_split\n",
        "x_train,x_test, y_train, y_test = train_test_split(x,y,test_size=0.2,random_state=42)\n",
        "#sum(y_train)/len(y_train)\n",
        "#sum(y_test)/len(y_test)\n"
      ],
      "execution_count": 357,
      "outputs": []
    },
    {
      "cell_type": "code",
      "metadata": {
        "id": "TnNWWAeGb0lu"
      },
      "source": [
        "#Normalization\n",
        "from sklearn.preprocessing import normalize\n",
        "# x_train = normalize(x_train)\n",
        "# x_test = normalize(x_test)"
      ],
      "execution_count": 358,
      "outputs": []
    },
    {
      "cell_type": "code",
      "metadata": {
        "id": "mCwdnttGsNyf",
        "outputId": "8120f19e-de21-4657-e83a-83cbf25e647c",
        "colab": {
          "base_uri": "https://localhost:8080/"
        }
      },
      "source": [
        "import statsmodels.api as sm\n",
        "logit_model=sm.Logit(y,x)\n",
        "result=logit_model.fit()\n",
        "print(result.summary2())"
      ],
      "execution_count": 367,
      "outputs": [
        {
          "output_type": "stream",
          "text": [
            "Optimization terminated successfully.\n",
            "         Current function value: 0.648962\n",
            "         Iterations 6\n",
            "                          Results: Logit\n",
            "==================================================================\n",
            "Model:               Logit            Pseudo R-squared: 0.063     \n",
            "Dependent Variable:  cardio           AIC:              86274.7284\n",
            "Date:                2020-12-01 15:05 BIC:              86347.5631\n",
            "No. Observations:    66459            Log-Likelihood:   -43129.   \n",
            "Df Model:            7                LL-Null:          -46052.   \n",
            "Df Residuals:        66451            LLR p-value:      0.0000    \n",
            "Converged:           1.0000           Scale:            1.0000    \n",
            "No. Iterations:      6.0000                                       \n",
            "------------------------------------------------------------------\n",
            "             Coef.   Std.Err.    z     P>|z|    [0.025     0.975] \n",
            "------------------------------------------------------------------\n",
            "age         -0.0001    0.0000 -20.9169 0.0000    -0.0001   -0.0001\n",
            "weight      -0.0119    0.0012  -9.6814 0.0000    -0.0144   -0.0095\n",
            "ap_hi        0.0149 4905.5382   0.0000 1.0000 -9614.6632 9614.6931\n",
            "ap_lo       -0.0121 4905.5382  -0.0000 1.0000 -9614.6903 9614.6661\n",
            "cholesterol  0.5601    0.0145  38.6763 0.0000     0.5317    0.5884\n",
            "gluc        -0.2449    0.0165 -14.8501 0.0000    -0.2772   -0.2126\n",
            "active      -0.5882    0.0203 -28.9062 0.0000    -0.6281   -0.5483\n",
            "bmi         -0.0005    0.0034  -0.1377 0.8905    -0.0070    0.0061\n",
            "BP_diff      0.0270 4905.5382   0.0000 1.0000 -9614.6512 9614.7051\n",
            "==================================================================\n",
            "\n"
          ],
          "name": "stdout"
        }
      ]
    },
    {
      "cell_type": "code",
      "metadata": {
        "colab": {
          "base_uri": "https://localhost:8080/"
        },
        "id": "8nHshHjdcARD",
        "outputId": "63ef8bf6-e687-43eb-8583-e60604e3cc8a"
      },
      "source": [
        "#Using Random forest classifier for feature selection and removal of irrelavant variables.\n",
        "from sklearn.ensemble import RandomForestClassifier\n",
        "\n",
        "ran = RandomForestClassifier(n_estimators=100)\n",
        "ran.fit(x_train, y_train)\n",
        "\n",
        "# # Saving feature names for later use\n",
        "# feature_list = .columns.values.tolist()\n",
        "# Get numerical feature importances\n",
        "importances = list(ran.feature_importances_)\n",
        "# List of tuples with variable and importance\n",
        "feature_importances = [(feature, round(importance, 2)) for feature, importance in zip(feature_list, importances)]\n",
        "# Sort the feature importances by most important first\n",
        "feature_importances = sorted(feature_importances, key = lambda x: x[1], reverse = True)\n",
        "# Print out the feature and importances \n",
        "[print('Variable: {:20} Importance: {}'.format(*pair)) for pair in feature_importances];"
      ],
      "execution_count": 360,
      "outputs": [
        {
          "output_type": "stream",
          "text": [
            "Variable: age                  Importance: 0.31\n",
            "Variable: bmi                  Importance: 0.22\n",
            "Variable: weight               Importance: 0.14\n",
            "Variable: ap_hi                Importance: 0.12\n",
            "Variable: ap_lo                Importance: 0.07\n",
            "Variable: BP_diff              Importance: 0.06\n",
            "Variable: cholesterol          Importance: 0.04\n",
            "Variable: gluc                 Importance: 0.02\n",
            "Variable: active               Importance: 0.02\n"
          ],
          "name": "stdout"
        }
      ]
    },
    {
      "cell_type": "code",
      "metadata": {
        "id": "RG0U-LBmt8bm",
        "colab": {
          "base_uri": "https://localhost:8080/",
          "height": 1000
        },
        "outputId": "4b22d231-a36d-4363-a48e-d505671c5e22"
      },
      "source": [
        "\n",
        "\n",
        "import sklearn.linear_model as lm\n",
        "from sklearn.tree import DecisionTreeClassifier\n",
        "from sklearn.ensemble import RandomForestClassifier\n",
        "from sklearn.neighbors import KNeighborsClassifier\n",
        "from sklearn.svm import SVC\n",
        "from sklearn.naive_bayes import GaussianNB\n",
        "\n",
        "dec = DecisionTreeClassifier()\n",
        "ran = RandomForestClassifier(n_estimators=100)\n",
        "knn = KNeighborsClassifier(n_neighbors=100)\n",
        "svm = SVC(random_state=1)\n",
        "naive = GaussianNB()\n",
        "logreg = lm.LogisticRegression(solver=\"liblinear\", max_iter=200)\n",
        "\n",
        "#models to be fitted\n",
        "#later part added AUC scores and plots for better evaluation\n",
        "models = {\"Decision tree\" : dec,\n",
        "          \"Random forest\" : ran,\n",
        "          \"KNN\" : knn,\n",
        "          \"SVM\" : svm,\n",
        "          \"Naive bayes\" : naive,\n",
        "          \"Logistic Regression\" : logreg}\n",
        "scores= { }\n",
        "auc={ }\n",
        "\n",
        "for key, value in models.items():    \n",
        "    model = value\n",
        "    model.fit(x_train, y_train)\n",
        "    scores[key] = model.score(x_test, y_test)\n",
        "    print(key)\n",
        "    print(\"Accuracy Score\", scores[key])\n",
        "\n",
        "    y_pred = model.predict(x_test)\n",
        "    cm = confusion_matrix(y_test, y_pred.round())\n",
        "    print(\"Confusion Matrix:\", \"\\n\", cm)\n",
        "\n",
        "    tpr, fpr, threshold = roc_curve(y_test, y_pred)\n",
        "    auc[key] = roc_auc_score(y_test, y_pred)\n",
        "    print(\"AUC Score\", auc[key])\n",
        "\n",
        "    plt.plot(tpr, fpr)\n",
        "    plt.show()"
      ],
      "execution_count": 361,
      "outputs": [
        {
          "output_type": "stream",
          "text": [
            "Decision tree\n",
            "Accuracy Score 0.6335389708095095\n",
            "Confusion Matrix: \n",
            " [[4332 2467]\n",
            " [2404 4089]]\n",
            "AUC Score 0.6334538216645997\n"
          ],
          "name": "stdout"
        },
        {
          "output_type": "display_data",
          "data": {
            "image/png": "[encoded data removed]",
            "text/plain": [
              "<Figure size 432x288 with 1 Axes>"
            ]
          },
          "metadata": {
            "tags": [],
            "needs_background": "light"
          }
        },
        {
          "output_type": "stream",
          "text": [
            "Random forest\n",
            "Accuracy Score 0.7065904303340355\n",
            "Confusion Matrix: \n",
            " [[4961 1838]\n",
            " [2062 4431]]\n",
            "AUC Score 0.7060466783477797\n"
          ],
          "name": "stdout"
        },
        {
          "output_type": "display_data",
          "data": {
            "image/png": "[encoded data removed]",
            "text/plain": [
              "<Figure size 432x288 with 1 Axes>"
            ]
          },
          "metadata": {
            "tags": [],
            "needs_background": "light"
          }
        },
        {
          "output_type": "stream",
          "text": [
            "KNN\n",
            "Accuracy Score 0.7068913632260005\n",
            "Confusion Matrix: \n",
            " [[5494 1305]\n",
            " [2591 3902]]\n",
            "AUC Score 0.7045074416525183\n"
          ],
          "name": "stdout"
        },
        {
          "output_type": "display_data",
          "data": {
            "image/png": "[encoded data removed]",
            "text/plain": [
              "<Figure size 432x288 with 1 Axes>"
            ]
          },
          "metadata": {
            "tags": [],
            "needs_background": "light"
          }
        },
        {
          "output_type": "stream",
          "text": [
            "SVM\n",
            "Accuracy Score 0.6090129401143545\n",
            "Confusion Matrix: \n",
            " [[4575 2224]\n",
            " [2973 3520]]\n",
            "AUC Score 0.6075076790244677\n"
          ],
          "name": "stdout"
        },
        {
          "output_type": "display_data",
          "data": {
            "image/png": "[encoded data removed]",
            "text/plain": [
              "<Figure size 432x288 with 1 Axes>"
            ]
          },
          "metadata": {
            "tags": [],
            "needs_background": "light"
          }
        },
        {
          "output_type": "stream",
          "text": [
            "Naive bayes\n",
            "Accuracy Score 0.7196057779115257\n",
            "Confusion Matrix: \n",
            " [[5590 1209]\n",
            " [2518 3975]]\n",
            "AUC Score 0.7171887418690933\n"
          ],
          "name": "stdout"
        },
        {
          "output_type": "display_data",
          "data": {
            "image/png": "[encoded data removed]",
            "text/plain": [
              "<Figure size 432x288 with 1 Axes>"
            ]
          },
          "metadata": {
            "tags": [],
            "needs_background": "light"
          }
        },
        {
          "output_type": "stream",
          "text": [
            "Logistic Regression\n",
            "Accuracy Score 0.7290851640084262\n",
            "Confusion Matrix: \n",
            " [[5408 1391]\n",
            " [2210 4283]]\n",
            "AUC Score 0.7275222706376834\n"
          ],
          "name": "stdout"
        },
        {
          "output_type": "display_data",
          "data": {
            "image/png": "[encoded data removed]",
            "text/plain": [
              "<Figure size 432x288 with 1 Axes>"
            ]
          },
          "metadata": {
            "tags": [],
            "needs_background": "light"
          }
        }
      ]
    },
    {
      "cell_type": "code",
      "metadata": {
        "id": "dZsxjViVLf-w",
        "colab": {
          "base_uri": "https://localhost:8080/"
        },
        "outputId": "20938575-c73c-4656-d97a-859f3b979ff4"
      },
      "source": [
        "scores"
      ],
      "execution_count": 362,
      "outputs": [
        {
          "output_type": "execute_result",
          "data": {
            "text/plain": [
              "{'Decision tree': 0.6335389708095095,\n",
              " 'KNN': 0.7068913632260005,\n",
              " 'Logistic Regression': 0.7290851640084262,\n",
              " 'Naive bayes': 0.7196057779115257,\n",
              " 'Random forest': 0.7065904303340355,\n",
              " 'SVM': 0.6090129401143545}"
            ]
          },
          "metadata": {
            "tags": []
          },
          "execution_count": 362
        }
      ]
    },
    {
      "cell_type": "code",
      "metadata": {
        "colab": {
          "base_uri": "https://localhost:8080/"
        },
        "id": "3dO4NP6SbrWC",
        "outputId": "3ff96528-478f-45b0-9d76-453ae302ba27"
      },
      "source": [
        "auc"
      ],
      "execution_count": 363,
      "outputs": [
        {
          "output_type": "execute_result",
          "data": {
            "text/plain": [
              "{'Decision tree': 0.6334538216645997,\n",
              " 'KNN': 0.7045074416525183,\n",
              " 'Logistic Regression': 0.7275222706376834,\n",
              " 'Naive bayes': 0.7171887418690933,\n",
              " 'Random forest': 0.7060466783477797,\n",
              " 'SVM': 0.6075076790244677}"
            ]
          },
          "metadata": {
            "tags": []
          },
          "execution_count": 363
        }
      ]
    },
    {
      "cell_type": "code",
      "metadata": {
        "id": "uLpidlZMaUXq",
        "colab": {
          "base_uri": "https://localhost:8080/",
          "height": 227
        },
        "outputId": "eb06f23e-6d6b-4d3a-aabc-22911f03dab6"
      },
      "source": [
        "scores_frame = pd.DataFrame(scores, index=[\"Accuracy Score\"]).T\n",
        "scores_frame.sort_values(by=[\"Accuracy Score\"], axis=0 ,ascending=False, inplace=True)\n",
        "scores_frame"
      ],
      "execution_count": 364,
      "outputs": [
        {
          "output_type": "execute_result",
          "data": {
            "text/html": [
              "<div>\n",
              "<style scoped>\n",
              "    .dataframe tbody tr th:only-of-type {\n",
              "        vertical-align: middle;\n",
              "    }\n",
              "\n",
              "    .dataframe tbody tr th {\n",
              "        vertical-align: top;\n",
              "    }\n",
              "\n",
              "    .dataframe thead th {\n",
              "        text-align: right;\n",
              "    }\n",
              "</style>\n",
              "<table border=\"1\" class=\"dataframe\">\n",
              "  <thead>\n",
              "    <tr style=\"text-align: right;\">\n",
              "      <th></th>\n",
              "      <th>Accuracy Score</th>\n",
              "    </tr>\n",
              "  </thead>\n",
              "  <tbody>\n",
              "    <tr>\n",
              "      <th>Logistic Regression</th>\n",
              "      <td>0.729085</td>\n",
              "    </tr>\n",
              "    <tr>\n",
              "      <th>Naive bayes</th>\n",
              "      <td>0.719606</td>\n",
              "    </tr>\n",
              "    <tr>\n",
              "      <th>KNN</th>\n",
              "      <td>0.706891</td>\n",
              "    </tr>\n",
              "    <tr>\n",
              "      <th>Random forest</th>\n",
              "      <td>0.706590</td>\n",
              "    </tr>\n",
              "    <tr>\n",
              "      <th>Decision tree</th>\n",
              "      <td>0.633539</td>\n",
              "    </tr>\n",
              "    <tr>\n",
              "      <th>SVM</th>\n",
              "      <td>0.609013</td>\n",
              "    </tr>\n",
              "  </tbody>\n",
              "</table>\n",
              "</div>"
            ],
            "text/plain": [
              "                     Accuracy Score\n",
              "Logistic Regression        0.729085\n",
              "Naive bayes                0.719606\n",
              "KNN                        0.706891\n",
              "Random forest              0.706590\n",
              "Decision tree              0.633539\n",
              "SVM                        0.609013"
            ]
          },
          "metadata": {
            "tags": []
          },
          "execution_count": 364
        }
      ]
    },
    {
      "cell_type": "code",
      "metadata": {
        "id": "XFhEM8aNy7mD",
        "colab": {
          "base_uri": "https://localhost:8080/",
          "height": 402
        },
        "outputId": "7ddbabe4-b3b3-4bd1-98a9-33b14d5c3c16"
      },
      "source": [
        "plt.figure(figsize=(6,6))\n",
        "sns.barplot(x=scores_frame.index,y=scores_frame[\"Accuracy Score\"])\n",
        "plt.xticks(rotation=45) \n",
        "# Rotation of model names..."
      ],
      "execution_count": 365,
      "outputs": [
        {
          "output_type": "execute_result",
          "data": {
            "text/plain": [
              "(array([0, 1, 2, 3, 4, 5]), <a list of 6 Text major ticklabel objects>)"
            ]
          },
          "metadata": {
            "tags": []
          },
          "execution_count": 365
        },
        {
          "output_type": "display_data",
          "data": {
            "image/png": "[encoded data removed]",
            "text/plain": [
              "<Figure size 360x360 with 1 Axes>"
            ]
          },
          "metadata": {
            "tags": [],
            "needs_background": "light"
          }
        }
      ]
    },
    {
      "cell_type": "code",
      "metadata": {
        "id": "-uF_VWyG0B-y"
      },
      "source": [
        "#K Fold Cross Validation\n",
        "#With K-Fold cross-validation, we obtain \"K\" pieces of results from different mini-training sets from our main training set.\n",
        "#Then we choose the average of these results as the actual result.\n",
        "#After all, by taking the standard deviation of K result, we can examine whether the data is consistent.\n",
        "from sklearn.model_selection import cross_val_score\n",
        "accuracies_log_reg = cross_val_score(estimator=logreg, X=x_train, y=y_train, cv=10)\n",
        "accuracies_random_forest = cross_val_score(estimator=ran, X=x_train, y=y_train, cv=10)\n",
        "accuracies_knn = cross_val_score(estimator=knn, X=x_train, y=y_train, cv=10)\n"
      ],
      "execution_count": 368,
      "outputs": []
    },
    {
      "cell_type": "code",
      "metadata": {
        "id": "kLQ1J0xCFZds",
        "colab": {
          "base_uri": "https://localhost:8080/"
        },
        "outputId": "4c1a5aa7-8f63-4bac-853f-b5d90ad819c9"
      },
      "source": [
        "print(\"Random Forest Average accuracy: \", accuracies_random_forest.mean())\n",
        "print(\"Random Forest Standard Deviation: \", accuracies_random_forest.std())\n",
        "print(\"KNN Average accuracy: \", accuracies_knn.mean())\n",
        "print(\"KNN Standard Deviation: \", accuracies_knn.std())\n",
        "print(\"Logistic Regression Average accuracy: \", accuracies_log_reg.mean())\n",
        "print(\"Logistic Regression Standard Deviation: \", accuracies_log_reg.std())"
      ],
      "execution_count": 369,
      "outputs": [
        {
          "output_type": "stream",
          "text": [
            "Random Forest Average accuracy:  0.7070175550320373\n",
            "Random Forest Standard Deviation:  0.0058190112483316086\n",
            "KNN Average accuracy:  0.7010928325502495\n",
            "KNN Standard Deviation:  0.005412330170043226\n",
            "Logistic Regression Average accuracy:  0.7267478365247521\n",
            "Logistic Regression Standard Deviation:  0.005364992976523371\n"
          ],
          "name": "stdout"
        }
      ]
    },
    {
      "cell_type": "code",
      "metadata": {
        "id": "u8NqxA0SGn7K",
        "colab": {
          "base_uri": "https://localhost:8080/"
        },
        "outputId": "0f152af4-92bb-4014-c0db-e34505cfe00d"
      },
      "source": [
        "#Let us use grid search algorithm, in order to find the best \n",
        "#Random Forest Algorithm's \"n_estimators\" hyperparameter value for our model, l\n",
        "# grid search cross validation with 1 hyperparameter\n",
        "from sklearn.model_selection import GridSearchCV \n",
        "\n",
        "grid = {\"n_estimators\" : np.arange(10,150,10)}\n",
        "\n",
        "ran_cv = GridSearchCV(ran, grid, cv=3) # GridSearchCV\n",
        "ran_cv.fit(x_train,y_train)# Fit\n",
        "\n",
        "# Print hyperparameter\n",
        "print(\"Tuned hyperparameter n_estimators: {}\".format(ran_cv.best_params_)) \n",
        "print(\"Best score: {}\".format(ran_cv.best_score_))\n"
      ],
      "execution_count": 370,
      "outputs": [
        {
          "output_type": "stream",
          "text": [
            "Tuned hyperparameter n_estimators: {'n_estimators': 90}\n",
            "Best score: 0.7072808110162104\n"
          ],
          "name": "stdout"
        }
      ]
    },
    {
      "cell_type": "code",
      "metadata": {
        "colab": {
          "base_uri": "https://localhost:8080/",
          "height": 354
        },
        "id": "qn0lD6ksgLO5",
        "outputId": "90276fed-85ce-4a36-c769-f54d452c8e41"
      },
      "source": [
        "#Test Set Accuracy Score for Random forest¶\n",
        "#Now we have selected our model with better hyper parameters than default ones.\n",
        "#It is time to evaluate model with our test set\n",
        "ran_best = RandomForestClassifier(n_estimators=140)\n",
        "ran_best.fit(x_train, y_train)\n",
        "print(\"Test accuracy: \",ran_best.score(x_test, y_test))\n",
        "\n",
        "y_pred = ran_best.predict(x_test)\n",
        "cm = confusion_matrix(y_test, y_pred.round())\n",
        "print(\"Confusion Matrix:\", \"\\n\", cm)\n",
        "\n",
        "tpr, fpr, threshold = roc_curve(y_test, y_pred)\n",
        "auc = roc_auc_score(y_test, y_pred)\n",
        "print(\"AUC Score\", auc)\n",
        "\n",
        "plt.plot(tpr, fpr)\n",
        "plt.show()"
      ],
      "execution_count": 371,
      "outputs": [
        {
          "output_type": "stream",
          "text": [
            "Test accuracy:  0.7050105326512188\n",
            "Confusion Matrix: \n",
            " [[4942 1857]\n",
            " [2064 4429]]\n",
            "AUC Score 0.7044954020312688\n"
          ],
          "name": "stdout"
        },
        {
          "output_type": "display_data",
          "data": {
            "image/png": "[encoded data removed]",
            "text/plain": [
              "<Figure size 432x288 with 1 Axes>"
            ]
          },
          "metadata": {
            "tags": [],
            "needs_background": "light"
          }
        }
      ]
    },
    {
      "cell_type": "code",
      "metadata": {
        "colab": {
          "base_uri": "https://localhost:8080/"
        },
        "id": "hMLrP100O0yn",
        "outputId": "8adccd5e-4f9b-420e-c1f1-ba5c356912c4"
      },
      "source": [
        "#Later we moved log_reg to above classification method to maintain Choronological order\n",
        "#log_reg = LogisticRegression(solver=\"liblinear\", max_iter=200)\n",
        "grid = {\"penalty\" : [\"l1\", \"l2\"],\n",
        "         \"C\" : np.arange(60,80,2)} # (60,62,64 ... 78)\n",
        "log_reg_cv = GridSearchCV(logreg, grid, cv=3)\n",
        "log_reg_cv.fit(x_train, y_train)\n",
        "\n",
        "# Print hyperparameter\n",
        "print(\"Tuned hyperparameter n_estimators: {}\".format(log_reg_cv.best_params_)) \n",
        "print(\"Best score: {}\".format(log_reg_cv.best_score_))"
      ],
      "execution_count": 372,
      "outputs": [
        {
          "output_type": "stream",
          "text": [
            "Tuned hyperparameter n_estimators: {'C': 70, 'penalty': 'l2'}\n",
            "Best score: 0.7266537879846792\n"
          ],
          "name": "stdout"
        }
      ]
    },
    {
      "cell_type": "code",
      "metadata": {
        "colab": {
          "base_uri": "https://localhost:8080/",
          "height": 354
        },
        "id": "8xxQ-R5ePDwl",
        "outputId": "5d04b6ce-7565-4b35-cb5b-6e4f62a92ee1"
      },
      "source": [
        "#Test Set Accuracy Score ¶\n",
        "#Now we have selected our model with better hyper parameters than default ones.\n",
        "#It is time to evaluate model with our test set\n",
        "logreg_best = LogisticRegression(C=74, penalty=\"l1\", solver=\"liblinear\")\n",
        "logreg_best.fit(x_train, y_train)\n",
        "print(\"Test accuracy: \",logreg_best.score(x_test, y_test))\n",
        "\n",
        "y_pred = logreg_best.predict(x_test)\n",
        "cm = confusion_matrix(y_test, y_pred.round())\n",
        "print(\"Confusion Matrix:\", \"\\n\", cm)\n",
        "\n",
        "tpr, fpr, threshold = roc_curve(y_test, y_pred)\n",
        "auc = roc_auc_score(y_test, y_pred)\n",
        "print(\"AUC Score\", auc)\n",
        "\n",
        "plt.plot(tpr, fpr)\n",
        "plt.show()"
      ],
      "execution_count": 373,
      "outputs": [
        {
          "output_type": "stream",
          "text": [
            "Test accuracy:  0.7293108636774\n",
            "Confusion Matrix: \n",
            " [[5400 1399]\n",
            " [2199 4294]]\n",
            "AUC Score 0.7277810148968058\n"
          ],
          "name": "stdout"
        },
        {
          "output_type": "display_data",
          "data": {
            "image/png": "[encoded data removed]",
            "text/plain": [
              "<Figure size 432x288 with 1 Axes>"
            ]
          },
          "metadata": {
            "tags": [],
            "needs_background": "light"
          }
        }
      ]
    },
    {
      "cell_type": "code",
      "metadata": {
        "id": "lFyPnhtQqlWE"
      },
      "source": [
        ""
      ],
      "execution_count": null,
      "outputs": []
    },
    {
      "cell_type": "code",
      "metadata": {
        "id": "FVw1DKFsmhrK"
      },
      "source": [
        "# chk=logreg_best.fit(x_train, y_train)\n",
        "# print(chk.summary())\n"
      ],
      "execution_count": null,
      "outputs": []
    },
    {
      "cell_type": "code",
      "metadata": {
        "colab": {
          "base_uri": "https://localhost:8080/"
        },
        "id": "U9089WZYkiCx",
        "outputId": "9ea06b1f-994a-42e0-b026-b35d3e108068"
      },
      "source": [
        "# Get numerical feature importances\n",
        "importances = list(logreg_best.coef_[0])\n",
        "# List of tuples with variable and importance\n",
        "feature_importances = [(feature, round(importance, 2)) for feature, importance in zip(feature_list, importances)]\n",
        "# Sort the feature importances by most important first\n",
        "feature_importances = sorted(feature_importances, key = lambda x: x[1], reverse = True)\n",
        "# Print out the feature and importances \n",
        "[print('Variable: {:20} Importance: {}'.format(*pair)) for pair in feature_importances];"
      ],
      "execution_count": 374,
      "outputs": [
        {
          "output_type": "stream",
          "text": [
            "Variable: cholesterol          Importance: 0.49\n",
            "Variable: ap_lo                Importance: 0.05\n",
            "Variable: BP_diff              Importance: 0.03\n",
            "Variable: ap_hi                Importance: 0.02\n",
            "Variable: bmi                  Importance: 0.02\n",
            "Variable: weight               Importance: 0.01\n",
            "Variable: age                  Importance: 0.0\n",
            "Variable: gluc                 Importance: -0.11\n",
            "Variable: active               Importance: -0.23\n"
          ],
          "name": "stdout"
        }
      ]
    },
    {
      "cell_type": "code",
      "metadata": {
        "colab": {
          "base_uri": "https://localhost:8080/",
          "height": 334
        },
        "id": "qcdYCKgYPjzB",
        "outputId": "7ffa6048-1be4-47f0-a48d-ea2c0bdb065b"
      },
      "source": [
        "#Plotting confusion matrix for logistic\n",
        "y_true = y_test\n",
        "#y_pred = logreg_best.predict(x_test)\n",
        "from sklearn.metrics import confusion_matrix\n",
        "cm = confusion_matrix(y_true, y_pred)\n",
        "f, ax = plt.subplots(figsize=(5,5))\n",
        "sns.heatmap(cm,fmt=\".0f\", annot=True,linewidths=0.2, linecolor=\"purple\", ax=ax)\n",
        "plt.xlabel(\"Predicted\")\n",
        "plt.ylabel(\"Grand Truth\")\n",
        "plt.show()"
      ],
      "execution_count": 375,
      "outputs": [
        {
          "output_type": "display_data",
          "data": {
            "image/png": "[encoded data removed]",
            "text/plain": [
              "<Figure size 360x360 with 2 Axes>"
            ]
          },
          "metadata": {
            "tags": [],
            "needs_background": "light"
          }
        }
      ]
    },
    {
      "cell_type": "code",
      "metadata": {
        "colab": {
          "base_uri": "https://localhost:8080/",
          "height": 78
        },
        "id": "C9jaJ3HsPyO3",
        "outputId": "38235a3c-1b03-4b23-ec6f-9868569031e7"
      },
      "source": [
        "TN = cm[0,0]\n",
        "TP = cm[1,1]\n",
        "FN = cm[1,0]\n",
        "FP = cm[0,1]\n",
        "Precision = TP/(TP+FP)\n",
        "Recall = TP/(TP+FN)\n",
        "F1_Score = 2*(Recall * Precision) / (Recall + Precision)\n",
        "pd.DataFrame([[Precision, Recall, F1_Score]],columns=[\"Precision\", \"Recall\", \"F1 Score\"], index=[\"Results\"])\n",
        "#High precision relates to the low false positive rate\n",
        "#High recall relates to the low false negative rate\n"
      ],
      "execution_count": 376,
      "outputs": [
        {
          "output_type": "execute_result",
          "data": {
            "text/html": [
              "<div>\n",
              "<style scoped>\n",
              "    .dataframe tbody tr th:only-of-type {\n",
              "        vertical-align: middle;\n",
              "    }\n",
              "\n",
              "    .dataframe tbody tr th {\n",
              "        vertical-align: top;\n",
              "    }\n",
              "\n",
              "    .dataframe thead th {\n",
              "        text-align: right;\n",
              "    }\n",
              "</style>\n",
              "<table border=\"1\" class=\"dataframe\">\n",
              "  <thead>\n",
              "    <tr style=\"text-align: right;\">\n",
              "      <th></th>\n",
              "      <th>Precision</th>\n",
              "      <th>Recall</th>\n",
              "      <th>F1 Score</th>\n",
              "    </tr>\n",
              "  </thead>\n",
              "  <tbody>\n",
              "    <tr>\n",
              "      <th>Results</th>\n",
              "      <td>0.75426</td>\n",
              "      <td>0.661328</td>\n",
              "      <td>0.704743</td>\n",
              "    </tr>\n",
              "  </tbody>\n",
              "</table>\n",
              "</div>"
            ],
            "text/plain": [
              "         Precision    Recall  F1 Score\n",
              "Results    0.75426  0.661328  0.704743"
            ]
          },
          "metadata": {
            "tags": []
          },
          "execution_count": 376
        }
      ]
    },
    {
      "cell_type": "code",
      "metadata": {
        "id": "ze59Cz_BrfH4"
      },
      "source": [
        "# #Optimising upon lowering false negatives i.e. improving recall.\n",
        "# from sklearn.model_selection import StratifiedKFold\n",
        "\n",
        "# #The scorers dictionary can be used as the scoring argument in GridSearchCV. \n",
        "# #When multiple scores are passed, GridSearchCV.cv_results_ will return scoring metrics for each of the score types provided.\n",
        "# scorers = {\n",
        "#     'precision_score': make_scorer(precision_score),\n",
        "#     'recall_score': make_scorer(recall_score),\n",
        "#     'accuracy_score': make_scorer(accuracy_score)\n",
        "# }\n",
        "\n",
        "# #random forests have many tunable parameters, which make it suitable for GridSearchCV\n",
        "# param_grid = {\n",
        "#     'min_samples_split': [3, 5, 10], \n",
        "#     'n_estimators' : [100, 300],\n",
        "#     'max_depth': [3, 5, 15, 25],\n",
        "#     'max_features': [3, 5, 10, 20]\n",
        "# }\n",
        "\n",
        "# #The function below uses GridSearchCV to fit several classifiers according to the combinations of parameters in the param_grid. \n",
        "# #The scores from scorers are recorded and the best model (as scored by the refit argument) will be selected and \"refit\" to the full training data for downstream use. \n",
        "# #This also makes predictions on the held out X_test and prints the confusion matrix to show performance.\n",
        "# def grid_search_wrapper(refit_score='recall_score'):\n",
        "#     \"\"\"\n",
        "#     fits a GridSearchCV classifier using refit_score for optimization\n",
        "#     prints classifier performance metrics\n",
        "#     \"\"\"\n",
        "#     skf = StratifiedKFold(n_splits=10)\n",
        "#     grid_search = GridSearchCV(ran, param_grid, scoring=scorers, refit=refit_score,\n",
        "#                            cv=skf, return_train_score=True, n_jobs=-1)\n",
        "#     grid_search.fit(x_train, y_train)\n",
        "\n",
        "#     # make the predictions\n",
        "#     y_pred = grid_search.predict(x_test.values)\n",
        "\n",
        "#     print('Best params for {}'.format(refit_score))\n",
        "#     print(grid_search.best_params_)\n",
        "\n",
        "#     # confusion matrix on the test data.\n",
        "#     print('\\nConfusion matrix of Random Forest optimized for {} on the test data:'.format(refit_score))\n",
        "#     print(pd.DataFrame(confusion_matrix(y_test, y_pred),\n",
        "#                  columns=['pred_neg', 'pred_pos'], index=['neg', 'pos']))\n",
        "#     return grid_search\n",
        "\n",
        "# grid_search_clf = grid_search_wrapper(refit_score='recall_score')\n"
      ],
      "execution_count": null,
      "outputs": []
    },
    {
      "cell_type": "markdown",
      "metadata": {
        "id": "1Zg04QdeCVfa"
      },
      "source": [
        "_______________________________________________________________________"
      ]
    },
    {
      "cell_type": "code",
      "metadata": {
        "id": "KanvzOXuKwbY"
      },
      "source": [
        "from sklearn.metrics import accuracy_score, confusion_matrix, classification_report\n",
        "\n",
        "def print_score(clf, X_train, y_train, X_test, y_test, train=True):\n",
        "    if train:\n",
        "        pred = clf.predict(X_train)\n",
        "        clf_report = pd.DataFrame(classification_report(y_train, pred, output_dict=True))\n",
        "        print(\"Train Result:\\n================================================\")\n",
        "        print(f\"Accuracy Score: {accuracy_score(y_train, pred) * 100:.2f}%\")\n",
        "        print(\"_______________________________________________\")\n",
        "        print(f\"CLASSIFICATION REPORT:\\n{clf_report}\")\n",
        "        print(\"_______________________________________________\")\n",
        "        print(f\"Confusion Matrix: \\n {confusion_matrix(y_train, pred)}\\n\")\n",
        "        \n",
        "    elif train==False:\n",
        "        pred = clf.predict(X_test)\n",
        "        clf_report = pd.DataFrame(classification_report(y_test, pred, output_dict=True))\n",
        "        print(\"Test Result:\\n================================================\")        \n",
        "        print(f\"Accuracy Score: {accuracy_score(y_test, pred) * 100:.2f}%\")\n",
        "        print(\"_______________________________________________\")\n",
        "        print(f\"CLASSIFICATION REPORT:\\n{clf_report}\")\n",
        "        print(\"_______________________________________________\")\n",
        "        print(f\"Confusion Matrix: \\n {confusion_matrix(y_test, pred)}\\n\")\n"
      ],
      "execution_count": 377,
      "outputs": []
    },
    {
      "cell_type": "code",
      "metadata": {
        "colab": {
          "base_uri": "https://localhost:8080/",
          "height": 818
        },
        "id": "AyX3X0XoCYmI",
        "outputId": "df4d578f-7c54-452f-b70d-a275f02fabaa"
      },
      "source": [
        "from xgboost import XGBClassifier\n",
        "\n",
        "xgb_clf = XGBClassifier()\n",
        "xgb_clf.fit(x_train, y_train)\n",
        "\n",
        "print_score(xgb_clf, x_train, y_train, x_test, y_test, train=True)\n",
        "print_score(xgb_clf, x_train, y_train, x_test, y_test, train=False)\n",
        "\n",
        "y_pred = xgb_clf.predict(x_test)\n",
        "\n",
        "tpr, fpr, threshold = roc_curve(y_test, y_pred)\n",
        "auc_score = roc_auc_score(y_test, y_pred)\n",
        "print(\"AUC-score:\", auc_score)\n",
        "\n",
        "%matplotlib inline\n",
        "import matplotlib.pyplot as plt\n",
        "\n",
        "plt.plot(tpr, fpr)\n",
        "plt.show()"
      ],
      "execution_count": 378,
      "outputs": [
        {
          "output_type": "stream",
          "text": [
            "Train Result:\n",
            "================================================\n",
            "Accuracy Score: 73.68%\n",
            "_______________________________________________\n",
            "CLASSIFICATION REPORT:\n",
            "                      0             1  accuracy     macro avg  weighted avg\n",
            "precision      0.721560      0.755961   0.73681      0.738760      0.738421\n",
            "recall         0.787812      0.683756   0.73681      0.735784      0.736810\n",
            "f1-score       0.753232      0.718048   0.73681      0.735640      0.735987\n",
            "support    27108.000000  26059.000000   0.73681  53167.000000  53167.000000\n",
            "_______________________________________________\n",
            "Confusion Matrix: \n",
            " [[21356  5752]\n",
            " [ 8241 17818]]\n",
            "\n",
            "Test Result:\n",
            "================================================\n",
            "Accuracy Score: 73.73%\n",
            "_______________________________________________\n",
            "CLASSIFICATION REPORT:\n",
            "                     0            1  accuracy     macro avg  weighted avg\n",
            "precision     0.723537     0.754538  0.737286      0.739037      0.738680\n",
            "recall        0.787175     0.685045  0.737286      0.736110      0.737286\n",
            "f1-score      0.754015     0.718114  0.737286      0.736065      0.736478\n",
            "support    6799.000000  6493.000000  0.737286  13292.000000  13292.000000\n",
            "_______________________________________________\n",
            "Confusion Matrix: \n",
            " [[5352 1447]\n",
            " [2045 4448]]\n",
            "\n",
            "AUC-score: 0.7361100090207684\n"
          ],
          "name": "stdout"
        },
        {
          "output_type": "display_data",
          "data": {
            "image/png": "[encoded data removed]",
            "text/plain": [
              "<Figure size 432x288 with 1 Axes>"
            ]
          },
          "metadata": {
            "tags": [],
            "needs_background": "light"
          }
        }
      ]
    },
    {
      "cell_type": "code",
      "metadata": {
        "colab": {
          "base_uri": "https://localhost:8080/"
        },
        "id": "dByIMS6iJP2T",
        "outputId": "292cb884-c2bb-47c6-8d54-059a736b59ef"
      },
      "source": [
        "#Hyper-Parameter tuning using GridSearchCV\n",
        "##Round 1\n",
        "# param_grid= {\n",
        "#     'max_depth' : [3,4,5],\n",
        "#     'learning_rate': [0.1,0.01,0.05],\n",
        "#     'gamma':[0,0.25,1.0],\n",
        "#     'reg_lambda': [0,1.0,10.0]\n",
        "# }\n",
        "#Tuned hyperparameter n_estimators: {'gamma': 0.25, 'learning_rate': 0.1, 'max_depth': 5, 'reg_lambda': 10.0}\n",
        "#Best score: 0.7979720547889348\n",
        "\n",
        "##Round 2\n",
        "param_grid= {\n",
        "    'max_depth' : [5,6,7],\n",
        "    'learning_rate': [0.1,0.5,1],\n",
        "    'gamma':[0.25],\n",
        "    'reg_lambda': [10.0,20,100]\n",
        "}\n",
        "# Tuned hyperparameter n_estimators: {'gamma': 0.25, 'learning_rate': 0.1, 'max_depth': 5, 'reg_lambda': 10.0}\n",
        "# Best score: 0.7979720547889348\n",
        "#To speed up cross validation and to prevent overfitting we use random subset of data (90%) and of features (50%) per tree.\n",
        "XGB_grid= GridSearchCV(estimator=XGBClassifier(objective='binary:logistic', \n",
        "                                               seed=42,\n",
        "                                               subsample=0.9,\n",
        "                                               colsample_bytree=0.5),\n",
        "                       param_grid=param_grid,\n",
        "                       scoring='roc_auc',\n",
        "                       verbose=0,\n",
        "                       n_jobs=10,\n",
        "                       cv=3\n",
        "                       )\n",
        "best_xgb.fit(x_train, y_train)\n",
        "\n",
        "# Print hyperparameter\n",
        "print(\"Tuned hyperparameter n_estimators: {}\".format(best_xgb.best_params_)) \n",
        "print(\"Best score: {}\".format(best_xgb.best_score_))"
      ],
      "execution_count": 379,
      "outputs": [
        {
          "output_type": "stream",
          "text": [
            "Tuned hyperparameter n_estimators: {'gamma': 0.25, 'learning_rate': 0.1, 'max_depth': 5, 'reg_lambda': 100}\n",
            "Best score: 0.7988952420548108\n"
          ],
          "name": "stdout"
        }
      ]
    },
    {
      "cell_type": "code",
      "metadata": {
        "colab": {
          "base_uri": "https://localhost:8080/"
        },
        "id": "ItlDLRxf5awC",
        "outputId": "3b7c5838-fe14-44a6-d71b-c8676bf2c926"
      },
      "source": [
        "#Test Set Accuracy Score ¶\n",
        "#Now we have selected our model with better hyper parameters than default ones.\n",
        "#It is time to evaluate model with our test set\n",
        "Xgb_best = XGBClassifier(seed=42 ,\n",
        "                         objective='binary:logistic',\n",
        "                         gamma= 0.25, \n",
        "                         learning_rate= 0.1,\n",
        "                         max_depth = 5,\n",
        "                         reg_lambda = 10.0,\n",
        "                         subsample=0.9,\n",
        "                         colsample_bytree=0.5)\n",
        "\n",
        "Xgb_best.fit(x_train,\n",
        "             y_train,\n",
        "             early_stopping_rounds=10,\n",
        "             eval_metric='aucpr',\n",
        "             eval_set=[(x_test,y_test)])\n",
        "\n",
        "\n"
      ],
      "execution_count": 380,
      "outputs": [
        {
          "output_type": "stream",
          "text": [
            "[0]\tvalidation_0-aucpr:0.736729\n",
            "Will train until validation_0-aucpr hasn't improved in 10 rounds.\n",
            "[1]\tvalidation_0-aucpr:0.768996\n",
            "[2]\tvalidation_0-aucpr:0.772462\n",
            "[3]\tvalidation_0-aucpr:0.773731\n",
            "[4]\tvalidation_0-aucpr:0.775625\n",
            "[5]\tvalidation_0-aucpr:0.778254\n",
            "[6]\tvalidation_0-aucpr:0.778622\n",
            "[7]\tvalidation_0-aucpr:0.777233\n",
            "[8]\tvalidation_0-aucpr:0.775613\n",
            "[9]\tvalidation_0-aucpr:0.774875\n",
            "[10]\tvalidation_0-aucpr:0.775933\n",
            "[11]\tvalidation_0-aucpr:0.776394\n",
            "[12]\tvalidation_0-aucpr:0.775785\n",
            "[13]\tvalidation_0-aucpr:0.775882\n",
            "[14]\tvalidation_0-aucpr:0.777621\n",
            "[15]\tvalidation_0-aucpr:0.776693\n",
            "[16]\tvalidation_0-aucpr:0.777014\n",
            "Stopping. Best iteration:\n",
            "[6]\tvalidation_0-aucpr:0.778622\n",
            "\n"
          ],
          "name": "stdout"
        },
        {
          "output_type": "execute_result",
          "data": {
            "text/plain": [
              "XGBClassifier(base_score=0.5, booster='gbtree', colsample_bylevel=1,\n",
              "              colsample_bynode=1, colsample_bytree=0.5, gamma=0.25,\n",
              "              learning_rate=0.1, max_delta_step=0, max_depth=5,\n",
              "              min_child_weight=1, missing=None, n_estimators=100, n_jobs=1,\n",
              "              nthread=None, objective='binary:logistic', random_state=0,\n",
              "              reg_alpha=0, reg_lambda=10.0, scale_pos_weight=1, seed=42,\n",
              "              silent=None, subsample=0.9, verbosity=1)"
            ]
          },
          "metadata": {
            "tags": []
          },
          "execution_count": 380
        }
      ]
    },
    {
      "cell_type": "code",
      "metadata": {
        "colab": {
          "base_uri": "https://localhost:8080/",
          "height": 354
        },
        "id": "p2QLUKOB79eD",
        "outputId": "54c95d54-6d32-4aca-f9bf-d97ac9c2a099"
      },
      "source": [
        "print(\"Test accuracy: \",Xgb_best.score(x_test, y_test))\n",
        "\n",
        "y_pred = Xgb_best.predict(x_test)\n",
        "cm = confusion_matrix(y_test, y_pred.round())\n",
        "print(\"Confusion Matrix:\", \"\\n\", cm)\n",
        "\n",
        "tpr, fpr, threshold = roc_curve(y_test, y_pred)\n",
        "auc = roc_auc_score(y_test, y_pred)\n",
        "print(\"AUC Score\", auc)\n",
        "\n",
        "plt.plot(tpr, fpr)\n",
        "plt.show()"
      ],
      "execution_count": 381,
      "outputs": [
        {
          "output_type": "stream",
          "text": [
            "Test accuracy:  0.7287089978934698\n",
            "Confusion Matrix: \n",
            " [[5472 1327]\n",
            " [2279 4214]]\n",
            "AUC Score 0.7269154306876061\n"
          ],
          "name": "stdout"
        },
        {
          "output_type": "display_data",
          "data": {
            "image/png": "[encoded data removed]",
            "text/plain": [
              "<Figure size 432x288 with 1 Axes>"
            ]
          },
          "metadata": {
            "tags": [],
            "needs_background": "light"
          }
        }
      ]
    },
    {
      "cell_type": "code",
      "metadata": {
        "colab": {
          "base_uri": "https://localhost:8080/",
          "height": 297
        },
        "id": "4Hqi9uGt8kOV",
        "outputId": "9274434c-86a8-4cec-da22-b8cfe37fe4cd"
      },
      "source": [
        "from sklearn.metrics import plot_confusion_matrix\n",
        "plot_confusion_matrix(Xgb_best,x_test,y_test,values_format=\"d\",display_labels=[\"CVD\",\"No CVD\"])"
      ],
      "execution_count": 382,
      "outputs": [
        {
          "output_type": "execute_result",
          "data": {
            "text/plain": [
              "<sklearn.metrics._plot.confusion_matrix.ConfusionMatrixDisplay at 0x7f1f1bc2f438>"
            ]
          },
          "metadata": {
            "tags": []
          },
          "execution_count": 382
        },
        {
          "output_type": "display_data",
          "data": {
            "image/png": "[encoded data removed]",
            "text/plain": [
              "<Figure size 432x288 with 2 Axes>"
            ]
          },
          "metadata": {
            "tags": [],
            "needs_background": "light"
          }
        }
      ]
    },
    {
      "cell_type": "code",
      "metadata": {
        "colab": {
          "base_uri": "https://localhost:8080/",
          "height": 520
        },
        "id": "-HpOZ5uB-eKz",
        "outputId": "725002e2-0217-44cf-f37d-21bd4a69bc37"
      },
      "source": [
        "#Plotting the Decision Tree\n",
        "import xgboost as xgb\n",
        "\n",
        "# bst=Xgb_best.get_booster()\n",
        "# for importance_type in (\"weight\" , \"gain\", \"cover\", \"total_gain\", \"total_cover\"):\n",
        "#   print('%s: ' % importance_type, bst.get_score(importance_type=importance_type)))\n",
        "node_params={\"shape\" : \"box\",\n",
        "             \"style\": \"filled,rounded\",\n",
        "             \"fillcolor\": \"#78cbe\"}\n",
        "\n",
        "leaf_params={\"shape\" : \"box\",\n",
        "             \"style\": \"filled,rounded\",\n",
        "             \"fillcolor\": \"#e48038\"}\n",
        "\n",
        "xgb.to_graphviz(Xgb_best,num_trees=0,size=\"40,40\",\n",
        "                condition_node_params=node_params,\n",
        "                leaf_node_params=leaf_params)"
      ],
      "execution_count": 383,
      "outputs": [
        {
          "output_type": "execute_result",
          "data": {
            "text/plain": [
              "<graphviz.dot.Digraph at 0x7f1f12298d30>"
            ],
            "image/svg+xml": "<?xml version=\"1.0\" encoding=\"UTF-8\" standalone=\"no\"?>\n<!DOCTYPE svg PUBLIC \"-//W3C//DTD SVG 1.1//EN\"\n \"http://www.w3.org/Graphics/SVG/1.1/DTD/svg11.dtd\">\n<!-- Generated by graphviz version 2.40.1 (20161225.0304)\n -->\n<!-- Title: %3 Pages: 1 -->\n<svg width=\"2880pt\" height=\"360pt\"\n viewBox=\"0.00 0.00 2880.00 360.09\" xmlns=\"http://www.w3.org/2000/svg\" xmlns:xlink=\"http://www.w3.org/1999/xlink\">\n<g id=\"graph0\" class=\"graph\" transform=\"scale(.7518 .7518) rotate(0) translate(4 475)\">\n<title>%3</title>\n<polygon fill=\"#ffffff\" stroke=\"transparent\" points=\"-4,4 -4,-475 3827,-475 3827,4 -4,4\"/>\n<!-- 0 -->\n<g id=\"node1\" class=\"node\">\n<title>0</title>\n<path fill=\"#78cb0e\" stroke=\"#000000\" d=\"M2395,-471C2395,-471 2333,-471 2333,-471 2327,-471 2321,-465 2321,-459 2321,-459 2321,-447 2321,-447 2321,-441 2327,-435 2333,-435 2333,-435 2395,-435 2395,-435 2401,-435 2407,-441 2407,-447 2407,-447 2407,-459 2407,-459 2407,-465 2401,-471 2395,-471\"/>\n<text text-anchor=\"middle\" x=\"2364\" y=\"-449.3\" font-family=\"Times,serif\" font-size=\"14.00\" fill=\"#000000\">BP_diff&lt;49</text>\n</g>\n<!-- 1 -->\n<g id=\"node2\" class=\"node\">\n<title>1</title>\n<path fill=\"#78cb0e\" stroke=\"#000000\" d=\"M1745,-384C1745,-384 1687,-384 1687,-384 1681,-384 1675,-378 1675,-372 1675,-372 1675,-360 1675,-360 1675,-354 1681,-348 1687,-348 1687,-348 1745,-348 1745,-348 1751,-348 1757,-354 1757,-360 1757,-360 1757,-372 1757,-372 1757,-378 1751,-384 1745,-384\"/>\n<text text-anchor=\"middle\" x=\"1716\" y=\"-362.3\" font-family=\"Times,serif\" font-size=\"14.00\" fill=\"#000000\">age&lt;19946</text>\n</g>\n<!-- 0&#45;&gt;1 -->\n<g id=\"edge1\" class=\"edge\">\n<title>0&#45;&gt;1</title>\n<path fill=\"none\" stroke=\"#0000ff\" d=\"M2320.9811,-447.2243C2205.9176,-431.776 1891.4181,-389.5515 1767.3278,-372.8912\"/>\n<polygon fill=\"#0000ff\" stroke=\"#0000ff\" points=\"1767.6992,-369.4098 1757.3224,-371.5479 1766.7677,-376.3475 1767.6992,-369.4098\"/>\n<text text-anchor=\"middle\" x=\"2114.5\" y=\"-405.8\" font-family=\"Times,serif\" font-size=\"14.00\" fill=\"#000000\">yes, missing</text>\n</g>\n<!-- 2 -->\n<g id=\"node3\" class=\"node\">\n<title>2</title>\n<path fill=\"#78cb0e\" stroke=\"#000000\" d=\"M2749,-384C2749,-384 2687,-384 2687,-384 2681,-384 2675,-378 2675,-372 2675,-372 2675,-360 2675,-360 2675,-354 2681,-348 2687,-348 2687,-348 2749,-348 2749,-348 2755,-348 2761,-354 2761,-360 2761,-360 2761,-372 2761,-372 2761,-378 2755,-384 2749,-384\"/>\n<text text-anchor=\"middle\" x=\"2718\" y=\"-362.3\" font-family=\"Times,serif\" font-size=\"14.00\" fill=\"#000000\">BP_diff&lt;56</text>\n</g>\n<!-- 0&#45;&gt;2 -->\n<g id=\"edge2\" class=\"edge\">\n<title>0&#45;&gt;2</title>\n<path fill=\"none\" stroke=\"#ff0000\" d=\"M2407.0534,-442.4191C2471.9464,-426.4708 2594.6869,-396.3058 2664.9906,-379.0277\"/>\n<polygon fill=\"#ff0000\" stroke=\"#ff0000\" points=\"2666.094,-382.3608 2674.9697,-376.5752 2664.4233,-375.5631 2666.094,-382.3608\"/>\n<text text-anchor=\"middle\" x=\"2571\" y=\"-405.8\" font-family=\"Times,serif\" font-size=\"14.00\" fill=\"#000000\">no</text>\n</g>\n<!-- 3 -->\n<g id=\"node4\" class=\"node\">\n<title>3</title>\n<path fill=\"#78cb0e\" stroke=\"#000000\" d=\"M915,-297C915,-297 845,-297 845,-297 839,-297 833,-291 833,-285 833,-285 833,-273 833,-273 833,-267 839,-261 845,-261 845,-261 915,-261 915,-261 921,-261 927,-267 927,-273 927,-273 927,-285 927,-285 927,-291 921,-297 915,-297\"/>\n<text text-anchor=\"middle\" x=\"880\" y=\"-275.3\" font-family=\"Times,serif\" font-size=\"14.00\" fill=\"#000000\">cholesterol&lt;3</text>\n</g>\n<!-- 1&#45;&gt;3 -->\n<g id=\"edge3\" class=\"edge\">\n<title>1&#45;&gt;3</title>\n<path fill=\"none\" stroke=\"#0000ff\" d=\"M1674.8278,-361.7153C1537.5918,-347.4336 1095.5043,-301.4269 937.1198,-284.9443\"/>\n<polygon fill=\"#0000ff\" stroke=\"#0000ff\" points=\"937.4124,-281.4559 927.1038,-283.9019 936.6877,-288.4183 937.4124,-281.4559\"/>\n<text text-anchor=\"middle\" x=\"1384.5\" y=\"-318.8\" font-family=\"Times,serif\" font-size=\"14.00\" fill=\"#000000\">yes, missing</text>\n</g>\n<!-- 4 -->\n<g id=\"node5\" class=\"node\">\n<title>4</title>\n<path fill=\"#78cb0e\" stroke=\"#000000\" d=\"M1751,-297C1751,-297 1681,-297 1681,-297 1675,-297 1669,-291 1669,-285 1669,-285 1669,-273 1669,-273 1669,-267 1675,-261 1681,-261 1681,-261 1751,-261 1751,-261 1757,-261 1763,-267 1763,-273 1763,-273 1763,-285 1763,-285 1763,-291 1757,-297 1751,-297\"/>\n<text text-anchor=\"middle\" x=\"1716\" y=\"-275.3\" font-family=\"Times,serif\" font-size=\"14.00\" fill=\"#000000\">cholesterol&lt;3</text>\n</g>\n<!-- 1&#45;&gt;4 -->\n<g id=\"edge4\" class=\"edge\">\n<title>1&#45;&gt;4</title>\n<path fill=\"none\" stroke=\"#ff0000\" d=\"M1716,-347.9735C1716,-336.1918 1716,-320.5607 1716,-307.1581\"/>\n<polygon fill=\"#ff0000\" stroke=\"#ff0000\" points=\"1719.5001,-307.0033 1716,-297.0034 1712.5001,-307.0034 1719.5001,-307.0033\"/>\n<text text-anchor=\"middle\" x=\"1724\" y=\"-318.8\" font-family=\"Times,serif\" font-size=\"14.00\" fill=\"#000000\">no</text>\n</g>\n<!-- 5 -->\n<g id=\"node32\" class=\"node\">\n<title>5</title>\n<path fill=\"#78cb0e\" stroke=\"#000000\" d=\"M2753,-297C2753,-297 2683,-297 2683,-297 2677,-297 2671,-291 2671,-285 2671,-285 2671,-273 2671,-273 2671,-267 2677,-261 2683,-261 2683,-261 2753,-261 2753,-261 2759,-261 2765,-267 2765,-273 2765,-273 2765,-285 2765,-285 2765,-291 2759,-297 2753,-297\"/>\n<text text-anchor=\"middle\" x=\"2718\" y=\"-275.3\" font-family=\"Times,serif\" font-size=\"14.00\" fill=\"#000000\">cholesterol&lt;2</text>\n</g>\n<!-- 2&#45;&gt;5 -->\n<g id=\"edge31\" class=\"edge\">\n<title>2&#45;&gt;5</title>\n<path fill=\"none\" stroke=\"#0000ff\" d=\"M2718,-347.9735C2718,-336.1918 2718,-320.5607 2718,-307.1581\"/>\n<polygon fill=\"#0000ff\" stroke=\"#0000ff\" points=\"2721.5001,-307.0033 2718,-297.0034 2714.5001,-307.0034 2721.5001,-307.0033\"/>\n<text text-anchor=\"middle\" x=\"2753.5\" y=\"-318.8\" font-family=\"Times,serif\" font-size=\"14.00\" fill=\"#000000\">yes, missing</text>\n</g>\n<!-- 6 -->\n<g id=\"node33\" class=\"node\">\n<title>6</title>\n<path fill=\"#78cb0e\" stroke=\"#000000\" d=\"M3436,-297C3436,-297 3374,-297 3374,-297 3368,-297 3362,-291 3362,-285 3362,-285 3362,-273 3362,-273 3362,-267 3368,-261 3374,-261 3374,-261 3436,-261 3436,-261 3442,-261 3448,-267 3448,-273 3448,-273 3448,-285 3448,-285 3448,-291 3442,-297 3436,-297\"/>\n<text text-anchor=\"middle\" x=\"3405\" y=\"-275.3\" font-family=\"Times,serif\" font-size=\"14.00\" fill=\"#000000\">BP_diff&lt;62</text>\n</g>\n<!-- 2&#45;&gt;6 -->\n<g id=\"edge32\" class=\"edge\">\n<title>2&#45;&gt;6</title>\n<path fill=\"none\" stroke=\"#ff0000\" d=\"M2761.2352,-360.5248C2881.4609,-345.2997 3219.5478,-302.4852 3351.3972,-285.7881\"/>\n<polygon fill=\"#ff0000\" stroke=\"#ff0000\" points=\"3352.1659,-289.2188 3361.6469,-284.4901 3351.2864,-282.2743 3352.1659,-289.2188\"/>\n<text text-anchor=\"middle\" x=\"3111\" y=\"-318.8\" font-family=\"Times,serif\" font-size=\"14.00\" fill=\"#000000\">no</text>\n</g>\n<!-- 7 -->\n<g id=\"node6\" class=\"node\">\n<title>7</title>\n<path fill=\"#78cb0e\" stroke=\"#000000\" d=\"M492,-210C492,-210 434,-210 434,-210 428,-210 422,-204 422,-198 422,-198 422,-186 422,-186 422,-180 428,-174 434,-174 434,-174 492,-174 492,-174 498,-174 504,-180 504,-186 504,-186 504,-198 504,-198 504,-204 498,-210 492,-210\"/>\n<text text-anchor=\"middle\" x=\"463\" y=\"-188.3\" font-family=\"Times,serif\" font-size=\"14.00\" fill=\"#000000\">age&lt;16332</text>\n</g>\n<!-- 3&#45;&gt;7 -->\n<g id=\"edge5\" class=\"edge\">\n<title>3&#45;&gt;7</title>\n<path fill=\"none\" stroke=\"#0000ff\" d=\"M832.9754,-269.1891C754.1295,-252.7393 595.9038,-219.7281 514.2923,-202.7013\"/>\n<polygon fill=\"#0000ff\" stroke=\"#0000ff\" points=\"514.7575,-199.223 504.2534,-200.6068 513.3278,-206.0755 514.7575,-199.223\"/>\n<text text-anchor=\"middle\" x=\"732.5\" y=\"-231.8\" font-family=\"Times,serif\" font-size=\"14.00\" fill=\"#000000\">yes, missing</text>\n</g>\n<!-- 8 -->\n<g id=\"node7\" class=\"node\">\n<title>8</title>\n<path fill=\"#78cb0e\" stroke=\"#000000\" d=\"M909,-210C909,-210 851,-210 851,-210 845,-210 839,-204 839,-198 839,-198 839,-186 839,-186 839,-180 845,-174 851,-174 851,-174 909,-174 909,-174 915,-174 921,-180 921,-186 921,-186 921,-198 921,-198 921,-204 915,-210 909,-210\"/>\n<text text-anchor=\"middle\" x=\"880\" y=\"-188.3\" font-family=\"Times,serif\" font-size=\"14.00\" fill=\"#000000\">age&lt;15148</text>\n</g>\n<!-- 3&#45;&gt;8 -->\n<g id=\"edge6\" class=\"edge\">\n<title>3&#45;&gt;8</title>\n<path fill=\"none\" stroke=\"#ff0000\" d=\"M880,-260.9735C880,-249.1918 880,-233.5607 880,-220.1581\"/>\n<polygon fill=\"#ff0000\" stroke=\"#ff0000\" points=\"883.5001,-220.0033 880,-210.0034 876.5001,-220.0034 883.5001,-220.0033\"/>\n<text text-anchor=\"middle\" x=\"888\" y=\"-231.8\" font-family=\"Times,serif\" font-size=\"14.00\" fill=\"#000000\">no</text>\n</g>\n<!-- 9 -->\n<g id=\"node20\" class=\"node\">\n<title>9</title>\n<path fill=\"#78cb0e\" stroke=\"#000000\" d=\"M1623,-210C1623,-210 1565,-210 1565,-210 1559,-210 1553,-204 1553,-198 1553,-198 1553,-186 1553,-186 1553,-180 1559,-174 1565,-174 1565,-174 1623,-174 1623,-174 1629,-174 1635,-180 1635,-186 1635,-186 1635,-198 1635,-198 1635,-204 1629,-210 1623,-210\"/>\n<text text-anchor=\"middle\" x=\"1594\" y=\"-188.3\" font-family=\"Times,serif\" font-size=\"14.00\" fill=\"#000000\">age&lt;22154</text>\n</g>\n<!-- 4&#45;&gt;9 -->\n<g id=\"edge19\" class=\"edge\">\n<title>4&#45;&gt;9</title>\n<path fill=\"none\" stroke=\"#0000ff\" d=\"M1690.7215,-260.9735C1672.4006,-247.9086 1647.4419,-230.1102 1627.4675,-215.8662\"/>\n<polygon fill=\"#0000ff\" stroke=\"#0000ff\" points=\"1629.4201,-212.9598 1619.2461,-210.0034 1625.3558,-218.6591 1629.4201,-212.9598\"/>\n<text text-anchor=\"middle\" x=\"1698.5\" y=\"-231.8\" font-family=\"Times,serif\" font-size=\"14.00\" fill=\"#000000\">yes, missing</text>\n</g>\n<!-- 10 -->\n<g id=\"node21\" class=\"node\">\n<title>10</title>\n<path fill=\"#78cb0e\" stroke=\"#000000\" d=\"M1901,-210C1901,-210 1843,-210 1843,-210 1837,-210 1831,-204 1831,-198 1831,-198 1831,-186 1831,-186 1831,-180 1837,-174 1843,-174 1843,-174 1901,-174 1901,-174 1907,-174 1913,-180 1913,-186 1913,-186 1913,-198 1913,-198 1913,-204 1907,-210 1901,-210\"/>\n<text text-anchor=\"middle\" x=\"1872\" y=\"-188.3\" font-family=\"Times,serif\" font-size=\"14.00\" fill=\"#000000\">age&lt;22177</text>\n</g>\n<!-- 4&#45;&gt;10 -->\n<g id=\"edge20\" class=\"edge\">\n<title>4&#45;&gt;10</title>\n<path fill=\"none\" stroke=\"#ff0000\" d=\"M1748.3233,-260.9735C1772.273,-247.617 1805.0935,-229.3133 1830.9061,-214.9177\"/>\n<polygon fill=\"#ff0000\" stroke=\"#ff0000\" points=\"1832.6892,-217.9309 1839.7181,-210.0034 1829.2797,-211.8173 1832.6892,-217.9309\"/>\n<text text-anchor=\"middle\" x=\"1812\" y=\"-231.8\" font-family=\"Times,serif\" font-size=\"14.00\" fill=\"#000000\">no</text>\n</g>\n<!-- 15 -->\n<g id=\"node8\" class=\"node\">\n<title>15</title>\n<path fill=\"#78cb0e\" stroke=\"#000000\" d=\"M249,-123C249,-123 179,-123 179,-123 173,-123 167,-117 167,-111 167,-111 167,-99 167,-99 167,-93 173,-87 179,-87 179,-87 249,-87 249,-87 255,-87 261,-93 261,-99 261,-99 261,-111 261,-111 261,-117 255,-123 249,-123\"/>\n<text text-anchor=\"middle\" x=\"214\" y=\"-101.3\" font-family=\"Times,serif\" font-size=\"14.00\" fill=\"#000000\">cholesterol&lt;2</text>\n</g>\n<!-- 7&#45;&gt;15 -->\n<g id=\"edge7\" class=\"edge\">\n<title>7&#45;&gt;15</title>\n<path fill=\"none\" stroke=\"#0000ff\" d=\"M421.8827,-177.6337C380.6161,-163.2153 316.73,-140.8936 270.6711,-124.8007\"/>\n<polygon fill=\"#0000ff\" stroke=\"#0000ff\" points=\"271.7226,-121.4607 261.1277,-121.4663 269.4136,-128.0689 271.7226,-121.4607\"/>\n<text text-anchor=\"middle\" x=\"389.5\" y=\"-144.8\" font-family=\"Times,serif\" font-size=\"14.00\" fill=\"#000000\">yes, missing</text>\n</g>\n<!-- 16 -->\n<g id=\"node9\" class=\"node\">\n<title>16</title>\n<path fill=\"#78cb0e\" stroke=\"#000000\" d=\"M494,-123C494,-123 432,-123 432,-123 426,-123 420,-117 420,-111 420,-111 420,-99 420,-99 420,-93 426,-87 432,-87 432,-87 494,-87 494,-87 500,-87 506,-93 506,-99 506,-99 506,-111 506,-111 506,-117 500,-123 494,-123\"/>\n<text text-anchor=\"middle\" x=\"463\" y=\"-101.3\" font-family=\"Times,serif\" font-size=\"14.00\" fill=\"#000000\">BP_diff&lt;37</text>\n</g>\n<!-- 7&#45;&gt;16 -->\n<g id=\"edge8\" class=\"edge\">\n<title>7&#45;&gt;16</title>\n<path fill=\"none\" stroke=\"#ff0000\" d=\"M463,-173.9735C463,-162.1918 463,-146.5607 463,-133.1581\"/>\n<polygon fill=\"#ff0000\" stroke=\"#ff0000\" points=\"466.5001,-133.0033 463,-123.0034 459.5001,-133.0034 466.5001,-133.0033\"/>\n<text text-anchor=\"middle\" x=\"471\" y=\"-144.8\" font-family=\"Times,serif\" font-size=\"14.00\" fill=\"#000000\">no</text>\n</g>\n<!-- 17 -->\n<g id=\"node14\" class=\"node\">\n<title>17</title>\n<path fill=\"#78cb0e\" stroke=\"#000000\" d=\"M847,-123C847,-123 789,-123 789,-123 783,-123 777,-117 777,-111 777,-111 777,-99 777,-99 777,-93 783,-87 789,-87 789,-87 847,-87 847,-87 853,-87 859,-93 859,-99 859,-99 859,-111 859,-111 859,-117 853,-123 847,-123\"/>\n<text text-anchor=\"middle\" x=\"818\" y=\"-101.3\" font-family=\"Times,serif\" font-size=\"14.00\" fill=\"#000000\">age&lt;14508</text>\n</g>\n<!-- 8&#45;&gt;17 -->\n<g id=\"edge13\" class=\"edge\">\n<title>8&#45;&gt;17</title>\n<path fill=\"none\" stroke=\"#0000ff\" d=\"M862.671,-173.8953C857.6989,-168.3407 852.4289,-162.0848 848,-156 842.5253,-148.4785 837.1697,-139.8961 832.5341,-131.9448\"/>\n<polygon fill=\"#0000ff\" stroke=\"#0000ff\" points=\"835.4386,-129.9715 827.4589,-123.0019 829.3506,-133.4265 835.4386,-129.9715\"/>\n<text text-anchor=\"middle\" x=\"883.5\" y=\"-144.8\" font-family=\"Times,serif\" font-size=\"14.00\" fill=\"#000000\">yes, missing</text>\n</g>\n<!-- 18 -->\n<g id=\"node15\" class=\"node\">\n<title>18</title>\n<path fill=\"#78cb0e\" stroke=\"#000000\" d=\"M999,-123C999,-123 941,-123 941,-123 935,-123 929,-117 929,-111 929,-111 929,-99 929,-99 929,-93 935,-87 941,-87 941,-87 999,-87 999,-87 1005,-87 1011,-93 1011,-99 1011,-99 1011,-111 1011,-111 1011,-117 1005,-123 999,-123\"/>\n<text text-anchor=\"middle\" x=\"970\" y=\"-101.3\" font-family=\"Times,serif\" font-size=\"14.00\" fill=\"#000000\">age&lt;19896</text>\n</g>\n<!-- 8&#45;&gt;18 -->\n<g id=\"edge14\" class=\"edge\">\n<title>8&#45;&gt;18</title>\n<path fill=\"none\" stroke=\"#ff0000\" d=\"M899.9833,-173.8378C906.1309,-168.1747 912.887,-161.8734 919,-156 927.5723,-147.7638 936.8005,-138.6223 945.0192,-130.3798\"/>\n<polygon fill=\"#ff0000\" stroke=\"#ff0000\" points=\"947.6715,-132.6761 952.2354,-123.1146 942.705,-127.7431 947.6715,-132.6761\"/>\n<text text-anchor=\"middle\" x=\"942\" y=\"-144.8\" font-family=\"Times,serif\" font-size=\"14.00\" fill=\"#000000\">no</text>\n</g>\n<!-- 31 -->\n<g id=\"node10\" class=\"node\">\n<title>31</title>\n<path fill=\"#e48038\" stroke=\"#000000\" d=\"M116,-36C116,-36 12,-36 12,-36 6,-36 0,-30 0,-24 0,-24 0,-12 0,-12 0,-6 6,0 12,0 12,0 116,0 116,0 122,0 128,-6 128,-12 128,-12 128,-24 128,-24 128,-30 122,-36 116,-36\"/>\n<text text-anchor=\"middle\" x=\"64\" y=\"-14.3\" font-family=\"Times,serif\" font-size=\"14.00\" fill=\"#000000\">leaf=&#45;0.135063276</text>\n</g>\n<!-- 15&#45;&gt;31 -->\n<g id=\"edge9\" class=\"edge\">\n<title>15&#45;&gt;31</title>\n<path fill=\"none\" stroke=\"#0000ff\" d=\"M173.3363,-86.8438C162.0401,-81.435 149.8899,-75.2692 139,-69 124.9187,-60.8936 110.0038,-51.0362 97.2151,-42.1565\"/>\n<polygon fill=\"#0000ff\" stroke=\"#0000ff\" points=\"98.9316,-39.0849 88.7374,-36.1986 94.9067,-44.8121 98.9316,-39.0849\"/>\n<text text-anchor=\"middle\" x=\"174.5\" y=\"-57.8\" font-family=\"Times,serif\" font-size=\"14.00\" fill=\"#000000\">yes, missing</text>\n</g>\n<!-- 32 -->\n<g id=\"node11\" class=\"node\">\n<title>32</title>\n<path fill=\"#e48038\" stroke=\"#000000\" d=\"M270,-36C270,-36 158,-36 158,-36 152,-36 146,-30 146,-24 146,-24 146,-12 146,-12 146,-6 152,0 158,0 158,0 270,0 270,0 276,0 282,-6 282,-12 282,-12 282,-24 282,-24 282,-30 276,-36 270,-36\"/>\n<text text-anchor=\"middle\" x=\"214\" y=\"-14.3\" font-family=\"Times,serif\" font-size=\"14.00\" fill=\"#000000\">leaf=&#45;0.0585365854</text>\n</g>\n<!-- 15&#45;&gt;32 -->\n<g id=\"edge10\" class=\"edge\">\n<title>15&#45;&gt;32</title>\n<path fill=\"none\" stroke=\"#ff0000\" d=\"M214,-86.9735C214,-75.1918 214,-59.5607 214,-46.1581\"/>\n<polygon fill=\"#ff0000\" stroke=\"#ff0000\" points=\"217.5001,-46.0033 214,-36.0034 210.5001,-46.0034 217.5001,-46.0033\"/>\n<text text-anchor=\"middle\" x=\"222\" y=\"-57.8\" font-family=\"Times,serif\" font-size=\"14.00\" fill=\"#000000\">no</text>\n</g>\n<!-- 33 -->\n<g id=\"node12\" class=\"node\">\n<title>33</title>\n<path fill=\"#e48038\" stroke=\"#000000\" d=\"M416,-36C416,-36 312,-36 312,-36 306,-36 300,-30 300,-24 300,-24 300,-12 300,-12 300,-6 306,0 312,0 312,0 416,0 416,0 422,0 428,-6 428,-12 428,-12 428,-24 428,-24 428,-30 422,-36 416,-36\"/>\n<text text-anchor=\"middle\" x=\"364\" y=\"-14.3\" font-family=\"Times,serif\" font-size=\"14.00\" fill=\"#000000\">leaf=&#45;0.116132036</text>\n</g>\n<!-- 16&#45;&gt;33 -->\n<g id=\"edge11\" class=\"edge\">\n<title>16&#45;&gt;33</title>\n<path fill=\"none\" stroke=\"#0000ff\" d=\"M434.3586,-86.8438C426.5222,-81.4351 418.2077,-75.2692 411,-69 402.3253,-61.4549 393.5831,-52.4432 386.0306,-44.1085\"/>\n<polygon fill=\"#0000ff\" stroke=\"#0000ff\" points=\"388.4469,-41.5579 379.1951,-36.3951 383.2079,-46.2006 388.4469,-41.5579\"/>\n<text text-anchor=\"middle\" x=\"446.5\" y=\"-57.8\" font-family=\"Times,serif\" font-size=\"14.00\" fill=\"#000000\">yes, missing</text>\n</g>\n<!-- 34 -->\n<g id=\"node13\" class=\"node\">\n<title>34</title>\n<path fill=\"#e48038\" stroke=\"#000000\" d=\"M570,-36C570,-36 458,-36 458,-36 452,-36 446,-30 446,-24 446,-24 446,-12 446,-12 446,-6 452,0 458,0 458,0 570,0 570,0 576,0 582,-6 582,-12 582,-12 582,-24 582,-24 582,-30 576,-36 570,-36\"/>\n<text text-anchor=\"middle\" x=\"514\" y=\"-14.3\" font-family=\"Times,serif\" font-size=\"14.00\" fill=\"#000000\">leaf=&#45;0.0763922557</text>\n</g>\n<!-- 16&#45;&gt;34 -->\n<g id=\"edge12\" class=\"edge\">\n<title>16&#45;&gt;34</title>\n<path fill=\"none\" stroke=\"#ff0000\" d=\"M473.5672,-86.9735C480.6789,-74.8418 490.1832,-58.6287 498.1901,-44.9698\"/>\n<polygon fill=\"#ff0000\" stroke=\"#ff0000\" points=\"501.4085,-46.4004 503.4463,-36.0034 495.3696,-42.8603 501.4085,-46.4004\"/>\n<text text-anchor=\"middle\" x=\"500\" y=\"-57.8\" font-family=\"Times,serif\" font-size=\"14.00\" fill=\"#000000\">no</text>\n</g>\n<!-- 35 -->\n<g id=\"node16\" class=\"node\">\n<title>35</title>\n<path fill=\"#e48038\" stroke=\"#000000\" d=\"M719.5,-36C719.5,-36 612.5,-36 612.5,-36 606.5,-36 600.5,-30 600.5,-24 600.5,-24 600.5,-12 600.5,-12 600.5,-6 606.5,0 612.5,0 612.5,0 719.5,0 719.5,0 725.5,0 731.5,-6 731.5,-12 731.5,-12 731.5,-24 731.5,-24 731.5,-30 725.5,-36 719.5,-36\"/>\n<text text-anchor=\"middle\" x=\"666\" y=\"-14.3\" font-family=\"Times,serif\" font-size=\"14.00\" fill=\"#000000\">leaf=0.0117647061</text>\n</g>\n<!-- 17&#45;&gt;35 -->\n<g id=\"edge15\" class=\"edge\">\n<title>17&#45;&gt;35</title>\n<path fill=\"none\" stroke=\"#0000ff\" d=\"M777.7751,-86.9432C766.37,-81.4886 754.0535,-75.274 743,-69 728.4725,-60.7541 713.0171,-50.7735 699.7948,-41.8356\"/>\n<polygon fill=\"#0000ff\" stroke=\"#0000ff\" points=\"701.6919,-38.8929 691.4605,-36.1415 697.743,-44.6727 701.6919,-38.8929\"/>\n<text text-anchor=\"middle\" x=\"778.5\" y=\"-57.8\" font-family=\"Times,serif\" font-size=\"14.00\" fill=\"#000000\">yes, missing</text>\n</g>\n<!-- 36 -->\n<g id=\"node17\" class=\"node\">\n<title>36</title>\n<path fill=\"#e48038\" stroke=\"#000000\" d=\"M874,-36C874,-36 762,-36 762,-36 756,-36 750,-30 750,-24 750,-24 750,-12 750,-12 750,-6 756,0 762,0 762,0 874,0 874,0 880,0 886,-6 886,-12 886,-12 886,-24 886,-24 886,-30 880,-36 874,-36\"/>\n<text text-anchor=\"middle\" x=\"818\" y=\"-14.3\" font-family=\"Times,serif\" font-size=\"14.00\" fill=\"#000000\">leaf=&#45;0.0315789469</text>\n</g>\n<!-- 17&#45;&gt;36 -->\n<g id=\"edge16\" class=\"edge\">\n<title>17&#45;&gt;36</title>\n<path fill=\"none\" stroke=\"#ff0000\" d=\"M818,-86.9735C818,-75.1918 818,-59.5607 818,-46.1581\"/>\n<polygon fill=\"#ff0000\" stroke=\"#ff0000\" points=\"821.5001,-46.0033 818,-36.0034 814.5001,-46.0034 821.5001,-46.0033\"/>\n<text text-anchor=\"middle\" x=\"826\" y=\"-57.8\" font-family=\"Times,serif\" font-size=\"14.00\" fill=\"#000000\">no</text>\n</g>\n<!-- 37 -->\n<g id=\"node18\" class=\"node\">\n<title>37</title>\n<path fill=\"#e48038\" stroke=\"#000000\" d=\"M1023.5,-36C1023.5,-36 916.5,-36 916.5,-36 910.5,-36 904.5,-30 904.5,-24 904.5,-24 904.5,-12 904.5,-12 904.5,-6 910.5,0 916.5,0 916.5,0 1023.5,0 1023.5,0 1029.5,0 1035.5,-6 1035.5,-12 1035.5,-12 1035.5,-24 1035.5,-24 1035.5,-30 1029.5,-36 1023.5,-36\"/>\n<text text-anchor=\"middle\" x=\"970\" y=\"-14.3\" font-family=\"Times,serif\" font-size=\"14.00\" fill=\"#000000\">leaf=0.0577387512</text>\n</g>\n<!-- 18&#45;&gt;37 -->\n<g id=\"edge17\" class=\"edge\">\n<title>18&#45;&gt;37</title>\n<path fill=\"none\" stroke=\"#0000ff\" d=\"M970,-86.9735C970,-75.1918 970,-59.5607 970,-46.1581\"/>\n<polygon fill=\"#0000ff\" stroke=\"#0000ff\" points=\"973.5001,-46.0033 970,-36.0034 966.5001,-46.0034 973.5001,-46.0033\"/>\n<text text-anchor=\"middle\" x=\"1005.5\" y=\"-57.8\" font-family=\"Times,serif\" font-size=\"14.00\" fill=\"#000000\">yes, missing</text>\n</g>\n<!-- 38 -->\n<g id=\"node19\" class=\"node\">\n<title>38</title>\n<path fill=\"#e48038\" stroke=\"#000000\" d=\"M1170,-36C1170,-36 1066,-36 1066,-36 1060,-36 1054,-30 1054,-24 1054,-24 1054,-12 1054,-12 1054,-6 1060,0 1066,0 1066,0 1170,0 1170,0 1176,0 1182,-6 1182,-12 1182,-12 1182,-24 1182,-24 1182,-30 1176,-36 1170,-36\"/>\n<text text-anchor=\"middle\" x=\"1118\" y=\"-14.3\" font-family=\"Times,serif\" font-size=\"14.00\" fill=\"#000000\">leaf=&#45;0.012765958</text>\n</g>\n<!-- 18&#45;&gt;38 -->\n<g id=\"edge18\" class=\"edge\">\n<title>18&#45;&gt;38</title>\n<path fill=\"none\" stroke=\"#ff0000\" d=\"M1010.7157,-86.9335C1022.0124,-81.5257 1034.1499,-75.3378 1045,-69 1058.8836,-60.8903 1073.5346,-50.9527 1086.0382,-42.0109\"/>\n<polygon fill=\"#ff0000\" stroke=\"#ff0000\" points=\"1088.2708,-44.7154 1094.3156,-36.0141 1084.164,-39.0467 1088.2708,-44.7154\"/>\n<text text-anchor=\"middle\" x=\"1076\" y=\"-57.8\" font-family=\"Times,serif\" font-size=\"14.00\" fill=\"#000000\">no</text>\n</g>\n<!-- 19 -->\n<g id=\"node22\" class=\"node\">\n<title>19</title>\n<path fill=\"#78cb0e\" stroke=\"#000000\" d=\"M1453,-123C1453,-123 1391,-123 1391,-123 1385,-123 1379,-117 1379,-111 1379,-111 1379,-99 1379,-99 1379,-93 1385,-87 1391,-87 1391,-87 1453,-87 1453,-87 1459,-87 1465,-93 1465,-99 1465,-99 1465,-111 1465,-111 1465,-117 1459,-123 1453,-123\"/>\n<text text-anchor=\"middle\" x=\"1422\" y=\"-101.3\" font-family=\"Times,serif\" font-size=\"14.00\" fill=\"#000000\">BP_diff&lt;40</text>\n</g>\n<!-- 9&#45;&gt;19 -->\n<g id=\"edge21\" class=\"edge\">\n<title>9&#45;&gt;19</title>\n<path fill=\"none\" stroke=\"#0000ff\" d=\"M1555.7138,-173.9541C1543.8975,-168.2957 1530.8721,-161.9678 1519,-156 1501.0712,-146.9876 1481.4511,-136.7448 1464.5764,-127.8151\"/>\n<polygon fill=\"#0000ff\" stroke=\"#0000ff\" points=\"1465.9862,-124.601 1455.5122,-123.0054 1462.7051,-130.7844 1465.9862,-124.601\"/>\n<text text-anchor=\"middle\" x=\"1554.5\" y=\"-144.8\" font-family=\"Times,serif\" font-size=\"14.00\" fill=\"#000000\">yes, missing</text>\n</g>\n<!-- 20 -->\n<g id=\"node23\" class=\"node\">\n<title>20</title>\n<path fill=\"#78cb0e\" stroke=\"#000000\" d=\"M1614.5,-123C1614.5,-123 1573.5,-123 1573.5,-123 1567.5,-123 1561.5,-117 1561.5,-111 1561.5,-111 1561.5,-99 1561.5,-99 1561.5,-93 1567.5,-87 1573.5,-87 1573.5,-87 1614.5,-87 1614.5,-87 1620.5,-87 1626.5,-93 1626.5,-99 1626.5,-99 1626.5,-111 1626.5,-111 1626.5,-117 1620.5,-123 1614.5,-123\"/>\n<text text-anchor=\"middle\" x=\"1594\" y=\"-101.3\" font-family=\"Times,serif\" font-size=\"14.00\" fill=\"#000000\">active&lt;1</text>\n</g>\n<!-- 9&#45;&gt;20 -->\n<g id=\"edge22\" class=\"edge\">\n<title>9&#45;&gt;20</title>\n<path fill=\"none\" stroke=\"#ff0000\" d=\"M1594,-173.9735C1594,-162.1918 1594,-146.5607 1594,-133.1581\"/>\n<polygon fill=\"#ff0000\" stroke=\"#ff0000\" points=\"1597.5001,-133.0033 1594,-123.0034 1590.5001,-133.0034 1597.5001,-133.0033\"/>\n<text text-anchor=\"middle\" x=\"1602\" y=\"-144.8\" font-family=\"Times,serif\" font-size=\"14.00\" fill=\"#000000\">no</text>\n</g>\n<!-- 21 -->\n<g id=\"node28\" class=\"node\">\n<title>21</title>\n<path fill=\"#78cb0e\" stroke=\"#000000\" d=\"M1901,-123C1901,-123 1843,-123 1843,-123 1837,-123 1831,-117 1831,-111 1831,-111 1831,-99 1831,-99 1831,-93 1837,-87 1843,-87 1843,-87 1901,-87 1901,-87 1907,-87 1913,-93 1913,-99 1913,-99 1913,-111 1913,-111 1913,-117 1907,-123 1901,-123\"/>\n<text text-anchor=\"middle\" x=\"1872\" y=\"-101.3\" font-family=\"Times,serif\" font-size=\"14.00\" fill=\"#000000\">age&lt;22099</text>\n</g>\n<!-- 10&#45;&gt;21 -->\n<g id=\"edge27\" class=\"edge\">\n<title>10&#45;&gt;21</title>\n<path fill=\"none\" stroke=\"#0000ff\" d=\"M1872,-173.9735C1872,-162.1918 1872,-146.5607 1872,-133.1581\"/>\n<polygon fill=\"#0000ff\" stroke=\"#0000ff\" points=\"1875.5001,-133.0033 1872,-123.0034 1868.5001,-133.0034 1875.5001,-133.0033\"/>\n<text text-anchor=\"middle\" x=\"1907.5\" y=\"-144.8\" font-family=\"Times,serif\" font-size=\"14.00\" fill=\"#000000\">yes, missing</text>\n</g>\n<!-- 22 -->\n<g id=\"node29\" class=\"node\">\n<title>22</title>\n<path fill=\"#e48038\" stroke=\"#000000\" d=\"M2042.5,-123C2042.5,-123 1943.5,-123 1943.5,-123 1937.5,-123 1931.5,-117 1931.5,-111 1931.5,-111 1931.5,-99 1931.5,-99 1931.5,-93 1937.5,-87 1943.5,-87 1943.5,-87 2042.5,-87 2042.5,-87 2048.5,-87 2054.5,-93 2054.5,-99 2054.5,-99 2054.5,-111 2054.5,-111 2054.5,-117 2048.5,-123 2042.5,-123\"/>\n<text text-anchor=\"middle\" x=\"1993\" y=\"-101.3\" font-family=\"Times,serif\" font-size=\"14.00\" fill=\"#000000\">leaf=0.116030537</text>\n</g>\n<!-- 10&#45;&gt;22 -->\n<g id=\"edge28\" class=\"edge\">\n<title>10&#45;&gt;22</title>\n<path fill=\"none\" stroke=\"#ff0000\" d=\"M1913.3563,-175.6729C1924.7793,-170.2458 1936.8222,-163.6128 1947,-156 1956.5034,-148.8916 1965.5705,-139.6014 1973.104,-130.9005\"/>\n<polygon fill=\"#ff0000\" stroke=\"#ff0000\" points=\"1975.8458,-133.0775 1979.5598,-123.155 1970.4686,-128.5956 1975.8458,-133.0775\"/>\n<text text-anchor=\"middle\" x=\"1971\" y=\"-144.8\" font-family=\"Times,serif\" font-size=\"14.00\" fill=\"#000000\">no</text>\n</g>\n<!-- 39 -->\n<g id=\"node24\" class=\"node\">\n<title>39</title>\n<path fill=\"#e48038\" stroke=\"#000000\" d=\"M1324,-36C1324,-36 1212,-36 1212,-36 1206,-36 1200,-30 1200,-24 1200,-24 1200,-12 1200,-12 1200,-6 1206,0 1212,0 1212,0 1324,0 1324,0 1330,0 1336,-6 1336,-12 1336,-12 1336,-24 1336,-24 1336,-30 1330,-36 1324,-36\"/>\n<text text-anchor=\"middle\" x=\"1268\" y=\"-14.3\" font-family=\"Times,serif\" font-size=\"14.00\" fill=\"#000000\">leaf=&#45;0.0745732263</text>\n</g>\n<!-- 19&#45;&gt;39 -->\n<g id=\"edge23\" class=\"edge\">\n<title>19&#45;&gt;39</title>\n<path fill=\"none\" stroke=\"#0000ff\" d=\"M1381.8225,-86.8592C1370.4181,-81.4032 1358.0902,-75.209 1347,-69 1332.1602,-60.6917 1316.3154,-50.6994 1302.7411,-41.7697\"/>\n<polygon fill=\"#0000ff\" stroke=\"#0000ff\" points=\"1304.4484,-38.702 1294.1822,-36.0835 1300.5747,-44.5325 1304.4484,-38.702\"/>\n<text text-anchor=\"middle\" x=\"1382.5\" y=\"-57.8\" font-family=\"Times,serif\" font-size=\"14.00\" fill=\"#000000\">yes, missing</text>\n</g>\n<!-- 40 -->\n<g id=\"node25\" class=\"node\">\n<title>40</title>\n<path fill=\"#e48038\" stroke=\"#000000\" d=\"M1478,-36C1478,-36 1366,-36 1366,-36 1360,-36 1354,-30 1354,-24 1354,-24 1354,-12 1354,-12 1354,-6 1360,0 1366,0 1366,0 1478,0 1478,0 1484,0 1490,-6 1490,-12 1490,-12 1490,-24 1490,-24 1490,-30 1484,-36 1478,-36\"/>\n<text text-anchor=\"middle\" x=\"1422\" y=\"-14.3\" font-family=\"Times,serif\" font-size=\"14.00\" fill=\"#000000\">leaf=&#45;0.0328695923</text>\n</g>\n<!-- 19&#45;&gt;40 -->\n<g id=\"edge24\" class=\"edge\">\n<title>19&#45;&gt;40</title>\n<path fill=\"none\" stroke=\"#ff0000\" d=\"M1422,-86.9735C1422,-75.1918 1422,-59.5607 1422,-46.1581\"/>\n<polygon fill=\"#ff0000\" stroke=\"#ff0000\" points=\"1425.5001,-46.0033 1422,-36.0034 1418.5001,-46.0034 1425.5001,-46.0033\"/>\n<text text-anchor=\"middle\" x=\"1430\" y=\"-57.8\" font-family=\"Times,serif\" font-size=\"14.00\" fill=\"#000000\">no</text>\n</g>\n<!-- 41 -->\n<g id=\"node26\" class=\"node\">\n<title>41</title>\n<path fill=\"#e48038\" stroke=\"#000000\" d=\"M1627.5,-36C1627.5,-36 1520.5,-36 1520.5,-36 1514.5,-36 1508.5,-30 1508.5,-24 1508.5,-24 1508.5,-12 1508.5,-12 1508.5,-6 1514.5,0 1520.5,0 1520.5,0 1627.5,0 1627.5,0 1633.5,0 1639.5,-6 1639.5,-12 1639.5,-12 1639.5,-24 1639.5,-24 1639.5,-30 1633.5,-36 1627.5,-36\"/>\n<text text-anchor=\"middle\" x=\"1574\" y=\"-14.3\" font-family=\"Times,serif\" font-size=\"14.00\" fill=\"#000000\">leaf=0.0539781563</text>\n</g>\n<!-- 20&#45;&gt;41 -->\n<g id=\"edge25\" class=\"edge\">\n<title>20&#45;&gt;41</title>\n<path fill=\"none\" stroke=\"#0000ff\" d=\"M1589.856,-86.9735C1587.1207,-75.0751 1583.4829,-59.2508 1580.3818,-45.7606\"/>\n<polygon fill=\"#0000ff\" stroke=\"#0000ff\" points=\"1583.7902,-44.965 1578.1387,-36.0034 1576.9682,-46.5333 1583.7902,-44.965\"/>\n<text text-anchor=\"middle\" x=\"1621.5\" y=\"-57.8\" font-family=\"Times,serif\" font-size=\"14.00\" fill=\"#000000\">yes, missing</text>\n</g>\n<!-- 42 -->\n<g id=\"node27\" class=\"node\">\n<title>42</title>\n<path fill=\"#e48038\" stroke=\"#000000\" d=\"M1776.5,-36C1776.5,-36 1669.5,-36 1669.5,-36 1663.5,-36 1657.5,-30 1657.5,-24 1657.5,-24 1657.5,-12 1657.5,-12 1657.5,-6 1663.5,0 1669.5,0 1669.5,0 1776.5,0 1776.5,0 1782.5,0 1788.5,-6 1788.5,-12 1788.5,-12 1788.5,-24 1788.5,-24 1788.5,-30 1782.5,-36 1776.5,-36\"/>\n<text text-anchor=\"middle\" x=\"1723\" y=\"-14.3\" font-family=\"Times,serif\" font-size=\"14.00\" fill=\"#000000\">leaf=0.0107238609</text>\n</g>\n<!-- 20&#45;&gt;42 -->\n<g id=\"edge26\" class=\"edge\">\n<title>20&#45;&gt;42</title>\n<path fill=\"none\" stroke=\"#ff0000\" d=\"M1626.7795,-89.0239C1637.9146,-83.1721 1650.2522,-76.2072 1661,-69 1672.8074,-61.0822 1685.0484,-51.3776 1695.5031,-42.5669\"/>\n<polygon fill=\"#ff0000\" stroke=\"#ff0000\" points=\"1697.7954,-45.2118 1703.1128,-36.048 1693.2414,-39.8957 1697.7954,-45.2118\"/>\n<text text-anchor=\"middle\" x=\"1689\" y=\"-57.8\" font-family=\"Times,serif\" font-size=\"14.00\" fill=\"#000000\">no</text>\n</g>\n<!-- 43 -->\n<g id=\"node30\" class=\"node\">\n<title>43</title>\n<path fill=\"#e48038\" stroke=\"#000000\" d=\"M1925.5,-36C1925.5,-36 1818.5,-36 1818.5,-36 1812.5,-36 1806.5,-30 1806.5,-24 1806.5,-24 1806.5,-12 1806.5,-12 1806.5,-6 1812.5,0 1818.5,0 1818.5,0 1925.5,0 1925.5,0 1931.5,0 1937.5,-6 1937.5,-12 1937.5,-12 1937.5,-24 1937.5,-24 1937.5,-30 1931.5,-36 1925.5,-36\"/>\n<text text-anchor=\"middle\" x=\"1872\" y=\"-14.3\" font-family=\"Times,serif\" font-size=\"14.00\" fill=\"#000000\">leaf=0.0730890036</text>\n</g>\n<!-- 21&#45;&gt;43 -->\n<g id=\"edge29\" class=\"edge\">\n<title>21&#45;&gt;43</title>\n<path fill=\"none\" stroke=\"#0000ff\" d=\"M1872,-86.9735C1872,-75.1918 1872,-59.5607 1872,-46.1581\"/>\n<polygon fill=\"#0000ff\" stroke=\"#0000ff\" points=\"1875.5001,-46.0033 1872,-36.0034 1868.5001,-46.0034 1875.5001,-46.0033\"/>\n<text text-anchor=\"middle\" x=\"1907.5\" y=\"-57.8\" font-family=\"Times,serif\" font-size=\"14.00\" fill=\"#000000\">yes, missing</text>\n</g>\n<!-- 44 -->\n<g id=\"node31\" class=\"node\">\n<title>44</title>\n<path fill=\"#e48038\" stroke=\"#000000\" d=\"M2000.5,-36C2000.5,-36 1967.5,-36 1967.5,-36 1961.5,-36 1955.5,-30 1955.5,-24 1955.5,-24 1955.5,-12 1955.5,-12 1955.5,-6 1961.5,0 1967.5,0 1967.5,0 2000.5,0 2000.5,0 2006.5,0 2012.5,-6 2012.5,-12 2012.5,-12 2012.5,-24 2012.5,-24 2012.5,-30 2006.5,-36 2000.5,-36\"/>\n<text text-anchor=\"middle\" x=\"1984\" y=\"-14.3\" font-family=\"Times,serif\" font-size=\"14.00\" fill=\"#000000\">leaf=&#45;0</text>\n</g>\n<!-- 21&#45;&gt;44 -->\n<g id=\"edge30\" class=\"edge\">\n<title>21&#45;&gt;44</title>\n<path fill=\"none\" stroke=\"#ff0000\" d=\"M1913.1185,-89.7245C1924.7862,-84.2494 1937.0191,-77.3277 1947,-69 1955.104,-62.2384 1962.355,-53.3291 1968.245,-44.8516\"/>\n<polygon fill=\"#ff0000\" stroke=\"#ff0000\" points=\"1971.3087,-46.5623 1973.8689,-36.2815 1965.4562,-42.7218 1971.3087,-46.5623\"/>\n<text text-anchor=\"middle\" x=\"1970\" y=\"-57.8\" font-family=\"Times,serif\" font-size=\"14.00\" fill=\"#000000\">no</text>\n</g>\n<!-- 11 -->\n<g id=\"node34\" class=\"node\">\n<title>11</title>\n<path fill=\"#78cb0e\" stroke=\"#000000\" d=\"M2515,-210C2515,-210 2457,-210 2457,-210 2451,-210 2445,-204 2445,-198 2445,-198 2445,-186 2445,-186 2445,-180 2451,-174 2457,-174 2457,-174 2515,-174 2515,-174 2521,-174 2527,-180 2527,-186 2527,-186 2527,-198 2527,-198 2527,-204 2521,-210 2515,-210\"/>\n<text text-anchor=\"middle\" x=\"2486\" y=\"-188.3\" font-family=\"Times,serif\" font-size=\"14.00\" fill=\"#000000\">age&lt;16644</text>\n</g>\n<!-- 5&#45;&gt;11 -->\n<g id=\"edge33\" class=\"edge\">\n<title>5&#45;&gt;11</title>\n<path fill=\"none\" stroke=\"#0000ff\" d=\"M2670.7717,-261.2894C2631.85,-246.6938 2576.7616,-226.0356 2536.873,-211.0774\"/>\n<polygon fill=\"#0000ff\" stroke=\"#0000ff\" points=\"2537.9261,-207.7343 2527.3338,-207.5002 2535.4682,-214.2886 2537.9261,-207.7343\"/>\n<text text-anchor=\"middle\" x=\"2651.5\" y=\"-231.8\" font-family=\"Times,serif\" font-size=\"14.00\" fill=\"#000000\">yes, missing</text>\n</g>\n<!-- 12 -->\n<g id=\"node35\" class=\"node\">\n<title>12</title>\n<path fill=\"#78cb0e\" stroke=\"#000000\" d=\"M2901,-210C2901,-210 2831,-210 2831,-210 2825,-210 2819,-204 2819,-198 2819,-198 2819,-186 2819,-186 2819,-180 2825,-174 2831,-174 2831,-174 2901,-174 2901,-174 2907,-174 2913,-180 2913,-186 2913,-186 2913,-198 2913,-198 2913,-204 2907,-210 2901,-210\"/>\n<text text-anchor=\"middle\" x=\"2866\" y=\"-188.3\" font-family=\"Times,serif\" font-size=\"14.00\" fill=\"#000000\">cholesterol&lt;3</text>\n</g>\n<!-- 5&#45;&gt;12 -->\n<g id=\"edge34\" class=\"edge\">\n<title>5&#45;&gt;12</title>\n<path fill=\"none\" stroke=\"#ff0000\" d=\"M2748.6657,-260.9735C2771.288,-247.6753 2802.2528,-229.473 2826.6923,-215.1065\"/>\n<polygon fill=\"#ff0000\" stroke=\"#ff0000\" points=\"2828.5264,-218.0884 2835.3736,-210.0034 2824.979,-212.0538 2828.5264,-218.0884\"/>\n<text text-anchor=\"middle\" x=\"2809\" y=\"-231.8\" font-family=\"Times,serif\" font-size=\"14.00\" fill=\"#000000\">no</text>\n</g>\n<!-- 13 -->\n<g id=\"node48\" class=\"node\">\n<title>13</title>\n<path fill=\"#78cb0e\" stroke=\"#000000\" d=\"M3440,-210C3440,-210 3370,-210 3370,-210 3364,-210 3358,-204 3358,-198 3358,-198 3358,-186 3358,-186 3358,-180 3364,-174 3370,-174 3370,-174 3440,-174 3440,-174 3446,-174 3452,-180 3452,-186 3452,-186 3452,-198 3452,-198 3452,-204 3446,-210 3440,-210\"/>\n<text text-anchor=\"middle\" x=\"3405\" y=\"-188.3\" font-family=\"Times,serif\" font-size=\"14.00\" fill=\"#000000\">cholesterol&lt;2</text>\n</g>\n<!-- 6&#45;&gt;13 -->\n<g id=\"edge47\" class=\"edge\">\n<title>6&#45;&gt;13</title>\n<path fill=\"none\" stroke=\"#0000ff\" d=\"M3405,-260.9735C3405,-249.1918 3405,-233.5607 3405,-220.1581\"/>\n<polygon fill=\"#0000ff\" stroke=\"#0000ff\" points=\"3408.5001,-220.0033 3405,-210.0034 3401.5001,-220.0034 3408.5001,-220.0033\"/>\n<text text-anchor=\"middle\" x=\"3440.5\" y=\"-231.8\" font-family=\"Times,serif\" font-size=\"14.00\" fill=\"#000000\">yes, missing</text>\n</g>\n<!-- 14 -->\n<g id=\"node49\" class=\"node\">\n<title>14</title>\n<path fill=\"#78cb0e\" stroke=\"#000000\" d=\"M3632,-210C3632,-210 3574,-210 3574,-210 3568,-210 3562,-204 3562,-198 3562,-198 3562,-186 3562,-186 3562,-180 3568,-174 3574,-174 3574,-174 3632,-174 3632,-174 3638,-174 3644,-180 3644,-186 3644,-186 3644,-198 3644,-198 3644,-204 3638,-210 3632,-210\"/>\n<text text-anchor=\"middle\" x=\"3603\" y=\"-188.3\" font-family=\"Times,serif\" font-size=\"14.00\" fill=\"#000000\">age&lt;14519</text>\n</g>\n<!-- 6&#45;&gt;14 -->\n<g id=\"edge48\" class=\"edge\">\n<title>6&#45;&gt;14</title>\n<path fill=\"none\" stroke=\"#ff0000\" d=\"M3446.0257,-260.9735C3476.9544,-247.3837 3519.5388,-228.6723 3552.551,-214.167\"/>\n<polygon fill=\"#ff0000\" stroke=\"#ff0000\" points=\"3554.2796,-217.2305 3562.0268,-210.0034 3551.4636,-210.8218 3554.2796,-217.2305\"/>\n<text text-anchor=\"middle\" x=\"3524\" y=\"-231.8\" font-family=\"Times,serif\" font-size=\"14.00\" fill=\"#000000\">no</text>\n</g>\n<!-- 23 -->\n<g id=\"node36\" class=\"node\">\n<title>23</title>\n<path fill=\"#78cb0e\" stroke=\"#000000\" d=\"M2286,-123C2286,-123 2228,-123 2228,-123 2222,-123 2216,-117 2216,-111 2216,-111 2216,-99 2216,-99 2216,-93 2222,-87 2228,-87 2228,-87 2286,-87 2286,-87 2292,-87 2298,-93 2298,-99 2298,-99 2298,-111 2298,-111 2298,-117 2292,-123 2286,-123\"/>\n<text text-anchor=\"middle\" x=\"2257\" y=\"-101.3\" font-family=\"Times,serif\" font-size=\"14.00\" fill=\"#000000\">age&lt;15536</text>\n</g>\n<!-- 11&#45;&gt;23 -->\n<g id=\"edge35\" class=\"edge\">\n<title>11&#45;&gt;23</title>\n<path fill=\"none\" stroke=\"#0000ff\" d=\"M2444.7949,-176.3457C2406.4082,-161.7621 2349.0604,-139.9749 2307.8437,-124.3162\"/>\n<polygon fill=\"#0000ff\" stroke=\"#0000ff\" points=\"2308.8511,-120.9549 2298.2599,-120.6752 2306.365,-127.4985 2308.8511,-120.9549\"/>\n<text text-anchor=\"middle\" x=\"2421.5\" y=\"-144.8\" font-family=\"Times,serif\" font-size=\"14.00\" fill=\"#000000\">yes, missing</text>\n</g>\n<!-- 24 -->\n<g id=\"node37\" class=\"node\">\n<title>24</title>\n<path fill=\"#78cb0e\" stroke=\"#000000\" d=\"M2515,-123C2515,-123 2457,-123 2457,-123 2451,-123 2445,-117 2445,-111 2445,-111 2445,-99 2445,-99 2445,-93 2451,-87 2457,-87 2457,-87 2515,-87 2515,-87 2521,-87 2527,-93 2527,-99 2527,-99 2527,-111 2527,-111 2527,-117 2521,-123 2515,-123\"/>\n<text text-anchor=\"middle\" x=\"2486\" y=\"-101.3\" font-family=\"Times,serif\" font-size=\"14.00\" fill=\"#000000\">age&lt;22042</text>\n</g>\n<!-- 11&#45;&gt;24 -->\n<g id=\"edge36\" class=\"edge\">\n<title>11&#45;&gt;24</title>\n<path fill=\"none\" stroke=\"#ff0000\" d=\"M2486,-173.9735C2486,-162.1918 2486,-146.5607 2486,-133.1581\"/>\n<polygon fill=\"#ff0000\" stroke=\"#ff0000\" points=\"2489.5001,-133.0033 2486,-123.0034 2482.5001,-133.0034 2489.5001,-133.0033\"/>\n<text text-anchor=\"middle\" x=\"2494\" y=\"-144.8\" font-family=\"Times,serif\" font-size=\"14.00\" fill=\"#000000\">no</text>\n</g>\n<!-- 25 -->\n<g id=\"node42\" class=\"node\">\n<title>25</title>\n<path fill=\"#78cb0e\" stroke=\"#000000\" d=\"M2895,-123C2895,-123 2837,-123 2837,-123 2831,-123 2825,-117 2825,-111 2825,-111 2825,-99 2825,-99 2825,-93 2831,-87 2837,-87 2837,-87 2895,-87 2895,-87 2901,-87 2907,-93 2907,-99 2907,-99 2907,-111 2907,-111 2907,-117 2901,-123 2895,-123\"/>\n<text text-anchor=\"middle\" x=\"2866\" y=\"-101.3\" font-family=\"Times,serif\" font-size=\"14.00\" fill=\"#000000\">age&lt;14416</text>\n</g>\n<!-- 12&#45;&gt;25 -->\n<g id=\"edge41\" class=\"edge\">\n<title>12&#45;&gt;25</title>\n<path fill=\"none\" stroke=\"#0000ff\" d=\"M2866,-173.9735C2866,-162.1918 2866,-146.5607 2866,-133.1581\"/>\n<polygon fill=\"#0000ff\" stroke=\"#0000ff\" points=\"2869.5001,-133.0033 2866,-123.0034 2862.5001,-133.0034 2869.5001,-133.0033\"/>\n<text text-anchor=\"middle\" x=\"2901.5\" y=\"-144.8\" font-family=\"Times,serif\" font-size=\"14.00\" fill=\"#000000\">yes, missing</text>\n</g>\n<!-- 26 -->\n<g id=\"node43\" class=\"node\">\n<title>26</title>\n<path fill=\"#78cb0e\" stroke=\"#000000\" d=\"M3053,-123C3053,-123 2995,-123 2995,-123 2989,-123 2983,-117 2983,-111 2983,-111 2983,-99 2983,-99 2983,-93 2989,-87 2995,-87 2995,-87 3053,-87 3053,-87 3059,-87 3065,-93 3065,-99 3065,-99 3065,-111 3065,-111 3065,-117 3059,-123 3053,-123\"/>\n<text text-anchor=\"middle\" x=\"3024\" y=\"-101.3\" font-family=\"Times,serif\" font-size=\"14.00\" fill=\"#000000\">age&lt;14996</text>\n</g>\n<!-- 12&#45;&gt;26 -->\n<g id=\"edge42\" class=\"edge\">\n<title>12&#45;&gt;26</title>\n<path fill=\"none\" stroke=\"#ff0000\" d=\"M2905.7007,-173.8849C2917.2112,-168.3805 2929.7146,-162.1543 2941,-156 2956.4933,-147.5511 2973.1456,-137.5168 2987.4382,-128.5933\"/>\n<polygon fill=\"#ff0000\" stroke=\"#ff0000\" points=\"2989.4015,-131.4932 2996.001,-123.2047 2985.6732,-125.5687 2989.4015,-131.4932\"/>\n<text text-anchor=\"middle\" x=\"2975\" y=\"-144.8\" font-family=\"Times,serif\" font-size=\"14.00\" fill=\"#000000\">no</text>\n</g>\n<!-- 45 -->\n<g id=\"node38\" class=\"node\">\n<title>45</title>\n<path fill=\"#e48038\" stroke=\"#000000\" d=\"M2155,-36C2155,-36 2043,-36 2043,-36 2037,-36 2031,-30 2031,-24 2031,-24 2031,-12 2031,-12 2031,-6 2037,0 2043,0 2043,0 2155,0 2155,0 2161,0 2167,-6 2167,-12 2167,-12 2167,-24 2167,-24 2167,-30 2161,-36 2155,-36\"/>\n<text text-anchor=\"middle\" x=\"2099\" y=\"-14.3\" font-family=\"Times,serif\" font-size=\"14.00\" fill=\"#000000\">leaf=&#45;0.0301369876</text>\n</g>\n<!-- 23&#45;&gt;45 -->\n<g id=\"edge37\" class=\"edge\">\n<title>23&#45;&gt;45</title>\n<path fill=\"none\" stroke=\"#0000ff\" d=\"M2217.2993,-86.8849C2205.7888,-81.3805 2193.2854,-75.1543 2182,-69 2166.5067,-60.5511 2149.8544,-50.5168 2135.5618,-41.5933\"/>\n<polygon fill=\"#0000ff\" stroke=\"#0000ff\" points=\"2137.3268,-38.5687 2126.999,-36.2047 2133.5985,-44.4932 2137.3268,-38.5687\"/>\n<text text-anchor=\"middle\" x=\"2217.5\" y=\"-57.8\" font-family=\"Times,serif\" font-size=\"14.00\" fill=\"#000000\">yes, missing</text>\n</g>\n<!-- 46 -->\n<g id=\"node39\" class=\"node\">\n<title>46</title>\n<path fill=\"#e48038\" stroke=\"#000000\" d=\"M2316.5,-36C2316.5,-36 2197.5,-36 2197.5,-36 2191.5,-36 2185.5,-30 2185.5,-24 2185.5,-24 2185.5,-12 2185.5,-12 2185.5,-6 2191.5,0 2197.5,0 2197.5,0 2316.5,0 2316.5,0 2322.5,0 2328.5,-6 2328.5,-12 2328.5,-12 2328.5,-24 2328.5,-24 2328.5,-30 2322.5,-36 2316.5,-36\"/>\n<text text-anchor=\"middle\" x=\"2257\" y=\"-14.3\" font-family=\"Times,serif\" font-size=\"14.00\" fill=\"#000000\">leaf=&#45;0.00187793432</text>\n</g>\n<!-- 23&#45;&gt;46 -->\n<g id=\"edge38\" class=\"edge\">\n<title>23&#45;&gt;46</title>\n<path fill=\"none\" stroke=\"#ff0000\" d=\"M2257,-86.9735C2257,-75.1918 2257,-59.5607 2257,-46.1581\"/>\n<polygon fill=\"#ff0000\" stroke=\"#ff0000\" points=\"2260.5001,-46.0033 2257,-36.0034 2253.5001,-46.0034 2260.5001,-46.0033\"/>\n<text text-anchor=\"middle\" x=\"2265\" y=\"-57.8\" font-family=\"Times,serif\" font-size=\"14.00\" fill=\"#000000\">no</text>\n</g>\n<!-- 47 -->\n<g id=\"node40\" class=\"node\">\n<title>47</title>\n<path fill=\"#e48038\" stroke=\"#000000\" d=\"M2465.5,-36C2465.5,-36 2358.5,-36 2358.5,-36 2352.5,-36 2346.5,-30 2346.5,-24 2346.5,-24 2346.5,-12 2346.5,-12 2346.5,-6 2352.5,0 2358.5,0 2358.5,0 2465.5,0 2465.5,0 2471.5,0 2477.5,-6 2477.5,-12 2477.5,-12 2477.5,-24 2477.5,-24 2477.5,-30 2471.5,-36 2465.5,-36\"/>\n<text text-anchor=\"middle\" x=\"2412\" y=\"-14.3\" font-family=\"Times,serif\" font-size=\"14.00\" fill=\"#000000\">leaf=0.0400000028</text>\n</g>\n<!-- 24&#45;&gt;47 -->\n<g id=\"edge39\" class=\"edge\">\n<title>24&#45;&gt;47</title>\n<path fill=\"none\" stroke=\"#0000ff\" d=\"M2470.6672,-86.9735C2460.0506,-74.4919 2445.7592,-57.6899 2433.94,-43.7944\"/>\n<polygon fill=\"#0000ff\" stroke=\"#0000ff\" points=\"2436.4583,-41.3529 2427.3132,-36.0034 2431.1262,-45.8883 2436.4583,-41.3529\"/>\n<text text-anchor=\"middle\" x=\"2489.5\" y=\"-57.8\" font-family=\"Times,serif\" font-size=\"14.00\" fill=\"#000000\">yes, missing</text>\n</g>\n<!-- 48 -->\n<g id=\"node41\" class=\"node\">\n<title>48</title>\n<path fill=\"#e48038\" stroke=\"#000000\" d=\"M2614.5,-36C2614.5,-36 2507.5,-36 2507.5,-36 2501.5,-36 2495.5,-30 2495.5,-24 2495.5,-24 2495.5,-12 2495.5,-12 2495.5,-6 2501.5,0 2507.5,0 2507.5,0 2614.5,0 2614.5,0 2620.5,0 2626.5,-6 2626.5,-12 2626.5,-12 2626.5,-24 2626.5,-24 2626.5,-30 2620.5,-36 2614.5,-36\"/>\n<text text-anchor=\"middle\" x=\"2561\" y=\"-14.3\" font-family=\"Times,serif\" font-size=\"14.00\" fill=\"#000000\">leaf=0.0824104249</text>\n</g>\n<!-- 24&#45;&gt;48 -->\n<g id=\"edge40\" class=\"edge\">\n<title>24&#45;&gt;48</title>\n<path fill=\"none\" stroke=\"#ff0000\" d=\"M2510.4227,-86.8078C2516.8391,-81.4447 2523.4974,-75.3111 2529,-69 2535.2887,-61.7874 2541.1718,-53.2113 2546.1353,-45.1694\"/>\n<polygon fill=\"#ff0000\" stroke=\"#ff0000\" points=\"2549.2343,-46.8051 2551.321,-36.4178 2543.2121,-43.2367 2549.2343,-46.8051\"/>\n<text text-anchor=\"middle\" x=\"2549\" y=\"-57.8\" font-family=\"Times,serif\" font-size=\"14.00\" fill=\"#000000\">no</text>\n</g>\n<!-- 49 -->\n<g id=\"node44\" class=\"node\">\n<title>49</title>\n<path fill=\"#e48038\" stroke=\"#000000\" d=\"M2775.5,-36C2775.5,-36 2656.5,-36 2656.5,-36 2650.5,-36 2644.5,-30 2644.5,-24 2644.5,-24 2644.5,-12 2644.5,-12 2644.5,-6 2650.5,0 2656.5,0 2656.5,0 2775.5,0 2775.5,0 2781.5,0 2787.5,-6 2787.5,-12 2787.5,-12 2787.5,-24 2787.5,-24 2787.5,-30 2781.5,-36 2775.5,-36\"/>\n<text text-anchor=\"middle\" x=\"2716\" y=\"-14.3\" font-family=\"Times,serif\" font-size=\"14.00\" fill=\"#000000\">leaf=&#45;0.00909090973</text>\n</g>\n<!-- 25&#45;&gt;49 -->\n<g id=\"edge43\" class=\"edge\">\n<title>25&#45;&gt;49</title>\n<path fill=\"none\" stroke=\"#0000ff\" d=\"M2827.8256,-86.9368C2816.7741,-81.4336 2804.7856,-75.1949 2794,-69 2779.3838,-60.6049 2763.7462,-50.5965 2750.3391,-41.6781\"/>\n<polygon fill=\"#0000ff\" stroke=\"#0000ff\" points=\"2752.1376,-38.67 2741.884,-36.0029 2748.2364,-44.4821 2752.1376,-38.67\"/>\n<text text-anchor=\"middle\" x=\"2829.5\" y=\"-57.8\" font-family=\"Times,serif\" font-size=\"14.00\" fill=\"#000000\">yes, missing</text>\n</g>\n<!-- 50 -->\n<g id=\"node45\" class=\"node\">\n<title>50</title>\n<path fill=\"#e48038\" stroke=\"#000000\" d=\"M2924.5,-36C2924.5,-36 2817.5,-36 2817.5,-36 2811.5,-36 2805.5,-30 2805.5,-24 2805.5,-24 2805.5,-12 2805.5,-12 2805.5,-6 2811.5,0 2817.5,0 2817.5,0 2924.5,0 2924.5,0 2930.5,0 2936.5,-6 2936.5,-12 2936.5,-12 2936.5,-24 2936.5,-24 2936.5,-30 2930.5,-36 2924.5,-36\"/>\n<text text-anchor=\"middle\" x=\"2871\" y=\"-14.3\" font-family=\"Times,serif\" font-size=\"14.00\" fill=\"#000000\">leaf=0.0813049003</text>\n</g>\n<!-- 25&#45;&gt;50 -->\n<g id=\"edge44\" class=\"edge\">\n<title>25&#45;&gt;50</title>\n<path fill=\"none\" stroke=\"#ff0000\" d=\"M2867.036,-86.9735C2867.7131,-75.1918 2868.6115,-59.5607 2869.3817,-46.1581\"/>\n<polygon fill=\"#ff0000\" stroke=\"#ff0000\" points=\"2872.8857,-46.1877 2869.9653,-36.0034 2865.8972,-45.786 2872.8857,-46.1877\"/>\n<text text-anchor=\"middle\" x=\"2877\" y=\"-57.8\" font-family=\"Times,serif\" font-size=\"14.00\" fill=\"#000000\">no</text>\n</g>\n<!-- 51 -->\n<g id=\"node46\" class=\"node\">\n<title>51</title>\n<path fill=\"#e48038\" stroke=\"#000000\" d=\"M3081.5,-36C3081.5,-36 2966.5,-36 2966.5,-36 2960.5,-36 2954.5,-30 2954.5,-24 2954.5,-24 2954.5,-12 2954.5,-12 2954.5,-6 2960.5,0 2966.5,0 2966.5,0 3081.5,0 3081.5,0 3087.5,0 3093.5,-6 3093.5,-12 3093.5,-12 3093.5,-24 3093.5,-24 3093.5,-30 3087.5,-36 3081.5,-36\"/>\n<text text-anchor=\"middle\" x=\"3024\" y=\"-14.3\" font-family=\"Times,serif\" font-size=\"14.00\" fill=\"#000000\">leaf=0.00408163248</text>\n</g>\n<!-- 26&#45;&gt;51 -->\n<g id=\"edge45\" class=\"edge\">\n<title>26&#45;&gt;51</title>\n<path fill=\"none\" stroke=\"#0000ff\" d=\"M3024,-86.9735C3024,-75.1918 3024,-59.5607 3024,-46.1581\"/>\n<polygon fill=\"#0000ff\" stroke=\"#0000ff\" points=\"3027.5001,-46.0033 3024,-36.0034 3020.5001,-46.0034 3027.5001,-46.0033\"/>\n<text text-anchor=\"middle\" x=\"3059.5\" y=\"-57.8\" font-family=\"Times,serif\" font-size=\"14.00\" fill=\"#000000\">yes, missing</text>\n</g>\n<!-- 52 -->\n<g id=\"node47\" class=\"node\">\n<title>52</title>\n<path fill=\"#e48038\" stroke=\"#000000\" d=\"M3222.5,-36C3222.5,-36 3123.5,-36 3123.5,-36 3117.5,-36 3111.5,-30 3111.5,-24 3111.5,-24 3111.5,-12 3111.5,-12 3111.5,-6 3117.5,0 3123.5,0 3123.5,0 3222.5,0 3222.5,0 3228.5,0 3234.5,-6 3234.5,-12 3234.5,-12 3234.5,-24 3234.5,-24 3234.5,-30 3228.5,-36 3222.5,-36\"/>\n<text text-anchor=\"middle\" x=\"3173\" y=\"-14.3\" font-family=\"Times,serif\" font-size=\"14.00\" fill=\"#000000\">leaf=0.117374077</text>\n</g>\n<!-- 26&#45;&gt;52 -->\n<g id=\"edge46\" class=\"edge\">\n<title>26&#45;&gt;52</title>\n<path fill=\"none\" stroke=\"#ff0000\" d=\"M3064.6894,-86.8883C3075.9858,-81.48 3088.1297,-75.3032 3099,-69 3112.928,-60.9238 3127.6507,-51.0722 3140.2646,-42.1887\"/>\n<polygon fill=\"#ff0000\" stroke=\"#ff0000\" points=\"3142.515,-44.8827 3148.6247,-36.2269 3138.4507,-39.1834 3142.515,-44.8827\"/>\n<text text-anchor=\"middle\" x=\"3131\" y=\"-57.8\" font-family=\"Times,serif\" font-size=\"14.00\" fill=\"#000000\">no</text>\n</g>\n<!-- 27 -->\n<g id=\"node50\" class=\"node\">\n<title>27</title>\n<path fill=\"#78cb0e\" stroke=\"#000000\" d=\"M3366,-123C3366,-123 3308,-123 3308,-123 3302,-123 3296,-117 3296,-111 3296,-111 3296,-99 3296,-99 3296,-93 3302,-87 3308,-87 3308,-87 3366,-87 3366,-87 3372,-87 3378,-93 3378,-99 3378,-99 3378,-111 3378,-111 3378,-117 3372,-123 3366,-123\"/>\n<text text-anchor=\"middle\" x=\"3337\" y=\"-101.3\" font-family=\"Times,serif\" font-size=\"14.00\" fill=\"#000000\">age&lt;15376</text>\n</g>\n<!-- 13&#45;&gt;27 -->\n<g id=\"edge49\" class=\"edge\">\n<title>13&#45;&gt;27</title>\n<path fill=\"none\" stroke=\"#0000ff\" d=\"M3372.6302,-173.8316C3365.745,-168.7786 3359.0412,-162.7859 3354,-156 3348.9908,-149.2573 3345.4026,-140.9521 3342.8553,-133.0165\"/>\n<polygon fill=\"#0000ff\" stroke=\"#0000ff\" points=\"3346.207,-132.0052 3340.1569,-123.3077 3339.4626,-133.8798 3346.207,-132.0052\"/>\n<text text-anchor=\"middle\" x=\"3389.5\" y=\"-144.8\" font-family=\"Times,serif\" font-size=\"14.00\" fill=\"#000000\">yes, missing</text>\n</g>\n<!-- 28 -->\n<g id=\"node51\" class=\"node\">\n<title>28</title>\n<path fill=\"#e48038\" stroke=\"#000000\" d=\"M3508,-123C3508,-123 3408,-123 3408,-123 3402,-123 3396,-117 3396,-111 3396,-111 3396,-99 3396,-99 3396,-93 3402,-87 3408,-87 3408,-87 3508,-87 3508,-87 3514,-87 3520,-93 3520,-99 3520,-99 3520,-111 3520,-111 3520,-117 3514,-123 3508,-123\"/>\n<text text-anchor=\"middle\" x=\"3458\" y=\"-101.3\" font-family=\"Times,serif\" font-size=\"14.00\" fill=\"#000000\">leaf=0.125533149</text>\n</g>\n<!-- 13&#45;&gt;28 -->\n<g id=\"edge50\" class=\"edge\">\n<title>13&#45;&gt;28</title>\n<path fill=\"none\" stroke=\"#ff0000\" d=\"M3415.9816,-173.9735C3423.4433,-161.7252 3433.4394,-145.3165 3441.8097,-131.5766\"/>\n<polygon fill=\"#ff0000\" stroke=\"#ff0000\" points=\"3444.8188,-133.3644 3447.0324,-123.0034 3438.8408,-129.7225 3444.8188,-133.3644\"/>\n<text text-anchor=\"middle\" x=\"3443\" y=\"-144.8\" font-family=\"Times,serif\" font-size=\"14.00\" fill=\"#000000\">no</text>\n</g>\n<!-- 29 -->\n<g id=\"node54\" class=\"node\">\n<title>29</title>\n<path fill=\"#78cb0e\" stroke=\"#000000\" d=\"M3634,-123C3634,-123 3572,-123 3572,-123 3566,-123 3560,-117 3560,-111 3560,-111 3560,-99 3560,-99 3560,-93 3566,-87 3572,-87 3572,-87 3634,-87 3634,-87 3640,-87 3646,-93 3646,-99 3646,-99 3646,-111 3646,-111 3646,-117 3640,-123 3634,-123\"/>\n<text text-anchor=\"middle\" x=\"3603\" y=\"-101.3\" font-family=\"Times,serif\" font-size=\"14.00\" fill=\"#000000\">BP_diff&lt;71</text>\n</g>\n<!-- 14&#45;&gt;29 -->\n<g id=\"edge53\" class=\"edge\">\n<title>14&#45;&gt;29</title>\n<path fill=\"none\" stroke=\"#0000ff\" d=\"M3603,-173.9735C3603,-162.1918 3603,-146.5607 3603,-133.1581\"/>\n<polygon fill=\"#0000ff\" stroke=\"#0000ff\" points=\"3606.5001,-133.0033 3603,-123.0034 3599.5001,-133.0034 3606.5001,-133.0033\"/>\n<text text-anchor=\"middle\" x=\"3638.5\" y=\"-144.8\" font-family=\"Times,serif\" font-size=\"14.00\" fill=\"#000000\">yes, missing</text>\n</g>\n<!-- 30 -->\n<g id=\"node55\" class=\"node\">\n<title>30</title>\n<path fill=\"#e48038\" stroke=\"#000000\" d=\"M3776,-123C3776,-123 3676,-123 3676,-123 3670,-123 3664,-117 3664,-111 3664,-111 3664,-99 3664,-99 3664,-93 3670,-87 3676,-87 3676,-87 3776,-87 3776,-87 3782,-87 3788,-93 3788,-99 3788,-99 3788,-111 3788,-111 3788,-117 3782,-123 3776,-123\"/>\n<text text-anchor=\"middle\" x=\"3726\" y=\"-101.3\" font-family=\"Times,serif\" font-size=\"14.00\" fill=\"#000000\">leaf=0.137512848</text>\n</g>\n<!-- 14&#45;&gt;30 -->\n<g id=\"edge54\" class=\"edge\">\n<title>14&#45;&gt;30</title>\n<path fill=\"none\" stroke=\"#ff0000\" d=\"M3644.2527,-175.5329C3655.6741,-170.1036 3667.742,-163.5045 3678,-156 3687.7673,-148.8545 3697.1953,-139.556 3705.0716,-130.8589\"/>\n<polygon fill=\"#ff0000\" stroke=\"#ff0000\" points=\"3707.8896,-132.9531 3711.8337,-123.1197 3702.6183,-128.3472 3707.8896,-132.9531\"/>\n<text text-anchor=\"middle\" x=\"3703\" y=\"-144.8\" font-family=\"Times,serif\" font-size=\"14.00\" fill=\"#000000\">no</text>\n</g>\n<!-- 53 -->\n<g id=\"node52\" class=\"node\">\n<title>53</title>\n<path fill=\"#e48038\" stroke=\"#000000\" d=\"M3365,-36C3365,-36 3265,-36 3265,-36 3259,-36 3253,-30 3253,-24 3253,-24 3253,-12 3253,-12 3253,-6 3259,0 3265,0 3265,0 3365,0 3365,0 3371,0 3377,-6 3377,-12 3377,-12 3377,-24 3377,-24 3377,-30 3371,-36 3365,-36\"/>\n<text text-anchor=\"middle\" x=\"3315\" y=\"-14.3\" font-family=\"Times,serif\" font-size=\"14.00\" fill=\"#000000\">leaf=0.038181819</text>\n</g>\n<!-- 27&#45;&gt;53 -->\n<g id=\"edge51\" class=\"edge\">\n<title>27&#45;&gt;53</title>\n<path fill=\"none\" stroke=\"#0000ff\" d=\"M3332.4416,-86.9735C3329.4328,-75.0751 3325.4312,-59.2508 3322.0199,-45.7606\"/>\n<polygon fill=\"#0000ff\" stroke=\"#0000ff\" points=\"3325.3974,-44.8401 3319.5526,-36.0034 3318.611,-46.5563 3325.3974,-44.8401\"/>\n<text text-anchor=\"middle\" x=\"3363.5\" y=\"-57.8\" font-family=\"Times,serif\" font-size=\"14.00\" fill=\"#000000\">yes, missing</text>\n</g>\n<!-- 54 -->\n<g id=\"node53\" class=\"node\">\n<title>54</title>\n<path fill=\"#e48038\" stroke=\"#000000\" d=\"M3507,-36C3507,-36 3407,-36 3407,-36 3401,-36 3395,-30 3395,-24 3395,-24 3395,-12 3395,-12 3395,-6 3401,0 3407,0 3407,0 3507,0 3507,0 3513,0 3519,-6 3519,-12 3519,-12 3519,-24 3519,-24 3519,-30 3513,-36 3507,-36\"/>\n<text text-anchor=\"middle\" x=\"3457\" y=\"-14.3\" font-family=\"Times,serif\" font-size=\"14.00\" fill=\"#000000\">leaf=0.100887291</text>\n</g>\n<!-- 27&#45;&gt;54 -->\n<g id=\"edge52\" class=\"edge\">\n<title>27&#45;&gt;54</title>\n<path fill=\"none\" stroke=\"#ff0000\" d=\"M3373.9873,-86.9969C3383.7313,-81.6778 3394.0231,-75.519 3403,-69 3413.4342,-61.4228 3423.9564,-51.9832 3432.9058,-43.2926\"/>\n<polygon fill=\"#ff0000\" stroke=\"#ff0000\" points=\"3435.3908,-45.7574 3440.0168,-36.2258 3430.4565,-40.7922 3435.3908,-45.7574\"/>\n<text text-anchor=\"middle\" x=\"3429\" y=\"-57.8\" font-family=\"Times,serif\" font-size=\"14.00\" fill=\"#000000\">no</text>\n</g>\n<!-- 55 -->\n<g id=\"node56\" class=\"node\">\n<title>55</title>\n<path fill=\"#e48038\" stroke=\"#000000\" d=\"M3656.5,-36C3656.5,-36 3549.5,-36 3549.5,-36 3543.5,-36 3537.5,-30 3537.5,-24 3537.5,-24 3537.5,-12 3537.5,-12 3537.5,-6 3543.5,0 3549.5,0 3549.5,0 3656.5,0 3656.5,0 3662.5,0 3668.5,-6 3668.5,-12 3668.5,-12 3668.5,-24 3668.5,-24 3668.5,-30 3662.5,-36 3656.5,-36\"/>\n<text text-anchor=\"middle\" x=\"3603\" y=\"-14.3\" font-family=\"Times,serif\" font-size=\"14.00\" fill=\"#000000\">leaf=0.0160000008</text>\n</g>\n<!-- 29&#45;&gt;55 -->\n<g id=\"edge55\" class=\"edge\">\n<title>29&#45;&gt;55</title>\n<path fill=\"none\" stroke=\"#0000ff\" d=\"M3603,-86.9735C3603,-75.1918 3603,-59.5607 3603,-46.1581\"/>\n<polygon fill=\"#0000ff\" stroke=\"#0000ff\" points=\"3606.5001,-46.0033 3603,-36.0034 3599.5001,-46.0034 3606.5001,-46.0033\"/>\n<text text-anchor=\"middle\" x=\"3638.5\" y=\"-57.8\" font-family=\"Times,serif\" font-size=\"14.00\" fill=\"#000000\">yes, missing</text>\n</g>\n<!-- 56 -->\n<g id=\"node57\" class=\"node\">\n<title>56</title>\n<path fill=\"#e48038\" stroke=\"#000000\" d=\"M3811,-36C3811,-36 3699,-36 3699,-36 3693,-36 3687,-30 3687,-24 3687,-24 3687,-12 3687,-12 3687,-6 3693,0 3699,0 3699,0 3811,0 3811,0 3817,0 3823,-6 3823,-12 3823,-12 3823,-24 3823,-24 3823,-30 3817,-36 3811,-36\"/>\n<text text-anchor=\"middle\" x=\"3755\" y=\"-14.3\" font-family=\"Times,serif\" font-size=\"14.00\" fill=\"#000000\">leaf=&#45;0.0122448979</text>\n</g>\n<!-- 29&#45;&gt;56 -->\n<g id=\"edge56\" class=\"edge\">\n<title>29&#45;&gt;56</title>\n<path fill=\"none\" stroke=\"#ff0000\" d=\"M3643.2249,-86.9432C3654.63,-81.4886 3666.9465,-75.274 3678,-69 3692.5275,-60.7541 3707.9829,-50.7735 3721.2052,-41.8356\"/>\n<polygon fill=\"#ff0000\" stroke=\"#ff0000\" points=\"3723.257,-44.6727 3729.5395,-36.1415 3719.3081,-38.8929 3723.257,-44.6727\"/>\n<text text-anchor=\"middle\" x=\"3710\" y=\"-57.8\" font-family=\"Times,serif\" font-size=\"14.00\" fill=\"#000000\">no</text>\n</g>\n</g>\n</svg>\n"
          },
          "metadata": {
            "tags": []
          },
          "execution_count": 383
        }
      ]
    }
  ]
}