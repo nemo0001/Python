{
  "nbformat": 4,
  "nbformat_minor": 0,
  "metadata": {
    "colab": {
      "name": "cardio.ipynb",
      "provenance": [],
      "collapsed_sections": [],
      "include_colab_link": true
    },
    "kernelspec": {
      "name": "python3",
      "display_name": "Python 3"
    }
  },
  "cells": [
    {
      "cell_type": "markdown",
      "metadata": {
        "id": "view-in-github",
        "colab_type": "text"
      },
      "source": [
        "<a href=\"https://colab.research.google.com/github/nemo0001/Python/blob/master/cardio.ipynb\" target=\"_parent\"><img src=\"https://colab.research.google.com/assets/colab-badge.svg\" alt=\"Open In Colab\"/></a>"
      ]
    },
    {
      "cell_type": "markdown",
      "metadata": {
        "id": "IOYm8NJbGBn4"
      },
      "source": [
        "###Uploading Dataset"
      ]
    },
    {
      "cell_type": "code",
      "metadata": {
        "id": "Kihic6cAq5Pp",
        "colab": {
          "resources": {
            "http://localhost:8080/nbextensions/google.colab/files.js": {
              "data": "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",
              "ok": true,
              "headers": [
                [
                  "content-type",
                  "application/javascript"
                ]
              ],
              "status": 200,
              "status_text": ""
            }
          },
          "base_uri": "https://localhost:8080/",
          "height": 91
        },
        "outputId": "c19a3dac-c44a-4676-faed-db880eab2f2c"
      },
      "source": [
        "#getting the data from PC\n",
        "\n",
        "from google.colab import files\n",
        "\n",
        "uploaded = files.upload()\n",
        "\n",
        "for fn in uploaded.keys():\n",
        "  print('User uploaded file \"{name}\" with length {length} bytes'.format(\n",
        "      name=fn, length=len(uploaded[fn])))"
      ],
      "execution_count": 384,
      "outputs": [
        {
          "output_type": "display_data",
          "data": {
            "text/html": [
              "\n",
              "     <input type=\"file\" id=\"files-113b0273-d865-40da-840e-7ef5b31049d2\" name=\"files[]\" multiple disabled\n",
              "        style=\"border:none\" />\n",
              "     <output id=\"result-113b0273-d865-40da-840e-7ef5b31049d2\">\n",
              "      Upload widget is only available when the cell has been executed in the\n",
              "      current browser session. Please rerun this cell to enable.\n",
              "      </output>\n",
              "      <script src=\"/nbextensions/google.colab/files.js\"></script> "
            ],
            "text/plain": [
              "<IPython.core.display.HTML object>"
            ]
          },
          "metadata": {
            "tags": []
          }
        },
        {
          "output_type": "stream",
          "text": [
            "Saving cardio_train.csv to cardio_train (9).csv\n",
            "User uploaded file \"cardio_train.csv\" with length 2941524 bytes\n"
          ],
          "name": "stdout"
        }
      ]
    },
    {
      "cell_type": "code",
      "metadata": {
        "id": "OOM_2-M2di_y"
      },
      "source": [
        "#After getting abnormal logistic regression values with huge diff. before and after Hyper-Parameter tuning.\n",
        "#We resorted to removal of irrelavant variable via Corr Matrix, Important Features of Random forest\n",
        "#We removed normalization since it was creating abnormal results"
      ],
      "execution_count": null,
      "outputs": []
    },
    {
      "cell_type": "markdown",
      "metadata": {
        "id": "0hq_Hy9tGJ_m"
      },
      "source": [
        "###Importing Libraries"
      ]
    },
    {
      "cell_type": "code",
      "metadata": {
        "id": "eOi95F4Hq9ZL"
      },
      "source": [
        "import numpy as np # linear algebra\n",
        "import pandas as pd # data processing, CSV file I/O (e.g. pd.read_csv)\n",
        "from matplotlib import pyplot as plt\n",
        "import tensorflow as tf\n",
        "from tensorflow.keras.optimizers import RMSprop,Nadam,Adadelta,Adam\n",
        "from tensorflow.keras.layers import BatchNormalization,LeakyReLU\n",
        "from tensorflow.keras.callbacks import ReduceLROnPlateau, EarlyStopping\n",
        "import seaborn as sns\n",
        "import scipy.stats as stats\n",
        "import sklearn\n",
        "import os\n",
        "from sklearn.preprocessing import normalize\n",
        "\n",
        "#Importing Models\n",
        "import sklearn.linear_model as lm\n",
        "from sklearn.tree import DecisionTreeClassifier\n",
        "from sklearn.ensemble import RandomForestClassifier\n",
        "from sklearn.neighbors import KNeighborsClassifier\n",
        "from sklearn.svm import SVC\n",
        "from sklearn.naive_bayes import GaussianNB\n",
        "from xgboost import XGBClassifier\n",
        "\n",
        "#Optimization and Evaluation\n",
        "from sklearn.model_selection import GridSearchCV\n",
        "from sklearn.model_selection import cross_val_score\n",
        "from sklearn.metrics import roc_curve, roc_auc_score, precision_recall_curve, auc, make_scorer, recall_score, accuracy_score, precision_score, confusion_matrix,classification_report\n",
        "%matplotlib inline\n",
        "import matplotlib.pyplot as plt\n"
      ],
      "execution_count": 385,
      "outputs": []
    },
    {
      "cell_type": "code",
      "metadata": {
        "id": "H3f0RqPlxm-a",
        "colab": {
          "base_uri": "https://localhost:8080/",
          "height": 197
        },
        "outputId": "e6276522-497c-48a0-df88-0becb59d0886"
      },
      "source": [
        "data_raw=pd.read_csv(\"cardio_train.csv\",sep=\";\")\n",
        "data_raw.head()"
      ],
      "execution_count": 386,
      "outputs": [
        {
          "output_type": "execute_result",
          "data": {
            "text/html": [
              "<div>\n",
              "<style scoped>\n",
              "    .dataframe tbody tr th:only-of-type {\n",
              "        vertical-align: middle;\n",
              "    }\n",
              "\n",
              "    .dataframe tbody tr th {\n",
              "        vertical-align: top;\n",
              "    }\n",
              "\n",
              "    .dataframe thead th {\n",
              "        text-align: right;\n",
              "    }\n",
              "</style>\n",
              "<table border=\"1\" class=\"dataframe\">\n",
              "  <thead>\n",
              "    <tr style=\"text-align: right;\">\n",
              "      <th></th>\n",
              "      <th>id</th>\n",
              "      <th>age</th>\n",
              "      <th>gender</th>\n",
              "      <th>height</th>\n",
              "      <th>weight</th>\n",
              "      <th>ap_hi</th>\n",
              "      <th>ap_lo</th>\n",
              "      <th>cholesterol</th>\n",
              "      <th>gluc</th>\n",
              "      <th>smoke</th>\n",
              "      <th>alco</th>\n",
              "      <th>active</th>\n",
              "      <th>cardio</th>\n",
              "    </tr>\n",
              "  </thead>\n",
              "  <tbody>\n",
              "    <tr>\n",
              "      <th>0</th>\n",
              "      <td>0</td>\n",
              "      <td>18393</td>\n",
              "      <td>2</td>\n",
              "      <td>168</td>\n",
              "      <td>62.0</td>\n",
              "      <td>110</td>\n",
              "      <td>80</td>\n",
              "      <td>1</td>\n",
              "      <td>1</td>\n",
              "      <td>0</td>\n",
              "      <td>0</td>\n",
              "      <td>1</td>\n",
              "      <td>0</td>\n",
              "    </tr>\n",
              "    <tr>\n",
              "      <th>1</th>\n",
              "      <td>1</td>\n",
              "      <td>20228</td>\n",
              "      <td>1</td>\n",
              "      <td>156</td>\n",
              "      <td>85.0</td>\n",
              "      <td>140</td>\n",
              "      <td>90</td>\n",
              "      <td>3</td>\n",
              "      <td>1</td>\n",
              "      <td>0</td>\n",
              "      <td>0</td>\n",
              "      <td>1</td>\n",
              "      <td>1</td>\n",
              "    </tr>\n",
              "    <tr>\n",
              "      <th>2</th>\n",
              "      <td>2</td>\n",
              "      <td>18857</td>\n",
              "      <td>1</td>\n",
              "      <td>165</td>\n",
              "      <td>64.0</td>\n",
              "      <td>130</td>\n",
              "      <td>70</td>\n",
              "      <td>3</td>\n",
              "      <td>1</td>\n",
              "      <td>0</td>\n",
              "      <td>0</td>\n",
              "      <td>0</td>\n",
              "      <td>1</td>\n",
              "    </tr>\n",
              "    <tr>\n",
              "      <th>3</th>\n",
              "      <td>3</td>\n",
              "      <td>17623</td>\n",
              "      <td>2</td>\n",
              "      <td>169</td>\n",
              "      <td>82.0</td>\n",
              "      <td>150</td>\n",
              "      <td>100</td>\n",
              "      <td>1</td>\n",
              "      <td>1</td>\n",
              "      <td>0</td>\n",
              "      <td>0</td>\n",
              "      <td>1</td>\n",
              "      <td>1</td>\n",
              "    </tr>\n",
              "    <tr>\n",
              "      <th>4</th>\n",
              "      <td>4</td>\n",
              "      <td>17474</td>\n",
              "      <td>1</td>\n",
              "      <td>156</td>\n",
              "      <td>56.0</td>\n",
              "      <td>100</td>\n",
              "      <td>60</td>\n",
              "      <td>1</td>\n",
              "      <td>1</td>\n",
              "      <td>0</td>\n",
              "      <td>0</td>\n",
              "      <td>0</td>\n",
              "      <td>0</td>\n",
              "    </tr>\n",
              "  </tbody>\n",
              "</table>\n",
              "</div>"
            ],
            "text/plain": [
              "   id    age  gender  height  weight  ...  gluc  smoke  alco  active  cardio\n",
              "0   0  18393       2     168    62.0  ...     1      0     0       1       0\n",
              "1   1  20228       1     156    85.0  ...     1      0     0       1       1\n",
              "2   2  18857       1     165    64.0  ...     1      0     0       0       1\n",
              "3   3  17623       2     169    82.0  ...     1      0     0       1       1\n",
              "4   4  17474       1     156    56.0  ...     1      0     0       0       0\n",
              "\n",
              "[5 rows x 13 columns]"
            ]
          },
          "metadata": {
            "tags": []
          },
          "execution_count": 386
        }
      ]
    },
    {
      "cell_type": "code",
      "metadata": {
        "id": "PuTcgdcNyKVN",
        "colab": {
          "base_uri": "https://localhost:8080/"
        },
        "outputId": "2acaad13-2897-41a7-89ac-82de016d2a07"
      },
      "source": [
        "data_raw.info()"
      ],
      "execution_count": 387,
      "outputs": [
        {
          "output_type": "stream",
          "text": [
            "<class 'pandas.core.frame.DataFrame'>\n",
            "RangeIndex: 70000 entries, 0 to 69999\n",
            "Data columns (total 13 columns):\n",
            " #   Column       Non-Null Count  Dtype  \n",
            "---  ------       --------------  -----  \n",
            " 0   id           70000 non-null  int64  \n",
            " 1   age          70000 non-null  int64  \n",
            " 2   gender       70000 non-null  int64  \n",
            " 3   height       70000 non-null  int64  \n",
            " 4   weight       70000 non-null  float64\n",
            " 5   ap_hi        70000 non-null  int64  \n",
            " 6   ap_lo        70000 non-null  int64  \n",
            " 7   cholesterol  70000 non-null  int64  \n",
            " 8   gluc         70000 non-null  int64  \n",
            " 9   smoke        70000 non-null  int64  \n",
            " 10  alco         70000 non-null  int64  \n",
            " 11  active       70000 non-null  int64  \n",
            " 12  cardio       70000 non-null  int64  \n",
            "dtypes: float64(1), int64(12)\n",
            "memory usage: 6.9 MB\n"
          ],
          "name": "stdout"
        }
      ]
    },
    {
      "cell_type": "markdown",
      "metadata": {
        "id": "Sb0-eb9wGXwu"
      },
      "source": [
        "###Preliminary Data Processing"
      ]
    },
    {
      "cell_type": "code",
      "metadata": {
        "id": "BKIN9A1Byn82"
      },
      "source": [
        "data_raw.drop(\"id\",axis=1,inplace=True)"
      ],
      "execution_count": 388,
      "outputs": []
    },
    {
      "cell_type": "code",
      "metadata": {
        "id": "iwG-4_sBQkIS",
        "colab": {
          "base_uri": "https://localhost:8080/"
        },
        "outputId": "2124f1f0-a939-493a-f7d3-6f2154e8a0db"
      },
      "source": [
        "#handling duplicate values\n",
        "print(\"There are {} duplicate values in data frame\".format(data_raw.duplicated().sum()))"
      ],
      "execution_count": 389,
      "outputs": [
        {
          "output_type": "stream",
          "text": [
            "There are 24 duplicate values in data frame\n"
          ],
          "name": "stdout"
        }
      ]
    },
    {
      "cell_type": "code",
      "metadata": {
        "id": "AY4zrOP7RI_i",
        "colab": {
          "base_uri": "https://localhost:8080/",
          "height": 107
        },
        "outputId": "dcee4129-6a50-4b3b-850a-9f66234b9048"
      },
      "source": [
        "#We can drop the duplicates because they have no effect on training of model.\n",
        "#Firstly let us look at the duplicated rows.\n",
        "duplicated = data_raw[data_raw.duplicated(keep=False)]\n",
        "duplicated = duplicated.sort_values(by=['age', \"gender\", \"height\"], ascending= False) \n",
        "#sorted the values to see duplication clearly\n",
        "\n",
        "duplicated.head(2) # Shows us just 1 duplication of 24\n",
        "\n",
        "#duplicated() method helps in analyzing duplicate values only. \n",
        "#It returns a boolean series which is True only for Unique elements."
      ],
      "execution_count": 390,
      "outputs": [
        {
          "output_type": "execute_result",
          "data": {
            "text/html": [
              "<div>\n",
              "<style scoped>\n",
              "    .dataframe tbody tr th:only-of-type {\n",
              "        vertical-align: middle;\n",
              "    }\n",
              "\n",
              "    .dataframe tbody tr th {\n",
              "        vertical-align: top;\n",
              "    }\n",
              "\n",
              "    .dataframe thead th {\n",
              "        text-align: right;\n",
              "    }\n",
              "</style>\n",
              "<table border=\"1\" class=\"dataframe\">\n",
              "  <thead>\n",
              "    <tr style=\"text-align: right;\">\n",
              "      <th></th>\n",
              "      <th>age</th>\n",
              "      <th>gender</th>\n",
              "      <th>height</th>\n",
              "      <th>weight</th>\n",
              "      <th>ap_hi</th>\n",
              "      <th>ap_lo</th>\n",
              "      <th>cholesterol</th>\n",
              "      <th>gluc</th>\n",
              "      <th>smoke</th>\n",
              "      <th>alco</th>\n",
              "      <th>active</th>\n",
              "      <th>cardio</th>\n",
              "    </tr>\n",
              "  </thead>\n",
              "  <tbody>\n",
              "    <tr>\n",
              "      <th>2677</th>\n",
              "      <td>22077</td>\n",
              "      <td>1</td>\n",
              "      <td>175</td>\n",
              "      <td>69.0</td>\n",
              "      <td>120</td>\n",
              "      <td>80</td>\n",
              "      <td>1</td>\n",
              "      <td>1</td>\n",
              "      <td>0</td>\n",
              "      <td>0</td>\n",
              "      <td>1</td>\n",
              "      <td>1</td>\n",
              "    </tr>\n",
              "    <tr>\n",
              "      <th>45748</th>\n",
              "      <td>22077</td>\n",
              "      <td>1</td>\n",
              "      <td>175</td>\n",
              "      <td>69.0</td>\n",
              "      <td>120</td>\n",
              "      <td>80</td>\n",
              "      <td>1</td>\n",
              "      <td>1</td>\n",
              "      <td>0</td>\n",
              "      <td>0</td>\n",
              "      <td>1</td>\n",
              "      <td>1</td>\n",
              "    </tr>\n",
              "  </tbody>\n",
              "</table>\n",
              "</div>"
            ],
            "text/plain": [
              "         age  gender  height  weight  ap_hi  ...  gluc  smoke  alco  active  cardio\n",
              "2677   22077       1     175    69.0    120  ...     1      0     0       1       1\n",
              "45748  22077       1     175    69.0    120  ...     1      0     0       1       1\n",
              "\n",
              "[2 rows x 12 columns]"
            ]
          },
          "metadata": {
            "tags": []
          },
          "execution_count": 390
        }
      ]
    },
    {
      "cell_type": "code",
      "metadata": {
        "id": "yidbVkrYa3DW",
        "colab": {
          "base_uri": "https://localhost:8080/"
        },
        "outputId": "8323ac0c-ca8b-4832-9244-bf4aa892f837"
      },
      "source": [
        "data_raw.drop_duplicates(inplace=True)\n",
        "#Return DataFrame with duplicate rows removed, optionally only considering certain columns.\n",
        "#keep : {‘first’, ‘last’, False}, default ‘first’\n",
        "\n",
        "print(\"There are {} duplicated values in data frame\".format(data_raw.duplicated().sum()))"
      ],
      "execution_count": 391,
      "outputs": [
        {
          "output_type": "stream",
          "text": [
            "There are 0 duplicated values in data frame\n"
          ],
          "name": "stdout"
        }
      ]
    },
    {
      "cell_type": "code",
      "metadata": {
        "id": "kZAlFzfye3ec",
        "colab": {
          "base_uri": "https://localhost:8080/"
        },
        "outputId": "ed794c26-7bc6-4699-9b7a-1f63fbd74fb4"
      },
      "source": [
        "print(\"There are {} missing values in data frame\".format(data_raw.isnull().sum().sum()))"
      ],
      "execution_count": 392,
      "outputs": [
        {
          "output_type": "stream",
          "text": [
            "There are 0 missing values in data frame\n"
          ],
          "name": "stdout"
        }
      ]
    },
    {
      "cell_type": "markdown",
      "metadata": {
        "id": "BXpOCBhlHAR-"
      },
      "source": [
        "###VISUALIZATION"
      ]
    },
    {
      "cell_type": "code",
      "metadata": {
        "id": "y18JTuKpe7_I",
        "colab": {
          "base_uri": "https://localhost:8080/",
          "height": 307
        },
        "outputId": "4456d8cc-4850-433e-8988-a1948de0f339"
      },
      "source": [
        "#Detecting Outliers \n",
        "#Detecting outlier and handling them can increase our accuracy score.\n",
        "x = data_raw.copy(deep=True)\n",
        "x.describe()"
      ],
      "execution_count": 393,
      "outputs": [
        {
          "output_type": "execute_result",
          "data": {
            "text/html": [
              "<div>\n",
              "<style scoped>\n",
              "    .dataframe tbody tr th:only-of-type {\n",
              "        vertical-align: middle;\n",
              "    }\n",
              "\n",
              "    .dataframe tbody tr th {\n",
              "        vertical-align: top;\n",
              "    }\n",
              "\n",
              "    .dataframe thead th {\n",
              "        text-align: right;\n",
              "    }\n",
              "</style>\n",
              "<table border=\"1\" class=\"dataframe\">\n",
              "  <thead>\n",
              "    <tr style=\"text-align: right;\">\n",
              "      <th></th>\n",
              "      <th>age</th>\n",
              "      <th>gender</th>\n",
              "      <th>height</th>\n",
              "      <th>weight</th>\n",
              "      <th>ap_hi</th>\n",
              "      <th>ap_lo</th>\n",
              "      <th>cholesterol</th>\n",
              "      <th>gluc</th>\n",
              "      <th>smoke</th>\n",
              "      <th>alco</th>\n",
              "      <th>active</th>\n",
              "      <th>cardio</th>\n",
              "    </tr>\n",
              "  </thead>\n",
              "  <tbody>\n",
              "    <tr>\n",
              "      <th>count</th>\n",
              "      <td>69976.000000</td>\n",
              "      <td>69976.000000</td>\n",
              "      <td>69976.000000</td>\n",
              "      <td>69976.000000</td>\n",
              "      <td>69976.000000</td>\n",
              "      <td>69976.000000</td>\n",
              "      <td>69976.000000</td>\n",
              "      <td>69976.000000</td>\n",
              "      <td>69976.000000</td>\n",
              "      <td>69976.000000</td>\n",
              "      <td>69976.000000</td>\n",
              "      <td>69976.000000</td>\n",
              "    </tr>\n",
              "    <tr>\n",
              "      <th>mean</th>\n",
              "      <td>19468.950126</td>\n",
              "      <td>1.349648</td>\n",
              "      <td>164.359152</td>\n",
              "      <td>74.208519</td>\n",
              "      <td>128.820453</td>\n",
              "      <td>96.636261</td>\n",
              "      <td>1.366997</td>\n",
              "      <td>1.226535</td>\n",
              "      <td>0.088159</td>\n",
              "      <td>0.053790</td>\n",
              "      <td>0.803718</td>\n",
              "      <td>0.499771</td>\n",
              "    </tr>\n",
              "    <tr>\n",
              "      <th>std</th>\n",
              "      <td>2467.374620</td>\n",
              "      <td>0.476862</td>\n",
              "      <td>8.211218</td>\n",
              "      <td>14.397211</td>\n",
              "      <td>154.037729</td>\n",
              "      <td>188.504581</td>\n",
              "      <td>0.680333</td>\n",
              "      <td>0.572353</td>\n",
              "      <td>0.283528</td>\n",
              "      <td>0.225604</td>\n",
              "      <td>0.397187</td>\n",
              "      <td>0.500004</td>\n",
              "    </tr>\n",
              "    <tr>\n",
              "      <th>min</th>\n",
              "      <td>10798.000000</td>\n",
              "      <td>1.000000</td>\n",
              "      <td>55.000000</td>\n",
              "      <td>10.000000</td>\n",
              "      <td>-150.000000</td>\n",
              "      <td>-70.000000</td>\n",
              "      <td>1.000000</td>\n",
              "      <td>1.000000</td>\n",
              "      <td>0.000000</td>\n",
              "      <td>0.000000</td>\n",
              "      <td>0.000000</td>\n",
              "      <td>0.000000</td>\n",
              "    </tr>\n",
              "    <tr>\n",
              "      <th>25%</th>\n",
              "      <td>17664.000000</td>\n",
              "      <td>1.000000</td>\n",
              "      <td>159.000000</td>\n",
              "      <td>65.000000</td>\n",
              "      <td>120.000000</td>\n",
              "      <td>80.000000</td>\n",
              "      <td>1.000000</td>\n",
              "      <td>1.000000</td>\n",
              "      <td>0.000000</td>\n",
              "      <td>0.000000</td>\n",
              "      <td>1.000000</td>\n",
              "      <td>0.000000</td>\n",
              "    </tr>\n",
              "    <tr>\n",
              "      <th>50%</th>\n",
              "      <td>19703.000000</td>\n",
              "      <td>1.000000</td>\n",
              "      <td>165.000000</td>\n",
              "      <td>72.000000</td>\n",
              "      <td>120.000000</td>\n",
              "      <td>80.000000</td>\n",
              "      <td>1.000000</td>\n",
              "      <td>1.000000</td>\n",
              "      <td>0.000000</td>\n",
              "      <td>0.000000</td>\n",
              "      <td>1.000000</td>\n",
              "      <td>0.000000</td>\n",
              "    </tr>\n",
              "    <tr>\n",
              "      <th>75%</th>\n",
              "      <td>21327.000000</td>\n",
              "      <td>2.000000</td>\n",
              "      <td>170.000000</td>\n",
              "      <td>82.000000</td>\n",
              "      <td>140.000000</td>\n",
              "      <td>90.000000</td>\n",
              "      <td>2.000000</td>\n",
              "      <td>1.000000</td>\n",
              "      <td>0.000000</td>\n",
              "      <td>0.000000</td>\n",
              "      <td>1.000000</td>\n",
              "      <td>1.000000</td>\n",
              "    </tr>\n",
              "    <tr>\n",
              "      <th>max</th>\n",
              "      <td>23713.000000</td>\n",
              "      <td>2.000000</td>\n",
              "      <td>250.000000</td>\n",
              "      <td>200.000000</td>\n",
              "      <td>16020.000000</td>\n",
              "      <td>11000.000000</td>\n",
              "      <td>3.000000</td>\n",
              "      <td>3.000000</td>\n",
              "      <td>1.000000</td>\n",
              "      <td>1.000000</td>\n",
              "      <td>1.000000</td>\n",
              "      <td>1.000000</td>\n",
              "    </tr>\n",
              "  </tbody>\n",
              "</table>\n",
              "</div>"
            ],
            "text/plain": [
              "                age        gender  ...        active        cardio\n",
              "count  69976.000000  69976.000000  ...  69976.000000  69976.000000\n",
              "mean   19468.950126      1.349648  ...      0.803718      0.499771\n",
              "std     2467.374620      0.476862  ...      0.397187      0.500004\n",
              "min    10798.000000      1.000000  ...      0.000000      0.000000\n",
              "25%    17664.000000      1.000000  ...      1.000000      0.000000\n",
              "50%    19703.000000      1.000000  ...      1.000000      0.000000\n",
              "75%    21327.000000      2.000000  ...      1.000000      1.000000\n",
              "max    23713.000000      2.000000  ...      1.000000      1.000000\n",
              "\n",
              "[8 rows x 12 columns]"
            ]
          },
          "metadata": {
            "tags": []
          },
          "execution_count": 393
        }
      ]
    },
    {
      "cell_type": "code",
      "metadata": {
        "id": "jrIJ7xHsfjs_",
        "colab": {
          "base_uri": "https://localhost:8080/",
          "height": 197
        },
        "outputId": "067483f1-d877-495e-84bd-1399c7024aae"
      },
      "source": [
        "#Columns of \"age\", \"height\", \"weight\", \"ap_hi\", \"ap_lo\" may have outlier.\n",
        "#In order to compare them on same scale we need to standardize firstly.\n",
        "#My Standard Scalar Function\n",
        "s_list = [\"age\", \"height\", \"weight\", \"ap_hi\", \"ap_lo\"]\n",
        "def standartization(x):\n",
        "    x_std = x.copy(deep=True)\n",
        "    for column in s_list:\n",
        "        x_std[column] = (x_std[column]-x_std[column].mean())/x_std[column].std()\n",
        "    return x_std \n",
        "x_std=standartization(x)\n",
        "x_std.head()"
      ],
      "execution_count": 394,
      "outputs": [
        {
          "output_type": "execute_result",
          "data": {
            "text/html": [
              "<div>\n",
              "<style scoped>\n",
              "    .dataframe tbody tr th:only-of-type {\n",
              "        vertical-align: middle;\n",
              "    }\n",
              "\n",
              "    .dataframe tbody tr th {\n",
              "        vertical-align: top;\n",
              "    }\n",
              "\n",
              "    .dataframe thead th {\n",
              "        text-align: right;\n",
              "    }\n",
              "</style>\n",
              "<table border=\"1\" class=\"dataframe\">\n",
              "  <thead>\n",
              "    <tr style=\"text-align: right;\">\n",
              "      <th></th>\n",
              "      <th>age</th>\n",
              "      <th>gender</th>\n",
              "      <th>height</th>\n",
              "      <th>weight</th>\n",
              "      <th>ap_hi</th>\n",
              "      <th>ap_lo</th>\n",
              "      <th>cholesterol</th>\n",
              "      <th>gluc</th>\n",
              "      <th>smoke</th>\n",
              "      <th>alco</th>\n",
              "      <th>active</th>\n",
              "      <th>cardio</th>\n",
              "    </tr>\n",
              "  </thead>\n",
              "  <tbody>\n",
              "    <tr>\n",
              "      <th>0</th>\n",
              "      <td>-0.436071</td>\n",
              "      <td>2</td>\n",
              "      <td>0.443399</td>\n",
              "      <td>-0.847978</td>\n",
              "      <td>-0.122181</td>\n",
              "      <td>-0.088254</td>\n",
              "      <td>1</td>\n",
              "      <td>1</td>\n",
              "      <td>0</td>\n",
              "      <td>0</td>\n",
              "      <td>1</td>\n",
              "      <td>0</td>\n",
              "    </tr>\n",
              "    <tr>\n",
              "      <th>1</th>\n",
              "      <td>0.307635</td>\n",
              "      <td>1</td>\n",
              "      <td>-1.018016</td>\n",
              "      <td>0.749554</td>\n",
              "      <td>0.072577</td>\n",
              "      <td>-0.035205</td>\n",
              "      <td>3</td>\n",
              "      <td>1</td>\n",
              "      <td>0</td>\n",
              "      <td>0</td>\n",
              "      <td>1</td>\n",
              "      <td>1</td>\n",
              "    </tr>\n",
              "    <tr>\n",
              "      <th>2</th>\n",
              "      <td>-0.248017</td>\n",
              "      <td>1</td>\n",
              "      <td>0.078045</td>\n",
              "      <td>-0.709062</td>\n",
              "      <td>0.007658</td>\n",
              "      <td>-0.141303</td>\n",
              "      <td>3</td>\n",
              "      <td>1</td>\n",
              "      <td>0</td>\n",
              "      <td>0</td>\n",
              "      <td>0</td>\n",
              "      <td>1</td>\n",
              "    </tr>\n",
              "    <tr>\n",
              "      <th>3</th>\n",
              "      <td>-0.748143</td>\n",
              "      <td>2</td>\n",
              "      <td>0.565184</td>\n",
              "      <td>0.541180</td>\n",
              "      <td>0.137496</td>\n",
              "      <td>0.017844</td>\n",
              "      <td>1</td>\n",
              "      <td>1</td>\n",
              "      <td>0</td>\n",
              "      <td>0</td>\n",
              "      <td>1</td>\n",
              "      <td>1</td>\n",
              "    </tr>\n",
              "    <tr>\n",
              "      <th>4</th>\n",
              "      <td>-0.808532</td>\n",
              "      <td>1</td>\n",
              "      <td>-1.018016</td>\n",
              "      <td>-1.264725</td>\n",
              "      <td>-0.187100</td>\n",
              "      <td>-0.194352</td>\n",
              "      <td>1</td>\n",
              "      <td>1</td>\n",
              "      <td>0</td>\n",
              "      <td>0</td>\n",
              "      <td>0</td>\n",
              "      <td>0</td>\n",
              "    </tr>\n",
              "  </tbody>\n",
              "</table>\n",
              "</div>"
            ],
            "text/plain": [
              "        age  gender    height    weight  ...  smoke  alco  active  cardio\n",
              "0 -0.436071       2  0.443399 -0.847978  ...      0     0       1       0\n",
              "1  0.307635       1 -1.018016  0.749554  ...      0     0       1       1\n",
              "2 -0.248017       1  0.078045 -0.709062  ...      0     0       0       1\n",
              "3 -0.748143       2  0.565184  0.541180  ...      0     0       1       1\n",
              "4 -0.808532       1 -1.018016 -1.264725  ...      0     0       0       0\n",
              "\n",
              "[5 rows x 12 columns]"
            ]
          },
          "metadata": {
            "tags": []
          },
          "execution_count": 394
        }
      ]
    },
    {
      "cell_type": "code",
      "metadata": {
        "id": "7OOvxD2wi3nM",
        "colab": {
          "base_uri": "https://localhost:8080/",
          "height": 406
        },
        "outputId": "25f6e495-88bf-40ef-9784-1b5a2bce7f73"
      },
      "source": [
        "#In order to use the multi box graph plot we need to melt out data.\n",
        "x_melted = pd.melt(frame=x_std, id_vars=\"cardio\", value_vars=s_list, var_name=\"features\", value_name=\"value\", col_level=None)\n",
        "x_melted\n",
        "\n",
        "#melt() function is useful to massage a DataFrame into a format where one or more columns are identifier variables, while all other columns, \n",
        "#considered measured variables, are unpivoted to the row axis, leaving just two non-identifier columns, variable and value."
      ],
      "execution_count": 395,
      "outputs": [
        {
          "output_type": "execute_result",
          "data": {
            "text/html": [
              "<div>\n",
              "<style scoped>\n",
              "    .dataframe tbody tr th:only-of-type {\n",
              "        vertical-align: middle;\n",
              "    }\n",
              "\n",
              "    .dataframe tbody tr th {\n",
              "        vertical-align: top;\n",
              "    }\n",
              "\n",
              "    .dataframe thead th {\n",
              "        text-align: right;\n",
              "    }\n",
              "</style>\n",
              "<table border=\"1\" class=\"dataframe\">\n",
              "  <thead>\n",
              "    <tr style=\"text-align: right;\">\n",
              "      <th></th>\n",
              "      <th>cardio</th>\n",
              "      <th>features</th>\n",
              "      <th>value</th>\n",
              "    </tr>\n",
              "  </thead>\n",
              "  <tbody>\n",
              "    <tr>\n",
              "      <th>0</th>\n",
              "      <td>0</td>\n",
              "      <td>age</td>\n",
              "      <td>-0.436071</td>\n",
              "    </tr>\n",
              "    <tr>\n",
              "      <th>1</th>\n",
              "      <td>1</td>\n",
              "      <td>age</td>\n",
              "      <td>0.307635</td>\n",
              "    </tr>\n",
              "    <tr>\n",
              "      <th>2</th>\n",
              "      <td>1</td>\n",
              "      <td>age</td>\n",
              "      <td>-0.248017</td>\n",
              "    </tr>\n",
              "    <tr>\n",
              "      <th>3</th>\n",
              "      <td>1</td>\n",
              "      <td>age</td>\n",
              "      <td>-0.748143</td>\n",
              "    </tr>\n",
              "    <tr>\n",
              "      <th>4</th>\n",
              "      <td>0</td>\n",
              "      <td>age</td>\n",
              "      <td>-0.808532</td>\n",
              "    </tr>\n",
              "    <tr>\n",
              "      <th>...</th>\n",
              "      <td>...</td>\n",
              "      <td>...</td>\n",
              "      <td>...</td>\n",
              "    </tr>\n",
              "    <tr>\n",
              "      <th>349875</th>\n",
              "      <td>0</td>\n",
              "      <td>ap_lo</td>\n",
              "      <td>-0.088254</td>\n",
              "    </tr>\n",
              "    <tr>\n",
              "      <th>349876</th>\n",
              "      <td>1</td>\n",
              "      <td>ap_lo</td>\n",
              "      <td>-0.035205</td>\n",
              "    </tr>\n",
              "    <tr>\n",
              "      <th>349877</th>\n",
              "      <td>1</td>\n",
              "      <td>ap_lo</td>\n",
              "      <td>-0.035205</td>\n",
              "    </tr>\n",
              "    <tr>\n",
              "      <th>349878</th>\n",
              "      <td>1</td>\n",
              "      <td>ap_lo</td>\n",
              "      <td>-0.088254</td>\n",
              "    </tr>\n",
              "    <tr>\n",
              "      <th>349879</th>\n",
              "      <td>0</td>\n",
              "      <td>ap_lo</td>\n",
              "      <td>-0.088254</td>\n",
              "    </tr>\n",
              "  </tbody>\n",
              "</table>\n",
              "<p>349880 rows × 3 columns</p>\n",
              "</div>"
            ],
            "text/plain": [
              "        cardio features     value\n",
              "0            0      age -0.436071\n",
              "1            1      age  0.307635\n",
              "2            1      age -0.248017\n",
              "3            1      age -0.748143\n",
              "4            0      age -0.808532\n",
              "...        ...      ...       ...\n",
              "349875       0    ap_lo -0.088254\n",
              "349876       1    ap_lo -0.035205\n",
              "349877       1    ap_lo -0.035205\n",
              "349878       1    ap_lo -0.088254\n",
              "349879       0    ap_lo -0.088254\n",
              "\n",
              "[349880 rows x 3 columns]"
            ]
          },
          "metadata": {
            "tags": []
          },
          "execution_count": 395
        }
      ]
    },
    {
      "cell_type": "code",
      "metadata": {
        "id": "FSiiKJZqlLgx",
        "colab": {
          "base_uri": "https://localhost:8080/",
          "height": 647
        },
        "outputId": "5150f1d2-f537-4ae3-b50f-0f9dba00d813"
      },
      "source": [
        "plt.figure(figsize=(10,10))\n",
        "sns.boxplot(x=\"features\", y=\"value\", hue=\"cardio\", data=x_melted)\n",
        "plt.xticks(rotation=90)"
      ],
      "execution_count": 396,
      "outputs": [
        {
          "output_type": "execute_result",
          "data": {
            "text/plain": [
              "(array([0, 1, 2, 3, 4]), <a list of 5 Text major ticklabel objects>)"
            ]
          },
          "metadata": {
            "tags": []
          },
          "execution_count": 396
        },
        {
          "output_type": "display_data",
          "data": {
            "image/png": "[encoded data removed]",
            "text/plain": [
              "<Figure size 720x720 with 1 Axes>"
            ]
          },
          "metadata": {
            "tags": [],
            "needs_background": "light"
          }
        }
      ]
    },
    {
      "cell_type": "markdown",
      "metadata": {
        "id": "D7T5XYaVHYBO"
      },
      "source": [
        "###Outlier Detection"
      ]
    },
    {
      "cell_type": "code",
      "metadata": {
        "id": "RrGqHmJAltS0",
        "colab": {
          "base_uri": "https://localhost:8080/",
          "height": 107
        },
        "outputId": "5e68e95d-f25d-4228-c509-2cffdf57596b"
      },
      "source": [
        "#There are some outliers in the dataset, but as seen above there is an unusual outlier in ap_hi and ap_lo features.\n",
        "#Let us calculate the low bound and hi bound of ap_lo and ap_hi features\n",
        "ap_list = [\"ap_hi\", \"ap_lo\",\"height\",\"weight\"]\n",
        "boundary = pd.DataFrame(index=[\"lower_bound\",\"upper_bound\"]) # We created an empty dataframe\n",
        "for each in ap_list:\n",
        "    Q1 = x[each].quantile(0.25)\n",
        "    Q3 = x[each].quantile(0.75)\n",
        "    IQR = Q3 - Q1\n",
        "\n",
        "    lower_bound = Q1- 1.5*IQR\n",
        "    upper_bound = Q3 + 1.5*IQR\n",
        "    boundary[each] = [lower_bound, upper_bound ]\n",
        "boundary"
      ],
      "execution_count": 397,
      "outputs": [
        {
          "output_type": "execute_result",
          "data": {
            "text/html": [
              "<div>\n",
              "<style scoped>\n",
              "    .dataframe tbody tr th:only-of-type {\n",
              "        vertical-align: middle;\n",
              "    }\n",
              "\n",
              "    .dataframe tbody tr th {\n",
              "        vertical-align: top;\n",
              "    }\n",
              "\n",
              "    .dataframe thead th {\n",
              "        text-align: right;\n",
              "    }\n",
              "</style>\n",
              "<table border=\"1\" class=\"dataframe\">\n",
              "  <thead>\n",
              "    <tr style=\"text-align: right;\">\n",
              "      <th></th>\n",
              "      <th>ap_hi</th>\n",
              "      <th>ap_lo</th>\n",
              "      <th>height</th>\n",
              "      <th>weight</th>\n",
              "    </tr>\n",
              "  </thead>\n",
              "  <tbody>\n",
              "    <tr>\n",
              "      <th>lower_bound</th>\n",
              "      <td>90.0</td>\n",
              "      <td>65.0</td>\n",
              "      <td>142.5</td>\n",
              "      <td>39.5</td>\n",
              "    </tr>\n",
              "    <tr>\n",
              "      <th>upper_bound</th>\n",
              "      <td>170.0</td>\n",
              "      <td>105.0</td>\n",
              "      <td>186.5</td>\n",
              "      <td>107.5</td>\n",
              "    </tr>\n",
              "  </tbody>\n",
              "</table>\n",
              "</div>"
            ],
            "text/plain": [
              "             ap_hi  ap_lo  height  weight\n",
              "lower_bound   90.0   65.0   142.5    39.5\n",
              "upper_bound  170.0  105.0   186.5   107.5"
            ]
          },
          "metadata": {
            "tags": []
          },
          "execution_count": 397
        }
      ]
    },
    {
      "cell_type": "code",
      "metadata": {
        "id": "wM1cq4o_6P4k",
        "colab": {
          "base_uri": "https://localhost:8080/"
        },
        "outputId": "cd3ca8a7-48b5-41ab-e187-5a0a260626d5"
      },
      "source": [
        "#We can select the index of outlier data by using boundaries we calculated.\n",
        "ap_hi_filter = (x[\"ap_hi\"] > boundary[\"ap_hi\"][1])\n",
        "ap_lo_filter = (x[\"ap_lo\"] > boundary[\"ap_lo\"][1])                                                           \n",
        "outlier_filter = (ap_hi_filter | ap_lo_filter)\n",
        "x_outliers = x[outlier_filter]\n",
        "x_outliers[\"cardio\"].value_counts()"
      ],
      "execution_count": 398,
      "outputs": [
        {
          "output_type": "execute_result",
          "data": {
            "text/plain": [
              "1    2025\n",
              "0     388\n",
              "Name: cardio, dtype: int64"
            ]
          },
          "metadata": {
            "tags": []
          },
          "execution_count": 398
        }
      ]
    },
    {
      "cell_type": "code",
      "metadata": {
        "id": "Qyq2C27O_xPW",
        "colab": {
          "base_uri": "https://localhost:8080/",
          "height": 297
        },
        "outputId": "4b8ce3fd-8050-42c1-97ec-5c2b48937818"
      },
      "source": [
        "#And I have dropped some of data because we have sufficent data (70000) otherwise I would try to handle them by assigning new values.\n",
        "sns.countplot(x='cardio',data=x_outliers,linewidth=2,edgecolor=sns.color_palette(\"dark\", 1))"
      ],
      "execution_count": 399,
      "outputs": [
        {
          "output_type": "execute_result",
          "data": {
            "text/plain": [
              "<matplotlib.axes._subplots.AxesSubplot at 0x7f1f11803f98>"
            ]
          },
          "metadata": {
            "tags": []
          },
          "execution_count": 399
        },
        {
          "output_type": "display_data",
          "data": {
            "image/png": "[encoded data removed]",
            "text/plain": [
              "<Figure size 432x288 with 1 Axes>"
            ]
          },
          "metadata": {
            "tags": [],
            "needs_background": "light"
          }
        }
      ]
    },
    {
      "cell_type": "code",
      "metadata": {
        "id": "4-dzBu6YB-Ko",
        "colab": {
          "base_uri": "https://localhost:8080/"
        },
        "outputId": "6af27f58-728e-4b5f-bf84-23784c4b1d92"
      },
      "source": [
        "#A study published by doctors in NCBI NLM recorded a maximum blood pressure of 370/360 mm Hg. This study was performed by recording blood pressure in 10 male athletes through radial artery catheterization.\n",
        "#Thus we can drop the ap_hi outlier values over 250 and ap_lo outlier values over 200, without fear of missing data.\n",
        "out_filter_bp = ((x[\"ap_hi\"]>250) | (x[\"ap_lo\"]>200) )\n",
        "print(\"There are {} outliers\".format(x[out_filter_bp][\"cardio\"].count()))\n",
        "\n",
        "#We remove lower and higher outliers for height and weight\n",
        "ht_filter = (x[\"height\"] > boundary[\"height\"][1])\n",
        "ht_filter_l = (x[\"height\"] < boundary[\"height\"][0])\n",
        "wt_filter = (x[\"weight\"] > boundary[\"weight\"][1])\n",
        "wt_filter_l = (x[\"weight\"] < boundary[\"weight\"][0])                                                           \n",
        "outlier_filter_hw = (ht_filter | wt_filter|ht_filter_l|wt_filter_l)\n",
        "x_outliers_hw = x[outlier_filter_hw]\n",
        "x_outliers_hw[\"cardio\"].value_counts()\n",
        "\n",
        "out_filter_h = ((x[\"height\"] > boundary[\"height\"][1]) | (x[\"height\"] < boundary[\"height\"][0]))\n",
        "out_filter_w = ((x[\"weight\"] > boundary[\"weight\"][1]) | (x[\"weight\"] < boundary[\"weight\"][0]))\n",
        "print(\"There are {} outliers\".format(x[out_filter_h][\"cardio\"].count()))\n",
        "print(\"There are {} outliers\".format(x[out_filter_w][\"cardio\"].count()))\n"
      ],
      "execution_count": 400,
      "outputs": [
        {
          "output_type": "stream",
          "text": [
            "There are 993 outliers\n",
            "There are 519 outliers\n",
            "There are 1819 outliers\n"
          ],
          "name": "stdout"
        }
      ]
    },
    {
      "cell_type": "code",
      "metadata": {
        "id": "esdTZRM8yoxh",
        "colab": {
          "base_uri": "https://localhost:8080/"
        },
        "outputId": "02ae9b14-f474-4bd1-b6bb-993da7f98f97"
      },
      "source": [
        "x = x[~out_filter_bp]\n",
        "x=x[~out_filter_h]\n",
        "x=x[~out_filter_w]\n",
        "\n",
        "#Higher diastolic than systolic blood pressure is impossible, too. So let's remove these.\n",
        "x.drop(x[x[\"ap_lo\"] > x[\"ap_hi\"]].index, inplace=True)\n",
        "x.drop(x[x[\"ap_lo\"] <= 30].index, inplace=True)\n",
        "x.drop(x[x[\"ap_hi\"] <= 40].index, inplace=True)\n",
        "x.drop(x[x[\"ap_lo\"] >= 200].index, inplace=True)\n",
        "x.drop(x[x[\"ap_hi\"] >= 250].index, inplace=True)\n",
        "\n",
        "x.shape"
      ],
      "execution_count": 401,
      "outputs": [
        {
          "output_type": "stream",
          "text": [
            "/usr/local/lib/python3.6/dist-packages/ipykernel_launcher.py:2: UserWarning: Boolean Series key will be reindexed to match DataFrame index.\n",
            "  \n",
            "/usr/local/lib/python3.6/dist-packages/ipykernel_launcher.py:3: UserWarning: Boolean Series key will be reindexed to match DataFrame index.\n",
            "  This is separate from the ipykernel package so we can avoid doing imports until\n"
          ],
          "name": "stderr"
        },
        {
          "output_type": "execute_result",
          "data": {
            "text/plain": [
              "(66459, 12)"
            ]
          },
          "metadata": {
            "tags": []
          },
          "execution_count": 401
        }
      ]
    },
    {
      "cell_type": "markdown",
      "metadata": {
        "id": "JCwcASUvHmmo"
      },
      "source": [
        "###Feature Selection"
      ]
    },
    {
      "cell_type": "code",
      "metadata": {
        "colab": {
          "base_uri": "https://localhost:8080/",
          "height": 197
        },
        "id": "aZHQgU-NIikD",
        "outputId": "5d3f4d4f-51ff-49e6-c593-29a8eaae9cb7"
      },
      "source": [
        "#Calculating BMI\n",
        "def bmi_calc(w, h):\n",
        "    return w/(h**2)\n",
        "x[\"bmi\"] = x[\"weight\"]/ (x[\"height\"]/100)**2\n",
        "\n",
        "#Calculating Diff between systolic and diastolic :pulse pressure\n",
        "x[\"BP_diff\"]=x[\"ap_hi\"]-x[\"ap_lo\"]\n",
        "x.head()"
      ],
      "execution_count": 402,
      "outputs": [
        {
          "output_type": "execute_result",
          "data": {
            "text/html": [
              "<div>\n",
              "<style scoped>\n",
              "    .dataframe tbody tr th:only-of-type {\n",
              "        vertical-align: middle;\n",
              "    }\n",
              "\n",
              "    .dataframe tbody tr th {\n",
              "        vertical-align: top;\n",
              "    }\n",
              "\n",
              "    .dataframe thead th {\n",
              "        text-align: right;\n",
              "    }\n",
              "</style>\n",
              "<table border=\"1\" class=\"dataframe\">\n",
              "  <thead>\n",
              "    <tr style=\"text-align: right;\">\n",
              "      <th></th>\n",
              "      <th>age</th>\n",
              "      <th>gender</th>\n",
              "      <th>height</th>\n",
              "      <th>weight</th>\n",
              "      <th>ap_hi</th>\n",
              "      <th>ap_lo</th>\n",
              "      <th>cholesterol</th>\n",
              "      <th>gluc</th>\n",
              "      <th>smoke</th>\n",
              "      <th>alco</th>\n",
              "      <th>active</th>\n",
              "      <th>cardio</th>\n",
              "      <th>bmi</th>\n",
              "      <th>BP_diff</th>\n",
              "    </tr>\n",
              "  </thead>\n",
              "  <tbody>\n",
              "    <tr>\n",
              "      <th>0</th>\n",
              "      <td>18393</td>\n",
              "      <td>2</td>\n",
              "      <td>168</td>\n",
              "      <td>62.0</td>\n",
              "      <td>110</td>\n",
              "      <td>80</td>\n",
              "      <td>1</td>\n",
              "      <td>1</td>\n",
              "      <td>0</td>\n",
              "      <td>0</td>\n",
              "      <td>1</td>\n",
              "      <td>0</td>\n",
              "      <td>21.967120</td>\n",
              "      <td>30</td>\n",
              "    </tr>\n",
              "    <tr>\n",
              "      <th>1</th>\n",
              "      <td>20228</td>\n",
              "      <td>1</td>\n",
              "      <td>156</td>\n",
              "      <td>85.0</td>\n",
              "      <td>140</td>\n",
              "      <td>90</td>\n",
              "      <td>3</td>\n",
              "      <td>1</td>\n",
              "      <td>0</td>\n",
              "      <td>0</td>\n",
              "      <td>1</td>\n",
              "      <td>1</td>\n",
              "      <td>34.927679</td>\n",
              "      <td>50</td>\n",
              "    </tr>\n",
              "    <tr>\n",
              "      <th>2</th>\n",
              "      <td>18857</td>\n",
              "      <td>1</td>\n",
              "      <td>165</td>\n",
              "      <td>64.0</td>\n",
              "      <td>130</td>\n",
              "      <td>70</td>\n",
              "      <td>3</td>\n",
              "      <td>1</td>\n",
              "      <td>0</td>\n",
              "      <td>0</td>\n",
              "      <td>0</td>\n",
              "      <td>1</td>\n",
              "      <td>23.507805</td>\n",
              "      <td>60</td>\n",
              "    </tr>\n",
              "    <tr>\n",
              "      <th>3</th>\n",
              "      <td>17623</td>\n",
              "      <td>2</td>\n",
              "      <td>169</td>\n",
              "      <td>82.0</td>\n",
              "      <td>150</td>\n",
              "      <td>100</td>\n",
              "      <td>1</td>\n",
              "      <td>1</td>\n",
              "      <td>0</td>\n",
              "      <td>0</td>\n",
              "      <td>1</td>\n",
              "      <td>1</td>\n",
              "      <td>28.710479</td>\n",
              "      <td>50</td>\n",
              "    </tr>\n",
              "    <tr>\n",
              "      <th>4</th>\n",
              "      <td>17474</td>\n",
              "      <td>1</td>\n",
              "      <td>156</td>\n",
              "      <td>56.0</td>\n",
              "      <td>100</td>\n",
              "      <td>60</td>\n",
              "      <td>1</td>\n",
              "      <td>1</td>\n",
              "      <td>0</td>\n",
              "      <td>0</td>\n",
              "      <td>0</td>\n",
              "      <td>0</td>\n",
              "      <td>23.011177</td>\n",
              "      <td>40</td>\n",
              "    </tr>\n",
              "  </tbody>\n",
              "</table>\n",
              "</div>"
            ],
            "text/plain": [
              "     age  gender  height  weight  ...  active  cardio        bmi  BP_diff\n",
              "0  18393       2     168    62.0  ...       1       0  21.967120       30\n",
              "1  20228       1     156    85.0  ...       1       1  34.927679       50\n",
              "2  18857       1     165    64.0  ...       0       1  23.507805       60\n",
              "3  17623       2     169    82.0  ...       1       1  28.710479       50\n",
              "4  17474       1     156    56.0  ...       0       0  23.011177       40\n",
              "\n",
              "[5 rows x 14 columns]"
            ]
          },
          "metadata": {
            "tags": []
          },
          "execution_count": 402
        }
      ]
    },
    {
      "cell_type": "code",
      "metadata": {
        "id": "xe4-4uyuIv52"
      },
      "source": [
        "x[\"gender\"] = x[\"gender\"] % 2"
      ],
      "execution_count": 403,
      "outputs": []
    },
    {
      "cell_type": "code",
      "metadata": {
        "colab": {
          "base_uri": "https://localhost:8080/",
          "height": 620
        },
        "id": "PzY56Co4I_sn",
        "outputId": "0f500ae9-31a9-4390-917f-3c1965c39f33"
      },
      "source": [
        "from sklearn.preprocessing import StandardScaler\n",
        "x_std = standartization(x)\n",
        "\n",
        "data = pd.melt(x_std,id_vars=\"cardio\",\n",
        "                    var_name=\"features\",\n",
        "                    value_name='value')\n",
        "plt.figure(figsize=(10,10))\n",
        "sns.violinplot(x=\"gender\", y=\"bmi\", hue=\"cardio\", data=x,split=True, inner=\"quart\")\n",
        "plt.xticks(rotation=90)\n",
        "#If we interpret the violin plot, the median and quartiles of bmi distribution of patients is slightly higher than non-patients."
      ],
      "execution_count": 404,
      "outputs": [
        {
          "output_type": "execute_result",
          "data": {
            "text/plain": [
              "(array([0, 1]), <a list of 2 Text major ticklabel objects>)"
            ]
          },
          "metadata": {
            "tags": []
          },
          "execution_count": 404
        },
        {
          "output_type": "display_data",
          "data": {
            "image/png": "[encoded data removed]",
            "text/plain": [
              "<Figure size 720x720 with 1 Axes>"
            ]
          },
          "metadata": {
            "tags": [],
            "needs_background": "light"
          }
        }
      ]
    },
    {
      "cell_type": "code",
      "metadata": {
        "id": "DlMLCKboCCeY",
        "colab": {
          "base_uri": "https://localhost:8080/",
          "height": 1000
        },
        "outputId": "a6ced1f3-3f1d-4a83-d8a9-8e3880029810"
      },
      "source": [
        "\n",
        "corr = x.corr()\n",
        "f, ax = plt.subplots(figsize = (15,15))\n",
        "sns.heatmap(corr, annot=True, fmt=\".3f\", linewidths=0.5, ax=ax)\n",
        "corr\n",
        "\n",
        "#We can see from correlation map easily; cholesterol, blood pressure (ap_hi and ap_low both) and age have a powerful relationship with cardiovascular diseases.\n",
        "#Glucogen and cholesterol have a strong relationship among them either.\n",
        "\n",
        "#Smoke , alco ,height and active have low correlation"
      ],
      "execution_count": 405,
      "outputs": [
        {
          "output_type": "execute_result",
          "data": {
            "text/html": [
              "<div>\n",
              "<style scoped>\n",
              "    .dataframe tbody tr th:only-of-type {\n",
              "        vertical-align: middle;\n",
              "    }\n",
              "\n",
              "    .dataframe tbody tr th {\n",
              "        vertical-align: top;\n",
              "    }\n",
              "\n",
              "    .dataframe thead th {\n",
              "        text-align: right;\n",
              "    }\n",
              "</style>\n",
              "<table border=\"1\" class=\"dataframe\">\n",
              "  <thead>\n",
              "    <tr style=\"text-align: right;\">\n",
              "      <th></th>\n",
              "      <th>age</th>\n",
              "      <th>gender</th>\n",
              "      <th>height</th>\n",
              "      <th>weight</th>\n",
              "      <th>ap_hi</th>\n",
              "      <th>ap_lo</th>\n",
              "      <th>cholesterol</th>\n",
              "      <th>gluc</th>\n",
              "      <th>smoke</th>\n",
              "      <th>alco</th>\n",
              "      <th>active</th>\n",
              "      <th>cardio</th>\n",
              "      <th>bmi</th>\n",
              "      <th>BP_diff</th>\n",
              "    </tr>\n",
              "  </thead>\n",
              "  <tbody>\n",
              "    <tr>\n",
              "      <th>age</th>\n",
              "      <td>1.000000</td>\n",
              "      <td>0.021335</td>\n",
              "      <td>-0.085890</td>\n",
              "      <td>0.068481</td>\n",
              "      <td>0.213281</td>\n",
              "      <td>0.160724</td>\n",
              "      <td>0.157028</td>\n",
              "      <td>0.098836</td>\n",
              "      <td>-0.044958</td>\n",
              "      <td>-0.027551</td>\n",
              "      <td>-0.011062</td>\n",
              "      <td>0.243087</td>\n",
              "      <td>0.118476</td>\n",
              "      <td>0.174298</td>\n",
              "    </tr>\n",
              "    <tr>\n",
              "      <th>gender</th>\n",
              "      <td>0.021335</td>\n",
              "      <td>1.000000</td>\n",
              "      <td>-0.519479</td>\n",
              "      <td>-0.162291</td>\n",
              "      <td>-0.061069</td>\n",
              "      <td>-0.065718</td>\n",
              "      <td>0.038693</td>\n",
              "      <td>0.022920</td>\n",
              "      <td>-0.339302</td>\n",
              "      <td>-0.170253</td>\n",
              "      <td>-0.007178</td>\n",
              "      <td>-0.004527</td>\n",
              "      <td>0.126462</td>\n",
              "      <td>-0.033916</td>\n",
              "    </tr>\n",
              "    <tr>\n",
              "      <th>height</th>\n",
              "      <td>-0.085890</td>\n",
              "      <td>-0.519479</td>\n",
              "      <td>1.000000</td>\n",
              "      <td>0.310426</td>\n",
              "      <td>0.009114</td>\n",
              "      <td>0.027818</td>\n",
              "      <td>-0.064388</td>\n",
              "      <td>-0.026080</td>\n",
              "      <td>0.193968</td>\n",
              "      <td>0.094535</td>\n",
              "      <td>-0.007460</td>\n",
              "      <td>-0.019020</td>\n",
              "      <td>-0.237789</td>\n",
              "      <td>-0.009559</td>\n",
              "    </tr>\n",
              "    <tr>\n",
              "      <th>weight</th>\n",
              "      <td>0.068481</td>\n",
              "      <td>-0.162291</td>\n",
              "      <td>0.310426</td>\n",
              "      <td>1.000000</td>\n",
              "      <td>0.255413</td>\n",
              "      <td>0.242734</td>\n",
              "      <td>0.130159</td>\n",
              "      <td>0.091228</td>\n",
              "      <td>0.063305</td>\n",
              "      <td>0.064226</td>\n",
              "      <td>-0.015015</td>\n",
              "      <td>0.175799</td>\n",
              "      <td>0.845538</td>\n",
              "      <td>0.167928</td>\n",
              "    </tr>\n",
              "    <tr>\n",
              "      <th>ap_hi</th>\n",
              "      <td>0.213281</td>\n",
              "      <td>-0.061069</td>\n",
              "      <td>0.009114</td>\n",
              "      <td>0.255413</td>\n",
              "      <td>1.000000</td>\n",
              "      <td>0.733157</td>\n",
              "      <td>0.193048</td>\n",
              "      <td>0.087781</td>\n",
              "      <td>0.025061</td>\n",
              "      <td>0.032222</td>\n",
              "      <td>0.000865</td>\n",
              "      <td>0.428567</td>\n",
              "      <td>0.255614</td>\n",
              "      <td>0.833799</td>\n",
              "    </tr>\n",
              "    <tr>\n",
              "      <th>ap_lo</th>\n",
              "      <td>0.160724</td>\n",
              "      <td>-0.065718</td>\n",
              "      <td>0.027818</td>\n",
              "      <td>0.242734</td>\n",
              "      <td>0.733157</td>\n",
              "      <td>1.000000</td>\n",
              "      <td>0.158147</td>\n",
              "      <td>0.069367</td>\n",
              "      <td>0.023605</td>\n",
              "      <td>0.034183</td>\n",
              "      <td>0.000738</td>\n",
              "      <td>0.338930</td>\n",
              "      <td>0.232288</td>\n",
              "      <td>0.235866</td>\n",
              "    </tr>\n",
              "    <tr>\n",
              "      <th>cholesterol</th>\n",
              "      <td>0.157028</td>\n",
              "      <td>0.038693</td>\n",
              "      <td>-0.064388</td>\n",
              "      <td>0.130159</td>\n",
              "      <td>0.193048</td>\n",
              "      <td>0.158147</td>\n",
              "      <td>1.000000</td>\n",
              "      <td>0.449185</td>\n",
              "      <td>0.006794</td>\n",
              "      <td>0.033367</td>\n",
              "      <td>0.009425</td>\n",
              "      <td>0.220301</td>\n",
              "      <td>0.168062</td>\n",
              "      <td>0.147476</td>\n",
              "    </tr>\n",
              "    <tr>\n",
              "      <th>gluc</th>\n",
              "      <td>0.098836</td>\n",
              "      <td>0.022920</td>\n",
              "      <td>-0.026080</td>\n",
              "      <td>0.091228</td>\n",
              "      <td>0.087781</td>\n",
              "      <td>0.069367</td>\n",
              "      <td>0.449185</td>\n",
              "      <td>1.000000</td>\n",
              "      <td>-0.009974</td>\n",
              "      <td>0.006446</td>\n",
              "      <td>-0.007052</td>\n",
              "      <td>0.088919</td>\n",
              "      <td>0.107065</td>\n",
              "      <td>0.069125</td>\n",
              "    </tr>\n",
              "    <tr>\n",
              "      <th>smoke</th>\n",
              "      <td>-0.044958</td>\n",
              "      <td>-0.339302</td>\n",
              "      <td>0.193968</td>\n",
              "      <td>0.063305</td>\n",
              "      <td>0.025061</td>\n",
              "      <td>0.023605</td>\n",
              "      <td>0.006794</td>\n",
              "      <td>-0.009974</td>\n",
              "      <td>1.000000</td>\n",
              "      <td>0.341654</td>\n",
              "      <td>0.028331</td>\n",
              "      <td>-0.019440</td>\n",
              "      <td>-0.043833</td>\n",
              "      <td>0.016650</td>\n",
              "    </tr>\n",
              "    <tr>\n",
              "      <th>alco</th>\n",
              "      <td>-0.027551</td>\n",
              "      <td>-0.170253</td>\n",
              "      <td>0.094535</td>\n",
              "      <td>0.064226</td>\n",
              "      <td>0.032222</td>\n",
              "      <td>0.034183</td>\n",
              "      <td>0.033367</td>\n",
              "      <td>0.006446</td>\n",
              "      <td>0.341654</td>\n",
              "      <td>1.000000</td>\n",
              "      <td>0.026696</td>\n",
              "      <td>-0.010534</td>\n",
              "      <td>0.012037</td>\n",
              "      <td>0.018295</td>\n",
              "    </tr>\n",
              "    <tr>\n",
              "      <th>active</th>\n",
              "      <td>-0.011062</td>\n",
              "      <td>-0.007178</td>\n",
              "      <td>-0.007460</td>\n",
              "      <td>-0.015015</td>\n",
              "      <td>0.000865</td>\n",
              "      <td>0.000738</td>\n",
              "      <td>0.009425</td>\n",
              "      <td>-0.007052</td>\n",
              "      <td>0.028331</td>\n",
              "      <td>0.026696</td>\n",
              "      <td>1.000000</td>\n",
              "      <td>-0.037560</td>\n",
              "      <td>-0.011731</td>\n",
              "      <td>0.000637</td>\n",
              "    </tr>\n",
              "    <tr>\n",
              "      <th>cardio</th>\n",
              "      <td>0.243087</td>\n",
              "      <td>-0.004527</td>\n",
              "      <td>-0.019020</td>\n",
              "      <td>0.175799</td>\n",
              "      <td>0.428567</td>\n",
              "      <td>0.338930</td>\n",
              "      <td>0.220301</td>\n",
              "      <td>0.088919</td>\n",
              "      <td>-0.019440</td>\n",
              "      <td>-0.010534</td>\n",
              "      <td>-0.037560</td>\n",
              "      <td>1.000000</td>\n",
              "      <td>0.189394</td>\n",
              "      <td>0.337269</td>\n",
              "    </tr>\n",
              "    <tr>\n",
              "      <th>bmi</th>\n",
              "      <td>0.118476</td>\n",
              "      <td>0.126462</td>\n",
              "      <td>-0.237789</td>\n",
              "      <td>0.845538</td>\n",
              "      <td>0.255614</td>\n",
              "      <td>0.232288</td>\n",
              "      <td>0.168062</td>\n",
              "      <td>0.107065</td>\n",
              "      <td>-0.043833</td>\n",
              "      <td>0.012037</td>\n",
              "      <td>-0.011731</td>\n",
              "      <td>0.189394</td>\n",
              "      <td>1.000000</td>\n",
              "      <td>0.176695</td>\n",
              "    </tr>\n",
              "    <tr>\n",
              "      <th>BP_diff</th>\n",
              "      <td>0.174298</td>\n",
              "      <td>-0.033916</td>\n",
              "      <td>-0.009559</td>\n",
              "      <td>0.167928</td>\n",
              "      <td>0.833799</td>\n",
              "      <td>0.235866</td>\n",
              "      <td>0.147476</td>\n",
              "      <td>0.069125</td>\n",
              "      <td>0.016650</td>\n",
              "      <td>0.018295</td>\n",
              "      <td>0.000637</td>\n",
              "      <td>0.337269</td>\n",
              "      <td>0.176695</td>\n",
              "      <td>1.000000</td>\n",
              "    </tr>\n",
              "  </tbody>\n",
              "</table>\n",
              "</div>"
            ],
            "text/plain": [
              "                  age    gender    height  ...    cardio       bmi   BP_diff\n",
              "age          1.000000  0.021335 -0.085890  ...  0.243087  0.118476  0.174298\n",
              "gender       0.021335  1.000000 -0.519479  ... -0.004527  0.126462 -0.033916\n",
              "height      -0.085890 -0.519479  1.000000  ... -0.019020 -0.237789 -0.009559\n",
              "weight       0.068481 -0.162291  0.310426  ...  0.175799  0.845538  0.167928\n",
              "ap_hi        0.213281 -0.061069  0.009114  ...  0.428567  0.255614  0.833799\n",
              "ap_lo        0.160724 -0.065718  0.027818  ...  0.338930  0.232288  0.235866\n",
              "cholesterol  0.157028  0.038693 -0.064388  ...  0.220301  0.168062  0.147476\n",
              "gluc         0.098836  0.022920 -0.026080  ...  0.088919  0.107065  0.069125\n",
              "smoke       -0.044958 -0.339302  0.193968  ... -0.019440 -0.043833  0.016650\n",
              "alco        -0.027551 -0.170253  0.094535  ... -0.010534  0.012037  0.018295\n",
              "active      -0.011062 -0.007178 -0.007460  ... -0.037560 -0.011731  0.000637\n",
              "cardio       0.243087 -0.004527 -0.019020  ...  1.000000  0.189394  0.337269\n",
              "bmi          0.118476  0.126462 -0.237789  ...  0.189394  1.000000  0.176695\n",
              "BP_diff      0.174298 -0.033916 -0.009559  ...  0.337269  0.176695  1.000000\n",
              "\n",
              "[14 rows x 14 columns]"
            ]
          },
          "metadata": {
            "tags": []
          },
          "execution_count": 405
        },
        {
          "output_type": "display_data",
          "data": {
            "image/png": "[encoded data removed]",
            "text/plain": [
              "<Figure size 1080x1080 with 2 Axes>"
            ]
          },
          "metadata": {
            "tags": [],
            "needs_background": "light"
          }
        }
      ]
    },
    {
      "cell_type": "code",
      "metadata": {
        "colab": {
          "base_uri": "https://localhost:8080/"
        },
        "id": "EaU4BrbNV7Nu",
        "outputId": "22c91882-659d-4374-f26e-f13dceaf9cae"
      },
      "source": [
        "#Significant Features in logit model\n",
        "import statsmodels.api as sm\n",
        "logit_model=sm.Logit(y,x)\n",
        "result=logit_model.fit()\n",
        "print(result.summary2())"
      ],
      "execution_count": 412,
      "outputs": [
        {
          "output_type": "stream",
          "text": [
            "Warning: Maximum number of iterations has been exceeded.\n",
            "         Current function value: 0.560398\n",
            "         Iterations: 35\n"
          ],
          "name": "stdout"
        },
        {
          "output_type": "stream",
          "text": [
            "/usr/local/lib/python3.6/dist-packages/statsmodels/base/model.py:512: ConvergenceWarning: Maximum Likelihood optimization failed to converge. Check mle_retvals\n",
            "  \"Check mle_retvals\", ConvergenceWarning)\n",
            "/usr/local/lib/python3.6/dist-packages/statsmodels/base/model.py:1286: RuntimeWarning: invalid value encountered in sqrt\n",
            "  bse_ = np.sqrt(np.diag(self.cov_params()))\n",
            "/usr/local/lib/python3.6/dist-packages/scipy/stats/_distn_infrastructure.py:903: RuntimeWarning: invalid value encountered in greater\n",
            "  return (a < x) & (x < b)\n",
            "/usr/local/lib/python3.6/dist-packages/scipy/stats/_distn_infrastructure.py:903: RuntimeWarning: invalid value encountered in less\n",
            "  return (a < x) & (x < b)\n",
            "/usr/local/lib/python3.6/dist-packages/scipy/stats/_distn_infrastructure.py:1912: RuntimeWarning: invalid value encountered in less_equal\n",
            "  cond2 = cond0 & (x <= _a)\n"
          ],
          "name": "stderr"
        },
        {
          "output_type": "stream",
          "text": [
            "                         Results: Logit\n",
            "=================================================================\n",
            "Model:              Logit            Pseudo R-squared: 0.191     \n",
            "Dependent Variable: cardio           AIC:              74510.9183\n",
            "Date:               2020-12-01 17:26 BIC:              74620.1704\n",
            "No. Observations:   66459            Log-Likelihood:   -37243.   \n",
            "Df Model:           11               LL-Null:          -46052.   \n",
            "Df Residuals:       66447            LLR p-value:      0.0000    \n",
            "Converged:          0.0000           Scale:            1.0000    \n",
            "No. Iterations:     35.0000                                      \n",
            "------------------------------------------------------------------\n",
            "              Coef.   Std.Err.     z      P>|z|    [0.025   0.975]\n",
            "------------------------------------------------------------------\n",
            "age           0.0001    0.0000   37.1192  0.0000   0.0001   0.0001\n",
            "gender        0.0103    0.0227    0.4542  0.6497  -0.0341   0.0548\n",
            "height       -0.0736    0.0008  -93.4497  0.0000  -0.0751  -0.0721\n",
            "weight        0.0878    0.0019   45.5267  0.0000   0.0840   0.0916\n",
            "ap_hi         0.0415       nan       nan     nan      nan      nan\n",
            "ap_lo         0.0255       nan       nan     nan      nan      nan\n",
            "cholesterol   0.4941    0.0159   30.9801  0.0000   0.4628   0.5253\n",
            "gluc         -0.1119    0.0181   -6.1862  0.0000  -0.1474  -0.0765\n",
            "smoke        -0.1574    0.0357   -4.4052  0.0000  -0.2275  -0.0874\n",
            "alco         -0.2235    0.0435   -5.1368  0.0000  -0.3088  -0.1382\n",
            "active       -0.2369    0.0223  -10.6307  0.0000  -0.2806  -0.1933\n",
            "bmi          -0.1986    0.0049  -40.5806  0.0000  -0.2082  -0.1890\n",
            "BP_diff       0.0154       nan       nan     nan      nan      nan\n",
            "=================================================================\n",
            "\n"
          ],
          "name": "stdout"
        }
      ]
    },
    {
      "cell_type": "code",
      "metadata": {
        "colab": {
          "base_uri": "https://localhost:8080/"
        },
        "id": "BDAyknKuB-K5",
        "outputId": "eb6c1797-df5a-4011-fc27-95d960215950"
      },
      "source": [
        "y = x[\"cardio\"]\n",
        "y.shape\n",
        "x.drop([\"cardio\"], axis=1,inplace=True)\n",
        "\n",
        "#To check if we have the same percentage of people with CVD in our data.\n",
        "#Since it's uniform we won't use stratify option in train_test split\n",
        "sum(y)/len(y)"
      ],
      "execution_count": 407,
      "outputs": [
        {
          "output_type": "execute_result",
          "data": {
            "text/plain": [
              "0.489805744895349"
            ]
          },
          "metadata": {
            "tags": []
          },
          "execution_count": 407
        }
      ]
    },
    {
      "cell_type": "code",
      "metadata": {
        "id": "oy7EFifYC0zQ"
      },
      "source": [
        "#train-test split\n",
        "from sklearn.model_selection import train_test_split\n",
        "x_train,x_test, y_train, y_test = train_test_split(x,y,test_size=0.2,random_state=42)\n",
        "#sum(y_train)/len(y_train)\n",
        "#sum(y_test)/len(y_test)\n"
      ],
      "execution_count": 419,
      "outputs": []
    },
    {
      "cell_type": "code",
      "metadata": {
        "id": "TnNWWAeGb0lu"
      },
      "source": [
        "#Normalization\n",
        "# x_train = normalize(x_train)\n",
        "# x_test = normalize(x_test)"
      ],
      "execution_count": null,
      "outputs": []
    },
    {
      "cell_type": "code",
      "metadata": {
        "colab": {
          "base_uri": "https://localhost:8080/",
          "height": 286
        },
        "id": "dKs59hCQO62G",
        "outputId": "7e5a72ea-109a-4cb6-f704-81047aaca515"
      },
      "source": [
        "x_train.drop([\"smoke\"], axis=1,inplace=True)\n",
        "x_train.drop([\"alco\"], axis=1,inplace=True)\n",
        "x_train.drop([\"height\"], axis=1,inplace=True)\n",
        "x_test.drop([\"smoke\"], axis=1,inplace=True)\n",
        "x_test.drop([\"alco\"], axis=1,inplace=True)\n",
        "x_test.drop([\"height\"], axis=1,inplace=True)\n",
        "#x_train.drop([\"gender\"], axis=1,inplace=True)\n",
        "x_train.head()"
      ],
      "execution_count": 420,
      "outputs": [
        {
          "output_type": "stream",
          "text": [
            "/usr/local/lib/python3.6/dist-packages/pandas/core/frame.py:4174: SettingWithCopyWarning: \n",
            "A value is trying to be set on a copy of a slice from a DataFrame\n",
            "\n",
            "See the caveats in the documentation: https://pandas.pydata.org/pandas-docs/stable/user_guide/indexing.html#returning-a-view-versus-a-copy\n",
            "  errors=errors,\n"
          ],
          "name": "stderr"
        },
        {
          "output_type": "execute_result",
          "data": {
            "text/html": [
              "<div>\n",
              "<style scoped>\n",
              "    .dataframe tbody tr th:only-of-type {\n",
              "        vertical-align: middle;\n",
              "    }\n",
              "\n",
              "    .dataframe tbody tr th {\n",
              "        vertical-align: top;\n",
              "    }\n",
              "\n",
              "    .dataframe thead th {\n",
              "        text-align: right;\n",
              "    }\n",
              "</style>\n",
              "<table border=\"1\" class=\"dataframe\">\n",
              "  <thead>\n",
              "    <tr style=\"text-align: right;\">\n",
              "      <th></th>\n",
              "      <th>age</th>\n",
              "      <th>gender</th>\n",
              "      <th>weight</th>\n",
              "      <th>ap_hi</th>\n",
              "      <th>ap_lo</th>\n",
              "      <th>cholesterol</th>\n",
              "      <th>gluc</th>\n",
              "      <th>active</th>\n",
              "      <th>bmi</th>\n",
              "      <th>BP_diff</th>\n",
              "    </tr>\n",
              "  </thead>\n",
              "  <tbody>\n",
              "    <tr>\n",
              "      <th>53867</th>\n",
              "      <td>23146</td>\n",
              "      <td>0</td>\n",
              "      <td>68.0</td>\n",
              "      <td>170</td>\n",
              "      <td>100</td>\n",
              "      <td>1</td>\n",
              "      <td>1</td>\n",
              "      <td>1</td>\n",
              "      <td>24.977043</td>\n",
              "      <td>70</td>\n",
              "    </tr>\n",
              "    <tr>\n",
              "      <th>15981</th>\n",
              "      <td>20995</td>\n",
              "      <td>1</td>\n",
              "      <td>62.0</td>\n",
              "      <td>100</td>\n",
              "      <td>60</td>\n",
              "      <td>1</td>\n",
              "      <td>1</td>\n",
              "      <td>1</td>\n",
              "      <td>23.051755</td>\n",
              "      <td>40</td>\n",
              "    </tr>\n",
              "    <tr>\n",
              "      <th>28297</th>\n",
              "      <td>21842</td>\n",
              "      <td>1</td>\n",
              "      <td>85.0</td>\n",
              "      <td>140</td>\n",
              "      <td>80</td>\n",
              "      <td>3</td>\n",
              "      <td>1</td>\n",
              "      <td>1</td>\n",
              "      <td>40.428062</td>\n",
              "      <td>60</td>\n",
              "    </tr>\n",
              "    <tr>\n",
              "      <th>23019</th>\n",
              "      <td>17686</td>\n",
              "      <td>1</td>\n",
              "      <td>61.0</td>\n",
              "      <td>120</td>\n",
              "      <td>80</td>\n",
              "      <td>1</td>\n",
              "      <td>1</td>\n",
              "      <td>1</td>\n",
              "      <td>20.861120</td>\n",
              "      <td>40</td>\n",
              "    </tr>\n",
              "    <tr>\n",
              "      <th>27297</th>\n",
              "      <td>16747</td>\n",
              "      <td>1</td>\n",
              "      <td>83.0</td>\n",
              "      <td>110</td>\n",
              "      <td>70</td>\n",
              "      <td>3</td>\n",
              "      <td>3</td>\n",
              "      <td>1</td>\n",
              "      <td>32.421875</td>\n",
              "      <td>40</td>\n",
              "    </tr>\n",
              "  </tbody>\n",
              "</table>\n",
              "</div>"
            ],
            "text/plain": [
              "         age  gender  weight  ap_hi  ...  gluc  active        bmi  BP_diff\n",
              "53867  23146       0    68.0    170  ...     1       1  24.977043       70\n",
              "15981  20995       1    62.0    100  ...     1       1  23.051755       40\n",
              "28297  21842       1    85.0    140  ...     1       1  40.428062       60\n",
              "23019  17686       1    61.0    120  ...     1       1  20.861120       40\n",
              "27297  16747       1    83.0    110  ...     3       1  32.421875       40\n",
              "\n",
              "[5 rows x 10 columns]"
            ]
          },
          "metadata": {
            "tags": []
          },
          "execution_count": 420
        }
      ]
    },
    {
      "cell_type": "code",
      "metadata": {
        "colab": {
          "base_uri": "https://localhost:8080/"
        },
        "id": "8nHshHjdcARD",
        "outputId": "2b786cab-b3dc-4c87-a245-b86c2e01b19d"
      },
      "source": [
        "#Using Random forest classifier for feature selection and removal of irrelavant variables.\n",
        "from sklearn.ensemble import RandomForestClassifier\n",
        "\n",
        "ran = RandomForestClassifier(n_estimators=100)\n",
        "ran.fit(x_train, y_train)\n",
        "\n",
        "# # Saving feature names for later use\n",
        "feature_list=x_train.columns.values.tolist()\n",
        "# Get numerical feature importances\n",
        "importances = list(ran.feature_importances_)\n",
        "# List of tuples with variable and importance\n",
        "feature_importances = [(feature, round(importance, 2)) for feature, importance in zip(feature_list, importances)]\n",
        "# Sort the feature importances by most important first\n",
        "feature_importances = sorted(feature_importances, key = lambda x: x[1], reverse = True)\n",
        "# Print out the feature and importances \n",
        "[print('Variable: {:20} Importance: {}'.format(*pair)) for pair in feature_importances];"
      ],
      "execution_count": 409,
      "outputs": [
        {
          "output_type": "stream",
          "text": [
            "Variable: age                  Importance: 0.26\n",
            "Variable: bmi                  Importance: 0.16\n",
            "Variable: ap_hi                Importance: 0.12\n",
            "Variable: height               Importance: 0.11\n",
            "Variable: weight               Importance: 0.11\n",
            "Variable: ap_lo                Importance: 0.07\n",
            "Variable: BP_diff              Importance: 0.06\n",
            "Variable: cholesterol          Importance: 0.04\n",
            "Variable: gender               Importance: 0.02\n",
            "Variable: gluc                 Importance: 0.02\n",
            "Variable: smoke                Importance: 0.01\n",
            "Variable: alco                 Importance: 0.01\n",
            "Variable: active               Importance: 0.01\n"
          ],
          "name": "stdout"
        }
      ]
    },
    {
      "cell_type": "markdown",
      "metadata": {
        "id": "DP72K7fbKWsm"
      },
      "source": [
        "###Model fitting"
      ]
    },
    {
      "cell_type": "code",
      "metadata": {
        "id": "RG0U-LBmt8bm",
        "colab": {
          "base_uri": "https://localhost:8080/",
          "height": 1000
        },
        "outputId": "7a960021-6423-42c3-d9e3-d1e1d3918bb9"
      },
      "source": [
        "dec = DecisionTreeClassifier()\n",
        "ran = RandomForestClassifier(n_estimators=100)\n",
        "knn = KNeighborsClassifier(n_neighbors=100)\n",
        "svm = SVC(random_state=1)\n",
        "naive = GaussianNB()\n",
        "logreg = lm.LogisticRegression(solver=\"liblinear\", max_iter=200)\n",
        "\n",
        "#models to be fitted\n",
        "#later part added AUC scores and plots for better evaluation\n",
        "models = {\"Decision tree\" : dec,\n",
        "          \"Random forest\" : ran,\n",
        "          \"KNN\" : knn,\n",
        "          \"SVM\" : svm,\n",
        "          \"Naive bayes\" : naive,\n",
        "          \"Logistic Regression\" : logreg}\n",
        "scores= { }\n",
        "auc={ }\n",
        "\n",
        "for key, value in models.items():    \n",
        "    model = value\n",
        "    model.fit(x_train, y_train)\n",
        "    scores[key] = model.score(x_test, y_test)\n",
        "    print(key)\n",
        "    print(\"Accuracy Score\", scores[key])\n",
        "\n",
        "    y_pred = model.predict(x_test)\n",
        "    cm = confusion_matrix(y_test, y_pred.round())\n",
        "    print(\"Confusion Matrix:\", \"\\n\", cm)\n",
        "\n",
        "    tpr, fpr, threshold = roc_curve(y_test, y_pred)\n",
        "    auc[key] = roc_auc_score(y_test, y_pred)\n",
        "    print(\"AUC Score\", auc[key])\n",
        "\n",
        "    plt.plot(tpr, fpr)\n",
        "    plt.show()"
      ],
      "execution_count": 421,
      "outputs": [
        {
          "output_type": "stream",
          "text": [
            "Decision tree\n",
            "Accuracy Score 0.6323352392416491\n",
            "Confusion Matrix: \n",
            " [[4330 2469]\n",
            " [2418 4075]]\n",
            "AUC Score 0.6322286571210328\n"
          ],
          "name": "stdout"
        },
        {
          "output_type": "display_data",
          "data": {
            "image/png": "[encoded data removed]",
            "text/plain": [
              "<Figure size 432x288 with 1 Axes>"
            ]
          },
          "metadata": {
            "tags": [],
            "needs_background": "light"
          }
        },
        {
          "output_type": "stream",
          "text": [
            "Random forest\n",
            "Accuracy Score 0.7065904303340355\n",
            "Confusion Matrix: \n",
            " [[4946 1853]\n",
            " [2047 4446]]\n",
            "AUC Score 0.7060986650472489\n"
          ],
          "name": "stdout"
        },
        {
          "output_type": "display_data",
          "data": {
            "image/png": "[encoded data removed]",
            "text/plain": [
              "<Figure size 432x288 with 1 Axes>"
            ]
          },
          "metadata": {
            "tags": [],
            "needs_background": "light"
          }
        },
        {
          "output_type": "stream",
          "text": [
            "KNN\n",
            "Accuracy Score 0.7071170628949744\n",
            "Confusion Matrix: \n",
            " [[5497 1302]\n",
            " [2591 3902]]\n",
            "AUC Score 0.7047280623320299\n"
          ],
          "name": "stdout"
        },
        {
          "output_type": "display_data",
          "data": {
            "image/png": "[encoded data removed]",
            "text/plain": [
              "<Figure size 432x288 with 1 Axes>"
            ]
          },
          "metadata": {
            "tags": [],
            "needs_background": "light"
          }
        },
        {
          "output_type": "stream",
          "text": [
            "SVM\n",
            "Accuracy Score 0.6093891062293109\n",
            "Confusion Matrix: \n",
            " [[4588 2211]\n",
            " [2981 3512]]\n",
            "AUC Score 0.6078476539172702\n"
          ],
          "name": "stdout"
        },
        {
          "output_type": "display_data",
          "data": {
            "image/png": "[encoded data removed]",
            "text/plain": [
              "<Figure size 432x288 with 1 Axes>"
            ]
          },
          "metadata": {
            "tags": [],
            "needs_background": "light"
          }
        },
        {
          "output_type": "stream",
          "text": [
            "Naive bayes\n",
            "Accuracy Score 0.7195305446885345\n",
            "Confusion Matrix: \n",
            " [[5587 1212]\n",
            " [2516 3977]]\n",
            "AUC Score 0.7171221332025187\n"
          ],
          "name": "stdout"
        },
        {
          "output_type": "display_data",
          "data": {
            "image/png": "[encoded data removed]",
            "text/plain": [
              "<Figure size 432x288 with 1 Axes>"
            ]
          },
          "metadata": {
            "tags": [],
            "needs_background": "light"
          }
        },
        {
          "output_type": "stream",
          "text": [
            "Logistic Regression\n",
            "Accuracy Score 0.7294613301233824\n",
            "Confusion Matrix: \n",
            " [[5424 1375]\n",
            " [2221 4272]]\n",
            "AUC Score 0.7278518481905922\n"
          ],
          "name": "stdout"
        },
        {
          "output_type": "display_data",
          "data": {
            "image/png": "[encoded data removed]",
            "text/plain": [
              "<Figure size 432x288 with 1 Axes>"
            ]
          },
          "metadata": {
            "tags": [],
            "needs_background": "light"
          }
        }
      ]
    },
    {
      "cell_type": "code",
      "metadata": {
        "id": "dZsxjViVLf-w",
        "colab": {
          "base_uri": "https://localhost:8080/"
        },
        "outputId": "5f050f3a-bbd7-4080-9581-cb8e63fde23c"
      },
      "source": [
        "scores"
      ],
      "execution_count": 422,
      "outputs": [
        {
          "output_type": "execute_result",
          "data": {
            "text/plain": [
              "{'Decision tree': 0.6323352392416491,\n",
              " 'KNN': 0.7071170628949744,\n",
              " 'Logistic Regression': 0.7294613301233824,\n",
              " 'Naive bayes': 0.7195305446885345,\n",
              " 'Random forest': 0.7065904303340355,\n",
              " 'SVM': 0.6093891062293109}"
            ]
          },
          "metadata": {
            "tags": []
          },
          "execution_count": 422
        }
      ]
    },
    {
      "cell_type": "code",
      "metadata": {
        "colab": {
          "base_uri": "https://localhost:8080/"
        },
        "id": "3dO4NP6SbrWC",
        "outputId": "707c0ea4-a4c2-4205-8cac-455530973e53"
      },
      "source": [
        "auc"
      ],
      "execution_count": 424,
      "outputs": [
        {
          "output_type": "execute_result",
          "data": {
            "text/plain": [
              "{'Decision tree': 0.6322286571210328,\n",
              " 'KNN': 0.7047280623320299,\n",
              " 'Logistic Regression': 0.7278518481905922,\n",
              " 'Naive bayes': 0.7171221332025187,\n",
              " 'Random forest': 0.7060986650472489,\n",
              " 'SVM': 0.6078476539172702}"
            ]
          },
          "metadata": {
            "tags": []
          },
          "execution_count": 424
        }
      ]
    },
    {
      "cell_type": "code",
      "metadata": {
        "id": "uLpidlZMaUXq",
        "colab": {
          "base_uri": "https://localhost:8080/",
          "height": 227
        },
        "outputId": "50c87864-f691-45ba-d529-fada3115b058"
      },
      "source": [
        "scores_frame = pd.DataFrame(scores, index=[\"Accuracy Score\"]).T\n",
        "scores_frame.sort_values(by=[\"Accuracy Score\"], axis=0 ,ascending=False, inplace=True)\n",
        "scores_frame"
      ],
      "execution_count": 423,
      "outputs": [
        {
          "output_type": "execute_result",
          "data": {
            "text/html": [
              "<div>\n",
              "<style scoped>\n",
              "    .dataframe tbody tr th:only-of-type {\n",
              "        vertical-align: middle;\n",
              "    }\n",
              "\n",
              "    .dataframe tbody tr th {\n",
              "        vertical-align: top;\n",
              "    }\n",
              "\n",
              "    .dataframe thead th {\n",
              "        text-align: right;\n",
              "    }\n",
              "</style>\n",
              "<table border=\"1\" class=\"dataframe\">\n",
              "  <thead>\n",
              "    <tr style=\"text-align: right;\">\n",
              "      <th></th>\n",
              "      <th>Accuracy Score</th>\n",
              "    </tr>\n",
              "  </thead>\n",
              "  <tbody>\n",
              "    <tr>\n",
              "      <th>Logistic Regression</th>\n",
              "      <td>0.729461</td>\n",
              "    </tr>\n",
              "    <tr>\n",
              "      <th>Naive bayes</th>\n",
              "      <td>0.719531</td>\n",
              "    </tr>\n",
              "    <tr>\n",
              "      <th>KNN</th>\n",
              "      <td>0.707117</td>\n",
              "    </tr>\n",
              "    <tr>\n",
              "      <th>Random forest</th>\n",
              "      <td>0.706590</td>\n",
              "    </tr>\n",
              "    <tr>\n",
              "      <th>Decision tree</th>\n",
              "      <td>0.632335</td>\n",
              "    </tr>\n",
              "    <tr>\n",
              "      <th>SVM</th>\n",
              "      <td>0.609389</td>\n",
              "    </tr>\n",
              "  </tbody>\n",
              "</table>\n",
              "</div>"
            ],
            "text/plain": [
              "                     Accuracy Score\n",
              "Logistic Regression        0.729461\n",
              "Naive bayes                0.719531\n",
              "KNN                        0.707117\n",
              "Random forest              0.706590\n",
              "Decision tree              0.632335\n",
              "SVM                        0.609389"
            ]
          },
          "metadata": {
            "tags": []
          },
          "execution_count": 423
        }
      ]
    },
    {
      "cell_type": "code",
      "metadata": {
        "id": "XFhEM8aNy7mD",
        "colab": {
          "base_uri": "https://localhost:8080/",
          "height": 457
        },
        "outputId": "7c9bacf5-3460-40f2-ca5b-d611949f5249"
      },
      "source": [
        "plt.figure(figsize=(6,6))\n",
        "sns.barplot(x=scores_frame.index,y=scores_frame[\"Accuracy Score\"])\n",
        "plt.xticks(rotation=45) \n",
        "# Rotation of model names..."
      ],
      "execution_count": 425,
      "outputs": [
        {
          "output_type": "execute_result",
          "data": {
            "text/plain": [
              "(array([0, 1, 2, 3, 4, 5]), <a list of 6 Text major ticklabel objects>)"
            ]
          },
          "metadata": {
            "tags": []
          },
          "execution_count": 425
        },
        {
          "output_type": "display_data",
          "data": {
            "image/png": "[encoded data removed]",
            "text/plain": [
              "<Figure size 432x432 with 1 Axes>"
            ]
          },
          "metadata": {
            "tags": [],
            "needs_background": "light"
          }
        }
      ]
    },
    {
      "cell_type": "markdown",
      "metadata": {
        "id": "BEysKZzsLmcm"
      },
      "source": [
        "###Optimization Techniques : Cross Validation & Parameter Tuning"
      ]
    },
    {
      "cell_type": "code",
      "metadata": {
        "id": "-uF_VWyG0B-y"
      },
      "source": [
        "#K Fold Cross Validation\n",
        "#With K-Fold cross-validation, we obtain \"K\" pieces of results from different mini-training sets from our main training set.\n",
        "#Then we choose the average of these results as the actual result.\n",
        "#After all, by taking the standard deviation of K result, we can examine whether the data is consistent.\n",
        "\n",
        "accuracies_log_reg = cross_val_score(estimator=logreg, X=x_train, y=y_train, cv=10)\n",
        "accuracies_random_forest = cross_val_score(estimator=ran, X=x_train, y=y_train, cv=10)\n",
        "accuracies_knn = cross_val_score(estimator=knn, X=x_train, y=y_train, cv=10)\n"
      ],
      "execution_count": 426,
      "outputs": []
    },
    {
      "cell_type": "code",
      "metadata": {
        "id": "kLQ1J0xCFZds",
        "colab": {
          "base_uri": "https://localhost:8080/"
        },
        "outputId": "5e36e01c-c7ec-4abd-cc23-934d17c6af6b"
      },
      "source": [
        "print(\"Random Forest Average accuracy: \", accuracies_random_forest.mean())\n",
        "print(\"Random Forest Standard Deviation: \", accuracies_random_forest.std())\n",
        "print(\"KNN Average accuracy: \", accuracies_knn.mean())\n",
        "print(\"KNN Standard Deviation: \", accuracies_knn.std())\n",
        "print(\"Logistic Regression Average accuracy: \", accuracies_log_reg.mean())\n",
        "print(\"Logistic Regression Standard Deviation: \", accuracies_log_reg.std())"
      ],
      "execution_count": 427,
      "outputs": [
        {
          "output_type": "stream",
          "text": [
            "Random Forest Average accuracy:  0.7105537514507253\n",
            "Random Forest Standard Deviation:  0.006390288738007732\n",
            "KNN Average accuracy:  0.7011304512847117\n",
            "KNN Standard Deviation:  0.005455356209562341\n",
            "Logistic Regression Average accuracy:  0.7266725070698314\n",
            "Logistic Regression Standard Deviation:  0.005558822728571465\n"
          ],
          "name": "stdout"
        }
      ]
    },
    {
      "cell_type": "code",
      "metadata": {
        "id": "u8NqxA0SGn7K",
        "colab": {
          "base_uri": "https://localhost:8080/"
        },
        "outputId": "07f83c4c-aa33-4d71-b50a-5c359f9b3214"
      },
      "source": [
        "#Let us use grid search algorithm, in order to find the best \n",
        "#Random Forest Algorithm's \"n_estimators\" hyperparameter value for our model, l\n",
        "# grid search cross validation with 1 hyperparameter \n",
        "\n",
        "grid = {\"n_estimators\" : np.arange(10,150,10)}\n",
        "\n",
        "ran_cv = GridSearchCV(ran, grid, cv=3) # GridSearchCV\n",
        "ran_cv.fit(x_train,y_train)# Fit\n",
        "\n",
        "# Print hyperparameter\n",
        "print(\"Tuned hyperparameter n_estimators: {}\".format(ran_cv.best_params_)) \n",
        "print(\"Best score: {}\".format(ran_cv.best_score_))\n"
      ],
      "execution_count": 428,
      "outputs": [
        {
          "output_type": "stream",
          "text": [
            "Tuned hyperparameter n_estimators: {'n_estimators': 130}\n",
            "Best score: 0.7107980742125957\n"
          ],
          "name": "stdout"
        }
      ]
    },
    {
      "cell_type": "code",
      "metadata": {
        "colab": {
          "base_uri": "https://localhost:8080/",
          "height": 354
        },
        "id": "qn0lD6ksgLO5",
        "outputId": "5cd31e1d-7daf-4326-d7e3-13db60f7c768"
      },
      "source": [
        "#Test Set Accuracy Score for Random forest¶\n",
        "#Now we have selected our model with better hyper parameters than default ones.\n",
        "#It is time to evaluate model with our test set\n",
        "ran_best = RandomForestClassifier(n_estimators=130)\n",
        "ran_best.fit(x_train, y_train)\n",
        "print(\"Test accuracy: \",ran_best.score(x_test, y_test))\n",
        "\n",
        "y_pred = ran_best.predict(x_test)\n",
        "cm = confusion_matrix(y_test, y_pred.round())\n",
        "print(\"Confusion Matrix:\", \"\\n\", cm)\n",
        "\n",
        "tpr, fpr, threshold = roc_curve(y_test, y_pred)\n",
        "auc = roc_auc_score(y_test, y_pred)\n",
        "print(\"AUC Score\", auc)\n",
        "\n",
        "plt.plot(tpr, fpr)\n",
        "plt.show()"
      ],
      "execution_count": 429,
      "outputs": [
        {
          "output_type": "stream",
          "text": [
            "Test accuracy:  0.7108787240445381\n",
            "Confusion Matrix: \n",
            " [[4977 1822]\n",
            " [2021 4472]]\n",
            "AUC Score 0.7103805682370509\n"
          ],
          "name": "stdout"
        },
        {
          "output_type": "display_data",
          "data": {
            "image/png": "[encoded data removed]",
            "text/plain": [
              "<Figure size 432x288 with 1 Axes>"
            ]
          },
          "metadata": {
            "tags": [],
            "needs_background": "light"
          }
        }
      ]
    },
    {
      "cell_type": "code",
      "metadata": {
        "id": "hMLrP100O0yn"
      },
      "source": [
        "#log_reg = LogisticRegression(solver=\"liblinear\", max_iter=200)\n",
        "grid = {\"penalty\" : [\"l1\", \"l2\"],\n",
        "         \"C\" : np.arange(60,80,2)} # (60,62,64 ... 78)\n",
        "log_reg_cv = GridSearchCV(logreg, grid, cv=3)\n",
        "log_reg_cv.fit(x_train, y_train)\n",
        "\n",
        "# Print hyperparameter\n",
        "print(\"Tuned hyperparameter n_estimators: {}\".format(log_reg_cv.best_params_)) \n",
        "print(\"Best score: {}\".format(log_reg_cv.best_score_))"
      ],
      "execution_count": null,
      "outputs": []
    },
    {
      "cell_type": "code",
      "metadata": {
        "id": "8xxQ-R5ePDwl"
      },
      "source": [
        "#Test Set Accuracy Score ¶\n",
        "#Now we have selected our model with better hyper parameters than default ones.\n",
        "#It is time to evaluate model with our test set\n",
        "logreg_best = LogisticRegression(C=74, penalty=\"l1\", solver=\"liblinear\")\n",
        "logreg_best.fit(x_train, y_train)\n",
        "print(\"Test accuracy: \",logreg_best.score(x_test, y_test))\n",
        "\n",
        "y_pred = logreg_best.predict(x_test)\n",
        "cm = confusion_matrix(y_test, y_pred.round())\n",
        "print(\"Confusion Matrix:\", \"\\n\", cm)\n",
        "\n",
        "tpr, fpr, threshold = roc_curve(y_test, y_pred)\n",
        "auc = roc_auc_score(y_test, y_pred)\n",
        "print(\"AUC Score\", auc)\n",
        "\n",
        "plt.plot(tpr, fpr)\n",
        "plt.show()"
      ],
      "execution_count": null,
      "outputs": []
    },
    {
      "cell_type": "code",
      "metadata": {
        "id": "FVw1DKFsmhrK"
      },
      "source": [
        "# chk=logreg_best.fit(x_train, y_train)\n",
        "# print(chk.summary())\n"
      ],
      "execution_count": null,
      "outputs": []
    },
    {
      "cell_type": "code",
      "metadata": {
        "id": "U9089WZYkiCx"
      },
      "source": [
        "# Get numerical feature importances\n",
        "importances = list(logreg_best.coef_[0])\n",
        "# List of tuples with variable and importance\n",
        "feature_importances = [(feature, round(importance, 2)) for feature, importance in zip(feature_list, importances)]\n",
        "# Sort the feature importances by most important first\n",
        "feature_importances = sorted(feature_importances, key = lambda x: x[1], reverse = True)\n",
        "# Print out the feature and importances \n",
        "[print('Variable: {:20} Importance: {}'.format(*pair)) for pair in feature_importances];"
      ],
      "execution_count": null,
      "outputs": []
    },
    {
      "cell_type": "code",
      "metadata": {
        "id": "qcdYCKgYPjzB"
      },
      "source": [
        "#Plotting confusion matrix for logistic\n",
        "y_true = y_test\n",
        "#y_pred = logreg_best.predict(x_test)\n",
        "from sklearn.metrics import confusion_matrix\n",
        "cm = confusion_matrix(y_true, y_pred)\n",
        "f, ax = plt.subplots(figsize=(5,5))\n",
        "sns.heatmap(cm,fmt=\".0f\", annot=True,linewidths=0.2, linecolor=\"purple\", ax=ax)\n",
        "plt.xlabel(\"Predicted\")\n",
        "plt.ylabel(\"Grand Truth\")\n",
        "plt.show()"
      ],
      "execution_count": null,
      "outputs": []
    },
    {
      "cell_type": "code",
      "metadata": {
        "id": "C9jaJ3HsPyO3"
      },
      "source": [
        "TN = cm[0,0]\n",
        "TP = cm[1,1]\n",
        "FN = cm[1,0]\n",
        "FP = cm[0,1]\n",
        "Precision = TP/(TP+FP)\n",
        "Recall = TP/(TP+FN)\n",
        "F1_Score = 2*(Recall * Precision) / (Recall + Precision)\n",
        "pd.DataFrame([[Precision, Recall, F1_Score]],columns=[\"Precision\", \"Recall\", \"F1 Score\"], index=[\"Results\"])\n",
        "#High precision relates to the low false positive rate\n",
        "#High recall relates to the low false negative rate\n"
      ],
      "execution_count": null,
      "outputs": []
    },
    {
      "cell_type": "code",
      "metadata": {
        "id": "KanvzOXuKwbY"
      },
      "source": [
        "def print_score(clf, X_train, y_train, X_test, y_test, train=True):\n",
        "    if train:\n",
        "        pred = clf.predict(X_train)\n",
        "        clf_report = pd.DataFrame(classification_report(y_train, pred, output_dict=True))\n",
        "        print(\"Train Result:\\n================================================\")\n",
        "        print(f\"Accuracy Score: {accuracy_score(y_train, pred) * 100:.2f}%\")\n",
        "        print(\"_______________________________________________\")\n",
        "        print(f\"CLASSIFICATION REPORT:\\n{clf_report}\")\n",
        "        print(\"_______________________________________________\")\n",
        "        print(f\"Confusion Matrix: \\n {confusion_matrix(y_train, pred)}\\n\")\n",
        "        \n",
        "    elif train==False:\n",
        "        pred = clf.predict(X_test)\n",
        "        clf_report = pd.DataFrame(classification_report(y_test, pred, output_dict=True))\n",
        "        print(\"Test Result:\\n================================================\")        \n",
        "        print(f\"Accuracy Score: {accuracy_score(y_test, pred) * 100:.2f}%\")\n",
        "        print(\"_______________________________________________\")\n",
        "        print(f\"CLASSIFICATION REPORT:\\n{clf_report}\")\n",
        "        print(\"_______________________________________________\")\n",
        "        print(f\"Confusion Matrix: \\n {confusion_matrix(y_test, pred)}\\n\")\n"
      ],
      "execution_count": null,
      "outputs": []
    },
    {
      "cell_type": "code",
      "metadata": {
        "id": "AyX3X0XoCYmI"
      },
      "source": [
        "#XGBoost simple model fit\n",
        "\n",
        "xgb_clf = XGBClassifier()\n",
        "xgb_clf.fit(x_train, y_train)\n",
        "\n",
        "print_score(xgb_clf, x_train, y_train, x_test, y_test, train=True)\n",
        "print_score(xgb_clf, x_train, y_train, x_test, y_test, train=False)\n",
        "\n",
        "y_pred = xgb_clf.predict(x_test)\n",
        "\n",
        "tpr, fpr, threshold = roc_curve(y_test, y_pred)\n",
        "auc_score = roc_auc_score(y_test, y_pred)\n",
        "print(\"AUC-score:\", auc_score)\n",
        "\n",
        "%matplotlib inline\n",
        "import matplotlib.pyplot as plt\n",
        "\n",
        "plt.plot(tpr, fpr)\n",
        "plt.show()"
      ],
      "execution_count": null,
      "outputs": []
    },
    {
      "cell_type": "code",
      "metadata": {
        "id": "dByIMS6iJP2T"
      },
      "source": [
        "#Hyper-Parameter tuning using GridSearchCV\n",
        "##Round 1\n",
        "# param_grid= {\n",
        "#     'max_depth' : [3,4,5],\n",
        "#     'learning_rate': [0.1,0.01,0.05],\n",
        "#     'gamma':[0,0.25,1.0],\n",
        "#     'reg_lambda': [0,1.0,10.0]\n",
        "# }\n",
        "#Tuned hyperparameter n_estimators: {'gamma': 0.25, 'learning_rate': 0.1, 'max_depth': 5, 'reg_lambda': 10.0}\n",
        "#Best score: 0.7979720547889348\n",
        "\n",
        "##Round 2\n",
        "param_grid= {\n",
        "    'max_depth' : [5,6,7],\n",
        "    'learning_rate': [0.1,0.5,1],\n",
        "    'gamma':[0.25],\n",
        "    'reg_lambda': [10.0,20,100]\n",
        "}\n",
        "# Tuned hyperparameter n_estimators: {'gamma': 0.25, 'learning_rate': 0.1, 'max_depth': 5, 'reg_lambda': 10.0}\n",
        "# Best score: 0.7979720547889348\n",
        "#To speed up cross validation and to prevent overfitting we use random subset of data (90%) and of features (50%) per tree.\n",
        "XGB_grid= GridSearchCV(estimator=XGBClassifier(objective='binary:logistic', \n",
        "                                               seed=42,\n",
        "                                               subsample=0.9,\n",
        "                                               colsample_bytree=0.5),\n",
        "                       param_grid=param_grid,\n",
        "                       scoring='roc_auc',\n",
        "                       verbose=0,\n",
        "                       n_jobs=10,\n",
        "                       cv=3\n",
        "                       )\n",
        "best_xgb.fit(x_train, y_train)\n",
        "\n",
        "# Print hyperparameter\n",
        "print(\"Tuned hyperparameter n_estimators: {}\".format(best_xgb.best_params_)) \n",
        "print(\"Best score: {}\".format(best_xgb.best_score_))"
      ],
      "execution_count": null,
      "outputs": []
    },
    {
      "cell_type": "code",
      "metadata": {
        "id": "ItlDLRxf5awC"
      },
      "source": [
        "#Test Set Accuracy Score ¶\n",
        "#Now we have selected our model with better hyper parameters than default ones.\n",
        "#It is time to evaluate model with our test set\n",
        "Xgb_best = XGBClassifier(seed=42 ,\n",
        "                         objective='binary:logistic',\n",
        "                         gamma= 0.25, \n",
        "                         learning_rate= 0.1,\n",
        "                         max_depth = 5,\n",
        "                         reg_lambda = 10.0,\n",
        "                         subsample=0.9,\n",
        "                         colsample_bytree=0.5)\n",
        "\n",
        "Xgb_best.fit(x_train,\n",
        "             y_train,\n",
        "             early_stopping_rounds=10,\n",
        "             eval_metric='aucpr',\n",
        "             eval_set=[(x_test,y_test)])\n",
        "\n",
        "\n"
      ],
      "execution_count": null,
      "outputs": []
    },
    {
      "cell_type": "code",
      "metadata": {
        "id": "p2QLUKOB79eD"
      },
      "source": [
        "print(\"Test accuracy: \",Xgb_best.score(x_test, y_test))\n",
        "\n",
        "y_pred = Xgb_best.predict(x_test)\n",
        "cm = confusion_matrix(y_test, y_pred.round())\n",
        "print(\"Confusion Matrix:\", \"\\n\", cm)\n",
        "\n",
        "tpr, fpr, threshold = roc_curve(y_test, y_pred)\n",
        "auc = roc_auc_score(y_test, y_pred)\n",
        "print(\"AUC Score\", auc)\n",
        "\n",
        "plt.plot(tpr, fpr)\n",
        "plt.show()"
      ],
      "execution_count": null,
      "outputs": []
    },
    {
      "cell_type": "code",
      "metadata": {
        "id": "4Hqi9uGt8kOV"
      },
      "source": [
        "#Plotting the confusion matrix\n",
        "from sklearn.metrics import plot_confusion_matrix\n",
        "plot_confusion_matrix(Xgb_best,x_test,y_test,values_format=\"d\",display_labels=[\"CVD\",\"No CVD\"])"
      ],
      "execution_count": null,
      "outputs": []
    },
    {
      "cell_type": "code",
      "metadata": {
        "id": "-HpOZ5uB-eKz"
      },
      "source": [
        "#Plotting the Decision Tree\n",
        "import xgboost as xgb\n",
        "\n",
        "# bst=Xgb_best.get_booster()\n",
        "# for importance_type in (\"weight\" , \"gain\", \"cover\", \"total_gain\", \"total_cover\"):\n",
        "#   print('%s: ' % importance_type, bst.get_score(importance_type=importance_type)))\n",
        "node_params={\"shape\" : \"box\",\n",
        "             \"style\": \"filled,rounded\",\n",
        "             \"fillcolor\": \"#78cbe\"}\n",
        "\n",
        "leaf_params={\"shape\" : \"box\",\n",
        "             \"style\": \"filled,rounded\",\n",
        "             \"fillcolor\": \"#e48038\"}\n",
        "\n",
        "xgb.to_graphviz(Xgb_best,num_trees=0,size=\"40,40\",\n",
        "                condition_node_params=node_params,\n",
        "                leaf_node_params=leaf_params)"
      ],
      "execution_count": null,
      "outputs": []
    },
    {
      "cell_type": "code",
      "metadata": {
        "id": "cj3ItgO6NZp7"
      },
      "source": [
        "# #Optimising upon lowering false negatives i.e. improving recall.\n",
        "# from sklearn.model_selection import StratifiedKFold\n",
        "\n",
        "# #The scorers dictionary can be used as the scoring argument in GridSearchCV. \n",
        "# #When multiple scores are passed, GridSearchCV.cv_results_ will return scoring metrics for each of the score types provided.\n",
        "# scorers = {\n",
        "#     'precision_score': make_scorer(precision_score),\n",
        "#     'recall_score': make_scorer(recall_score),\n",
        "#     'accuracy_score': make_scorer(accuracy_score)\n",
        "# }\n",
        "\n",
        "# #random forests have many tunable parameters, which make it suitable for GridSearchCV\n",
        "# param_grid = {\n",
        "#     'min_samples_split': [3, 5, 10], \n",
        "#     'n_estimators' : [100, 300],\n",
        "#     'max_depth': [3, 5, 15, 25],\n",
        "#     'max_features': [3, 5, 10, 20]\n",
        "# }\n",
        "\n",
        "# #The function below uses GridSearchCV to fit several classifiers according to the combinations of parameters in the param_grid. \n",
        "# #The scores from scorers are recorded and the best model (as scored by the refit argument) will be selected and \"refit\" to the full training data for downstream use. \n",
        "# #This also makes predictions on the held out X_test and prints the confusion matrix to show performance.\n",
        "# def grid_search_wrapper(refit_score='recall_score'):\n",
        "#     \"\"\"\n",
        "#     fits a GridSearchCV classifier using refit_score for optimization\n",
        "#     prints classifier performance metrics\n",
        "#     \"\"\"\n",
        "#     skf = StratifiedKFold(n_splits=10)\n",
        "#     grid_search = GridSearchCV(ran, param_grid, scoring=scorers, refit=refit_score,\n",
        "#                            cv=skf, return_train_score=True, n_jobs=-1)\n",
        "#     grid_search.fit(x_train, y_train)\n",
        "\n",
        "#     # make the predictions\n",
        "#     y_pred = grid_search.predict(x_test.values)\n",
        "\n",
        "#     print('Best params for {}'.format(refit_score))\n",
        "#     print(grid_search.best_params_)\n",
        "\n",
        "#     # confusion matrix on the test data.\n",
        "#     print('\\nConfusion matrix of Random Forest optimized for {} on the test data:'.format(refit_score))\n",
        "#     print(pd.DataFrame(confusion_matrix(y_test, y_pred),\n",
        "#                  columns=['pred_neg', 'pred_pos'], index=['neg', 'pos']))\n",
        "#     return grid_search\n",
        "\n",
        "# grid_search_clf = grid_search_wrapper(refit_score='recall_score')\n"
      ],
      "execution_count": null,
      "outputs": []
    }
  ]
}