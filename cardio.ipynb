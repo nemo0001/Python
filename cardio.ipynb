{
  "nbformat": 4,
  "nbformat_minor": 0,
  "metadata": {
    "colab": {
      "name": "cardio.ipynb",
      "provenance": [],
      "collapsed_sections": [],
      "include_colab_link": true
    },
    "kernelspec": {
      "name": "python3",
      "display_name": "Python 3"
    }
  },
  "cells": [
    {
      "cell_type": "markdown",
      "metadata": {
        "id": "view-in-github",
        "colab_type": "text"
      },
      "source": [
        "<a href=\"https://colab.research.google.com/github/nemo0001/Python/blob/master/cardio.ipynb\" target=\"_parent\"><img src=\"https://colab.research.google.com/assets/colab-badge.svg\" alt=\"Open In Colab\"/></a>"
      ]
    },
    {
      "cell_type": "code",
      "metadata": {
        "id": "Kihic6cAq5Pp",
        "colab": {
          "resources": {
            "http://localhost:8080/nbextensions/google.colab/files.js": {
              "data": "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",
              "ok": true,
              "headers": [
                [
                  "content-type",
                  "application/javascript"
                ]
              ],
              "status": 200,
              "status_text": ""
            }
          },
          "base_uri": "https://localhost:8080/",
          "height": 91
        },
        "outputId": "98913657-b8ec-4c8c-b10e-80d75019a2fe"
      },
      "source": [
        "#getting the data from PC\n",
        "\n",
        "from google.colab import files\n",
        "\n",
        "uploaded = files.upload()\n",
        "\n",
        "for fn in uploaded.keys():\n",
        "  print('User uploaded file \"{name}\" with length {length} bytes'.format(\n",
        "      name=fn, length=len(uploaded[fn])))"
      ],
      "execution_count": 48,
      "outputs": [
        {
          "output_type": "display_data",
          "data": {
            "text/html": [
              "\n",
              "     <input type=\"file\" id=\"files-0a35b84d-59db-4227-abfb-329375ebc2f9\" name=\"files[]\" multiple disabled\n",
              "        style=\"border:none\" />\n",
              "     <output id=\"result-0a35b84d-59db-4227-abfb-329375ebc2f9\">\n",
              "      Upload widget is only available when the cell has been executed in the\n",
              "      current browser session. Please rerun this cell to enable.\n",
              "      </output>\n",
              "      <script src=\"/nbextensions/google.colab/files.js\"></script> "
            ],
            "text/plain": [
              "<IPython.core.display.HTML object>"
            ]
          },
          "metadata": {
            "tags": []
          }
        },
        {
          "output_type": "stream",
          "text": [
            "Saving cardio_train.csv to cardio_train (2).csv\n",
            "User uploaded file \"cardio_train.csv\" with length 2941524 bytes\n"
          ],
          "name": "stdout"
        }
      ]
    },
    {
      "cell_type": "code",
      "metadata": {
        "id": "eOi95F4Hq9ZL"
      },
      "source": [
        "import numpy as np # linear algebra\n",
        "import pandas as pd # data processing, CSV file I/O (e.g. pd.read_csv)\n",
        "from matplotlib import pyplot as plt\n",
        "import tensorflow as tf\n",
        "from tensorflow.keras.optimizers import RMSprop,Nadam,Adadelta,Adam\n",
        "from tensorflow.keras.layers import BatchNormalization,LeakyReLU\n",
        "from tensorflow.keras.callbacks import ReduceLROnPlateau, EarlyStopping\n",
        "import seaborn as sns\n",
        "import scipy.stats as stats\n",
        "import sklearn\n",
        "import os\n",
        "\n",
        "from sklearn.metrics import roc_curve, roc_auc_score,precision_recall_curve, auc, make_scorer, recall_score, accuracy_score, precision_score, confusion_matrix\n",
        "%matplotlib inline\n",
        "import matplotlib.pyplot as plt\n"
      ],
      "execution_count": 49,
      "outputs": []
    },
    {
      "cell_type": "code",
      "metadata": {
        "id": "H3f0RqPlxm-a",
        "colab": {
          "base_uri": "https://localhost:8080/",
          "height": 197
        },
        "outputId": "18392897-e4e0-4a88-ca8d-c28f1094e10e"
      },
      "source": [
        "data_raw=pd.read_csv(\"cardio_train.csv\",sep=\";\")\n",
        "data_raw.head()"
      ],
      "execution_count": 50,
      "outputs": [
        {
          "output_type": "execute_result",
          "data": {
            "text/html": [
              "<div>\n",
              "<style scoped>\n",
              "    .dataframe tbody tr th:only-of-type {\n",
              "        vertical-align: middle;\n",
              "    }\n",
              "\n",
              "    .dataframe tbody tr th {\n",
              "        vertical-align: top;\n",
              "    }\n",
              "\n",
              "    .dataframe thead th {\n",
              "        text-align: right;\n",
              "    }\n",
              "</style>\n",
              "<table border=\"1\" class=\"dataframe\">\n",
              "  <thead>\n",
              "    <tr style=\"text-align: right;\">\n",
              "      <th></th>\n",
              "      <th>id</th>\n",
              "      <th>age</th>\n",
              "      <th>gender</th>\n",
              "      <th>height</th>\n",
              "      <th>weight</th>\n",
              "      <th>ap_hi</th>\n",
              "      <th>ap_lo</th>\n",
              "      <th>cholesterol</th>\n",
              "      <th>gluc</th>\n",
              "      <th>smoke</th>\n",
              "      <th>alco</th>\n",
              "      <th>active</th>\n",
              "      <th>cardio</th>\n",
              "    </tr>\n",
              "  </thead>\n",
              "  <tbody>\n",
              "    <tr>\n",
              "      <th>0</th>\n",
              "      <td>0</td>\n",
              "      <td>18393</td>\n",
              "      <td>2</td>\n",
              "      <td>168</td>\n",
              "      <td>62.0</td>\n",
              "      <td>110</td>\n",
              "      <td>80</td>\n",
              "      <td>1</td>\n",
              "      <td>1</td>\n",
              "      <td>0</td>\n",
              "      <td>0</td>\n",
              "      <td>1</td>\n",
              "      <td>0</td>\n",
              "    </tr>\n",
              "    <tr>\n",
              "      <th>1</th>\n",
              "      <td>1</td>\n",
              "      <td>20228</td>\n",
              "      <td>1</td>\n",
              "      <td>156</td>\n",
              "      <td>85.0</td>\n",
              "      <td>140</td>\n",
              "      <td>90</td>\n",
              "      <td>3</td>\n",
              "      <td>1</td>\n",
              "      <td>0</td>\n",
              "      <td>0</td>\n",
              "      <td>1</td>\n",
              "      <td>1</td>\n",
              "    </tr>\n",
              "    <tr>\n",
              "      <th>2</th>\n",
              "      <td>2</td>\n",
              "      <td>18857</td>\n",
              "      <td>1</td>\n",
              "      <td>165</td>\n",
              "      <td>64.0</td>\n",
              "      <td>130</td>\n",
              "      <td>70</td>\n",
              "      <td>3</td>\n",
              "      <td>1</td>\n",
              "      <td>0</td>\n",
              "      <td>0</td>\n",
              "      <td>0</td>\n",
              "      <td>1</td>\n",
              "    </tr>\n",
              "    <tr>\n",
              "      <th>3</th>\n",
              "      <td>3</td>\n",
              "      <td>17623</td>\n",
              "      <td>2</td>\n",
              "      <td>169</td>\n",
              "      <td>82.0</td>\n",
              "      <td>150</td>\n",
              "      <td>100</td>\n",
              "      <td>1</td>\n",
              "      <td>1</td>\n",
              "      <td>0</td>\n",
              "      <td>0</td>\n",
              "      <td>1</td>\n",
              "      <td>1</td>\n",
              "    </tr>\n",
              "    <tr>\n",
              "      <th>4</th>\n",
              "      <td>4</td>\n",
              "      <td>17474</td>\n",
              "      <td>1</td>\n",
              "      <td>156</td>\n",
              "      <td>56.0</td>\n",
              "      <td>100</td>\n",
              "      <td>60</td>\n",
              "      <td>1</td>\n",
              "      <td>1</td>\n",
              "      <td>0</td>\n",
              "      <td>0</td>\n",
              "      <td>0</td>\n",
              "      <td>0</td>\n",
              "    </tr>\n",
              "  </tbody>\n",
              "</table>\n",
              "</div>"
            ],
            "text/plain": [
              "   id    age  gender  height  weight  ...  gluc  smoke  alco  active  cardio\n",
              "0   0  18393       2     168    62.0  ...     1      0     0       1       0\n",
              "1   1  20228       1     156    85.0  ...     1      0     0       1       1\n",
              "2   2  18857       1     165    64.0  ...     1      0     0       0       1\n",
              "3   3  17623       2     169    82.0  ...     1      0     0       1       1\n",
              "4   4  17474       1     156    56.0  ...     1      0     0       0       0\n",
              "\n",
              "[5 rows x 13 columns]"
            ]
          },
          "metadata": {
            "tags": []
          },
          "execution_count": 50
        }
      ]
    },
    {
      "cell_type": "code",
      "metadata": {
        "id": "PuTcgdcNyKVN",
        "colab": {
          "base_uri": "https://localhost:8080/"
        },
        "outputId": "ed0b4469-6720-4909-975e-3ed0a7a4c3f0"
      },
      "source": [
        "data_raw.info()"
      ],
      "execution_count": 51,
      "outputs": [
        {
          "output_type": "stream",
          "text": [
            "<class 'pandas.core.frame.DataFrame'>\n",
            "RangeIndex: 70000 entries, 0 to 69999\n",
            "Data columns (total 13 columns):\n",
            " #   Column       Non-Null Count  Dtype  \n",
            "---  ------       --------------  -----  \n",
            " 0   id           70000 non-null  int64  \n",
            " 1   age          70000 non-null  int64  \n",
            " 2   gender       70000 non-null  int64  \n",
            " 3   height       70000 non-null  int64  \n",
            " 4   weight       70000 non-null  float64\n",
            " 5   ap_hi        70000 non-null  int64  \n",
            " 6   ap_lo        70000 non-null  int64  \n",
            " 7   cholesterol  70000 non-null  int64  \n",
            " 8   gluc         70000 non-null  int64  \n",
            " 9   smoke        70000 non-null  int64  \n",
            " 10  alco         70000 non-null  int64  \n",
            " 11  active       70000 non-null  int64  \n",
            " 12  cardio       70000 non-null  int64  \n",
            "dtypes: float64(1), int64(12)\n",
            "memory usage: 6.9 MB\n"
          ],
          "name": "stdout"
        }
      ]
    },
    {
      "cell_type": "code",
      "metadata": {
        "id": "BKIN9A1Byn82"
      },
      "source": [
        "data_raw.drop(\"id\",axis=1,inplace=True)"
      ],
      "execution_count": 52,
      "outputs": []
    },
    {
      "cell_type": "code",
      "metadata": {
        "id": "iwG-4_sBQkIS",
        "colab": {
          "base_uri": "https://localhost:8080/"
        },
        "outputId": "1d6baf52-a9e2-4614-d982-b0d0159baf16"
      },
      "source": [
        "#handling duplicate values\n",
        "print(\"There is {} duplicated values in data frame\".format(data_raw.duplicated().sum()))"
      ],
      "execution_count": 53,
      "outputs": [
        {
          "output_type": "stream",
          "text": [
            "There is 24 duplicated values in data frame\n"
          ],
          "name": "stdout"
        }
      ]
    },
    {
      "cell_type": "code",
      "metadata": {
        "id": "AY4zrOP7RI_i",
        "colab": {
          "base_uri": "https://localhost:8080/",
          "height": 107
        },
        "outputId": "7299b07c-4ffa-4283-c90d-c66ca22388d9"
      },
      "source": [
        "#We can drop the duplicates because they have no effect on training of model.\n",
        "#Firstly let us see the duplicated rows with eyes.\n",
        "duplicated = data_raw[data_raw.duplicated(keep=False)]\n",
        "duplicated = duplicated.sort_values(by=['age', \"gender\", \"height\"], ascending= False) \n",
        "# I sorted the values to see duplication clearly\n",
        "\n",
        "duplicated.head(2) # Show us just 1 duplication of 24\n",
        "\n",
        "#duplicated() method helps in analyzing duplicate values only. \n",
        "#It returns a boolean series which is True only for Unique elements."
      ],
      "execution_count": 54,
      "outputs": [
        {
          "output_type": "execute_result",
          "data": {
            "text/html": [
              "<div>\n",
              "<style scoped>\n",
              "    .dataframe tbody tr th:only-of-type {\n",
              "        vertical-align: middle;\n",
              "    }\n",
              "\n",
              "    .dataframe tbody tr th {\n",
              "        vertical-align: top;\n",
              "    }\n",
              "\n",
              "    .dataframe thead th {\n",
              "        text-align: right;\n",
              "    }\n",
              "</style>\n",
              "<table border=\"1\" class=\"dataframe\">\n",
              "  <thead>\n",
              "    <tr style=\"text-align: right;\">\n",
              "      <th></th>\n",
              "      <th>age</th>\n",
              "      <th>gender</th>\n",
              "      <th>height</th>\n",
              "      <th>weight</th>\n",
              "      <th>ap_hi</th>\n",
              "      <th>ap_lo</th>\n",
              "      <th>cholesterol</th>\n",
              "      <th>gluc</th>\n",
              "      <th>smoke</th>\n",
              "      <th>alco</th>\n",
              "      <th>active</th>\n",
              "      <th>cardio</th>\n",
              "    </tr>\n",
              "  </thead>\n",
              "  <tbody>\n",
              "    <tr>\n",
              "      <th>2677</th>\n",
              "      <td>22077</td>\n",
              "      <td>1</td>\n",
              "      <td>175</td>\n",
              "      <td>69.0</td>\n",
              "      <td>120</td>\n",
              "      <td>80</td>\n",
              "      <td>1</td>\n",
              "      <td>1</td>\n",
              "      <td>0</td>\n",
              "      <td>0</td>\n",
              "      <td>1</td>\n",
              "      <td>1</td>\n",
              "    </tr>\n",
              "    <tr>\n",
              "      <th>45748</th>\n",
              "      <td>22077</td>\n",
              "      <td>1</td>\n",
              "      <td>175</td>\n",
              "      <td>69.0</td>\n",
              "      <td>120</td>\n",
              "      <td>80</td>\n",
              "      <td>1</td>\n",
              "      <td>1</td>\n",
              "      <td>0</td>\n",
              "      <td>0</td>\n",
              "      <td>1</td>\n",
              "      <td>1</td>\n",
              "    </tr>\n",
              "  </tbody>\n",
              "</table>\n",
              "</div>"
            ],
            "text/plain": [
              "         age  gender  height  weight  ap_hi  ...  gluc  smoke  alco  active  cardio\n",
              "2677   22077       1     175    69.0    120  ...     1      0     0       1       1\n",
              "45748  22077       1     175    69.0    120  ...     1      0     0       1       1\n",
              "\n",
              "[2 rows x 12 columns]"
            ]
          },
          "metadata": {
            "tags": []
          },
          "execution_count": 54
        }
      ]
    },
    {
      "cell_type": "code",
      "metadata": {
        "id": "yidbVkrYa3DW",
        "colab": {
          "base_uri": "https://localhost:8080/"
        },
        "outputId": "69336268-a00c-4663-88c6-64990213ac81"
      },
      "source": [
        "data_raw.drop_duplicates(inplace=True)\n",
        "#Return DataFrame with duplicate rows removed, optionally only considering certain columns.\n",
        "#keep : {‘first’, ‘last’, False}, default ‘first’\n",
        "\n",
        "print(\"There is {} duplicated values in data frame\".format(data_raw.duplicated().sum()))"
      ],
      "execution_count": 55,
      "outputs": [
        {
          "output_type": "stream",
          "text": [
            "There is 0 duplicated values in data frame\n"
          ],
          "name": "stdout"
        }
      ]
    },
    {
      "cell_type": "code",
      "metadata": {
        "id": "kZAlFzfye3ec",
        "colab": {
          "base_uri": "https://localhost:8080/"
        },
        "outputId": "a0cf33fb-ebad-4c38-bd57-f92daf305d9b"
      },
      "source": [
        "print(\"There is {} missing values in data frame\".format(data_raw.isnull().sum().sum()))"
      ],
      "execution_count": 56,
      "outputs": [
        {
          "output_type": "stream",
          "text": [
            "There is 0 missing values in data frame\n"
          ],
          "name": "stdout"
        }
      ]
    },
    {
      "cell_type": "code",
      "metadata": {
        "id": "y18JTuKpe7_I",
        "colab": {
          "base_uri": "https://localhost:8080/",
          "height": 307
        },
        "outputId": "621cd441-8eb3-4dbf-eb04-78cb436ae8a8"
      },
      "source": [
        "#VISUALIZATION\n",
        "#Detecting Outliers \n",
        "#Detecting outlier and handling them can increase our accuracy score.\n",
        "x = data_raw.copy(deep=True)\n",
        "x.describe()"
      ],
      "execution_count": 57,
      "outputs": [
        {
          "output_type": "execute_result",
          "data": {
            "text/html": [
              "<div>\n",
              "<style scoped>\n",
              "    .dataframe tbody tr th:only-of-type {\n",
              "        vertical-align: middle;\n",
              "    }\n",
              "\n",
              "    .dataframe tbody tr th {\n",
              "        vertical-align: top;\n",
              "    }\n",
              "\n",
              "    .dataframe thead th {\n",
              "        text-align: right;\n",
              "    }\n",
              "</style>\n",
              "<table border=\"1\" class=\"dataframe\">\n",
              "  <thead>\n",
              "    <tr style=\"text-align: right;\">\n",
              "      <th></th>\n",
              "      <th>age</th>\n",
              "      <th>gender</th>\n",
              "      <th>height</th>\n",
              "      <th>weight</th>\n",
              "      <th>ap_hi</th>\n",
              "      <th>ap_lo</th>\n",
              "      <th>cholesterol</th>\n",
              "      <th>gluc</th>\n",
              "      <th>smoke</th>\n",
              "      <th>alco</th>\n",
              "      <th>active</th>\n",
              "      <th>cardio</th>\n",
              "    </tr>\n",
              "  </thead>\n",
              "  <tbody>\n",
              "    <tr>\n",
              "      <th>count</th>\n",
              "      <td>69976.000000</td>\n",
              "      <td>69976.000000</td>\n",
              "      <td>69976.000000</td>\n",
              "      <td>69976.000000</td>\n",
              "      <td>69976.000000</td>\n",
              "      <td>69976.000000</td>\n",
              "      <td>69976.000000</td>\n",
              "      <td>69976.000000</td>\n",
              "      <td>69976.000000</td>\n",
              "      <td>69976.000000</td>\n",
              "      <td>69976.000000</td>\n",
              "      <td>69976.000000</td>\n",
              "    </tr>\n",
              "    <tr>\n",
              "      <th>mean</th>\n",
              "      <td>19468.950126</td>\n",
              "      <td>1.349648</td>\n",
              "      <td>164.359152</td>\n",
              "      <td>74.208519</td>\n",
              "      <td>128.820453</td>\n",
              "      <td>96.636261</td>\n",
              "      <td>1.366997</td>\n",
              "      <td>1.226535</td>\n",
              "      <td>0.088159</td>\n",
              "      <td>0.053790</td>\n",
              "      <td>0.803718</td>\n",
              "      <td>0.499771</td>\n",
              "    </tr>\n",
              "    <tr>\n",
              "      <th>std</th>\n",
              "      <td>2467.374620</td>\n",
              "      <td>0.476862</td>\n",
              "      <td>8.211218</td>\n",
              "      <td>14.397211</td>\n",
              "      <td>154.037729</td>\n",
              "      <td>188.504581</td>\n",
              "      <td>0.680333</td>\n",
              "      <td>0.572353</td>\n",
              "      <td>0.283528</td>\n",
              "      <td>0.225604</td>\n",
              "      <td>0.397187</td>\n",
              "      <td>0.500004</td>\n",
              "    </tr>\n",
              "    <tr>\n",
              "      <th>min</th>\n",
              "      <td>10798.000000</td>\n",
              "      <td>1.000000</td>\n",
              "      <td>55.000000</td>\n",
              "      <td>10.000000</td>\n",
              "      <td>-150.000000</td>\n",
              "      <td>-70.000000</td>\n",
              "      <td>1.000000</td>\n",
              "      <td>1.000000</td>\n",
              "      <td>0.000000</td>\n",
              "      <td>0.000000</td>\n",
              "      <td>0.000000</td>\n",
              "      <td>0.000000</td>\n",
              "    </tr>\n",
              "    <tr>\n",
              "      <th>25%</th>\n",
              "      <td>17664.000000</td>\n",
              "      <td>1.000000</td>\n",
              "      <td>159.000000</td>\n",
              "      <td>65.000000</td>\n",
              "      <td>120.000000</td>\n",
              "      <td>80.000000</td>\n",
              "      <td>1.000000</td>\n",
              "      <td>1.000000</td>\n",
              "      <td>0.000000</td>\n",
              "      <td>0.000000</td>\n",
              "      <td>1.000000</td>\n",
              "      <td>0.000000</td>\n",
              "    </tr>\n",
              "    <tr>\n",
              "      <th>50%</th>\n",
              "      <td>19703.000000</td>\n",
              "      <td>1.000000</td>\n",
              "      <td>165.000000</td>\n",
              "      <td>72.000000</td>\n",
              "      <td>120.000000</td>\n",
              "      <td>80.000000</td>\n",
              "      <td>1.000000</td>\n",
              "      <td>1.000000</td>\n",
              "      <td>0.000000</td>\n",
              "      <td>0.000000</td>\n",
              "      <td>1.000000</td>\n",
              "      <td>0.000000</td>\n",
              "    </tr>\n",
              "    <tr>\n",
              "      <th>75%</th>\n",
              "      <td>21327.000000</td>\n",
              "      <td>2.000000</td>\n",
              "      <td>170.000000</td>\n",
              "      <td>82.000000</td>\n",
              "      <td>140.000000</td>\n",
              "      <td>90.000000</td>\n",
              "      <td>2.000000</td>\n",
              "      <td>1.000000</td>\n",
              "      <td>0.000000</td>\n",
              "      <td>0.000000</td>\n",
              "      <td>1.000000</td>\n",
              "      <td>1.000000</td>\n",
              "    </tr>\n",
              "    <tr>\n",
              "      <th>max</th>\n",
              "      <td>23713.000000</td>\n",
              "      <td>2.000000</td>\n",
              "      <td>250.000000</td>\n",
              "      <td>200.000000</td>\n",
              "      <td>16020.000000</td>\n",
              "      <td>11000.000000</td>\n",
              "      <td>3.000000</td>\n",
              "      <td>3.000000</td>\n",
              "      <td>1.000000</td>\n",
              "      <td>1.000000</td>\n",
              "      <td>1.000000</td>\n",
              "      <td>1.000000</td>\n",
              "    </tr>\n",
              "  </tbody>\n",
              "</table>\n",
              "</div>"
            ],
            "text/plain": [
              "                age        gender  ...        active        cardio\n",
              "count  69976.000000  69976.000000  ...  69976.000000  69976.000000\n",
              "mean   19468.950126      1.349648  ...      0.803718      0.499771\n",
              "std     2467.374620      0.476862  ...      0.397187      0.500004\n",
              "min    10798.000000      1.000000  ...      0.000000      0.000000\n",
              "25%    17664.000000      1.000000  ...      1.000000      0.000000\n",
              "50%    19703.000000      1.000000  ...      1.000000      0.000000\n",
              "75%    21327.000000      2.000000  ...      1.000000      1.000000\n",
              "max    23713.000000      2.000000  ...      1.000000      1.000000\n",
              "\n",
              "[8 rows x 12 columns]"
            ]
          },
          "metadata": {
            "tags": []
          },
          "execution_count": 57
        }
      ]
    },
    {
      "cell_type": "code",
      "metadata": {
        "id": "jrIJ7xHsfjs_",
        "colab": {
          "base_uri": "https://localhost:8080/",
          "height": 197
        },
        "outputId": "5b73eccf-eb2e-4aed-ad1e-92135411cdd6"
      },
      "source": [
        "#Columns of \"age\", \"height\", \"weight\", \"ap_hi\", \"ap_lo\" may have outlier.\n",
        "#In order to compare them on same scale we need to standardize firstly.\n",
        "#My Standard Scalar Function\n",
        "s_list = [\"age\", \"height\", \"weight\", \"ap_hi\", \"ap_lo\"]\n",
        "def standartization(x):\n",
        "    x_std = x.copy(deep=True)\n",
        "    for column in s_list:\n",
        "        x_std[column] = (x_std[column]-x_std[column].mean())/x_std[column].std()\n",
        "    return x_std \n",
        "x_std=standartization(x)\n",
        "x_std.head()"
      ],
      "execution_count": 58,
      "outputs": [
        {
          "output_type": "execute_result",
          "data": {
            "text/html": [
              "<div>\n",
              "<style scoped>\n",
              "    .dataframe tbody tr th:only-of-type {\n",
              "        vertical-align: middle;\n",
              "    }\n",
              "\n",
              "    .dataframe tbody tr th {\n",
              "        vertical-align: top;\n",
              "    }\n",
              "\n",
              "    .dataframe thead th {\n",
              "        text-align: right;\n",
              "    }\n",
              "</style>\n",
              "<table border=\"1\" class=\"dataframe\">\n",
              "  <thead>\n",
              "    <tr style=\"text-align: right;\">\n",
              "      <th></th>\n",
              "      <th>age</th>\n",
              "      <th>gender</th>\n",
              "      <th>height</th>\n",
              "      <th>weight</th>\n",
              "      <th>ap_hi</th>\n",
              "      <th>ap_lo</th>\n",
              "      <th>cholesterol</th>\n",
              "      <th>gluc</th>\n",
              "      <th>smoke</th>\n",
              "      <th>alco</th>\n",
              "      <th>active</th>\n",
              "      <th>cardio</th>\n",
              "    </tr>\n",
              "  </thead>\n",
              "  <tbody>\n",
              "    <tr>\n",
              "      <th>0</th>\n",
              "      <td>-0.436071</td>\n",
              "      <td>2</td>\n",
              "      <td>0.443399</td>\n",
              "      <td>-0.847978</td>\n",
              "      <td>-0.122181</td>\n",
              "      <td>-0.088254</td>\n",
              "      <td>1</td>\n",
              "      <td>1</td>\n",
              "      <td>0</td>\n",
              "      <td>0</td>\n",
              "      <td>1</td>\n",
              "      <td>0</td>\n",
              "    </tr>\n",
              "    <tr>\n",
              "      <th>1</th>\n",
              "      <td>0.307635</td>\n",
              "      <td>1</td>\n",
              "      <td>-1.018016</td>\n",
              "      <td>0.749554</td>\n",
              "      <td>0.072577</td>\n",
              "      <td>-0.035205</td>\n",
              "      <td>3</td>\n",
              "      <td>1</td>\n",
              "      <td>0</td>\n",
              "      <td>0</td>\n",
              "      <td>1</td>\n",
              "      <td>1</td>\n",
              "    </tr>\n",
              "    <tr>\n",
              "      <th>2</th>\n",
              "      <td>-0.248017</td>\n",
              "      <td>1</td>\n",
              "      <td>0.078045</td>\n",
              "      <td>-0.709062</td>\n",
              "      <td>0.007658</td>\n",
              "      <td>-0.141303</td>\n",
              "      <td>3</td>\n",
              "      <td>1</td>\n",
              "      <td>0</td>\n",
              "      <td>0</td>\n",
              "      <td>0</td>\n",
              "      <td>1</td>\n",
              "    </tr>\n",
              "    <tr>\n",
              "      <th>3</th>\n",
              "      <td>-0.748143</td>\n",
              "      <td>2</td>\n",
              "      <td>0.565184</td>\n",
              "      <td>0.541180</td>\n",
              "      <td>0.137496</td>\n",
              "      <td>0.017844</td>\n",
              "      <td>1</td>\n",
              "      <td>1</td>\n",
              "      <td>0</td>\n",
              "      <td>0</td>\n",
              "      <td>1</td>\n",
              "      <td>1</td>\n",
              "    </tr>\n",
              "    <tr>\n",
              "      <th>4</th>\n",
              "      <td>-0.808532</td>\n",
              "      <td>1</td>\n",
              "      <td>-1.018016</td>\n",
              "      <td>-1.264725</td>\n",
              "      <td>-0.187100</td>\n",
              "      <td>-0.194352</td>\n",
              "      <td>1</td>\n",
              "      <td>1</td>\n",
              "      <td>0</td>\n",
              "      <td>0</td>\n",
              "      <td>0</td>\n",
              "      <td>0</td>\n",
              "    </tr>\n",
              "  </tbody>\n",
              "</table>\n",
              "</div>"
            ],
            "text/plain": [
              "        age  gender    height    weight  ...  smoke  alco  active  cardio\n",
              "0 -0.436071       2  0.443399 -0.847978  ...      0     0       1       0\n",
              "1  0.307635       1 -1.018016  0.749554  ...      0     0       1       1\n",
              "2 -0.248017       1  0.078045 -0.709062  ...      0     0       0       1\n",
              "3 -0.748143       2  0.565184  0.541180  ...      0     0       1       1\n",
              "4 -0.808532       1 -1.018016 -1.264725  ...      0     0       0       0\n",
              "\n",
              "[5 rows x 12 columns]"
            ]
          },
          "metadata": {
            "tags": []
          },
          "execution_count": 58
        }
      ]
    },
    {
      "cell_type": "code",
      "metadata": {
        "id": "7OOvxD2wi3nM",
        "colab": {
          "base_uri": "https://localhost:8080/",
          "height": 406
        },
        "outputId": "d093051f-f06d-49b8-e2bc-5a2dcea36f18"
      },
      "source": [
        "#Visualization\n",
        "#In order to use the multi box graph plot we need to melt out data.\n",
        "x_melted = pd.melt(frame=x_std, id_vars=\"cardio\", value_vars=s_list, var_name=\"features\", value_name=\"value\", col_level=None)\n",
        "x_melted\n",
        "\n",
        "#melt() function is useful to massage a DataFrame into a format where one or more columns are identifier variables, while all other columns, \n",
        "#considered measured variables, are unpivoted to the row axis, leaving just two non-identifier columns, variable and value."
      ],
      "execution_count": 59,
      "outputs": [
        {
          "output_type": "execute_result",
          "data": {
            "text/html": [
              "<div>\n",
              "<style scoped>\n",
              "    .dataframe tbody tr th:only-of-type {\n",
              "        vertical-align: middle;\n",
              "    }\n",
              "\n",
              "    .dataframe tbody tr th {\n",
              "        vertical-align: top;\n",
              "    }\n",
              "\n",
              "    .dataframe thead th {\n",
              "        text-align: right;\n",
              "    }\n",
              "</style>\n",
              "<table border=\"1\" class=\"dataframe\">\n",
              "  <thead>\n",
              "    <tr style=\"text-align: right;\">\n",
              "      <th></th>\n",
              "      <th>cardio</th>\n",
              "      <th>features</th>\n",
              "      <th>value</th>\n",
              "    </tr>\n",
              "  </thead>\n",
              "  <tbody>\n",
              "    <tr>\n",
              "      <th>0</th>\n",
              "      <td>0</td>\n",
              "      <td>age</td>\n",
              "      <td>-0.436071</td>\n",
              "    </tr>\n",
              "    <tr>\n",
              "      <th>1</th>\n",
              "      <td>1</td>\n",
              "      <td>age</td>\n",
              "      <td>0.307635</td>\n",
              "    </tr>\n",
              "    <tr>\n",
              "      <th>2</th>\n",
              "      <td>1</td>\n",
              "      <td>age</td>\n",
              "      <td>-0.248017</td>\n",
              "    </tr>\n",
              "    <tr>\n",
              "      <th>3</th>\n",
              "      <td>1</td>\n",
              "      <td>age</td>\n",
              "      <td>-0.748143</td>\n",
              "    </tr>\n",
              "    <tr>\n",
              "      <th>4</th>\n",
              "      <td>0</td>\n",
              "      <td>age</td>\n",
              "      <td>-0.808532</td>\n",
              "    </tr>\n",
              "    <tr>\n",
              "      <th>...</th>\n",
              "      <td>...</td>\n",
              "      <td>...</td>\n",
              "      <td>...</td>\n",
              "    </tr>\n",
              "    <tr>\n",
              "      <th>349875</th>\n",
              "      <td>0</td>\n",
              "      <td>ap_lo</td>\n",
              "      <td>-0.088254</td>\n",
              "    </tr>\n",
              "    <tr>\n",
              "      <th>349876</th>\n",
              "      <td>1</td>\n",
              "      <td>ap_lo</td>\n",
              "      <td>-0.035205</td>\n",
              "    </tr>\n",
              "    <tr>\n",
              "      <th>349877</th>\n",
              "      <td>1</td>\n",
              "      <td>ap_lo</td>\n",
              "      <td>-0.035205</td>\n",
              "    </tr>\n",
              "    <tr>\n",
              "      <th>349878</th>\n",
              "      <td>1</td>\n",
              "      <td>ap_lo</td>\n",
              "      <td>-0.088254</td>\n",
              "    </tr>\n",
              "    <tr>\n",
              "      <th>349879</th>\n",
              "      <td>0</td>\n",
              "      <td>ap_lo</td>\n",
              "      <td>-0.088254</td>\n",
              "    </tr>\n",
              "  </tbody>\n",
              "</table>\n",
              "<p>349880 rows × 3 columns</p>\n",
              "</div>"
            ],
            "text/plain": [
              "        cardio features     value\n",
              "0            0      age -0.436071\n",
              "1            1      age  0.307635\n",
              "2            1      age -0.248017\n",
              "3            1      age -0.748143\n",
              "4            0      age -0.808532\n",
              "...        ...      ...       ...\n",
              "349875       0    ap_lo -0.088254\n",
              "349876       1    ap_lo -0.035205\n",
              "349877       1    ap_lo -0.035205\n",
              "349878       1    ap_lo -0.088254\n",
              "349879       0    ap_lo -0.088254\n",
              "\n",
              "[349880 rows x 3 columns]"
            ]
          },
          "metadata": {
            "tags": []
          },
          "execution_count": 59
        }
      ]
    },
    {
      "cell_type": "code",
      "metadata": {
        "id": "FSiiKJZqlLgx",
        "colab": {
          "base_uri": "https://localhost:8080/",
          "height": 647
        },
        "outputId": "39ba00f2-faf3-4a7f-8de2-5e872b687896"
      },
      "source": [
        "plt.figure(figsize=(10,10))\n",
        "sns.boxplot(x=\"features\", y=\"value\", hue=\"cardio\", data=x_melted)\n",
        "plt.xticks(rotation=90)"
      ],
      "execution_count": 60,
      "outputs": [
        {
          "output_type": "execute_result",
          "data": {
            "text/plain": [
              "(array([0, 1, 2, 3, 4]), <a list of 5 Text major ticklabel objects>)"
            ]
          },
          "metadata": {
            "tags": []
          },
          "execution_count": 60
        },
        {
          "output_type": "display_data",
          "data": {
            "image/png": "[encoded data removed]",
            "text/plain": [
              "<Figure size 720x720 with 1 Axes>"
            ]
          },
          "metadata": {
            "tags": [],
            "needs_background": "light"
          }
        }
      ]
    },
    {
      "cell_type": "code",
      "metadata": {
        "id": "RrGqHmJAltS0",
        "colab": {
          "base_uri": "https://localhost:8080/",
          "height": 107
        },
        "outputId": "36f056aa-f568-4f10-8e67-254b2164e731"
      },
      "source": [
        "#There are some outliers in the dataset, but as seen above there is an unusual outlier in ap_hi and ap_lo features.\n",
        "#Let us calculate the low bound and hi bound of ap_lo and ap_hi features\n",
        "ap_list = [\"ap_hi\", \"ap_lo\",\"height\",\"weight\"]\n",
        "boundary = pd.DataFrame(index=[\"lower_bound\",\"upper_bound\"]) # We created an empty dataframe\n",
        "for each in ap_list:\n",
        "    Q1 = x[each].quantile(0.25)\n",
        "    Q3 = x[each].quantile(0.75)\n",
        "    IQR = Q3 - Q1\n",
        "\n",
        "    lower_bound = Q1- 1.5*IQR\n",
        "    upper_bound = Q3 + 1.5*IQR\n",
        "    boundary[each] = [lower_bound, upper_bound ]\n",
        "boundary"
      ],
      "execution_count": 61,
      "outputs": [
        {
          "output_type": "execute_result",
          "data": {
            "text/html": [
              "<div>\n",
              "<style scoped>\n",
              "    .dataframe tbody tr th:only-of-type {\n",
              "        vertical-align: middle;\n",
              "    }\n",
              "\n",
              "    .dataframe tbody tr th {\n",
              "        vertical-align: top;\n",
              "    }\n",
              "\n",
              "    .dataframe thead th {\n",
              "        text-align: right;\n",
              "    }\n",
              "</style>\n",
              "<table border=\"1\" class=\"dataframe\">\n",
              "  <thead>\n",
              "    <tr style=\"text-align: right;\">\n",
              "      <th></th>\n",
              "      <th>ap_hi</th>\n",
              "      <th>ap_lo</th>\n",
              "      <th>height</th>\n",
              "      <th>weight</th>\n",
              "    </tr>\n",
              "  </thead>\n",
              "  <tbody>\n",
              "    <tr>\n",
              "      <th>lower_bound</th>\n",
              "      <td>90.0</td>\n",
              "      <td>65.0</td>\n",
              "      <td>142.5</td>\n",
              "      <td>39.5</td>\n",
              "    </tr>\n",
              "    <tr>\n",
              "      <th>upper_bound</th>\n",
              "      <td>170.0</td>\n",
              "      <td>105.0</td>\n",
              "      <td>186.5</td>\n",
              "      <td>107.5</td>\n",
              "    </tr>\n",
              "  </tbody>\n",
              "</table>\n",
              "</div>"
            ],
            "text/plain": [
              "             ap_hi  ap_lo  height  weight\n",
              "lower_bound   90.0   65.0   142.5    39.5\n",
              "upper_bound  170.0  105.0   186.5   107.5"
            ]
          },
          "metadata": {
            "tags": []
          },
          "execution_count": 61
        }
      ]
    },
    {
      "cell_type": "code",
      "metadata": {
        "id": "wM1cq4o_6P4k",
        "colab": {
          "base_uri": "https://localhost:8080/"
        },
        "outputId": "c34d0c03-bd17-4e91-8704-7d6fefd9d513"
      },
      "source": [
        "#We can select the index of outlier data by using boundaries we calculated.\n",
        "#Normally we should analyze both upper outliers and below outliers but in this case, I consider to handle \n",
        "#just uppers because of their extremely higher values.\n",
        "ap_hi_filter = (x[\"ap_hi\"] > boundary[\"ap_hi\"][1])\n",
        "ap_lo_filter = (x[\"ap_lo\"] > boundary[\"ap_lo\"][1])                                                           \n",
        "outlier_filter = (ap_hi_filter | ap_lo_filter)\n",
        "x_outliers = x[outlier_filter]\n",
        "x_outliers[\"cardio\"].value_counts()"
      ],
      "execution_count": 62,
      "outputs": [
        {
          "output_type": "execute_result",
          "data": {
            "text/plain": [
              "1    2025\n",
              "0     388\n",
              "Name: cardio, dtype: int64"
            ]
          },
          "metadata": {
            "tags": []
          },
          "execution_count": 62
        }
      ]
    },
    {
      "cell_type": "code",
      "metadata": {
        "id": "Qyq2C27O_xPW",
        "colab": {
          "base_uri": "https://localhost:8080/",
          "height": 297
        },
        "outputId": "bcd5f60c-dc39-4a6e-95ec-804b4d7804c5"
      },
      "source": [
        "#Cardiovascular disease is present in 83 percent of the ap_hi and ap_lo outlier data,\n",
        "#Because of ap_hi and ap_lo symbolizes high blood pressure, the high rate of disease is consistent with real life.\n",
        "#For this reason, I decided to drop just medically impossible data from the dataset.\n",
        "#And I have dropped some of data because we have sufficent data (70000) otherwise I would try to handle them by assigning new values.\n",
        "sns.countplot(x='cardio',data=x_outliers,linewidth=2,edgecolor=sns.color_palette(\"dark\", 1))"
      ],
      "execution_count": 63,
      "outputs": [
        {
          "output_type": "execute_result",
          "data": {
            "text/plain": [
              "<matplotlib.axes._subplots.AxesSubplot at 0x7f1f35fccb38>"
            ]
          },
          "metadata": {
            "tags": []
          },
          "execution_count": 63
        },
        {
          "output_type": "display_data",
          "data": {
            "image/png": "[encoded data removed]",
            "text/plain": [
              "<Figure size 432x288 with 1 Axes>"
            ]
          },
          "metadata": {
            "tags": [],
            "needs_background": "light"
          }
        }
      ]
    },
    {
      "cell_type": "code",
      "metadata": {
        "id": "4-dzBu6YB-Ko",
        "colab": {
          "base_uri": "https://localhost:8080/"
        },
        "outputId": "bce3c66e-3297-4259-d00f-ab59d319a48b"
      },
      "source": [
        "#A study published by doctors in NCBI NLM recorded a maximum blood pressure of 370/360 mm Hg. This study was performed by recording blood pressure in 10 male athletes through radial artery catheterization.\n",
        "#Thus we can drop the ap_hi outlier values over 250 and ap_lo outlier values over 200, without fear of missing data.\n",
        "out_filter_bp = ((x[\"ap_hi\"]>250) | (x[\"ap_lo\"]>200) )\n",
        "print(\"There is {} outlier\".format(x[out_filter_bp][\"cardio\"].count()))\n",
        "\n",
        "#We remove lower and higher outliers for height and weight\n",
        "ht_filter = (x[\"height\"] > boundary[\"height\"][1])\n",
        "ht_filter_l = (x[\"height\"] < boundary[\"height\"][0])\n",
        "wt_filter = (x[\"weight\"] > boundary[\"weight\"][1])\n",
        "wt_filter_l = (x[\"weight\"] < boundary[\"weight\"][0])                                                           \n",
        "outlier_filter_hw = (ht_filter | wt_filter|ht_filter_l|wt_filter_l)\n",
        "x_outliers_hw = x[outlier_filter_hw]\n",
        "x_outliers_hw[\"cardio\"].value_counts()\n",
        "\n",
        "out_filter_h = ((x[\"height\"] > boundary[\"height\"][1]) | (x[\"height\"] < boundary[\"height\"][0]))\n",
        "out_filter_w = ((x[\"weight\"] > boundary[\"weight\"][1]) | (x[\"weight\"] < boundary[\"weight\"][0]))\n",
        "print(\"There is {} outlier\".format(x[out_filter_h][\"cardio\"].count()))\n",
        "print(\"There is {} outlier\".format(x[out_filter_w][\"cardio\"].count()))\n"
      ],
      "execution_count": 64,
      "outputs": [
        {
          "output_type": "stream",
          "text": [
            "There is 993 outlier\n",
            "There is 519 outlier\n",
            "There is 1819 outlier\n"
          ],
          "name": "stdout"
        }
      ]
    },
    {
      "cell_type": "code",
      "metadata": {
        "id": "esdTZRM8yoxh",
        "colab": {
          "base_uri": "https://localhost:8080/"
        },
        "outputId": "e891e345-fd47-4901-a281-7cceaac89c31"
      },
      "source": [
        "x = x[~out_filter_bp]\n",
        "x=x[~out_filter_h]\n",
        "x=x[~out_filter_w]\n",
        "\n",
        "#Higher diastolic than systolic blood pressure is impossible, too. So let's remove these.\n",
        "x.drop(x[x[\"ap_lo\"] > x[\"ap_hi\"]].index, inplace=True)\n",
        "x.drop(x[x[\"ap_lo\"] <= 30].index, inplace=True)\n",
        "x.drop(x[x[\"ap_hi\"] <= 40].index, inplace=True)\n",
        "x.drop(x[x[\"ap_lo\"] >= 200].index, inplace=True)\n",
        "x.drop(x[x[\"ap_hi\"] >= 250].index, inplace=True)\n",
        "\n",
        "x.shape"
      ],
      "execution_count": 65,
      "outputs": [
        {
          "output_type": "stream",
          "text": [
            "/usr/local/lib/python3.6/dist-packages/ipykernel_launcher.py:2: UserWarning: Boolean Series key will be reindexed to match DataFrame index.\n",
            "  \n",
            "/usr/local/lib/python3.6/dist-packages/ipykernel_launcher.py:3: UserWarning: Boolean Series key will be reindexed to match DataFrame index.\n",
            "  This is separate from the ipykernel package so we can avoid doing imports until\n"
          ],
          "name": "stderr"
        },
        {
          "output_type": "execute_result",
          "data": {
            "text/plain": [
              "(66459, 12)"
            ]
          },
          "metadata": {
            "tags": []
          },
          "execution_count": 65
        }
      ]
    },
    {
      "cell_type": "code",
      "metadata": {
        "id": "DlMLCKboCCeY",
        "colab": {
          "base_uri": "https://localhost:8080/",
          "height": 1000
        },
        "outputId": "84969d3c-018d-4767-ad86-d8424d778884"
      },
      "source": [
        "\n",
        "corr = x.corr()\n",
        "f, ax = plt.subplots(figsize = (15,15))\n",
        "sns.heatmap(corr, annot=True, fmt=\".3f\", linewidths=0.5, ax=ax)\n",
        "corr\n",
        "\n",
        "#We can see from correlation map easily; cholesterol, blood pressure (ap_hi and ap_low both) and age have a powerful relationship with cardiovascular diseases.\n",
        "#Glucogen and cholesterol have a strong relationship among them either."
      ],
      "execution_count": 66,
      "outputs": [
        {
          "output_type": "execute_result",
          "data": {
            "text/html": [
              "<div>\n",
              "<style scoped>\n",
              "    .dataframe tbody tr th:only-of-type {\n",
              "        vertical-align: middle;\n",
              "    }\n",
              "\n",
              "    .dataframe tbody tr th {\n",
              "        vertical-align: top;\n",
              "    }\n",
              "\n",
              "    .dataframe thead th {\n",
              "        text-align: right;\n",
              "    }\n",
              "</style>\n",
              "<table border=\"1\" class=\"dataframe\">\n",
              "  <thead>\n",
              "    <tr style=\"text-align: right;\">\n",
              "      <th></th>\n",
              "      <th>age</th>\n",
              "      <th>gender</th>\n",
              "      <th>height</th>\n",
              "      <th>weight</th>\n",
              "      <th>ap_hi</th>\n",
              "      <th>ap_lo</th>\n",
              "      <th>cholesterol</th>\n",
              "      <th>gluc</th>\n",
              "      <th>smoke</th>\n",
              "      <th>alco</th>\n",
              "      <th>active</th>\n",
              "      <th>cardio</th>\n",
              "    </tr>\n",
              "  </thead>\n",
              "  <tbody>\n",
              "    <tr>\n",
              "      <th>age</th>\n",
              "      <td>1.000000</td>\n",
              "      <td>-0.021335</td>\n",
              "      <td>-0.085890</td>\n",
              "      <td>0.068481</td>\n",
              "      <td>0.213281</td>\n",
              "      <td>0.160724</td>\n",
              "      <td>0.157028</td>\n",
              "      <td>0.098836</td>\n",
              "      <td>-0.044958</td>\n",
              "      <td>-0.027551</td>\n",
              "      <td>-0.011062</td>\n",
              "      <td>0.243087</td>\n",
              "    </tr>\n",
              "    <tr>\n",
              "      <th>gender</th>\n",
              "      <td>-0.021335</td>\n",
              "      <td>1.000000</td>\n",
              "      <td>0.519479</td>\n",
              "      <td>0.162291</td>\n",
              "      <td>0.061069</td>\n",
              "      <td>0.065718</td>\n",
              "      <td>-0.038693</td>\n",
              "      <td>-0.022920</td>\n",
              "      <td>0.339302</td>\n",
              "      <td>0.170253</td>\n",
              "      <td>0.007178</td>\n",
              "      <td>0.004527</td>\n",
              "    </tr>\n",
              "    <tr>\n",
              "      <th>height</th>\n",
              "      <td>-0.085890</td>\n",
              "      <td>0.519479</td>\n",
              "      <td>1.000000</td>\n",
              "      <td>0.310426</td>\n",
              "      <td>0.009114</td>\n",
              "      <td>0.027818</td>\n",
              "      <td>-0.064388</td>\n",
              "      <td>-0.026080</td>\n",
              "      <td>0.193968</td>\n",
              "      <td>0.094535</td>\n",
              "      <td>-0.007460</td>\n",
              "      <td>-0.019020</td>\n",
              "    </tr>\n",
              "    <tr>\n",
              "      <th>weight</th>\n",
              "      <td>0.068481</td>\n",
              "      <td>0.162291</td>\n",
              "      <td>0.310426</td>\n",
              "      <td>1.000000</td>\n",
              "      <td>0.255413</td>\n",
              "      <td>0.242734</td>\n",
              "      <td>0.130159</td>\n",
              "      <td>0.091228</td>\n",
              "      <td>0.063305</td>\n",
              "      <td>0.064226</td>\n",
              "      <td>-0.015015</td>\n",
              "      <td>0.175799</td>\n",
              "    </tr>\n",
              "    <tr>\n",
              "      <th>ap_hi</th>\n",
              "      <td>0.213281</td>\n",
              "      <td>0.061069</td>\n",
              "      <td>0.009114</td>\n",
              "      <td>0.255413</td>\n",
              "      <td>1.000000</td>\n",
              "      <td>0.733157</td>\n",
              "      <td>0.193048</td>\n",
              "      <td>0.087781</td>\n",
              "      <td>0.025061</td>\n",
              "      <td>0.032222</td>\n",
              "      <td>0.000865</td>\n",
              "      <td>0.428567</td>\n",
              "    </tr>\n",
              "    <tr>\n",
              "      <th>ap_lo</th>\n",
              "      <td>0.160724</td>\n",
              "      <td>0.065718</td>\n",
              "      <td>0.027818</td>\n",
              "      <td>0.242734</td>\n",
              "      <td>0.733157</td>\n",
              "      <td>1.000000</td>\n",
              "      <td>0.158147</td>\n",
              "      <td>0.069367</td>\n",
              "      <td>0.023605</td>\n",
              "      <td>0.034183</td>\n",
              "      <td>0.000738</td>\n",
              "      <td>0.338930</td>\n",
              "    </tr>\n",
              "    <tr>\n",
              "      <th>cholesterol</th>\n",
              "      <td>0.157028</td>\n",
              "      <td>-0.038693</td>\n",
              "      <td>-0.064388</td>\n",
              "      <td>0.130159</td>\n",
              "      <td>0.193048</td>\n",
              "      <td>0.158147</td>\n",
              "      <td>1.000000</td>\n",
              "      <td>0.449185</td>\n",
              "      <td>0.006794</td>\n",
              "      <td>0.033367</td>\n",
              "      <td>0.009425</td>\n",
              "      <td>0.220301</td>\n",
              "    </tr>\n",
              "    <tr>\n",
              "      <th>gluc</th>\n",
              "      <td>0.098836</td>\n",
              "      <td>-0.022920</td>\n",
              "      <td>-0.026080</td>\n",
              "      <td>0.091228</td>\n",
              "      <td>0.087781</td>\n",
              "      <td>0.069367</td>\n",
              "      <td>0.449185</td>\n",
              "      <td>1.000000</td>\n",
              "      <td>-0.009974</td>\n",
              "      <td>0.006446</td>\n",
              "      <td>-0.007052</td>\n",
              "      <td>0.088919</td>\n",
              "    </tr>\n",
              "    <tr>\n",
              "      <th>smoke</th>\n",
              "      <td>-0.044958</td>\n",
              "      <td>0.339302</td>\n",
              "      <td>0.193968</td>\n",
              "      <td>0.063305</td>\n",
              "      <td>0.025061</td>\n",
              "      <td>0.023605</td>\n",
              "      <td>0.006794</td>\n",
              "      <td>-0.009974</td>\n",
              "      <td>1.000000</td>\n",
              "      <td>0.341654</td>\n",
              "      <td>0.028331</td>\n",
              "      <td>-0.019440</td>\n",
              "    </tr>\n",
              "    <tr>\n",
              "      <th>alco</th>\n",
              "      <td>-0.027551</td>\n",
              "      <td>0.170253</td>\n",
              "      <td>0.094535</td>\n",
              "      <td>0.064226</td>\n",
              "      <td>0.032222</td>\n",
              "      <td>0.034183</td>\n",
              "      <td>0.033367</td>\n",
              "      <td>0.006446</td>\n",
              "      <td>0.341654</td>\n",
              "      <td>1.000000</td>\n",
              "      <td>0.026696</td>\n",
              "      <td>-0.010534</td>\n",
              "    </tr>\n",
              "    <tr>\n",
              "      <th>active</th>\n",
              "      <td>-0.011062</td>\n",
              "      <td>0.007178</td>\n",
              "      <td>-0.007460</td>\n",
              "      <td>-0.015015</td>\n",
              "      <td>0.000865</td>\n",
              "      <td>0.000738</td>\n",
              "      <td>0.009425</td>\n",
              "      <td>-0.007052</td>\n",
              "      <td>0.028331</td>\n",
              "      <td>0.026696</td>\n",
              "      <td>1.000000</td>\n",
              "      <td>-0.037560</td>\n",
              "    </tr>\n",
              "    <tr>\n",
              "      <th>cardio</th>\n",
              "      <td>0.243087</td>\n",
              "      <td>0.004527</td>\n",
              "      <td>-0.019020</td>\n",
              "      <td>0.175799</td>\n",
              "      <td>0.428567</td>\n",
              "      <td>0.338930</td>\n",
              "      <td>0.220301</td>\n",
              "      <td>0.088919</td>\n",
              "      <td>-0.019440</td>\n",
              "      <td>-0.010534</td>\n",
              "      <td>-0.037560</td>\n",
              "      <td>1.000000</td>\n",
              "    </tr>\n",
              "  </tbody>\n",
              "</table>\n",
              "</div>"
            ],
            "text/plain": [
              "                  age    gender    height  ...      alco    active    cardio\n",
              "age          1.000000 -0.021335 -0.085890  ... -0.027551 -0.011062  0.243087\n",
              "gender      -0.021335  1.000000  0.519479  ...  0.170253  0.007178  0.004527\n",
              "height      -0.085890  0.519479  1.000000  ...  0.094535 -0.007460 -0.019020\n",
              "weight       0.068481  0.162291  0.310426  ...  0.064226 -0.015015  0.175799\n",
              "ap_hi        0.213281  0.061069  0.009114  ...  0.032222  0.000865  0.428567\n",
              "ap_lo        0.160724  0.065718  0.027818  ...  0.034183  0.000738  0.338930\n",
              "cholesterol  0.157028 -0.038693 -0.064388  ...  0.033367  0.009425  0.220301\n",
              "gluc         0.098836 -0.022920 -0.026080  ...  0.006446 -0.007052  0.088919\n",
              "smoke       -0.044958  0.339302  0.193968  ...  0.341654  0.028331 -0.019440\n",
              "alco        -0.027551  0.170253  0.094535  ...  1.000000  0.026696 -0.010534\n",
              "active      -0.011062  0.007178 -0.007460  ...  0.026696  1.000000 -0.037560\n",
              "cardio       0.243087  0.004527 -0.019020  ... -0.010534 -0.037560  1.000000\n",
              "\n",
              "[12 rows x 12 columns]"
            ]
          },
          "metadata": {
            "tags": []
          },
          "execution_count": 66
        },
        {
          "output_type": "display_data",
          "data": {
            "image/png": "[encoded data removed]",
            "text/plain": [
              "<Figure size 1080x1080 with 2 Axes>"
            ]
          },
          "metadata": {
            "tags": [],
            "needs_background": "light"
          }
        }
      ]
    },
    {
      "cell_type": "code",
      "metadata": {
        "id": "109IJAlmpivu",
        "colab": {
          "base_uri": "https://localhost:8080/",
          "height": 197
        },
        "outputId": "09b1253e-7543-4438-b1dc-bef71ff3d0cd"
      },
      "source": [
        "#Calculating BMI\n",
        "def bmi_calc(w, h):\n",
        "    return w/(h**2)\n",
        "x[\"bmi\"] = x[\"weight\"]/ (x[\"height\"]/100)**2\n",
        "\n",
        "x.head()"
      ],
      "execution_count": 67,
      "outputs": [
        {
          "output_type": "execute_result",
          "data": {
            "text/html": [
              "<div>\n",
              "<style scoped>\n",
              "    .dataframe tbody tr th:only-of-type {\n",
              "        vertical-align: middle;\n",
              "    }\n",
              "\n",
              "    .dataframe tbody tr th {\n",
              "        vertical-align: top;\n",
              "    }\n",
              "\n",
              "    .dataframe thead th {\n",
              "        text-align: right;\n",
              "    }\n",
              "</style>\n",
              "<table border=\"1\" class=\"dataframe\">\n",
              "  <thead>\n",
              "    <tr style=\"text-align: right;\">\n",
              "      <th></th>\n",
              "      <th>age</th>\n",
              "      <th>gender</th>\n",
              "      <th>height</th>\n",
              "      <th>weight</th>\n",
              "      <th>ap_hi</th>\n",
              "      <th>ap_lo</th>\n",
              "      <th>cholesterol</th>\n",
              "      <th>gluc</th>\n",
              "      <th>smoke</th>\n",
              "      <th>alco</th>\n",
              "      <th>active</th>\n",
              "      <th>cardio</th>\n",
              "      <th>bmi</th>\n",
              "    </tr>\n",
              "  </thead>\n",
              "  <tbody>\n",
              "    <tr>\n",
              "      <th>0</th>\n",
              "      <td>18393</td>\n",
              "      <td>2</td>\n",
              "      <td>168</td>\n",
              "      <td>62.0</td>\n",
              "      <td>110</td>\n",
              "      <td>80</td>\n",
              "      <td>1</td>\n",
              "      <td>1</td>\n",
              "      <td>0</td>\n",
              "      <td>0</td>\n",
              "      <td>1</td>\n",
              "      <td>0</td>\n",
              "      <td>21.967120</td>\n",
              "    </tr>\n",
              "    <tr>\n",
              "      <th>1</th>\n",
              "      <td>20228</td>\n",
              "      <td>1</td>\n",
              "      <td>156</td>\n",
              "      <td>85.0</td>\n",
              "      <td>140</td>\n",
              "      <td>90</td>\n",
              "      <td>3</td>\n",
              "      <td>1</td>\n",
              "      <td>0</td>\n",
              "      <td>0</td>\n",
              "      <td>1</td>\n",
              "      <td>1</td>\n",
              "      <td>34.927679</td>\n",
              "    </tr>\n",
              "    <tr>\n",
              "      <th>2</th>\n",
              "      <td>18857</td>\n",
              "      <td>1</td>\n",
              "      <td>165</td>\n",
              "      <td>64.0</td>\n",
              "      <td>130</td>\n",
              "      <td>70</td>\n",
              "      <td>3</td>\n",
              "      <td>1</td>\n",
              "      <td>0</td>\n",
              "      <td>0</td>\n",
              "      <td>0</td>\n",
              "      <td>1</td>\n",
              "      <td>23.507805</td>\n",
              "    </tr>\n",
              "    <tr>\n",
              "      <th>3</th>\n",
              "      <td>17623</td>\n",
              "      <td>2</td>\n",
              "      <td>169</td>\n",
              "      <td>82.0</td>\n",
              "      <td>150</td>\n",
              "      <td>100</td>\n",
              "      <td>1</td>\n",
              "      <td>1</td>\n",
              "      <td>0</td>\n",
              "      <td>0</td>\n",
              "      <td>1</td>\n",
              "      <td>1</td>\n",
              "      <td>28.710479</td>\n",
              "    </tr>\n",
              "    <tr>\n",
              "      <th>4</th>\n",
              "      <td>17474</td>\n",
              "      <td>1</td>\n",
              "      <td>156</td>\n",
              "      <td>56.0</td>\n",
              "      <td>100</td>\n",
              "      <td>60</td>\n",
              "      <td>1</td>\n",
              "      <td>1</td>\n",
              "      <td>0</td>\n",
              "      <td>0</td>\n",
              "      <td>0</td>\n",
              "      <td>0</td>\n",
              "      <td>23.011177</td>\n",
              "    </tr>\n",
              "  </tbody>\n",
              "</table>\n",
              "</div>"
            ],
            "text/plain": [
              "     age  gender  height  weight  ap_hi  ...  smoke  alco  active  cardio        bmi\n",
              "0  18393       2     168    62.0    110  ...      0     0       1       0  21.967120\n",
              "1  20228       1     156    85.0    140  ...      0     0       1       1  34.927679\n",
              "2  18857       1     165    64.0    130  ...      0     0       0       1  23.507805\n",
              "3  17623       2     169    82.0    150  ...      0     0       1       1  28.710479\n",
              "4  17474       1     156    56.0    100  ...      0     0       0       0  23.011177\n",
              "\n",
              "[5 rows x 13 columns]"
            ]
          },
          "metadata": {
            "tags": []
          },
          "execution_count": 67
        }
      ]
    },
    {
      "cell_type": "code",
      "metadata": {
        "id": "fjGMTgZbzKn8",
        "colab": {
          "base_uri": "https://localhost:8080/"
        },
        "outputId": "575c1306-08a1-4f50-91f4-6869aa51be48"
      },
      "source": [
        "#gender detection\n",
        "a = x[x[\"gender\"]==1][\"height\"].mean()\n",
        "b = x[x[\"gender\"]==2][\"height\"].mean()\n",
        "if a > b:\n",
        "    gender = \"male\"\n",
        "    gender2 = \"female\"\n",
        "else:\n",
        "    gender = \"female\"\n",
        "    gender2 = \"male\"\n",
        "print(\"Gender:1 is \"+ gender +\" & Gender:2 is \" + gender2)\n",
        "\n",
        "#We did not change other categorical code to one hot encoding because they express really hierarchical size\n",
        "#An example from describtion of dataset : Cholesterol | 1: normal, 2: above normal, 3: well above normal"
      ],
      "execution_count": 68,
      "outputs": [
        {
          "output_type": "stream",
          "text": [
            "Gender:1 is female & Gender:2 is male\n"
          ],
          "name": "stdout"
        }
      ]
    },
    {
      "cell_type": "code",
      "metadata": {
        "id": "ID3x9-kgr4ce"
      },
      "source": [
        "x[\"gender\"] = x[\"gender\"] % 2"
      ],
      "execution_count": 69,
      "outputs": []
    },
    {
      "cell_type": "code",
      "metadata": {
        "id": "n7ild2tCs5U8",
        "colab": {
          "base_uri": "https://localhost:8080/",
          "height": 620
        },
        "outputId": "fb6d7613-11e8-46ac-9bd6-027a2bc19e71"
      },
      "source": [
        "from sklearn.preprocessing import StandardScaler\n",
        "x_std = standartization(x)\n",
        "\n",
        "data = pd.melt(x_std,id_vars=\"cardio\",\n",
        "                    var_name=\"features\",\n",
        "                    value_name='value')\n",
        "plt.figure(figsize=(10,10))\n",
        "sns.violinplot(x=\"gender\", y=\"bmi\", hue=\"cardio\", data=x,split=True, inner=\"quart\")\n",
        "plt.xticks(rotation=90)\n",
        "#If we interpret the violin plot, the median and quartiles of bmi distribution of patients is slightly higher than non-patients."
      ],
      "execution_count": 70,
      "outputs": [
        {
          "output_type": "execute_result",
          "data": {
            "text/plain": [
              "(array([0, 1]), <a list of 2 Text major ticklabel objects>)"
            ]
          },
          "metadata": {
            "tags": []
          },
          "execution_count": 70
        },
        {
          "output_type": "display_data",
          "data": {
            "image/png": "[encoded data removed]",
            "text/plain": [
              "<Figure size 720x720 with 1 Axes>"
            ]
          },
          "metadata": {
            "tags": [],
            "needs_background": "light"
          }
        }
      ]
    },
    {
      "cell_type": "code",
      "metadata": {
        "id": "BDAyknKuB-K5",
        "outputId": "94651f37-becd-41b7-907f-b7a0d4a0c78e",
        "colab": {
          "base_uri": "https://localhost:8080/"
        }
      },
      "source": [
        "y = x[\"cardio\"]\n",
        "y.shape\n",
        "x.drop(\"cardio\", axis=1,inplace=True)\n",
        "x.head()\n",
        "\n",
        "#To check if we have the same percentage of people with CVD in our data.\n",
        "#Since it's uniform we won't use stratify option in train_test split\n",
        "sum(y)/len(y)"
      ],
      "execution_count": 71,
      "outputs": [
        {
          "output_type": "execute_result",
          "data": {
            "text/plain": [
              "0.489805744895349"
            ]
          },
          "metadata": {
            "tags": []
          },
          "execution_count": 71
        }
      ]
    },
    {
      "cell_type": "code",
      "metadata": {
        "id": "oy7EFifYC0zQ"
      },
      "source": [
        "#train-test split\n",
        "from sklearn.model_selection import train_test_split\n",
        "x_train,x_test, y_train, y_test = train_test_split(x,y,test_size=0.2,random_state=42)\n",
        "#sum(y_train)/len(y_train)\n",
        "#sum(y_test)/len(y_test)\n"
      ],
      "execution_count": 72,
      "outputs": []
    },
    {
      "cell_type": "code",
      "metadata": {
        "id": "RG0U-LBmt8bm",
        "colab": {
          "base_uri": "https://localhost:8080/",
          "height": 1000
        },
        "outputId": "aff5d85c-7993-4adf-97ab-afb55f967b8d"
      },
      "source": [
        "#Normalization\n",
        "from sklearn.preprocessing import normalize\n",
        "x_train = normalize(x_train)\n",
        "x_test = normalize(x_test)\n",
        "x = normalize(x)\n",
        "\n",
        "from sklearn.linear_model import LogisticRegression\n",
        "from sklearn.tree import DecisionTreeClassifier\n",
        "from sklearn.ensemble import RandomForestClassifier\n",
        "from sklearn.neighbors import KNeighborsClassifier\n",
        "from sklearn.svm import SVC\n",
        "from sklearn.naive_bayes import GaussianNB\n",
        "\n",
        "dec = DecisionTreeClassifier()\n",
        "ran = RandomForestClassifier(n_estimators=100)\n",
        "knn = KNeighborsClassifier(n_neighbors=100)\n",
        "svm = SVC(random_state=1)\n",
        "naive = GaussianNB()\n",
        "logreg = LogisticRegression(solver=\"liblinear\", max_iter=200)\n",
        "\n",
        "#models to be fitted\n",
        "#later part added AUC scores and plots for better evaluation\n",
        "models = {\"Decision tree\" : dec,\n",
        "          \"Random forest\" : ran,\n",
        "          \"KNN\" : knn,\n",
        "          \"SVM\" : svm,\n",
        "          \"Naive bayes\" : naive,\n",
        "          \"Logistic Regression\" : logreg}\n",
        "scores= { }\n",
        "auc={ }\n",
        "\n",
        "for key, value in models.items():    \n",
        "    model = value\n",
        "    model.fit(x_train, y_train)\n",
        "    scores[key] = model.score(x_test, y_test)\n",
        "    print(key)\n",
        "    print(\"Accuracy Score\", scores[key])\n",
        "\n",
        "    y_pred = model.predict(x_test)\n",
        "    cm = confusion_matrix(y_test, y_pred.round())\n",
        "    print(\"Confusion Matrix:\", \"\\n\", cm)\n",
        "\n",
        "    tpr, fpr, threshold = roc_curve(y_test, y_pred)\n",
        "    auc[key] = roc_auc_score(y_test, y_pred)\n",
        "    print(\"AUC Score\", auc[key])\n",
        "\n",
        "    plt.plot(tpr, fpr)\n",
        "    plt.show()"
      ],
      "execution_count": 73,
      "outputs": [
        {
          "output_type": "stream",
          "text": [
            "Decision tree\n",
            "Accuracy Score 0.6308305747818237\n",
            "Confusion Matrix: \n",
            " [[4328 2471]\n",
            " [2436 4057]]\n",
            "AUC Score 0.6306954685515919\n"
          ],
          "name": "stdout"
        },
        {
          "output_type": "display_data",
          "data": {
            "image/png": "[encoded data removed]",
            "text/plain": [
              "<Figure size 432x288 with 1 Axes>"
            ]
          },
          "metadata": {
            "tags": [],
            "needs_background": "light"
          }
        },
        {
          "output_type": "stream",
          "text": [
            "Random forest\n",
            "Accuracy Score 0.7181011134517002\n",
            "Confusion Matrix: \n",
            " [[5054 1745]\n",
            " [2002 4491]]\n",
            "AUC Score 0.7175062798007524\n"
          ],
          "name": "stdout"
        },
        {
          "output_type": "display_data",
          "data": {
            "image/png": "[encoded data removed]",
            "text/plain": [
              "<Figure size 432x288 with 1 Axes>"
            ]
          },
          "metadata": {
            "tags": [],
            "needs_background": "light"
          }
        },
        {
          "output_type": "stream",
          "text": [
            "KNN\n",
            "Accuracy Score 0.7156184170929882\n",
            "Confusion Matrix: \n",
            " [[5355 1444]\n",
            " [2336 4157]]\n",
            "AUC Score 0.7139218818179451\n"
          ],
          "name": "stdout"
        },
        {
          "output_type": "display_data",
          "data": {
            "image/png": "[encoded data removed]",
            "text/plain": [
              "<Figure size 432x288 with 1 Axes>"
            ]
          },
          "metadata": {
            "tags": [],
            "needs_background": "light"
          }
        },
        {
          "output_type": "stream",
          "text": [
            "SVM\n",
            "Accuracy Score 0.5115106831176648\n",
            "Confusion Matrix: \n",
            " [[6799    0]\n",
            " [6493    0]]\n",
            "AUC Score 0.5\n"
          ],
          "name": "stdout"
        },
        {
          "output_type": "display_data",
          "data": {
            "image/png": "[encoded data removed]",
            "text/plain": [
              "<Figure size 432x288 with 1 Axes>"
            ]
          },
          "metadata": {
            "tags": [],
            "needs_background": "light"
          }
        },
        {
          "output_type": "stream",
          "text": [
            "Naive bayes\n",
            "Accuracy Score 0.6539271742401445\n",
            "Confusion Matrix: \n",
            " [[5065 1734]\n",
            " [2866 3627]]\n",
            "AUC Score 0.6517820327035075\n"
          ],
          "name": "stdout"
        },
        {
          "output_type": "display_data",
          "data": {
            "image/png": "[encoded data removed]",
            "text/plain": [
              "<Figure size 432x288 with 1 Axes>"
            ]
          },
          "metadata": {
            "tags": [],
            "needs_background": "light"
          }
        },
        {
          "output_type": "stream",
          "text": [
            "Logistic Regression\n",
            "Accuracy Score 0.5115106831176648\n",
            "Confusion Matrix: \n",
            " [[6799    0]\n",
            " [6493    0]]\n",
            "AUC Score 0.5\n"
          ],
          "name": "stdout"
        },
        {
          "output_type": "display_data",
          "data": {
            "image/png": "[encoded data removed]",
            "text/plain": [
              "<Figure size 432x288 with 1 Axes>"
            ]
          },
          "metadata": {
            "tags": [],
            "needs_background": "light"
          }
        }
      ]
    },
    {
      "cell_type": "code",
      "metadata": {
        "id": "dZsxjViVLf-w",
        "colab": {
          "base_uri": "https://localhost:8080/"
        },
        "outputId": "21c922e9-f5a2-4ceb-9ca8-c93b08c4ec39"
      },
      "source": [
        "scores"
      ],
      "execution_count": 74,
      "outputs": [
        {
          "output_type": "execute_result",
          "data": {
            "text/plain": [
              "{'Decision tree': 0.6308305747818237,\n",
              " 'KNN': 0.7156184170929882,\n",
              " 'Logistic Regression': 0.5115106831176648,\n",
              " 'Naive bayes': 0.6539271742401445,\n",
              " 'Random forest': 0.7181011134517002,\n",
              " 'SVM': 0.5115106831176648}"
            ]
          },
          "metadata": {
            "tags": []
          },
          "execution_count": 74
        }
      ]
    },
    {
      "cell_type": "code",
      "metadata": {
        "colab": {
          "base_uri": "https://localhost:8080/"
        },
        "id": "3dO4NP6SbrWC",
        "outputId": "5d3c4fc6-abc9-4a33-e99e-a3dd0bfb2966"
      },
      "source": [
        "auc"
      ],
      "execution_count": 75,
      "outputs": [
        {
          "output_type": "execute_result",
          "data": {
            "text/plain": [
              "{'Decision tree': 0.6306954685515919,\n",
              " 'KNN': 0.7139218818179451,\n",
              " 'Logistic Regression': 0.5,\n",
              " 'Naive bayes': 0.6517820327035075,\n",
              " 'Random forest': 0.7175062798007524,\n",
              " 'SVM': 0.5}"
            ]
          },
          "metadata": {
            "tags": []
          },
          "execution_count": 75
        }
      ]
    },
    {
      "cell_type": "code",
      "metadata": {
        "id": "uLpidlZMaUXq",
        "colab": {
          "base_uri": "https://localhost:8080/",
          "height": 227
        },
        "outputId": "f2dc920d-9e19-4ce2-ea3c-160678226e8a"
      },
      "source": [
        "scores_frame = pd.DataFrame(scores, index=[\"Accuracy Score\"]).T\n",
        "scores_frame.sort_values(by=[\"Accuracy Score\"], axis=0 ,ascending=False, inplace=True)\n",
        "scores_frame"
      ],
      "execution_count": 76,
      "outputs": [
        {
          "output_type": "execute_result",
          "data": {
            "text/html": [
              "<div>\n",
              "<style scoped>\n",
              "    .dataframe tbody tr th:only-of-type {\n",
              "        vertical-align: middle;\n",
              "    }\n",
              "\n",
              "    .dataframe tbody tr th {\n",
              "        vertical-align: top;\n",
              "    }\n",
              "\n",
              "    .dataframe thead th {\n",
              "        text-align: right;\n",
              "    }\n",
              "</style>\n",
              "<table border=\"1\" class=\"dataframe\">\n",
              "  <thead>\n",
              "    <tr style=\"text-align: right;\">\n",
              "      <th></th>\n",
              "      <th>Accuracy Score</th>\n",
              "    </tr>\n",
              "  </thead>\n",
              "  <tbody>\n",
              "    <tr>\n",
              "      <th>Random forest</th>\n",
              "      <td>0.718101</td>\n",
              "    </tr>\n",
              "    <tr>\n",
              "      <th>KNN</th>\n",
              "      <td>0.715618</td>\n",
              "    </tr>\n",
              "    <tr>\n",
              "      <th>Naive bayes</th>\n",
              "      <td>0.653927</td>\n",
              "    </tr>\n",
              "    <tr>\n",
              "      <th>Decision tree</th>\n",
              "      <td>0.630831</td>\n",
              "    </tr>\n",
              "    <tr>\n",
              "      <th>SVM</th>\n",
              "      <td>0.511511</td>\n",
              "    </tr>\n",
              "    <tr>\n",
              "      <th>Logistic Regression</th>\n",
              "      <td>0.511511</td>\n",
              "    </tr>\n",
              "  </tbody>\n",
              "</table>\n",
              "</div>"
            ],
            "text/plain": [
              "                     Accuracy Score\n",
              "Random forest              0.718101\n",
              "KNN                        0.715618\n",
              "Naive bayes                0.653927\n",
              "Decision tree              0.630831\n",
              "SVM                        0.511511\n",
              "Logistic Regression        0.511511"
            ]
          },
          "metadata": {
            "tags": []
          },
          "execution_count": 76
        }
      ]
    },
    {
      "cell_type": "code",
      "metadata": {
        "id": "XFhEM8aNy7mD",
        "colab": {
          "base_uri": "https://localhost:8080/",
          "height": 402
        },
        "outputId": "1d0e1716-3dc5-4777-a7c7-fcf97be3b6c2"
      },
      "source": [
        "plt.figure(figsize=(5,5))\n",
        "sns.barplot(x=scores_frame.index,y=scores_frame[\"Accuracy Score\"])\n",
        "plt.xticks(rotation=45) \n",
        "# Rotation of model names..."
      ],
      "execution_count": 77,
      "outputs": [
        {
          "output_type": "execute_result",
          "data": {
            "text/plain": [
              "(array([0, 1, 2, 3, 4, 5]), <a list of 6 Text major ticklabel objects>)"
            ]
          },
          "metadata": {
            "tags": []
          },
          "execution_count": 77
        },
        {
          "output_type": "display_data",
          "data": {
            "image/png": "[encoded data removed]",
            "text/plain": [
              "<Figure size 360x360 with 1 Axes>"
            ]
          },
          "metadata": {
            "tags": [],
            "needs_background": "light"
          }
        }
      ]
    },
    {
      "cell_type": "code",
      "metadata": {
        "id": "-uF_VWyG0B-y"
      },
      "source": [
        "#K Fold Cross Validation\n",
        "#With K-Fold cross-validation, we obtain \"K\" pieces of results from different mini-training sets from our main training set.\n",
        "#Then we choose the average of these results as the actual result.\n",
        "#After all, by taking the standard deviation of K result, we can examine whether the data is consistent.\n",
        "from sklearn.model_selection import cross_val_score\n",
        "accuracies_log_reg = cross_val_score(estimator=logreg, X=x_train, y=y_train, cv=10)\n",
        "accuracies_random_forest = cross_val_score(estimator=ran, X=x_train, y=y_train, cv=10)\n",
        "accuracies_knn = cross_val_score(estimator=knn, X=x_train, y=y_train, cv=10)\n"
      ],
      "execution_count": 78,
      "outputs": []
    },
    {
      "cell_type": "code",
      "metadata": {
        "id": "kLQ1J0xCFZds",
        "colab": {
          "base_uri": "https://localhost:8080/"
        },
        "outputId": "65b7ae80-6ad4-441a-a28f-13104be5db17"
      },
      "source": [
        "print(\"Random Forest Average accuracy: \", accuracies_random_forest.mean())\n",
        "print(\"Random Forest Standard Deviation: \", accuracies_random_forest.std())\n",
        "print(\"KNN Average accuracy: \", accuracies_knn.mean())\n",
        "print(\"KNN Standard Deviation: \", accuracies_knn.std())\n",
        "print(\"Logistic Regression Average accuracy: \", accuracies_log_reg.mean())\n",
        "print(\"Logistic Regression Standard Deviation: \", accuracies_log_reg.std())"
      ],
      "execution_count": 79,
      "outputs": [
        {
          "output_type": "stream",
          "text": [
            "Random Forest Average accuracy:  0.7148231753197892\n",
            "Random Forest Standard Deviation:  0.007557305934232101\n",
            "KNN Average accuracy:  0.71493599968187\n",
            "KNN Standard Deviation:  0.005567796940120195\n",
            "Logistic Regression Average accuracy:  0.5098651407463574\n",
            "Logistic Regression Standard Deviation:  5.041570321177908e-05\n"
          ],
          "name": "stdout"
        }
      ]
    },
    {
      "cell_type": "code",
      "metadata": {
        "id": "u8NqxA0SGn7K",
        "colab": {
          "base_uri": "https://localhost:8080/"
        },
        "outputId": "b14a6696-799f-4504-9d96-12d5de20e878"
      },
      "source": [
        "#Let us use grid search algorithm, in order to find the best \n",
        "#Random Forest Algorithm's \"n_estimators\" hyperparameter value for our model, l\n",
        "# grid search cross validation with 1 hyperparameter\n",
        "from sklearn.model_selection import GridSearchCV \n",
        "\n",
        "grid = {\"n_estimators\" : np.arange(10,150,10)}\n",
        "\n",
        "ran_cv = GridSearchCV(ran, grid, cv=3) # GridSearchCV\n",
        "ran_cv.fit(x_train,y_train)# Fit\n",
        "\n",
        "# Print hyperparameter\n",
        "print(\"Tuned hyperparameter n_estimators: {}\".format(ran_cv.best_params_)) \n",
        "print(\"Best score: {}\".format(ran_cv.best_score_))\n"
      ],
      "execution_count": 80,
      "outputs": [
        {
          "output_type": "stream",
          "text": [
            "Tuned hyperparameter n_estimators: {'n_estimators': 100}\n",
            "Best score: 0.714936026356977\n"
          ],
          "name": "stdout"
        }
      ]
    },
    {
      "cell_type": "code",
      "metadata": {
        "colab": {
          "base_uri": "https://localhost:8080/",
          "height": 354
        },
        "id": "qn0lD6ksgLO5",
        "outputId": "6cfe1b72-0252-4a16-a5ba-856365483a01"
      },
      "source": [
        "#Test Set Accuracy Score for Random forest¶\n",
        "#Now we have selected our model with better hyper parameters than default ones.\n",
        "#It is time to evaluate model with our test set\n",
        "ran_best = RandomForestClassifier(n_estimators=140)\n",
        "ran_best.fit(x_train, y_train)\n",
        "print(\"Test accuracy: \",ran_best.score(x_test, y_test))\n",
        "\n",
        "y_pred = ran_best.predict(x_test)\n",
        "cm = confusion_matrix(y_test, y_pred.round())\n",
        "print(\"Confusion Matrix:\", \"\\n\", cm)\n",
        "\n",
        "tpr, fpr, threshold = roc_curve(y_test, y_pred)\n",
        "auc = roc_auc_score(y_test, y_pred)\n",
        "print(\"AUC Score\", auc)\n",
        "\n",
        "plt.plot(tpr, fpr)\n",
        "plt.show()"
      ],
      "execution_count": 85,
      "outputs": [
        {
          "output_type": "stream",
          "text": [
            "Test accuracy:  0.7182515798976828\n",
            "Confusion Matrix: \n",
            " [[5032 1767]\n",
            " [1978 4515]]\n",
            "AUC Score 0.7177365389729109\n"
          ],
          "name": "stdout"
        },
        {
          "output_type": "display_data",
          "data": {
            "image/png": "[encoded data removed]",
            "text/plain": [
              "<Figure size 432x288 with 1 Axes>"
            ]
          },
          "metadata": {
            "tags": [],
            "needs_background": "light"
          }
        }
      ]
    },
    {
      "cell_type": "code",
      "metadata": {
        "colab": {
          "base_uri": "https://localhost:8080/"
        },
        "id": "hMLrP100O0yn",
        "outputId": "1d4fc8b0-cc37-4548-c0b6-5d1e646bae2d"
      },
      "source": [
        "#Later we moved log_reg to above classification method to maintain Choronological order\n",
        "#log_reg = LogisticRegression(solver=\"liblinear\", max_iter=200)\n",
        "grid = {\"penalty\" : [\"l1\", \"l2\"],\n",
        "         \"C\" : np.arange(60,80,2)} # (60,62,64 ... 78)\n",
        "log_reg_cv = GridSearchCV(logreg, grid, cv=3)\n",
        "log_reg_cv.fit(x_train, y_train)\n",
        "\n",
        "# Print hyperparameter\n",
        "print(\"Tuned hyperparameter n_estimators: {}\".format(log_reg_cv.best_params_)) \n",
        "print(\"Best score: {}\".format(log_reg_cv.best_score_))"
      ],
      "execution_count": 83,
      "outputs": [
        {
          "output_type": "stream",
          "text": [
            "Tuned hyperparameter n_estimators: {'C': 66, 'penalty': 'l1'}\n",
            "Best score: 0.7250926547403876\n"
          ],
          "name": "stdout"
        }
      ]
    },
    {
      "cell_type": "code",
      "metadata": {
        "colab": {
          "base_uri": "https://localhost:8080/",
          "height": 354
        },
        "id": "8xxQ-R5ePDwl",
        "outputId": "c1174890-c5ce-4dc3-9731-e401c241e21a"
      },
      "source": [
        "#Test Set Accuracy Score ¶\n",
        "#Now we have selected our model with better hyper parameters than default ones.\n",
        "#It is time to evaluate model with our test set\n",
        "logreg_best = LogisticRegression(C=74, penalty=\"l1\", solver=\"liblinear\")\n",
        "logreg_best.fit(x_train, y_train)\n",
        "print(\"Test accuracy: \",logreg_best.score(x_test, y_test))\n",
        "\n",
        "y_pred = logreg_best.predict(x_test)\n",
        "cm = confusion_matrix(y_test, y_pred.round())\n",
        "print(\"Confusion Matrix:\", \"\\n\", cm)\n",
        "\n",
        "tpr, fpr, threshold = roc_curve(y_test, y_pred)\n",
        "auc = roc_auc_score(y_test, y_pred)\n",
        "print(\"AUC Score\", auc)\n",
        "\n",
        "plt.plot(tpr, fpr)\n",
        "plt.show()"
      ],
      "execution_count": 86,
      "outputs": [
        {
          "output_type": "stream",
          "text": [
            "Test accuracy:  0.7295365633463737\n",
            "Confusion Matrix: \n",
            " [[5352 1447]\n",
            " [2148 4345]]\n",
            "AUC Score 0.7281783903545124\n"
          ],
          "name": "stdout"
        },
        {
          "output_type": "display_data",
          "data": {
            "image/png": "[encoded data removed]",
            "text/plain": [
              "<Figure size 432x288 with 1 Axes>"
            ]
          },
          "metadata": {
            "tags": [],
            "needs_background": "light"
          }
        }
      ]
    },
    {
      "cell_type": "code",
      "metadata": {
        "id": "qcdYCKgYPjzB"
      },
      "source": [
        "y_true = y_test\n",
        "#y_pred = logreg_best.predict(x_test)\n",
        "from sklearn.metrics import confusion_matrix\n",
        "cm = confusion_matrix(y_true, y_pred)\n",
        "f, ax = plt.subplots(figsize=(5,5))\n",
        "sns.heatmap(cm,fmt=\".0f\", annot=True,linewidths=0.2, linecolor=\"purple\", ax=ax)\n",
        "plt.xlabel(\"Predicted\")\n",
        "plt.ylabel(\"Grand Truth\")\n",
        "plt.show()"
      ],
      "execution_count": null,
      "outputs": []
    },
    {
      "cell_type": "code",
      "metadata": {
        "id": "C9jaJ3HsPyO3"
      },
      "source": [
        "TN = cm[0,0]\n",
        "TP = cm[1,1]\n",
        "FN = cm[1,0]\n",
        "FP = cm[0,1]\n",
        "Precision = TP/(TP+FP)\n",
        "Recall = TP/(TP+FN)\n",
        "F1_Score = 2*(Recall * Precision) / (Recall + Precision)\n",
        "pd.DataFrame([[Precision, Recall, F1_Score]],columns=[\"Precision\", \"Recall\", \"F1 Score\"], index=[\"Results\"])\n",
        "#High precision relates to the low false positive rate\n",
        "#High recall relates to the low false negative rate\n"
      ],
      "execution_count": null,
      "outputs": []
    },
    {
      "cell_type": "code",
      "metadata": {
        "id": "ze59Cz_BrfH4"
      },
      "source": [
        "# #Optimising upon lowering false negatives i.e. improving recall.\n",
        "# from sklearn.model_selection import StratifiedKFold\n",
        "\n",
        "# #The scorers dictionary can be used as the scoring argument in GridSearchCV. \n",
        "# #When multiple scores are passed, GridSearchCV.cv_results_ will return scoring metrics for each of the score types provided.\n",
        "# scorers = {\n",
        "#     'precision_score': make_scorer(precision_score),\n",
        "#     'recall_score': make_scorer(recall_score),\n",
        "#     'accuracy_score': make_scorer(accuracy_score)\n",
        "# }\n",
        "\n",
        "# #random forests have many tunable parameters, which make it suitable for GridSearchCV\n",
        "# param_grid = {\n",
        "#     'min_samples_split': [3, 5, 10], \n",
        "#     'n_estimators' : [100, 300],\n",
        "#     'max_depth': [3, 5, 15, 25],\n",
        "#     'max_features': [3, 5, 10, 20]\n",
        "# }\n",
        "\n",
        "# #The function below uses GridSearchCV to fit several classifiers according to the combinations of parameters in the param_grid. \n",
        "# #The scores from scorers are recorded and the best model (as scored by the refit argument) will be selected and \"refit\" to the full training data for downstream use. \n",
        "# #This also makes predictions on the held out X_test and prints the confusion matrix to show performance.\n",
        "# def grid_search_wrapper(refit_score='recall_score'):\n",
        "#     \"\"\"\n",
        "#     fits a GridSearchCV classifier using refit_score for optimization\n",
        "#     prints classifier performance metrics\n",
        "#     \"\"\"\n",
        "#     skf = StratifiedKFold(n_splits=10)\n",
        "#     grid_search = GridSearchCV(ran, param_grid, scoring=scorers, refit=refit_score,\n",
        "#                            cv=skf, return_train_score=True, n_jobs=-1)\n",
        "#     grid_search.fit(x_train, y_train)\n",
        "\n",
        "#     # make the predictions\n",
        "#     y_pred = grid_search.predict(x_test.values)\n",
        "\n",
        "#     print('Best params for {}'.format(refit_score))\n",
        "#     print(grid_search.best_params_)\n",
        "\n",
        "#     # confusion matrix on the test data.\n",
        "#     print('\\nConfusion matrix of Random Forest optimized for {} on the test data:'.format(refit_score))\n",
        "#     print(pd.DataFrame(confusion_matrix(y_test, y_pred),\n",
        "#                  columns=['pred_neg', 'pred_pos'], index=['neg', 'pos']))\n",
        "#     return grid_search\n",
        "\n",
        "# grid_search_clf = grid_search_wrapper(refit_score='recall_score')\n"
      ],
      "execution_count": null,
      "outputs": []
    },
    {
      "cell_type": "code",
      "metadata": {
        "id": "vCe1HO8APlXY"
      },
      "source": [
        "##ANN\n",
        "model = tf.keras.models.Sequential()\n",
        "model.add(tf.keras.layers.Dense(6, input_dim=12, activation='relu'))\n",
        "model.add(tf.keras.layers.Dense(1, activation='sigmoid'))\n",
        "optimizer = RMSprop(learning_rate=0.002)\n",
        "model.compile(loss='binary_crossentropy', metrics=['accuracy'], optimizer=optimizer)\n",
        "learning_rate_reduction = tf.keras.callbacks.ReduceLROnPlateau( \n",
        "    monitor='val_loss',    # Quantity to be monitored.\n",
        "    factor=0.1,       # Factor by which the learning rate will be reduced. new_lr = lr * factor\n",
        "    patience=50,        # The number of epochs with no improvement after which learning rate will be reduced.\n",
        "    verbose=1,         # 0: quiet - 1: update messages.\n",
        "    mode=\"auto\",       # {auto, min, max}. In min mode, lr will be reduced when the quantity monitored has stopped decreasing; \n",
        "                       # in the max mode it will be reduced when the quantity monitored has stopped increasing; \n",
        "                       # in auto mode, the direction is automatically inferred from the name of the monitored quantity.\n",
        "    min_delta=0.0001,  # threshold for measuring the new optimum, to only focus on significant changes.\n",
        "    cooldown=0,        # number of epochs to wait before resuming normal operation after learning rate (lr) has been reduced.\n",
        "    min_lr=0.00001     # lower bound on the learning rate.\n",
        "    )\n",
        "\n",
        "es = EarlyStopping(monitor='val_loss', mode='min', verbose=1, patience=400, restore_best_weights=True)\n",
        "history = model.fit(x=x_train, y=y_train.values,\n",
        "                    batch_size=1024, epochs=1500,\n",
        "                    verbose=0,validation_data=(x_test,y_test.values),\n",
        "                    callbacks=[learning_rate_reduction, es],\n",
        "                    shuffle=True)\n",
        "\n",
        "model.evaluate(x_test, y_test.values, verbose=2)"
      ],
      "execution_count": null,
      "outputs": []
    },
    {
      "cell_type": "code",
      "metadata": {
        "id": "NOfnEdNnRR-X"
      },
      "source": [
        "plt.plot(history.history['accuracy'])\n",
        "plt.plot(history.history['val_accuracy'])\n",
        "plt.title('Model accuracy')\n",
        "plt.ylabel('Accuracy')\n",
        "plt.xlabel('Epoch')\n",
        "plt.legend(['Train', 'Validation'], loc='upper left')\n",
        "plt.show()\n",
        "\n",
        "# Plot training & validation loss values\n",
        "plt.plot(history.history['loss'])\n",
        "plt.plot(history.history['val_loss'])\n",
        "plt.title('Model loss')\n",
        "plt.ylabel('Loss')\n",
        "plt.xlabel('Epoch')\n",
        "plt.legend(['Train', 'Validation'], loc='upper left')\n",
        "plt.show()"
      ],
      "execution_count": null,
      "outputs": []
    },
    {
      "cell_type": "markdown",
      "metadata": {
        "id": "1Zg04QdeCVfa"
      },
      "source": [
        "_______________________________________________________________________"
      ]
    },
    {
      "cell_type": "code",
      "metadata": {
        "id": "KanvzOXuKwbY"
      },
      "source": [
        "from sklearn.metrics import accuracy_score, confusion_matrix, classification_report\n",
        "\n",
        "def print_score(clf, X_train, y_train, X_test, y_test, train=True):\n",
        "    if train:\n",
        "        pred = clf.predict(X_train)\n",
        "        clf_report = pd.DataFrame(classification_report(y_train, pred, output_dict=True))\n",
        "        print(\"Train Result:\\n================================================\")\n",
        "        print(f\"Accuracy Score: {accuracy_score(y_train, pred) * 100:.2f}%\")\n",
        "        print(\"_______________________________________________\")\n",
        "        print(f\"CLASSIFICATION REPORT:\\n{clf_report}\")\n",
        "        print(\"_______________________________________________\")\n",
        "        print(f\"Confusion Matrix: \\n {confusion_matrix(y_train, pred)}\\n\")\n",
        "        \n",
        "    elif train==False:\n",
        "        pred = clf.predict(X_test)\n",
        "        clf_report = pd.DataFrame(classification_report(y_test, pred, output_dict=True))\n",
        "        print(\"Test Result:\\n================================================\")        \n",
        "        print(f\"Accuracy Score: {accuracy_score(y_test, pred) * 100:.2f}%\")\n",
        "        print(\"_______________________________________________\")\n",
        "        print(f\"CLASSIFICATION REPORT:\\n{clf_report}\")\n",
        "        print(\"_______________________________________________\")\n",
        "        print(f\"Confusion Matrix: \\n {confusion_matrix(y_test, pred)}\\n\")\n"
      ],
      "execution_count": 87,
      "outputs": []
    },
    {
      "cell_type": "code",
      "metadata": {
        "colab": {
          "base_uri": "https://localhost:8080/",
          "height": 818
        },
        "id": "AyX3X0XoCYmI",
        "outputId": "19bccc9c-e86f-4a76-df9d-c3efa3fb773a"
      },
      "source": [
        "from xgboost import XGBClassifier\n",
        "\n",
        "xgb_clf = XGBClassifier()\n",
        "xgb_clf.fit(x_train, y_train)\n",
        "\n",
        "print_score(xgb_clf, x_train, y_train, x_test, y_test, train=True)\n",
        "print_score(xgb_clf, x_train, y_train, x_test, y_test, train=False)\n",
        "\n",
        "y_pred = xgb_clf.predict(x_test)\n",
        "\n",
        "tpr, fpr, threshold = roc_curve(y_test, y_pred)\n",
        "auc_score = roc_auc_score(y_test, y_pred)\n",
        "print(\"AUC-score:\", auc_score)\n",
        "\n",
        "%matplotlib inline\n",
        "import matplotlib.pyplot as plt\n",
        "\n",
        "plt.plot(tpr, fpr)\n",
        "plt.show()"
      ],
      "execution_count": 88,
      "outputs": [
        {
          "output_type": "stream",
          "text": [
            "Train Result:\n",
            "================================================\n",
            "Accuracy Score: 73.65%\n",
            "_______________________________________________\n",
            "CLASSIFICATION REPORT:\n",
            "                      0             1  accuracy     macro avg  weighted avg\n",
            "precision      0.722252      0.754103  0.736453      0.738177      0.737863\n",
            "recall         0.784971      0.685982  0.736453      0.735477      0.736453\n",
            "f1-score       0.752307      0.718431  0.736453      0.735369      0.735703\n",
            "support    27108.000000  26059.000000  0.736453  53167.000000  53167.000000\n",
            "_______________________________________________\n",
            "Confusion Matrix: \n",
            " [[21279  5829]\n",
            " [ 8183 17876]]\n",
            "\n",
            "Test Result:\n",
            "================================================\n",
            "Accuracy Score: 73.34%\n",
            "_______________________________________________\n",
            "CLASSIFICATION REPORT:\n",
            "                     0            1  accuracy     macro avg  weighted avg\n",
            "precision     0.720776     0.749240  0.733449      0.735008      0.734680\n",
            "recall        0.781733     0.682889  0.733449      0.732311      0.733449\n",
            "f1-score      0.750018     0.714527  0.733449      0.732273      0.732681\n",
            "support    6799.000000  6493.000000  0.733449  13292.000000  13292.000000\n",
            "_______________________________________________\n",
            "Confusion Matrix: \n",
            " [[5315 1484]\n",
            " [2059 4434]]\n",
            "\n",
            "AUC-score: 0.7323109365495651\n"
          ],
          "name": "stdout"
        },
        {
          "output_type": "display_data",
          "data": {
            "image/png": "[encoded data removed]",
            "text/plain": [
              "<Figure size 432x288 with 1 Axes>"
            ]
          },
          "metadata": {
            "tags": [],
            "needs_background": "light"
          }
        }
      ]
    },
    {
      "cell_type": "code",
      "metadata": {
        "id": "dByIMS6iJP2T",
        "outputId": "c94eb153-1660-455a-fe2e-9a5c9cea56a0",
        "colab": {
          "base_uri": "https://localhost:8080/"
        }
      },
      "source": [
        "#Hyper-Parameter tuning using GridSearchCV\n",
        "##Round 1\n",
        "# param_grid= {\n",
        "#     'max_depth' : [3,4,5],\n",
        "#     'learning_rate': [0.1,0.01,0.05],\n",
        "#     'gamma':[0,0.25,1.0],\n",
        "#     'reg_lambda': [0,1.0,10.0]\n",
        "# }\n",
        "#Tuned hyperparameter n_estimators: {'gamma': 0.25, 'learning_rate': 0.1, 'max_depth': 5, 'reg_lambda': 10.0}\n",
        "#Best score: 0.7979720547889348\n",
        "\n",
        "##Round 2\n",
        "param_grid= {\n",
        "    'max_depth' : [5,6,7],\n",
        "    'learning_rate': [0.1,0.5,1],\n",
        "    'gamma':[0.25],\n",
        "    'reg_lambda': [10.0,20,100]\n",
        "}\n",
        "# Tuned hyperparameter n_estimators: {'gamma': 0.25, 'learning_rate': 0.1, 'max_depth': 5, 'reg_lambda': 10.0}\n",
        "# Best score: 0.7979720547889348\n",
        "#To speed up cross validation and to prevent overfitting we use random subset of data (90%) and of features (50%) per tree.\n",
        "XGB_grid= GridSearchCV(estimator=XGBClassifier(objective='binary:logistic', \n",
        "                                               seed=42,\n",
        "                                               subsample=0.9,\n",
        "                                               colsample_bytree=0.5),\n",
        "                       param_grid=param_grid,\n",
        "                       scoring='roc_auc',\n",
        "                       verbose=0,\n",
        "                       n_jobs=10,\n",
        "                       cv=3\n",
        "                       )\n",
        "best_xgb.fit(x_train, y_train)\n",
        "\n",
        "# Print hyperparameter\n",
        "print(\"Tuned hyperparameter n_estimators: {}\".format(best_xgb.best_params_)) \n",
        "print(\"Best score: {}\".format(best_xgb.best_score_))"
      ],
      "execution_count": 93,
      "outputs": [
        {
          "output_type": "stream",
          "text": [
            "Tuned hyperparameter n_estimators: {'gamma': 0.25, 'learning_rate': 0.1, 'max_depth': 5, 'reg_lambda': 10.0}\n",
            "Best score: 0.7979720547889348\n"
          ],
          "name": "stdout"
        }
      ]
    },
    {
      "cell_type": "code",
      "metadata": {
        "id": "ItlDLRxf5awC",
        "outputId": "abff6d1e-396a-4e40-a3db-99f9f0752f6c",
        "colab": {
          "base_uri": "https://localhost:8080/"
        }
      },
      "source": [
        "#Test Set Accuracy Score ¶\n",
        "#Now we have selected our model with better hyper parameters than default ones.\n",
        "#It is time to evaluate model with our test set\n",
        "Xgb_best = XGBClassifier(seed=42 ,\n",
        "                         objective='binary:logistic',\n",
        "                         gamma= 0.25, \n",
        "                         learning_rate= 0.1,\n",
        "                         max_depth = 5,\n",
        "                         reg_lambda = 10.0,\n",
        "                         subsample=0.9,\n",
        "                         colsample_bytree=0.5)\n",
        "\n",
        "Xgb_best.fit(x_train,\n",
        "             y_train,\n",
        "             early_stopping_rounds=10,\n",
        "             eval_metric='aucpr',\n",
        "             eval_set=[(x_test,y_test)])\n",
        "\n",
        "\n"
      ],
      "execution_count": 99,
      "outputs": [
        {
          "output_type": "stream",
          "text": [
            "[0]\tvalidation_0-aucpr:0.705029\n",
            "Will train until validation_0-aucpr hasn't improved in 10 rounds.\n",
            "[1]\tvalidation_0-aucpr:0.75342\n",
            "[2]\tvalidation_0-aucpr:0.766315\n",
            "[3]\tvalidation_0-aucpr:0.766777\n",
            "[4]\tvalidation_0-aucpr:0.771158\n",
            "[5]\tvalidation_0-aucpr:0.768639\n",
            "[6]\tvalidation_0-aucpr:0.770509\n",
            "[7]\tvalidation_0-aucpr:0.772865\n",
            "[8]\tvalidation_0-aucpr:0.774487\n",
            "[9]\tvalidation_0-aucpr:0.773965\n",
            "[10]\tvalidation_0-aucpr:0.774356\n",
            "[11]\tvalidation_0-aucpr:0.774926\n",
            "[12]\tvalidation_0-aucpr:0.775254\n",
            "[13]\tvalidation_0-aucpr:0.775584\n",
            "[14]\tvalidation_0-aucpr:0.775772\n",
            "[15]\tvalidation_0-aucpr:0.777055\n",
            "[16]\tvalidation_0-aucpr:0.777396\n",
            "[17]\tvalidation_0-aucpr:0.777827\n",
            "[18]\tvalidation_0-aucpr:0.778697\n",
            "[19]\tvalidation_0-aucpr:0.779118\n",
            "[20]\tvalidation_0-aucpr:0.779484\n",
            "[21]\tvalidation_0-aucpr:0.779728\n",
            "[22]\tvalidation_0-aucpr:0.779663\n",
            "[23]\tvalidation_0-aucpr:0.779224\n",
            "[24]\tvalidation_0-aucpr:0.779163\n",
            "[25]\tvalidation_0-aucpr:0.779255\n",
            "[26]\tvalidation_0-aucpr:0.779702\n",
            "[27]\tvalidation_0-aucpr:0.779728\n",
            "[28]\tvalidation_0-aucpr:0.779826\n",
            "[29]\tvalidation_0-aucpr:0.779855\n",
            "[30]\tvalidation_0-aucpr:0.780165\n",
            "[31]\tvalidation_0-aucpr:0.780139\n",
            "[32]\tvalidation_0-aucpr:0.780092\n",
            "[33]\tvalidation_0-aucpr:0.779943\n",
            "[34]\tvalidation_0-aucpr:0.779832\n",
            "[35]\tvalidation_0-aucpr:0.780373\n",
            "[36]\tvalidation_0-aucpr:0.780477\n",
            "[37]\tvalidation_0-aucpr:0.780479\n",
            "[38]\tvalidation_0-aucpr:0.780605\n",
            "[39]\tvalidation_0-aucpr:0.780902\n",
            "[40]\tvalidation_0-aucpr:0.780954\n",
            "[41]\tvalidation_0-aucpr:0.781038\n",
            "[42]\tvalidation_0-aucpr:0.780778\n",
            "[43]\tvalidation_0-aucpr:0.780792\n",
            "[44]\tvalidation_0-aucpr:0.78116\n",
            "[45]\tvalidation_0-aucpr:0.781231\n",
            "[46]\tvalidation_0-aucpr:0.781555\n",
            "[47]\tvalidation_0-aucpr:0.781611\n",
            "[48]\tvalidation_0-aucpr:0.781793\n",
            "[49]\tvalidation_0-aucpr:0.781751\n",
            "[50]\tvalidation_0-aucpr:0.781969\n",
            "[51]\tvalidation_0-aucpr:0.781879\n",
            "[52]\tvalidation_0-aucpr:0.781971\n",
            "[53]\tvalidation_0-aucpr:0.781815\n",
            "[54]\tvalidation_0-aucpr:0.781604\n",
            "[55]\tvalidation_0-aucpr:0.781798\n",
            "[56]\tvalidation_0-aucpr:0.781532\n",
            "[57]\tvalidation_0-aucpr:0.781588\n",
            "[58]\tvalidation_0-aucpr:0.781551\n",
            "[59]\tvalidation_0-aucpr:0.781652\n",
            "[60]\tvalidation_0-aucpr:0.781697\n",
            "[61]\tvalidation_0-aucpr:0.781664\n",
            "[62]\tvalidation_0-aucpr:0.781676\n",
            "Stopping. Best iteration:\n",
            "[52]\tvalidation_0-aucpr:0.781971\n",
            "\n"
          ],
          "name": "stdout"
        },
        {
          "output_type": "execute_result",
          "data": {
            "text/plain": [
              "XGBClassifier(base_score=0.5, booster='gbtree', colsample_bylevel=1,\n",
              "              colsample_bynode=1, colsample_bytree=0.5, gamma=0.25,\n",
              "              learning_rate=0.1, max_delta_step=0, max_depth=5,\n",
              "              min_child_weight=1, missing=None, n_estimators=100, n_jobs=1,\n",
              "              nthread=None, objective='binary:logistic', random_state=0,\n",
              "              reg_alpha=0, reg_lambda=10.0, scale_pos_weight=1, seed=42,\n",
              "              silent=None, subsample=0.9, verbosity=1)"
            ]
          },
          "metadata": {
            "tags": []
          },
          "execution_count": 99
        }
      ]
    },
    {
      "cell_type": "code",
      "metadata": {
        "id": "p2QLUKOB79eD",
        "outputId": "4d4caf96-bcd2-4991-8b0e-61d6583dd679",
        "colab": {
          "base_uri": "https://localhost:8080/",
          "height": 354
        }
      },
      "source": [
        "print(\"Test accuracy: \",Xgb_best.score(x_test, y_test))\n",
        "\n",
        "y_pred = Xgb_best.predict(x_test)\n",
        "cm = confusion_matrix(y_test, y_pred.round())\n",
        "print(\"Confusion Matrix:\", \"\\n\", cm)\n",
        "\n",
        "tpr, fpr, threshold = roc_curve(y_test, y_pred)\n",
        "auc = roc_auc_score(y_test, y_pred)\n",
        "print(\"AUC Score\", auc)\n",
        "\n",
        "plt.plot(tpr, fpr)\n",
        "plt.show()"
      ],
      "execution_count": 100,
      "outputs": [
        {
          "output_type": "stream",
          "text": [
            "Test accuracy:  0.7375112849834486\n",
            "Confusion Matrix: \n",
            " [[5298 1501]\n",
            " [1988 4505]]\n",
            "AUC Score 0.7365281791582627\n"
          ],
          "name": "stdout"
        },
        {
          "output_type": "display_data",
          "data": {
            "image/png": "[encoded data removed]",
            "text/plain": [
              "<Figure size 432x288 with 1 Axes>"
            ]
          },
          "metadata": {
            "tags": [],
            "needs_background": "light"
          }
        }
      ]
    },
    {
      "cell_type": "code",
      "metadata": {
        "id": "4Hqi9uGt8kOV",
        "outputId": "cb02e4ce-bd88-4cef-ebed-abf8efa47fc9",
        "colab": {
          "base_uri": "https://localhost:8080/",
          "height": 297
        }
      },
      "source": [
        "from sklearn.metrics import plot_confusion_matrix\n",
        "plot_confusion_matrix(Xgb_best,x_test,y_test,values_format=\"d\",display_labels=[\"CVD\",\"No CVD\"])"
      ],
      "execution_count": 106,
      "outputs": [
        {
          "output_type": "execute_result",
          "data": {
            "text/plain": [
              "<sklearn.metrics._plot.confusion_matrix.ConfusionMatrixDisplay at 0x7f1f2e3ab5c0>"
            ]
          },
          "metadata": {
            "tags": []
          },
          "execution_count": 106
        },
        {
          "output_type": "display_data",
          "data": {
            "image/png": "[encoded data removed]",
            "text/plain": [
              "<Figure size 432x288 with 2 Axes>"
            ]
          },
          "metadata": {
            "tags": [],
            "needs_background": "light"
          }
        }
      ]
    },
    {
      "cell_type": "code",
      "metadata": {
        "id": "-HpOZ5uB-eKz",
        "outputId": "eb40059c-b762-4208-e863-ef0f2f39d54a",
        "colab": {
          "base_uri": "https://localhost:8080/",
          "height": 430
        }
      },
      "source": [
        "import xgboost as xgb\n",
        "\n",
        "# bst=Xgb_best.get_booster()\n",
        "# for importance_type in (\"weight\" , \"gain\", \"cover\", \"total_gain\", \"total_cover\"):\n",
        "#   print('%s: ' % importance_type, bst.get_score(importance_type=importance_type)))\n",
        "node_params={\"shape\" : \"box\",\n",
        "             \"style\": \"filled,rounded\",\n",
        "             \"fillcolor\": \"#78cbe\"}\n",
        "\n",
        "leaf_params={\"shape\" : \"box\",\n",
        "             \"style\": \"filled,rounded\",\n",
        "             \"fillcolor\": \"#e48038\"}\n",
        "\n",
        "xgb.to_graphviz(Xgb_best,num_trees=0,size=\"40,40\",\n",
        "                condition_node_params=node_params,\n",
        "                leaf_node_params=leaf_params)"
      ],
      "execution_count": 112,
      "outputs": [
        {
          "output_type": "execute_result",
          "data": {
            "text/plain": [
              "<graphviz.dot.Digraph at 0x7f1f4075e198>"
            ],
            "image/svg+xml": "<?xml version=\"1.0\" encoding=\"UTF-8\" standalone=\"no\"?>\n<!DOCTYPE svg PUBLIC \"-//W3C//DTD SVG 1.1//EN\"\n \"http://www.w3.org/Graphics/SVG/1.1/DTD/svg11.dtd\">\n<!-- Generated by graphviz version 2.40.1 (20161225.0304)\n -->\n<!-- Title: %3 Pages: 1 -->\n<svg width=\"2880pt\" height=\"292pt\"\n viewBox=\"0.00 0.00 2880.00 292.40\" xmlns=\"http://www.w3.org/2000/svg\" xmlns:xlink=\"http://www.w3.org/1999/xlink\">\n<g id=\"graph0\" class=\"graph\" transform=\"scale(.6104 .6104) rotate(0) translate(4 475)\">\n<title>%3</title>\n<polygon fill=\"#ffffff\" stroke=\"transparent\" points=\"-4,4 -4,-475 4714,-475 4714,4 -4,4\"/>\n<!-- 0 -->\n<g id=\"node1\" class=\"node\">\n<title>0</title>\n<path fill=\"#78cb0e\" stroke=\"#000000\" d=\"M2270.5,-471C2270.5,-471 2160.5,-471 2160.5,-471 2154.5,-471 2148.5,-465 2148.5,-459 2148.5,-459 2148.5,-447 2148.5,-447 2148.5,-441 2154.5,-435 2160.5,-435 2160.5,-435 2270.5,-435 2270.5,-435 2276.5,-435 2282.5,-441 2282.5,-447 2282.5,-447 2282.5,-459 2282.5,-459 2282.5,-465 2276.5,-471 2270.5,-471\"/>\n<text text-anchor=\"middle\" x=\"2215.5\" y=\"-449.3\" font-family=\"Times,serif\" font-size=\"14.00\" fill=\"#000000\">f6&lt;6.99578159e&#45;05</text>\n</g>\n<!-- 1 -->\n<g id=\"node2\" class=\"node\">\n<title>1</title>\n<path fill=\"#78cb0e\" stroke=\"#000000\" d=\"M1823.5,-384C1823.5,-384 1713.5,-384 1713.5,-384 1707.5,-384 1701.5,-378 1701.5,-372 1701.5,-372 1701.5,-360 1701.5,-360 1701.5,-354 1707.5,-348 1713.5,-348 1713.5,-348 1823.5,-348 1823.5,-348 1829.5,-348 1835.5,-354 1835.5,-360 1835.5,-360 1835.5,-372 1835.5,-372 1835.5,-378 1829.5,-384 1823.5,-384\"/>\n<text text-anchor=\"middle\" x=\"1768.5\" y=\"-362.3\" font-family=\"Times,serif\" font-size=\"14.00\" fill=\"#000000\">f6&lt;5.13569248e&#45;05</text>\n</g>\n<!-- 0&#45;&gt;1 -->\n<g id=\"edge1\" class=\"edge\">\n<title>0&#45;&gt;1</title>\n<path fill=\"none\" stroke=\"#0000ff\" d=\"M2148.0956,-439.881C2066.9224,-424.0822 1930.8808,-397.6043 1845.6048,-381.007\"/>\n<polygon fill=\"#0000ff\" stroke=\"#0000ff\" points=\"1846.2054,-377.5583 1835.7209,-379.0833 1844.868,-384.4293 1846.2054,-377.5583\"/>\n<text text-anchor=\"middle\" x=\"2055\" y=\"-405.8\" font-family=\"Times,serif\" font-size=\"14.00\" fill=\"#000000\">yes, missing</text>\n</g>\n<!-- 2 -->\n<g id=\"node3\" class=\"node\">\n<title>2</title>\n<path fill=\"#78cb0e\" stroke=\"#000000\" d=\"M2998,-384C2998,-384 2885,-384 2885,-384 2879,-384 2873,-378 2873,-372 2873,-372 2873,-360 2873,-360 2873,-354 2879,-348 2885,-348 2885,-348 2998,-348 2998,-348 3004,-348 3010,-354 3010,-360 3010,-360 3010,-372 3010,-372 3010,-378 3004,-384 2998,-384\"/>\n<text text-anchor=\"middle\" x=\"2941.5\" y=\"-362.3\" font-family=\"Times,serif\" font-size=\"14.00\" fill=\"#000000\">f6&lt;0.000127119929</text>\n</g>\n<!-- 0&#45;&gt;2 -->\n<g id=\"edge2\" class=\"edge\">\n<title>0&#45;&gt;2</title>\n<path fill=\"none\" stroke=\"#ff0000\" d=\"M2282.8234,-444.9323C2417.4761,-428.7963 2719.3333,-392.6233 2862.834,-375.4269\"/>\n<polygon fill=\"#ff0000\" stroke=\"#ff0000\" points=\"2863.3754,-378.8872 2872.8879,-374.2221 2862.5425,-371.9369 2863.3754,-378.8872\"/>\n<text text-anchor=\"middle\" x=\"2630.5\" y=\"-405.8\" font-family=\"Times,serif\" font-size=\"14.00\" fill=\"#000000\">no</text>\n</g>\n<!-- 3 -->\n<g id=\"node4\" class=\"node\">\n<title>3</title>\n<path fill=\"#78cb0e\" stroke=\"#000000\" d=\"M951.5,-297C951.5,-297 859.5,-297 859.5,-297 853.5,-297 847.5,-291 847.5,-285 847.5,-285 847.5,-273 847.5,-273 847.5,-267 853.5,-261 859.5,-261 859.5,-261 951.5,-261 951.5,-261 957.5,-261 963.5,-267 963.5,-273 963.5,-273 963.5,-285 963.5,-285 963.5,-291 957.5,-297 951.5,-297\"/>\n<text text-anchor=\"middle\" x=\"905.5\" y=\"-275.3\" font-family=\"Times,serif\" font-size=\"14.00\" fill=\"#000000\">f0&lt;0.999926567</text>\n</g>\n<!-- 1&#45;&gt;3 -->\n<g id=\"edge3\" class=\"edge\">\n<title>1&#45;&gt;3</title>\n<path fill=\"none\" stroke=\"#0000ff\" d=\"M1701.4999,-359.2456C1540.9705,-343.0625 1135.7,-302.2067 973.8291,-285.8883\"/>\n<polygon fill=\"#0000ff\" stroke=\"#0000ff\" points=\"973.8248,-282.3702 963.5241,-284.8495 973.1226,-289.3349 973.8248,-282.3702\"/>\n<text text-anchor=\"middle\" x=\"1425\" y=\"-318.8\" font-family=\"Times,serif\" font-size=\"14.00\" fill=\"#000000\">yes, missing</text>\n</g>\n<!-- 4 -->\n<g id=\"node5\" class=\"node\">\n<title>4</title>\n<path fill=\"#78cb0e\" stroke=\"#000000\" d=\"M1823.5,-297C1823.5,-297 1713.5,-297 1713.5,-297 1707.5,-297 1701.5,-291 1701.5,-285 1701.5,-285 1701.5,-273 1701.5,-273 1701.5,-267 1707.5,-261 1713.5,-261 1713.5,-261 1823.5,-261 1823.5,-261 1829.5,-261 1835.5,-267 1835.5,-273 1835.5,-273 1835.5,-285 1835.5,-285 1835.5,-291 1829.5,-297 1823.5,-297\"/>\n<text text-anchor=\"middle\" x=\"1768.5\" y=\"-275.3\" font-family=\"Times,serif\" font-size=\"14.00\" fill=\"#000000\">f6&lt;6.12257281e&#45;05</text>\n</g>\n<!-- 1&#45;&gt;4 -->\n<g id=\"edge4\" class=\"edge\">\n<title>1&#45;&gt;4</title>\n<path fill=\"none\" stroke=\"#ff0000\" d=\"M1768.5,-347.9735C1768.5,-336.1918 1768.5,-320.5607 1768.5,-307.1581\"/>\n<polygon fill=\"#ff0000\" stroke=\"#ff0000\" points=\"1772.0001,-307.0033 1768.5,-297.0034 1765.0001,-307.0034 1772.0001,-307.0033\"/>\n<text text-anchor=\"middle\" x=\"1776.5\" y=\"-318.8\" font-family=\"Times,serif\" font-size=\"14.00\" fill=\"#000000\">no</text>\n</g>\n<!-- 5 -->\n<g id=\"node34\" class=\"node\">\n<title>5</title>\n<path fill=\"#78cb0e\" stroke=\"#000000\" d=\"M2996.5,-297C2996.5,-297 2886.5,-297 2886.5,-297 2880.5,-297 2874.5,-291 2874.5,-285 2874.5,-285 2874.5,-273 2874.5,-273 2874.5,-267 2880.5,-261 2886.5,-261 2886.5,-261 2996.5,-261 2996.5,-261 3002.5,-261 3008.5,-267 3008.5,-273 3008.5,-273 3008.5,-285 3008.5,-285 3008.5,-291 3002.5,-297 2996.5,-297\"/>\n<text text-anchor=\"middle\" x=\"2941.5\" y=\"-275.3\" font-family=\"Times,serif\" font-size=\"14.00\" fill=\"#000000\">f6&lt;9.32440598e&#45;05</text>\n</g>\n<!-- 2&#45;&gt;5 -->\n<g id=\"edge33\" class=\"edge\">\n<title>2&#45;&gt;5</title>\n<path fill=\"none\" stroke=\"#0000ff\" d=\"M2941.5,-347.9735C2941.5,-336.1918 2941.5,-320.5607 2941.5,-307.1581\"/>\n<polygon fill=\"#0000ff\" stroke=\"#0000ff\" points=\"2945.0001,-307.0033 2941.5,-297.0034 2938.0001,-307.0034 2945.0001,-307.0033\"/>\n<text text-anchor=\"middle\" x=\"2977\" y=\"-318.8\" font-family=\"Times,serif\" font-size=\"14.00\" fill=\"#000000\">yes, missing</text>\n</g>\n<!-- 6 -->\n<g id=\"node35\" class=\"node\">\n<title>6</title>\n<path fill=\"#78cb0e\" stroke=\"#000000\" d=\"M3863,-297C3863,-297 3756,-297 3756,-297 3750,-297 3744,-291 3744,-285 3744,-285 3744,-273 3744,-273 3744,-267 3750,-261 3756,-261 3756,-261 3863,-261 3863,-261 3869,-261 3875,-267 3875,-273 3875,-273 3875,-285 3875,-285 3875,-291 3869,-297 3863,-297\"/>\n<text text-anchor=\"middle\" x=\"3809.5\" y=\"-275.3\" font-family=\"Times,serif\" font-size=\"14.00\" fill=\"#000000\">f2&lt;0.00987636019</text>\n</g>\n<!-- 2&#45;&gt;6 -->\n<g id=\"edge34\" class=\"edge\">\n<title>2&#45;&gt;6</title>\n<path fill=\"none\" stroke=\"#ff0000\" d=\"M3010.336,-359.1005C3170.4816,-343.0491 3567.062,-303.2997 3733.7669,-286.5908\"/>\n<polygon fill=\"#ff0000\" stroke=\"#ff0000\" points=\"3734.3302,-290.0519 3743.9313,-285.572 3733.6321,-283.0868 3734.3302,-290.0519\"/>\n<text text-anchor=\"middle\" x=\"3435.5\" y=\"-318.8\" font-family=\"Times,serif\" font-size=\"14.00\" fill=\"#000000\">no</text>\n</g>\n<!-- 7 -->\n<g id=\"node6\" class=\"node\">\n<title>7</title>\n<path fill=\"#78cb0e\" stroke=\"#000000\" d=\"M520,-210C520,-210 413,-210 413,-210 407,-210 401,-204 401,-198 401,-198 401,-186 401,-186 401,-180 407,-174 413,-174 413,-174 520,-174 520,-174 526,-174 532,-180 532,-186 532,-186 532,-198 532,-198 532,-204 526,-210 520,-210\"/>\n<text text-anchor=\"middle\" x=\"466.5\" y=\"-188.3\" font-family=\"Times,serif\" font-size=\"14.00\" fill=\"#000000\">f2&lt;0.00863131694</text>\n</g>\n<!-- 3&#45;&gt;7 -->\n<g id=\"edge5\" class=\"edge\">\n<title>3&#45;&gt;7</title>\n<path fill=\"none\" stroke=\"#0000ff\" d=\"M847.2042,-267.4471C768.6808,-251.8855 628.8148,-224.1672 542.2311,-207.0082\"/>\n<polygon fill=\"#0000ff\" stroke=\"#0000ff\" points=\"542.6938,-203.5319 532.2042,-205.0211 541.333,-210.3984 542.6938,-203.5319\"/>\n<text text-anchor=\"middle\" x=\"748\" y=\"-231.8\" font-family=\"Times,serif\" font-size=\"14.00\" fill=\"#000000\">yes, missing</text>\n</g>\n<!-- 8 -->\n<g id=\"node7\" class=\"node\">\n<title>8</title>\n<path fill=\"#78cb0e\" stroke=\"#000000\" d=\"M960.5,-210C960.5,-210 850.5,-210 850.5,-210 844.5,-210 838.5,-204 838.5,-198 838.5,-198 838.5,-186 838.5,-186 838.5,-180 844.5,-174 850.5,-174 850.5,-174 960.5,-174 960.5,-174 966.5,-174 972.5,-180 972.5,-186 972.5,-186 972.5,-198 972.5,-198 972.5,-204 966.5,-210 960.5,-210\"/>\n<text text-anchor=\"middle\" x=\"905.5\" y=\"-188.3\" font-family=\"Times,serif\" font-size=\"14.00\" fill=\"#000000\">f6&lt;4.51369706e&#45;05</text>\n</g>\n<!-- 3&#45;&gt;8 -->\n<g id=\"edge6\" class=\"edge\">\n<title>3&#45;&gt;8</title>\n<path fill=\"none\" stroke=\"#ff0000\" d=\"M905.5,-260.9735C905.5,-249.1918 905.5,-233.5607 905.5,-220.1581\"/>\n<polygon fill=\"#ff0000\" stroke=\"#ff0000\" points=\"909.0001,-220.0033 905.5,-210.0034 902.0001,-220.0034 909.0001,-220.0033\"/>\n<text text-anchor=\"middle\" x=\"913.5\" y=\"-231.8\" font-family=\"Times,serif\" font-size=\"14.00\" fill=\"#000000\">no</text>\n</g>\n<!-- 9 -->\n<g id=\"node20\" class=\"node\">\n<title>9</title>\n<path fill=\"#78cb0e\" stroke=\"#000000\" d=\"M1714.5,-210C1714.5,-210 1622.5,-210 1622.5,-210 1616.5,-210 1610.5,-204 1610.5,-198 1610.5,-198 1610.5,-186 1610.5,-186 1610.5,-180 1616.5,-174 1622.5,-174 1622.5,-174 1714.5,-174 1714.5,-174 1720.5,-174 1726.5,-180 1726.5,-186 1726.5,-186 1726.5,-198 1726.5,-198 1726.5,-204 1720.5,-210 1714.5,-210\"/>\n<text text-anchor=\"middle\" x=\"1668.5\" y=\"-188.3\" font-family=\"Times,serif\" font-size=\"14.00\" fill=\"#000000\">f0&lt;0.999910235</text>\n</g>\n<!-- 4&#45;&gt;9 -->\n<g id=\"edge19\" class=\"edge\">\n<title>4&#45;&gt;9</title>\n<path fill=\"none\" stroke=\"#0000ff\" d=\"M1747.7799,-260.9735C1733.0309,-248.1419 1713.0337,-230.7443 1696.8133,-216.6326\"/>\n<polygon fill=\"#0000ff\" stroke=\"#0000ff\" points=\"1699.0353,-213.9265 1689.1935,-210.0034 1694.4407,-219.2076 1699.0353,-213.9265\"/>\n<text text-anchor=\"middle\" x=\"1760\" y=\"-231.8\" font-family=\"Times,serif\" font-size=\"14.00\" fill=\"#000000\">yes, missing</text>\n</g>\n<!-- 10 -->\n<g id=\"node21\" class=\"node\">\n<title>10</title>\n<path fill=\"#78cb0e\" stroke=\"#000000\" d=\"M2015.5,-210C2015.5,-210 1923.5,-210 1923.5,-210 1917.5,-210 1911.5,-204 1911.5,-198 1911.5,-198 1911.5,-186 1911.5,-186 1911.5,-180 1917.5,-174 1923.5,-174 1923.5,-174 2015.5,-174 2015.5,-174 2021.5,-174 2027.5,-180 2027.5,-186 2027.5,-186 2027.5,-198 2027.5,-198 2027.5,-204 2021.5,-210 2015.5,-210\"/>\n<text text-anchor=\"middle\" x=\"1969.5\" y=\"-188.3\" font-family=\"Times,serif\" font-size=\"14.00\" fill=\"#000000\">f0&lt;0.999864817</text>\n</g>\n<!-- 4&#45;&gt;10 -->\n<g id=\"edge20\" class=\"edge\">\n<title>4&#45;&gt;10</title>\n<path fill=\"none\" stroke=\"#ff0000\" d=\"M1810.1473,-260.9735C1841.6793,-247.3254 1885.1456,-228.5116 1918.7175,-213.9805\"/>\n<polygon fill=\"#ff0000\" stroke=\"#ff0000\" points=\"1920.1191,-217.1877 1927.906,-210.0034 1917.3385,-210.7636 1920.1191,-217.1877\"/>\n<text text-anchor=\"middle\" x=\"1889.5\" y=\"-231.8\" font-family=\"Times,serif\" font-size=\"14.00\" fill=\"#000000\">no</text>\n</g>\n<!-- 15 -->\n<g id=\"node8\" class=\"node\">\n<title>15</title>\n<path fill=\"#78cb0e\" stroke=\"#000000\" d=\"M267.5,-123C267.5,-123 157.5,-123 157.5,-123 151.5,-123 145.5,-117 145.5,-111 145.5,-111 145.5,-99 145.5,-99 145.5,-93 151.5,-87 157.5,-87 157.5,-87 267.5,-87 267.5,-87 273.5,-87 279.5,-93 279.5,-99 279.5,-99 279.5,-111 279.5,-111 279.5,-117 273.5,-123 267.5,-123\"/>\n<text text-anchor=\"middle\" x=\"212.5\" y=\"-101.3\" font-family=\"Times,serif\" font-size=\"14.00\" fill=\"#000000\">f8&lt;5.09567726e&#45;05</text>\n</g>\n<!-- 7&#45;&gt;15 -->\n<g id=\"edge7\" class=\"edge\">\n<title>7&#45;&gt;15</title>\n<path fill=\"none\" stroke=\"#0000ff\" d=\"M413.871,-173.9735C373.4286,-160.1212 317.4506,-140.9477 274.7777,-126.3313\"/>\n<polygon fill=\"#0000ff\" stroke=\"#0000ff\" points=\"275.6561,-122.9327 265.0615,-123.0034 273.3878,-129.555 275.6561,-122.9327\"/>\n<text text-anchor=\"middle\" x=\"391\" y=\"-144.8\" font-family=\"Times,serif\" font-size=\"14.00\" fill=\"#000000\">yes, missing</text>\n</g>\n<!-- 16 -->\n<g id=\"node9\" class=\"node\">\n<title>16</title>\n<path fill=\"#78cb0e\" stroke=\"#000000\" d=\"M512.5,-123C512.5,-123 420.5,-123 420.5,-123 414.5,-123 408.5,-117 408.5,-111 408.5,-111 408.5,-99 408.5,-99 408.5,-93 414.5,-87 420.5,-87 420.5,-87 512.5,-87 512.5,-87 518.5,-87 524.5,-93 524.5,-99 524.5,-99 524.5,-111 524.5,-111 524.5,-117 518.5,-123 512.5,-123\"/>\n<text text-anchor=\"middle\" x=\"466.5\" y=\"-101.3\" font-family=\"Times,serif\" font-size=\"14.00\" fill=\"#000000\">f0&lt;0.999920249</text>\n</g>\n<!-- 7&#45;&gt;16 -->\n<g id=\"edge8\" class=\"edge\">\n<title>7&#45;&gt;16</title>\n<path fill=\"none\" stroke=\"#ff0000\" d=\"M466.5,-173.9735C466.5,-162.1918 466.5,-146.5607 466.5,-133.1581\"/>\n<polygon fill=\"#ff0000\" stroke=\"#ff0000\" points=\"470.0001,-133.0033 466.5,-123.0034 463.0001,-133.0034 470.0001,-133.0033\"/>\n<text text-anchor=\"middle\" x=\"474.5\" y=\"-144.8\" font-family=\"Times,serif\" font-size=\"14.00\" fill=\"#000000\">no</text>\n</g>\n<!-- 17 -->\n<g id=\"node14\" class=\"node\">\n<title>17</title>\n<path fill=\"#78cb0e\" stroke=\"#000000\" d=\"M859.5,-123C859.5,-123 767.5,-123 767.5,-123 761.5,-123 755.5,-117 755.5,-111 755.5,-111 755.5,-99 755.5,-99 755.5,-93 761.5,-87 767.5,-87 767.5,-87 859.5,-87 859.5,-87 865.5,-87 871.5,-93 871.5,-99 871.5,-99 871.5,-111 871.5,-111 871.5,-117 865.5,-123 859.5,-123\"/>\n<text text-anchor=\"middle\" x=\"813.5\" y=\"-101.3\" font-family=\"Times,serif\" font-size=\"14.00\" fill=\"#000000\">f0&lt;0.999944687</text>\n</g>\n<!-- 8&#45;&gt;17 -->\n<g id=\"edge13\" class=\"edge\">\n<title>8&#45;&gt;17</title>\n<path fill=\"none\" stroke=\"#0000ff\" d=\"M879.8876,-173.809C872.734,-168.3522 865.1136,-162.1702 858.5,-156 850.2559,-148.3086 841.9013,-139.2597 834.6656,-130.936\"/>\n<polygon fill=\"#0000ff\" stroke=\"#0000ff\" points=\"837.2616,-128.5862 828.1112,-123.2458 831.9341,-133.1269 837.2616,-128.5862\"/>\n<text text-anchor=\"middle\" x=\"894\" y=\"-144.8\" font-family=\"Times,serif\" font-size=\"14.00\" fill=\"#000000\">yes, missing</text>\n</g>\n<!-- 18 -->\n<g id=\"node15\" class=\"node\">\n<title>18</title>\n<path fill=\"#78cb0e\" stroke=\"#000000\" d=\"M1023.5,-123C1023.5,-123 913.5,-123 913.5,-123 907.5,-123 901.5,-117 901.5,-111 901.5,-111 901.5,-99 901.5,-99 901.5,-93 907.5,-87 913.5,-87 913.5,-87 1023.5,-87 1023.5,-87 1029.5,-87 1035.5,-93 1035.5,-99 1035.5,-99 1035.5,-111 1035.5,-111 1035.5,-117 1029.5,-123 1023.5,-123\"/>\n<text text-anchor=\"middle\" x=\"968.5\" y=\"-101.3\" font-family=\"Times,serif\" font-size=\"14.00\" fill=\"#000000\">f6&lt;4.78838992e&#45;05</text>\n</g>\n<!-- 8&#45;&gt;18 -->\n<g id=\"edge14\" class=\"edge\">\n<title>8&#45;&gt;18</title>\n<path fill=\"none\" stroke=\"#ff0000\" d=\"M918.5536,-173.9735C927.5076,-161.6085 939.5319,-145.0036 949.5387,-131.1847\"/>\n<polygon fill=\"#ff0000\" stroke=\"#ff0000\" points=\"952.4327,-133.1556 955.4631,-123.0034 946.7631,-129.05 952.4327,-133.1556\"/>\n<text text-anchor=\"middle\" x=\"949.5\" y=\"-144.8\" font-family=\"Times,serif\" font-size=\"14.00\" fill=\"#000000\">no</text>\n</g>\n<!-- 31 -->\n<g id=\"node10\" class=\"node\">\n<title>31</title>\n<path fill=\"#e48038\" stroke=\"#000000\" d=\"M111,-36C111,-36 12,-36 12,-36 6,-36 0,-30 0,-24 0,-24 0,-12 0,-12 0,-6 6,0 12,0 12,0 111,0 111,0 117,0 123,-6 123,-12 123,-12 123,-24 123,-24 123,-30 117,-36 111,-36\"/>\n<text text-anchor=\"middle\" x=\"61.5\" y=\"-14.3\" font-family=\"Times,serif\" font-size=\"14.00\" fill=\"#000000\">leaf=0.117122926</text>\n</g>\n<!-- 15&#45;&gt;31 -->\n<g id=\"edge9\" class=\"edge\">\n<title>15&#45;&gt;31</title>\n<path fill=\"none\" stroke=\"#0000ff\" d=\"M172.2506,-86.9862C160.8451,-81.5323 148.5345,-75.3074 137.5,-69 123.1281,-60.785 107.8672,-50.8101 94.821,-41.8682\"/>\n<polygon fill=\"#0000ff\" stroke=\"#0000ff\" points=\"96.812,-38.9897 86.5992,-36.1702 92.8246,-44.7431 96.812,-38.9897\"/>\n<text text-anchor=\"middle\" x=\"173\" y=\"-57.8\" font-family=\"Times,serif\" font-size=\"14.00\" fill=\"#000000\">yes, missing</text>\n</g>\n<!-- 32 -->\n<g id=\"node11\" class=\"node\">\n<title>32</title>\n<path fill=\"#e48038\" stroke=\"#000000\" d=\"M272,-36C272,-36 153,-36 153,-36 147,-36 141,-30 141,-24 141,-24 141,-12 141,-12 141,-6 147,0 153,0 153,0 272,0 272,0 278,0 284,-6 284,-12 284,-12 284,-24 284,-24 284,-30 278,-36 272,-36\"/>\n<text text-anchor=\"middle\" x=\"212.5\" y=\"-14.3\" font-family=\"Times,serif\" font-size=\"14.00\" fill=\"#000000\">leaf=&#45;0.00769230817</text>\n</g>\n<!-- 15&#45;&gt;32 -->\n<g id=\"edge10\" class=\"edge\">\n<title>15&#45;&gt;32</title>\n<path fill=\"none\" stroke=\"#ff0000\" d=\"M212.5,-86.9735C212.5,-75.1918 212.5,-59.5607 212.5,-46.1581\"/>\n<polygon fill=\"#ff0000\" stroke=\"#ff0000\" points=\"216.0001,-46.0033 212.5,-36.0034 209.0001,-46.0034 216.0001,-46.0033\"/>\n<text text-anchor=\"middle\" x=\"220.5\" y=\"-57.8\" font-family=\"Times,serif\" font-size=\"14.00\" fill=\"#000000\">no</text>\n</g>\n<!-- 33 -->\n<g id=\"node12\" class=\"node\">\n<title>33</title>\n<path fill=\"#e48038\" stroke=\"#000000\" d=\"M421,-36C421,-36 314,-36 314,-36 308,-36 302,-30 302,-24 302,-24 302,-12 302,-12 302,-6 308,0 314,0 314,0 421,0 421,0 427,0 433,-6 433,-12 433,-12 433,-24 433,-24 433,-30 427,-36 421,-36\"/>\n<text text-anchor=\"middle\" x=\"367.5\" y=\"-14.3\" font-family=\"Times,serif\" font-size=\"14.00\" fill=\"#000000\">leaf=0.0844192654</text>\n</g>\n<!-- 16&#45;&gt;33 -->\n<g id=\"edge11\" class=\"edge\">\n<title>16&#45;&gt;33</title>\n<path fill=\"none\" stroke=\"#0000ff\" d=\"M438.7389,-86.9174C430.9769,-81.4624 422.7004,-75.2541 415.5,-69 406.6444,-61.3083 397.6469,-52.1714 389.8719,-43.7708\"/>\n<polygon fill=\"#0000ff\" stroke=\"#0000ff\" points=\"392.4269,-41.3781 383.1144,-36.3256 387.2435,-46.0827 392.4269,-41.3781\"/>\n<text text-anchor=\"middle\" x=\"451\" y=\"-57.8\" font-family=\"Times,serif\" font-size=\"14.00\" fill=\"#000000\">yes, missing</text>\n</g>\n<!-- 34 -->\n<g id=\"node13\" class=\"node\">\n<title>34</title>\n<path fill=\"#e48038\" stroke=\"#000000\" d=\"M575.5,-36C575.5,-36 463.5,-36 463.5,-36 457.5,-36 451.5,-30 451.5,-24 451.5,-24 451.5,-12 451.5,-12 451.5,-6 457.5,0 463.5,0 463.5,0 575.5,0 575.5,0 581.5,0 587.5,-6 587.5,-12 587.5,-12 587.5,-24 587.5,-24 587.5,-30 581.5,-36 575.5,-36\"/>\n<text text-anchor=\"middle\" x=\"519.5\" y=\"-14.3\" font-family=\"Times,serif\" font-size=\"14.00\" fill=\"#000000\">leaf=&#45;0.0403990038</text>\n</g>\n<!-- 16&#45;&gt;34 -->\n<g id=\"edge12\" class=\"edge\">\n<title>16&#45;&gt;34</title>\n<path fill=\"none\" stroke=\"#ff0000\" d=\"M477.4816,-86.9735C484.9433,-74.7252 494.9394,-58.3165 503.3097,-44.5766\"/>\n<polygon fill=\"#ff0000\" stroke=\"#ff0000\" points=\"506.3188,-46.3644 508.5324,-36.0034 500.3408,-42.7225 506.3188,-46.3644\"/>\n<text text-anchor=\"middle\" x=\"504.5\" y=\"-57.8\" font-family=\"Times,serif\" font-size=\"14.00\" fill=\"#000000\">no</text>\n</g>\n<!-- 35 -->\n<g id=\"node16\" class=\"node\">\n<title>35</title>\n<path fill=\"#e48038\" stroke=\"#000000\" d=\"M717.5,-36C717.5,-36 617.5,-36 617.5,-36 611.5,-36 605.5,-30 605.5,-24 605.5,-24 605.5,-12 605.5,-12 605.5,-6 611.5,0 617.5,0 617.5,0 717.5,0 717.5,0 723.5,0 729.5,-6 729.5,-12 729.5,-12 729.5,-24 729.5,-24 729.5,-30 723.5,-36 717.5,-36\"/>\n<text text-anchor=\"middle\" x=\"667.5\" y=\"-14.3\" font-family=\"Times,serif\" font-size=\"14.00\" fill=\"#000000\">leaf=0.105814628</text>\n</g>\n<!-- 17&#45;&gt;35 -->\n<g id=\"edge15\" class=\"edge\">\n<title>17&#45;&gt;35</title>\n<path fill=\"none\" stroke=\"#0000ff\" d=\"M772.3398,-86.8395C761.1539,-81.4765 749.1841,-75.3351 738.5,-69 724.9233,-60.9498 710.6599,-51.0234 698.5085,-42.0738\"/>\n<polygon fill=\"#0000ff\" stroke=\"#0000ff\" points=\"700.5743,-39.2483 690.4677,-36.0691 696.3858,-44.8569 700.5743,-39.2483\"/>\n<text text-anchor=\"middle\" x=\"774\" y=\"-57.8\" font-family=\"Times,serif\" font-size=\"14.00\" fill=\"#000000\">yes, missing</text>\n</g>\n<!-- 36 -->\n<g id=\"node17\" class=\"node\">\n<title>36</title>\n<path fill=\"#e48038\" stroke=\"#000000\" d=\"M867,-36C867,-36 760,-36 760,-36 754,-36 748,-30 748,-24 748,-24 748,-12 748,-12 748,-6 754,0 760,0 760,0 867,0 867,0 873,0 879,-6 879,-12 879,-12 879,-24 879,-24 879,-30 873,-36 867,-36\"/>\n<text text-anchor=\"middle\" x=\"813.5\" y=\"-14.3\" font-family=\"Times,serif\" font-size=\"14.00\" fill=\"#000000\">leaf=0.0303628035</text>\n</g>\n<!-- 17&#45;&gt;36 -->\n<g id=\"edge16\" class=\"edge\">\n<title>17&#45;&gt;36</title>\n<path fill=\"none\" stroke=\"#ff0000\" d=\"M813.5,-86.9735C813.5,-75.1918 813.5,-59.5607 813.5,-46.1581\"/>\n<polygon fill=\"#ff0000\" stroke=\"#ff0000\" points=\"817.0001,-46.0033 813.5,-36.0034 810.0001,-46.0034 817.0001,-46.0033\"/>\n<text text-anchor=\"middle\" x=\"821.5\" y=\"-57.8\" font-family=\"Times,serif\" font-size=\"14.00\" fill=\"#000000\">no</text>\n</g>\n<!-- 37 -->\n<g id=\"node18\" class=\"node\">\n<title>37</title>\n<path fill=\"#e48038\" stroke=\"#000000\" d=\"M1028,-36C1028,-36 909,-36 909,-36 903,-36 897,-30 897,-24 897,-24 897,-12 897,-12 897,-6 903,0 909,0 909,0 1028,0 1028,0 1034,0 1040,-6 1040,-12 1040,-12 1040,-24 1040,-24 1040,-30 1034,-36 1028,-36\"/>\n<text text-anchor=\"middle\" x=\"968.5\" y=\"-14.3\" font-family=\"Times,serif\" font-size=\"14.00\" fill=\"#000000\">leaf=&#45;0.00314781792</text>\n</g>\n<!-- 18&#45;&gt;37 -->\n<g id=\"edge17\" class=\"edge\">\n<title>18&#45;&gt;37</title>\n<path fill=\"none\" stroke=\"#0000ff\" d=\"M968.5,-86.9735C968.5,-75.1918 968.5,-59.5607 968.5,-46.1581\"/>\n<polygon fill=\"#0000ff\" stroke=\"#0000ff\" points=\"972.0001,-46.0033 968.5,-36.0034 965.0001,-46.0034 972.0001,-46.0033\"/>\n<text text-anchor=\"middle\" x=\"1004\" y=\"-57.8\" font-family=\"Times,serif\" font-size=\"14.00\" fill=\"#000000\">yes, missing</text>\n</g>\n<!-- 38 -->\n<g id=\"node19\" class=\"node\">\n<title>38</title>\n<path fill=\"#e48038\" stroke=\"#000000\" d=\"M1174.5,-36C1174.5,-36 1070.5,-36 1070.5,-36 1064.5,-36 1058.5,-30 1058.5,-24 1058.5,-24 1058.5,-12 1058.5,-12 1058.5,-6 1064.5,0 1070.5,0 1070.5,0 1174.5,0 1174.5,0 1180.5,0 1186.5,-6 1186.5,-12 1186.5,-12 1186.5,-24 1186.5,-24 1186.5,-30 1180.5,-36 1174.5,-36\"/>\n<text text-anchor=\"middle\" x=\"1122.5\" y=\"-14.3\" font-family=\"Times,serif\" font-size=\"14.00\" fill=\"#000000\">leaf=&#45;0.049981866</text>\n</g>\n<!-- 18&#45;&gt;38 -->\n<g id=\"edge18\" class=\"edge\">\n<title>18&#45;&gt;38</title>\n<path fill=\"none\" stroke=\"#ff0000\" d=\"M1008.6775,-86.8592C1020.0819,-81.4032 1032.4098,-75.209 1043.5,-69 1058.3398,-60.6917 1074.1846,-50.6994 1087.7589,-41.7697\"/>\n<polygon fill=\"#ff0000\" stroke=\"#ff0000\" points=\"1089.9253,-44.5325 1096.3178,-36.0835 1086.0516,-38.702 1089.9253,-44.5325\"/>\n<text text-anchor=\"middle\" x=\"1076.5\" y=\"-57.8\" font-family=\"Times,serif\" font-size=\"14.00\" fill=\"#000000\">no</text>\n</g>\n<!-- 19 -->\n<g id=\"node22\" class=\"node\">\n<title>19</title>\n<path fill=\"#78cb0e\" stroke=\"#000000\" d=\"M1476,-123C1476,-123 1369,-123 1369,-123 1363,-123 1357,-117 1357,-111 1357,-111 1357,-99 1357,-99 1357,-93 1363,-87 1369,-87 1369,-87 1476,-87 1476,-87 1482,-87 1488,-93 1488,-99 1488,-99 1488,-111 1488,-111 1488,-117 1482,-123 1476,-123\"/>\n<text text-anchor=\"middle\" x=\"1422.5\" y=\"-101.3\" font-family=\"Times,serif\" font-size=\"14.00\" fill=\"#000000\">f2&lt;0.00958932377</text>\n</g>\n<!-- 9&#45;&gt;19 -->\n<g id=\"edge21\" class=\"edge\">\n<title>9&#45;&gt;19</title>\n<path fill=\"none\" stroke=\"#0000ff\" d=\"M1617.5286,-173.9735C1578.4425,-160.1504 1524.3733,-141.0284 1483.0774,-126.4237\"/>\n<polygon fill=\"#0000ff\" stroke=\"#0000ff\" points=\"1484.0008,-123.0379 1473.4061,-123.0034 1481.6668,-129.6374 1484.0008,-123.0379\"/>\n<text text-anchor=\"middle\" x=\"1596\" y=\"-144.8\" font-family=\"Times,serif\" font-size=\"14.00\" fill=\"#000000\">yes, missing</text>\n</g>\n<!-- 20 -->\n<g id=\"node23\" class=\"node\">\n<title>20</title>\n<path fill=\"#78cb0e\" stroke=\"#000000\" d=\"M1714.5,-123C1714.5,-123 1622.5,-123 1622.5,-123 1616.5,-123 1610.5,-117 1610.5,-111 1610.5,-111 1610.5,-99 1610.5,-99 1610.5,-93 1616.5,-87 1622.5,-87 1622.5,-87 1714.5,-87 1714.5,-87 1720.5,-87 1726.5,-93 1726.5,-99 1726.5,-99 1726.5,-111 1726.5,-111 1726.5,-117 1720.5,-123 1714.5,-123\"/>\n<text text-anchor=\"middle\" x=\"1668.5\" y=\"-101.3\" font-family=\"Times,serif\" font-size=\"14.00\" fill=\"#000000\">f0&lt;0.999918103</text>\n</g>\n<!-- 9&#45;&gt;20 -->\n<g id=\"edge22\" class=\"edge\">\n<title>9&#45;&gt;20</title>\n<path fill=\"none\" stroke=\"#ff0000\" d=\"M1668.5,-173.9735C1668.5,-162.1918 1668.5,-146.5607 1668.5,-133.1581\"/>\n<polygon fill=\"#ff0000\" stroke=\"#ff0000\" points=\"1672.0001,-133.0033 1668.5,-123.0034 1665.0001,-133.0034 1672.0001,-133.0033\"/>\n<text text-anchor=\"middle\" x=\"1676.5\" y=\"-144.8\" font-family=\"Times,serif\" font-size=\"14.00\" fill=\"#000000\">no</text>\n</g>\n<!-- 21 -->\n<g id=\"node28\" class=\"node\">\n<title>21</title>\n<path fill=\"#78cb0e\" stroke=\"#000000\" d=\"M2018.5,-123C2018.5,-123 1920.5,-123 1920.5,-123 1914.5,-123 1908.5,-117 1908.5,-111 1908.5,-111 1908.5,-99 1908.5,-99 1908.5,-93 1914.5,-87 1920.5,-87 1920.5,-87 2018.5,-87 2018.5,-87 2024.5,-87 2030.5,-93 2030.5,-99 2030.5,-99 2030.5,-111 2030.5,-111 2030.5,-117 2024.5,-123 2018.5,-123\"/>\n<text text-anchor=\"middle\" x=\"1969.5\" y=\"-101.3\" font-family=\"Times,serif\" font-size=\"14.00\" fill=\"#000000\">f2&lt;0.0118990457</text>\n</g>\n<!-- 10&#45;&gt;21 -->\n<g id=\"edge27\" class=\"edge\">\n<title>10&#45;&gt;21</title>\n<path fill=\"none\" stroke=\"#0000ff\" d=\"M1969.5,-173.9735C1969.5,-162.1918 1969.5,-146.5607 1969.5,-133.1581\"/>\n<polygon fill=\"#0000ff\" stroke=\"#0000ff\" points=\"1973.0001,-133.0033 1969.5,-123.0034 1966.0001,-133.0034 1973.0001,-133.0033\"/>\n<text text-anchor=\"middle\" x=\"2005\" y=\"-144.8\" font-family=\"Times,serif\" font-size=\"14.00\" fill=\"#000000\">yes, missing</text>\n</g>\n<!-- 22 -->\n<g id=\"node29\" class=\"node\">\n<title>22</title>\n<path fill=\"#78cb0e\" stroke=\"#000000\" d=\"M2227.5,-123C2227.5,-123 2117.5,-123 2117.5,-123 2111.5,-123 2105.5,-117 2105.5,-111 2105.5,-111 2105.5,-99 2105.5,-99 2105.5,-93 2111.5,-87 2117.5,-87 2117.5,-87 2227.5,-87 2227.5,-87 2233.5,-87 2239.5,-93 2239.5,-99 2239.5,-99 2239.5,-111 2239.5,-111 2239.5,-117 2233.5,-123 2227.5,-123\"/>\n<text text-anchor=\"middle\" x=\"2172.5\" y=\"-101.3\" font-family=\"Times,serif\" font-size=\"14.00\" fill=\"#000000\">f6&lt;6.53617753e&#45;05</text>\n</g>\n<!-- 10&#45;&gt;22 -->\n<g id=\"edge28\" class=\"edge\">\n<title>10&#45;&gt;22</title>\n<path fill=\"none\" stroke=\"#ff0000\" d=\"M2011.5617,-173.9735C2043.4075,-160.3254 2087.3062,-141.5116 2121.2122,-126.9805\"/>\n<polygon fill=\"#ff0000\" stroke=\"#ff0000\" points=\"2122.6794,-130.1596 2130.4922,-123.0034 2119.922,-123.7256 2122.6794,-130.1596\"/>\n<text text-anchor=\"middle\" x=\"2091.5\" y=\"-144.8\" font-family=\"Times,serif\" font-size=\"14.00\" fill=\"#000000\">no</text>\n</g>\n<!-- 39 -->\n<g id=\"node24\" class=\"node\">\n<title>39</title>\n<path fill=\"#e48038\" stroke=\"#000000\" d=\"M1324,-36C1324,-36 1217,-36 1217,-36 1211,-36 1205,-30 1205,-24 1205,-24 1205,-12 1205,-12 1205,-6 1211,0 1217,0 1217,0 1324,0 1324,0 1330,0 1336,-6 1336,-12 1336,-12 1336,-24 1336,-24 1336,-30 1330,-36 1324,-36\"/>\n<text text-anchor=\"middle\" x=\"1270.5\" y=\"-14.3\" font-family=\"Times,serif\" font-size=\"14.00\" fill=\"#000000\">leaf=0.0943018124</text>\n</g>\n<!-- 19&#45;&gt;39 -->\n<g id=\"edge23\" class=\"edge\">\n<title>19&#45;&gt;39</title>\n<path fill=\"none\" stroke=\"#0000ff\" d=\"M1382.2751,-86.9432C1370.87,-81.4886 1358.5535,-75.274 1347.5,-69 1332.9725,-60.7541 1317.5171,-50.7735 1304.2948,-41.8356\"/>\n<polygon fill=\"#0000ff\" stroke=\"#0000ff\" points=\"1306.1919,-38.8929 1295.9605,-36.1415 1302.243,-44.6727 1306.1919,-38.8929\"/>\n<text text-anchor=\"middle\" x=\"1383\" y=\"-57.8\" font-family=\"Times,serif\" font-size=\"14.00\" fill=\"#000000\">yes, missing</text>\n</g>\n<!-- 40 -->\n<g id=\"node25\" class=\"node\">\n<title>40</title>\n<path fill=\"#e48038\" stroke=\"#000000\" d=\"M1478.5,-36C1478.5,-36 1366.5,-36 1366.5,-36 1360.5,-36 1354.5,-30 1354.5,-24 1354.5,-24 1354.5,-12 1354.5,-12 1354.5,-6 1360.5,0 1366.5,0 1366.5,0 1478.5,0 1478.5,0 1484.5,0 1490.5,-6 1490.5,-12 1490.5,-12 1490.5,-24 1490.5,-24 1490.5,-30 1484.5,-36 1478.5,-36\"/>\n<text text-anchor=\"middle\" x=\"1422.5\" y=\"-14.3\" font-family=\"Times,serif\" font-size=\"14.00\" fill=\"#000000\">leaf=&#45;0.0256214142</text>\n</g>\n<!-- 19&#45;&gt;40 -->\n<g id=\"edge24\" class=\"edge\">\n<title>19&#45;&gt;40</title>\n<path fill=\"none\" stroke=\"#ff0000\" d=\"M1422.5,-86.9735C1422.5,-75.1918 1422.5,-59.5607 1422.5,-46.1581\"/>\n<polygon fill=\"#ff0000\" stroke=\"#ff0000\" points=\"1426.0001,-46.0033 1422.5,-36.0034 1419.0001,-46.0034 1426.0001,-46.0033\"/>\n<text text-anchor=\"middle\" x=\"1430.5\" y=\"-57.8\" font-family=\"Times,serif\" font-size=\"14.00\" fill=\"#000000\">no</text>\n</g>\n<!-- 41 -->\n<g id=\"node26\" class=\"node\">\n<title>41</title>\n<path fill=\"#e48038\" stroke=\"#000000\" d=\"M1624.5,-36C1624.5,-36 1520.5,-36 1520.5,-36 1514.5,-36 1508.5,-30 1508.5,-24 1508.5,-24 1508.5,-12 1508.5,-12 1508.5,-6 1514.5,0 1520.5,0 1520.5,0 1624.5,0 1624.5,0 1630.5,0 1636.5,-6 1636.5,-12 1636.5,-12 1636.5,-24 1636.5,-24 1636.5,-30 1630.5,-36 1624.5,-36\"/>\n<text text-anchor=\"middle\" x=\"1572.5\" y=\"-14.3\" font-family=\"Times,serif\" font-size=\"14.00\" fill=\"#000000\">leaf=&#45;0.048146762</text>\n</g>\n<!-- 20&#45;&gt;41 -->\n<g id=\"edge25\" class=\"edge\">\n<title>20&#45;&gt;41</title>\n<path fill=\"none\" stroke=\"#0000ff\" d=\"M1639.7231,-86.997C1631.8853,-81.5898 1623.6041,-75.3864 1616.5,-69 1608.1962,-61.5351 1599.9656,-52.5438 1592.9088,-44.2032\"/>\n<polygon fill=\"#0000ff\" stroke=\"#0000ff\" points=\"1595.6006,-41.9661 1586.5386,-36.477 1590.1996,-46.4192 1595.6006,-41.9661\"/>\n<text text-anchor=\"middle\" x=\"1652\" y=\"-57.8\" font-family=\"Times,serif\" font-size=\"14.00\" fill=\"#000000\">yes, missing</text>\n</g>\n<!-- 42 -->\n<g id=\"node27\" class=\"node\">\n<title>42</title>\n<path fill=\"#e48038\" stroke=\"#000000\" d=\"M1770.5,-36C1770.5,-36 1666.5,-36 1666.5,-36 1660.5,-36 1654.5,-30 1654.5,-24 1654.5,-24 1654.5,-12 1654.5,-12 1654.5,-6 1660.5,0 1666.5,0 1666.5,0 1770.5,0 1770.5,0 1776.5,0 1782.5,-6 1782.5,-12 1782.5,-12 1782.5,-24 1782.5,-24 1782.5,-30 1776.5,-36 1770.5,-36\"/>\n<text text-anchor=\"middle\" x=\"1718.5\" y=\"-14.3\" font-family=\"Times,serif\" font-size=\"14.00\" fill=\"#000000\">leaf=&#45;0.101571858</text>\n</g>\n<!-- 20&#45;&gt;42 -->\n<g id=\"edge26\" class=\"edge\">\n<title>20&#45;&gt;42</title>\n<path fill=\"none\" stroke=\"#ff0000\" d=\"M1678.86,-86.9735C1685.8323,-74.8418 1695.1502,-58.6287 1703.0001,-44.9698\"/>\n<polygon fill=\"#ff0000\" stroke=\"#ff0000\" points=\"1706.2049,-46.4175 1708.1532,-36.0034 1700.1358,-42.9295 1706.2049,-46.4175\"/>\n<text text-anchor=\"middle\" x=\"1704.5\" y=\"-57.8\" font-family=\"Times,serif\" font-size=\"14.00\" fill=\"#000000\">no</text>\n</g>\n<!-- 43 -->\n<g id=\"node30\" class=\"node\">\n<title>43</title>\n<path fill=\"#e48038\" stroke=\"#000000\" d=\"M1920,-36C1920,-36 1813,-36 1813,-36 1807,-36 1801,-30 1801,-24 1801,-24 1801,-12 1801,-12 1801,-6 1807,0 1813,0 1813,0 1920,0 1920,0 1926,0 1932,-6 1932,-12 1932,-12 1932,-24 1932,-24 1932,-30 1926,-36 1920,-36\"/>\n<text text-anchor=\"middle\" x=\"1866.5\" y=\"-14.3\" font-family=\"Times,serif\" font-size=\"14.00\" fill=\"#000000\">leaf=0.0842105299</text>\n</g>\n<!-- 21&#45;&gt;43 -->\n<g id=\"edge29\" class=\"edge\">\n<title>21&#45;&gt;43</title>\n<path fill=\"none\" stroke=\"#0000ff\" d=\"M1940.6879,-86.9454C1932.6221,-81.4909 1924.012,-75.2758 1916.5,-69 1907.3203,-61.3309 1897.9589,-52.1997 1889.8563,-43.7972\"/>\n<polygon fill=\"#0000ff\" stroke=\"#0000ff\" points=\"1892.2249,-41.2081 1882.8103,-36.3484 1887.1396,-46.0184 1892.2249,-41.2081\"/>\n<text text-anchor=\"middle\" x=\"1952\" y=\"-57.8\" font-family=\"Times,serif\" font-size=\"14.00\" fill=\"#000000\">yes, missing</text>\n</g>\n<!-- 44 -->\n<g id=\"node31\" class=\"node\">\n<title>44</title>\n<path fill=\"#e48038\" stroke=\"#000000\" d=\"M2074.5,-36C2074.5,-36 1962.5,-36 1962.5,-36 1956.5,-36 1950.5,-30 1950.5,-24 1950.5,-24 1950.5,-12 1950.5,-12 1950.5,-6 1956.5,0 1962.5,0 1962.5,0 2074.5,0 2074.5,0 2080.5,0 2086.5,-6 2086.5,-12 2086.5,-12 2086.5,-24 2086.5,-24 2086.5,-30 2080.5,-36 2074.5,-36\"/>\n<text text-anchor=\"middle\" x=\"2018.5\" y=\"-14.3\" font-family=\"Times,serif\" font-size=\"14.00\" fill=\"#000000\">leaf=&#45;0.0752293617</text>\n</g>\n<!-- 21&#45;&gt;44 -->\n<g id=\"edge30\" class=\"edge\">\n<title>21&#45;&gt;44</title>\n<path fill=\"none\" stroke=\"#ff0000\" d=\"M1979.6528,-86.9735C1986.4856,-74.8418 1995.6172,-58.6287 2003.3101,-44.9698\"/>\n<polygon fill=\"#ff0000\" stroke=\"#ff0000\" points=\"2006.5023,-46.4341 2008.3602,-36.0034 2000.4032,-42.9989 2006.5023,-46.4341\"/>\n<text text-anchor=\"middle\" x=\"2005.5\" y=\"-57.8\" font-family=\"Times,serif\" font-size=\"14.00\" fill=\"#000000\">no</text>\n</g>\n<!-- 45 -->\n<g id=\"node32\" class=\"node\">\n<title>45</title>\n<path fill=\"#e48038\" stroke=\"#000000\" d=\"M2228.5,-36C2228.5,-36 2116.5,-36 2116.5,-36 2110.5,-36 2104.5,-30 2104.5,-24 2104.5,-24 2104.5,-12 2104.5,-12 2104.5,-6 2110.5,0 2116.5,0 2116.5,0 2228.5,0 2228.5,0 2234.5,0 2240.5,-6 2240.5,-12 2240.5,-12 2240.5,-24 2240.5,-24 2240.5,-30 2234.5,-36 2228.5,-36\"/>\n<text text-anchor=\"middle\" x=\"2172.5\" y=\"-14.3\" font-family=\"Times,serif\" font-size=\"14.00\" fill=\"#000000\">leaf=&#45;0.0946140662</text>\n</g>\n<!-- 22&#45;&gt;45 -->\n<g id=\"edge31\" class=\"edge\">\n<title>22&#45;&gt;45</title>\n<path fill=\"none\" stroke=\"#0000ff\" d=\"M2172.5,-86.9735C2172.5,-75.1918 2172.5,-59.5607 2172.5,-46.1581\"/>\n<polygon fill=\"#0000ff\" stroke=\"#0000ff\" points=\"2176.0001,-46.0033 2172.5,-36.0034 2169.0001,-46.0034 2176.0001,-46.0033\"/>\n<text text-anchor=\"middle\" x=\"2208\" y=\"-57.8\" font-family=\"Times,serif\" font-size=\"14.00\" fill=\"#000000\">yes, missing</text>\n</g>\n<!-- 46 -->\n<g id=\"node33\" class=\"node\">\n<title>46</title>\n<path fill=\"#e48038\" stroke=\"#000000\" d=\"M2368,-36C2368,-36 2271,-36 2271,-36 2265,-36 2259,-30 2259,-24 2259,-24 2259,-12 2259,-12 2259,-6 2265,0 2271,0 2271,0 2368,0 2368,0 2374,0 2380,-6 2380,-12 2380,-12 2380,-24 2380,-24 2380,-30 2374,-36 2368,-36\"/>\n<text text-anchor=\"middle\" x=\"2319.5\" y=\"-14.3\" font-family=\"Times,serif\" font-size=\"14.00\" fill=\"#000000\">leaf=&#45;0.14568302</text>\n</g>\n<!-- 22&#45;&gt;46 -->\n<g id=\"edge32\" class=\"edge\">\n<title>22&#45;&gt;46</title>\n<path fill=\"none\" stroke=\"#ff0000\" d=\"M2213.2427,-86.9795C2224.5396,-81.5721 2236.6705,-75.373 2247.5,-69 2261.2299,-60.9202 2275.6871,-50.9882 2288.0146,-42.0425\"/>\n<polygon fill=\"#ff0000\" stroke=\"#ff0000\" points=\"2290.1916,-44.7861 2296.1737,-36.0417 2286.0442,-39.147 2290.1916,-44.7861\"/>\n<text text-anchor=\"middle\" x=\"2278.5\" y=\"-57.8\" font-family=\"Times,serif\" font-size=\"14.00\" fill=\"#000000\">no</text>\n</g>\n<!-- 11 -->\n<g id=\"node36\" class=\"node\">\n<title>11</title>\n<path fill=\"#78cb0e\" stroke=\"#000000\" d=\"M2910.5,-210C2910.5,-210 2818.5,-210 2818.5,-210 2812.5,-210 2806.5,-204 2806.5,-198 2806.5,-198 2806.5,-186 2806.5,-186 2806.5,-180 2812.5,-174 2818.5,-174 2818.5,-174 2910.5,-174 2910.5,-174 2916.5,-174 2922.5,-180 2922.5,-186 2922.5,-186 2922.5,-198 2922.5,-198 2922.5,-204 2916.5,-210 2910.5,-210\"/>\n<text text-anchor=\"middle\" x=\"2864.5\" y=\"-188.3\" font-family=\"Times,serif\" font-size=\"14.00\" fill=\"#000000\">f0&lt;0.999943733</text>\n</g>\n<!-- 5&#45;&gt;11 -->\n<g id=\"edge35\" class=\"edge\">\n<title>5&#45;&gt;11</title>\n<path fill=\"none\" stroke=\"#0000ff\" d=\"M2925.5456,-260.9735C2914.4986,-248.4919 2899.6278,-231.6899 2887.3295,-217.7944\"/>\n<polygon fill=\"#0000ff\" stroke=\"#0000ff\" points=\"2889.6826,-215.172 2880.434,-210.0034 2884.4407,-219.8114 2889.6826,-215.172\"/>\n<text text-anchor=\"middle\" x=\"2944\" y=\"-231.8\" font-family=\"Times,serif\" font-size=\"14.00\" fill=\"#000000\">yes, missing</text>\n</g>\n<!-- 12 -->\n<g id=\"node37\" class=\"node\">\n<title>12</title>\n<path fill=\"#78cb0e\" stroke=\"#000000\" d=\"M3114.5,-210C3114.5,-210 3022.5,-210 3022.5,-210 3016.5,-210 3010.5,-204 3010.5,-198 3010.5,-198 3010.5,-186 3010.5,-186 3010.5,-180 3016.5,-174 3022.5,-174 3022.5,-174 3114.5,-174 3114.5,-174 3120.5,-174 3126.5,-180 3126.5,-186 3126.5,-186 3126.5,-198 3126.5,-198 3126.5,-204 3120.5,-210 3114.5,-210\"/>\n<text text-anchor=\"middle\" x=\"3068.5\" y=\"-188.3\" font-family=\"Times,serif\" font-size=\"14.00\" fill=\"#000000\">f0&lt;0.999920845</text>\n</g>\n<!-- 5&#45;&gt;12 -->\n<g id=\"edge36\" class=\"edge\">\n<title>5&#45;&gt;12</title>\n<path fill=\"none\" stroke=\"#ff0000\" d=\"M2967.8145,-260.9735C2986.9714,-247.8503 3013.1,-229.9512 3033.939,-215.6756\"/>\n<polygon fill=\"#ff0000\" stroke=\"#ff0000\" points=\"3035.9474,-218.5424 3042.2192,-210.0034 3031.9913,-212.7674 3035.9474,-218.5424\"/>\n<text text-anchor=\"middle\" x=\"3021.5\" y=\"-231.8\" font-family=\"Times,serif\" font-size=\"14.00\" fill=\"#000000\">no</text>\n</g>\n<!-- 13 -->\n<g id=\"node50\" class=\"node\">\n<title>13</title>\n<path fill=\"#78cb0e\" stroke=\"#000000\" d=\"M3866.5,-210C3866.5,-210 3752.5,-210 3752.5,-210 3746.5,-210 3740.5,-204 3740.5,-198 3740.5,-198 3740.5,-186 3740.5,-186 3740.5,-180 3746.5,-174 3752.5,-174 3752.5,-174 3866.5,-174 3866.5,-174 3872.5,-174 3878.5,-180 3878.5,-186 3878.5,-186 3878.5,-198 3878.5,-198 3878.5,-204 3872.5,-210 3866.5,-210\"/>\n<text text-anchor=\"middle\" x=\"3809.5\" y=\"-188.3\" font-family=\"Times,serif\" font-size=\"14.00\" fill=\"#000000\">f6&lt;0.000137967756</text>\n</g>\n<!-- 6&#45;&gt;13 -->\n<g id=\"edge49\" class=\"edge\">\n<title>6&#45;&gt;13</title>\n<path fill=\"none\" stroke=\"#0000ff\" d=\"M3809.5,-260.9735C3809.5,-249.1918 3809.5,-233.5607 3809.5,-220.1581\"/>\n<polygon fill=\"#0000ff\" stroke=\"#0000ff\" points=\"3813.0001,-220.0033 3809.5,-210.0034 3806.0001,-220.0034 3813.0001,-220.0033\"/>\n<text text-anchor=\"middle\" x=\"3845\" y=\"-231.8\" font-family=\"Times,serif\" font-size=\"14.00\" fill=\"#000000\">yes, missing</text>\n</g>\n<!-- 14 -->\n<g id=\"node51\" class=\"node\">\n<title>14</title>\n<path fill=\"#78cb0e\" stroke=\"#000000\" d=\"M4304.5,-210C4304.5,-210 4212.5,-210 4212.5,-210 4206.5,-210 4200.5,-204 4200.5,-198 4200.5,-198 4200.5,-186 4200.5,-186 4200.5,-180 4206.5,-174 4212.5,-174 4212.5,-174 4304.5,-174 4304.5,-174 4310.5,-174 4316.5,-180 4316.5,-186 4316.5,-186 4316.5,-198 4316.5,-198 4316.5,-204 4310.5,-210 4304.5,-210\"/>\n<text text-anchor=\"middle\" x=\"4258.5\" y=\"-188.3\" font-family=\"Times,serif\" font-size=\"14.00\" fill=\"#000000\">f0&lt;0.999866962</text>\n</g>\n<!-- 6&#45;&gt;14 -->\n<g id=\"edge50\" class=\"edge\">\n<title>6&#45;&gt;14</title>\n<path fill=\"none\" stroke=\"#ff0000\" d=\"M3875.2693,-266.2563C3959.6192,-249.9123 4105.1761,-221.7086 4190.5605,-205.1642\"/>\n<polygon fill=\"#ff0000\" stroke=\"#ff0000\" points=\"4191.2605,-208.5938 4200.4121,-203.2553 4189.9289,-201.7216 4191.2605,-208.5938\"/>\n<text text-anchor=\"middle\" x=\"4069.5\" y=\"-231.8\" font-family=\"Times,serif\" font-size=\"14.00\" fill=\"#000000\">no</text>\n</g>\n<!-- 23 -->\n<g id=\"node38\" class=\"node\">\n<title>23</title>\n<path fill=\"#78cb0e\" stroke=\"#000000\" d=\"M2666.5,-123C2666.5,-123 2574.5,-123 2574.5,-123 2568.5,-123 2562.5,-117 2562.5,-111 2562.5,-111 2562.5,-99 2562.5,-99 2562.5,-93 2568.5,-87 2574.5,-87 2574.5,-87 2666.5,-87 2666.5,-87 2672.5,-87 2678.5,-93 2678.5,-99 2678.5,-99 2678.5,-111 2678.5,-111 2678.5,-117 2672.5,-123 2666.5,-123\"/>\n<text text-anchor=\"middle\" x=\"2620.5\" y=\"-101.3\" font-family=\"Times,serif\" font-size=\"14.00\" fill=\"#000000\">f0&lt;0.999865949</text>\n</g>\n<!-- 11&#45;&gt;23 -->\n<g id=\"edge37\" class=\"edge\">\n<title>11&#45;&gt;23</title>\n<path fill=\"none\" stroke=\"#0000ff\" d=\"M2813.943,-173.9735C2775.1746,-160.1504 2721.5451,-141.0284 2680.5849,-126.4237\"/>\n<polygon fill=\"#0000ff\" stroke=\"#0000ff\" points=\"2681.5868,-123.0652 2670.9922,-123.0034 2679.2359,-129.6586 2681.5868,-123.0652\"/>\n<text text-anchor=\"middle\" x=\"2793\" y=\"-144.8\" font-family=\"Times,serif\" font-size=\"14.00\" fill=\"#000000\">yes, missing</text>\n</g>\n<!-- 24 -->\n<g id=\"node39\" class=\"node\">\n<title>24</title>\n<path fill=\"#78cb0e\" stroke=\"#000000\" d=\"M2919.5,-123C2919.5,-123 2809.5,-123 2809.5,-123 2803.5,-123 2797.5,-117 2797.5,-111 2797.5,-111 2797.5,-99 2797.5,-99 2797.5,-93 2803.5,-87 2809.5,-87 2809.5,-87 2919.5,-87 2919.5,-87 2925.5,-87 2931.5,-93 2931.5,-99 2931.5,-99 2931.5,-111 2931.5,-111 2931.5,-117 2925.5,-123 2919.5,-123\"/>\n<text text-anchor=\"middle\" x=\"2864.5\" y=\"-101.3\" font-family=\"Times,serif\" font-size=\"14.00\" fill=\"#000000\">f6&lt;8.84478504e&#45;05</text>\n</g>\n<!-- 11&#45;&gt;24 -->\n<g id=\"edge38\" class=\"edge\">\n<title>11&#45;&gt;24</title>\n<path fill=\"none\" stroke=\"#ff0000\" d=\"M2864.5,-173.9735C2864.5,-162.1918 2864.5,-146.5607 2864.5,-133.1581\"/>\n<polygon fill=\"#ff0000\" stroke=\"#ff0000\" points=\"2868.0001,-133.0033 2864.5,-123.0034 2861.0001,-133.0034 2868.0001,-133.0033\"/>\n<text text-anchor=\"middle\" x=\"2872.5\" y=\"-144.8\" font-family=\"Times,serif\" font-size=\"14.00\" fill=\"#000000\">no</text>\n</g>\n<!-- 25 -->\n<g id=\"node44\" class=\"node\">\n<title>25</title>\n<path fill=\"#78cb0e\" stroke=\"#000000\" d=\"M3125,-123C3125,-123 3012,-123 3012,-123 3006,-123 3000,-117 3000,-111 3000,-111 3000,-99 3000,-99 3000,-93 3006,-87 3012,-87 3012,-87 3125,-87 3125,-87 3131,-87 3137,-93 3137,-99 3137,-99 3137,-111 3137,-111 3137,-117 3131,-123 3125,-123\"/>\n<text text-anchor=\"middle\" x=\"3068.5\" y=\"-101.3\" font-family=\"Times,serif\" font-size=\"14.00\" fill=\"#000000\">f6&lt;0.000116096082</text>\n</g>\n<!-- 12&#45;&gt;25 -->\n<g id=\"edge43\" class=\"edge\">\n<title>12&#45;&gt;25</title>\n<path fill=\"none\" stroke=\"#0000ff\" d=\"M3068.5,-173.9735C3068.5,-162.1918 3068.5,-146.5607 3068.5,-133.1581\"/>\n<polygon fill=\"#0000ff\" stroke=\"#0000ff\" points=\"3072.0001,-133.0033 3068.5,-123.0034 3065.0001,-133.0034 3072.0001,-133.0033\"/>\n<text text-anchor=\"middle\" x=\"3104\" y=\"-144.8\" font-family=\"Times,serif\" font-size=\"14.00\" fill=\"#000000\">yes, missing</text>\n</g>\n<!-- 26 -->\n<g id=\"node45\" class=\"node\">\n<title>26</title>\n<path fill=\"#78cb0e\" stroke=\"#000000\" d=\"M3430.5,-123C3430.5,-123 3316.5,-123 3316.5,-123 3310.5,-123 3304.5,-117 3304.5,-111 3304.5,-111 3304.5,-99 3304.5,-99 3304.5,-93 3310.5,-87 3316.5,-87 3316.5,-87 3430.5,-87 3430.5,-87 3436.5,-87 3442.5,-93 3442.5,-99 3442.5,-99 3442.5,-111 3442.5,-111 3442.5,-117 3436.5,-123 3430.5,-123\"/>\n<text text-anchor=\"middle\" x=\"3373.5\" y=\"-101.3\" font-family=\"Times,serif\" font-size=\"14.00\" fill=\"#000000\">f6&lt;0.000100756071</text>\n</g>\n<!-- 12&#45;&gt;26 -->\n<g id=\"edge44\" class=\"edge\">\n<title>12&#45;&gt;26</title>\n<path fill=\"none\" stroke=\"#ff0000\" d=\"M3126.5861,-175.4312C3176.0501,-161.3218 3247.3622,-140.9803 3300.6436,-125.782\"/>\n<polygon fill=\"#ff0000\" stroke=\"#ff0000\" points=\"3301.7169,-129.1155 3310.3732,-123.0067 3299.7967,-122.384 3301.7169,-129.1155\"/>\n<text text-anchor=\"middle\" x=\"3247.5\" y=\"-144.8\" font-family=\"Times,serif\" font-size=\"14.00\" fill=\"#000000\">no</text>\n</g>\n<!-- 47 -->\n<g id=\"node40\" class=\"node\">\n<title>47</title>\n<path fill=\"#e48038\" stroke=\"#000000\" d=\"M2529,-36C2529,-36 2410,-36 2410,-36 2404,-36 2398,-30 2398,-24 2398,-24 2398,-12 2398,-12 2398,-6 2404,0 2410,0 2410,0 2529,0 2529,0 2535,0 2541,-6 2541,-12 2541,-12 2541,-24 2541,-24 2541,-30 2535,-36 2529,-36\"/>\n<text text-anchor=\"middle\" x=\"2469.5\" y=\"-14.3\" font-family=\"Times,serif\" font-size=\"14.00\" fill=\"#000000\">leaf=&#45;0.00909090973</text>\n</g>\n<!-- 23&#45;&gt;47 -->\n<g id=\"edge39\" class=\"edge\">\n<title>23&#45;&gt;47</title>\n<path fill=\"none\" stroke=\"#0000ff\" d=\"M2580.2506,-86.9862C2568.8451,-81.5323 2556.5345,-75.3074 2545.5,-69 2531.1281,-60.785 2515.8672,-50.8101 2502.821,-41.8682\"/>\n<polygon fill=\"#0000ff\" stroke=\"#0000ff\" points=\"2504.812,-38.9897 2494.5992,-36.1702 2500.8246,-44.7431 2504.812,-38.9897\"/>\n<text text-anchor=\"middle\" x=\"2581\" y=\"-57.8\" font-family=\"Times,serif\" font-size=\"14.00\" fill=\"#000000\">yes, missing</text>\n</g>\n<!-- 48 -->\n<g id=\"node41\" class=\"node\">\n<title>48</title>\n<path fill=\"#e48038\" stroke=\"#000000\" d=\"M2670,-36C2670,-36 2571,-36 2571,-36 2565,-36 2559,-30 2559,-24 2559,-24 2559,-12 2559,-12 2559,-6 2565,0 2571,0 2571,0 2670,0 2670,0 2676,0 2682,-6 2682,-12 2682,-12 2682,-24 2682,-24 2682,-30 2676,-36 2670,-36\"/>\n<text text-anchor=\"middle\" x=\"2620.5\" y=\"-14.3\" font-family=\"Times,serif\" font-size=\"14.00\" fill=\"#000000\">leaf=0.112399995</text>\n</g>\n<!-- 23&#45;&gt;48 -->\n<g id=\"edge40\" class=\"edge\">\n<title>23&#45;&gt;48</title>\n<path fill=\"none\" stroke=\"#ff0000\" d=\"M2620.5,-86.9735C2620.5,-75.1918 2620.5,-59.5607 2620.5,-46.1581\"/>\n<polygon fill=\"#ff0000\" stroke=\"#ff0000\" points=\"2624.0001,-46.0033 2620.5,-36.0034 2617.0001,-46.0034 2624.0001,-46.0033\"/>\n<text text-anchor=\"middle\" x=\"2628.5\" y=\"-57.8\" font-family=\"Times,serif\" font-size=\"14.00\" fill=\"#000000\">no</text>\n</g>\n<!-- 49 -->\n<g id=\"node42\" class=\"node\">\n<title>49</title>\n<path fill=\"#e48038\" stroke=\"#000000\" d=\"M2819,-36C2819,-36 2712,-36 2712,-36 2706,-36 2700,-30 2700,-24 2700,-24 2700,-12 2700,-12 2700,-6 2706,0 2712,0 2712,0 2819,0 2819,0 2825,0 2831,-6 2831,-12 2831,-12 2831,-24 2831,-24 2831,-30 2825,-36 2819,-36\"/>\n<text text-anchor=\"middle\" x=\"2765.5\" y=\"-14.3\" font-family=\"Times,serif\" font-size=\"14.00\" fill=\"#000000\">leaf=0.0590909086</text>\n</g>\n<!-- 24&#45;&gt;49 -->\n<g id=\"edge41\" class=\"edge\">\n<title>24&#45;&gt;49</title>\n<path fill=\"none\" stroke=\"#0000ff\" d=\"M2835.8586,-86.8438C2828.0222,-81.4351 2819.7077,-75.2692 2812.5,-69 2803.8253,-61.4549 2795.0831,-52.4432 2787.5306,-44.1085\"/>\n<polygon fill=\"#0000ff\" stroke=\"#0000ff\" points=\"2789.9469,-41.5579 2780.6951,-36.3951 2784.7079,-46.2006 2789.9469,-41.5579\"/>\n<text text-anchor=\"middle\" x=\"2848\" y=\"-57.8\" font-family=\"Times,serif\" font-size=\"14.00\" fill=\"#000000\">yes, missing</text>\n</g>\n<!-- 50 -->\n<g id=\"node43\" class=\"node\">\n<title>50</title>\n<path fill=\"#e48038\" stroke=\"#000000\" d=\"M2972,-36C2972,-36 2861,-36 2861,-36 2855,-36 2849,-30 2849,-24 2849,-24 2849,-12 2849,-12 2849,-6 2855,0 2861,0 2861,0 2972,0 2972,0 2978,0 2984,-6 2984,-12 2984,-12 2984,-24 2984,-24 2984,-30 2978,-36 2972,-36\"/>\n<text text-anchor=\"middle\" x=\"2916.5\" y=\"-14.3\" font-family=\"Times,serif\" font-size=\"14.00\" fill=\"#000000\">leaf=&#45;0.0116959065</text>\n</g>\n<!-- 24&#45;&gt;50 -->\n<g id=\"edge42\" class=\"edge\">\n<title>24&#45;&gt;50</title>\n<path fill=\"none\" stroke=\"#ff0000\" d=\"M2875.2744,-86.9735C2882.5256,-74.8418 2892.2162,-58.6287 2900.3801,-44.9698\"/>\n<polygon fill=\"#ff0000\" stroke=\"#ff0000\" points=\"2903.6132,-46.3827 2905.7394,-36.0034 2897.6046,-42.7913 2903.6132,-46.3827\"/>\n<text text-anchor=\"middle\" x=\"2902.5\" y=\"-57.8\" font-family=\"Times,serif\" font-size=\"14.00\" fill=\"#000000\">no</text>\n</g>\n<!-- 51 -->\n<g id=\"node46\" class=\"node\">\n<title>51</title>\n<path fill=\"#e48038\" stroke=\"#000000\" d=\"M3121,-36C3121,-36 3014,-36 3014,-36 3008,-36 3002,-30 3002,-24 3002,-24 3002,-12 3002,-12 3002,-6 3008,0 3014,0 3014,0 3121,0 3121,0 3127,0 3133,-6 3133,-12 3133,-12 3133,-24 3133,-24 3133,-30 3127,-36 3121,-36\"/>\n<text text-anchor=\"middle\" x=\"3067.5\" y=\"-14.3\" font-family=\"Times,serif\" font-size=\"14.00\" fill=\"#000000\">leaf=0.0927170888</text>\n</g>\n<!-- 25&#45;&gt;51 -->\n<g id=\"edge45\" class=\"edge\">\n<title>25&#45;&gt;51</title>\n<path fill=\"none\" stroke=\"#0000ff\" d=\"M3068.2928,-86.9735C3068.1574,-75.1918 3067.9777,-59.5607 3067.8237,-46.1581\"/>\n<polygon fill=\"#0000ff\" stroke=\"#0000ff\" points=\"3071.3217,-45.9624 3067.7069,-36.0034 3064.3222,-46.043 3071.3217,-45.9624\"/>\n<text text-anchor=\"middle\" x=\"3104\" y=\"-57.8\" font-family=\"Times,serif\" font-size=\"14.00\" fill=\"#000000\">yes, missing</text>\n</g>\n<!-- 52 -->\n<g id=\"node47\" class=\"node\">\n<title>52</title>\n<path fill=\"#e48038\" stroke=\"#000000\" d=\"M3278,-36C3278,-36 3163,-36 3163,-36 3157,-36 3151,-30 3151,-24 3151,-24 3151,-12 3151,-12 3151,-6 3157,0 3163,0 3163,0 3278,0 3278,0 3284,0 3290,-6 3290,-12 3290,-12 3290,-24 3290,-24 3290,-30 3284,-36 3278,-36\"/>\n<text text-anchor=\"middle\" x=\"3220.5\" y=\"-14.3\" font-family=\"Times,serif\" font-size=\"14.00\" fill=\"#000000\">leaf=0.00755336601</text>\n</g>\n<!-- 25&#45;&gt;52 -->\n<g id=\"edge46\" class=\"edge\">\n<title>25&#45;&gt;52</title>\n<path fill=\"none\" stroke=\"#ff0000\" d=\"M3108.7249,-86.9432C3120.13,-81.4886 3132.4465,-75.274 3143.5,-69 3158.0275,-60.7541 3173.4829,-50.7735 3186.7052,-41.8356\"/>\n<polygon fill=\"#ff0000\" stroke=\"#ff0000\" points=\"3188.757,-44.6727 3195.0395,-36.1415 3184.8081,-38.8929 3188.757,-44.6727\"/>\n<text text-anchor=\"middle\" x=\"3175.5\" y=\"-57.8\" font-family=\"Times,serif\" font-size=\"14.00\" fill=\"#000000\">no</text>\n</g>\n<!-- 53 -->\n<g id=\"node48\" class=\"node\">\n<title>53</title>\n<path fill=\"#e48038\" stroke=\"#000000\" d=\"M3427,-36C3427,-36 3320,-36 3320,-36 3314,-36 3308,-30 3308,-24 3308,-24 3308,-12 3308,-12 3308,-6 3314,0 3320,0 3320,0 3427,0 3427,0 3433,0 3439,-6 3439,-12 3439,-12 3439,-24 3439,-24 3439,-30 3433,-36 3427,-36\"/>\n<text text-anchor=\"middle\" x=\"3373.5\" y=\"-14.3\" font-family=\"Times,serif\" font-size=\"14.00\" fill=\"#000000\">leaf=0.0203208551</text>\n</g>\n<!-- 26&#45;&gt;53 -->\n<g id=\"edge47\" class=\"edge\">\n<title>26&#45;&gt;53</title>\n<path fill=\"none\" stroke=\"#0000ff\" d=\"M3373.5,-86.9735C3373.5,-75.1918 3373.5,-59.5607 3373.5,-46.1581\"/>\n<polygon fill=\"#0000ff\" stroke=\"#0000ff\" points=\"3377.0001,-46.0033 3373.5,-36.0034 3370.0001,-46.0034 3377.0001,-46.0033\"/>\n<text text-anchor=\"middle\" x=\"3409\" y=\"-57.8\" font-family=\"Times,serif\" font-size=\"14.00\" fill=\"#000000\">yes, missing</text>\n</g>\n<!-- 54 -->\n<g id=\"node49\" class=\"node\">\n<title>54</title>\n<path fill=\"#e48038\" stroke=\"#000000\" d=\"M3581.5,-36C3581.5,-36 3469.5,-36 3469.5,-36 3463.5,-36 3457.5,-30 3457.5,-24 3457.5,-24 3457.5,-12 3457.5,-12 3457.5,-6 3463.5,0 3469.5,0 3469.5,0 3581.5,0 3581.5,0 3587.5,0 3593.5,-6 3593.5,-12 3593.5,-12 3593.5,-24 3593.5,-24 3593.5,-30 3587.5,-36 3581.5,-36\"/>\n<text text-anchor=\"middle\" x=\"3525.5\" y=\"-14.3\" font-family=\"Times,serif\" font-size=\"14.00\" fill=\"#000000\">leaf=&#45;0.0581888258</text>\n</g>\n<!-- 26&#45;&gt;54 -->\n<g id=\"edge48\" class=\"edge\">\n<title>26&#45;&gt;54</title>\n<path fill=\"none\" stroke=\"#ff0000\" d=\"M3413.7249,-86.9432C3425.13,-81.4886 3437.4465,-75.274 3448.5,-69 3463.0275,-60.7541 3478.4829,-50.7735 3491.7052,-41.8356\"/>\n<polygon fill=\"#ff0000\" stroke=\"#ff0000\" points=\"3493.757,-44.6727 3500.0395,-36.1415 3489.8081,-38.8929 3493.757,-44.6727\"/>\n<text text-anchor=\"middle\" x=\"3480.5\" y=\"-57.8\" font-family=\"Times,serif\" font-size=\"14.00\" fill=\"#000000\">no</text>\n</g>\n<!-- 27 -->\n<g id=\"node52\" class=\"node\">\n<title>27</title>\n<path fill=\"#78cb0e\" stroke=\"#000000\" d=\"M3795,-123C3795,-123 3704,-123 3704,-123 3698,-123 3692,-117 3692,-111 3692,-111 3692,-99 3692,-99 3692,-93 3698,-87 3704,-87 3704,-87 3795,-87 3795,-87 3801,-87 3807,-93 3807,-99 3807,-99 3807,-111 3807,-111 3807,-117 3801,-123 3795,-123\"/>\n<text text-anchor=\"middle\" x=\"3749.5\" y=\"-101.3\" font-family=\"Times,serif\" font-size=\"14.00\" fill=\"#000000\">f0&lt;0.999911845</text>\n</g>\n<!-- 13&#45;&gt;27 -->\n<g id=\"edge51\" class=\"edge\">\n<title>13&#45;&gt;27</title>\n<path fill=\"none\" stroke=\"#0000ff\" d=\"M3797.068,-173.9735C3788.6208,-161.7252 3777.3045,-145.3165 3767.8287,-131.5766\"/>\n<polygon fill=\"#0000ff\" stroke=\"#0000ff\" points=\"3770.4747,-129.2484 3761.9161,-123.0034 3764.7122,-133.2226 3770.4747,-129.2484\"/>\n<text text-anchor=\"middle\" x=\"3819\" y=\"-144.8\" font-family=\"Times,serif\" font-size=\"14.00\" fill=\"#000000\">yes, missing</text>\n</g>\n<!-- 28 -->\n<g id=\"node53\" class=\"node\">\n<title>28</title>\n<path fill=\"#78cb0e\" stroke=\"#000000\" d=\"M3952,-123C3952,-123 3839,-123 3839,-123 3833,-123 3827,-117 3827,-111 3827,-111 3827,-99 3827,-99 3827,-93 3833,-87 3839,-87 3839,-87 3952,-87 3952,-87 3958,-87 3964,-93 3964,-99 3964,-99 3964,-111 3964,-111 3964,-117 3958,-123 3952,-123\"/>\n<text text-anchor=\"middle\" x=\"3895.5\" y=\"-101.3\" font-family=\"Times,serif\" font-size=\"14.00\" fill=\"#000000\">f11&lt;0.00134028215</text>\n</g>\n<!-- 13&#45;&gt;28 -->\n<g id=\"edge52\" class=\"edge\">\n<title>13&#45;&gt;28</title>\n<path fill=\"none\" stroke=\"#ff0000\" d=\"M3837.1591,-173.9763C3844.4702,-168.6139 3852.1,-162.4385 3858.5,-156 3865.8261,-148.6298 3872.8102,-139.7064 3878.6972,-131.3976\"/>\n<polygon fill=\"#ff0000\" stroke=\"#ff0000\" points=\"3881.6482,-133.2826 3884.4032,-123.0522 3875.8698,-129.3316 3881.6482,-133.2826\"/>\n<text text-anchor=\"middle\" x=\"3879.5\" y=\"-144.8\" font-family=\"Times,serif\" font-size=\"14.00\" fill=\"#000000\">no</text>\n</g>\n<!-- 29 -->\n<g id=\"node58\" class=\"node\">\n<title>29</title>\n<path fill=\"#78cb0e\" stroke=\"#000000\" d=\"M4309.5,-123C4309.5,-123 4207.5,-123 4207.5,-123 4201.5,-123 4195.5,-117 4195.5,-111 4195.5,-111 4195.5,-99 4195.5,-99 4195.5,-93 4201.5,-87 4207.5,-87 4207.5,-87 4309.5,-87 4309.5,-87 4315.5,-87 4321.5,-93 4321.5,-99 4321.5,-99 4321.5,-111 4321.5,-111 4321.5,-117 4315.5,-123 4309.5,-123\"/>\n<text text-anchor=\"middle\" x=\"4258.5\" y=\"-101.3\" font-family=\"Times,serif\" font-size=\"14.00\" fill=\"#000000\">f8&lt;6.7795103e&#45;05</text>\n</g>\n<!-- 14&#45;&gt;29 -->\n<g id=\"edge57\" class=\"edge\">\n<title>14&#45;&gt;29</title>\n<path fill=\"none\" stroke=\"#0000ff\" d=\"M4258.5,-173.9735C4258.5,-162.1918 4258.5,-146.5607 4258.5,-133.1581\"/>\n<polygon fill=\"#0000ff\" stroke=\"#0000ff\" points=\"4262.0001,-133.0033 4258.5,-123.0034 4255.0001,-133.0034 4262.0001,-133.0033\"/>\n<text text-anchor=\"middle\" x=\"4294\" y=\"-144.8\" font-family=\"Times,serif\" font-size=\"14.00\" fill=\"#000000\">yes, missing</text>\n</g>\n<!-- 30 -->\n<g id=\"node59\" class=\"node\">\n<title>30</title>\n<path fill=\"#78cb0e\" stroke=\"#000000\" d=\"M4549,-123C4549,-123 4436,-123 4436,-123 4430,-123 4424,-117 4424,-111 4424,-111 4424,-99 4424,-99 4424,-93 4430,-87 4436,-87 4436,-87 4549,-87 4549,-87 4555,-87 4561,-93 4561,-99 4561,-99 4561,-111 4561,-111 4561,-117 4555,-123 4549,-123\"/>\n<text text-anchor=\"middle\" x=\"4492.5\" y=\"-101.3\" font-family=\"Times,serif\" font-size=\"14.00\" fill=\"#000000\">f6&lt;0.000165287114</text>\n</g>\n<!-- 14&#45;&gt;30 -->\n<g id=\"edge58\" class=\"edge\">\n<title>14&#45;&gt;30</title>\n<path fill=\"none\" stroke=\"#ff0000\" d=\"M4306.985,-173.9735C4344.0076,-160.2087 4395.1624,-141.1896 4434.3797,-126.6088\"/>\n<polygon fill=\"#ff0000\" stroke=\"#ff0000\" points=\"4435.9238,-129.7689 4444.0772,-123.0034 4433.4843,-123.2077 4435.9238,-129.7689\"/>\n<text text-anchor=\"middle\" x=\"4398.5\" y=\"-144.8\" font-family=\"Times,serif\" font-size=\"14.00\" fill=\"#000000\">no</text>\n</g>\n<!-- 55 -->\n<g id=\"node54\" class=\"node\">\n<title>55</title>\n<path fill=\"#e48038\" stroke=\"#000000\" d=\"M3657,-36C3657,-36 3624,-36 3624,-36 3618,-36 3612,-30 3612,-24 3612,-24 3612,-12 3612,-12 3612,-6 3618,0 3624,0 3624,0 3657,0 3657,0 3663,0 3669,-6 3669,-12 3669,-12 3669,-24 3669,-24 3669,-30 3663,-36 3657,-36\"/>\n<text text-anchor=\"middle\" x=\"3640.5\" y=\"-14.3\" font-family=\"Times,serif\" font-size=\"14.00\" fill=\"#000000\">leaf=&#45;0</text>\n</g>\n<!-- 27&#45;&gt;55 -->\n<g id=\"edge53\" class=\"edge\">\n<title>27&#45;&gt;55</title>\n<path fill=\"none\" stroke=\"#0000ff\" d=\"M3701.9128,-86.912C3692.2403,-81.9732 3682.5693,-76.0085 3674.5,-69 3666.8299,-62.3383 3660.1521,-53.5524 3654.7931,-45.1533\"/>\n<polygon fill=\"#0000ff\" stroke=\"#0000ff\" points=\"3657.6438,-43.1004 3649.5112,-36.3099 3651.6341,-46.6898 3657.6438,-43.1004\"/>\n<text text-anchor=\"middle\" x=\"3710\" y=\"-57.8\" font-family=\"Times,serif\" font-size=\"14.00\" fill=\"#000000\">yes, missing</text>\n</g>\n<!-- 56 -->\n<g id=\"node55\" class=\"node\">\n<title>56</title>\n<path fill=\"#e48038\" stroke=\"#000000\" d=\"M3799.5,-36C3799.5,-36 3699.5,-36 3699.5,-36 3693.5,-36 3687.5,-30 3687.5,-24 3687.5,-24 3687.5,-12 3687.5,-12 3687.5,-6 3693.5,0 3699.5,0 3699.5,0 3799.5,0 3799.5,0 3805.5,0 3811.5,-6 3811.5,-12 3811.5,-12 3811.5,-24 3811.5,-24 3811.5,-30 3805.5,-36 3799.5,-36\"/>\n<text text-anchor=\"middle\" x=\"3749.5\" y=\"-14.3\" font-family=\"Times,serif\" font-size=\"14.00\" fill=\"#000000\">leaf=0.126038507</text>\n</g>\n<!-- 27&#45;&gt;56 -->\n<g id=\"edge54\" class=\"edge\">\n<title>27&#45;&gt;56</title>\n<path fill=\"none\" stroke=\"#ff0000\" d=\"M3749.5,-86.9735C3749.5,-75.1918 3749.5,-59.5607 3749.5,-46.1581\"/>\n<polygon fill=\"#ff0000\" stroke=\"#ff0000\" points=\"3753.0001,-46.0033 3749.5,-36.0034 3746.0001,-46.0034 3753.0001,-46.0033\"/>\n<text text-anchor=\"middle\" x=\"3757.5\" y=\"-57.8\" font-family=\"Times,serif\" font-size=\"14.00\" fill=\"#000000\">no</text>\n</g>\n<!-- 57 -->\n<g id=\"node56\" class=\"node\">\n<title>57</title>\n<path fill=\"#e48038\" stroke=\"#000000\" d=\"M3949,-36C3949,-36 3842,-36 3842,-36 3836,-36 3830,-30 3830,-24 3830,-24 3830,-12 3830,-12 3830,-6 3836,0 3842,0 3842,0 3949,0 3949,0 3955,0 3961,-6 3961,-12 3961,-12 3961,-24 3961,-24 3961,-30 3955,-36 3949,-36\"/>\n<text text-anchor=\"middle\" x=\"3895.5\" y=\"-14.3\" font-family=\"Times,serif\" font-size=\"14.00\" fill=\"#000000\">leaf=0.0632619485</text>\n</g>\n<!-- 28&#45;&gt;57 -->\n<g id=\"edge55\" class=\"edge\">\n<title>28&#45;&gt;57</title>\n<path fill=\"none\" stroke=\"#0000ff\" d=\"M3895.5,-86.9735C3895.5,-75.1918 3895.5,-59.5607 3895.5,-46.1581\"/>\n<polygon fill=\"#0000ff\" stroke=\"#0000ff\" points=\"3899.0001,-46.0033 3895.5,-36.0034 3892.0001,-46.0034 3899.0001,-46.0033\"/>\n<text text-anchor=\"middle\" x=\"3931\" y=\"-57.8\" font-family=\"Times,serif\" font-size=\"14.00\" fill=\"#000000\">yes, missing</text>\n</g>\n<!-- 58 -->\n<g id=\"node57\" class=\"node\">\n<title>58</title>\n<path fill=\"#e48038\" stroke=\"#000000\" d=\"M4090,-36C4090,-36 3991,-36 3991,-36 3985,-36 3979,-30 3979,-24 3979,-24 3979,-12 3979,-12 3979,-6 3985,0 3991,0 3991,0 4090,0 4090,0 4096,0 4102,-6 4102,-12 4102,-12 4102,-24 4102,-24 4102,-30 4096,-36 4090,-36\"/>\n<text text-anchor=\"middle\" x=\"4040.5\" y=\"-14.3\" font-family=\"Times,serif\" font-size=\"14.00\" fill=\"#000000\">leaf=0.110859506</text>\n</g>\n<!-- 28&#45;&gt;58 -->\n<g id=\"edge56\" class=\"edge\">\n<title>28&#45;&gt;58</title>\n<path fill=\"none\" stroke=\"#ff0000\" d=\"M3936.6885,-86.8871C3947.8745,-81.5243 3959.8373,-75.371 3970.5,-69 3983.7948,-61.0563 3997.7231,-51.2489 4009.6229,-42.3634\"/>\n<polygon fill=\"#ff0000\" stroke=\"#ff0000\" points=\"4012.0361,-44.9261 4017.8913,-36.0961 4007.8077,-39.3475 4012.0361,-44.9261\"/>\n<text text-anchor=\"middle\" x=\"4000.5\" y=\"-57.8\" font-family=\"Times,serif\" font-size=\"14.00\" fill=\"#000000\">no</text>\n</g>\n<!-- 59 -->\n<g id=\"node60\" class=\"node\">\n<title>59</title>\n<path fill=\"#e48038\" stroke=\"#000000\" d=\"M4232.5,-36C4232.5,-36 4132.5,-36 4132.5,-36 4126.5,-36 4120.5,-30 4120.5,-24 4120.5,-24 4120.5,-12 4120.5,-12 4120.5,-6 4126.5,0 4132.5,0 4132.5,0 4232.5,0 4232.5,0 4238.5,0 4244.5,-6 4244.5,-12 4244.5,-12 4244.5,-24 4244.5,-24 4244.5,-30 4238.5,-36 4232.5,-36\"/>\n<text text-anchor=\"middle\" x=\"4182.5\" y=\"-14.3\" font-family=\"Times,serif\" font-size=\"14.00\" fill=\"#000000\">leaf=0.109163344</text>\n</g>\n<!-- 29&#45;&gt;59 -->\n<g id=\"edge59\" class=\"edge\">\n<title>29&#45;&gt;59</title>\n<path fill=\"none\" stroke=\"#0000ff\" d=\"M4242.7528,-86.9735C4231.8492,-74.4919 4217.1716,-57.6899 4205.033,-43.7944\"/>\n<polygon fill=\"#0000ff\" stroke=\"#0000ff\" points=\"4207.4419,-41.2319 4198.2271,-36.0034 4202.1701,-45.8371 4207.4419,-41.2319\"/>\n<text text-anchor=\"middle\" x=\"4261\" y=\"-57.8\" font-family=\"Times,serif\" font-size=\"14.00\" fill=\"#000000\">yes, missing</text>\n</g>\n<!-- 60 -->\n<g id=\"node61\" class=\"node\">\n<title>60</title>\n<path fill=\"#e48038\" stroke=\"#000000\" d=\"M4394,-36C4394,-36 4275,-36 4275,-36 4269,-36 4263,-30 4263,-24 4263,-24 4263,-12 4263,-12 4263,-6 4269,0 4275,0 4275,0 4394,0 4394,0 4400,0 4406,-6 4406,-12 4406,-12 4406,-24 4406,-24 4406,-30 4400,-36 4394,-36\"/>\n<text text-anchor=\"middle\" x=\"4334.5\" y=\"-14.3\" font-family=\"Times,serif\" font-size=\"14.00\" fill=\"#000000\">leaf=&#45;0.00769230817</text>\n</g>\n<!-- 29&#45;&gt;60 -->\n<g id=\"edge60\" class=\"edge\">\n<title>29&#45;&gt;60</title>\n<path fill=\"none\" stroke=\"#ff0000\" d=\"M4282.2186,-86.6363C4288.4853,-81.2726 4295.0225,-75.1815 4300.5,-69 4307.0303,-61.6304 4313.2818,-52.9253 4318.6029,-44.813\"/>\n<polygon fill=\"#ff0000\" stroke=\"#ff0000\" points=\"4321.5802,-46.6534 4323.9808,-36.3342 4315.669,-42.904 4321.5802,-46.6534\"/>\n<text text-anchor=\"middle\" x=\"4320.5\" y=\"-57.8\" font-family=\"Times,serif\" font-size=\"14.00\" fill=\"#000000\">no</text>\n</g>\n<!-- 61 -->\n<g id=\"node62\" class=\"node\">\n<title>61</title>\n<path fill=\"#e48038\" stroke=\"#000000\" d=\"M4548.5,-36C4548.5,-36 4436.5,-36 4436.5,-36 4430.5,-36 4424.5,-30 4424.5,-24 4424.5,-24 4424.5,-12 4424.5,-12 4424.5,-6 4430.5,0 4436.5,0 4436.5,0 4548.5,0 4548.5,0 4554.5,0 4560.5,-6 4560.5,-12 4560.5,-12 4560.5,-24 4560.5,-24 4560.5,-30 4554.5,-36 4548.5,-36\"/>\n<text text-anchor=\"middle\" x=\"4492.5\" y=\"-14.3\" font-family=\"Times,serif\" font-size=\"14.00\" fill=\"#000000\">leaf=&#45;0.0555023924</text>\n</g>\n<!-- 30&#45;&gt;61 -->\n<g id=\"edge61\" class=\"edge\">\n<title>30&#45;&gt;61</title>\n<path fill=\"none\" stroke=\"#0000ff\" d=\"M4492.5,-86.9735C4492.5,-75.1918 4492.5,-59.5607 4492.5,-46.1581\"/>\n<polygon fill=\"#0000ff\" stroke=\"#0000ff\" points=\"4496.0001,-46.0033 4492.5,-36.0034 4489.0001,-46.0034 4496.0001,-46.0033\"/>\n<text text-anchor=\"middle\" x=\"4528\" y=\"-57.8\" font-family=\"Times,serif\" font-size=\"14.00\" fill=\"#000000\">yes, missing</text>\n</g>\n<!-- 62 -->\n<g id=\"node63\" class=\"node\">\n<title>62</title>\n<path fill=\"#e48038\" stroke=\"#000000\" d=\"M4698,-36C4698,-36 4591,-36 4591,-36 4585,-36 4579,-30 4579,-24 4579,-24 4579,-12 4579,-12 4579,-6 4585,0 4591,0 4591,0 4698,0 4698,0 4704,0 4710,-6 4710,-12 4710,-12 4710,-24 4710,-24 4710,-30 4704,-36 4698,-36\"/>\n<text text-anchor=\"middle\" x=\"4644.5\" y=\"-14.3\" font-family=\"Times,serif\" font-size=\"14.00\" fill=\"#000000\">leaf=0.0453172214</text>\n</g>\n<!-- 30&#45;&gt;62 -->\n<g id=\"edge62\" class=\"edge\">\n<title>30&#45;&gt;62</title>\n<path fill=\"none\" stroke=\"#ff0000\" d=\"M4532.7249,-86.9432C4544.13,-81.4886 4556.4465,-75.274 4567.5,-69 4582.0275,-60.7541 4597.4829,-50.7735 4610.7052,-41.8356\"/>\n<polygon fill=\"#ff0000\" stroke=\"#ff0000\" points=\"4612.757,-44.6727 4619.0395,-36.1415 4608.8081,-38.8929 4612.757,-44.6727\"/>\n<text text-anchor=\"middle\" x=\"4598.5\" y=\"-57.8\" font-family=\"Times,serif\" font-size=\"14.00\" fill=\"#000000\">no</text>\n</g>\n</g>\n</svg>\n"
          },
          "metadata": {
            "tags": []
          },
          "execution_count": 112
        }
      ]
    }
  ]
}