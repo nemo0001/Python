{
  "nbformat": 4,
  "nbformat_minor": 0,
  "metadata": {
    "colab": {
      "name": "Untitled6.ipynb",
      "provenance": [],
      "authorship_tag": "ABX9TyOY4llw2rLR0ZocYrlOkU9l",
      "include_colab_link": true
    },
    "kernelspec": {
      "name": "python3",
      "display_name": "Python 3"
    }
  },
  "cells": [
    {
      "cell_type": "markdown",
      "metadata": {
        "id": "view-in-github",
        "colab_type": "text"
      },
      "source": [
        "<a href=\"https://colab.research.google.com/github/nemo0001/Python/blob/master/cardio_NN.ipynb\" target=\"_parent\"><img src=\"https://colab.research.google.com/assets/colab-badge.svg\" alt=\"Open In Colab\"/></a>"
      ]
    },
    {
      "cell_type": "code",
      "metadata": {
        "colab": {
          "resources": {
            "http://localhost:8080/nbextensions/google.colab/files.js": {
              "data": "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",
              "ok": true,
              "headers": [
                [
                  "content-type",
                  "application/javascript"
                ]
              ],
              "status": 200,
              "status_text": ""
            }
          },
          "base_uri": "https://localhost:8080/",
          "height": 91
        },
        "id": "eILh0uwLw6SH",
        "outputId": "460fe03b-4cd4-4968-a732-7985718eac80"
      },
      "source": [
        "#getting the data from PC\n",
        "\n",
        "from google.colab import files\n",
        "\n",
        "uploaded = files.upload()\n",
        "\n",
        "for fn in uploaded.keys():\n",
        "  print('User uploaded file \"{name}\" with length {length} bytes'.format(\n",
        "      name=fn, length=len(uploaded[fn])))"
      ],
      "execution_count": 15,
      "outputs": [
        {
          "output_type": "display_data",
          "data": {
            "text/html": [
              "\n",
              "     <input type=\"file\" id=\"files-25a37856-5e42-463c-932f-59d0d4e95372\" name=\"files[]\" multiple disabled\n",
              "        style=\"border:none\" />\n",
              "     <output id=\"result-25a37856-5e42-463c-932f-59d0d4e95372\">\n",
              "      Upload widget is only available when the cell has been executed in the\n",
              "      current browser session. Please rerun this cell to enable.\n",
              "      </output>\n",
              "      <script src=\"/nbextensions/google.colab/files.js\"></script> "
            ],
            "text/plain": [
              "<IPython.core.display.HTML object>"
            ]
          },
          "metadata": {
            "tags": []
          }
        },
        {
          "output_type": "stream",
          "text": [
            "Saving cardio_train.csv to cardio_train (1).csv\n",
            "User uploaded file \"cardio_train.csv\" with length 2941524 bytes\n"
          ],
          "name": "stdout"
        }
      ]
    },
    {
      "cell_type": "code",
      "metadata": {
        "id": "SUMwJuiy1W8o"
      },
      "source": [
        "import numpy as np \n",
        "import pandas as pd \n",
        "from keras.wrappers.scikit_learn import KerasClassifier\n",
        "from sklearn.model_selection import train_test_split, cross_val_score, RepeatedKFold\n",
        "from sklearn.preprocessing import StandardScaler\n",
        "from keras.optimizers import *\n",
        "from keras.initializers import *\n",
        "from keras.models import *\n",
        "from keras.layers import *\n",
        "from keras.callbacks import EarlyStopping\n",
        "from sklearn.metrics import confusion_matrix, roc_curve, roc_auc_score\n",
        "\n",
        "# from keras.models import Sequential   # Type of neural network that will be used\n",
        "# from keras.layers import Dense   # Dense layers for the neural network\n",
        "# from keras.layers import Dropout   # Dropout in case we want to prevent overfitting, use after seeing results without\n",
        "# from keras import optimizers   # Adam optimizer will be used"
      ],
      "execution_count": 2,
      "outputs": []
    },
    {
      "cell_type": "code",
      "metadata": {
        "colab": {
          "base_uri": "https://localhost:8080/",
          "height": 197
        },
        "id": "2IYFB_wcxfOg",
        "outputId": "3fd38e96-ccfe-44e4-b59d-8ae195c8ade0"
      },
      "source": [
        "data_raw=pd.read_csv(\"cardio_train.csv\",sep=\";\")\n",
        "data_raw.drop('id',axis=1,inplace=True)\n",
        "data_raw.head()"
      ],
      "execution_count": 16,
      "outputs": [
        {
          "output_type": "execute_result",
          "data": {
            "text/html": [
              "<div>\n",
              "<style scoped>\n",
              "    .dataframe tbody tr th:only-of-type {\n",
              "        vertical-align: middle;\n",
              "    }\n",
              "\n",
              "    .dataframe tbody tr th {\n",
              "        vertical-align: top;\n",
              "    }\n",
              "\n",
              "    .dataframe thead th {\n",
              "        text-align: right;\n",
              "    }\n",
              "</style>\n",
              "<table border=\"1\" class=\"dataframe\">\n",
              "  <thead>\n",
              "    <tr style=\"text-align: right;\">\n",
              "      <th></th>\n",
              "      <th>age</th>\n",
              "      <th>gender</th>\n",
              "      <th>height</th>\n",
              "      <th>weight</th>\n",
              "      <th>ap_hi</th>\n",
              "      <th>ap_lo</th>\n",
              "      <th>cholesterol</th>\n",
              "      <th>gluc</th>\n",
              "      <th>smoke</th>\n",
              "      <th>alco</th>\n",
              "      <th>active</th>\n",
              "      <th>cardio</th>\n",
              "    </tr>\n",
              "  </thead>\n",
              "  <tbody>\n",
              "    <tr>\n",
              "      <th>0</th>\n",
              "      <td>18393</td>\n",
              "      <td>2</td>\n",
              "      <td>168</td>\n",
              "      <td>62.0</td>\n",
              "      <td>110</td>\n",
              "      <td>80</td>\n",
              "      <td>1</td>\n",
              "      <td>1</td>\n",
              "      <td>0</td>\n",
              "      <td>0</td>\n",
              "      <td>1</td>\n",
              "      <td>0</td>\n",
              "    </tr>\n",
              "    <tr>\n",
              "      <th>1</th>\n",
              "      <td>20228</td>\n",
              "      <td>1</td>\n",
              "      <td>156</td>\n",
              "      <td>85.0</td>\n",
              "      <td>140</td>\n",
              "      <td>90</td>\n",
              "      <td>3</td>\n",
              "      <td>1</td>\n",
              "      <td>0</td>\n",
              "      <td>0</td>\n",
              "      <td>1</td>\n",
              "      <td>1</td>\n",
              "    </tr>\n",
              "    <tr>\n",
              "      <th>2</th>\n",
              "      <td>18857</td>\n",
              "      <td>1</td>\n",
              "      <td>165</td>\n",
              "      <td>64.0</td>\n",
              "      <td>130</td>\n",
              "      <td>70</td>\n",
              "      <td>3</td>\n",
              "      <td>1</td>\n",
              "      <td>0</td>\n",
              "      <td>0</td>\n",
              "      <td>0</td>\n",
              "      <td>1</td>\n",
              "    </tr>\n",
              "    <tr>\n",
              "      <th>3</th>\n",
              "      <td>17623</td>\n",
              "      <td>2</td>\n",
              "      <td>169</td>\n",
              "      <td>82.0</td>\n",
              "      <td>150</td>\n",
              "      <td>100</td>\n",
              "      <td>1</td>\n",
              "      <td>1</td>\n",
              "      <td>0</td>\n",
              "      <td>0</td>\n",
              "      <td>1</td>\n",
              "      <td>1</td>\n",
              "    </tr>\n",
              "    <tr>\n",
              "      <th>4</th>\n",
              "      <td>17474</td>\n",
              "      <td>1</td>\n",
              "      <td>156</td>\n",
              "      <td>56.0</td>\n",
              "      <td>100</td>\n",
              "      <td>60</td>\n",
              "      <td>1</td>\n",
              "      <td>1</td>\n",
              "      <td>0</td>\n",
              "      <td>0</td>\n",
              "      <td>0</td>\n",
              "      <td>0</td>\n",
              "    </tr>\n",
              "  </tbody>\n",
              "</table>\n",
              "</div>"
            ],
            "text/plain": [
              "     age  gender  height  weight  ap_hi  ...  gluc  smoke  alco  active  cardio\n",
              "0  18393       2     168    62.0    110  ...     1      0     0       1       0\n",
              "1  20228       1     156    85.0    140  ...     1      0     0       1       1\n",
              "2  18857       1     165    64.0    130  ...     1      0     0       0       1\n",
              "3  17623       2     169    82.0    150  ...     1      0     0       1       1\n",
              "4  17474       1     156    56.0    100  ...     1      0     0       0       0\n",
              "\n",
              "[5 rows x 12 columns]"
            ]
          },
          "metadata": {
            "tags": []
          },
          "execution_count": 16
        }
      ]
    },
    {
      "cell_type": "code",
      "metadata": {
        "id": "M3LrGTKqxjnP"
      },
      "source": [
        "\n",
        "data_raw.drop_duplicates(inplace=True)"
      ],
      "execution_count": 17,
      "outputs": []
    },
    {
      "cell_type": "code",
      "metadata": {
        "colab": {
          "base_uri": "https://localhost:8080/",
          "height": 197
        },
        "id": "Ksyw4XHAzS7p",
        "outputId": "6462879d-47e7-4ea7-a184-504b36c9d650"
      },
      "source": [
        "x = data_raw.copy(deep=True)\n",
        "\n",
        "#removing outliers\n",
        "out_filter = ((x[\"ap_hi\"]>250) | (x[\"ap_lo\"]>200) )\n",
        "x = x[~out_filter]\n",
        "#Higher diastolic than systolic blood pressure is impossible, too. So let's remove these.\n",
        "x.drop(x[x[\"ap_lo\"] > x[\"ap_hi\"]].index, inplace=True)\n",
        "x.drop(x[x[\"ap_lo\"] <= 30].index, inplace=True)\n",
        "x.drop(x[x[\"ap_hi\"] <= 40].index, inplace=True)\n",
        "x.drop(x[x[\"ap_lo\"] >= 200].index, inplace=True)\n",
        "x.drop(x[x[\"ap_hi\"] >= 250].index, inplace=True)\n",
        "\n",
        "#Calculating BMI\n",
        "def bmi_calc(w, h):\n",
        "    return w/(h**2)\n",
        "x[\"bmi\"] = x[\"weight\"]/ (x[\"height\"]/100)**2\n",
        "\n",
        "x[\"gender\"] = x[\"gender\"] % 2\n",
        "\n",
        "x.head()"
      ],
      "execution_count": 18,
      "outputs": [
        {
          "output_type": "execute_result",
          "data": {
            "text/html": [
              "<div>\n",
              "<style scoped>\n",
              "    .dataframe tbody tr th:only-of-type {\n",
              "        vertical-align: middle;\n",
              "    }\n",
              "\n",
              "    .dataframe tbody tr th {\n",
              "        vertical-align: top;\n",
              "    }\n",
              "\n",
              "    .dataframe thead th {\n",
              "        text-align: right;\n",
              "    }\n",
              "</style>\n",
              "<table border=\"1\" class=\"dataframe\">\n",
              "  <thead>\n",
              "    <tr style=\"text-align: right;\">\n",
              "      <th></th>\n",
              "      <th>age</th>\n",
              "      <th>gender</th>\n",
              "      <th>height</th>\n",
              "      <th>weight</th>\n",
              "      <th>ap_hi</th>\n",
              "      <th>ap_lo</th>\n",
              "      <th>cholesterol</th>\n",
              "      <th>gluc</th>\n",
              "      <th>smoke</th>\n",
              "      <th>alco</th>\n",
              "      <th>active</th>\n",
              "      <th>cardio</th>\n",
              "      <th>bmi</th>\n",
              "    </tr>\n",
              "  </thead>\n",
              "  <tbody>\n",
              "    <tr>\n",
              "      <th>0</th>\n",
              "      <td>18393</td>\n",
              "      <td>0</td>\n",
              "      <td>168</td>\n",
              "      <td>62.0</td>\n",
              "      <td>110</td>\n",
              "      <td>80</td>\n",
              "      <td>1</td>\n",
              "      <td>1</td>\n",
              "      <td>0</td>\n",
              "      <td>0</td>\n",
              "      <td>1</td>\n",
              "      <td>0</td>\n",
              "      <td>21.967120</td>\n",
              "    </tr>\n",
              "    <tr>\n",
              "      <th>1</th>\n",
              "      <td>20228</td>\n",
              "      <td>1</td>\n",
              "      <td>156</td>\n",
              "      <td>85.0</td>\n",
              "      <td>140</td>\n",
              "      <td>90</td>\n",
              "      <td>3</td>\n",
              "      <td>1</td>\n",
              "      <td>0</td>\n",
              "      <td>0</td>\n",
              "      <td>1</td>\n",
              "      <td>1</td>\n",
              "      <td>34.927679</td>\n",
              "    </tr>\n",
              "    <tr>\n",
              "      <th>2</th>\n",
              "      <td>18857</td>\n",
              "      <td>1</td>\n",
              "      <td>165</td>\n",
              "      <td>64.0</td>\n",
              "      <td>130</td>\n",
              "      <td>70</td>\n",
              "      <td>3</td>\n",
              "      <td>1</td>\n",
              "      <td>0</td>\n",
              "      <td>0</td>\n",
              "      <td>0</td>\n",
              "      <td>1</td>\n",
              "      <td>23.507805</td>\n",
              "    </tr>\n",
              "    <tr>\n",
              "      <th>3</th>\n",
              "      <td>17623</td>\n",
              "      <td>0</td>\n",
              "      <td>169</td>\n",
              "      <td>82.0</td>\n",
              "      <td>150</td>\n",
              "      <td>100</td>\n",
              "      <td>1</td>\n",
              "      <td>1</td>\n",
              "      <td>0</td>\n",
              "      <td>0</td>\n",
              "      <td>1</td>\n",
              "      <td>1</td>\n",
              "      <td>28.710479</td>\n",
              "    </tr>\n",
              "    <tr>\n",
              "      <th>4</th>\n",
              "      <td>17474</td>\n",
              "      <td>1</td>\n",
              "      <td>156</td>\n",
              "      <td>56.0</td>\n",
              "      <td>100</td>\n",
              "      <td>60</td>\n",
              "      <td>1</td>\n",
              "      <td>1</td>\n",
              "      <td>0</td>\n",
              "      <td>0</td>\n",
              "      <td>0</td>\n",
              "      <td>0</td>\n",
              "      <td>23.011177</td>\n",
              "    </tr>\n",
              "  </tbody>\n",
              "</table>\n",
              "</div>"
            ],
            "text/plain": [
              "     age  gender  height  weight  ap_hi  ...  smoke  alco  active  cardio        bmi\n",
              "0  18393       0     168    62.0    110  ...      0     0       1       0  21.967120\n",
              "1  20228       1     156    85.0    140  ...      0     0       1       1  34.927679\n",
              "2  18857       1     165    64.0    130  ...      0     0       0       1  23.507805\n",
              "3  17623       0     169    82.0    150  ...      0     0       1       1  28.710479\n",
              "4  17474       1     156    56.0    100  ...      0     0       0       0  23.011177\n",
              "\n",
              "[5 rows x 13 columns]"
            ]
          },
          "metadata": {
            "tags": []
          },
          "execution_count": 18
        }
      ]
    },
    {
      "cell_type": "code",
      "metadata": {
        "id": "qz-8nvAj1Hst"
      },
      "source": [
        "Y = x['cardio']\n",
        "X = x.drop('cardio',axis=1)\n",
        "\n",
        "\n"
      ],
      "execution_count": 19,
      "outputs": []
    },
    {
      "cell_type": "code",
      "metadata": {
        "id": "TYq9xiqPxksa"
      },
      "source": [
        "\n",
        "x_train, x_test, y_train, y_test = train_test_split(X, Y, test_size=0.2, shuffle=True)\n",
        "s = StandardScaler()\n",
        "x_train = s.fit_transform(x_train)\n",
        "x_test = s.transform(x_test)\n",
        "\n",
        "# Split train set in train and validation set:\n",
        "x_train, x_valid, y_train, y_valid = train_test_split(x_train, y_train, test_size=0.2, shuffle=True)"
      ],
      "execution_count": 24,
      "outputs": []
    },
    {
      "cell_type": "code",
      "metadata": {
        "colab": {
          "base_uri": "https://localhost:8080/"
        },
        "id": "k2iXfp3Y6Xjo",
        "outputId": "ac714584-f573-4e47-cc19-8eee432f6b67"
      },
      "source": [
        "model = Sequential()\n",
        "\n",
        "model.add(Dense(32, input_dim=x_train.shape[1], activation='relu'))\n",
        "model.add(Dense(1, activation='sigmoid'))\n",
        "\n",
        "model.summary()"
      ],
      "execution_count": 25,
      "outputs": [
        {
          "output_type": "stream",
          "text": [
            "Model: \"sequential\"\n",
            "_________________________________________________________________\n",
            "Layer (type)                 Output Shape              Param #   \n",
            "=================================================================\n",
            "dense (Dense)                (None, 32)                416       \n",
            "_________________________________________________________________\n",
            "dense_1 (Dense)              (None, 1)                 33        \n",
            "=================================================================\n",
            "Total params: 449\n",
            "Trainable params: 449\n",
            "Non-trainable params: 0\n",
            "_________________________________________________________________\n"
          ],
          "name": "stdout"
        }
      ]
    },
    {
      "cell_type": "code",
      "metadata": {
        "colab": {
          "base_uri": "https://localhost:8080/"
        },
        "id": "rgNAjgE-6na5",
        "outputId": "0498be16-ccd6-43ce-8888-cbc226e1ca61"
      },
      "source": [
        "from sklearn import metrics   # Allows us to view accuracy and other such values\n",
        "from keras import optimizers   # Adam optimizer will be used\n",
        "\n",
        "opt = optimizers.Adam(lr=0.001)\n",
        "model.compile(loss='binary_crossentropy', optimizer=opt, metrics=['accuracy'])\n",
        "nn = model.fit(x_train, y_train, epochs=100, validation_data=(x_valid, y_valid), batch_size=10)"
      ],
      "execution_count": 28,
      "outputs": [
        {
          "output_type": "stream",
          "text": [
            "Epoch 1/100\n",
            "4394/4394 [==============================] - 5s 1ms/step - loss: 0.5373 - accuracy: 0.7383 - val_loss: 0.5551 - val_accuracy: 0.7231\n",
            "Epoch 2/100\n",
            "4394/4394 [==============================] - 5s 1ms/step - loss: 0.5376 - accuracy: 0.7374 - val_loss: 0.5524 - val_accuracy: 0.7294\n",
            "Epoch 3/100\n",
            "4394/4394 [==============================] - 5s 1ms/step - loss: 0.5375 - accuracy: 0.7376 - val_loss: 0.5510 - val_accuracy: 0.7278\n",
            "Epoch 4/100\n",
            "4394/4394 [==============================] - 5s 1ms/step - loss: 0.5371 - accuracy: 0.7379 - val_loss: 0.5506 - val_accuracy: 0.7274\n",
            "Epoch 5/100\n",
            "4394/4394 [==============================] - 5s 1ms/step - loss: 0.5373 - accuracy: 0.7379 - val_loss: 0.5505 - val_accuracy: 0.7302\n",
            "Epoch 6/100\n",
            "4394/4394 [==============================] - 5s 1ms/step - loss: 0.5371 - accuracy: 0.7377 - val_loss: 0.5517 - val_accuracy: 0.7258\n",
            "Epoch 7/100\n",
            "4394/4394 [==============================] - 5s 1ms/step - loss: 0.5371 - accuracy: 0.7387 - val_loss: 0.5532 - val_accuracy: 0.7296\n",
            "Epoch 8/100\n",
            "4394/4394 [==============================] - 5s 1ms/step - loss: 0.5372 - accuracy: 0.7384 - val_loss: 0.5531 - val_accuracy: 0.7258\n",
            "Epoch 9/100\n",
            "4394/4394 [==============================] - 5s 1ms/step - loss: 0.5369 - accuracy: 0.7381 - val_loss: 0.5521 - val_accuracy: 0.7279\n",
            "Epoch 10/100\n",
            "4394/4394 [==============================] - 5s 1ms/step - loss: 0.5368 - accuracy: 0.7368 - val_loss: 0.5519 - val_accuracy: 0.7275\n",
            "Epoch 11/100\n",
            "4394/4394 [==============================] - 5s 1ms/step - loss: 0.5369 - accuracy: 0.7375 - val_loss: 0.5514 - val_accuracy: 0.7273\n",
            "Epoch 12/100\n",
            "4394/4394 [==============================] - 5s 1ms/step - loss: 0.5369 - accuracy: 0.7381 - val_loss: 0.5521 - val_accuracy: 0.7273\n",
            "Epoch 13/100\n",
            "4394/4394 [==============================] - 5s 1ms/step - loss: 0.5367 - accuracy: 0.7379 - val_loss: 0.5528 - val_accuracy: 0.7270\n",
            "Epoch 14/100\n",
            "4394/4394 [==============================] - 5s 1ms/step - loss: 0.5367 - accuracy: 0.7379 - val_loss: 0.5518 - val_accuracy: 0.7270\n",
            "Epoch 15/100\n",
            "4394/4394 [==============================] - 5s 1ms/step - loss: 0.5369 - accuracy: 0.7379 - val_loss: 0.5508 - val_accuracy: 0.7269\n",
            "Epoch 16/100\n",
            "4394/4394 [==============================] - 5s 1ms/step - loss: 0.5371 - accuracy: 0.7373 - val_loss: 0.5523 - val_accuracy: 0.7281\n",
            "Epoch 17/100\n",
            "4394/4394 [==============================] - 5s 1ms/step - loss: 0.5367 - accuracy: 0.7370 - val_loss: 0.5510 - val_accuracy: 0.7289\n",
            "Epoch 18/100\n",
            "4394/4394 [==============================] - 5s 1ms/step - loss: 0.5368 - accuracy: 0.7382 - val_loss: 0.5509 - val_accuracy: 0.7271\n",
            "Epoch 19/100\n",
            "4394/4394 [==============================] - 5s 1ms/step - loss: 0.5367 - accuracy: 0.7369 - val_loss: 0.5529 - val_accuracy: 0.7271\n",
            "Epoch 20/100\n",
            "4394/4394 [==============================] - 5s 1ms/step - loss: 0.5368 - accuracy: 0.7382 - val_loss: 0.5517 - val_accuracy: 0.7280\n",
            "Epoch 21/100\n",
            "4394/4394 [==============================] - 5s 1ms/step - loss: 0.5365 - accuracy: 0.7370 - val_loss: 0.5558 - val_accuracy: 0.7271\n",
            "Epoch 22/100\n",
            "4394/4394 [==============================] - 5s 1ms/step - loss: 0.5367 - accuracy: 0.7380 - val_loss: 0.5536 - val_accuracy: 0.7280\n",
            "Epoch 23/100\n",
            "4394/4394 [==============================] - 5s 1ms/step - loss: 0.5367 - accuracy: 0.7386 - val_loss: 0.5512 - val_accuracy: 0.7287\n",
            "Epoch 24/100\n",
            "4394/4394 [==============================] - 5s 1ms/step - loss: 0.5367 - accuracy: 0.7375 - val_loss: 0.5512 - val_accuracy: 0.7285\n",
            "Epoch 25/100\n",
            "4394/4394 [==============================] - 5s 1ms/step - loss: 0.5364 - accuracy: 0.7384 - val_loss: 0.5524 - val_accuracy: 0.7271\n",
            "Epoch 26/100\n",
            "4394/4394 [==============================] - 5s 1ms/step - loss: 0.5365 - accuracy: 0.7370 - val_loss: 0.5504 - val_accuracy: 0.7302\n",
            "Epoch 27/100\n",
            "4394/4394 [==============================] - 5s 1ms/step - loss: 0.5364 - accuracy: 0.7368 - val_loss: 0.5507 - val_accuracy: 0.7273\n",
            "Epoch 28/100\n",
            "4394/4394 [==============================] - 5s 1ms/step - loss: 0.5362 - accuracy: 0.7372 - val_loss: 0.5532 - val_accuracy: 0.7255\n",
            "Epoch 29/100\n",
            "4394/4394 [==============================] - 5s 1ms/step - loss: 0.5365 - accuracy: 0.7391 - val_loss: 0.5509 - val_accuracy: 0.7291\n",
            "Epoch 30/100\n",
            "4394/4394 [==============================] - 5s 1ms/step - loss: 0.5361 - accuracy: 0.7383 - val_loss: 0.5526 - val_accuracy: 0.7272\n",
            "Epoch 31/100\n",
            "4394/4394 [==============================] - 5s 1ms/step - loss: 0.5365 - accuracy: 0.7383 - val_loss: 0.5511 - val_accuracy: 0.7289\n",
            "Epoch 32/100\n",
            "4394/4394 [==============================] - 5s 1ms/step - loss: 0.5365 - accuracy: 0.7376 - val_loss: 0.5530 - val_accuracy: 0.7259\n",
            "Epoch 33/100\n",
            "4394/4394 [==============================] - 5s 1ms/step - loss: 0.5363 - accuracy: 0.7390 - val_loss: 0.5518 - val_accuracy: 0.7291\n",
            "Epoch 34/100\n",
            "4394/4394 [==============================] - 5s 1ms/step - loss: 0.5360 - accuracy: 0.7381 - val_loss: 0.5544 - val_accuracy: 0.7266\n",
            "Epoch 35/100\n",
            "4394/4394 [==============================] - 5s 1ms/step - loss: 0.5363 - accuracy: 0.7381 - val_loss: 0.5506 - val_accuracy: 0.7298\n",
            "Epoch 36/100\n",
            "4394/4394 [==============================] - 5s 1ms/step - loss: 0.5361 - accuracy: 0.7374 - val_loss: 0.5509 - val_accuracy: 0.7277\n",
            "Epoch 37/100\n",
            "4394/4394 [==============================] - 5s 1ms/step - loss: 0.5360 - accuracy: 0.7391 - val_loss: 0.5531 - val_accuracy: 0.7259\n",
            "Epoch 38/100\n",
            "4394/4394 [==============================] - 5s 1ms/step - loss: 0.5364 - accuracy: 0.7370 - val_loss: 0.5522 - val_accuracy: 0.7261\n",
            "Epoch 39/100\n",
            "4394/4394 [==============================] - 6s 1ms/step - loss: 0.5363 - accuracy: 0.7366 - val_loss: 0.5513 - val_accuracy: 0.7286\n",
            "Epoch 40/100\n",
            "4394/4394 [==============================] - 6s 1ms/step - loss: 0.5361 - accuracy: 0.7397 - val_loss: 0.5518 - val_accuracy: 0.7261\n",
            "Epoch 41/100\n",
            "4394/4394 [==============================] - 5s 1ms/step - loss: 0.5363 - accuracy: 0.7377 - val_loss: 0.5510 - val_accuracy: 0.7251\n",
            "Epoch 42/100\n",
            "4394/4394 [==============================] - 5s 1ms/step - loss: 0.5362 - accuracy: 0.7367 - val_loss: 0.5508 - val_accuracy: 0.7280\n",
            "Epoch 43/100\n",
            "4394/4394 [==============================] - 6s 1ms/step - loss: 0.5362 - accuracy: 0.7380 - val_loss: 0.5538 - val_accuracy: 0.7273\n",
            "Epoch 44/100\n",
            "4394/4394 [==============================] - 5s 1ms/step - loss: 0.5364 - accuracy: 0.7372 - val_loss: 0.5509 - val_accuracy: 0.7269\n",
            "Epoch 45/100\n",
            "4394/4394 [==============================] - 5s 1ms/step - loss: 0.5361 - accuracy: 0.7375 - val_loss: 0.5546 - val_accuracy: 0.7263\n",
            "Epoch 46/100\n",
            "4394/4394 [==============================] - 5s 1ms/step - loss: 0.5362 - accuracy: 0.7365 - val_loss: 0.5510 - val_accuracy: 0.7275\n",
            "Epoch 47/100\n",
            "4394/4394 [==============================] - 5s 1ms/step - loss: 0.5360 - accuracy: 0.7388 - val_loss: 0.5525 - val_accuracy: 0.7267\n",
            "Epoch 48/100\n",
            "4394/4394 [==============================] - 5s 1ms/step - loss: 0.5361 - accuracy: 0.7381 - val_loss: 0.5510 - val_accuracy: 0.7258\n",
            "Epoch 49/100\n",
            "4394/4394 [==============================] - 5s 1ms/step - loss: 0.5359 - accuracy: 0.7384 - val_loss: 0.5524 - val_accuracy: 0.7256\n",
            "Epoch 50/100\n",
            "4394/4394 [==============================] - 5s 1ms/step - loss: 0.5359 - accuracy: 0.7383 - val_loss: 0.5517 - val_accuracy: 0.7283\n",
            "Epoch 51/100\n",
            "4394/4394 [==============================] - 5s 1ms/step - loss: 0.5361 - accuracy: 0.7377 - val_loss: 0.5551 - val_accuracy: 0.7261\n",
            "Epoch 52/100\n",
            "4394/4394 [==============================] - 5s 1ms/step - loss: 0.5361 - accuracy: 0.7380 - val_loss: 0.5503 - val_accuracy: 0.7281\n",
            "Epoch 53/100\n",
            "4394/4394 [==============================] - 5s 1ms/step - loss: 0.5358 - accuracy: 0.7375 - val_loss: 0.5518 - val_accuracy: 0.7278\n",
            "Epoch 54/100\n",
            "4394/4394 [==============================] - 5s 1ms/step - loss: 0.5357 - accuracy: 0.7376 - val_loss: 0.5525 - val_accuracy: 0.7289\n",
            "Epoch 55/100\n",
            "4394/4394 [==============================] - 5s 1ms/step - loss: 0.5361 - accuracy: 0.7384 - val_loss: 0.5515 - val_accuracy: 0.7261\n",
            "Epoch 56/100\n",
            "4394/4394 [==============================] - 5s 1ms/step - loss: 0.5356 - accuracy: 0.7372 - val_loss: 0.5520 - val_accuracy: 0.7262\n",
            "Epoch 57/100\n",
            "4394/4394 [==============================] - 5s 1ms/step - loss: 0.5357 - accuracy: 0.7389 - val_loss: 0.5518 - val_accuracy: 0.7236\n",
            "Epoch 58/100\n",
            "4394/4394 [==============================] - 5s 1ms/step - loss: 0.5358 - accuracy: 0.7380 - val_loss: 0.5518 - val_accuracy: 0.7284\n",
            "Epoch 59/100\n",
            "4394/4394 [==============================] - 5s 1ms/step - loss: 0.5361 - accuracy: 0.7386 - val_loss: 0.5509 - val_accuracy: 0.7270\n",
            "Epoch 60/100\n",
            "4394/4394 [==============================] - 5s 1ms/step - loss: 0.5358 - accuracy: 0.7383 - val_loss: 0.5511 - val_accuracy: 0.7282\n",
            "Epoch 61/100\n",
            "4394/4394 [==============================] - 5s 1ms/step - loss: 0.5359 - accuracy: 0.7388 - val_loss: 0.5513 - val_accuracy: 0.7271\n",
            "Epoch 62/100\n",
            "4394/4394 [==============================] - 5s 1ms/step - loss: 0.5356 - accuracy: 0.7379 - val_loss: 0.5544 - val_accuracy: 0.7258\n",
            "Epoch 63/100\n",
            "4394/4394 [==============================] - 5s 1ms/step - loss: 0.5360 - accuracy: 0.7392 - val_loss: 0.5527 - val_accuracy: 0.7268\n",
            "Epoch 64/100\n",
            "4394/4394 [==============================] - 5s 1ms/step - loss: 0.5357 - accuracy: 0.7387 - val_loss: 0.5529 - val_accuracy: 0.7269\n",
            "Epoch 65/100\n",
            "4394/4394 [==============================] - 5s 1ms/step - loss: 0.5359 - accuracy: 0.7380 - val_loss: 0.5512 - val_accuracy: 0.7271\n",
            "Epoch 66/100\n",
            "4394/4394 [==============================] - 5s 1ms/step - loss: 0.5359 - accuracy: 0.7383 - val_loss: 0.5531 - val_accuracy: 0.7303\n",
            "Epoch 67/100\n",
            "4394/4394 [==============================] - 5s 1ms/step - loss: 0.5358 - accuracy: 0.7385 - val_loss: 0.5525 - val_accuracy: 0.7253\n",
            "Epoch 68/100\n",
            "4394/4394 [==============================] - 5s 1ms/step - loss: 0.5355 - accuracy: 0.7380 - val_loss: 0.5533 - val_accuracy: 0.7273\n",
            "Epoch 69/100\n",
            "4394/4394 [==============================] - 5s 1ms/step - loss: 0.5356 - accuracy: 0.7387 - val_loss: 0.5530 - val_accuracy: 0.7270\n",
            "Epoch 70/100\n",
            "4394/4394 [==============================] - 5s 1ms/step - loss: 0.5358 - accuracy: 0.7382 - val_loss: 0.5506 - val_accuracy: 0.7282\n",
            "Epoch 71/100\n",
            "4394/4394 [==============================] - 5s 1ms/step - loss: 0.5358 - accuracy: 0.7388 - val_loss: 0.5524 - val_accuracy: 0.7287\n",
            "Epoch 72/100\n",
            "4394/4394 [==============================] - 5s 1ms/step - loss: 0.5360 - accuracy: 0.7381 - val_loss: 0.5536 - val_accuracy: 0.7278\n",
            "Epoch 73/100\n",
            "4394/4394 [==============================] - 5s 1ms/step - loss: 0.5358 - accuracy: 0.7386 - val_loss: 0.5528 - val_accuracy: 0.7272\n",
            "Epoch 74/100\n",
            "4394/4394 [==============================] - 5s 1ms/step - loss: 0.5358 - accuracy: 0.7383 - val_loss: 0.5526 - val_accuracy: 0.7272\n",
            "Epoch 75/100\n",
            "4394/4394 [==============================] - 5s 1ms/step - loss: 0.5354 - accuracy: 0.7389 - val_loss: 0.5559 - val_accuracy: 0.7266\n",
            "Epoch 76/100\n",
            "4394/4394 [==============================] - 5s 1ms/step - loss: 0.5357 - accuracy: 0.7386 - val_loss: 0.5525 - val_accuracy: 0.7271\n",
            "Epoch 77/100\n",
            "4394/4394 [==============================] - 5s 1ms/step - loss: 0.5357 - accuracy: 0.7378 - val_loss: 0.5542 - val_accuracy: 0.7259\n",
            "Epoch 78/100\n",
            "4394/4394 [==============================] - 5s 1ms/step - loss: 0.5353 - accuracy: 0.7375 - val_loss: 0.5543 - val_accuracy: 0.7240\n",
            "Epoch 79/100\n",
            "4394/4394 [==============================] - 5s 1ms/step - loss: 0.5354 - accuracy: 0.7385 - val_loss: 0.5540 - val_accuracy: 0.7257\n",
            "Epoch 80/100\n",
            "4394/4394 [==============================] - 5s 1ms/step - loss: 0.5357 - accuracy: 0.7374 - val_loss: 0.5526 - val_accuracy: 0.7267\n",
            "Epoch 81/100\n",
            "4394/4394 [==============================] - 5s 1ms/step - loss: 0.5356 - accuracy: 0.7386 - val_loss: 0.5526 - val_accuracy: 0.7267\n",
            "Epoch 82/100\n",
            "4394/4394 [==============================] - 5s 1ms/step - loss: 0.5353 - accuracy: 0.7380 - val_loss: 0.5519 - val_accuracy: 0.7262\n",
            "Epoch 83/100\n",
            "4394/4394 [==============================] - 5s 1ms/step - loss: 0.5354 - accuracy: 0.7385 - val_loss: 0.5525 - val_accuracy: 0.7281\n",
            "Epoch 84/100\n",
            "4394/4394 [==============================] - 5s 1ms/step - loss: 0.5356 - accuracy: 0.7369 - val_loss: 0.5518 - val_accuracy: 0.7274\n",
            "Epoch 85/100\n",
            "4394/4394 [==============================] - 5s 1ms/step - loss: 0.5356 - accuracy: 0.7379 - val_loss: 0.5531 - val_accuracy: 0.7257\n",
            "Epoch 86/100\n",
            "4394/4394 [==============================] - 5s 1ms/step - loss: 0.5357 - accuracy: 0.7381 - val_loss: 0.5537 - val_accuracy: 0.7259\n",
            "Epoch 87/100\n",
            "4394/4394 [==============================] - 5s 1ms/step - loss: 0.5358 - accuracy: 0.7392 - val_loss: 0.5516 - val_accuracy: 0.7271\n",
            "Epoch 88/100\n",
            "4394/4394 [==============================] - 5s 1ms/step - loss: 0.5354 - accuracy: 0.7388 - val_loss: 0.5537 - val_accuracy: 0.7251\n",
            "Epoch 89/100\n",
            "4394/4394 [==============================] - 5s 1ms/step - loss: 0.5356 - accuracy: 0.7382 - val_loss: 0.5518 - val_accuracy: 0.7289\n",
            "Epoch 90/100\n",
            "4394/4394 [==============================] - 5s 1ms/step - loss: 0.5356 - accuracy: 0.7378 - val_loss: 0.5516 - val_accuracy: 0.7281\n",
            "Epoch 91/100\n",
            "4394/4394 [==============================] - 5s 1ms/step - loss: 0.5355 - accuracy: 0.7380 - val_loss: 0.5525 - val_accuracy: 0.7287\n",
            "Epoch 92/100\n",
            "4394/4394 [==============================] - 5s 1ms/step - loss: 0.5353 - accuracy: 0.7393 - val_loss: 0.5525 - val_accuracy: 0.7276\n",
            "Epoch 93/100\n",
            "4394/4394 [==============================] - 5s 1ms/step - loss: 0.5355 - accuracy: 0.7391 - val_loss: 0.5513 - val_accuracy: 0.7282\n",
            "Epoch 94/100\n",
            "4394/4394 [==============================] - 5s 1ms/step - loss: 0.5355 - accuracy: 0.7385 - val_loss: 0.5549 - val_accuracy: 0.7269\n",
            "Epoch 95/100\n",
            "4394/4394 [==============================] - 5s 1ms/step - loss: 0.5356 - accuracy: 0.7378 - val_loss: 0.5526 - val_accuracy: 0.7262\n",
            "Epoch 96/100\n",
            "4394/4394 [==============================] - 5s 1ms/step - loss: 0.5354 - accuracy: 0.7393 - val_loss: 0.5534 - val_accuracy: 0.7275\n",
            "Epoch 97/100\n",
            "4394/4394 [==============================] - 6s 1ms/step - loss: 0.5353 - accuracy: 0.7394 - val_loss: 0.5524 - val_accuracy: 0.7256\n",
            "Epoch 98/100\n",
            "4394/4394 [==============================] - 6s 1ms/step - loss: 0.5354 - accuracy: 0.7384 - val_loss: 0.5520 - val_accuracy: 0.7278\n",
            "Epoch 99/100\n",
            "4394/4394 [==============================] - 5s 1ms/step - loss: 0.5354 - accuracy: 0.7389 - val_loss: 0.5527 - val_accuracy: 0.7268\n",
            "Epoch 100/100\n",
            "4394/4394 [==============================] - 6s 1ms/step - loss: 0.5356 - accuracy: 0.7392 - val_loss: 0.5522 - val_accuracy: 0.7255\n"
          ],
          "name": "stdout"
        }
      ]
    },
    {
      "cell_type": "code",
      "metadata": {
        "colab": {
          "base_uri": "https://localhost:8080/",
          "height": 372
        },
        "id": "ew26V9GB7tvi",
        "outputId": "e832ac3e-21fe-4023-ee33-34ebf784748a"
      },
      "source": [
        "# Testing\n",
        "test_score = model.evaluate(x_test, y_test)\n",
        "print(\"Testing Acc:\", test_score[1])\n",
        "\n",
        "y_pred = model.predict(x_test)\n",
        "cm = confusion_matrix(y_test, y_pred.round())\n",
        "print(\"Confusion Matrix:\", \"\\n\", cm)\n",
        "\n",
        "tpr, fpr, threshold = roc_curve(y_test, y_pred)\n",
        "auc_score = roc_auc_score(y_test, y_pred)\n",
        "print(\"AUC-score:\", auc_score)\n",
        "\n",
        "%matplotlib inline\n",
        "import matplotlib.pyplot as plt\n",
        "\n",
        "plt.plot(tpr, fpr)\n",
        "plt.show()"
      ],
      "execution_count": 32,
      "outputs": [
        {
          "output_type": "stream",
          "text": [
            "430/430 [==============================] - 0s 852us/step - loss: 0.5466 - accuracy: 0.7338\n",
            "Testing Acc: 0.733794629573822\n",
            "Confusion Matrix: \n",
            " [[5451 1472]\n",
            " [2183 4624]]\n",
            "AUC-score: 0.7978284752924788\n"
          ],
          "name": "stdout"
        },
        {
          "output_type": "display_data",
          "data": {
            "image/png": "[encoded data removed]",
            "text/plain": [
              "<Figure size 432x288 with 1 Axes>"
            ]
          },
          "metadata": {
            "tags": [],
            "needs_background": "light"
          }
        }
      ]
    }
  ]
}