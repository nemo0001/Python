{
  "nbformat": 4,
  "nbformat_minor": 0,
  "metadata": {
    "colab": {
      "name": "cardio.ipynb",
      "provenance": [],
      "collapsed_sections": [],
      "include_colab_link": true
    },
    "kernelspec": {
      "name": "python3",
      "display_name": "Python 3"
    }
  },
  "cells": [
    {
      "cell_type": "markdown",
      "metadata": {
        "id": "view-in-github",
        "colab_type": "text"
      },
      "source": [
        "<a href=\"https://colab.research.google.com/github/nemo0001/Python/blob/master/cardio_FE.ipynb\" target=\"_parent\"><img src=\"https://colab.research.google.com/assets/colab-badge.svg\" alt=\"Open In Colab\"/></a>"
      ]
    },
    {
      "cell_type": "markdown",
      "metadata": {
        "id": "IOYm8NJbGBn4"
      },
      "source": [
        "###Uploading Dataset"
      ]
    },
    {
      "cell_type": "code",
      "metadata": {
        "id": "Kihic6cAq5Pp",
        "colab": {
          "resources": {
            "http://localhost:8080/nbextensions/google.colab/files.js": {
              "data": "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",
              "ok": true,
              "headers": [
                [
                  "content-type",
                  "application/javascript"
                ]
              ],
              "status": 200,
              "status_text": ""
            }
          },
          "base_uri": "https://localhost:8080/",
          "height": 91
        },
        "outputId": "f1f914fc-5d45-4d1c-c4fe-276cf7af823d"
      },
      "source": [
        "#getting the data from PC\n",
        "\n",
        "from google.colab import files\n",
        "\n",
        "uploaded = files.upload()\n",
        "\n",
        "for fn in uploaded.keys():\n",
        "  print('User uploaded file \"{name}\" with length {length} bytes'.format(\n",
        "      name=fn, length=len(uploaded[fn])))"
      ],
      "execution_count": 4,
      "outputs": [
        {
          "output_type": "display_data",
          "data": {
            "text/html": [
              "\n",
              "     <input type=\"file\" id=\"files-0c84e589-80d5-4dbe-ae65-7f99d10ccf79\" name=\"files[]\" multiple disabled\n",
              "        style=\"border:none\" />\n",
              "     <output id=\"result-0c84e589-80d5-4dbe-ae65-7f99d10ccf79\">\n",
              "      Upload widget is only available when the cell has been executed in the\n",
              "      current browser session. Please rerun this cell to enable.\n",
              "      </output>\n",
              "      <script src=\"/nbextensions/google.colab/files.js\"></script> "
            ],
            "text/plain": [
              "<IPython.core.display.HTML object>"
            ]
          },
          "metadata": {
            "tags": []
          }
        },
        {
          "output_type": "stream",
          "text": [
            "Saving cardio_train.csv to cardio_train.csv\n",
            "User uploaded file \"cardio_train.csv\" with length 2941524 bytes\n"
          ],
          "name": "stdout"
        }
      ]
    },
    {
      "cell_type": "code",
      "metadata": {
        "id": "OOM_2-M2di_y"
      },
      "source": [
        "#After getting abnormal logistic regression values with huge diff. before and after Hyper-Parameter tuning.\n",
        "#We resorted to removal of irrelavant variable via Corr Matrix, Important Features of Random forest\n",
        "#We removed normalization since it was creating abnormal results"
      ],
      "execution_count": 5,
      "outputs": []
    },
    {
      "cell_type": "markdown",
      "metadata": {
        "id": "0hq_Hy9tGJ_m"
      },
      "source": [
        "###Importing Libraries"
      ]
    },
    {
      "cell_type": "code",
      "metadata": {
        "id": "eOi95F4Hq9ZL"
      },
      "source": [
        "import numpy as np # linear algebra\n",
        "import pandas as pd # data processing, CSV file I/O (e.g. pd.read_csv)\n",
        "from matplotlib import pyplot as plt\n",
        "import tensorflow as tf\n",
        "from tensorflow.keras.optimizers import RMSprop,Nadam,Adadelta,Adam\n",
        "from tensorflow.keras.layers import BatchNormalization,LeakyReLU\n",
        "from tensorflow.keras.callbacks import ReduceLROnPlateau, EarlyStopping\n",
        "import seaborn as sns\n",
        "import scipy.stats as stats\n",
        "import sklearn\n",
        "import os\n",
        "from sklearn.preprocessing import normalize\n",
        "\n",
        "#Importing Models\n",
        "import sklearn.linear_model as lm\n",
        "from sklearn.tree import DecisionTreeClassifier\n",
        "from sklearn.ensemble import RandomForestClassifier\n",
        "from sklearn.neighbors import KNeighborsClassifier\n",
        "from sklearn.svm import SVC\n",
        "from sklearn.naive_bayes import GaussianNB\n",
        "from xgboost import XGBClassifier\n",
        "\n",
        "#Optimization and Evaluation\n",
        "from sklearn.model_selection import GridSearchCV\n",
        "from sklearn.model_selection import cross_val_score\n",
        "from sklearn.metrics import roc_curve, roc_auc_score, precision_recall_curve, auc, make_scorer, recall_score, accuracy_score, precision_score, confusion_matrix,classification_report\n",
        "%matplotlib inline\n",
        "import matplotlib.pyplot as plt\n"
      ],
      "execution_count": 72,
      "outputs": []
    },
    {
      "cell_type": "code",
      "metadata": {
        "id": "H3f0RqPlxm-a",
        "colab": {
          "base_uri": "https://localhost:8080/",
          "height": 197
        },
        "outputId": "fe3d6802-c931-41d4-958f-2a604c2f81a8"
      },
      "source": [
        "data_raw=pd.read_csv(\"cardio_train.csv\",sep=\";\")\n",
        "data_raw.head()"
      ],
      "execution_count": 7,
      "outputs": [
        {
          "output_type": "execute_result",
          "data": {
            "text/html": [
              "<div>\n",
              "<style scoped>\n",
              "    .dataframe tbody tr th:only-of-type {\n",
              "        vertical-align: middle;\n",
              "    }\n",
              "\n",
              "    .dataframe tbody tr th {\n",
              "        vertical-align: top;\n",
              "    }\n",
              "\n",
              "    .dataframe thead th {\n",
              "        text-align: right;\n",
              "    }\n",
              "</style>\n",
              "<table border=\"1\" class=\"dataframe\">\n",
              "  <thead>\n",
              "    <tr style=\"text-align: right;\">\n",
              "      <th></th>\n",
              "      <th>id</th>\n",
              "      <th>age</th>\n",
              "      <th>gender</th>\n",
              "      <th>height</th>\n",
              "      <th>weight</th>\n",
              "      <th>ap_hi</th>\n",
              "      <th>ap_lo</th>\n",
              "      <th>cholesterol</th>\n",
              "      <th>gluc</th>\n",
              "      <th>smoke</th>\n",
              "      <th>alco</th>\n",
              "      <th>active</th>\n",
              "      <th>cardio</th>\n",
              "    </tr>\n",
              "  </thead>\n",
              "  <tbody>\n",
              "    <tr>\n",
              "      <th>0</th>\n",
              "      <td>0</td>\n",
              "      <td>18393</td>\n",
              "      <td>2</td>\n",
              "      <td>168</td>\n",
              "      <td>62.0</td>\n",
              "      <td>110</td>\n",
              "      <td>80</td>\n",
              "      <td>1</td>\n",
              "      <td>1</td>\n",
              "      <td>0</td>\n",
              "      <td>0</td>\n",
              "      <td>1</td>\n",
              "      <td>0</td>\n",
              "    </tr>\n",
              "    <tr>\n",
              "      <th>1</th>\n",
              "      <td>1</td>\n",
              "      <td>20228</td>\n",
              "      <td>1</td>\n",
              "      <td>156</td>\n",
              "      <td>85.0</td>\n",
              "      <td>140</td>\n",
              "      <td>90</td>\n",
              "      <td>3</td>\n",
              "      <td>1</td>\n",
              "      <td>0</td>\n",
              "      <td>0</td>\n",
              "      <td>1</td>\n",
              "      <td>1</td>\n",
              "    </tr>\n",
              "    <tr>\n",
              "      <th>2</th>\n",
              "      <td>2</td>\n",
              "      <td>18857</td>\n",
              "      <td>1</td>\n",
              "      <td>165</td>\n",
              "      <td>64.0</td>\n",
              "      <td>130</td>\n",
              "      <td>70</td>\n",
              "      <td>3</td>\n",
              "      <td>1</td>\n",
              "      <td>0</td>\n",
              "      <td>0</td>\n",
              "      <td>0</td>\n",
              "      <td>1</td>\n",
              "    </tr>\n",
              "    <tr>\n",
              "      <th>3</th>\n",
              "      <td>3</td>\n",
              "      <td>17623</td>\n",
              "      <td>2</td>\n",
              "      <td>169</td>\n",
              "      <td>82.0</td>\n",
              "      <td>150</td>\n",
              "      <td>100</td>\n",
              "      <td>1</td>\n",
              "      <td>1</td>\n",
              "      <td>0</td>\n",
              "      <td>0</td>\n",
              "      <td>1</td>\n",
              "      <td>1</td>\n",
              "    </tr>\n",
              "    <tr>\n",
              "      <th>4</th>\n",
              "      <td>4</td>\n",
              "      <td>17474</td>\n",
              "      <td>1</td>\n",
              "      <td>156</td>\n",
              "      <td>56.0</td>\n",
              "      <td>100</td>\n",
              "      <td>60</td>\n",
              "      <td>1</td>\n",
              "      <td>1</td>\n",
              "      <td>0</td>\n",
              "      <td>0</td>\n",
              "      <td>0</td>\n",
              "      <td>0</td>\n",
              "    </tr>\n",
              "  </tbody>\n",
              "</table>\n",
              "</div>"
            ],
            "text/plain": [
              "   id    age  gender  height  weight  ...  gluc  smoke  alco  active  cardio\n",
              "0   0  18393       2     168    62.0  ...     1      0     0       1       0\n",
              "1   1  20228       1     156    85.0  ...     1      0     0       1       1\n",
              "2   2  18857       1     165    64.0  ...     1      0     0       0       1\n",
              "3   3  17623       2     169    82.0  ...     1      0     0       1       1\n",
              "4   4  17474       1     156    56.0  ...     1      0     0       0       0\n",
              "\n",
              "[5 rows x 13 columns]"
            ]
          },
          "metadata": {
            "tags": []
          },
          "execution_count": 7
        }
      ]
    },
    {
      "cell_type": "code",
      "metadata": {
        "id": "PuTcgdcNyKVN",
        "colab": {
          "base_uri": "https://localhost:8080/"
        },
        "outputId": "da05874c-bb3e-4302-a438-0ab1b48eb07d"
      },
      "source": [
        "data_raw.info()"
      ],
      "execution_count": 8,
      "outputs": [
        {
          "output_type": "stream",
          "text": [
            "<class 'pandas.core.frame.DataFrame'>\n",
            "RangeIndex: 70000 entries, 0 to 69999\n",
            "Data columns (total 13 columns):\n",
            " #   Column       Non-Null Count  Dtype  \n",
            "---  ------       --------------  -----  \n",
            " 0   id           70000 non-null  int64  \n",
            " 1   age          70000 non-null  int64  \n",
            " 2   gender       70000 non-null  int64  \n",
            " 3   height       70000 non-null  int64  \n",
            " 4   weight       70000 non-null  float64\n",
            " 5   ap_hi        70000 non-null  int64  \n",
            " 6   ap_lo        70000 non-null  int64  \n",
            " 7   cholesterol  70000 non-null  int64  \n",
            " 8   gluc         70000 non-null  int64  \n",
            " 9   smoke        70000 non-null  int64  \n",
            " 10  alco         70000 non-null  int64  \n",
            " 11  active       70000 non-null  int64  \n",
            " 12  cardio       70000 non-null  int64  \n",
            "dtypes: float64(1), int64(12)\n",
            "memory usage: 6.9 MB\n"
          ],
          "name": "stdout"
        }
      ]
    },
    {
      "cell_type": "markdown",
      "metadata": {
        "id": "Sb0-eb9wGXwu"
      },
      "source": [
        "###Preliminary Data Processing"
      ]
    },
    {
      "cell_type": "code",
      "metadata": {
        "id": "BKIN9A1Byn82"
      },
      "source": [
        "data_raw.drop(\"id\",axis=1,inplace=True)"
      ],
      "execution_count": 9,
      "outputs": []
    },
    {
      "cell_type": "code",
      "metadata": {
        "id": "iwG-4_sBQkIS",
        "colab": {
          "base_uri": "https://localhost:8080/"
        },
        "outputId": "6d6a1b75-779b-42fc-c181-f95e8490a1af"
      },
      "source": [
        "#handling duplicate values\n",
        "print(\"There are {} duplicate values in data frame\".format(data_raw.duplicated().sum()))"
      ],
      "execution_count": 10,
      "outputs": [
        {
          "output_type": "stream",
          "text": [
            "There are 24 duplicate values in data frame\n"
          ],
          "name": "stdout"
        }
      ]
    },
    {
      "cell_type": "code",
      "metadata": {
        "id": "AY4zrOP7RI_i",
        "colab": {
          "base_uri": "https://localhost:8080/",
          "height": 107
        },
        "outputId": "0b36fc57-f474-487a-fbfe-029fe682785a"
      },
      "source": [
        "#We can drop the duplicates because they have no effect on training of model.\n",
        "#Firstly let us look at the duplicated rows.\n",
        "duplicated = data_raw[data_raw.duplicated(keep=False)]\n",
        "duplicated = duplicated.sort_values(by=['age', \"gender\", \"height\"], ascending= False) \n",
        "#sorted the values to see duplication clearly\n",
        "\n",
        "duplicated.head(2) # Shows us just 1 duplication of 24\n",
        "\n",
        "#duplicated() method helps in analyzing duplicate values only. \n",
        "#It returns a boolean series which is True only for Unique elements."
      ],
      "execution_count": 11,
      "outputs": [
        {
          "output_type": "execute_result",
          "data": {
            "text/html": [
              "<div>\n",
              "<style scoped>\n",
              "    .dataframe tbody tr th:only-of-type {\n",
              "        vertical-align: middle;\n",
              "    }\n",
              "\n",
              "    .dataframe tbody tr th {\n",
              "        vertical-align: top;\n",
              "    }\n",
              "\n",
              "    .dataframe thead th {\n",
              "        text-align: right;\n",
              "    }\n",
              "</style>\n",
              "<table border=\"1\" class=\"dataframe\">\n",
              "  <thead>\n",
              "    <tr style=\"text-align: right;\">\n",
              "      <th></th>\n",
              "      <th>age</th>\n",
              "      <th>gender</th>\n",
              "      <th>height</th>\n",
              "      <th>weight</th>\n",
              "      <th>ap_hi</th>\n",
              "      <th>ap_lo</th>\n",
              "      <th>cholesterol</th>\n",
              "      <th>gluc</th>\n",
              "      <th>smoke</th>\n",
              "      <th>alco</th>\n",
              "      <th>active</th>\n",
              "      <th>cardio</th>\n",
              "    </tr>\n",
              "  </thead>\n",
              "  <tbody>\n",
              "    <tr>\n",
              "      <th>2677</th>\n",
              "      <td>22077</td>\n",
              "      <td>1</td>\n",
              "      <td>175</td>\n",
              "      <td>69.0</td>\n",
              "      <td>120</td>\n",
              "      <td>80</td>\n",
              "      <td>1</td>\n",
              "      <td>1</td>\n",
              "      <td>0</td>\n",
              "      <td>0</td>\n",
              "      <td>1</td>\n",
              "      <td>1</td>\n",
              "    </tr>\n",
              "    <tr>\n",
              "      <th>45748</th>\n",
              "      <td>22077</td>\n",
              "      <td>1</td>\n",
              "      <td>175</td>\n",
              "      <td>69.0</td>\n",
              "      <td>120</td>\n",
              "      <td>80</td>\n",
              "      <td>1</td>\n",
              "      <td>1</td>\n",
              "      <td>0</td>\n",
              "      <td>0</td>\n",
              "      <td>1</td>\n",
              "      <td>1</td>\n",
              "    </tr>\n",
              "  </tbody>\n",
              "</table>\n",
              "</div>"
            ],
            "text/plain": [
              "         age  gender  height  weight  ap_hi  ...  gluc  smoke  alco  active  cardio\n",
              "2677   22077       1     175    69.0    120  ...     1      0     0       1       1\n",
              "45748  22077       1     175    69.0    120  ...     1      0     0       1       1\n",
              "\n",
              "[2 rows x 12 columns]"
            ]
          },
          "metadata": {
            "tags": []
          },
          "execution_count": 11
        }
      ]
    },
    {
      "cell_type": "code",
      "metadata": {
        "id": "yidbVkrYa3DW",
        "colab": {
          "base_uri": "https://localhost:8080/"
        },
        "outputId": "b78b8e6c-0284-4b98-9b32-be7349daab5d"
      },
      "source": [
        "data_raw.drop_duplicates(inplace=True)\n",
        "#Return DataFrame with duplicate rows removed, optionally only considering certain columns.\n",
        "#keep : {‘first’, ‘last’, False}, default ‘first’\n",
        "\n",
        "print(\"There are {} duplicated values in data frame\".format(data_raw.duplicated().sum()))"
      ],
      "execution_count": 12,
      "outputs": [
        {
          "output_type": "stream",
          "text": [
            "There are 0 duplicated values in data frame\n"
          ],
          "name": "stdout"
        }
      ]
    },
    {
      "cell_type": "code",
      "metadata": {
        "id": "kZAlFzfye3ec",
        "colab": {
          "base_uri": "https://localhost:8080/"
        },
        "outputId": "246210ae-cd5f-46ca-cf24-6de16765539b"
      },
      "source": [
        "print(\"There are {} missing values in data frame\".format(data_raw.isnull().sum().sum()))"
      ],
      "execution_count": 13,
      "outputs": [
        {
          "output_type": "stream",
          "text": [
            "There are 0 missing values in data frame\n"
          ],
          "name": "stdout"
        }
      ]
    },
    {
      "cell_type": "markdown",
      "metadata": {
        "id": "BXpOCBhlHAR-"
      },
      "source": [
        "###VISUALIZATION"
      ]
    },
    {
      "cell_type": "code",
      "metadata": {
        "id": "y18JTuKpe7_I",
        "colab": {
          "base_uri": "https://localhost:8080/",
          "height": 307
        },
        "outputId": "bf726a3b-70a9-49a5-b49c-036819408ae9"
      },
      "source": [
        "#Detecting Outliers \n",
        "#Detecting outlier and handling them can increase our accuracy score.\n",
        "x = data_raw.copy(deep=True)\n",
        "x.describe()"
      ],
      "execution_count": 14,
      "outputs": [
        {
          "output_type": "execute_result",
          "data": {
            "text/html": [
              "<div>\n",
              "<style scoped>\n",
              "    .dataframe tbody tr th:only-of-type {\n",
              "        vertical-align: middle;\n",
              "    }\n",
              "\n",
              "    .dataframe tbody tr th {\n",
              "        vertical-align: top;\n",
              "    }\n",
              "\n",
              "    .dataframe thead th {\n",
              "        text-align: right;\n",
              "    }\n",
              "</style>\n",
              "<table border=\"1\" class=\"dataframe\">\n",
              "  <thead>\n",
              "    <tr style=\"text-align: right;\">\n",
              "      <th></th>\n",
              "      <th>age</th>\n",
              "      <th>gender</th>\n",
              "      <th>height</th>\n",
              "      <th>weight</th>\n",
              "      <th>ap_hi</th>\n",
              "      <th>ap_lo</th>\n",
              "      <th>cholesterol</th>\n",
              "      <th>gluc</th>\n",
              "      <th>smoke</th>\n",
              "      <th>alco</th>\n",
              "      <th>active</th>\n",
              "      <th>cardio</th>\n",
              "    </tr>\n",
              "  </thead>\n",
              "  <tbody>\n",
              "    <tr>\n",
              "      <th>count</th>\n",
              "      <td>69976.000000</td>\n",
              "      <td>69976.000000</td>\n",
              "      <td>69976.000000</td>\n",
              "      <td>69976.000000</td>\n",
              "      <td>69976.000000</td>\n",
              "      <td>69976.000000</td>\n",
              "      <td>69976.000000</td>\n",
              "      <td>69976.000000</td>\n",
              "      <td>69976.000000</td>\n",
              "      <td>69976.000000</td>\n",
              "      <td>69976.000000</td>\n",
              "      <td>69976.000000</td>\n",
              "    </tr>\n",
              "    <tr>\n",
              "      <th>mean</th>\n",
              "      <td>19468.950126</td>\n",
              "      <td>1.349648</td>\n",
              "      <td>164.359152</td>\n",
              "      <td>74.208519</td>\n",
              "      <td>128.820453</td>\n",
              "      <td>96.636261</td>\n",
              "      <td>1.366997</td>\n",
              "      <td>1.226535</td>\n",
              "      <td>0.088159</td>\n",
              "      <td>0.053790</td>\n",
              "      <td>0.803718</td>\n",
              "      <td>0.499771</td>\n",
              "    </tr>\n",
              "    <tr>\n",
              "      <th>std</th>\n",
              "      <td>2467.374620</td>\n",
              "      <td>0.476862</td>\n",
              "      <td>8.211218</td>\n",
              "      <td>14.397211</td>\n",
              "      <td>154.037729</td>\n",
              "      <td>188.504581</td>\n",
              "      <td>0.680333</td>\n",
              "      <td>0.572353</td>\n",
              "      <td>0.283528</td>\n",
              "      <td>0.225604</td>\n",
              "      <td>0.397187</td>\n",
              "      <td>0.500004</td>\n",
              "    </tr>\n",
              "    <tr>\n",
              "      <th>min</th>\n",
              "      <td>10798.000000</td>\n",
              "      <td>1.000000</td>\n",
              "      <td>55.000000</td>\n",
              "      <td>10.000000</td>\n",
              "      <td>-150.000000</td>\n",
              "      <td>-70.000000</td>\n",
              "      <td>1.000000</td>\n",
              "      <td>1.000000</td>\n",
              "      <td>0.000000</td>\n",
              "      <td>0.000000</td>\n",
              "      <td>0.000000</td>\n",
              "      <td>0.000000</td>\n",
              "    </tr>\n",
              "    <tr>\n",
              "      <th>25%</th>\n",
              "      <td>17664.000000</td>\n",
              "      <td>1.000000</td>\n",
              "      <td>159.000000</td>\n",
              "      <td>65.000000</td>\n",
              "      <td>120.000000</td>\n",
              "      <td>80.000000</td>\n",
              "      <td>1.000000</td>\n",
              "      <td>1.000000</td>\n",
              "      <td>0.000000</td>\n",
              "      <td>0.000000</td>\n",
              "      <td>1.000000</td>\n",
              "      <td>0.000000</td>\n",
              "    </tr>\n",
              "    <tr>\n",
              "      <th>50%</th>\n",
              "      <td>19703.000000</td>\n",
              "      <td>1.000000</td>\n",
              "      <td>165.000000</td>\n",
              "      <td>72.000000</td>\n",
              "      <td>120.000000</td>\n",
              "      <td>80.000000</td>\n",
              "      <td>1.000000</td>\n",
              "      <td>1.000000</td>\n",
              "      <td>0.000000</td>\n",
              "      <td>0.000000</td>\n",
              "      <td>1.000000</td>\n",
              "      <td>0.000000</td>\n",
              "    </tr>\n",
              "    <tr>\n",
              "      <th>75%</th>\n",
              "      <td>21327.000000</td>\n",
              "      <td>2.000000</td>\n",
              "      <td>170.000000</td>\n",
              "      <td>82.000000</td>\n",
              "      <td>140.000000</td>\n",
              "      <td>90.000000</td>\n",
              "      <td>2.000000</td>\n",
              "      <td>1.000000</td>\n",
              "      <td>0.000000</td>\n",
              "      <td>0.000000</td>\n",
              "      <td>1.000000</td>\n",
              "      <td>1.000000</td>\n",
              "    </tr>\n",
              "    <tr>\n",
              "      <th>max</th>\n",
              "      <td>23713.000000</td>\n",
              "      <td>2.000000</td>\n",
              "      <td>250.000000</td>\n",
              "      <td>200.000000</td>\n",
              "      <td>16020.000000</td>\n",
              "      <td>11000.000000</td>\n",
              "      <td>3.000000</td>\n",
              "      <td>3.000000</td>\n",
              "      <td>1.000000</td>\n",
              "      <td>1.000000</td>\n",
              "      <td>1.000000</td>\n",
              "      <td>1.000000</td>\n",
              "    </tr>\n",
              "  </tbody>\n",
              "</table>\n",
              "</div>"
            ],
            "text/plain": [
              "                age        gender  ...        active        cardio\n",
              "count  69976.000000  69976.000000  ...  69976.000000  69976.000000\n",
              "mean   19468.950126      1.349648  ...      0.803718      0.499771\n",
              "std     2467.374620      0.476862  ...      0.397187      0.500004\n",
              "min    10798.000000      1.000000  ...      0.000000      0.000000\n",
              "25%    17664.000000      1.000000  ...      1.000000      0.000000\n",
              "50%    19703.000000      1.000000  ...      1.000000      0.000000\n",
              "75%    21327.000000      2.000000  ...      1.000000      1.000000\n",
              "max    23713.000000      2.000000  ...      1.000000      1.000000\n",
              "\n",
              "[8 rows x 12 columns]"
            ]
          },
          "metadata": {
            "tags": []
          },
          "execution_count": 14
        }
      ]
    },
    {
      "cell_type": "code",
      "metadata": {
        "id": "jrIJ7xHsfjs_",
        "colab": {
          "base_uri": "https://localhost:8080/",
          "height": 197
        },
        "outputId": "619c6ccb-6cbc-4026-f330-fa5c12be72f2"
      },
      "source": [
        "#Columns of \"age\", \"height\", \"weight\", \"ap_hi\", \"ap_lo\" may have outlier.\n",
        "#In order to compare them on same scale we need to standardize firstly.\n",
        "#My Standard Scalar Function\n",
        "s_list = [\"age\", \"height\", \"weight\", \"ap_hi\", \"ap_lo\"]\n",
        "def standartization(x):\n",
        "    x_std = x.copy(deep=True)\n",
        "    for column in s_list:\n",
        "        x_std[column] = (x_std[column]-x_std[column].mean())/x_std[column].std()\n",
        "    return x_std \n",
        "x_std=standartization(x)\n",
        "x_std.head()"
      ],
      "execution_count": 15,
      "outputs": [
        {
          "output_type": "execute_result",
          "data": {
            "text/html": [
              "<div>\n",
              "<style scoped>\n",
              "    .dataframe tbody tr th:only-of-type {\n",
              "        vertical-align: middle;\n",
              "    }\n",
              "\n",
              "    .dataframe tbody tr th {\n",
              "        vertical-align: top;\n",
              "    }\n",
              "\n",
              "    .dataframe thead th {\n",
              "        text-align: right;\n",
              "    }\n",
              "</style>\n",
              "<table border=\"1\" class=\"dataframe\">\n",
              "  <thead>\n",
              "    <tr style=\"text-align: right;\">\n",
              "      <th></th>\n",
              "      <th>age</th>\n",
              "      <th>gender</th>\n",
              "      <th>height</th>\n",
              "      <th>weight</th>\n",
              "      <th>ap_hi</th>\n",
              "      <th>ap_lo</th>\n",
              "      <th>cholesterol</th>\n",
              "      <th>gluc</th>\n",
              "      <th>smoke</th>\n",
              "      <th>alco</th>\n",
              "      <th>active</th>\n",
              "      <th>cardio</th>\n",
              "    </tr>\n",
              "  </thead>\n",
              "  <tbody>\n",
              "    <tr>\n",
              "      <th>0</th>\n",
              "      <td>-0.436071</td>\n",
              "      <td>2</td>\n",
              "      <td>0.443399</td>\n",
              "      <td>-0.847978</td>\n",
              "      <td>-0.122181</td>\n",
              "      <td>-0.088254</td>\n",
              "      <td>1</td>\n",
              "      <td>1</td>\n",
              "      <td>0</td>\n",
              "      <td>0</td>\n",
              "      <td>1</td>\n",
              "      <td>0</td>\n",
              "    </tr>\n",
              "    <tr>\n",
              "      <th>1</th>\n",
              "      <td>0.307635</td>\n",
              "      <td>1</td>\n",
              "      <td>-1.018016</td>\n",
              "      <td>0.749554</td>\n",
              "      <td>0.072577</td>\n",
              "      <td>-0.035205</td>\n",
              "      <td>3</td>\n",
              "      <td>1</td>\n",
              "      <td>0</td>\n",
              "      <td>0</td>\n",
              "      <td>1</td>\n",
              "      <td>1</td>\n",
              "    </tr>\n",
              "    <tr>\n",
              "      <th>2</th>\n",
              "      <td>-0.248017</td>\n",
              "      <td>1</td>\n",
              "      <td>0.078045</td>\n",
              "      <td>-0.709062</td>\n",
              "      <td>0.007658</td>\n",
              "      <td>-0.141303</td>\n",
              "      <td>3</td>\n",
              "      <td>1</td>\n",
              "      <td>0</td>\n",
              "      <td>0</td>\n",
              "      <td>0</td>\n",
              "      <td>1</td>\n",
              "    </tr>\n",
              "    <tr>\n",
              "      <th>3</th>\n",
              "      <td>-0.748143</td>\n",
              "      <td>2</td>\n",
              "      <td>0.565184</td>\n",
              "      <td>0.541180</td>\n",
              "      <td>0.137496</td>\n",
              "      <td>0.017844</td>\n",
              "      <td>1</td>\n",
              "      <td>1</td>\n",
              "      <td>0</td>\n",
              "      <td>0</td>\n",
              "      <td>1</td>\n",
              "      <td>1</td>\n",
              "    </tr>\n",
              "    <tr>\n",
              "      <th>4</th>\n",
              "      <td>-0.808532</td>\n",
              "      <td>1</td>\n",
              "      <td>-1.018016</td>\n",
              "      <td>-1.264725</td>\n",
              "      <td>-0.187100</td>\n",
              "      <td>-0.194352</td>\n",
              "      <td>1</td>\n",
              "      <td>1</td>\n",
              "      <td>0</td>\n",
              "      <td>0</td>\n",
              "      <td>0</td>\n",
              "      <td>0</td>\n",
              "    </tr>\n",
              "  </tbody>\n",
              "</table>\n",
              "</div>"
            ],
            "text/plain": [
              "        age  gender    height    weight  ...  smoke  alco  active  cardio\n",
              "0 -0.436071       2  0.443399 -0.847978  ...      0     0       1       0\n",
              "1  0.307635       1 -1.018016  0.749554  ...      0     0       1       1\n",
              "2 -0.248017       1  0.078045 -0.709062  ...      0     0       0       1\n",
              "3 -0.748143       2  0.565184  0.541180  ...      0     0       1       1\n",
              "4 -0.808532       1 -1.018016 -1.264725  ...      0     0       0       0\n",
              "\n",
              "[5 rows x 12 columns]"
            ]
          },
          "metadata": {
            "tags": []
          },
          "execution_count": 15
        }
      ]
    },
    {
      "cell_type": "code",
      "metadata": {
        "id": "7OOvxD2wi3nM",
        "colab": {
          "base_uri": "https://localhost:8080/",
          "height": 406
        },
        "outputId": "0c4dfd8c-8277-4ff1-be07-69664f5469e4"
      },
      "source": [
        "#In order to use the multi box graph plot we need to melt out data.\n",
        "x_melted = pd.melt(frame=x_std, id_vars=\"cardio\", value_vars=s_list, var_name=\"features\", value_name=\"value\", col_level=None)\n",
        "x_melted\n",
        "\n",
        "#melt() function is useful to massage a DataFrame into a format where one or more columns are identifier variables, while all other columns, \n",
        "#considered measured variables, are unpivoted to the row axis, leaving just two non-identifier columns, variable and value."
      ],
      "execution_count": 16,
      "outputs": [
        {
          "output_type": "execute_result",
          "data": {
            "text/html": [
              "<div>\n",
              "<style scoped>\n",
              "    .dataframe tbody tr th:only-of-type {\n",
              "        vertical-align: middle;\n",
              "    }\n",
              "\n",
              "    .dataframe tbody tr th {\n",
              "        vertical-align: top;\n",
              "    }\n",
              "\n",
              "    .dataframe thead th {\n",
              "        text-align: right;\n",
              "    }\n",
              "</style>\n",
              "<table border=\"1\" class=\"dataframe\">\n",
              "  <thead>\n",
              "    <tr style=\"text-align: right;\">\n",
              "      <th></th>\n",
              "      <th>cardio</th>\n",
              "      <th>features</th>\n",
              "      <th>value</th>\n",
              "    </tr>\n",
              "  </thead>\n",
              "  <tbody>\n",
              "    <tr>\n",
              "      <th>0</th>\n",
              "      <td>0</td>\n",
              "      <td>age</td>\n",
              "      <td>-0.436071</td>\n",
              "    </tr>\n",
              "    <tr>\n",
              "      <th>1</th>\n",
              "      <td>1</td>\n",
              "      <td>age</td>\n",
              "      <td>0.307635</td>\n",
              "    </tr>\n",
              "    <tr>\n",
              "      <th>2</th>\n",
              "      <td>1</td>\n",
              "      <td>age</td>\n",
              "      <td>-0.248017</td>\n",
              "    </tr>\n",
              "    <tr>\n",
              "      <th>3</th>\n",
              "      <td>1</td>\n",
              "      <td>age</td>\n",
              "      <td>-0.748143</td>\n",
              "    </tr>\n",
              "    <tr>\n",
              "      <th>4</th>\n",
              "      <td>0</td>\n",
              "      <td>age</td>\n",
              "      <td>-0.808532</td>\n",
              "    </tr>\n",
              "    <tr>\n",
              "      <th>...</th>\n",
              "      <td>...</td>\n",
              "      <td>...</td>\n",
              "      <td>...</td>\n",
              "    </tr>\n",
              "    <tr>\n",
              "      <th>349875</th>\n",
              "      <td>0</td>\n",
              "      <td>ap_lo</td>\n",
              "      <td>-0.088254</td>\n",
              "    </tr>\n",
              "    <tr>\n",
              "      <th>349876</th>\n",
              "      <td>1</td>\n",
              "      <td>ap_lo</td>\n",
              "      <td>-0.035205</td>\n",
              "    </tr>\n",
              "    <tr>\n",
              "      <th>349877</th>\n",
              "      <td>1</td>\n",
              "      <td>ap_lo</td>\n",
              "      <td>-0.035205</td>\n",
              "    </tr>\n",
              "    <tr>\n",
              "      <th>349878</th>\n",
              "      <td>1</td>\n",
              "      <td>ap_lo</td>\n",
              "      <td>-0.088254</td>\n",
              "    </tr>\n",
              "    <tr>\n",
              "      <th>349879</th>\n",
              "      <td>0</td>\n",
              "      <td>ap_lo</td>\n",
              "      <td>-0.088254</td>\n",
              "    </tr>\n",
              "  </tbody>\n",
              "</table>\n",
              "<p>349880 rows × 3 columns</p>\n",
              "</div>"
            ],
            "text/plain": [
              "        cardio features     value\n",
              "0            0      age -0.436071\n",
              "1            1      age  0.307635\n",
              "2            1      age -0.248017\n",
              "3            1      age -0.748143\n",
              "4            0      age -0.808532\n",
              "...        ...      ...       ...\n",
              "349875       0    ap_lo -0.088254\n",
              "349876       1    ap_lo -0.035205\n",
              "349877       1    ap_lo -0.035205\n",
              "349878       1    ap_lo -0.088254\n",
              "349879       0    ap_lo -0.088254\n",
              "\n",
              "[349880 rows x 3 columns]"
            ]
          },
          "metadata": {
            "tags": []
          },
          "execution_count": 16
        }
      ]
    },
    {
      "cell_type": "code",
      "metadata": {
        "id": "FSiiKJZqlLgx",
        "colab": {
          "base_uri": "https://localhost:8080/",
          "height": 647
        },
        "outputId": "df2f01c3-f870-4364-cc7c-760f4601bc14"
      },
      "source": [
        "plt.figure(figsize=(10,10))\n",
        "sns.boxplot(x=\"features\", y=\"value\", hue=\"cardio\", data=x_melted)\n",
        "plt.xticks(rotation=90)"
      ],
      "execution_count": 17,
      "outputs": [
        {
          "output_type": "execute_result",
          "data": {
            "text/plain": [
              "(array([0, 1, 2, 3, 4]), <a list of 5 Text major ticklabel objects>)"
            ]
          },
          "metadata": {
            "tags": []
          },
          "execution_count": 17
        },
        {
          "output_type": "display_data",
          "data": {
            "image/png": "[encoded data removed]",
            "text/plain": [
              "<Figure size 720x720 with 1 Axes>"
            ]
          },
          "metadata": {
            "tags": [],
            "needs_background": "light"
          }
        }
      ]
    },
    {
      "cell_type": "markdown",
      "metadata": {
        "id": "D7T5XYaVHYBO"
      },
      "source": [
        "###Outlier Detection"
      ]
    },
    {
      "cell_type": "code",
      "metadata": {
        "id": "RrGqHmJAltS0",
        "colab": {
          "base_uri": "https://localhost:8080/",
          "height": 107
        },
        "outputId": "d9a7899f-ec63-41c8-a7e5-30ea23c4792b"
      },
      "source": [
        "#There are some outliers in the dataset, but as seen above there is an unusual outlier in ap_hi and ap_lo features.\n",
        "#Let us calculate the low bound and hi bound of ap_lo and ap_hi features\n",
        "ap_list = [\"ap_hi\", \"ap_lo\",\"height\",\"weight\"]\n",
        "boundary = pd.DataFrame(index=[\"lower_bound\",\"upper_bound\"]) # We created an empty dataframe\n",
        "for each in ap_list:\n",
        "    Q1 = x[each].quantile(0.25)\n",
        "    Q3 = x[each].quantile(0.75)\n",
        "    IQR = Q3 - Q1\n",
        "\n",
        "    lower_bound = Q1- 1.5*IQR\n",
        "    upper_bound = Q3 + 1.5*IQR\n",
        "    boundary[each] = [lower_bound, upper_bound ]\n",
        "boundary"
      ],
      "execution_count": 18,
      "outputs": [
        {
          "output_type": "execute_result",
          "data": {
            "text/html": [
              "<div>\n",
              "<style scoped>\n",
              "    .dataframe tbody tr th:only-of-type {\n",
              "        vertical-align: middle;\n",
              "    }\n",
              "\n",
              "    .dataframe tbody tr th {\n",
              "        vertical-align: top;\n",
              "    }\n",
              "\n",
              "    .dataframe thead th {\n",
              "        text-align: right;\n",
              "    }\n",
              "</style>\n",
              "<table border=\"1\" class=\"dataframe\">\n",
              "  <thead>\n",
              "    <tr style=\"text-align: right;\">\n",
              "      <th></th>\n",
              "      <th>ap_hi</th>\n",
              "      <th>ap_lo</th>\n",
              "      <th>height</th>\n",
              "      <th>weight</th>\n",
              "    </tr>\n",
              "  </thead>\n",
              "  <tbody>\n",
              "    <tr>\n",
              "      <th>lower_bound</th>\n",
              "      <td>90.0</td>\n",
              "      <td>65.0</td>\n",
              "      <td>142.5</td>\n",
              "      <td>39.5</td>\n",
              "    </tr>\n",
              "    <tr>\n",
              "      <th>upper_bound</th>\n",
              "      <td>170.0</td>\n",
              "      <td>105.0</td>\n",
              "      <td>186.5</td>\n",
              "      <td>107.5</td>\n",
              "    </tr>\n",
              "  </tbody>\n",
              "</table>\n",
              "</div>"
            ],
            "text/plain": [
              "             ap_hi  ap_lo  height  weight\n",
              "lower_bound   90.0   65.0   142.5    39.5\n",
              "upper_bound  170.0  105.0   186.5   107.5"
            ]
          },
          "metadata": {
            "tags": []
          },
          "execution_count": 18
        }
      ]
    },
    {
      "cell_type": "code",
      "metadata": {
        "id": "wM1cq4o_6P4k",
        "colab": {
          "base_uri": "https://localhost:8080/"
        },
        "outputId": "1f78dc74-5372-4349-b680-cfe899ab8802"
      },
      "source": [
        "#We can select the index of outlier data by using boundaries we calculated.\n",
        "ap_hi_filter = (x[\"ap_hi\"] > boundary[\"ap_hi\"][1])\n",
        "ap_lo_filter = (x[\"ap_lo\"] > boundary[\"ap_lo\"][1])                                                           \n",
        "outlier_filter = (ap_hi_filter | ap_lo_filter)\n",
        "x_outliers = x[outlier_filter]\n",
        "x_outliers[\"cardio\"].value_counts()"
      ],
      "execution_count": 19,
      "outputs": [
        {
          "output_type": "execute_result",
          "data": {
            "text/plain": [
              "1    2025\n",
              "0     388\n",
              "Name: cardio, dtype: int64"
            ]
          },
          "metadata": {
            "tags": []
          },
          "execution_count": 19
        }
      ]
    },
    {
      "cell_type": "code",
      "metadata": {
        "id": "Qyq2C27O_xPW",
        "colab": {
          "base_uri": "https://localhost:8080/",
          "height": 297
        },
        "outputId": "b0385dee-f5db-4567-9544-6b296d4db524"
      },
      "source": [
        "#And I have dropped some of data because we have sufficent data (70000) otherwise I would try to handle them by assigning new values.\n",
        "sns.countplot(x='cardio',data=x_outliers,linewidth=2,edgecolor=sns.color_palette(\"dark\", 1))"
      ],
      "execution_count": 20,
      "outputs": [
        {
          "output_type": "execute_result",
          "data": {
            "text/plain": [
              "<matplotlib.axes._subplots.AxesSubplot at 0x7f2ae6c2f048>"
            ]
          },
          "metadata": {
            "tags": []
          },
          "execution_count": 20
        },
        {
          "output_type": "display_data",
          "data": {
            "image/png": "[encoded data removed]",
            "text/plain": [
              "<Figure size 432x288 with 1 Axes>"
            ]
          },
          "metadata": {
            "tags": [],
            "needs_background": "light"
          }
        }
      ]
    },
    {
      "cell_type": "code",
      "metadata": {
        "id": "4-dzBu6YB-Ko",
        "colab": {
          "base_uri": "https://localhost:8080/"
        },
        "outputId": "8e69846d-6287-4861-8c90-5856cd9c14a7"
      },
      "source": [
        "#A study published by doctors in NCBI NLM recorded a maximum blood pressure of 370/360 mm Hg. This study was performed by recording blood pressure in 10 male athletes through radial artery catheterization.\n",
        "#Thus we can drop the ap_hi outlier values over 250 and ap_lo outlier values over 200, without fear of missing data.\n",
        "out_filter_bp = ((x[\"ap_hi\"]>250) | (x[\"ap_lo\"]>200) )\n",
        "print(\"There are {} outliers\".format(x[out_filter_bp][\"cardio\"].count()))\n",
        "\n",
        "#We remove lower and higher outliers for height and weight\n",
        "ht_filter = (x[\"height\"] > boundary[\"height\"][1])\n",
        "ht_filter_l = (x[\"height\"] < boundary[\"height\"][0])\n",
        "wt_filter = (x[\"weight\"] > boundary[\"weight\"][1])\n",
        "wt_filter_l = (x[\"weight\"] < boundary[\"weight\"][0])                                                           \n",
        "outlier_filter_hw = (ht_filter | wt_filter|ht_filter_l|wt_filter_l)\n",
        "x_outliers_hw = x[outlier_filter_hw]\n",
        "x_outliers_hw[\"cardio\"].value_counts()\n",
        "\n",
        "out_filter_h = ((x[\"height\"] > boundary[\"height\"][1]) | (x[\"height\"] < boundary[\"height\"][0]))\n",
        "out_filter_w = ((x[\"weight\"] > boundary[\"weight\"][1]) | (x[\"weight\"] < boundary[\"weight\"][0]))\n",
        "print(\"There are {} outliers\".format(x[out_filter_h][\"cardio\"].count()))\n",
        "print(\"There are {} outliers\".format(x[out_filter_w][\"cardio\"].count()))\n"
      ],
      "execution_count": 21,
      "outputs": [
        {
          "output_type": "stream",
          "text": [
            "There are 993 outliers\n",
            "There are 519 outliers\n",
            "There are 1819 outliers\n"
          ],
          "name": "stdout"
        }
      ]
    },
    {
      "cell_type": "code",
      "metadata": {
        "id": "esdTZRM8yoxh",
        "colab": {
          "base_uri": "https://localhost:8080/"
        },
        "outputId": "982d5b24-7936-423c-f550-f2ae6eb69957"
      },
      "source": [
        "x = x[~out_filter_bp]\n",
        "x=x[~out_filter_h]\n",
        "x=x[~out_filter_w]\n",
        "\n",
        "#Higher diastolic than systolic blood pressure is impossible, too. So let's remove these.\n",
        "x.drop(x[x[\"ap_lo\"] > x[\"ap_hi\"]].index, inplace=True)\n",
        "x.drop(x[x[\"ap_lo\"] <= 30].index, inplace=True)\n",
        "x.drop(x[x[\"ap_hi\"] <= 40].index, inplace=True)\n",
        "x.drop(x[x[\"ap_lo\"] >= 200].index, inplace=True)\n",
        "x.drop(x[x[\"ap_hi\"] >= 250].index, inplace=True)\n",
        "\n",
        "x.shape"
      ],
      "execution_count": 22,
      "outputs": [
        {
          "output_type": "stream",
          "text": [
            "/usr/local/lib/python3.6/dist-packages/ipykernel_launcher.py:2: UserWarning: Boolean Series key will be reindexed to match DataFrame index.\n",
            "  \n",
            "/usr/local/lib/python3.6/dist-packages/ipykernel_launcher.py:3: UserWarning: Boolean Series key will be reindexed to match DataFrame index.\n",
            "  This is separate from the ipykernel package so we can avoid doing imports until\n"
          ],
          "name": "stderr"
        },
        {
          "output_type": "execute_result",
          "data": {
            "text/plain": [
              "(66459, 12)"
            ]
          },
          "metadata": {
            "tags": []
          },
          "execution_count": 22
        }
      ]
    },
    {
      "cell_type": "markdown",
      "metadata": {
        "id": "JCwcASUvHmmo"
      },
      "source": [
        "###Feature Selection"
      ]
    },
    {
      "cell_type": "code",
      "metadata": {
        "colab": {
          "base_uri": "https://localhost:8080/",
          "height": 197
        },
        "id": "aZHQgU-NIikD",
        "outputId": "2e4e0bfc-c5ff-4b53-8e3a-c366a67b2a91"
      },
      "source": [
        "#Calculating BMI\n",
        "def bmi_calc(w, h):\n",
        "    return w/(h**2)\n",
        "x[\"bmi\"] = x[\"weight\"]/ (x[\"height\"]/100)**2\n",
        "\n",
        "#Calculating Diff between systolic and diastolic :pulse pressure\n",
        "x[\"BP_diff\"]=x[\"ap_hi\"]-x[\"ap_lo\"]\n",
        "x.head()"
      ],
      "execution_count": 23,
      "outputs": [
        {
          "output_type": "execute_result",
          "data": {
            "text/html": [
              "<div>\n",
              "<style scoped>\n",
              "    .dataframe tbody tr th:only-of-type {\n",
              "        vertical-align: middle;\n",
              "    }\n",
              "\n",
              "    .dataframe tbody tr th {\n",
              "        vertical-align: top;\n",
              "    }\n",
              "\n",
              "    .dataframe thead th {\n",
              "        text-align: right;\n",
              "    }\n",
              "</style>\n",
              "<table border=\"1\" class=\"dataframe\">\n",
              "  <thead>\n",
              "    <tr style=\"text-align: right;\">\n",
              "      <th></th>\n",
              "      <th>age</th>\n",
              "      <th>gender</th>\n",
              "      <th>height</th>\n",
              "      <th>weight</th>\n",
              "      <th>ap_hi</th>\n",
              "      <th>ap_lo</th>\n",
              "      <th>cholesterol</th>\n",
              "      <th>gluc</th>\n",
              "      <th>smoke</th>\n",
              "      <th>alco</th>\n",
              "      <th>active</th>\n",
              "      <th>cardio</th>\n",
              "      <th>bmi</th>\n",
              "      <th>BP_diff</th>\n",
              "    </tr>\n",
              "  </thead>\n",
              "  <tbody>\n",
              "    <tr>\n",
              "      <th>0</th>\n",
              "      <td>18393</td>\n",
              "      <td>2</td>\n",
              "      <td>168</td>\n",
              "      <td>62.0</td>\n",
              "      <td>110</td>\n",
              "      <td>80</td>\n",
              "      <td>1</td>\n",
              "      <td>1</td>\n",
              "      <td>0</td>\n",
              "      <td>0</td>\n",
              "      <td>1</td>\n",
              "      <td>0</td>\n",
              "      <td>21.967120</td>\n",
              "      <td>30</td>\n",
              "    </tr>\n",
              "    <tr>\n",
              "      <th>1</th>\n",
              "      <td>20228</td>\n",
              "      <td>1</td>\n",
              "      <td>156</td>\n",
              "      <td>85.0</td>\n",
              "      <td>140</td>\n",
              "      <td>90</td>\n",
              "      <td>3</td>\n",
              "      <td>1</td>\n",
              "      <td>0</td>\n",
              "      <td>0</td>\n",
              "      <td>1</td>\n",
              "      <td>1</td>\n",
              "      <td>34.927679</td>\n",
              "      <td>50</td>\n",
              "    </tr>\n",
              "    <tr>\n",
              "      <th>2</th>\n",
              "      <td>18857</td>\n",
              "      <td>1</td>\n",
              "      <td>165</td>\n",
              "      <td>64.0</td>\n",
              "      <td>130</td>\n",
              "      <td>70</td>\n",
              "      <td>3</td>\n",
              "      <td>1</td>\n",
              "      <td>0</td>\n",
              "      <td>0</td>\n",
              "      <td>0</td>\n",
              "      <td>1</td>\n",
              "      <td>23.507805</td>\n",
              "      <td>60</td>\n",
              "    </tr>\n",
              "    <tr>\n",
              "      <th>3</th>\n",
              "      <td>17623</td>\n",
              "      <td>2</td>\n",
              "      <td>169</td>\n",
              "      <td>82.0</td>\n",
              "      <td>150</td>\n",
              "      <td>100</td>\n",
              "      <td>1</td>\n",
              "      <td>1</td>\n",
              "      <td>0</td>\n",
              "      <td>0</td>\n",
              "      <td>1</td>\n",
              "      <td>1</td>\n",
              "      <td>28.710479</td>\n",
              "      <td>50</td>\n",
              "    </tr>\n",
              "    <tr>\n",
              "      <th>4</th>\n",
              "      <td>17474</td>\n",
              "      <td>1</td>\n",
              "      <td>156</td>\n",
              "      <td>56.0</td>\n",
              "      <td>100</td>\n",
              "      <td>60</td>\n",
              "      <td>1</td>\n",
              "      <td>1</td>\n",
              "      <td>0</td>\n",
              "      <td>0</td>\n",
              "      <td>0</td>\n",
              "      <td>0</td>\n",
              "      <td>23.011177</td>\n",
              "      <td>40</td>\n",
              "    </tr>\n",
              "  </tbody>\n",
              "</table>\n",
              "</div>"
            ],
            "text/plain": [
              "     age  gender  height  weight  ...  active  cardio        bmi  BP_diff\n",
              "0  18393       2     168    62.0  ...       1       0  21.967120       30\n",
              "1  20228       1     156    85.0  ...       1       1  34.927679       50\n",
              "2  18857       1     165    64.0  ...       0       1  23.507805       60\n",
              "3  17623       2     169    82.0  ...       1       1  28.710479       50\n",
              "4  17474       1     156    56.0  ...       0       0  23.011177       40\n",
              "\n",
              "[5 rows x 14 columns]"
            ]
          },
          "metadata": {
            "tags": []
          },
          "execution_count": 23
        }
      ]
    },
    {
      "cell_type": "code",
      "metadata": {
        "id": "xe4-4uyuIv52"
      },
      "source": [
        "x[\"gender\"] = x[\"gender\"] % 2"
      ],
      "execution_count": 24,
      "outputs": []
    },
    {
      "cell_type": "code",
      "metadata": {
        "colab": {
          "base_uri": "https://localhost:8080/",
          "height": 620
        },
        "id": "PzY56Co4I_sn",
        "outputId": "529c4125-c75c-45be-e963-dd6b6368b0d4"
      },
      "source": [
        "from sklearn.preprocessing import StandardScaler\n",
        "x_std = standartization(x)\n",
        "\n",
        "data = pd.melt(x_std,id_vars=\"cardio\",\n",
        "                    var_name=\"features\",\n",
        "                    value_name='value')\n",
        "plt.figure(figsize=(10,10))\n",
        "sns.violinplot(x=\"gender\", y=\"bmi\", hue=\"cardio\", data=x,split=True, inner=\"quart\")\n",
        "plt.xticks(rotation=90)\n",
        "#If we interpret the violin plot, the median and quartiles of bmi distribution of patients is slightly higher than non-patients."
      ],
      "execution_count": 25,
      "outputs": [
        {
          "output_type": "execute_result",
          "data": {
            "text/plain": [
              "(array([0, 1]), <a list of 2 Text major ticklabel objects>)"
            ]
          },
          "metadata": {
            "tags": []
          },
          "execution_count": 25
        },
        {
          "output_type": "display_data",
          "data": {
            "image/png": "[encoded data removed]",
            "text/plain": [
              "<Figure size 720x720 with 1 Axes>"
            ]
          },
          "metadata": {
            "tags": [],
            "needs_background": "light"
          }
        }
      ]
    },
    {
      "cell_type": "code",
      "metadata": {
        "id": "DlMLCKboCCeY",
        "colab": {
          "base_uri": "https://localhost:8080/",
          "height": 1000
        },
        "outputId": "60b448a9-9e24-4804-d0e9-14665317a5fa"
      },
      "source": [
        "\n",
        "corr = x.corr()\n",
        "f, ax = plt.subplots(figsize = (15,15))\n",
        "sns.heatmap(corr, annot=True, fmt=\".3f\", linewidths=0.5, ax=ax)\n",
        "corr\n",
        "\n",
        "#We can see from correlation map easily; cholesterol, blood pressure (ap_hi and ap_low both) and age have a powerful relationship with cardiovascular diseases.\n",
        "#Glucogen and cholesterol have a strong relationship among them either.\n",
        "\n",
        "#Smoke , alco ,height and active have low correlation"
      ],
      "execution_count": 26,
      "outputs": [
        {
          "output_type": "execute_result",
          "data": {
            "text/html": [
              "<div>\n",
              "<style scoped>\n",
              "    .dataframe tbody tr th:only-of-type {\n",
              "        vertical-align: middle;\n",
              "    }\n",
              "\n",
              "    .dataframe tbody tr th {\n",
              "        vertical-align: top;\n",
              "    }\n",
              "\n",
              "    .dataframe thead th {\n",
              "        text-align: right;\n",
              "    }\n",
              "</style>\n",
              "<table border=\"1\" class=\"dataframe\">\n",
              "  <thead>\n",
              "    <tr style=\"text-align: right;\">\n",
              "      <th></th>\n",
              "      <th>age</th>\n",
              "      <th>gender</th>\n",
              "      <th>height</th>\n",
              "      <th>weight</th>\n",
              "      <th>ap_hi</th>\n",
              "      <th>ap_lo</th>\n",
              "      <th>cholesterol</th>\n",
              "      <th>gluc</th>\n",
              "      <th>smoke</th>\n",
              "      <th>alco</th>\n",
              "      <th>active</th>\n",
              "      <th>cardio</th>\n",
              "      <th>bmi</th>\n",
              "      <th>BP_diff</th>\n",
              "    </tr>\n",
              "  </thead>\n",
              "  <tbody>\n",
              "    <tr>\n",
              "      <th>age</th>\n",
              "      <td>1.000000</td>\n",
              "      <td>0.021335</td>\n",
              "      <td>-0.085890</td>\n",
              "      <td>0.068481</td>\n",
              "      <td>0.213281</td>\n",
              "      <td>0.160724</td>\n",
              "      <td>0.157028</td>\n",
              "      <td>0.098836</td>\n",
              "      <td>-0.044958</td>\n",
              "      <td>-0.027551</td>\n",
              "      <td>-0.011062</td>\n",
              "      <td>0.243087</td>\n",
              "      <td>0.118476</td>\n",
              "      <td>0.174298</td>\n",
              "    </tr>\n",
              "    <tr>\n",
              "      <th>gender</th>\n",
              "      <td>0.021335</td>\n",
              "      <td>1.000000</td>\n",
              "      <td>-0.519479</td>\n",
              "      <td>-0.162291</td>\n",
              "      <td>-0.061069</td>\n",
              "      <td>-0.065718</td>\n",
              "      <td>0.038693</td>\n",
              "      <td>0.022920</td>\n",
              "      <td>-0.339302</td>\n",
              "      <td>-0.170253</td>\n",
              "      <td>-0.007178</td>\n",
              "      <td>-0.004527</td>\n",
              "      <td>0.126462</td>\n",
              "      <td>-0.033916</td>\n",
              "    </tr>\n",
              "    <tr>\n",
              "      <th>height</th>\n",
              "      <td>-0.085890</td>\n",
              "      <td>-0.519479</td>\n",
              "      <td>1.000000</td>\n",
              "      <td>0.310426</td>\n",
              "      <td>0.009114</td>\n",
              "      <td>0.027818</td>\n",
              "      <td>-0.064388</td>\n",
              "      <td>-0.026080</td>\n",
              "      <td>0.193968</td>\n",
              "      <td>0.094535</td>\n",
              "      <td>-0.007460</td>\n",
              "      <td>-0.019020</td>\n",
              "      <td>-0.237789</td>\n",
              "      <td>-0.009559</td>\n",
              "    </tr>\n",
              "    <tr>\n",
              "      <th>weight</th>\n",
              "      <td>0.068481</td>\n",
              "      <td>-0.162291</td>\n",
              "      <td>0.310426</td>\n",
              "      <td>1.000000</td>\n",
              "      <td>0.255413</td>\n",
              "      <td>0.242734</td>\n",
              "      <td>0.130159</td>\n",
              "      <td>0.091228</td>\n",
              "      <td>0.063305</td>\n",
              "      <td>0.064226</td>\n",
              "      <td>-0.015015</td>\n",
              "      <td>0.175799</td>\n",
              "      <td>0.845538</td>\n",
              "      <td>0.167928</td>\n",
              "    </tr>\n",
              "    <tr>\n",
              "      <th>ap_hi</th>\n",
              "      <td>0.213281</td>\n",
              "      <td>-0.061069</td>\n",
              "      <td>0.009114</td>\n",
              "      <td>0.255413</td>\n",
              "      <td>1.000000</td>\n",
              "      <td>0.733157</td>\n",
              "      <td>0.193048</td>\n",
              "      <td>0.087781</td>\n",
              "      <td>0.025061</td>\n",
              "      <td>0.032222</td>\n",
              "      <td>0.000865</td>\n",
              "      <td>0.428567</td>\n",
              "      <td>0.255614</td>\n",
              "      <td>0.833799</td>\n",
              "    </tr>\n",
              "    <tr>\n",
              "      <th>ap_lo</th>\n",
              "      <td>0.160724</td>\n",
              "      <td>-0.065718</td>\n",
              "      <td>0.027818</td>\n",
              "      <td>0.242734</td>\n",
              "      <td>0.733157</td>\n",
              "      <td>1.000000</td>\n",
              "      <td>0.158147</td>\n",
              "      <td>0.069367</td>\n",
              "      <td>0.023605</td>\n",
              "      <td>0.034183</td>\n",
              "      <td>0.000738</td>\n",
              "      <td>0.338930</td>\n",
              "      <td>0.232288</td>\n",
              "      <td>0.235866</td>\n",
              "    </tr>\n",
              "    <tr>\n",
              "      <th>cholesterol</th>\n",
              "      <td>0.157028</td>\n",
              "      <td>0.038693</td>\n",
              "      <td>-0.064388</td>\n",
              "      <td>0.130159</td>\n",
              "      <td>0.193048</td>\n",
              "      <td>0.158147</td>\n",
              "      <td>1.000000</td>\n",
              "      <td>0.449185</td>\n",
              "      <td>0.006794</td>\n",
              "      <td>0.033367</td>\n",
              "      <td>0.009425</td>\n",
              "      <td>0.220301</td>\n",
              "      <td>0.168062</td>\n",
              "      <td>0.147476</td>\n",
              "    </tr>\n",
              "    <tr>\n",
              "      <th>gluc</th>\n",
              "      <td>0.098836</td>\n",
              "      <td>0.022920</td>\n",
              "      <td>-0.026080</td>\n",
              "      <td>0.091228</td>\n",
              "      <td>0.087781</td>\n",
              "      <td>0.069367</td>\n",
              "      <td>0.449185</td>\n",
              "      <td>1.000000</td>\n",
              "      <td>-0.009974</td>\n",
              "      <td>0.006446</td>\n",
              "      <td>-0.007052</td>\n",
              "      <td>0.088919</td>\n",
              "      <td>0.107065</td>\n",
              "      <td>0.069125</td>\n",
              "    </tr>\n",
              "    <tr>\n",
              "      <th>smoke</th>\n",
              "      <td>-0.044958</td>\n",
              "      <td>-0.339302</td>\n",
              "      <td>0.193968</td>\n",
              "      <td>0.063305</td>\n",
              "      <td>0.025061</td>\n",
              "      <td>0.023605</td>\n",
              "      <td>0.006794</td>\n",
              "      <td>-0.009974</td>\n",
              "      <td>1.000000</td>\n",
              "      <td>0.341654</td>\n",
              "      <td>0.028331</td>\n",
              "      <td>-0.019440</td>\n",
              "      <td>-0.043833</td>\n",
              "      <td>0.016650</td>\n",
              "    </tr>\n",
              "    <tr>\n",
              "      <th>alco</th>\n",
              "      <td>-0.027551</td>\n",
              "      <td>-0.170253</td>\n",
              "      <td>0.094535</td>\n",
              "      <td>0.064226</td>\n",
              "      <td>0.032222</td>\n",
              "      <td>0.034183</td>\n",
              "      <td>0.033367</td>\n",
              "      <td>0.006446</td>\n",
              "      <td>0.341654</td>\n",
              "      <td>1.000000</td>\n",
              "      <td>0.026696</td>\n",
              "      <td>-0.010534</td>\n",
              "      <td>0.012037</td>\n",
              "      <td>0.018295</td>\n",
              "    </tr>\n",
              "    <tr>\n",
              "      <th>active</th>\n",
              "      <td>-0.011062</td>\n",
              "      <td>-0.007178</td>\n",
              "      <td>-0.007460</td>\n",
              "      <td>-0.015015</td>\n",
              "      <td>0.000865</td>\n",
              "      <td>0.000738</td>\n",
              "      <td>0.009425</td>\n",
              "      <td>-0.007052</td>\n",
              "      <td>0.028331</td>\n",
              "      <td>0.026696</td>\n",
              "      <td>1.000000</td>\n",
              "      <td>-0.037560</td>\n",
              "      <td>-0.011731</td>\n",
              "      <td>0.000637</td>\n",
              "    </tr>\n",
              "    <tr>\n",
              "      <th>cardio</th>\n",
              "      <td>0.243087</td>\n",
              "      <td>-0.004527</td>\n",
              "      <td>-0.019020</td>\n",
              "      <td>0.175799</td>\n",
              "      <td>0.428567</td>\n",
              "      <td>0.338930</td>\n",
              "      <td>0.220301</td>\n",
              "      <td>0.088919</td>\n",
              "      <td>-0.019440</td>\n",
              "      <td>-0.010534</td>\n",
              "      <td>-0.037560</td>\n",
              "      <td>1.000000</td>\n",
              "      <td>0.189394</td>\n",
              "      <td>0.337269</td>\n",
              "    </tr>\n",
              "    <tr>\n",
              "      <th>bmi</th>\n",
              "      <td>0.118476</td>\n",
              "      <td>0.126462</td>\n",
              "      <td>-0.237789</td>\n",
              "      <td>0.845538</td>\n",
              "      <td>0.255614</td>\n",
              "      <td>0.232288</td>\n",
              "      <td>0.168062</td>\n",
              "      <td>0.107065</td>\n",
              "      <td>-0.043833</td>\n",
              "      <td>0.012037</td>\n",
              "      <td>-0.011731</td>\n",
              "      <td>0.189394</td>\n",
              "      <td>1.000000</td>\n",
              "      <td>0.176695</td>\n",
              "    </tr>\n",
              "    <tr>\n",
              "      <th>BP_diff</th>\n",
              "      <td>0.174298</td>\n",
              "      <td>-0.033916</td>\n",
              "      <td>-0.009559</td>\n",
              "      <td>0.167928</td>\n",
              "      <td>0.833799</td>\n",
              "      <td>0.235866</td>\n",
              "      <td>0.147476</td>\n",
              "      <td>0.069125</td>\n",
              "      <td>0.016650</td>\n",
              "      <td>0.018295</td>\n",
              "      <td>0.000637</td>\n",
              "      <td>0.337269</td>\n",
              "      <td>0.176695</td>\n",
              "      <td>1.000000</td>\n",
              "    </tr>\n",
              "  </tbody>\n",
              "</table>\n",
              "</div>"
            ],
            "text/plain": [
              "                  age    gender    height  ...    cardio       bmi   BP_diff\n",
              "age          1.000000  0.021335 -0.085890  ...  0.243087  0.118476  0.174298\n",
              "gender       0.021335  1.000000 -0.519479  ... -0.004527  0.126462 -0.033916\n",
              "height      -0.085890 -0.519479  1.000000  ... -0.019020 -0.237789 -0.009559\n",
              "weight       0.068481 -0.162291  0.310426  ...  0.175799  0.845538  0.167928\n",
              "ap_hi        0.213281 -0.061069  0.009114  ...  0.428567  0.255614  0.833799\n",
              "ap_lo        0.160724 -0.065718  0.027818  ...  0.338930  0.232288  0.235866\n",
              "cholesterol  0.157028  0.038693 -0.064388  ...  0.220301  0.168062  0.147476\n",
              "gluc         0.098836  0.022920 -0.026080  ...  0.088919  0.107065  0.069125\n",
              "smoke       -0.044958 -0.339302  0.193968  ... -0.019440 -0.043833  0.016650\n",
              "alco        -0.027551 -0.170253  0.094535  ... -0.010534  0.012037  0.018295\n",
              "active      -0.011062 -0.007178 -0.007460  ... -0.037560 -0.011731  0.000637\n",
              "cardio       0.243087 -0.004527 -0.019020  ...  1.000000  0.189394  0.337269\n",
              "bmi          0.118476  0.126462 -0.237789  ...  0.189394  1.000000  0.176695\n",
              "BP_diff      0.174298 -0.033916 -0.009559  ...  0.337269  0.176695  1.000000\n",
              "\n",
              "[14 rows x 14 columns]"
            ]
          },
          "metadata": {
            "tags": []
          },
          "execution_count": 26
        },
        {
          "output_type": "display_data",
          "data": {
            "image/png": "[encoded data removed]",
            "text/plain": [
              "<Figure size 1080x1080 with 2 Axes>"
            ]
          },
          "metadata": {
            "tags": [],
            "needs_background": "light"
          }
        }
      ]
    },
    {
      "cell_type": "code",
      "metadata": {
        "colab": {
          "base_uri": "https://localhost:8080/"
        },
        "id": "BDAyknKuB-K5",
        "outputId": "0864b43c-d2b6-471f-dbdf-6fa53cabac2f"
      },
      "source": [
        "y = x[\"cardio\"]\n",
        "y.shape\n",
        "x.drop([\"cardio\"], axis=1,inplace=True)\n",
        "\n",
        "#To check if we have the same percentage of people with CVD in our data.\n",
        "#Since it's uniform we won't use stratify option in train_test split\n",
        "sum(y)/len(y)"
      ],
      "execution_count": 27,
      "outputs": [
        {
          "output_type": "execute_result",
          "data": {
            "text/plain": [
              "0.489805744895349"
            ]
          },
          "metadata": {
            "tags": []
          },
          "execution_count": 27
        }
      ]
    },
    {
      "cell_type": "code",
      "metadata": {
        "id": "rUQeOTczhA1w",
        "outputId": "a6e44dd1-0a09-40ac-9af6-72d985565b9c",
        "colab": {
          "base_uri": "https://localhost:8080/"
        }
      },
      "source": [
        "#Significant Features in logit model\n",
        "import statsmodels.api as sm\n",
        "logit_model=sm.Logit(y,x)\n",
        "result=logit_model.fit()\n",
        "print(result.summary2())"
      ],
      "execution_count": 28,
      "outputs": [
        {
          "output_type": "stream",
          "text": [
            "/usr/local/lib/python3.6/dist-packages/statsmodels/tools/_testing.py:19: FutureWarning: pandas.util.testing is deprecated. Use the functions in the public API at pandas.testing instead.\n",
            "  import pandas.util.testing as tm\n"
          ],
          "name": "stderr"
        },
        {
          "output_type": "stream",
          "text": [
            "Warning: Maximum number of iterations has been exceeded.\n",
            "         Current function value: 0.560398\n",
            "         Iterations: 35\n"
          ],
          "name": "stdout"
        },
        {
          "output_type": "stream",
          "text": [
            "/usr/local/lib/python3.6/dist-packages/statsmodels/base/model.py:512: ConvergenceWarning: Maximum Likelihood optimization failed to converge. Check mle_retvals\n",
            "  \"Check mle_retvals\", ConvergenceWarning)\n",
            "/usr/local/lib/python3.6/dist-packages/statsmodels/base/model.py:1286: RuntimeWarning: invalid value encountered in sqrt\n",
            "  bse_ = np.sqrt(np.diag(self.cov_params()))\n",
            "/usr/local/lib/python3.6/dist-packages/scipy/stats/_distn_infrastructure.py:903: RuntimeWarning: invalid value encountered in greater\n",
            "  return (a < x) & (x < b)\n",
            "/usr/local/lib/python3.6/dist-packages/scipy/stats/_distn_infrastructure.py:903: RuntimeWarning: invalid value encountered in less\n",
            "  return (a < x) & (x < b)\n",
            "/usr/local/lib/python3.6/dist-packages/scipy/stats/_distn_infrastructure.py:1912: RuntimeWarning: invalid value encountered in less_equal\n",
            "  cond2 = cond0 & (x <= _a)\n"
          ],
          "name": "stderr"
        },
        {
          "output_type": "stream",
          "text": [
            "                         Results: Logit\n",
            "=================================================================\n",
            "Model:              Logit            Pseudo R-squared: 0.191     \n",
            "Dependent Variable: cardio           AIC:              74510.9183\n",
            "Date:               2020-12-01 18:46 BIC:              74620.1704\n",
            "No. Observations:   66459            Log-Likelihood:   -37243.   \n",
            "Df Model:           11               LL-Null:          -46052.   \n",
            "Df Residuals:       66447            LLR p-value:      0.0000    \n",
            "Converged:          0.0000           Scale:            1.0000    \n",
            "No. Iterations:     35.0000                                      \n",
            "------------------------------------------------------------------\n",
            "              Coef.   Std.Err.     z      P>|z|    [0.025   0.975]\n",
            "------------------------------------------------------------------\n",
            "age           0.0001    0.0000   37.1192  0.0000   0.0001   0.0001\n",
            "gender        0.0103    0.0227    0.4542  0.6497  -0.0341   0.0548\n",
            "height       -0.0736    0.0008  -93.4497  0.0000  -0.0751  -0.0721\n",
            "weight        0.0878    0.0019   45.5267  0.0000   0.0840   0.0916\n",
            "ap_hi         0.0415       nan       nan     nan      nan      nan\n",
            "ap_lo         0.0255       nan       nan     nan      nan      nan\n",
            "cholesterol   0.4941    0.0159   30.9801  0.0000   0.4628   0.5253\n",
            "gluc         -0.1119    0.0181   -6.1862  0.0000  -0.1474  -0.0765\n",
            "smoke        -0.1574    0.0357   -4.4052  0.0000  -0.2275  -0.0874\n",
            "alco         -0.2235    0.0435   -5.1368  0.0000  -0.3088  -0.1382\n",
            "active       -0.2369    0.0223  -10.6307  0.0000  -0.2806  -0.1933\n",
            "bmi          -0.1986    0.0049  -40.5806  0.0000  -0.2082  -0.1890\n",
            "BP_diff       0.0154       nan       nan     nan      nan      nan\n",
            "=================================================================\n",
            "\n"
          ],
          "name": "stdout"
        }
      ]
    },
    {
      "cell_type": "code",
      "metadata": {
        "id": "oy7EFifYC0zQ"
      },
      "source": [
        "#train-test split\n",
        "from sklearn.model_selection import train_test_split\n",
        "x_train,x_test, y_train, y_test = train_test_split(x,y,test_size=0.2,random_state=42)\n",
        "#sum(y_train)/len(y_train)\n",
        "#sum(y_test)/len(y_test)\n"
      ],
      "execution_count": 29,
      "outputs": []
    },
    {
      "cell_type": "code",
      "metadata": {
        "id": "TnNWWAeGb0lu"
      },
      "source": [
        "#Normalization\n",
        "# x_train = normalize(x_train)\n",
        "# x_test = normalize(x_test)"
      ],
      "execution_count": 30,
      "outputs": []
    },
    {
      "cell_type": "code",
      "metadata": {
        "id": "dKs59hCQO62G"
      },
      "source": [
        "# #Dropping Irrelavant features\n",
        "# x_train.drop([\"smoke\"], axis=1,inplace=True)\n",
        "# x_train.drop([\"alco\"], axis=1,inplace=True)\n",
        "# x_train.drop([\"height\"], axis=1,inplace=True)\n",
        "\n",
        "# x_test.drop([\"smoke\"], axis=1,inplace=True)\n",
        "# x_test.drop([\"alco\"], axis=1,inplace=True)\n",
        "# x_test.drop([\"height\"], axis=1,inplace=True)\n",
        "# #x_train.drop([\"gender\"], axis=1,inplace=True)\n",
        "# x_train.head()"
      ],
      "execution_count": 31,
      "outputs": []
    },
    {
      "cell_type": "code",
      "metadata": {
        "colab": {
          "base_uri": "https://localhost:8080/"
        },
        "id": "8nHshHjdcARD",
        "outputId": "1419e1ac-a0eb-43a5-bc24-46601e0b313a"
      },
      "source": [
        "#Using Random forest classifier for feature selection and removal of irrelavant variables.\n",
        "from sklearn.ensemble import RandomForestClassifier\n",
        "\n",
        "ran = RandomForestClassifier(n_estimators=100)\n",
        "ran.fit(x_train, y_train)\n",
        "\n",
        "# # Saving feature names for later use\n",
        "feature_list=x_train.columns.values.tolist()\n",
        "# Get numerical feature importances\n",
        "importances = list(ran.feature_importances_)\n",
        "# List of tuples with variable and importance\n",
        "feature_importances = [(feature, round(importance, 2)) for feature, importance in zip(feature_list, importances)]\n",
        "# Sort the feature importances by most important first\n",
        "feature_importances = sorted(feature_importances, key = lambda x: x[1], reverse = True)\n",
        "# Print out the feature and importances \n",
        "[print('Variable: {:20} Importance: {}'.format(*pair)) for pair in feature_importances];"
      ],
      "execution_count": 32,
      "outputs": [
        {
          "output_type": "stream",
          "text": [
            "Variable: age                  Importance: 0.26\n",
            "Variable: bmi                  Importance: 0.16\n",
            "Variable: height               Importance: 0.11\n",
            "Variable: weight               Importance: 0.11\n",
            "Variable: ap_hi                Importance: 0.11\n",
            "Variable: BP_diff              Importance: 0.08\n",
            "Variable: ap_lo                Importance: 0.06\n",
            "Variable: cholesterol          Importance: 0.04\n",
            "Variable: gender               Importance: 0.02\n",
            "Variable: gluc                 Importance: 0.02\n",
            "Variable: active               Importance: 0.02\n",
            "Variable: smoke                Importance: 0.01\n",
            "Variable: alco                 Importance: 0.01\n"
          ],
          "name": "stdout"
        }
      ]
    },
    {
      "cell_type": "markdown",
      "metadata": {
        "id": "DP72K7fbKWsm"
      },
      "source": [
        "###Model fitting using RFE"
      ]
    },
    {
      "cell_type": "markdown",
      "metadata": {
        "id": "rANUclrmtGZE"
      },
      "source": [
        "####Logistic Regression"
      ]
    },
    {
      "cell_type": "code",
      "metadata": {
        "id": "Gj0lOAtZg2eJ",
        "outputId": "61ec11c4-948b-4cf9-fe63-d1036969525e",
        "colab": {
          "base_uri": "https://localhost:8080/"
        }
      },
      "source": [
        "#Using RFE on Logistic Regression, keeping only 7 variables\n",
        "from sklearn.feature_selection import RFE\n",
        "from sklearn.linear_model import LogisticRegression\n",
        "logreg = LogisticRegression(max_iter=1000)\n",
        "rfe = RFE(logreg, 1)\n",
        "rfe = rfe.fit(x_train, y_train)\n",
        "rank=(rfe.ranking_)\n",
        "dict_col=dict(zip(feature_list,rank))\n",
        "dict_col1=sorted(dict_col.items(), key=lambda x: x[1])\n",
        "dict_col1"
      ],
      "execution_count": 58,
      "outputs": [
        {
          "output_type": "execute_result",
          "data": {
            "text/plain": [
              "[('cholesterol', 1),\n",
              " ('active', 2),\n",
              " ('smoke', 3),\n",
              " ('alco', 4),\n",
              " ('gluc', 5),\n",
              " ('ap_hi', 6),\n",
              " ('bmi', 7),\n",
              " ('weight', 8),\n",
              " ('height', 9),\n",
              " ('ap_lo', 10),\n",
              " ('BP_diff', 11),\n",
              " ('gender', 12),\n",
              " ('age', 13)]"
            ]
          },
          "metadata": {
            "tags": []
          },
          "execution_count": 58
        }
      ]
    },
    {
      "cell_type": "code",
      "metadata": {
        "id": "DFKQYLtCpUZv"
      },
      "source": [
        "cols=[\"cholesterol\",\"active\",\"smoke\",\"alco\",\"gluc\",\"ap_hi\",\"bmi\"]\n",
        "x_train_1=x_train[cols]\n",
        "x_test_1 = x_test[cols]"
      ],
      "execution_count": 61,
      "outputs": []
    },
    {
      "cell_type": "code",
      "metadata": {
        "id": "hsX1g2MLtN9I",
        "outputId": "595bfd7f-5b31-451d-c3da-16af7d8c90ee",
        "colab": {
          "base_uri": "https://localhost:8080/"
        }
      },
      "source": [
        "#Fitting using selected features\n",
        "logreg = LogisticRegression(max_iter = 1000)\n",
        "logreg.fit(x_train_1, y_train)"
      ],
      "execution_count": 62,
      "outputs": [
        {
          "output_type": "execute_result",
          "data": {
            "text/plain": [
              "LogisticRegression(C=1.0, class_weight=None, dual=False, fit_intercept=True,\n",
              "                   intercept_scaling=1, l1_ratio=None, max_iter=1000,\n",
              "                   multi_class='auto', n_jobs=None, penalty='l2',\n",
              "                   random_state=None, solver='lbfgs', tol=0.0001, verbose=0,\n",
              "                   warm_start=False)"
            ]
          },
          "metadata": {
            "tags": []
          },
          "execution_count": 62
        }
      ]
    },
    {
      "cell_type": "code",
      "metadata": {
        "id": "bA8h9RVStZTw",
        "outputId": "5045a2bb-006c-4014-bfe2-7c6f5f163ef0",
        "colab": {
          "base_uri": "https://localhost:8080/"
        }
      },
      "source": [
        "#Evaluation of fitted model\n",
        "x_test_1 = x_test[cols]\n",
        "y_pred = logreg.predict(x_test_1)\n",
        "confusion_matrix = confusion_matrix(y_test, y_pred)\n",
        "print(confusion_matrix)"
      ],
      "execution_count": 63,
      "outputs": [
        {
          "output_type": "stream",
          "text": [
            "[[5498 1301]\n",
            " [2305 4188]]\n"
          ],
          "name": "stdout"
        }
      ]
    },
    {
      "cell_type": "code",
      "metadata": {
        "id": "helYd3LLtnDF",
        "outputId": "c81ce32d-92db-4b8c-a22b-c1277970c062",
        "colab": {
          "base_uri": "https://localhost:8080/"
        }
      },
      "source": [
        "from sklearn.metrics import classification_report\n",
        "print(classification_report(y_test, y_pred))"
      ],
      "execution_count": 64,
      "outputs": [
        {
          "output_type": "stream",
          "text": [
            "              precision    recall  f1-score   support\n",
            "\n",
            "           0       0.70      0.81      0.75      6799\n",
            "           1       0.76      0.65      0.70      6493\n",
            "\n",
            "    accuracy                           0.73     13292\n",
            "   macro avg       0.73      0.73      0.73     13292\n",
            "weighted avg       0.73      0.73      0.73     13292\n",
            "\n"
          ],
          "name": "stdout"
        }
      ]
    },
    {
      "cell_type": "code",
      "metadata": {
        "id": "6Fq1nz0jt6Ba",
        "outputId": "733ac205-a1df-4850-9fb4-f28a8676a36a",
        "colab": {
          "base_uri": "https://localhost:8080/",
          "height": 313
        }
      },
      "source": [
        "from sklearn.metrics import roc_auc_score\n",
        "from sklearn.metrics import roc_curve\n",
        "logit_roc_auc = roc_auc_score(y_test, logreg.predict(x_test_1))\n",
        "fpr, tpr, thresholds = roc_curve(y_test, logreg.predict_proba(x_test_1)[:,1])\n",
        "plt.figure()\n",
        "plt.plot(fpr, tpr, label='Logistic Regression (area = %0.2f)' % logit_roc_auc)\n",
        "plt.plot([0, 1], [0, 1],'r--')\n",
        "plt.xlim([0.0, 1.0])\n",
        "plt.ylim([0.0, 1.05])\n",
        "plt.xlabel('False Positive Rate')\n",
        "plt.ylabel('True Positive Rate')\n",
        "plt.title('Receiver operating characteristic')\n",
        "plt.legend(loc=\"lower right\")\n",
        "plt.savefig('Log_ROC')\n",
        "plt.show()\n",
        "auc = roc_auc_score(y_test, y_pred)\n",
        "print(\"AUC Score\", auc)"
      ],
      "execution_count": 75,
      "outputs": [
        {
          "output_type": "display_data",
          "data": {
            "image/png": "[encoded data removed]",
            "text/plain": [
              "<Figure size 432x288 with 1 Axes>"
            ]
          },
          "metadata": {
            "tags": [],
            "needs_background": "light"
          }
        },
        {
          "output_type": "stream",
          "text": [
            "AUC Score 0.7266782399555184\n"
          ],
          "name": "stdout"
        }
      ]
    },
    {
      "cell_type": "code",
      "metadata": {
        "id": "CiefqhRLuTRc",
        "outputId": "fa871e63-7fca-4cfa-8ead-330c535e3c6c",
        "colab": {
          "base_uri": "https://localhost:8080/"
        }
      },
      "source": [
        "#Optimization and parameter tuning\n",
        "log_reg = LogisticRegression(solver=\"liblinear\", max_iter=200)\n",
        "grid = {\"penalty\" : [\"l1\", \"l2\"],\n",
        "         \"C\" : np.arange(60,80,2)} # (60,62,64 ... 78)\n",
        "log_reg_cv = GridSearchCV(logreg, grid, cv=3)\n",
        "log_reg_cv.fit(x_train_1, y_train)\n",
        "\n",
        "# Print hyperparameter\n",
        "print(\"Tuned hyperparameter n_estimators: {}\".format(log_reg_cv.best_params_)) \n",
        "print(\"Best score: {}\".format(log_reg_cv.best_score_))"
      ],
      "execution_count": 71,
      "outputs": [
        {
          "output_type": "stream",
          "text": [
            "/usr/local/lib/python3.6/dist-packages/sklearn/model_selection/_validation.py:536: FitFailedWarning: Estimator fit failed. The score on this train-test partition for these parameters will be set to nan. Details: \n",
            "ValueError: Solver lbfgs supports only 'l2' or 'none' penalties, got l1 penalty.\n",
            "\n",
            "  FitFailedWarning)\n",
            "/usr/local/lib/python3.6/dist-packages/sklearn/model_selection/_validation.py:536: FitFailedWarning: Estimator fit failed. The score on this train-test partition for these parameters will be set to nan. Details: \n",
            "ValueError: Solver lbfgs supports only 'l2' or 'none' penalties, got l1 penalty.\n",
            "\n",
            "  FitFailedWarning)\n",
            "/usr/local/lib/python3.6/dist-packages/sklearn/model_selection/_validation.py:536: FitFailedWarning: Estimator fit failed. The score on this train-test partition for these parameters will be set to nan. Details: \n",
            "ValueError: Solver lbfgs supports only 'l2' or 'none' penalties, got l1 penalty.\n",
            "\n",
            "  FitFailedWarning)\n",
            "/usr/local/lib/python3.6/dist-packages/sklearn/model_selection/_validation.py:536: FitFailedWarning: Estimator fit failed. The score on this train-test partition for these parameters will be set to nan. Details: \n",
            "ValueError: Solver lbfgs supports only 'l2' or 'none' penalties, got l1 penalty.\n",
            "\n",
            "  FitFailedWarning)\n",
            "/usr/local/lib/python3.6/dist-packages/sklearn/model_selection/_validation.py:536: FitFailedWarning: Estimator fit failed. The score on this train-test partition for these parameters will be set to nan. Details: \n",
            "ValueError: Solver lbfgs supports only 'l2' or 'none' penalties, got l1 penalty.\n",
            "\n",
            "  FitFailedWarning)\n",
            "/usr/local/lib/python3.6/dist-packages/sklearn/model_selection/_validation.py:536: FitFailedWarning: Estimator fit failed. The score on this train-test partition for these parameters will be set to nan. Details: \n",
            "ValueError: Solver lbfgs supports only 'l2' or 'none' penalties, got l1 penalty.\n",
            "\n",
            "  FitFailedWarning)\n",
            "/usr/local/lib/python3.6/dist-packages/sklearn/model_selection/_validation.py:536: FitFailedWarning: Estimator fit failed. The score on this train-test partition for these parameters will be set to nan. Details: \n",
            "ValueError: Solver lbfgs supports only 'l2' or 'none' penalties, got l1 penalty.\n",
            "\n",
            "  FitFailedWarning)\n",
            "/usr/local/lib/python3.6/dist-packages/sklearn/model_selection/_validation.py:536: FitFailedWarning: Estimator fit failed. The score on this train-test partition for these parameters will be set to nan. Details: \n",
            "ValueError: Solver lbfgs supports only 'l2' or 'none' penalties, got l1 penalty.\n",
            "\n",
            "  FitFailedWarning)\n",
            "/usr/local/lib/python3.6/dist-packages/sklearn/model_selection/_validation.py:536: FitFailedWarning: Estimator fit failed. The score on this train-test partition for these parameters will be set to nan. Details: \n",
            "ValueError: Solver lbfgs supports only 'l2' or 'none' penalties, got l1 penalty.\n",
            "\n",
            "  FitFailedWarning)\n",
            "/usr/local/lib/python3.6/dist-packages/sklearn/model_selection/_validation.py:536: FitFailedWarning: Estimator fit failed. The score on this train-test partition for these parameters will be set to nan. Details: \n",
            "ValueError: Solver lbfgs supports only 'l2' or 'none' penalties, got l1 penalty.\n",
            "\n",
            "  FitFailedWarning)\n"
          ],
          "name": "stderr"
        },
        {
          "output_type": "stream",
          "text": [
            "Tuned hyperparameter n_estimators: {'C': 76, 'penalty': 'l2'}\n",
            "Best score: 0.7234375475352627\n"
          ],
          "name": "stdout"
        }
      ]
    },
    {
      "cell_type": "code",
      "metadata": {
        "id": "CVB1d4ehu4De",
        "outputId": "032431c4-1f9d-4b91-f16a-6f479436c0f8",
        "colab": {
          "base_uri": "https://localhost:8080/",
          "height": 330
        }
      },
      "source": [
        "#Test Set Accuracy Score ¶\n",
        "#Now we have selected our model with better hyper parameters than default ones.\n",
        "#It is time to evaluate model with our test set\n",
        "logreg_best = LogisticRegression(C=76, penalty=\"l2\", solver=\"liblinear\")\n",
        "logreg_best.fit(x_train_1, y_train)\n",
        "print(\"Test accuracy: \",logreg_best.score(x_test_1, y_test))\n",
        "\n",
        "y_pred = logreg_best.predict(x_test_1)\n",
        "# cm = confusion_matrix(y_test, y_pred)\n",
        "# print(\"Confusion Matrix:\", \"\\n\", cm)\n",
        "\n",
        "tpr, fpr, threshold = roc_curve(y_test, y_pred)\n",
        "auc = roc_auc_score(y_test, y_pred)\n",
        "print(\"AUC Score\", auc)\n",
        "\n",
        "logit_roc_auc = roc_auc_score(y_test, logreg_best.predict(x_test_1))\n",
        "fpr, tpr, thresholds = roc_curve(y_test, logreg_best.predict_proba(x_test_1)[:,1])\n",
        "plt.figure()\n",
        "plt.plot(fpr, tpr, label='Logistic Regression (area = %0.2f)' % logit_roc_auc)\n",
        "plt.plot([0, 1], [0, 1],'r--')\n",
        "plt.xlim([0.0, 1.0])\n",
        "plt.ylim([0.0, 1.05])\n",
        "plt.xlabel('False Positive Rate')\n",
        "plt.ylabel('True Positive Rate')\n",
        "plt.title('Receiver operating characteristic')\n",
        "plt.legend(loc=\"lower right\")\n",
        "plt.savefig('Log_ROC')\n",
        "plt.show()"
      ],
      "execution_count": 74,
      "outputs": [
        {
          "output_type": "stream",
          "text": [
            "Test accuracy:  0.7285585314474872\n",
            "AUC Score 0.7266782399555184\n"
          ],
          "name": "stdout"
        },
        {
          "output_type": "display_data",
          "data": {
            "image/png": "[encoded data removed]",
            "text/plain": [
              "<Figure size 432x288 with 1 Axes>"
            ]
          },
          "metadata": {
            "tags": [],
            "needs_background": "light"
          }
        }
      ]
    },
    {
      "cell_type": "code",
      "metadata": {
        "id": "d7nF2RZ25DJL",
        "outputId": "b179df46-61d7-4078-b145-fbd01da676b9",
        "colab": {
          "base_uri": "https://localhost:8080/",
          "height": 1000
        }
      },
      "source": [
        "dec = DecisionTreeClassifier()\n",
        "ran = RandomForestClassifier(n_estimators=100)\n",
        "knn = KNeighborsClassifier(n_neighbors=100)\n",
        "svm = SVC(random_state=1)\n",
        "naive = GaussianNB()\n",
        "\n",
        "#models to be fitted\n",
        "#later part added AUC scores and plots for better evaluation\n",
        "models = {\"Decision tree\" : dec,\n",
        "          \"Random forest\" : ran,\n",
        "          \"KNN\" : knn,\n",
        "          \"SVM\" : svm,\n",
        "          \"Naive bayes\" : naive,\n",
        "         }\n",
        "scores= { }\n",
        "auc={ }\n",
        "\n",
        "for key, value in models.items():    \n",
        "    model = value\n",
        "    model.fit(x_train_1, y_train)\n",
        "    scores[key] = model.score(x_test_1, y_test)\n",
        "    print(key)\n",
        "    print(\"Accuracy Score\", scores[key])\n",
        "\n",
        "    y_pred = model.predict(x_test_1)\n",
        "\n",
        "    tpr, fpr, threshold = roc_curve(y_test, y_pred)\n",
        "    auc[key] = roc_auc_score(y_test, y_pred)\n",
        "    print(\"AUC Score\", auc[key])\n",
        "\n",
        "    plt.plot(tpr, fpr)\n",
        "    plt.show()\n"
      ],
      "execution_count": 123,
      "outputs": [
        {
          "output_type": "stream",
          "text": [
            "Decision tree\n",
            "Accuracy Score 0.6593439662955161\n",
            "AUC Score 0.6569764213928146\n"
          ],
          "name": "stdout"
        },
        {
          "output_type": "display_data",
          "data": {
            "image/png": "[encoded data removed]",
            "text/plain": [
              "<Figure size 432x288 with 1 Axes>"
            ]
          },
          "metadata": {
            "tags": [],
            "needs_background": "light"
          }
        },
        {
          "output_type": "stream",
          "text": [
            "Random forest\n",
            "Accuracy Score 0.6718326813120674\n",
            "AUC Score 0.6703208748208526\n"
          ],
          "name": "stdout"
        },
        {
          "output_type": "display_data",
          "data": {
            "image/png": "[encoded data removed]",
            "text/plain": [
              "<Figure size 432x288 with 1 Axes>"
            ]
          },
          "metadata": {
            "tags": [],
            "needs_background": "light"
          }
        },
        {
          "output_type": "stream",
          "text": [
            "KNN\n",
            "Accuracy Score 0.7263767679807402\n",
            "AUC Score 0.7243826817285689\n"
          ],
          "name": "stdout"
        },
        {
          "output_type": "display_data",
          "data": {
            "image/png": "[encoded data removed]",
            "text/plain": [
              "<Figure size 432x288 with 1 Axes>"
            ]
          },
          "metadata": {
            "tags": [],
            "needs_background": "light"
          }
        },
        {
          "output_type": "stream",
          "text": [
            "SVM\n",
            "Accuracy Score 0.7123833885043636\n",
            "AUC Score 0.7087183076791241\n"
          ],
          "name": "stdout"
        },
        {
          "output_type": "display_data",
          "data": {
            "image/png": "[encoded data removed]",
            "text/plain": [
              "<Figure size 432x288 with 1 Axes>"
            ]
          },
          "metadata": {
            "tags": [],
            "needs_background": "light"
          }
        },
        {
          "output_type": "stream",
          "text": [
            "Naive bayes\n",
            "Accuracy Score 0.6982395425820042\n",
            "AUC Score 0.6952913097923212\n"
          ],
          "name": "stdout"
        },
        {
          "output_type": "display_data",
          "data": {
            "image/png": "[encoded data removed]",
            "text/plain": [
              "<Figure size 432x288 with 1 Axes>"
            ]
          },
          "metadata": {
            "tags": [],
            "needs_background": "light"
          }
        }
      ]
    },
    {
      "cell_type": "code",
      "metadata": {
        "id": "xX5kVa-F_9d2",
        "outputId": "a6982c88-e915-4af4-982a-06d984822462",
        "colab": {
          "base_uri": "https://localhost:8080/",
          "height": 197
        }
      },
      "source": [
        "scores_frame = pd.DataFrame(scores, index=[\"Accuracy Score\"]).T\n",
        "scores_frame.sort_values(by=[\"Accuracy Score\"], axis=0 ,ascending=False, inplace=True)\n",
        "scores_frame"
      ],
      "execution_count": 127,
      "outputs": [
        {
          "output_type": "execute_result",
          "data": {
            "text/html": [
              "<div>\n",
              "<style scoped>\n",
              "    .dataframe tbody tr th:only-of-type {\n",
              "        vertical-align: middle;\n",
              "    }\n",
              "\n",
              "    .dataframe tbody tr th {\n",
              "        vertical-align: top;\n",
              "    }\n",
              "\n",
              "    .dataframe thead th {\n",
              "        text-align: right;\n",
              "    }\n",
              "</style>\n",
              "<table border=\"1\" class=\"dataframe\">\n",
              "  <thead>\n",
              "    <tr style=\"text-align: right;\">\n",
              "      <th></th>\n",
              "      <th>Accuracy Score</th>\n",
              "    </tr>\n",
              "  </thead>\n",
              "  <tbody>\n",
              "    <tr>\n",
              "      <th>KNN</th>\n",
              "      <td>0.726377</td>\n",
              "    </tr>\n",
              "    <tr>\n",
              "      <th>SVM</th>\n",
              "      <td>0.712383</td>\n",
              "    </tr>\n",
              "    <tr>\n",
              "      <th>Naive bayes</th>\n",
              "      <td>0.698240</td>\n",
              "    </tr>\n",
              "    <tr>\n",
              "      <th>Random forest</th>\n",
              "      <td>0.671833</td>\n",
              "    </tr>\n",
              "    <tr>\n",
              "      <th>Decision tree</th>\n",
              "      <td>0.659344</td>\n",
              "    </tr>\n",
              "  </tbody>\n",
              "</table>\n",
              "</div>"
            ],
            "text/plain": [
              "               Accuracy Score\n",
              "KNN                  0.726377\n",
              "SVM                  0.712383\n",
              "Naive bayes          0.698240\n",
              "Random forest        0.671833\n",
              "Decision tree        0.659344"
            ]
          },
          "metadata": {
            "tags": []
          },
          "execution_count": 127
        }
      ]
    },
    {
      "cell_type": "code",
      "metadata": {
        "id": "F7NkJH7M_dbT"
      },
      "source": [
        "def print_score(clf, X_train, y_train, X_test, y_test, train=True):\n",
        "    if train:\n",
        "        pred = clf.predict(X_train)\n",
        "        clf_report = pd.DataFrame(classification_report(y_train, pred, output_dict=True))\n",
        "        print(\"Train Result:\\n================================================\")\n",
        "        print(f\"Accuracy Score: {accuracy_score(y_train, pred) * 100:.2f}%\")\n",
        "        print(\"_______________________________________________\")\n",
        "        print(f\"CLASSIFICATION REPORT:\\n{clf_report}\")\n",
        "        print(\"_______________________________________________\")\n",
        "        print(f\"Confusion Matrix: \\n {confusion_matrix(y_train, pred)}\\n\")\n",
        "        \n",
        "    elif train==False:\n",
        "        pred = clf.predict(X_test)\n",
        "        clf_report = pd.DataFrame(classification_report(y_test, pred, output_dict=True))\n",
        "        print(\"Test Result:\\n================================================\")        \n",
        "        print(f\"Accuracy Score: {accuracy_score(y_test, pred) * 100:.2f}%\")\n",
        "        print(\"_______________________________________________\")\n",
        "        print(f\"CLASSIFICATION REPORT:\\n{clf_report}\")\n",
        "        print(\"_______________________________________________\")\n",
        "        print(f\"Confusion Matrix: \\n {confusion_matrix(y_test, pred)}\\n\")"
      ],
      "execution_count": 125,
      "outputs": []
    },
    {
      "cell_type": "code",
      "metadata": {
        "id": "SbpnF77B_jl_",
        "outputId": "a869c70d-b937-436c-9c69-15d8f23d474e",
        "colab": {
          "base_uri": "https://localhost:8080/",
          "height": 283
        }
      },
      "source": [
        "#XGBoost simple model fit\n",
        "\n",
        "xgb_clf = XGBClassifier()\n",
        "xgb_clf.fit(x_train_1, y_train)\n",
        "\n",
        "#print_score(xgb_clf, x_train_1, y_train, x_test_1, y_test, train=True)\n",
        "#print_score(xgb_clf, x_train_1, y_train, x_test_1, y_test, train=False)\n",
        "\n",
        "y_pred = xgb_clf.predict(x_test_1)\n",
        "\n",
        "tpr, fpr, threshold = roc_curve(y_test, y_pred)\n",
        "auc_score = roc_auc_score(y_test, y_pred)\n",
        "print(\"AUC-score:\", auc_score)\n",
        "\n",
        "%matplotlib inline\n",
        "import matplotlib.pyplot as plt\n",
        "\n",
        "plt.plot(tpr, fpr)\n",
        "plt.show()"
      ],
      "execution_count": 129,
      "outputs": [
        {
          "output_type": "stream",
          "text": [
            "AUC-score: 0.7286026312699838\n"
          ],
          "name": "stdout"
        },
        {
          "output_type": "display_data",
          "data": {
            "image/png": "[encoded data removed]",
            "text/plain": [
              "<Figure size 432x288 with 1 Axes>"
            ]
          },
          "metadata": {
            "tags": [],
            "needs_background": "light"
          }
        }
      ]
    }
  ]
}