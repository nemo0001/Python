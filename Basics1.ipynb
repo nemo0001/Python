{
  "nbformat": 4,
  "nbformat_minor": 0,
  "metadata": {
    "colab": {
      "name": "Basics1.ipynb",
      "provenance": [],
      "collapsed_sections": [],
      "toc_visible": true,
      "authorship_tag": "ABX9TyOmywGIDOU+XQU2/slDYoJy",
      "include_colab_link": true
    },
    "kernelspec": {
      "name": "python3",
      "display_name": "Python 3"
    }
  },
  "cells": [
    {
      "cell_type": "markdown",
      "metadata": {
        "id": "view-in-github",
        "colab_type": "text"
      },
      "source": [
        "<a href=\"https://colab.research.google.com/github/nemo0001/Python/blob/master/Basics1.ipynb\" target=\"_parent\"><img src=\"https://colab.research.google.com/assets/colab-badge.svg\" alt=\"Open In Colab\"/></a>"
      ]
    },
    {
      "cell_type": "code",
      "metadata": {
        "id": "b-OnyBJ4Mzu_",
        "outputId": "e826f24c-0733-49f5-9a6e-85ad81d5afd0",
        "colab": {
          "base_uri": "https://localhost:8080/",
          "height": 198
        }
      },
      "source": [
        "d={1:1,2:4, 3:5}\n",
        "for x,y in enumerate(d):\n",
        "  print(y)\n",
        "\n",
        "\n",
        "s=\"bhaia boka hai\"\n",
        "print(s[-1:0:-1])\n",
        "\n",
        "print(dir(str))\n",
        "\n",
        "s=\"Bhaia,bhabhi,maa,chiku\"\n",
        "l=s.split(\",\")\n",
        "for i in l:\n",
        "  print(i)\n",
        "\n",
        "\n",
        "\n"
      ],
      "execution_count": null,
      "outputs": [
        {
          "output_type": "stream",
          "text": [
            "1\n",
            "2\n",
            "3\n",
            "iah akob aiah\n",
            "['__add__', '__class__', '__contains__', '__delattr__', '__dir__', '__doc__', '__eq__', '__format__', '__ge__', '__getattribute__', '__getitem__', '__getnewargs__', '__gt__', '__hash__', '__init__', '__init_subclass__', '__iter__', '__le__', '__len__', '__lt__', '__mod__', '__mul__', '__ne__', '__new__', '__reduce__', '__reduce_ex__', '__repr__', '__rmod__', '__rmul__', '__setattr__', '__sizeof__', '__str__', '__subclasshook__', 'capitalize', 'casefold', 'center', 'count', 'encode', 'endswith', 'expandtabs', 'find', 'format', 'format_map', 'index', 'isalnum', 'isalpha', 'isdecimal', 'isdigit', 'isidentifier', 'islower', 'isnumeric', 'isprintable', 'isspace', 'istitle', 'isupper', 'join', 'ljust', 'lower', 'lstrip', 'maketrans', 'partition', 'replace', 'rfind', 'rindex', 'rjust', 'rpartition', 'rsplit', 'rstrip', 'split', 'splitlines', 'startswith', 'strip', 'swapcase', 'title', 'translate', 'upper', 'zfill']\n",
            "Bhaia\n",
            "bhabhi\n",
            "maa\n",
            "chiku\n"
          ],
          "name": "stdout"
        }
      ]
    },
    {
      "cell_type": "code",
      "metadata": {
        "id": "l9fsiexxRbKG",
        "outputId": "3b5cfd01-222a-461f-d9ba-e0b01342db7f",
        "colab": {
          "base_uri": "https://localhost:8080/",
          "height": 106
        }
      },
      "source": [
        "s=\"Bhaia,bhabhi,maa,chiku\"\n",
        "\n",
        "l=s.split(\",\")\n",
        "for i in l:\n",
        "  print(i)\n",
        "l2=(\".\").join(l)\n",
        "print(l2)"
      ],
      "execution_count": null,
      "outputs": [
        {
          "output_type": "stream",
          "text": [
            "Bhaia\n",
            "bhabhi\n",
            "maa\n",
            "chiku\n",
            "Bhaia.bhabhi.maa.chiku\n"
          ],
          "name": "stdout"
        }
      ]
    },
    {
      "cell_type": "code",
      "metadata": {
        "id": "ACpmLVVbSaJy",
        "outputId": "d25077e9-b633-4918-c884-8792e9c2fe03",
        "colab": {
          "base_uri": "https://localhost:8080/",
          "height": 293
        }
      },
      "source": [
        "l=[]\n",
        "while True:\n",
        "  d=input(\"family member\")\n",
        "  if d!= \"n\":\n",
        "    l=l.append(d)\n",
        "    print(l)\n",
        "  else:\n",
        "    print(\"end\")\n",
        "    break"
      ],
      "execution_count": null,
      "outputs": [
        {
          "output_type": "stream",
          "text": [
            "family membermaa\n",
            "None\n",
            "family membermaa\n"
          ],
          "name": "stdout"
        },
        {
          "output_type": "error",
          "ename": "AttributeError",
          "evalue": "ignored",
          "traceback": [
            "\u001b[0;31m---------------------------------------------------------------------------\u001b[0m",
            "\u001b[0;31mAttributeError\u001b[0m                            Traceback (most recent call last)",
            "\u001b[0;32m<ipython-input-16-ad22edabbc96>\u001b[0m in \u001b[0;36m<module>\u001b[0;34m()\u001b[0m\n\u001b[1;32m      3\u001b[0m   \u001b[0md\u001b[0m\u001b[0;34m=\u001b[0m\u001b[0minput\u001b[0m\u001b[0;34m(\u001b[0m\u001b[0;34m\"family member\"\u001b[0m\u001b[0;34m)\u001b[0m\u001b[0;34m\u001b[0m\u001b[0;34m\u001b[0m\u001b[0m\n\u001b[1;32m      4\u001b[0m   \u001b[0;32mif\u001b[0m \u001b[0md\u001b[0m\u001b[0;34m!=\u001b[0m \u001b[0;34m\"n\"\u001b[0m\u001b[0;34m:\u001b[0m\u001b[0;34m\u001b[0m\u001b[0;34m\u001b[0m\u001b[0m\n\u001b[0;32m----> 5\u001b[0;31m     \u001b[0ml\u001b[0m\u001b[0;34m=\u001b[0m\u001b[0ml\u001b[0m\u001b[0;34m.\u001b[0m\u001b[0mappend\u001b[0m\u001b[0;34m(\u001b[0m\u001b[0md\u001b[0m\u001b[0;34m)\u001b[0m\u001b[0;34m\u001b[0m\u001b[0;34m\u001b[0m\u001b[0m\n\u001b[0m\u001b[1;32m      6\u001b[0m     \u001b[0mprint\u001b[0m\u001b[0;34m(\u001b[0m\u001b[0ml\u001b[0m\u001b[0;34m)\u001b[0m\u001b[0;34m\u001b[0m\u001b[0;34m\u001b[0m\u001b[0m\n\u001b[1;32m      7\u001b[0m   \u001b[0;32melse\u001b[0m\u001b[0;34m:\u001b[0m\u001b[0;34m\u001b[0m\u001b[0;34m\u001b[0m\u001b[0m\n",
            "\u001b[0;31mAttributeError\u001b[0m: 'NoneType' object has no attribute 'append'"
          ]
        }
      ]
    },
    {
      "cell_type": "code",
      "metadata": {
        "id": "tQ7cKyl2eEsE",
        "outputId": "fc6989a9-e3a7-483b-e758-c45d03e99d46",
        "colab": {
          "base_uri": "https://localhost:8080/",
          "height": 124
        }
      },
      "source": [
        "\n",
        "\n",
        "while True:\n",
        "  d=input(\"cvv no \")\n",
        "  if d.isalnum():\n",
        "    print(\"invalid\")\n",
        "    break\n",
        "  elif len(d)!=4:\n",
        "    print(\"invalid\")\n",
        "    break\n",
        "  elif d.isalpha():\n",
        "    print(\"invalid\")\n",
        "    break\n",
        "  elif d==\"n\":\n",
        "    break\n",
        "  else:\n",
        "    print(\"valid\")\n",
        "\n",
        "  "
      ],
      "execution_count": null,
      "outputs": [
        {
          "output_type": "stream",
          "text": [
            "cvv no 1234\n",
            "valid\n",
            "cvv no 123a\n",
            "valid\n",
            "cvv no abcd\n",
            "invalid\n"
          ],
          "name": "stdout"
        }
      ]
    },
    {
      "cell_type": "code",
      "metadata": {
        "id": "3j7FvK63fZDg"
      },
      "source": [
        ""
      ],
      "execution_count": null,
      "outputs": []
    },
    {
      "cell_type": "code",
      "metadata": {
        "id": "yfcZ3ZaOe3nO",
        "outputId": "49895128-e36c-411e-f086-d2fb2ea1b859",
        "colab": {
          "base_uri": "https://localhost:8080/"
        }
      },
      "source": [
        "#Lists and Tuples:\n",
        "#LISTS:\n",
        "\n",
        "l=[10,20,30,40]\n",
        "\n",
        "#append \n",
        "l.append([1,2,3])\n",
        "print(l)\n",
        "\n",
        "#extend \n",
        "l.extend([1,2,3])\n",
        "print(l)\n",
        "\n",
        "\n",
        "#insert\n",
        "\n",
        "#?below list l1 to l2\n",
        "#l1=[[1,2,3],[4,5,6],[7,8,9]]\n",
        "#l2=[1,2,3,4,5,6,7,8,9]\n",
        "# we are using a nested for loop here\n",
        "\n",
        "l1=[[1,2,3],[4,5,6],[7,8,9]]\n",
        "l2=[]\n",
        "for value1 in l1:\n",
        "  for value2 in value1:\n",
        "    l2.append(value2)\n",
        "print(l2)\n",
        "\n",
        "\n",
        "\n"
      ],
      "execution_count": null,
      "outputs": [
        {
          "output_type": "stream",
          "text": [
            "[10, 20, 30, 40, [1, 2, 3]]\n",
            "[10, 20, 30, 40, [1, 2, 3], 1, 2, 3]\n",
            "[1, 2, 3, 4, 5, 6, 7, 8, 9]\n"
          ],
          "name": "stdout"
        }
      ]
    },
    {
      "cell_type": "code",
      "metadata": {
        "id": "11v6h6LhkLLV",
        "outputId": "d2b88d2e-b22f-4b50-fdc8-ec2d1c44e50f",
        "colab": {
          "base_uri": "https://localhost:8080/"
        }
      },
      "source": [
        "#eg\n",
        "l1=[[1,2,3],[4,5,6],[7,8,9]]\n",
        "l2=[[100,200,300],[400,500,600],[700,800,900]]\n",
        "l3=[[101,201,301],[401,501,601],[701,801,901]]\n",
        "\n",
        "print(l1+l2+l3)\n",
        "print(sum(l3,sum(l1,l2)))\n",
        "\n",
        "# for value1 in l1:\n",
        "#   for value2 in l2:\n",
        "#     for value3 in l3:\n",
        "#       l.append(value1+value2+value3)\n",
        "#       print(l)\n",
        "\n",
        "for index in range(len(l1)):\n",
        "   print(l1[index]+l2[index]+l3[index])\n",
        "\n",
        "l4=[]\n",
        "for mainindex in range(len(l1)):\n",
        "  for index in range(len(l1[mainindex])):\n",
        "    print(l1[mainindex][index]+l2[mainindex][index]+l3[mainindex][index])\n",
        "    l4.append(l1[mainindex][index]+l2[mainindex][index]+l3[mainindex][index])\n",
        "print(l4)"
      ],
      "execution_count": null,
      "outputs": [
        {
          "output_type": "stream",
          "text": [
            "[[1, 2, 3], [4, 5, 6], [7, 8, 9], [100, 200, 300], [400, 500, 600], [700, 800, 900], [101, 201, 301], [401, 501, 601], [701, 801, 901]]\n",
            "[[100, 200, 300], [400, 500, 600], [700, 800, 900], 1, 2, 3, 4, 5, 6, 7, 8, 9, 101, 201, 301, 401, 501, 601, 701, 801, 901]\n",
            "[1, 2, 3, 100, 200, 300, 101, 201, 301]\n",
            "[4, 5, 6, 400, 500, 600, 401, 501, 601]\n",
            "[7, 8, 9, 700, 800, 900, 701, 801, 901]\n",
            "202\n",
            "[202]\n",
            "403\n",
            "[202, 403]\n",
            "604\n",
            "[202, 403, 604]\n",
            "805\n",
            "[202, 403, 604, 805]\n",
            "1006\n",
            "[202, 403, 604, 805, 1006]\n",
            "1207\n",
            "[202, 403, 604, 805, 1006, 1207]\n",
            "1408\n",
            "[202, 403, 604, 805, 1006, 1207, 1408]\n",
            "1609\n",
            "[202, 403, 604, 805, 1006, 1207, 1408, 1609]\n",
            "1810\n",
            "[202, 403, 604, 805, 1006, 1207, 1408, 1609, 1810]\n"
          ],
          "name": "stdout"
        }
      ]
    },
    {
      "cell_type": "markdown",
      "metadata": {
        "id": "80hQVswCgm_n"
      },
      "source": [
        "Lists:\n",
        "\n",
        "pop: remove the last element or specified index element\n",
        "remove: removes the specified value\n",
        "clear: clears the list and gives an empty list\n",
        "del: deletes the reference of list"
      ]
    },
    {
      "cell_type": "code",
      "metadata": {
        "id": "APRZzbbVgcVg",
        "outputId": "e2abc793-abaa-4601-8f9c-77dde525622a",
        "colab": {
          "base_uri": "https://localhost:8080/",
          "height": 35
        }
      },
      "source": [
        "l=[10,20,30]\n",
        "l.insert(0,100)\n",
        "print(l)"
      ],
      "execution_count": null,
      "outputs": [
        {
          "output_type": "stream",
          "text": [
            "[100, 10, 20, 30]\n"
          ],
          "name": "stdout"
        }
      ]
    },
    {
      "cell_type": "code",
      "metadata": {
        "id": "LHo8MDV4fbmJ",
        "outputId": "158446c8-f3fc-449d-b424-2d90ffd6d05b",
        "colab": {
          "base_uri": "https://localhost:8080/",
          "height": 35
        }
      },
      "source": [
        "l=[10,20,30,40]\n",
        "r=l.pop(1)\n",
        "print(l,r)"
      ],
      "execution_count": null,
      "outputs": [
        {
          "output_type": "stream",
          "text": [
            "[10, 30, 40] 20\n"
          ],
          "name": "stdout"
        }
      ]
    },
    {
      "cell_type": "code",
      "metadata": {
        "id": "7MFnNutXf7vo",
        "outputId": "0eb519a1-c18e-464d-a2fd-d4dd51cf2d7a",
        "colab": {
          "base_uri": "https://localhost:8080/",
          "height": 35
        }
      },
      "source": [
        "l=[10,20,30,40]\n",
        "s=l.remove(20)\n",
        "print(l,s)"
      ],
      "execution_count": null,
      "outputs": [
        {
          "output_type": "stream",
          "text": [
            "[10, 30, 40] None\n"
          ],
          "name": "stdout"
        }
      ]
    },
    {
      "cell_type": "code",
      "metadata": {
        "id": "x5jFRDHTgPBa",
        "outputId": "7ae1b5c4-40e5-4242-d8bc-4cebd22b06ea",
        "colab": {
          "base_uri": "https://localhost:8080/",
          "height": 35
        }
      },
      "source": [
        "l.clear()\n",
        "l"
      ],
      "execution_count": null,
      "outputs": [
        {
          "output_type": "execute_result",
          "data": {
            "text/plain": [
              "[]"
            ]
          },
          "metadata": {
            "tags": []
          },
          "execution_count": 11
        }
      ]
    },
    {
      "cell_type": "code",
      "metadata": {
        "id": "qpeEbJ86gSNI",
        "outputId": "03207861-9f60-4267-84bf-781039f614f1",
        "colab": {
          "base_uri": "https://localhost:8080/",
          "height": 186
        }
      },
      "source": [
        "del l\n",
        "l"
      ],
      "execution_count": null,
      "outputs": [
        {
          "output_type": "error",
          "ename": "NameError",
          "evalue": "ignored",
          "traceback": [
            "\u001b[0;31m---------------------------------------------------------------------------\u001b[0m",
            "\u001b[0;31mNameError\u001b[0m                                 Traceback (most recent call last)",
            "\u001b[0;32m<ipython-input-12-5aaa9a186d4b>\u001b[0m in \u001b[0;36m<module>\u001b[0;34m()\u001b[0m\n\u001b[1;32m      1\u001b[0m \u001b[0;32mdel\u001b[0m \u001b[0ml\u001b[0m\u001b[0;34m\u001b[0m\u001b[0;34m\u001b[0m\u001b[0m\n\u001b[0;32m----> 2\u001b[0;31m \u001b[0ml\u001b[0m\u001b[0;34m\u001b[0m\u001b[0;34m\u001b[0m\u001b[0m\n\u001b[0m",
            "\u001b[0;31mNameError\u001b[0m: name 'l' is not defined"
          ]
        }
      ]
    },
    {
      "cell_type": "code",
      "metadata": {
        "id": "Ff9ySWPPhS4h",
        "outputId": "16dfade3-b8c6-4d12-9739-5ceb84a3b585",
        "colab": {
          "base_uri": "https://localhost:8080/",
          "height": 35
        }
      },
      "source": [
        "s=\"aaaaaaaaaaaaaaxxxxyyyyyyyzzzzzzzzzzzzzz\"\n",
        "print(s.count(max(s)))\n"
      ],
      "execution_count": null,
      "outputs": [
        {
          "output_type": "stream",
          "text": [
            "14\n"
          ],
          "name": "stdout"
        }
      ]
    },
    {
      "cell_type": "code",
      "metadata": {
        "id": "XOsRz50BjwgZ",
        "outputId": "3a2ccc74-cd70-4a5c-cfe6-a86577743d2f",
        "colab": {
          "base_uri": "https://localhost:8080/",
          "height": 35
        }
      },
      "source": [
        "\n",
        "s=\"Aaaaaaabbbbdaaaddddd\"\n",
        "max_char=\" \"\n",
        "max_count=0\n",
        "for char in set(s):\n",
        "  char_count=s.count(char)\n",
        "  \n",
        "  if char_count>max_count:\n",
        "    max_count=char_count\n",
        "    max_char=char\n",
        "\n",
        "print(max_char,max_count)"
      ],
      "execution_count": null,
      "outputs": [
        {
          "output_type": "stream",
          "text": [
            "a 9\n"
          ],
          "name": "stdout"
        }
      ]
    },
    {
      "cell_type": "code",
      "metadata": {
        "id": "k5i_S6CEmwsm",
        "outputId": "e1783144-0c21-4de6-b0d2-ebb99d3e2613",
        "colab": {
          "base_uri": "https://localhost:8080/",
          "height": 35
        }
      },
      "source": [
        "\n",
        "s=\"Aaaaaaabbbbdaaaddddd\"\n",
        "max_char=\" \"\n",
        "max_count=0\n",
        "l=[]\n",
        "for char in s:\n",
        "  if char not in l:\n",
        "    l.append(char)\n",
        "    char_count=s.count(char)\n",
        "  \n",
        "    if char_count>max_count:\n",
        "       max_count=char_count\n",
        "       max_char=char\n",
        "\n",
        "print(max_char,max_count)"
      ],
      "execution_count": null,
      "outputs": [
        {
          "output_type": "stream",
          "text": [
            "a 9\n"
          ],
          "name": "stdout"
        }
      ]
    },
    {
      "cell_type": "code",
      "metadata": {
        "id": "N-4hkbRqnkJE",
        "outputId": "a2e22117-b744-46f0-bf93-ad95f4694e5f",
        "colab": {
          "base_uri": "https://localhost:8080/",
          "height": 204
        }
      },
      "source": [
        "l=[10,20,30]\n",
        "print(l.index(200))\n",
        "#different from out of range error in string . This is \"not in list\" error."
      ],
      "execution_count": 1,
      "outputs": [
        {
          "output_type": "error",
          "ename": "ValueError",
          "evalue": "ignored",
          "traceback": [
            "\u001b[0;31m---------------------------------------------------------------------------\u001b[0m",
            "\u001b[0;31mValueError\u001b[0m                                Traceback (most recent call last)",
            "\u001b[0;32m<ipython-input-1-96ef6454e4c4>\u001b[0m in \u001b[0;36m<module>\u001b[0;34m()\u001b[0m\n\u001b[1;32m      1\u001b[0m \u001b[0ml\u001b[0m\u001b[0;34m=\u001b[0m\u001b[0;34m[\u001b[0m\u001b[0;36m10\u001b[0m\u001b[0;34m,\u001b[0m\u001b[0;36m20\u001b[0m\u001b[0;34m,\u001b[0m\u001b[0;36m30\u001b[0m\u001b[0;34m]\u001b[0m\u001b[0;34m\u001b[0m\u001b[0;34m\u001b[0m\u001b[0m\n\u001b[0;32m----> 2\u001b[0;31m \u001b[0mprint\u001b[0m\u001b[0;34m(\u001b[0m\u001b[0ml\u001b[0m\u001b[0;34m.\u001b[0m\u001b[0mindex\u001b[0m\u001b[0;34m(\u001b[0m\u001b[0;36m200\u001b[0m\u001b[0;34m)\u001b[0m\u001b[0;34m)\u001b[0m\u001b[0;34m\u001b[0m\u001b[0;34m\u001b[0m\u001b[0m\n\u001b[0m\u001b[1;32m      3\u001b[0m \u001b[0;31m#different from out of range error in string . This is \"not in list\" error.\u001b[0m\u001b[0;34m\u001b[0m\u001b[0;34m\u001b[0m\u001b[0;34m\u001b[0m\u001b[0m\n",
            "\u001b[0;31mValueError\u001b[0m: 200 is not in list"
          ]
        }
      ]
    },
    {
      "cell_type": "code",
      "metadata": {
        "id": "vnl-k3gOooZQ",
        "outputId": "b18ec735-55d7-40bf-92e0-e304f7d9be9b",
        "colab": {
          "base_uri": "https://localhost:8080/",
          "height": 35
        }
      },
      "source": [
        "#shallow copy\n",
        "l1=[10,20,30]\n",
        "l2=l1\n",
        "l2.append(40)\n",
        "print(l1)"
      ],
      "execution_count": null,
      "outputs": [
        {
          "output_type": "stream",
          "text": [
            "[10, 20, 30, 40]\n"
          ],
          "name": "stdout"
        }
      ]
    },
    {
      "cell_type": "code",
      "metadata": {
        "id": "mIooM3Tso3eY",
        "outputId": "9e8c97bc-ae09-4250-bd9c-e2ac97a28631",
        "colab": {
          "base_uri": "https://localhost:8080/",
          "height": 35
        }
      },
      "source": [
        "#deep copy\n",
        "l1=[10,20,30]\n",
        "l2=l1.copy()\n",
        "l1.append(40)\n",
        "print(l2)"
      ],
      "execution_count": null,
      "outputs": [
        {
          "output_type": "stream",
          "text": [
            "[10, 20, 30]\n"
          ],
          "name": "stdout"
        }
      ]
    },
    {
      "cell_type": "markdown",
      "metadata": {
        "id": "h5dbXInqrMns"
      },
      "source": [
        "-TUPLE\n",
        "   -()\n",
        "   -immutable => no methods to modify etc\n",
        "   -ordered => indexing and slicing\n",
        "   "
      ]
    },
    {
      "cell_type": "code",
      "metadata": {
        "id": "R0Qt-wXOryVG",
        "outputId": "d56a8de2-78f6-4257-835f-cc29def45ba8",
        "colab": {
          "base_uri": "https://localhost:8080/",
          "height": 53
        }
      },
      "source": [
        "t=(10) #non-iterable\n",
        "t1=(10,)\n",
        "print(type(t))\n",
        "print(type(t1))"
      ],
      "execution_count": null,
      "outputs": [
        {
          "output_type": "stream",
          "text": [
            "<class 'int'>\n",
            "<class 'tuple'>\n"
          ],
          "name": "stdout"
        }
      ]
    },
    {
      "cell_type": "code",
      "metadata": {
        "id": "Od_ayP9LsMtL",
        "outputId": "f3896ce4-d4cc-44c1-a1f3-81cf76bf57b3",
        "colab": {
          "base_uri": "https://localhost:8080/",
          "height": 142
        }
      },
      "source": [
        "value=100,200,300\n",
        "print(value)\n",
        "#treated as tuple\n",
        "\n",
        "for t in enumerate ([10,20,30]):\n",
        "    print(t)\n",
        "    #reason being that index values should not be interchangeable\n",
        "\n",
        "for index,value in enumerate ([10,20,30]):\n",
        "    print(index,value)   "
      ],
      "execution_count": null,
      "outputs": [
        {
          "output_type": "stream",
          "text": [
            "(100, 200, 300)\n",
            "(0, 10)\n",
            "(1, 20)\n",
            "(2, 30)\n",
            "0 10\n",
            "1 20\n",
            "2 30\n"
          ],
          "name": "stdout"
        }
      ]
    },
    {
      "cell_type": "code",
      "metadata": {
        "id": "OTFO9Sl3tIgM",
        "outputId": "bdd559ae-7891-4706-9bd7-4c0d7eb4dae7",
        "colab": {
          "base_uri": "https://localhost:8080/",
          "height": 71
        }
      },
      "source": [
        "t=(10,20,30,40,[10,20,30],\"python\")\n",
        "print(id(t))\n",
        "t[4].append(40)\n",
        "print(id(t))\n",
        "print(t)\n",
        "#here tuple didn't understand that we modified at same memory location\n",
        "#we are actually storing references in here and if we can modify the ref as element stored there is itself mutable"
      ],
      "execution_count": null,
      "outputs": [
        {
          "output_type": "stream",
          "text": [
            "140177343633448\n",
            "140177343633448\n",
            "(10, 20, 30, 40, [10, 20, 30, 40], 'python')\n"
          ],
          "name": "stdout"
        }
      ]
    },
    {
      "cell_type": "code",
      "metadata": {
        "id": "jd8pZOdOsWRu",
        "outputId": "c9d81b50-5405-4401-80d8-8dd37fa54c42",
        "colab": {
          "base_uri": "https://localhost:8080/",
          "height": 53
        }
      },
      "source": [
        "l=[10,20,30]\n",
        "t=tuple(l)\n",
        "print(t)\n",
        "l2=list(t)\n",
        "print(l2)"
      ],
      "execution_count": null,
      "outputs": [
        {
          "output_type": "stream",
          "text": [
            "(10, 20, 30)\n",
            "[10, 20, 30]\n"
          ],
          "name": "stdout"
        }
      ]
    },
    {
      "cell_type": "code",
      "metadata": {
        "id": "x4fK-PFEvT_4"
      },
      "source": [
        "DICT:\n",
        "    -Searching the element by an id\n",
        "    -uses hashing mechanism (A hash function over keys which gives a Hash ID)\n",
        "      1.hash(\"name\") => hash id \n",
        "    -mutable =. Add/Update/Delete\n",
        "    -unordered* => ordered not as per index but hash value, doesn't support indexing/slicing\n",
        "    -keys should be immutable => str, tuple ,int, float, else error\n",
        "    -All keys should be unique\n",
        "    -values are mutable\n",
        "    -fetch value from key but not opp.\n"
      ],
      "execution_count": null,
      "outputs": []
    },
    {
      "cell_type": "code",
      "metadata": {
        "id": "lCo1_nb1wtJ-",
        "outputId": "5d02402d-e4eb-49e2-fdf7-acaa92f85c3b",
        "colab": {
          "base_uri": "https://localhost:8080/",
          "height": 124
        }
      },
      "source": [
        "d={\"name\":\"abc\",\"mail\":\"a@xyz\"}\n",
        "print(d.get(\"age\"))\n",
        "print(d)\n",
        "#print(d[\"age\"])\n",
        "print(d.setdefault(\"contact\",-1))\n",
        "print(d)\n",
        "print(d.setdefault(\"mail\",-1))\n",
        "print(d)"
      ],
      "execution_count": null,
      "outputs": [
        {
          "output_type": "stream",
          "text": [
            "None\n",
            "{'name': 'abc', 'mail': 'a@xyz'}\n",
            "-1\n",
            "{'name': 'abc', 'mail': 'a@xyz', 'contact': -1}\n",
            "a@xyz\n",
            "{'name': 'abc', 'mail': 'a@xyz', 'contact': -1}\n"
          ],
          "name": "stdout"
        }
      ]
    },
    {
      "cell_type": "code",
      "metadata": {
        "id": "rzUPPwN9lKv6",
        "outputId": "a74d20cb-a184-4c65-90a9-a2aab5588f28",
        "colab": {
          "base_uri": "https://localhost:8080/",
          "height": 71
        }
      },
      "source": [
        "import sys\n",
        "l=[]\n",
        "t=()\n",
        "d={}\n",
        "print(sys.getsizeof(l))\n",
        "print(sys.getsizeof(t))\n",
        "print(sys.getsizeof(d))"
      ],
      "execution_count": null,
      "outputs": [
        {
          "output_type": "stream",
          "text": [
            "64\n",
            "48\n",
            "240\n"
          ],
          "name": "stdout"
        }
      ]
    },
    {
      "cell_type": "code",
      "metadata": {
        "id": "7i_li4Djlljn",
        "outputId": "4a84dbab-4708-4162-bb85-48bb2364aa21",
        "colab": {
          "base_uri": "https://localhost:8080/",
          "height": 55
        }
      },
      "source": [
        "d={}\n",
        "for i in range(ord(\"a\"),ord(\"z\")):\n",
        "  d[chr(i)]=i\n",
        "print(d)\n"
      ],
      "execution_count": null,
      "outputs": [
        {
          "output_type": "stream",
          "text": [
            "{'a': 97, 'b': 98, 'c': 99, 'd': 100, 'e': 101, 'f': 102, 'g': 103, 'h': 104, 'i': 105, 'j': 106, 'k': 107, 'l': 108, 'm': 109, 'n': 110, 'o': 111, 'p': 112, 'q': 113, 'r': 114, 's': 115, 't': 116, 'u': 117, 'v': 118, 'w': 119, 'x': 120, 'y': 121}\n"
          ],
          "name": "stdout"
        }
      ]
    },
    {
      "cell_type": "code",
      "metadata": {
        "id": "F888kcs1t8Zj",
        "outputId": "8d3e0652-836a-44e4-9553-8868595fafaa",
        "colab": {
          "base_uri": "https://localhost:8080/",
          "height": 35
        }
      },
      "source": [
        "d={}\n",
        "for i in range (1,92,10):\n",
        "  d[(i,i+9)]=0\n",
        "print(d)"
      ],
      "execution_count": null,
      "outputs": [
        {
          "output_type": "stream",
          "text": [
            "{(1, 10): 0, (11, 20): 0, (21, 30): 0, (31, 40): 0, (41, 50): 0, (51, 60): 0, (61, 70): 0, (71, 80): 0, (81, 90): 0, (91, 100): 0}\n"
          ],
          "name": "stdout"
        }
      ]
    },
    {
      "cell_type": "code",
      "metadata": {
        "id": "4ST_OEuoxsy2",
        "outputId": "5af97c8c-4c41-44f8-af00-47c782155e56",
        "colab": {
          "base_uri": "https://localhost:8080/",
          "height": 1000
        }
      },
      "source": [
        "num=45\n",
        "\n",
        "l=[15,20,25,34]\n",
        "\n",
        "for num in l:\n",
        "    for key in d:\n",
        "       print(key)\n",
        "       print(key[0])\n",
        "    if num >= key [0]and num <= key[1]:\n",
        "       d[key]+=1\n",
        "print(d)"
      ],
      "execution_count": null,
      "outputs": [
        {
          "output_type": "stream",
          "text": [
            "(1, 10)\n",
            "1\n",
            "(11, 20)\n",
            "11\n",
            "(21, 30)\n",
            "21\n",
            "(31, 40)\n",
            "31\n",
            "(41, 50)\n",
            "41\n",
            "(51, 60)\n",
            "51\n",
            "(61, 70)\n",
            "61\n",
            "(71, 80)\n",
            "71\n",
            "(81, 90)\n",
            "81\n",
            "(91, 100)\n",
            "91\n",
            "(1, 10)\n",
            "1\n",
            "(11, 20)\n",
            "11\n",
            "(21, 30)\n",
            "21\n",
            "(31, 40)\n",
            "31\n",
            "(41, 50)\n",
            "41\n",
            "(51, 60)\n",
            "51\n",
            "(61, 70)\n",
            "61\n",
            "(71, 80)\n",
            "71\n",
            "(81, 90)\n",
            "81\n",
            "(91, 100)\n",
            "91\n",
            "(1, 10)\n",
            "1\n",
            "(11, 20)\n",
            "11\n",
            "(21, 30)\n",
            "21\n",
            "(31, 40)\n",
            "31\n",
            "(41, 50)\n",
            "41\n",
            "(51, 60)\n",
            "51\n",
            "(61, 70)\n",
            "61\n",
            "(71, 80)\n",
            "71\n",
            "(81, 90)\n",
            "81\n",
            "(91, 100)\n",
            "91\n",
            "(1, 10)\n",
            "1\n",
            "(11, 20)\n",
            "11\n",
            "(21, 30)\n",
            "21\n",
            "(31, 40)\n",
            "31\n",
            "(41, 50)\n",
            "41\n",
            "(51, 60)\n",
            "51\n",
            "(61, 70)\n",
            "61\n",
            "(71, 80)\n",
            "71\n",
            "(81, 90)\n",
            "81\n",
            "(91, 100)\n",
            "91\n",
            "{(1, 10): 0, (11, 20): 0, (21, 30): 0, (31, 40): 0, (41, 50): 1, (51, 60): 0, (61, 70): 0, (71, 80): 0, (81, 90): 0, (91, 100): 0}\n"
          ],
          "name": "stdout"
        }
      ]
    },
    {
      "cell_type": "code",
      "metadata": {
        "id": "SEDmb5v50dHq",
        "outputId": "3b5701b7-5f5d-436f-ebd8-9f85591cd720",
        "colab": {
          "base_uri": "https://localhost:8080/",
          "height": 88
        }
      },
      "source": [
        "d={1:2,2:4,3:9,4:16}\n",
        "# for x in d.items():\n",
        "#   print(k,v)\n",
        "for k,v in d.items():\n",
        "  print(k,v)"
      ],
      "execution_count": 3,
      "outputs": [
        {
          "output_type": "stream",
          "text": [
            "1 2\n",
            "2 4\n",
            "3 9\n",
            "4 16\n"
          ],
          "name": "stdout"
        }
      ]
    },
    {
      "cell_type": "code",
      "metadata": {
        "id": "jjirlZqp1GB7",
        "outputId": "f8a49e43-a273-4c9a-9e09-3ed3fb30c70c",
        "colab": {
          "base_uri": "https://localhost:8080/",
          "height": 35
        }
      },
      "source": [
        "r=d.pop(2)\n",
        "print(d,r)\n"
      ],
      "execution_count": 4,
      "outputs": [
        {
          "output_type": "stream",
          "text": [
            "{1: 2, 3: 9, 4: 16} 4\n"
          ],
          "name": "stdout"
        }
      ]
    },
    {
      "cell_type": "code",
      "metadata": {
        "id": "jkTacVpb2xg6",
        "outputId": "fb295853-9a39-41d3-8712-dd9747dc4659",
        "colab": {
          "base_uri": "https://localhost:8080/",
          "height": 35
        }
      },
      "source": [
        "s=d.popitem()\n",
        "print(d,s)\n",
        "#no clear def before 3.6"
      ],
      "execution_count": 5,
      "outputs": [
        {
          "output_type": "stream",
          "text": [
            "{1: 2, 3: 9} (4, 16)\n"
          ],
          "name": "stdout"
        }
      ]
    },
    {
      "cell_type": "code",
      "metadata": {
        "id": "nY1dk3sb22eZ",
        "outputId": "6e64e758-d221-4742-a295-703e38bfb75b",
        "colab": {
          "base_uri": "https://localhost:8080/",
          "height": 35
        }
      },
      "source": [
        "l1=[1,2,3,4,5]\n",
        "l2=[1,4,9,16,25]\n",
        "l1=tuple(l1)\n",
        "d=dict(zip(l1,l2))\n",
        "print(d)"
      ],
      "execution_count": null,
      "outputs": [
        {
          "output_type": "stream",
          "text": [
            "{1: 1, 2: 4, 3: 9, 4: 16, 5: 25}\n"
          ],
          "name": "stdout"
        }
      ]
    },
    {
      "cell_type": "code",
      "metadata": {
        "id": "tHtkYYL82UR8",
        "outputId": "0156da9b-9499-474a-f068-f94193e14915",
        "colab": {
          "base_uri": "https://localhost:8080/",
          "height": 35
        }
      },
      "source": [
        "l=[10,20,30,40]\n",
        "d=dict.fromkeys(l,0)\n",
        "print(d)"
      ],
      "execution_count": null,
      "outputs": [
        {
          "output_type": "stream",
          "text": [
            "{10: 0, 20: 0, 30: 0, 40: 0}\n"
          ],
          "name": "stdout"
        }
      ]
    },
    {
      "cell_type": "markdown",
      "metadata": {
        "id": "pLgfRSb65FYJ"
      },
      "source": [
        "SETS:\n",
        "    -{1:none, 2:none, 3:none}/unordered\n",
        "    -all elements should be immutable-int, float, str, tuple\n",
        "    -mutable\n",
        "    -no indexing slicing"
      ]
    },
    {
      "cell_type": "code",
      "metadata": {
        "id": "Lt7pHmru8znM",
        "outputId": "93ec9570-8af3-45cc-9873-22b2f441dd3e",
        "colab": {
          "base_uri": "https://localhost:8080/",
          "height": 204
        }
      },
      "source": [
        "s1={1,2,3,4,5,6}\n",
        "s1.remove(400)\n",
        "print(s1)"
      ],
      "execution_count": null,
      "outputs": [
        {
          "output_type": "error",
          "ename": "KeyError",
          "evalue": "ignored",
          "traceback": [
            "\u001b[0;31m---------------------------------------------------------------------------\u001b[0m",
            "\u001b[0;31mKeyError\u001b[0m                                  Traceback (most recent call last)",
            "\u001b[0;32m<ipython-input-37-3528f9413406>\u001b[0m in \u001b[0;36m<module>\u001b[0;34m()\u001b[0m\n\u001b[1;32m      1\u001b[0m \u001b[0ms1\u001b[0m\u001b[0;34m=\u001b[0m\u001b[0;34m{\u001b[0m\u001b[0;36m1\u001b[0m\u001b[0;34m,\u001b[0m\u001b[0;36m2\u001b[0m\u001b[0;34m,\u001b[0m\u001b[0;36m3\u001b[0m\u001b[0;34m,\u001b[0m\u001b[0;36m4\u001b[0m\u001b[0;34m,\u001b[0m\u001b[0;36m5\u001b[0m\u001b[0;34m,\u001b[0m\u001b[0;36m6\u001b[0m\u001b[0;34m}\u001b[0m\u001b[0;34m\u001b[0m\u001b[0;34m\u001b[0m\u001b[0m\n\u001b[0;32m----> 2\u001b[0;31m \u001b[0ms1\u001b[0m\u001b[0;34m.\u001b[0m\u001b[0mremove\u001b[0m\u001b[0;34m(\u001b[0m\u001b[0;36m400\u001b[0m\u001b[0;34m)\u001b[0m\u001b[0;34m\u001b[0m\u001b[0;34m\u001b[0m\u001b[0m\n\u001b[0m\u001b[1;32m      3\u001b[0m \u001b[0mprint\u001b[0m\u001b[0;34m(\u001b[0m\u001b[0ms1\u001b[0m\u001b[0;34m)\u001b[0m\u001b[0;34m\u001b[0m\u001b[0;34m\u001b[0m\u001b[0m\n",
            "\u001b[0;31mKeyError\u001b[0m: 400"
          ]
        }
      ]
    },
    {
      "cell_type": "code",
      "metadata": {
        "id": "veliPaYS8-za",
        "outputId": "3628d6fb-3f25-4385-e594-e6f7ba136672",
        "colab": {
          "base_uri": "https://localhost:8080/",
          "height": 35
        }
      },
      "source": [
        "s1={1,2,3,4,5,6}\n",
        "s1.discard(400)\n",
        "print(s1)"
      ],
      "execution_count": 7,
      "outputs": [
        {
          "output_type": "stream",
          "text": [
            "{1, 2, 3, 4, 5, 6}\n"
          ],
          "name": "stdout"
        }
      ]
    },
    {
      "cell_type": "code",
      "metadata": {
        "id": "O1PTDk6q9M6O",
        "outputId": "3ccf74a9-0cbf-4904-ce84-5db12e2790a8",
        "colab": {
          "base_uri": "https://localhost:8080/",
          "height": 35
        }
      },
      "source": [
        "s2={2,4,5,9}\n",
        "s1.update(s2)\n",
        "print(s1)"
      ],
      "execution_count": 8,
      "outputs": [
        {
          "output_type": "stream",
          "text": [
            "{1, 2, 3, 4, 5, 6, 9}\n"
          ],
          "name": "stdout"
        }
      ]
    }
  ]
}